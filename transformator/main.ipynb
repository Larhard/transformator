{
 "cells": [
  {
   "cell_type": "code",
   "execution_count": 1,
   "outputs": [],
   "source": [
    "%load_ext autoreload"
   ],
   "metadata": {
    "collapsed": false,
    "pycharm": {
     "name": "#%%\n"
    }
   }
  },
  {
   "cell_type": "code",
   "execution_count": 2,
   "outputs": [],
   "source": [
    "%autoreload 2"
   ],
   "metadata": {
    "collapsed": false,
    "pycharm": {
     "name": "#%%\n"
    }
   }
  },
  {
   "cell_type": "code",
   "execution_count": 3,
   "outputs": [],
   "source": [
    "from transformator.context import Context\n",
    "from transformator.lambda_tree import LambdaTree"
   ],
   "metadata": {
    "collapsed": false,
    "pycharm": {
     "name": "#%%\n"
    }
   }
  },
  {
   "cell_type": "code",
   "execution_count": 47,
   "outputs": [],
   "source": [
    "PROBLEM_N = 6\n",
    "# PROBLEM_N = 5\n",
    "# PROBLEM_N = 4\n",
    "REMOVE_POINTERS = False"
   ],
   "metadata": {
    "collapsed": false,
    "pycharm": {
     "name": "#%%\n"
    }
   }
  },
  {
   "cell_type": "code",
   "execution_count": 48,
   "outputs": [],
   "source": [
    "c = Context()"
   ],
   "metadata": {
    "collapsed": false,
    "pycharm": {
     "name": "#%%\n"
    }
   }
  },
  {
   "cell_type": "code",
   "execution_count": 49,
   "outputs": [],
   "source": [
    "c.ns = list(range(PROBLEM_N-4, PROBLEM_N+1))\n",
    "c.class_constructor = lambda n: LambdaTree.generate(n)"
   ],
   "metadata": {
    "collapsed": false,
    "pycharm": {
     "name": "#%%\n"
    }
   }
  },
  {
   "cell_type": "code",
   "execution_count": 50,
   "outputs": [],
   "source": [
    "c.section_expressions = [\n",
    "    [\n",
    "        (\"n * Cn\", \"llss\"),\n",
    "    ],\n",
    "    [\n",
    "        (\"2 * (2 * n + 1) * Cn\", \"aosu\"),\n",
    "        (\"- (2 * n) * Cn\", \"lls\"),\n",
    "        (\"- (2 * n + 1) * Cn\", \"lss\"),\n",
    "    ],\n",
    "    [\n",
    "        (\"- (4 * n) * Cn\", \"aou\"),\n",
    "        (\"(n) * Cn\", \"ll\"),\n",
    "        (\"(4 * n + 2) * Cn\", \"ls\"),\n",
    "        (\"(n + 1) * Cn\", \"ss\"),\n",
    "    ],\n",
    "    [\n",
    "        (\"- (2 * n + 1) * Cn\", \"l\"),\n",
    "        (\"- 2 * (n + 1) * Cn\", \"s\"),\n",
    "    ],\n",
    "    [\n",
    "        (\"(n + 1) * Cn\", \"\"),\n",
    "    ],\n",
    "]"
   ],
   "metadata": {
    "collapsed": false,
    "pycharm": {
     "name": "#%%\n"
    }
   }
  },
  {
   "cell_type": "code",
   "execution_count": 51,
   "outputs": [
    {
     "data": {
      "text/plain": "[[4], [56, -24, -28], [-144, 36, 162, 45], [-242, -264], [399]]"
     },
     "execution_count": 51,
     "metadata": {},
     "output_type": "execute_result"
    }
   ],
   "source": [
    "c.section_counts"
   ],
   "metadata": {
    "collapsed": false,
    "pycharm": {
     "name": "#%%\n"
    }
   }
  },
  {
   "cell_type": "code",
   "execution_count": 52,
   "outputs": [
    {
     "data": {
      "text/plain": "[4, 4, 99, -506, 399]"
     },
     "execution_count": 52,
     "metadata": {},
     "output_type": "execute_result"
    }
   ],
   "source": [
    "c.classes_counts"
   ],
   "metadata": {
    "collapsed": false,
    "pycharm": {
     "name": "#%%\n"
    }
   }
  },
  {
   "cell_type": "code",
   "execution_count": 53,
   "outputs": [
    {
     "data": {
      "text/plain": "0"
     },
     "execution_count": 53,
     "metadata": {},
     "output_type": "execute_result"
    }
   ],
   "source": [
    "sum(c.classes_counts)"
   ],
   "metadata": {
    "collapsed": false,
    "pycharm": {
     "name": "#%%\n"
    }
   }
  },
  {
   "cell_type": "code",
   "execution_count": 54,
   "outputs": [],
   "source": [
    "c.clear_all_classes()"
   ],
   "metadata": {
    "collapsed": false,
    "pycharm": {
     "name": "#%%\n"
    }
   }
  },
  {
   "cell_type": "code",
   "execution_count": 55,
   "outputs": [
    {
     "name": "stdout",
     "output_type": "stream",
     "text": [
      "# define 4,0: (n + 1) * Cn []\n",
      "=== Classes stats ===\n",
      "[ ]  0,0:     0 of     4 | n * Cn                    [llss]\n",
      "[ ]  1,0:     0 of    56 | 2 * (2 * n + 1) * Cn      [aosu]\n",
      "[ ]  1,1:     0 of   -24 | - (2 * n) * Cn            [lls]\n",
      "[ ]  1,2:     0 of   -28 | - (2 * n + 1) * Cn        [lss]\n",
      "[ ]  2,0:     0 of  -144 | - (4 * n) * Cn            [aou]\n",
      "[ ]  2,1:     0 of    36 | (n) * Cn                  [ll]\n",
      "[ ]  2,2:     0 of   162 | (4 * n + 2) * Cn          [ls]\n",
      "[ ]  2,3:     0 of    45 | (n + 1) * Cn              [ss]\n",
      "[ ]  3,0:     0 of  -242 | - (2 * n + 1) * Cn        [l]\n",
      "[ ]  3,1:     0 of  -264 | - 2 * (n + 1) * Cn        [s]\n",
      "[x]  4,0:   399 of   399 | (n + 1) * Cn              []\n",
      "=== Diff stats ===\n",
      "4,0:     0   399\n"
     ]
    }
   ],
   "source": [
    "c.define_class(4)\n",
    "\n",
    "c.define_section(0)\n",
    "\n",
    "c.append_r_class_subtree_visitor(1,\n",
    "    lambda kind, left, right:\n",
    "        None if kind[0] is not None else\n",
    "        [kind + (\"*\", )] + left + right\n",
    ")\n",
    "\n",
    "c.print_stats()"
   ],
   "metadata": {
    "collapsed": false,
    "pycharm": {
     "name": "#%%\n"
    }
   }
  },
  {
   "cell_type": "code",
   "execution_count": 56,
   "outputs": [
    {
     "name": "stdout",
     "output_type": "stream",
     "text": [
      "# define 3,0: - (2 * n + 1) * Cn [l]\n",
      "# define 3,1: - 2 * (n + 1) * Cn [s]\n",
      "=== Classes stats ===\n",
      "[ ]  0,0:     0 of     4 | n * Cn                    [llss]\n",
      "[ ]  1,0:     0 of    56 | 2 * (2 * n + 1) * Cn      [aosu]\n",
      "[ ]  1,1:     0 of   -24 | - (2 * n) * Cn            [lls]\n",
      "[ ]  1,2:     0 of   -28 | - (2 * n + 1) * Cn        [lss]\n",
      "[ ]  2,0:     0 of  -144 | - (4 * n) * Cn            [aou]\n",
      "[ ]  2,1:     0 of    36 | (n) * Cn                  [ll]\n",
      "[ ]  2,2:     0 of   162 | (4 * n + 2) * Cn          [ls]\n",
      "[ ]  2,3:     0 of    45 | (n + 1) * Cn              [ss]\n",
      "[x]  3,0:  -242 of  -242 | - (2 * n + 1) * Cn        [l]\n",
      "[ ]  3,1:  -195 of  -264 | - 2 * (n + 1) * Cn        [s]\n",
      "[x]  4,0:   399 of   399 | (n + 1) * Cn              []\n",
      "=== Diff stats ===\n",
      "3,0:    86     0\n",
      "3,1:    64     0\n",
      "4,0:     0   112\n"
     ]
    }
   ],
   "source": [
    "c.define_class(3)\n",
    "\n",
    "c.define_section(0)\n",
    "\n",
    "c.append_r_class_subtree_visitor(-1,\n",
    "    lambda kind, left, right:\n",
    "        None if kind[0] is None else\n",
    "        [\"l\", kind] + left + right + [(None, \"*\")]\n",
    ")\n",
    "\n",
    "c.append_r_class_right_parent_subtree_visitor(-1,\n",
    "    lambda kind, parent_kind, left, right:\n",
    "        None if kind[0] is not None else\n",
    "        [\"l\", parent_kind] + [left[0] + (\"*\",)] + left[1:] + right + [None]\n",
    ")\n",
    "\n",
    "c.append_r_class_left_parent_subtree_visitor(-1,\n",
    "    lambda kind, parent_kind, left, right:\n",
    "        None if kind[0] is not None else\n",
    "        [\"l\", parent_kind] + left + [right[0] + (\"*\",)] + right[1:] + [None]\n",
    ")\n",
    "\n",
    "c.define_section(1)\n",
    "\n",
    "c.append_r_class_left_parent_subtree_visitor(-1,\n",
    "    lambda kind, parent_kind, left, right:\n",
    "        None if kind[0] is not None else\n",
    "        [\"s\", None, parent_kind] + left + [right[0] + (\"*\",)] + right[1:]\n",
    ")\n",
    "\n",
    "c.append_r_class_right_parent_subtree_visitor(-1,\n",
    "    lambda kind, parent_kind, left, right:\n",
    "        None if kind[0] is not None else\n",
    "        [\"s\", None, parent_kind] + [left[0] + (\"*\",)] + left[1:] + right\n",
    ")\n",
    "\n",
    "c.append_r_class_right_parent_subtree_visitor(-1,\n",
    "    lambda kind, parent_kind, left, right:\n",
    "        None if kind[0] is not None else\n",
    "        [\"s\", (None, \"*\"), parent_kind] + left + right\n",
    ")\n",
    "\n",
    "c.print_stats()"
   ],
   "metadata": {
    "collapsed": false,
    "pycharm": {
     "name": "#%%\n"
    }
   }
  },
  {
   "cell_type": "code",
   "execution_count": 57,
   "outputs": [
    {
     "name": "stdout",
     "output_type": "stream",
     "text": [
      "# define 2,0: - (4 * n) * Cn [aou]\n",
      "# define 2,1: (n) * Cn [ll]\n",
      "# define 2,2: (4 * n + 2) * Cn [ls]\n",
      "# define 2,3: (n + 1) * Cn [ss]\n",
      "=== Classes stats ===\n",
      "[ ]  0,0:     0 of     4 | n * Cn                    [llss]\n",
      "[ ]  1,0:     0 of    56 | 2 * (2 * n + 1) * Cn      [aosu]\n",
      "[ ]  1,1:     0 of   -24 | - (2 * n) * Cn            [lls]\n",
      "[ ]  1,2:     0 of   -28 | - (2 * n + 1) * Cn        [lss]\n",
      "[x]  2,0:  -144 of  -144 | - (4 * n) * Cn            [aou]\n",
      "[x]  2,1:    36 of    36 | (n) * Cn                  [ll]\n",
      "[ ]  2,2:   125 of   162 | (4 * n + 2) * Cn          [ls]\n",
      "[ ]  2,3:    22 of    45 | (n + 1) * Cn              [ss]\n",
      "[x]  3,0:  -242 of  -242 | - (2 * n + 1) * Cn        [l]\n",
      "[ ]  3,1:  -195 of  -264 | - 2 * (n + 1) * Cn        [s]\n",
      "[x]  4,0:   399 of   399 | (n + 1) * Cn              []\n",
      "=== Diff stats ===\n",
      "2,0:    32     0\n",
      "2,1:     0     8\n",
      "2,2:     0    25\n"
     ]
    }
   ],
   "source": [
    "c.define_class(2)\n",
    "\n",
    "c.define_section(0)\n",
    "\n",
    "c.append_r_class_subtree_visitor(-1,\n",
    "    lambda kind, left, right:\n",
    "        None if kind[0] is None else\n",
    "        [\"a\", \"o\", (None, \"*\"), None, kind] + left + right\n",
    ")\n",
    "\n",
    "c.append_r_class_subtree_visitor(-1,\n",
    "    lambda kind, left, right:\n",
    "        None if kind[0] is None else\n",
    "        [\"a\", \"o\", None, (None, \"*\"), kind] + left + right\n",
    ")\n",
    "\n",
    "c.append_r_class_subtree_visitor(-1,\n",
    "    lambda kind, left, right:\n",
    "        None if kind[0] is None else\n",
    "        [\"a\", kind] + left + right + [\"o\", (None, \"*\"), None]\n",
    ")\n",
    "\n",
    "c.append_r_class_subtree_visitor(-1,\n",
    "    lambda kind, left, right:\n",
    "        None if kind[0] is None else\n",
    "        [\"a\", kind] + left + right + [\"o\", None, (None, \"*\")]\n",
    ")\n",
    "\n",
    "c.define_section(1)\n",
    "\n",
    "c.append_r_class_subtree_visitor(1,\n",
    "    lambda kind, left, right:\n",
    "        None if kind[0] is None else\n",
    "        [\"l\", \"l\", kind] + left + right + [(None, \"*\"), None]\n",
    ")\n",
    "\n",
    "c.define_section(2)\n",
    "\n",
    "c.append_r_class_right_parent_subtree_visitor(1,\n",
    "    lambda kind, parent_kind, left, right:\n",
    "        None if kind[0] is not None else\n",
    "        [\"l\", \"s\", (None, \"*\"), parent_kind] + left + right + [None]\n",
    ")\n",
    "\n",
    "c.append_r_class_subtree_visitor(1,\n",
    "    lambda kind, left, right:\n",
    "        None if kind[0] is None else\n",
    "        [\"s\", None, \"l\", kind] + left + right + [(None, \"*\")]\n",
    ")\n",
    "\n",
    "c.append_r_class_right_parent_subtree_visitor(1,\n",
    "    lambda kind, parent_kind, left, right:\n",
    "        None if kind[0] is not None else\n",
    "        [\"s\", None, \"l\", parent_kind] + left + right + [(None, \"*\")]\n",
    ")\n",
    "\n",
    "c.append_r_class_right_parent_subtree_visitor(1,\n",
    "    lambda kind, parent_kind, left, right:\n",
    "        None if kind[0] is not None else\n",
    "        [\"s\", None, \"l\", parent_kind] + [left[0] + (\"*\", )] + left[1:] + right + [None]\n",
    ")\n",
    "\n",
    "c.append_r_class_left_parent_subtree_visitor(1,\n",
    "    lambda kind, parent_kind, left, right:\n",
    "        None if kind[0] is not None else\n",
    "        [\"s\", None, \"l\", parent_kind] + left + [right[0] + (\"*\", )] + right[1:] + [None]\n",
    ")\n",
    "\n",
    "c.define_section(3)\n",
    "\n",
    "c.append_r_class_right_parent_subtree_visitor(1,\n",
    "    lambda kind, parent_kind, left, right:\n",
    "        None if kind[0] is not None else\n",
    "        [\"s\", None, \"s\", (None, \"*\"), parent_kind] + left + right\n",
    ")\n",
    "\n",
    "c.print_stats()"
   ],
   "metadata": {
    "collapsed": false,
    "pycharm": {
     "name": "#%%\n"
    }
   }
  },
  {
   "cell_type": "code",
   "execution_count": 73,
   "outputs": [
    {
     "name": "stdout",
     "output_type": "stream",
     "text": [
      "# define 1,0: 2 * (2 * n + 1) * Cn [aosu]\n",
      "# define 1,1: - (2 * n) * Cn [lls]\n",
      "# define 1,2: - (2 * n + 1) * Cn [lss]\n",
      "=== Classes stats ===\n",
      "[ ]  0,0:     0 of     4 | n * Cn                    [llss]\n",
      "[ ]  1,0:     0 of    56 | 2 * (2 * n + 1) * Cn      [aosu]\n",
      "[ ]  1,1:   -20 of   -24 | - (2 * n) * Cn            [lls]\n",
      "[ ]  1,2:   -20 of   -28 | - (2 * n + 1) * Cn        [lss]\n",
      "[x]  2,0:  -144 of  -144 | - (4 * n) * Cn            [aou]\n",
      "[x]  2,1:    36 of    36 | (n) * Cn                  [ll]\n",
      "[ ]  2,2:   125 of   162 | (4 * n + 2) * Cn          [ls]\n",
      "[ ]  2,3:    22 of    45 | (n + 1) * Cn              [ss]\n",
      "[x]  3,0:  -242 of  -242 | - (2 * n + 1) * Cn        [l]\n",
      "[ ]  3,1:  -195 of  -264 | - 2 * (n + 1) * Cn        [s]\n",
      "[x]  4,0:   399 of   399 | (n + 1) * Cn              []\n",
      "=== Diff stats ===\n",
      "2,0:    32     0\n",
      "1,2:     4     0\n",
      "1,1:     3     0\n"
     ]
    }
   ],
   "source": [
    "c.define_class(1)\n",
    "\n",
    "c.define_section(0)\n",
    "\n",
    "c.define_section(1)\n",
    "\n",
    "c.append_r_class_right_parent_subtree_visitor(-1,\n",
    "    lambda kind, parent_kind, left, right:\n",
    "        None if kind[0] is not None else\n",
    "        [\"s\", None, \"l\", \"l\", parent_kind] + left + right + [(None, \"*\"), None]\n",
    ")\n",
    "\n",
    "c.append_r_class_right_parent_subtree_visitor(-1,\n",
    "    lambda kind, parent_kind, left, right:\n",
    "        [\"s\", None, \"l\", \"l\", parent_kind] + left + right + [(None, \"*\"), None]\n",
    ")\n",
    "\n",
    "\n",
    "c.define_section(2)\n",
    "\n",
    "c.append_r_class_right_parent_subtree_visitor(-1,\n",
    "    lambda kind, parent_kind, left, right:\n",
    "        None if kind[0] is not None else\n",
    "        [\"s\", None, \"s\", None, \"l\", parent_kind] + left + right + [(None, \"*\")]\n",
    ")\n",
    "\n",
    "c.append_r_class_left_parent_subtree_visitor(-1,\n",
    "    lambda kind, parent_kind, left, right:\n",
    "        [\"s\", None, \"l\", \"s\", (None, \"*\"), parent_kind] + left + right + [None]\n",
    ")\n",
    "\n",
    "c.print_stats()"
   ],
   "metadata": {
    "collapsed": false,
    "pycharm": {
     "name": "#%%\n"
    }
   }
  },
  {
   "cell_type": "code",
   "execution_count": 81,
   "outputs": [
    {
     "name": "stdout",
     "output_type": "stream",
     "text": [
      "# define 0,0: n * Cn [llss]\n",
      "=== Classes stats ===\n",
      "[ ]  0,0:     0 of     4 | n * Cn                    [llss]\n",
      "[ ]  1,0:     0 of    56 | 2 * (2 * n + 1) * Cn      [aosu]\n",
      "[ ]  1,1:   -20 of   -24 | - (2 * n) * Cn            [lls]\n",
      "[ ]  1,2:   -20 of   -28 | - (2 * n + 1) * Cn        [lss]\n",
      "[x]  2,0:  -144 of  -144 | - (4 * n) * Cn            [aou]\n",
      "[x]  2,1:    36 of    36 | (n) * Cn                  [ll]\n",
      "[ ]  2,2:   125 of   162 | (4 * n + 2) * Cn          [ls]\n",
      "[ ]  2,3:    22 of    45 | (n + 1) * Cn              [ss]\n",
      "[x]  3,0:  -242 of  -242 | - (2 * n + 1) * Cn        [l]\n",
      "[ ]  3,1:  -195 of  -264 | - 2 * (n + 1) * Cn        [s]\n",
      "[x]  4,0:   399 of   399 | (n + 1) * Cn              []\n",
      "=== Diff stats ===\n",
      "2,0:    32     0\n",
      "1,2:     4     0\n",
      "1,1:     3     0\n"
     ]
    }
   ],
   "source": [
    "c.define_class(0)\n",
    "\n",
    "c.define_section(0)\n",
    "\n",
    "\n",
    "c.print_stats()"
   ],
   "metadata": {
    "collapsed": false,
    "pycharm": {
     "name": "#%%\n"
    }
   }
  },
  {
   "cell_type": "code",
   "execution_count": 83,
   "outputs": [
    {
     "data": {
      "text/plain": "<IPython.core.display.HTML object>",
      "text/html": "=== Minus ==="
     },
     "metadata": {},
     "output_type": "display_data"
    },
    {
     "data": {
      "text/plain": "<IPython.core.display.HTML object>",
      "text/html": "=== Plus ==="
     },
     "metadata": {},
     "output_type": "display_data"
    }
   ],
   "source": [
    "c.display_diff_trees(2, 2)"
   ],
   "metadata": {
    "collapsed": false,
    "pycharm": {
     "name": "#%%\n"
    }
   }
  },
  {
   "cell_type": "code",
   "execution_count": 84,
   "outputs": [
    {
     "data": {
      "text/plain": "<IPython.core.display.HTML object>",
      "text/html": "1,2,-1: -1 * 12"
     },
     "metadata": {},
     "output_type": "display_data"
    },
    {
     "data": {
      "text/plain": "<IPython.core.display.HTML object>",
      "text/html": "<table style=\"border-style: hidden; border-collapse: collapse;\" width=\"100%\"><tr><td style=\"border-top:hidden;border-bottom:hidden;\"><div align=\"center\" style=\"\"><?xml version=\"1.0\" encoding=\"UTF-8\" standalone=\"no\"?>\n<!DOCTYPE svg PUBLIC \"-//W3C//DTD SVG 1.1//EN\"\n \"http://www.w3.org/Graphics/SVG/1.1/DTD/svg11.dtd\">\n<!-- Generated by graphviz version 2.44.1 (20200629.0846)\n -->\n<!-- Pages: 1 -->\n<svg width=\"108pt\" height=\"288pt\"\n viewBox=\"0.00 0.00 107.60 288.00\" xmlns=\"http://www.w3.org/2000/svg\" xmlns:xlink=\"http://www.w3.org/1999/xlink\">\n<g id=\"graph0\" class=\"graph\" transform=\"scale(0.63 0.63) rotate(0) translate(4 451)\">\n<polygon fill=\"white\" stroke=\"transparent\" points=\"-4,4 -4,-451 166,-451 166,4 -4,4\"/>\n<!-- 0 -->\n<g id=\"node1\" class=\"node\">\n<title>0</title>\n<text text-anchor=\"middle\" x=\"87\" y=\"-435.8\" font-family=\"Times,serif\" font-size=\"14.00\">s</text>\n</g>\n<!-- 1 -->\n<g id=\"node2\" class=\"node\">\n<title>1</title>\n</g>\n<!-- 0&#45;&#45;1 -->\n<g id=\"edge1\" class=\"edge\">\n<title>0&#45;&#45;1</title>\n<path fill=\"none\" stroke=\"lightgreen\" d=\"M84.36,-431.67C81.03,-423.07 75.2,-407.96 70.62,-396.13\"/>\n</g>\n<!-- 2 -->\n<g id=\"node3\" class=\"node\">\n<title>2</title>\n<text text-anchor=\"middle\" x=\"111\" y=\"-374.3\" font-family=\"Times,serif\" font-size=\"14.00\">l</text>\n</g>\n<!-- 0&#45;&#45;2 -->\n<g id=\"edge2\" class=\"edge\">\n<title>0&#45;&#45;2</title>\n<path fill=\"none\" stroke=\"black\" d=\"M89.75,-431.67C94.63,-419.59 104.67,-394.69 108.97,-384.02\"/>\n</g>\n<!-- 3 -->\n<g id=\"node4\" class=\"node\">\n<title>3</title>\n<text text-anchor=\"middle\" x=\"87\" y=\"-302.3\" font-family=\"Times,serif\" font-size=\"14.00\">s</text>\n</g>\n<!-- 2&#45;&#45;3 -->\n<g id=\"edge3\" class=\"edge\">\n<title>2&#45;&#45;3</title>\n<path fill=\"none\" stroke=\"black\" d=\"M108.95,-371.03C104.51,-358.07 94,-327.42 89.32,-313.77\"/>\n</g>\n<!-- 12 -->\n<g id=\"node13\" class=\"node\">\n<title>12</title>\n</g>\n<!-- 2&#45;&#45;12 -->\n<g id=\"edge12\" class=\"edge\">\n<title>2&#45;&#45;12</title>\n<path fill=\"none\" stroke=\"lightgreen\" d=\"M113.05,-371.03C116.56,-360.78 123.87,-339.47 129.09,-324.25\"/>\n</g>\n<!-- 4 -->\n<g id=\"node5\" class=\"node\">\n<title>4</title>\n<text text-anchor=\"middle\" x=\"64\" y=\"-230.3\" font-family=\"Times,serif\" font-size=\"14.00\">*</text>\n</g>\n<!-- 3&#45;&#45;4 -->\n<g id=\"edge4\" class=\"edge\">\n<title>3&#45;&#45;4</title>\n<path fill=\"none\" stroke=\"lightgreen\" d=\"M84.79,-298.29C81.33,-287.75 74.51,-266.99 69.62,-252.12\"/>\n</g>\n<!-- 5 -->\n<g id=\"node6\" class=\"node\">\n<title>5</title>\n<text text-anchor=\"middle\" x=\"111\" y=\"-230.3\" font-family=\"Times,serif\" font-size=\"14.00\">l</text>\n</g>\n<!-- 3&#45;&#45;5 -->\n<g id=\"edge5\" class=\"edge\">\n<title>3&#45;&#45;5</title>\n<path fill=\"none\" stroke=\"black\" d=\"M89.3,-298.29C93.95,-284.74 104.39,-254.29 108.88,-241.19\"/>\n</g>\n<!-- 6 -->\n<g id=\"node7\" class=\"node\">\n<title>6</title>\n<text text-anchor=\"middle\" x=\"87\" y=\"-158.3\" font-family=\"Times,serif\" font-size=\"14.00\">l</text>\n</g>\n<!-- 5&#45;&#45;6 -->\n<g id=\"edge6\" class=\"edge\">\n<title>5&#45;&#45;6</title>\n<path fill=\"none\" stroke=\"black\" d=\"M108.95,-227.03C104.42,-213.81 93.57,-182.16 89.04,-168.95\"/>\n</g>\n<!-- 11 -->\n<g id=\"node12\" class=\"node\">\n<title>11</title>\n</g>\n<!-- 5&#45;&#45;11 -->\n<g id=\"edge11\" class=\"edge\">\n<title>5&#45;&#45;11</title>\n<path fill=\"none\" stroke=\"lightgreen\" d=\"M113.12,-226.54C116.55,-216.12 123.41,-195.24 128.33,-180.26\"/>\n</g>\n<!-- 7 -->\n<g id=\"node8\" class=\"node\">\n<title>7</title>\n<text text-anchor=\"middle\" x=\"63\" y=\"-86.3\" font-family=\"Times,serif\" font-size=\"14.00\">o</text>\n</g>\n<!-- 6&#45;&#45;7 -->\n<g id=\"edge7\" class=\"edge\">\n<title>6&#45;&#45;7</title>\n<path fill=\"none\" stroke=\"black\" d=\"M84.95,-155.03C80.51,-142.07 70,-111.42 65.32,-97.77\"/>\n</g>\n<!-- 10 -->\n<g id=\"node11\" class=\"node\">\n<title>10</title>\n</g>\n<!-- 6&#45;&#45;10 -->\n<g id=\"edge10\" class=\"edge\">\n<title>6&#45;&#45;10</title>\n<path fill=\"none\" stroke=\"lightgreen\" d=\"M89.13,-155.03C92.79,-144.78 100.4,-123.47 105.84,-108.25\"/>\n</g>\n<!-- 8 -->\n<g id=\"node9\" class=\"node\">\n<title>8</title>\n</g>\n<!-- 7&#45;&#45;8 -->\n<g id=\"edge8\" class=\"edge\">\n<title>7&#45;&#45;8</title>\n<path fill=\"none\" stroke=\"lightgreen\" d=\"M59.55,-82.29C54.13,-71.75 43.45,-50.99 35.8,-36.12\"/>\n</g>\n<!-- 9 -->\n<g id=\"node10\" class=\"node\">\n<title>9</title>\n</g>\n<!-- 7&#45;&#45;9 -->\n<g id=\"edge9\" class=\"edge\">\n<title>7&#45;&#45;9</title>\n<path fill=\"none\" stroke=\"lightgreen\" d=\"M66.45,-82.29C71.87,-71.75 82.55,-50.99 90.2,-36.12\"/>\n</g>\n</g>\n</svg>\n</div></td><td style=\"border-top:hidden;border-bottom:hidden;\"><div align=\"center\" style=\"\"><?xml version=\"1.0\" encoding=\"UTF-8\" standalone=\"no\"?>\n<!DOCTYPE svg PUBLIC \"-//W3C//DTD SVG 1.1//EN\"\n \"http://www.w3.org/Graphics/SVG/1.1/DTD/svg11.dtd\">\n<!-- Generated by graphviz version 2.44.1 (20200629.0846)\n -->\n<!-- Pages: 1 -->\n<svg width=\"169pt\" height=\"239pt\"\n viewBox=\"0.00 0.00 169.00 239.00\" xmlns=\"http://www.w3.org/2000/svg\" xmlns:xlink=\"http://www.w3.org/1999/xlink\">\n<g id=\"graph0\" class=\"graph\" transform=\"scale(1 1) rotate(0) translate(4 235)\">\n<polygon fill=\"white\" stroke=\"transparent\" points=\"-4,4 -4,-235 165,-235 165,4 -4,4\"/>\n<!-- 0 -->\n<g id=\"node1\" class=\"node\">\n<title>0</title>\n<text text-anchor=\"middle\" x=\"110\" y=\"-219.8\" font-family=\"Times,serif\" font-size=\"14.00\">l</text>\n</g>\n<!-- 1 -->\n<g id=\"node2\" class=\"node\">\n<title>1</title>\n<text text-anchor=\"middle\" x=\"87\" y=\"-158.3\" font-family=\"Times,serif\" font-size=\"14.00\">l</text>\n</g>\n<!-- 0&#45;&#45;1 -->\n<g id=\"edge1\" class=\"edge\">\n<title>0&#45;&#45;1</title>\n<path fill=\"none\" stroke=\"black\" d=\"M107.88,-217.01C103.47,-205.62 93.39,-179.54 89.05,-168.31\"/>\n</g>\n<!-- 6 -->\n<g id=\"node7\" class=\"node\">\n<title>6</title>\n</g>\n<!-- 0&#45;&#45;6 -->\n<g id=\"edge6\" class=\"edge\">\n<title>0&#45;&#45;6</title>\n<path fill=\"none\" stroke=\"lightgreen\" d=\"M112.05,-217.43C115.33,-209.28 121.94,-192.9 127.05,-180.23\"/>\n</g>\n<!-- 2 -->\n<g id=\"node3\" class=\"node\">\n<title>2</title>\n<text text-anchor=\"middle\" x=\"63\" y=\"-86.3\" font-family=\"Times,serif\" font-size=\"14.00\">o</text>\n</g>\n<!-- 1&#45;&#45;2 -->\n<g id=\"edge2\" class=\"edge\">\n<title>1&#45;&#45;2</title>\n<path fill=\"none\" stroke=\"black\" d=\"M84.95,-155.03C80.51,-142.07 70,-111.42 65.32,-97.77\"/>\n</g>\n<!-- 5 -->\n<g id=\"node6\" class=\"node\">\n<title>5</title>\n</g>\n<!-- 1&#45;&#45;5 -->\n<g id=\"edge5\" class=\"edge\">\n<title>1&#45;&#45;5</title>\n<path fill=\"none\" stroke=\"lightgreen\" d=\"M89.13,-155.03C92.79,-144.78 100.4,-123.47 105.84,-108.25\"/>\n</g>\n<!-- 3 -->\n<g id=\"node4\" class=\"node\">\n<title>3</title>\n</g>\n<!-- 2&#45;&#45;3 -->\n<g id=\"edge3\" class=\"edge\">\n<title>2&#45;&#45;3</title>\n<path fill=\"none\" stroke=\"lightgreen\" d=\"M59.55,-82.29C54.13,-71.75 43.45,-50.99 35.8,-36.12\"/>\n</g>\n<!-- 4 -->\n<g id=\"node5\" class=\"node\">\n<title>4</title>\n</g>\n<!-- 2&#45;&#45;4 -->\n<g id=\"edge4\" class=\"edge\">\n<title>2&#45;&#45;4</title>\n<path fill=\"none\" stroke=\"lightgreen\" d=\"M66.45,-82.29C71.87,-71.75 82.55,-50.99 90.2,-36.12\"/>\n</g>\n</g>\n</svg>\n</div></td></tr></table>"
     },
     "metadata": {},
     "output_type": "display_data"
    },
    {
     "data": {
      "text/plain": "<IPython.core.display.HTML object>",
      "text/html": "<table style=\"border-style: hidden; border-collapse: collapse;\" width=\"100%\"><tr><td style=\"border-top:hidden;border-bottom:hidden;\"><div align=\"center\" style=\"\"><?xml version=\"1.0\" encoding=\"UTF-8\" standalone=\"no\"?>\n<!DOCTYPE svg PUBLIC \"-//W3C//DTD SVG 1.1//EN\"\n \"http://www.w3.org/Graphics/SVG/1.1/DTD/svg11.dtd\">\n<!-- Generated by graphviz version 2.44.1 (20200629.0846)\n -->\n<!-- Pages: 1 -->\n<svg width=\"93pt\" height=\"288pt\"\n viewBox=\"0.00 0.00 93.05 288.00\" xmlns=\"http://www.w3.org/2000/svg\" xmlns:xlink=\"http://www.w3.org/1999/xlink\">\n<g id=\"graph0\" class=\"graph\" transform=\"scale(0.63 0.63) rotate(0) translate(4 451)\">\n<polygon fill=\"white\" stroke=\"transparent\" points=\"-4,4 -4,-451 143,-451 143,4 -4,4\"/>\n<!-- 0 -->\n<g id=\"node1\" class=\"node\">\n<title>0</title>\n<text text-anchor=\"middle\" x=\"87\" y=\"-435.8\" font-family=\"Times,serif\" font-size=\"14.00\">l</text>\n</g>\n<!-- 1 -->\n<g id=\"node2\" class=\"node\">\n<title>1</title>\n<text text-anchor=\"middle\" x=\"63\" y=\"-374.3\" font-family=\"Times,serif\" font-size=\"14.00\">s</text>\n</g>\n<!-- 0&#45;&#45;1 -->\n<g id=\"edge1\" class=\"edge\">\n<title>0&#45;&#45;1</title>\n<path fill=\"none\" stroke=\"black\" d=\"M84.95,-433.43C80.65,-422.75 70.64,-397.94 65.77,-385.86\"/>\n</g>\n<!-- 12 -->\n<g id=\"node13\" class=\"node\">\n<title>12</title>\n</g>\n<!-- 0&#45;&#45;12 -->\n<g id=\"edge12\" class=\"edge\">\n<title>0&#45;&#45;12</title>\n<path fill=\"none\" stroke=\"lightgreen\" d=\"M89.05,-433.43C92.33,-425.28 98.94,-408.9 104.05,-396.23\"/>\n</g>\n<!-- 2 -->\n<g id=\"node3\" class=\"node\">\n<title>2</title>\n</g>\n<!-- 1&#45;&#45;2 -->\n<g id=\"edge2\" class=\"edge\">\n<title>1&#45;&#45;2</title>\n<path fill=\"none\" stroke=\"lightgreen\" d=\"M60.79,-370.29C57.33,-359.75 50.51,-338.99 45.62,-324.12\"/>\n</g>\n<!-- 3 -->\n<g id=\"node4\" class=\"node\">\n<title>3</title>\n<text text-anchor=\"middle\" x=\"87\" y=\"-302.3\" font-family=\"Times,serif\" font-size=\"14.00\">l</text>\n</g>\n<!-- 1&#45;&#45;3 -->\n<g id=\"edge3\" class=\"edge\">\n<title>1&#45;&#45;3</title>\n<path fill=\"none\" stroke=\"black\" d=\"M65.3,-370.29C69.95,-356.74 80.39,-326.29 84.88,-313.19\"/>\n</g>\n<!-- 4 -->\n<g id=\"node5\" class=\"node\">\n<title>4</title>\n<text text-anchor=\"middle\" x=\"63\" y=\"-230.3\" font-family=\"Times,serif\" font-size=\"14.00\">s</text>\n</g>\n<!-- 3&#45;&#45;4 -->\n<g id=\"edge4\" class=\"edge\">\n<title>3&#45;&#45;4</title>\n<path fill=\"none\" stroke=\"black\" d=\"M84.95,-299.03C80.51,-286.07 70,-255.42 65.32,-241.77\"/>\n</g>\n<!-- 11 -->\n<g id=\"node12\" class=\"node\">\n<title>11</title>\n</g>\n<!-- 3&#45;&#45;11 -->\n<g id=\"edge11\" class=\"edge\">\n<title>3&#45;&#45;11</title>\n<path fill=\"none\" stroke=\"lightgreen\" d=\"M89.05,-299.03C92.56,-288.78 99.87,-267.47 105.09,-252.25\"/>\n</g>\n<!-- 5 -->\n<g id=\"node6\" class=\"node\">\n<title>5</title>\n<text text-anchor=\"middle\" x=\"40\" y=\"-158.3\" font-family=\"Times,serif\" font-size=\"14.00\">*</text>\n</g>\n<!-- 4&#45;&#45;5 -->\n<g id=\"edge5\" class=\"edge\">\n<title>4&#45;&#45;5</title>\n<path fill=\"none\" stroke=\"lightgreen\" d=\"M60.79,-226.29C57.33,-215.75 50.51,-194.99 45.62,-180.12\"/>\n</g>\n<!-- 6 -->\n<g id=\"node7\" class=\"node\">\n<title>6</title>\n<text text-anchor=\"middle\" x=\"87\" y=\"-158.3\" font-family=\"Times,serif\" font-size=\"14.00\">l</text>\n</g>\n<!-- 4&#45;&#45;6 -->\n<g id=\"edge6\" class=\"edge\">\n<title>4&#45;&#45;6</title>\n<path fill=\"none\" stroke=\"black\" d=\"M65.3,-226.29C69.95,-212.74 80.39,-182.29 84.88,-169.19\"/>\n</g>\n<!-- 7 -->\n<g id=\"node8\" class=\"node\">\n<title>7</title>\n<text text-anchor=\"middle\" x=\"63\" y=\"-86.3\" font-family=\"Times,serif\" font-size=\"14.00\">o</text>\n</g>\n<!-- 6&#45;&#45;7 -->\n<g id=\"edge7\" class=\"edge\">\n<title>6&#45;&#45;7</title>\n<path fill=\"none\" stroke=\"black\" d=\"M84.95,-155.03C80.51,-142.07 70,-111.42 65.32,-97.77\"/>\n</g>\n<!-- 10 -->\n<g id=\"node11\" class=\"node\">\n<title>10</title>\n</g>\n<!-- 6&#45;&#45;10 -->\n<g id=\"edge10\" class=\"edge\">\n<title>6&#45;&#45;10</title>\n<path fill=\"none\" stroke=\"lightgreen\" d=\"M89.13,-155.03C92.79,-144.78 100.4,-123.47 105.84,-108.25\"/>\n</g>\n<!-- 8 -->\n<g id=\"node9\" class=\"node\">\n<title>8</title>\n</g>\n<!-- 7&#45;&#45;8 -->\n<g id=\"edge8\" class=\"edge\">\n<title>7&#45;&#45;8</title>\n<path fill=\"none\" stroke=\"lightgreen\" d=\"M59.55,-82.29C54.13,-71.75 43.45,-50.99 35.8,-36.12\"/>\n</g>\n<!-- 9 -->\n<g id=\"node10\" class=\"node\">\n<title>9</title>\n</g>\n<!-- 7&#45;&#45;9 -->\n<g id=\"edge9\" class=\"edge\">\n<title>7&#45;&#45;9</title>\n<path fill=\"none\" stroke=\"lightgreen\" d=\"M66.45,-82.29C71.87,-71.75 82.55,-50.99 90.2,-36.12\"/>\n</g>\n</g>\n</svg>\n</div></td><td style=\"border-top:hidden;border-bottom:hidden;\"><div align=\"center\" style=\"\"><?xml version=\"1.0\" encoding=\"UTF-8\" standalone=\"no\"?>\n<!DOCTYPE svg PUBLIC \"-//W3C//DTD SVG 1.1//EN\"\n \"http://www.w3.org/Graphics/SVG/1.1/DTD/svg11.dtd\">\n<!-- Generated by graphviz version 2.44.1 (20200629.0846)\n -->\n<!-- Pages: 1 -->\n<svg width=\"169pt\" height=\"239pt\"\n viewBox=\"0.00 0.00 169.00 239.00\" xmlns=\"http://www.w3.org/2000/svg\" xmlns:xlink=\"http://www.w3.org/1999/xlink\">\n<g id=\"graph0\" class=\"graph\" transform=\"scale(1 1) rotate(0) translate(4 235)\">\n<polygon fill=\"white\" stroke=\"transparent\" points=\"-4,4 -4,-235 165,-235 165,4 -4,4\"/>\n<!-- 0 -->\n<g id=\"node1\" class=\"node\">\n<title>0</title>\n<text text-anchor=\"middle\" x=\"110\" y=\"-219.8\" font-family=\"Times,serif\" font-size=\"14.00\">l</text>\n</g>\n<!-- 1 -->\n<g id=\"node2\" class=\"node\">\n<title>1</title>\n<text text-anchor=\"middle\" x=\"87\" y=\"-158.3\" font-family=\"Times,serif\" font-size=\"14.00\">l</text>\n</g>\n<!-- 0&#45;&#45;1 -->\n<g id=\"edge1\" class=\"edge\">\n<title>0&#45;&#45;1</title>\n<path fill=\"none\" stroke=\"black\" d=\"M107.88,-217.01C103.47,-205.62 93.39,-179.54 89.05,-168.31\"/>\n</g>\n<!-- 6 -->\n<g id=\"node7\" class=\"node\">\n<title>6</title>\n</g>\n<!-- 0&#45;&#45;6 -->\n<g id=\"edge6\" class=\"edge\">\n<title>0&#45;&#45;6</title>\n<path fill=\"none\" stroke=\"lightgreen\" d=\"M112.05,-217.43C115.33,-209.28 121.94,-192.9 127.05,-180.23\"/>\n</g>\n<!-- 2 -->\n<g id=\"node3\" class=\"node\">\n<title>2</title>\n<text text-anchor=\"middle\" x=\"63\" y=\"-86.3\" font-family=\"Times,serif\" font-size=\"14.00\">o</text>\n</g>\n<!-- 1&#45;&#45;2 -->\n<g id=\"edge2\" class=\"edge\">\n<title>1&#45;&#45;2</title>\n<path fill=\"none\" stroke=\"black\" d=\"M84.95,-155.03C80.51,-142.07 70,-111.42 65.32,-97.77\"/>\n</g>\n<!-- 5 -->\n<g id=\"node6\" class=\"node\">\n<title>5</title>\n</g>\n<!-- 1&#45;&#45;5 -->\n<g id=\"edge5\" class=\"edge\">\n<title>1&#45;&#45;5</title>\n<path fill=\"none\" stroke=\"lightgreen\" d=\"M89.13,-155.03C92.79,-144.78 100.4,-123.47 105.84,-108.25\"/>\n</g>\n<!-- 3 -->\n<g id=\"node4\" class=\"node\">\n<title>3</title>\n</g>\n<!-- 2&#45;&#45;3 -->\n<g id=\"edge3\" class=\"edge\">\n<title>2&#45;&#45;3</title>\n<path fill=\"none\" stroke=\"lightgreen\" d=\"M59.55,-82.29C54.13,-71.75 43.45,-50.99 35.8,-36.12\"/>\n</g>\n<!-- 4 -->\n<g id=\"node5\" class=\"node\">\n<title>4</title>\n</g>\n<!-- 2&#45;&#45;4 -->\n<g id=\"edge4\" class=\"edge\">\n<title>2&#45;&#45;4</title>\n<path fill=\"none\" stroke=\"lightgreen\" d=\"M66.45,-82.29C71.87,-71.75 82.55,-50.99 90.2,-36.12\"/>\n</g>\n</g>\n</svg>\n</div></td></tr></table>"
     },
     "metadata": {},
     "output_type": "display_data"
    },
    {
     "data": {
      "text/plain": "<IPython.core.display.HTML object>",
      "text/html": "<table style=\"border-style: hidden; border-collapse: collapse;\" width=\"100%\"><tr><td style=\"border-top:hidden;border-bottom:hidden;\"><div align=\"center\" style=\"\"><?xml version=\"1.0\" encoding=\"UTF-8\" standalone=\"no\"?>\n<!DOCTYPE svg PUBLIC \"-//W3C//DTD SVG 1.1//EN\"\n \"http://www.w3.org/Graphics/SVG/1.1/DTD/svg11.dtd\">\n<!-- Generated by graphviz version 2.44.1 (20200629.0846)\n -->\n<!-- Pages: 1 -->\n<svg width=\"99pt\" height=\"288pt\"\n viewBox=\"0.00 0.00 99.38 288.00\" xmlns=\"http://www.w3.org/2000/svg\" xmlns:xlink=\"http://www.w3.org/1999/xlink\">\n<g id=\"graph0\" class=\"graph\" transform=\"scale(0.63 0.63) rotate(0) translate(4 451)\">\n<polygon fill=\"white\" stroke=\"transparent\" points=\"-4,4 -4,-451 153,-451 153,4 -4,4\"/>\n<!-- 0 -->\n<g id=\"node1\" class=\"node\">\n<title>0</title>\n<text text-anchor=\"middle\" x=\"98\" y=\"-435.8\" font-family=\"Times,serif\" font-size=\"14.00\">l</text>\n</g>\n<!-- 1 -->\n<g id=\"node2\" class=\"node\">\n<title>1</title>\n<text text-anchor=\"middle\" x=\"75\" y=\"-374.3\" font-family=\"Times,serif\" font-size=\"14.00\">l</text>\n</g>\n<!-- 0&#45;&#45;1 -->\n<g id=\"edge1\" class=\"edge\">\n<title>0&#45;&#45;1</title>\n<path fill=\"none\" stroke=\"black\" d=\"M95.88,-433.01C91.47,-421.62 81.39,-395.54 77.05,-384.31\"/>\n</g>\n<!-- 12 -->\n<g id=\"node13\" class=\"node\">\n<title>12</title>\n</g>\n<!-- 0&#45;&#45;12 -->\n<g id=\"edge12\" class=\"edge\">\n<title>0&#45;&#45;12</title>\n<path fill=\"none\" stroke=\"lightgreen\" d=\"M100.05,-433.43C103.33,-425.28 109.94,-408.9 115.05,-396.23\"/>\n</g>\n<!-- 2 -->\n<g id=\"node3\" class=\"node\">\n<title>2</title>\n<text text-anchor=\"middle\" x=\"51\" y=\"-302.3\" font-family=\"Times,serif\" font-size=\"14.00\">s</text>\n</g>\n<!-- 1&#45;&#45;2 -->\n<g id=\"edge2\" class=\"edge\">\n<title>1&#45;&#45;2</title>\n<path fill=\"none\" stroke=\"black\" d=\"M72.95,-371.03C68.51,-358.07 58,-327.42 53.32,-313.77\"/>\n</g>\n<!-- 11 -->\n<g id=\"node12\" class=\"node\">\n<title>11</title>\n</g>\n<!-- 1&#45;&#45;11 -->\n<g id=\"edge11\" class=\"edge\">\n<title>1&#45;&#45;11</title>\n<path fill=\"none\" stroke=\"lightgreen\" d=\"M77.05,-371.03C80.56,-360.78 87.87,-339.47 93.09,-324.25\"/>\n</g>\n<!-- 3 -->\n<g id=\"node4\" class=\"node\">\n<title>3</title>\n</g>\n<!-- 2&#45;&#45;3 -->\n<g id=\"edge3\" class=\"edge\">\n<title>2&#45;&#45;3</title>\n<path fill=\"none\" stroke=\"lightgreen\" d=\"M48.79,-298.29C45.33,-287.75 38.51,-266.99 33.62,-252.12\"/>\n</g>\n<!-- 4 -->\n<g id=\"node5\" class=\"node\">\n<title>4</title>\n<text text-anchor=\"middle\" x=\"75\" y=\"-230.3\" font-family=\"Times,serif\" font-size=\"14.00\">l</text>\n</g>\n<!-- 2&#45;&#45;4 -->\n<g id=\"edge4\" class=\"edge\">\n<title>2&#45;&#45;4</title>\n<path fill=\"none\" stroke=\"black\" d=\"M53.3,-298.29C57.95,-284.74 68.39,-254.29 72.88,-241.19\"/>\n</g>\n<!-- 5 -->\n<g id=\"node6\" class=\"node\">\n<title>5</title>\n<text text-anchor=\"middle\" x=\"51\" y=\"-158.3\" font-family=\"Times,serif\" font-size=\"14.00\">s</text>\n</g>\n<!-- 4&#45;&#45;5 -->\n<g id=\"edge5\" class=\"edge\">\n<title>4&#45;&#45;5</title>\n<path fill=\"none\" stroke=\"black\" d=\"M72.95,-227.03C68.51,-214.07 58,-183.42 53.32,-169.77\"/>\n</g>\n<!-- 10 -->\n<g id=\"node11\" class=\"node\">\n<title>10</title>\n</g>\n<!-- 4&#45;&#45;10 -->\n<g id=\"edge10\" class=\"edge\">\n<title>4&#45;&#45;10</title>\n<path fill=\"none\" stroke=\"lightgreen\" d=\"M77.05,-227.03C80.56,-216.78 87.87,-195.47 93.09,-180.25\"/>\n</g>\n<!-- 6 -->\n<g id=\"node7\" class=\"node\">\n<title>6</title>\n<text text-anchor=\"middle\" x=\"27\" y=\"-86.3\" font-family=\"Times,serif\" font-size=\"14.00\">*</text>\n</g>\n<!-- 5&#45;&#45;6 -->\n<g id=\"edge6\" class=\"edge\">\n<title>5&#45;&#45;6</title>\n<path fill=\"none\" stroke=\"lightgreen\" d=\"M48.7,-154.29C45.09,-143.75 37.97,-122.99 32.87,-108.12\"/>\n</g>\n<!-- 7 -->\n<g id=\"node8\" class=\"node\">\n<title>7</title>\n<text text-anchor=\"middle\" x=\"76\" y=\"-86.3\" font-family=\"Times,serif\" font-size=\"14.00\">o</text>\n</g>\n<!-- 5&#45;&#45;7 -->\n<g id=\"edge7\" class=\"edge\">\n<title>5&#45;&#45;7</title>\n<path fill=\"none\" stroke=\"black\" d=\"M53.4,-154.29C58.19,-140.87 68.89,-110.9 73.65,-97.59\"/>\n</g>\n<!-- 8 -->\n<g id=\"node9\" class=\"node\">\n<title>8</title>\n</g>\n<!-- 7&#45;&#45;8 -->\n<g id=\"edge8\" class=\"edge\">\n<title>7&#45;&#45;8</title>\n<path fill=\"none\" stroke=\"lightgreen\" d=\"M72.55,-82.29C67.13,-71.75 56.45,-50.99 48.8,-36.12\"/>\n</g>\n<!-- 9 -->\n<g id=\"node10\" class=\"node\">\n<title>9</title>\n</g>\n<!-- 7&#45;&#45;9 -->\n<g id=\"edge9\" class=\"edge\">\n<title>7&#45;&#45;9</title>\n<path fill=\"none\" stroke=\"lightgreen\" d=\"M79.45,-82.29C84.87,-71.75 95.55,-50.99 103.2,-36.12\"/>\n</g>\n</g>\n</svg>\n</div></td><td style=\"border-top:hidden;border-bottom:hidden;\"><div align=\"center\" style=\"\"><?xml version=\"1.0\" encoding=\"UTF-8\" standalone=\"no\"?>\n<!DOCTYPE svg PUBLIC \"-//W3C//DTD SVG 1.1//EN\"\n \"http://www.w3.org/Graphics/SVG/1.1/DTD/svg11.dtd\">\n<!-- Generated by graphviz version 2.44.1 (20200629.0846)\n -->\n<!-- Pages: 1 -->\n<svg width=\"169pt\" height=\"239pt\"\n viewBox=\"0.00 0.00 169.00 239.00\" xmlns=\"http://www.w3.org/2000/svg\" xmlns:xlink=\"http://www.w3.org/1999/xlink\">\n<g id=\"graph0\" class=\"graph\" transform=\"scale(1 1) rotate(0) translate(4 235)\">\n<polygon fill=\"white\" stroke=\"transparent\" points=\"-4,4 -4,-235 165,-235 165,4 -4,4\"/>\n<!-- 0 -->\n<g id=\"node1\" class=\"node\">\n<title>0</title>\n<text text-anchor=\"middle\" x=\"110\" y=\"-219.8\" font-family=\"Times,serif\" font-size=\"14.00\">l</text>\n</g>\n<!-- 1 -->\n<g id=\"node2\" class=\"node\">\n<title>1</title>\n<text text-anchor=\"middle\" x=\"87\" y=\"-158.3\" font-family=\"Times,serif\" font-size=\"14.00\">l</text>\n</g>\n<!-- 0&#45;&#45;1 -->\n<g id=\"edge1\" class=\"edge\">\n<title>0&#45;&#45;1</title>\n<path fill=\"none\" stroke=\"black\" d=\"M107.88,-217.01C103.47,-205.62 93.39,-179.54 89.05,-168.31\"/>\n</g>\n<!-- 6 -->\n<g id=\"node7\" class=\"node\">\n<title>6</title>\n</g>\n<!-- 0&#45;&#45;6 -->\n<g id=\"edge6\" class=\"edge\">\n<title>0&#45;&#45;6</title>\n<path fill=\"none\" stroke=\"lightgreen\" d=\"M112.05,-217.43C115.33,-209.28 121.94,-192.9 127.05,-180.23\"/>\n</g>\n<!-- 2 -->\n<g id=\"node3\" class=\"node\">\n<title>2</title>\n<text text-anchor=\"middle\" x=\"63\" y=\"-86.3\" font-family=\"Times,serif\" font-size=\"14.00\">o</text>\n</g>\n<!-- 1&#45;&#45;2 -->\n<g id=\"edge2\" class=\"edge\">\n<title>1&#45;&#45;2</title>\n<path fill=\"none\" stroke=\"black\" d=\"M84.95,-155.03C80.51,-142.07 70,-111.42 65.32,-97.77\"/>\n</g>\n<!-- 5 -->\n<g id=\"node6\" class=\"node\">\n<title>5</title>\n</g>\n<!-- 1&#45;&#45;5 -->\n<g id=\"edge5\" class=\"edge\">\n<title>1&#45;&#45;5</title>\n<path fill=\"none\" stroke=\"lightgreen\" d=\"M89.13,-155.03C92.79,-144.78 100.4,-123.47 105.84,-108.25\"/>\n</g>\n<!-- 3 -->\n<g id=\"node4\" class=\"node\">\n<title>3</title>\n</g>\n<!-- 2&#45;&#45;3 -->\n<g id=\"edge3\" class=\"edge\">\n<title>2&#45;&#45;3</title>\n<path fill=\"none\" stroke=\"lightgreen\" d=\"M59.55,-82.29C54.13,-71.75 43.45,-50.99 35.8,-36.12\"/>\n</g>\n<!-- 4 -->\n<g id=\"node5\" class=\"node\">\n<title>4</title>\n</g>\n<!-- 2&#45;&#45;4 -->\n<g id=\"edge4\" class=\"edge\">\n<title>2&#45;&#45;4</title>\n<path fill=\"none\" stroke=\"lightgreen\" d=\"M66.45,-82.29C71.87,-71.75 82.55,-50.99 90.2,-36.12\"/>\n</g>\n</g>\n</svg>\n</div></td></tr></table>"
     },
     "metadata": {},
     "output_type": "display_data"
    },
    {
     "data": {
      "text/plain": "<IPython.core.display.HTML object>",
      "text/html": "<table style=\"border-style: hidden; border-collapse: collapse;\" width=\"100%\"><tr><td style=\"border-top:hidden;border-bottom:hidden;\"><div align=\"center\" style=\"\"><?xml version=\"1.0\" encoding=\"UTF-8\" standalone=\"no\"?>\n<!DOCTYPE svg PUBLIC \"-//W3C//DTD SVG 1.1//EN\"\n \"http://www.w3.org/Graphics/SVG/1.1/DTD/svg11.dtd\">\n<!-- Generated by graphviz version 2.44.1 (20200629.0846)\n -->\n<!-- Pages: 1 -->\n<svg width=\"93pt\" height=\"288pt\"\n viewBox=\"0.00 0.00 93.05 288.00\" xmlns=\"http://www.w3.org/2000/svg\" xmlns:xlink=\"http://www.w3.org/1999/xlink\">\n<g id=\"graph0\" class=\"graph\" transform=\"scale(0.63 0.63) rotate(0) translate(4 451)\">\n<polygon fill=\"white\" stroke=\"transparent\" points=\"-4,4 -4,-451 143,-451 143,4 -4,4\"/>\n<!-- 0 -->\n<g id=\"node1\" class=\"node\">\n<title>0</title>\n<text text-anchor=\"middle\" x=\"51\" y=\"-435.8\" font-family=\"Times,serif\" font-size=\"14.00\">s</text>\n</g>\n<!-- 1 -->\n<g id=\"node2\" class=\"node\">\n<title>1</title>\n</g>\n<!-- 0&#45;&#45;1 -->\n<g id=\"edge1\" class=\"edge\">\n<title>0&#45;&#45;1</title>\n<path fill=\"none\" stroke=\"lightgreen\" d=\"M48.36,-431.67C45.03,-423.07 39.2,-407.96 34.62,-396.13\"/>\n</g>\n<!-- 2 -->\n<g id=\"node3\" class=\"node\">\n<title>2</title>\n<text text-anchor=\"middle\" x=\"75\" y=\"-374.3\" font-family=\"Times,serif\" font-size=\"14.00\">l</text>\n</g>\n<!-- 0&#45;&#45;2 -->\n<g id=\"edge2\" class=\"edge\">\n<title>0&#45;&#45;2</title>\n<path fill=\"none\" stroke=\"black\" d=\"M53.75,-431.67C58.63,-419.59 68.67,-394.69 72.97,-384.02\"/>\n</g>\n<!-- 3 -->\n<g id=\"node4\" class=\"node\">\n<title>3</title>\n<text text-anchor=\"middle\" x=\"51\" y=\"-302.3\" font-family=\"Times,serif\" font-size=\"14.00\">s</text>\n</g>\n<!-- 2&#45;&#45;3 -->\n<g id=\"edge3\" class=\"edge\">\n<title>2&#45;&#45;3</title>\n<path fill=\"none\" stroke=\"black\" d=\"M72.95,-371.03C68.51,-358.07 58,-327.42 53.32,-313.77\"/>\n</g>\n<!-- 12 -->\n<g id=\"node13\" class=\"node\">\n<title>12</title>\n</g>\n<!-- 2&#45;&#45;12 -->\n<g id=\"edge12\" class=\"edge\">\n<title>2&#45;&#45;12</title>\n<path fill=\"none\" stroke=\"lightgreen\" d=\"M77.05,-371.03C80.56,-360.78 87.87,-339.47 93.09,-324.25\"/>\n</g>\n<!-- 4 -->\n<g id=\"node5\" class=\"node\">\n<title>4</title>\n<text text-anchor=\"middle\" x=\"28\" y=\"-230.3\" font-family=\"Times,serif\" font-size=\"14.00\">*</text>\n</g>\n<!-- 3&#45;&#45;4 -->\n<g id=\"edge4\" class=\"edge\">\n<title>3&#45;&#45;4</title>\n<path fill=\"none\" stroke=\"lightgreen\" d=\"M48.79,-298.29C45.33,-287.75 38.51,-266.99 33.62,-252.12\"/>\n</g>\n<!-- 5 -->\n<g id=\"node6\" class=\"node\">\n<title>5</title>\n<text text-anchor=\"middle\" x=\"75\" y=\"-230.3\" font-family=\"Times,serif\" font-size=\"14.00\">l</text>\n</g>\n<!-- 3&#45;&#45;5 -->\n<g id=\"edge5\" class=\"edge\">\n<title>3&#45;&#45;5</title>\n<path fill=\"none\" stroke=\"black\" d=\"M53.3,-298.29C57.95,-284.74 68.39,-254.29 72.88,-241.19\"/>\n</g>\n<!-- 6 -->\n<g id=\"node7\" class=\"node\">\n<title>6</title>\n<text text-anchor=\"middle\" x=\"51\" y=\"-158.3\" font-family=\"Times,serif\" font-size=\"14.00\">s</text>\n</g>\n<!-- 5&#45;&#45;6 -->\n<g id=\"edge6\" class=\"edge\">\n<title>5&#45;&#45;6</title>\n<path fill=\"none\" stroke=\"black\" d=\"M72.95,-227.03C68.51,-214.07 58,-183.42 53.32,-169.77\"/>\n</g>\n<!-- 11 -->\n<g id=\"node12\" class=\"node\">\n<title>11</title>\n</g>\n<!-- 5&#45;&#45;11 -->\n<g id=\"edge11\" class=\"edge\">\n<title>5&#45;&#45;11</title>\n<path fill=\"none\" stroke=\"lightgreen\" d=\"M77.05,-227.03C80.56,-216.78 87.87,-195.47 93.09,-180.25\"/>\n</g>\n<!-- 7 -->\n<g id=\"node8\" class=\"node\">\n<title>7</title>\n</g>\n<!-- 6&#45;&#45;7 -->\n<g id=\"edge7\" class=\"edge\">\n<title>6&#45;&#45;7</title>\n<path fill=\"none\" stroke=\"lightgreen\" d=\"M48.7,-154.29C45.09,-143.75 37.97,-122.99 32.87,-108.12\"/>\n</g>\n<!-- 8 -->\n<g id=\"node9\" class=\"node\">\n<title>8</title>\n<text text-anchor=\"middle\" x=\"76\" y=\"-86.3\" font-family=\"Times,serif\" font-size=\"14.00\">o</text>\n</g>\n<!-- 6&#45;&#45;8 -->\n<g id=\"edge8\" class=\"edge\">\n<title>6&#45;&#45;8</title>\n<path fill=\"none\" stroke=\"black\" d=\"M53.4,-154.29C58.19,-140.87 68.89,-110.9 73.65,-97.59\"/>\n</g>\n<!-- 9 -->\n<g id=\"node10\" class=\"node\">\n<title>9</title>\n</g>\n<!-- 8&#45;&#45;9 -->\n<g id=\"edge9\" class=\"edge\">\n<title>8&#45;&#45;9</title>\n<path fill=\"none\" stroke=\"lightgreen\" d=\"M72.55,-82.29C67.13,-71.75 56.45,-50.99 48.8,-36.12\"/>\n</g>\n<!-- 10 -->\n<g id=\"node11\" class=\"node\">\n<title>10</title>\n</g>\n<!-- 8&#45;&#45;10 -->\n<g id=\"edge10\" class=\"edge\">\n<title>8&#45;&#45;10</title>\n<path fill=\"none\" stroke=\"lightgreen\" d=\"M79.45,-82.29C84.87,-71.75 95.55,-50.99 103.2,-36.12\"/>\n</g>\n</g>\n</svg>\n</div></td><td style=\"border-top:hidden;border-bottom:hidden;\"><div align=\"center\" style=\"\"><?xml version=\"1.0\" encoding=\"UTF-8\" standalone=\"no\"?>\n<!DOCTYPE svg PUBLIC \"-//W3C//DTD SVG 1.1//EN\"\n \"http://www.w3.org/Graphics/SVG/1.1/DTD/svg11.dtd\">\n<!-- Generated by graphviz version 2.44.1 (20200629.0846)\n -->\n<!-- Pages: 1 -->\n<svg width=\"147pt\" height=\"239pt\"\n viewBox=\"0.00 0.00 147.00 239.00\" xmlns=\"http://www.w3.org/2000/svg\" xmlns:xlink=\"http://www.w3.org/1999/xlink\">\n<g id=\"graph0\" class=\"graph\" transform=\"scale(1 1) rotate(0) translate(4 235)\">\n<polygon fill=\"white\" stroke=\"transparent\" points=\"-4,4 -4,-235 143,-235 143,4 -4,4\"/>\n<!-- 0 -->\n<g id=\"node1\" class=\"node\">\n<title>0</title>\n<text text-anchor=\"middle\" x=\"75\" y=\"-219.8\" font-family=\"Times,serif\" font-size=\"14.00\">l</text>\n</g>\n<!-- 1 -->\n<g id=\"node2\" class=\"node\">\n<title>1</title>\n<text text-anchor=\"middle\" x=\"51\" y=\"-158.3\" font-family=\"Times,serif\" font-size=\"14.00\">s</text>\n</g>\n<!-- 0&#45;&#45;1 -->\n<g id=\"edge1\" class=\"edge\">\n<title>0&#45;&#45;1</title>\n<path fill=\"none\" stroke=\"black\" d=\"M72.95,-217.43C68.65,-206.75 58.64,-181.94 53.77,-169.86\"/>\n</g>\n<!-- 6 -->\n<g id=\"node7\" class=\"node\">\n<title>6</title>\n</g>\n<!-- 0&#45;&#45;6 -->\n<g id=\"edge6\" class=\"edge\">\n<title>0&#45;&#45;6</title>\n<path fill=\"none\" stroke=\"lightgreen\" d=\"M77.05,-217.43C80.33,-209.28 86.94,-192.9 92.05,-180.23\"/>\n</g>\n<!-- 2 -->\n<g id=\"node3\" class=\"node\">\n<title>2</title>\n</g>\n<!-- 1&#45;&#45;2 -->\n<g id=\"edge2\" class=\"edge\">\n<title>1&#45;&#45;2</title>\n<path fill=\"none\" stroke=\"lightgreen\" d=\"M48.7,-154.29C45.09,-143.75 37.97,-122.99 32.87,-108.12\"/>\n</g>\n<!-- 3 -->\n<g id=\"node4\" class=\"node\">\n<title>3</title>\n<text text-anchor=\"middle\" x=\"76\" y=\"-86.3\" font-family=\"Times,serif\" font-size=\"14.00\">o</text>\n</g>\n<!-- 1&#45;&#45;3 -->\n<g id=\"edge3\" class=\"edge\">\n<title>1&#45;&#45;3</title>\n<path fill=\"none\" stroke=\"black\" d=\"M53.4,-154.29C58.19,-140.87 68.89,-110.9 73.65,-97.59\"/>\n</g>\n<!-- 4 -->\n<g id=\"node5\" class=\"node\">\n<title>4</title>\n</g>\n<!-- 3&#45;&#45;4 -->\n<g id=\"edge4\" class=\"edge\">\n<title>3&#45;&#45;4</title>\n<path fill=\"none\" stroke=\"lightgreen\" d=\"M72.55,-82.29C67.13,-71.75 56.45,-50.99 48.8,-36.12\"/>\n</g>\n<!-- 5 -->\n<g id=\"node6\" class=\"node\">\n<title>5</title>\n</g>\n<!-- 3&#45;&#45;5 -->\n<g id=\"edge5\" class=\"edge\">\n<title>3&#45;&#45;5</title>\n<path fill=\"none\" stroke=\"lightgreen\" d=\"M79.45,-82.29C84.87,-71.75 95.55,-50.99 103.2,-36.12\"/>\n</g>\n</g>\n</svg>\n</div></td></tr></table>"
     },
     "metadata": {},
     "output_type": "display_data"
    },
    {
     "data": {
      "text/plain": "<IPython.core.display.HTML object>",
      "text/html": "<table style=\"border-style: hidden; border-collapse: collapse;\" width=\"100%\"><tr><td style=\"border-top:hidden;border-bottom:hidden;\"><div align=\"center\" style=\"\"><?xml version=\"1.0\" encoding=\"UTF-8\" standalone=\"no\"?>\n<!DOCTYPE svg PUBLIC \"-//W3C//DTD SVG 1.1//EN\"\n \"http://www.w3.org/Graphics/SVG/1.1/DTD/svg11.dtd\">\n<!-- Generated by graphviz version 2.44.1 (20200629.0846)\n -->\n<!-- Pages: 1 -->\n<svg width=\"108pt\" height=\"288pt\"\n viewBox=\"0.00 0.00 107.60 288.00\" xmlns=\"http://www.w3.org/2000/svg\" xmlns:xlink=\"http://www.w3.org/1999/xlink\">\n<g id=\"graph0\" class=\"graph\" transform=\"scale(0.63 0.63) rotate(0) translate(4 451)\">\n<polygon fill=\"white\" stroke=\"transparent\" points=\"-4,4 -4,-451 166,-451 166,4 -4,4\"/>\n<!-- 0 -->\n<g id=\"node1\" class=\"node\">\n<title>0</title>\n<text text-anchor=\"middle\" x=\"75\" y=\"-435.8\" font-family=\"Times,serif\" font-size=\"14.00\">l</text>\n</g>\n<!-- 1 -->\n<g id=\"node2\" class=\"node\">\n<title>1</title>\n<text text-anchor=\"middle\" x=\"51\" y=\"-374.3\" font-family=\"Times,serif\" font-size=\"14.00\">s</text>\n</g>\n<!-- 0&#45;&#45;1 -->\n<g id=\"edge1\" class=\"edge\">\n<title>0&#45;&#45;1</title>\n<path fill=\"none\" stroke=\"black\" d=\"M72.95,-433.43C68.65,-422.75 58.64,-397.94 53.77,-385.86\"/>\n</g>\n<!-- 12 -->\n<g id=\"node13\" class=\"node\">\n<title>12</title>\n</g>\n<!-- 0&#45;&#45;12 -->\n<g id=\"edge12\" class=\"edge\">\n<title>0&#45;&#45;12</title>\n<path fill=\"none\" stroke=\"lightgreen\" d=\"M77.05,-433.43C80.33,-425.28 86.94,-408.9 92.05,-396.23\"/>\n</g>\n<!-- 2 -->\n<g id=\"node3\" class=\"node\">\n<title>2</title>\n</g>\n<!-- 1&#45;&#45;2 -->\n<g id=\"edge2\" class=\"edge\">\n<title>1&#45;&#45;2</title>\n<path fill=\"none\" stroke=\"lightgreen\" d=\"M48.79,-370.29C45.33,-359.75 38.51,-338.99 33.62,-324.12\"/>\n</g>\n<!-- 3 -->\n<g id=\"node4\" class=\"node\">\n<title>3</title>\n<text text-anchor=\"middle\" x=\"75\" y=\"-302.3\" font-family=\"Times,serif\" font-size=\"14.00\">l</text>\n</g>\n<!-- 1&#45;&#45;3 -->\n<g id=\"edge3\" class=\"edge\">\n<title>1&#45;&#45;3</title>\n<path fill=\"none\" stroke=\"black\" d=\"M53.3,-370.29C57.95,-356.74 68.39,-326.29 72.88,-313.19\"/>\n</g>\n<!-- 4 -->\n<g id=\"node5\" class=\"node\">\n<title>4</title>\n<text text-anchor=\"middle\" x=\"51\" y=\"-230.3\" font-family=\"Times,serif\" font-size=\"14.00\">s</text>\n</g>\n<!-- 3&#45;&#45;4 -->\n<g id=\"edge4\" class=\"edge\">\n<title>3&#45;&#45;4</title>\n<path fill=\"none\" stroke=\"black\" d=\"M72.95,-299.03C68.51,-286.07 58,-255.42 53.32,-241.77\"/>\n</g>\n<!-- 11 -->\n<g id=\"node12\" class=\"node\">\n<title>11</title>\n</g>\n<!-- 3&#45;&#45;11 -->\n<g id=\"edge11\" class=\"edge\">\n<title>3&#45;&#45;11</title>\n<path fill=\"none\" stroke=\"lightgreen\" d=\"M77.05,-299.03C80.56,-288.78 87.87,-267.47 93.09,-252.25\"/>\n</g>\n<!-- 5 -->\n<g id=\"node6\" class=\"node\">\n<title>5</title>\n<text text-anchor=\"middle\" x=\"27\" y=\"-158.3\" font-family=\"Times,serif\" font-size=\"14.00\">*</text>\n</g>\n<!-- 4&#45;&#45;5 -->\n<g id=\"edge5\" class=\"edge\">\n<title>4&#45;&#45;5</title>\n<path fill=\"none\" stroke=\"lightgreen\" d=\"M48.7,-226.29C45.09,-215.75 37.97,-194.99 32.87,-180.12\"/>\n</g>\n<!-- 6 -->\n<g id=\"node7\" class=\"node\">\n<title>6</title>\n<text text-anchor=\"middle\" x=\"75\" y=\"-158.3\" font-family=\"Times,serif\" font-size=\"14.00\">s</text>\n</g>\n<!-- 4&#45;&#45;6 -->\n<g id=\"edge6\" class=\"edge\">\n<title>4&#45;&#45;6</title>\n<path fill=\"none\" stroke=\"black\" d=\"M53.3,-226.29C57.9,-212.87 68.18,-182.9 72.74,-169.59\"/>\n</g>\n<!-- 7 -->\n<g id=\"node8\" class=\"node\">\n<title>7</title>\n</g>\n<!-- 6&#45;&#45;7 -->\n<g id=\"edge7\" class=\"edge\">\n<title>6&#45;&#45;7</title>\n<path fill=\"none\" stroke=\"lightgreen\" d=\"M72.6,-154.29C68.84,-143.75 61.42,-122.99 56.11,-108.12\"/>\n</g>\n<!-- 8 -->\n<g id=\"node9\" class=\"node\">\n<title>8</title>\n<text text-anchor=\"middle\" x=\"99\" y=\"-86.3\" font-family=\"Times,serif\" font-size=\"14.00\">o</text>\n</g>\n<!-- 6&#45;&#45;8 -->\n<g id=\"edge8\" class=\"edge\">\n<title>6&#45;&#45;8</title>\n<path fill=\"none\" stroke=\"black\" d=\"M77.3,-154.29C81.9,-140.87 92.18,-110.9 96.74,-97.59\"/>\n</g>\n<!-- 9 -->\n<g id=\"node10\" class=\"node\">\n<title>9</title>\n</g>\n<!-- 8&#45;&#45;9 -->\n<g id=\"edge9\" class=\"edge\">\n<title>8&#45;&#45;9</title>\n<path fill=\"none\" stroke=\"lightgreen\" d=\"M95.55,-82.29C90.13,-71.75 79.45,-50.99 71.8,-36.12\"/>\n</g>\n<!-- 10 -->\n<g id=\"node11\" class=\"node\">\n<title>10</title>\n</g>\n<!-- 8&#45;&#45;10 -->\n<g id=\"edge10\" class=\"edge\">\n<title>8&#45;&#45;10</title>\n<path fill=\"none\" stroke=\"lightgreen\" d=\"M102.45,-82.29C107.87,-71.75 118.55,-50.99 126.2,-36.12\"/>\n</g>\n</g>\n</svg>\n</div></td><td style=\"border-top:hidden;border-bottom:hidden;\"><div align=\"center\" style=\"\"><?xml version=\"1.0\" encoding=\"UTF-8\" standalone=\"no\"?>\n<!DOCTYPE svg PUBLIC \"-//W3C//DTD SVG 1.1//EN\"\n \"http://www.w3.org/Graphics/SVG/1.1/DTD/svg11.dtd\">\n<!-- Generated by graphviz version 2.44.1 (20200629.0846)\n -->\n<!-- Pages: 1 -->\n<svg width=\"147pt\" height=\"239pt\"\n viewBox=\"0.00 0.00 147.00 239.00\" xmlns=\"http://www.w3.org/2000/svg\" xmlns:xlink=\"http://www.w3.org/1999/xlink\">\n<g id=\"graph0\" class=\"graph\" transform=\"scale(1 1) rotate(0) translate(4 235)\">\n<polygon fill=\"white\" stroke=\"transparent\" points=\"-4,4 -4,-235 143,-235 143,4 -4,4\"/>\n<!-- 0 -->\n<g id=\"node1\" class=\"node\">\n<title>0</title>\n<text text-anchor=\"middle\" x=\"75\" y=\"-219.8\" font-family=\"Times,serif\" font-size=\"14.00\">l</text>\n</g>\n<!-- 1 -->\n<g id=\"node2\" class=\"node\">\n<title>1</title>\n<text text-anchor=\"middle\" x=\"51\" y=\"-158.3\" font-family=\"Times,serif\" font-size=\"14.00\">s</text>\n</g>\n<!-- 0&#45;&#45;1 -->\n<g id=\"edge1\" class=\"edge\">\n<title>0&#45;&#45;1</title>\n<path fill=\"none\" stroke=\"black\" d=\"M72.95,-217.43C68.65,-206.75 58.64,-181.94 53.77,-169.86\"/>\n</g>\n<!-- 6 -->\n<g id=\"node7\" class=\"node\">\n<title>6</title>\n</g>\n<!-- 0&#45;&#45;6 -->\n<g id=\"edge6\" class=\"edge\">\n<title>0&#45;&#45;6</title>\n<path fill=\"none\" stroke=\"lightgreen\" d=\"M77.05,-217.43C80.33,-209.28 86.94,-192.9 92.05,-180.23\"/>\n</g>\n<!-- 2 -->\n<g id=\"node3\" class=\"node\">\n<title>2</title>\n</g>\n<!-- 1&#45;&#45;2 -->\n<g id=\"edge2\" class=\"edge\">\n<title>1&#45;&#45;2</title>\n<path fill=\"none\" stroke=\"lightgreen\" d=\"M48.7,-154.29C45.09,-143.75 37.97,-122.99 32.87,-108.12\"/>\n</g>\n<!-- 3 -->\n<g id=\"node4\" class=\"node\">\n<title>3</title>\n<text text-anchor=\"middle\" x=\"76\" y=\"-86.3\" font-family=\"Times,serif\" font-size=\"14.00\">o</text>\n</g>\n<!-- 1&#45;&#45;3 -->\n<g id=\"edge3\" class=\"edge\">\n<title>1&#45;&#45;3</title>\n<path fill=\"none\" stroke=\"black\" d=\"M53.4,-154.29C58.19,-140.87 68.89,-110.9 73.65,-97.59\"/>\n</g>\n<!-- 4 -->\n<g id=\"node5\" class=\"node\">\n<title>4</title>\n</g>\n<!-- 3&#45;&#45;4 -->\n<g id=\"edge4\" class=\"edge\">\n<title>3&#45;&#45;4</title>\n<path fill=\"none\" stroke=\"lightgreen\" d=\"M72.55,-82.29C67.13,-71.75 56.45,-50.99 48.8,-36.12\"/>\n</g>\n<!-- 5 -->\n<g id=\"node6\" class=\"node\">\n<title>5</title>\n</g>\n<!-- 3&#45;&#45;5 -->\n<g id=\"edge5\" class=\"edge\">\n<title>3&#45;&#45;5</title>\n<path fill=\"none\" stroke=\"lightgreen\" d=\"M79.45,-82.29C84.87,-71.75 95.55,-50.99 103.2,-36.12\"/>\n</g>\n</g>\n</svg>\n</div></td></tr></table>"
     },
     "metadata": {},
     "output_type": "display_data"
    },
    {
     "data": {
      "text/plain": "<IPython.core.display.HTML object>",
      "text/html": "<table style=\"border-style: hidden; border-collapse: collapse;\" width=\"100%\"><tr><td style=\"border-top:hidden;border-bottom:hidden;\"><div align=\"center\" style=\"\"><?xml version=\"1.0\" encoding=\"UTF-8\" standalone=\"no\"?>\n<!DOCTYPE svg PUBLIC \"-//W3C//DTD SVG 1.1//EN\"\n \"http://www.w3.org/Graphics/SVG/1.1/DTD/svg11.dtd\">\n<!-- Generated by graphviz version 2.44.1 (20200629.0846)\n -->\n<!-- Pages: 1 -->\n<svg width=\"108pt\" height=\"288pt\"\n viewBox=\"0.00 0.00 108.24 288.00\" xmlns=\"http://www.w3.org/2000/svg\" xmlns:xlink=\"http://www.w3.org/1999/xlink\">\n<g id=\"graph0\" class=\"graph\" transform=\"scale(0.63 0.63) rotate(0) translate(4 451)\">\n<polygon fill=\"white\" stroke=\"transparent\" points=\"-4,4 -4,-451 167,-451 167,4 -4,4\"/>\n<!-- 0 -->\n<g id=\"node1\" class=\"node\">\n<title>0</title>\n<text text-anchor=\"middle\" x=\"75\" y=\"-435.8\" font-family=\"Times,serif\" font-size=\"14.00\">l</text>\n</g>\n<!-- 1 -->\n<g id=\"node2\" class=\"node\">\n<title>1</title>\n<text text-anchor=\"middle\" x=\"51\" y=\"-374.3\" font-family=\"Times,serif\" font-size=\"14.00\">s</text>\n</g>\n<!-- 0&#45;&#45;1 -->\n<g id=\"edge1\" class=\"edge\">\n<title>0&#45;&#45;1</title>\n<path fill=\"none\" stroke=\"black\" d=\"M72.95,-433.43C68.65,-422.75 58.64,-397.94 53.77,-385.86\"/>\n</g>\n<!-- 12 -->\n<g id=\"node13\" class=\"node\">\n<title>12</title>\n</g>\n<!-- 0&#45;&#45;12 -->\n<g id=\"edge12\" class=\"edge\">\n<title>0&#45;&#45;12</title>\n<path fill=\"none\" stroke=\"lightgreen\" d=\"M77.05,-433.43C80.33,-425.28 86.94,-408.9 92.05,-396.23\"/>\n</g>\n<!-- 2 -->\n<g id=\"node3\" class=\"node\">\n<title>2</title>\n</g>\n<!-- 1&#45;&#45;2 -->\n<g id=\"edge2\" class=\"edge\">\n<title>1&#45;&#45;2</title>\n<path fill=\"none\" stroke=\"lightgreen\" d=\"M48.7,-370.29C45.09,-359.75 37.97,-338.99 32.87,-324.12\"/>\n</g>\n<!-- 3 -->\n<g id=\"node4\" class=\"node\">\n<title>3</title>\n<text text-anchor=\"middle\" x=\"75\" y=\"-302.3\" font-family=\"Times,serif\" font-size=\"14.00\">s</text>\n</g>\n<!-- 1&#45;&#45;3 -->\n<g id=\"edge3\" class=\"edge\">\n<title>1&#45;&#45;3</title>\n<path fill=\"none\" stroke=\"black\" d=\"M53.3,-370.29C57.9,-356.87 68.18,-326.9 72.74,-313.59\"/>\n</g>\n<!-- 4 -->\n<g id=\"node5\" class=\"node\">\n<title>4</title>\n</g>\n<!-- 3&#45;&#45;4 -->\n<g id=\"edge4\" class=\"edge\">\n<title>3&#45;&#45;4</title>\n<path fill=\"none\" stroke=\"lightgreen\" d=\"M72.79,-298.29C69.33,-287.75 62.51,-266.99 57.62,-252.12\"/>\n</g>\n<!-- 5 -->\n<g id=\"node6\" class=\"node\">\n<title>5</title>\n<text text-anchor=\"middle\" x=\"99\" y=\"-230.3\" font-family=\"Times,serif\" font-size=\"14.00\">l</text>\n</g>\n<!-- 3&#45;&#45;5 -->\n<g id=\"edge5\" class=\"edge\">\n<title>3&#45;&#45;5</title>\n<path fill=\"none\" stroke=\"black\" d=\"M77.3,-298.29C81.95,-284.74 92.39,-254.29 96.88,-241.19\"/>\n</g>\n<!-- 6 -->\n<g id=\"node7\" class=\"node\">\n<title>6</title>\n<text text-anchor=\"middle\" x=\"75\" y=\"-158.3\" font-family=\"Times,serif\" font-size=\"14.00\">s</text>\n</g>\n<!-- 5&#45;&#45;6 -->\n<g id=\"edge6\" class=\"edge\">\n<title>5&#45;&#45;6</title>\n<path fill=\"none\" stroke=\"black\" d=\"M96.95,-227.03C92.51,-214.07 82,-183.42 77.32,-169.77\"/>\n</g>\n<!-- 11 -->\n<g id=\"node12\" class=\"node\">\n<title>11</title>\n</g>\n<!-- 5&#45;&#45;11 -->\n<g id=\"edge11\" class=\"edge\">\n<title>5&#45;&#45;11</title>\n<path fill=\"none\" stroke=\"lightgreen\" d=\"M101.05,-227.03C104.56,-216.78 111.87,-195.47 117.09,-180.25\"/>\n</g>\n<!-- 7 -->\n<g id=\"node8\" class=\"node\">\n<title>7</title>\n<text text-anchor=\"middle\" x=\"51\" y=\"-86.3\" font-family=\"Times,serif\" font-size=\"14.00\">*</text>\n</g>\n<!-- 6&#45;&#45;7 -->\n<g id=\"edge7\" class=\"edge\">\n<title>6&#45;&#45;7</title>\n<path fill=\"none\" stroke=\"lightgreen\" d=\"M72.7,-154.29C69.09,-143.75 61.97,-122.99 56.87,-108.12\"/>\n</g>\n<!-- 8 -->\n<g id=\"node9\" class=\"node\">\n<title>8</title>\n<text text-anchor=\"middle\" x=\"100\" y=\"-86.3\" font-family=\"Times,serif\" font-size=\"14.00\">o</text>\n</g>\n<!-- 6&#45;&#45;8 -->\n<g id=\"edge8\" class=\"edge\">\n<title>6&#45;&#45;8</title>\n<path fill=\"none\" stroke=\"black\" d=\"M77.4,-154.29C82.19,-140.87 92.89,-110.9 97.65,-97.59\"/>\n</g>\n<!-- 9 -->\n<g id=\"node10\" class=\"node\">\n<title>9</title>\n</g>\n<!-- 8&#45;&#45;9 -->\n<g id=\"edge9\" class=\"edge\">\n<title>8&#45;&#45;9</title>\n<path fill=\"none\" stroke=\"lightgreen\" d=\"M96.55,-82.29C91.13,-71.75 80.45,-50.99 72.8,-36.12\"/>\n</g>\n<!-- 10 -->\n<g id=\"node11\" class=\"node\">\n<title>10</title>\n</g>\n<!-- 8&#45;&#45;10 -->\n<g id=\"edge10\" class=\"edge\">\n<title>8&#45;&#45;10</title>\n<path fill=\"none\" stroke=\"lightgreen\" d=\"M103.45,-82.29C108.87,-71.75 119.55,-50.99 127.2,-36.12\"/>\n</g>\n</g>\n</svg>\n</div></td><td style=\"border-top:hidden;border-bottom:hidden;\"><div align=\"center\" style=\"\"><?xml version=\"1.0\" encoding=\"UTF-8\" standalone=\"no\"?>\n<!DOCTYPE svg PUBLIC \"-//W3C//DTD SVG 1.1//EN\"\n \"http://www.w3.org/Graphics/SVG/1.1/DTD/svg11.dtd\">\n<!-- Generated by graphviz version 2.44.1 (20200629.0846)\n -->\n<!-- Pages: 1 -->\n<svg width=\"147pt\" height=\"239pt\"\n viewBox=\"0.00 0.00 147.00 239.00\" xmlns=\"http://www.w3.org/2000/svg\" xmlns:xlink=\"http://www.w3.org/1999/xlink\">\n<g id=\"graph0\" class=\"graph\" transform=\"scale(1 1) rotate(0) translate(4 235)\">\n<polygon fill=\"white\" stroke=\"transparent\" points=\"-4,4 -4,-235 143,-235 143,4 -4,4\"/>\n<!-- 0 -->\n<g id=\"node1\" class=\"node\">\n<title>0</title>\n<text text-anchor=\"middle\" x=\"75\" y=\"-219.8\" font-family=\"Times,serif\" font-size=\"14.00\">l</text>\n</g>\n<!-- 1 -->\n<g id=\"node2\" class=\"node\">\n<title>1</title>\n<text text-anchor=\"middle\" x=\"51\" y=\"-158.3\" font-family=\"Times,serif\" font-size=\"14.00\">s</text>\n</g>\n<!-- 0&#45;&#45;1 -->\n<g id=\"edge1\" class=\"edge\">\n<title>0&#45;&#45;1</title>\n<path fill=\"none\" stroke=\"black\" d=\"M72.95,-217.43C68.65,-206.75 58.64,-181.94 53.77,-169.86\"/>\n</g>\n<!-- 6 -->\n<g id=\"node7\" class=\"node\">\n<title>6</title>\n</g>\n<!-- 0&#45;&#45;6 -->\n<g id=\"edge6\" class=\"edge\">\n<title>0&#45;&#45;6</title>\n<path fill=\"none\" stroke=\"lightgreen\" d=\"M77.05,-217.43C80.33,-209.28 86.94,-192.9 92.05,-180.23\"/>\n</g>\n<!-- 2 -->\n<g id=\"node3\" class=\"node\">\n<title>2</title>\n</g>\n<!-- 1&#45;&#45;2 -->\n<g id=\"edge2\" class=\"edge\">\n<title>1&#45;&#45;2</title>\n<path fill=\"none\" stroke=\"lightgreen\" d=\"M48.7,-154.29C45.09,-143.75 37.97,-122.99 32.87,-108.12\"/>\n</g>\n<!-- 3 -->\n<g id=\"node4\" class=\"node\">\n<title>3</title>\n<text text-anchor=\"middle\" x=\"76\" y=\"-86.3\" font-family=\"Times,serif\" font-size=\"14.00\">o</text>\n</g>\n<!-- 1&#45;&#45;3 -->\n<g id=\"edge3\" class=\"edge\">\n<title>1&#45;&#45;3</title>\n<path fill=\"none\" stroke=\"black\" d=\"M53.4,-154.29C58.19,-140.87 68.89,-110.9 73.65,-97.59\"/>\n</g>\n<!-- 4 -->\n<g id=\"node5\" class=\"node\">\n<title>4</title>\n</g>\n<!-- 3&#45;&#45;4 -->\n<g id=\"edge4\" class=\"edge\">\n<title>3&#45;&#45;4</title>\n<path fill=\"none\" stroke=\"lightgreen\" d=\"M72.55,-82.29C67.13,-71.75 56.45,-50.99 48.8,-36.12\"/>\n</g>\n<!-- 5 -->\n<g id=\"node6\" class=\"node\">\n<title>5</title>\n</g>\n<!-- 3&#45;&#45;5 -->\n<g id=\"edge5\" class=\"edge\">\n<title>3&#45;&#45;5</title>\n<path fill=\"none\" stroke=\"lightgreen\" d=\"M79.45,-82.29C84.87,-71.75 95.55,-50.99 103.2,-36.12\"/>\n</g>\n</g>\n</svg>\n</div></td></tr></table>"
     },
     "metadata": {},
     "output_type": "display_data"
    },
    {
     "data": {
      "text/plain": "<IPython.core.display.HTML object>",
      "text/html": "<table style=\"border-style: hidden; border-collapse: collapse;\" width=\"100%\"><tr><td style=\"border-top:hidden;border-bottom:hidden;\"><div align=\"center\" style=\"\"><?xml version=\"1.0\" encoding=\"UTF-8\" standalone=\"no\"?>\n<!DOCTYPE svg PUBLIC \"-//W3C//DTD SVG 1.1//EN\"\n \"http://www.w3.org/Graphics/SVG/1.1/DTD/svg11.dtd\">\n<!-- Generated by graphviz version 2.44.1 (20200629.0846)\n -->\n<!-- Pages: 1 -->\n<svg width=\"221pt\" height=\"288pt\"\n viewBox=\"0.00 0.00 221.17 288.00\" xmlns=\"http://www.w3.org/2000/svg\" xmlns:xlink=\"http://www.w3.org/1999/xlink\">\n<g id=\"graph0\" class=\"graph\" transform=\"scale(0.8 0.8) rotate(0) translate(4 358)\">\n<polygon fill=\"white\" stroke=\"transparent\" points=\"-4,4 -4,-358 274,-358 274,4 -4,4\"/>\n<!-- 0 -->\n<g id=\"node1\" class=\"node\">\n<title>0</title>\n<text text-anchor=\"middle\" x=\"110\" y=\"-342.8\" font-family=\"Times,serif\" font-size=\"14.00\">s</text>\n</g>\n<!-- 1 -->\n<g id=\"node2\" class=\"node\">\n<title>1</title>\n</g>\n<!-- 0&#45;&#45;1 -->\n<g id=\"edge1\" class=\"edge\">\n<title>0&#45;&#45;1</title>\n<path fill=\"none\" stroke=\"lightgreen\" d=\"M107.36,-338.67C104.03,-330.07 98.2,-314.96 93.62,-303.13\"/>\n</g>\n<!-- 2 -->\n<g id=\"node3\" class=\"node\">\n<title>2</title>\n<text text-anchor=\"middle\" x=\"134\" y=\"-281.3\" font-family=\"Times,serif\" font-size=\"14.00\">l</text>\n</g>\n<!-- 0&#45;&#45;2 -->\n<g id=\"edge2\" class=\"edge\">\n<title>0&#45;&#45;2</title>\n<path fill=\"none\" stroke=\"black\" d=\"M112.75,-338.67C117.63,-326.59 127.67,-301.69 131.97,-291.02\"/>\n</g>\n<!-- 3 -->\n<g id=\"node4\" class=\"node\">\n<title>3</title>\n<text text-anchor=\"middle\" x=\"110\" y=\"-209.3\" font-family=\"Times,serif\" font-size=\"14.00\">s</text>\n</g>\n<!-- 2&#45;&#45;3 -->\n<g id=\"edge3\" class=\"edge\">\n<title>2&#45;&#45;3</title>\n<path fill=\"none\" stroke=\"black\" d=\"M131.95,-278.03C127.51,-265.07 117,-234.42 112.32,-220.77\"/>\n</g>\n<!-- 12 -->\n<g id=\"node13\" class=\"node\">\n<title>12</title>\n</g>\n<!-- 2&#45;&#45;12 -->\n<g id=\"edge12\" class=\"edge\">\n<title>2&#45;&#45;12</title>\n<path fill=\"none\" stroke=\"lightgreen\" d=\"M136.05,-278.03C139.56,-267.78 146.87,-246.47 152.09,-231.25\"/>\n</g>\n<!-- 4 -->\n<g id=\"node5\" class=\"node\">\n<title>4</title>\n<text text-anchor=\"middle\" x=\"86\" y=\"-137.3\" font-family=\"Times,serif\" font-size=\"14.00\">*</text>\n</g>\n<!-- 3&#45;&#45;4 -->\n<g id=\"edge4\" class=\"edge\">\n<title>3&#45;&#45;4</title>\n<path fill=\"none\" stroke=\"lightgreen\" d=\"M107.7,-205.29C104.09,-194.75 96.97,-173.99 91.87,-159.12\"/>\n</g>\n<!-- 5 -->\n<g id=\"node6\" class=\"node\">\n<title>5</title>\n<text text-anchor=\"middle\" x=\"135\" y=\"-137.3\" font-family=\"Times,serif\" font-size=\"14.00\">a</text>\n</g>\n<!-- 3&#45;&#45;5 -->\n<g id=\"edge5\" class=\"edge\">\n<title>3&#45;&#45;5</title>\n<path fill=\"none\" stroke=\"black\" d=\"M112.4,-205.29C117.19,-191.87 127.89,-161.9 132.65,-148.59\"/>\n</g>\n<!-- 6 -->\n<g id=\"node7\" class=\"node\">\n<title>6</title>\n<text text-anchor=\"middle\" x=\"99\" y=\"-75.8\" font-family=\"Times,serif\" font-size=\"14.00\">o</text>\n</g>\n<!-- 5&#45;&#45;6 -->\n<g id=\"edge6\" class=\"edge\">\n<title>5&#45;&#45;6</title>\n<path fill=\"none\" stroke=\"black\" d=\"M131.42,-134.08C124.52,-122.67 109.46,-97.78 102.57,-86.4\"/>\n</g>\n<!-- 9 -->\n<g id=\"node10\" class=\"node\">\n<title>9</title>\n<text text-anchor=\"middle\" x=\"171\" y=\"-75.8\" font-family=\"Times,serif\" font-size=\"14.00\">o</text>\n</g>\n<!-- 5&#45;&#45;9 -->\n<g id=\"edge9\" class=\"edge\">\n<title>5&#45;&#45;9</title>\n<path fill=\"none\" stroke=\"black\" d=\"M138.58,-134.08C145.48,-122.67 160.54,-97.78 167.43,-86.4\"/>\n</g>\n<!-- 7 -->\n<g id=\"node8\" class=\"node\">\n<title>7</title>\n</g>\n<!-- 6&#45;&#45;7 -->\n<g id=\"edge7\" class=\"edge\">\n<title>6&#45;&#45;7</title>\n<path fill=\"none\" stroke=\"lightgreen\" d=\"M95.13,-75.3C86.37,-68.06 64.48,-49.97 47.86,-36.24\"/>\n</g>\n<!-- 8 -->\n<g id=\"node9\" class=\"node\">\n<title>8</title>\n</g>\n<!-- 6&#45;&#45;8 -->\n<g id=\"edge8\" class=\"edge\">\n<title>6&#45;&#45;8</title>\n<path fill=\"none\" stroke=\"lightgreen\" d=\"M99,-71.67C99,-63.07 99,-47.96 99,-36.13\"/>\n</g>\n<!-- 10 -->\n<g id=\"node11\" class=\"node\">\n<title>10</title>\n</g>\n<!-- 9&#45;&#45;10 -->\n<g id=\"edge10\" class=\"edge\">\n<title>9&#45;&#45;10</title>\n<path fill=\"none\" stroke=\"lightgreen\" d=\"M171,-71.67C171,-63.07 171,-47.96 171,-36.13\"/>\n</g>\n<!-- 11 -->\n<g id=\"node12\" class=\"node\">\n<title>11</title>\n</g>\n<!-- 9&#45;&#45;11 -->\n<g id=\"edge11\" class=\"edge\">\n<title>9&#45;&#45;11</title>\n<path fill=\"none\" stroke=\"lightgreen\" d=\"M174.87,-75.3C183.63,-68.06 205.52,-49.97 222.14,-36.24\"/>\n</g>\n</g>\n</svg>\n</div></td><td style=\"border-top:hidden;border-bottom:hidden;\"><div align=\"center\" style=\"\"><?xml version=\"1.0\" encoding=\"UTF-8\" standalone=\"no\"?>\n<!DOCTYPE svg PUBLIC \"-//W3C//DTD SVG 1.1//EN\"\n \"http://www.w3.org/Graphics/SVG/1.1/DTD/svg11.dtd\">\n<!-- Generated by graphviz version 2.44.1 (20200629.0846)\n -->\n<!-- Pages: 1 -->\n<svg width=\"278pt\" height=\"146pt\"\n viewBox=\"0.00 0.00 278.00 146.00\" xmlns=\"http://www.w3.org/2000/svg\" xmlns:xlink=\"http://www.w3.org/1999/xlink\">\n<g id=\"graph0\" class=\"graph\" transform=\"scale(1 1) rotate(0) translate(4 142)\">\n<polygon fill=\"white\" stroke=\"transparent\" points=\"-4,4 -4,-142 274,-142 274,4 -4,4\"/>\n<!-- 0 -->\n<g id=\"node1\" class=\"node\">\n<title>0</title>\n<text text-anchor=\"middle\" x=\"135\" y=\"-126.8\" font-family=\"Times,serif\" font-size=\"14.00\">a</text>\n</g>\n<!-- 1 -->\n<g id=\"node2\" class=\"node\">\n<title>1</title>\n<text text-anchor=\"middle\" x=\"99\" y=\"-75.8\" font-family=\"Times,serif\" font-size=\"14.00\">o</text>\n</g>\n<!-- 0&#45;&#45;1 -->\n<g id=\"edge1\" class=\"edge\">\n<title>0&#45;&#45;1</title>\n<path fill=\"none\" stroke=\"black\" d=\"M131.42,-124.62C124.52,-115.23 109.46,-94.73 102.57,-85.36\"/>\n</g>\n<!-- 4 -->\n<g id=\"node5\" class=\"node\">\n<title>4</title>\n<text text-anchor=\"middle\" x=\"171\" y=\"-75.8\" font-family=\"Times,serif\" font-size=\"14.00\">o</text>\n</g>\n<!-- 0&#45;&#45;4 -->\n<g id=\"edge4\" class=\"edge\">\n<title>0&#45;&#45;4</title>\n<path fill=\"none\" stroke=\"black\" d=\"M138.58,-124.62C145.48,-115.23 160.54,-94.73 167.43,-85.36\"/>\n</g>\n<!-- 2 -->\n<g id=\"node3\" class=\"node\">\n<title>2</title>\n</g>\n<!-- 1&#45;&#45;2 -->\n<g id=\"edge2\" class=\"edge\">\n<title>1&#45;&#45;2</title>\n<path fill=\"none\" stroke=\"lightgreen\" d=\"M95.13,-75.3C86.37,-68.06 64.48,-49.97 47.86,-36.24\"/>\n</g>\n<!-- 3 -->\n<g id=\"node4\" class=\"node\">\n<title>3</title>\n</g>\n<!-- 1&#45;&#45;3 -->\n<g id=\"edge3\" class=\"edge\">\n<title>1&#45;&#45;3</title>\n<path fill=\"none\" stroke=\"lightgreen\" d=\"M99,-71.67C99,-63.07 99,-47.96 99,-36.13\"/>\n</g>\n<!-- 5 -->\n<g id=\"node6\" class=\"node\">\n<title>5</title>\n</g>\n<!-- 4&#45;&#45;5 -->\n<g id=\"edge5\" class=\"edge\">\n<title>4&#45;&#45;5</title>\n<path fill=\"none\" stroke=\"lightgreen\" d=\"M171,-71.67C171,-63.07 171,-47.96 171,-36.13\"/>\n</g>\n<!-- 6 -->\n<g id=\"node7\" class=\"node\">\n<title>6</title>\n</g>\n<!-- 4&#45;&#45;6 -->\n<g id=\"edge6\" class=\"edge\">\n<title>4&#45;&#45;6</title>\n<path fill=\"none\" stroke=\"lightgreen\" d=\"M174.87,-75.3C183.63,-68.06 205.52,-49.97 222.14,-36.24\"/>\n</g>\n</g>\n</svg>\n</div></td></tr></table>"
     },
     "metadata": {},
     "output_type": "display_data"
    },
    {
     "data": {
      "text/plain": "<IPython.core.display.HTML object>",
      "text/html": "<table style=\"border-style: hidden; border-collapse: collapse;\" width=\"100%\"><tr><td style=\"border-top:hidden;border-bottom:hidden;\"><div align=\"center\" style=\"\"><?xml version=\"1.0\" encoding=\"UTF-8\" standalone=\"no\"?>\n<!DOCTYPE svg PUBLIC \"-//W3C//DTD SVG 1.1//EN\"\n \"http://www.w3.org/Graphics/SVG/1.1/DTD/svg11.dtd\">\n<!-- Generated by graphviz version 2.44.1 (20200629.0846)\n -->\n<!-- Pages: 1 -->\n<svg width=\"182pt\" height=\"288pt\"\n viewBox=\"0.00 0.00 182.19 288.00\" xmlns=\"http://www.w3.org/2000/svg\" xmlns:xlink=\"http://www.w3.org/1999/xlink\">\n<g id=\"graph0\" class=\"graph\" transform=\"scale(0.8 0.8) rotate(0) translate(4 358)\">\n<polygon fill=\"white\" stroke=\"transparent\" points=\"-4,4 -4,-358 225,-358 225,4 -4,4\"/>\n<!-- 0 -->\n<g id=\"node1\" class=\"node\">\n<title>0</title>\n<text text-anchor=\"middle\" x=\"98\" y=\"-342.8\" font-family=\"Times,serif\" font-size=\"14.00\">a</text>\n</g>\n<!-- 1 -->\n<g id=\"node2\" class=\"node\">\n<title>1</title>\n<text text-anchor=\"middle\" x=\"75\" y=\"-291.8\" font-family=\"Times,serif\" font-size=\"14.00\">s</text>\n</g>\n<!-- 0&#45;&#45;1 -->\n<g id=\"edge1\" class=\"edge\">\n<title>0&#45;&#45;1</title>\n<path fill=\"none\" stroke=\"black\" d=\"M94.8,-338.69C90.36,-329.22 82.37,-312.21 78.02,-302.94\"/>\n</g>\n<!-- 10 -->\n<g id=\"node11\" class=\"node\">\n<title>10</title>\n<text text-anchor=\"middle\" x=\"122\" y=\"-291.8\" font-family=\"Times,serif\" font-size=\"14.00\">o</text>\n</g>\n<!-- 0&#45;&#45;10 -->\n<g id=\"edge10\" class=\"edge\">\n<title>0&#45;&#45;10</title>\n<path fill=\"none\" stroke=\"black\" d=\"M101.34,-338.69C105.92,-329.33 114.12,-312.59 118.69,-303.26\"/>\n</g>\n<!-- 2 -->\n<g id=\"node3\" class=\"node\">\n<title>2</title>\n</g>\n<!-- 1&#45;&#45;2 -->\n<g id=\"edge2\" class=\"edge\">\n<title>1&#45;&#45;2</title>\n<path fill=\"none\" stroke=\"lightgreen\" d=\"M71.92,-290.6C65.87,-282.94 52.14,-265.56 41.63,-252.25\"/>\n</g>\n<!-- 3 -->\n<g id=\"node4\" class=\"node\">\n<title>3</title>\n<text text-anchor=\"middle\" x=\"75\" y=\"-230.3\" font-family=\"Times,serif\" font-size=\"14.00\">l</text>\n</g>\n<!-- 1&#45;&#45;3 -->\n<g id=\"edge3\" class=\"edge\">\n<title>1&#45;&#45;3</title>\n<path fill=\"none\" stroke=\"black\" d=\"M75,-287.67C75,-276.2 75,-253.17 75,-241.75\"/>\n</g>\n<!-- 4 -->\n<g id=\"node5\" class=\"node\">\n<title>4</title>\n<text text-anchor=\"middle\" x=\"51\" y=\"-158.3\" font-family=\"Times,serif\" font-size=\"14.00\">s</text>\n</g>\n<!-- 3&#45;&#45;4 -->\n<g id=\"edge4\" class=\"edge\">\n<title>3&#45;&#45;4</title>\n<path fill=\"none\" stroke=\"black\" d=\"M72.95,-227.03C68.51,-214.07 58,-183.42 53.32,-169.77\"/>\n</g>\n<!-- 9 -->\n<g id=\"node10\" class=\"node\">\n<title>9</title>\n</g>\n<!-- 3&#45;&#45;9 -->\n<g id=\"edge9\" class=\"edge\">\n<title>3&#45;&#45;9</title>\n<path fill=\"none\" stroke=\"lightgreen\" d=\"M77.05,-227.03C80.56,-216.78 87.87,-195.47 93.09,-180.25\"/>\n</g>\n<!-- 5 -->\n<g id=\"node6\" class=\"node\">\n<title>5</title>\n<text text-anchor=\"middle\" x=\"27\" y=\"-86.3\" font-family=\"Times,serif\" font-size=\"14.00\">*</text>\n</g>\n<!-- 4&#45;&#45;5 -->\n<g id=\"edge5\" class=\"edge\">\n<title>4&#45;&#45;5</title>\n<path fill=\"none\" stroke=\"lightgreen\" d=\"M48.7,-154.29C45.09,-143.75 37.97,-122.99 32.87,-108.12\"/>\n</g>\n<!-- 6 -->\n<g id=\"node7\" class=\"node\">\n<title>6</title>\n<text text-anchor=\"middle\" x=\"76\" y=\"-86.3\" font-family=\"Times,serif\" font-size=\"14.00\">o</text>\n</g>\n<!-- 4&#45;&#45;6 -->\n<g id=\"edge6\" class=\"edge\">\n<title>4&#45;&#45;6</title>\n<path fill=\"none\" stroke=\"black\" d=\"M53.4,-154.29C58.19,-140.87 68.89,-110.9 73.65,-97.59\"/>\n</g>\n<!-- 7 -->\n<g id=\"node8\" class=\"node\">\n<title>7</title>\n</g>\n<!-- 6&#45;&#45;7 -->\n<g id=\"edge7\" class=\"edge\">\n<title>6&#45;&#45;7</title>\n<path fill=\"none\" stroke=\"lightgreen\" d=\"M72.55,-82.29C67.13,-71.75 56.45,-50.99 48.8,-36.12\"/>\n</g>\n<!-- 8 -->\n<g id=\"node9\" class=\"node\">\n<title>8</title>\n</g>\n<!-- 6&#45;&#45;8 -->\n<g id=\"edge8\" class=\"edge\">\n<title>6&#45;&#45;8</title>\n<path fill=\"none\" stroke=\"lightgreen\" d=\"M79.45,-82.29C84.87,-71.75 95.55,-50.99 103.2,-36.12\"/>\n</g>\n<!-- 11 -->\n<g id=\"node12\" class=\"node\">\n<title>11</title>\n</g>\n<!-- 10&#45;&#45;11 -->\n<g id=\"edge11\" class=\"edge\">\n<title>10&#45;&#45;11</title>\n<path fill=\"none\" stroke=\"lightgreen\" d=\"M122,-287.67C122,-279.07 122,-263.96 122,-252.13\"/>\n</g>\n<!-- 12 -->\n<g id=\"node13\" class=\"node\">\n<title>12</title>\n</g>\n<!-- 10&#45;&#45;12 -->\n<g id=\"edge12\" class=\"edge\">\n<title>10&#45;&#45;12</title>\n<path fill=\"none\" stroke=\"lightgreen\" d=\"M125.87,-291.3C134.63,-284.06 156.52,-265.97 173.14,-252.24\"/>\n</g>\n</g>\n</svg>\n</div></td><td style=\"border-top:hidden;border-bottom:hidden;\"><div align=\"center\" style=\"\"><?xml version=\"1.0\" encoding=\"UTF-8\" standalone=\"no\"?>\n<!DOCTYPE svg PUBLIC \"-//W3C//DTD SVG 1.1//EN\"\n \"http://www.w3.org/Graphics/SVG/1.1/DTD/svg11.dtd\">\n<!-- Generated by graphviz version 2.44.1 (20200629.0846)\n -->\n<!-- Pages: 1 -->\n<svg width=\"278pt\" height=\"146pt\"\n viewBox=\"0.00 0.00 278.00 146.00\" xmlns=\"http://www.w3.org/2000/svg\" xmlns:xlink=\"http://www.w3.org/1999/xlink\">\n<g id=\"graph0\" class=\"graph\" transform=\"scale(1 1) rotate(0) translate(4 142)\">\n<polygon fill=\"white\" stroke=\"transparent\" points=\"-4,4 -4,-142 274,-142 274,4 -4,4\"/>\n<!-- 0 -->\n<g id=\"node1\" class=\"node\">\n<title>0</title>\n<text text-anchor=\"middle\" x=\"135\" y=\"-126.8\" font-family=\"Times,serif\" font-size=\"14.00\">a</text>\n</g>\n<!-- 1 -->\n<g id=\"node2\" class=\"node\">\n<title>1</title>\n<text text-anchor=\"middle\" x=\"99\" y=\"-75.8\" font-family=\"Times,serif\" font-size=\"14.00\">o</text>\n</g>\n<!-- 0&#45;&#45;1 -->\n<g id=\"edge1\" class=\"edge\">\n<title>0&#45;&#45;1</title>\n<path fill=\"none\" stroke=\"black\" d=\"M131.42,-124.62C124.52,-115.23 109.46,-94.73 102.57,-85.36\"/>\n</g>\n<!-- 4 -->\n<g id=\"node5\" class=\"node\">\n<title>4</title>\n<text text-anchor=\"middle\" x=\"171\" y=\"-75.8\" font-family=\"Times,serif\" font-size=\"14.00\">o</text>\n</g>\n<!-- 0&#45;&#45;4 -->\n<g id=\"edge4\" class=\"edge\">\n<title>0&#45;&#45;4</title>\n<path fill=\"none\" stroke=\"black\" d=\"M138.58,-124.62C145.48,-115.23 160.54,-94.73 167.43,-85.36\"/>\n</g>\n<!-- 2 -->\n<g id=\"node3\" class=\"node\">\n<title>2</title>\n</g>\n<!-- 1&#45;&#45;2 -->\n<g id=\"edge2\" class=\"edge\">\n<title>1&#45;&#45;2</title>\n<path fill=\"none\" stroke=\"lightgreen\" d=\"M95.13,-75.3C86.37,-68.06 64.48,-49.97 47.86,-36.24\"/>\n</g>\n<!-- 3 -->\n<g id=\"node4\" class=\"node\">\n<title>3</title>\n</g>\n<!-- 1&#45;&#45;3 -->\n<g id=\"edge3\" class=\"edge\">\n<title>1&#45;&#45;3</title>\n<path fill=\"none\" stroke=\"lightgreen\" d=\"M99,-71.67C99,-63.07 99,-47.96 99,-36.13\"/>\n</g>\n<!-- 5 -->\n<g id=\"node6\" class=\"node\">\n<title>5</title>\n</g>\n<!-- 4&#45;&#45;5 -->\n<g id=\"edge5\" class=\"edge\">\n<title>4&#45;&#45;5</title>\n<path fill=\"none\" stroke=\"lightgreen\" d=\"M171,-71.67C171,-63.07 171,-47.96 171,-36.13\"/>\n</g>\n<!-- 6 -->\n<g id=\"node7\" class=\"node\">\n<title>6</title>\n</g>\n<!-- 4&#45;&#45;6 -->\n<g id=\"edge6\" class=\"edge\">\n<title>4&#45;&#45;6</title>\n<path fill=\"none\" stroke=\"lightgreen\" d=\"M174.87,-75.3C183.63,-68.06 205.52,-49.97 222.14,-36.24\"/>\n</g>\n</g>\n</svg>\n</div></td></tr></table>"
     },
     "metadata": {},
     "output_type": "display_data"
    },
    {
     "data": {
      "text/plain": "<IPython.core.display.HTML object>",
      "text/html": "<table style=\"border-style: hidden; border-collapse: collapse;\" width=\"100%\"><tr><td style=\"border-top:hidden;border-bottom:hidden;\"><div align=\"center\" style=\"\"><?xml version=\"1.0\" encoding=\"UTF-8\" standalone=\"no\"?>\n<!DOCTYPE svg PUBLIC \"-//W3C//DTD SVG 1.1//EN\"\n \"http://www.w3.org/Graphics/SVG/1.1/DTD/svg11.dtd\">\n<!-- Generated by graphviz version 2.44.1 (20200629.0846)\n -->\n<!-- Pages: 1 -->\n<svg width=\"231pt\" height=\"288pt\"\n viewBox=\"0.00 0.00 230.72 288.00\" xmlns=\"http://www.w3.org/2000/svg\" xmlns:xlink=\"http://www.w3.org/1999/xlink\">\n<g id=\"graph0\" class=\"graph\" transform=\"scale(0.8 0.8) rotate(0) translate(4 358)\">\n<polygon fill=\"white\" stroke=\"transparent\" points=\"-4,4 -4,-358 286,-358 286,4 -4,4\"/>\n<!-- 0 -->\n<g id=\"node1\" class=\"node\">\n<title>0</title>\n<text text-anchor=\"middle\" x=\"135\" y=\"-342.8\" font-family=\"Times,serif\" font-size=\"14.00\">a</text>\n</g>\n<!-- 1 -->\n<g id=\"node2\" class=\"node\">\n<title>1</title>\n<text text-anchor=\"middle\" x=\"99\" y=\"-291.8\" font-family=\"Times,serif\" font-size=\"14.00\">o</text>\n</g>\n<!-- 0&#45;&#45;1 -->\n<g id=\"edge1\" class=\"edge\">\n<title>0&#45;&#45;1</title>\n<path fill=\"none\" stroke=\"black\" d=\"M131.42,-340.62C124.52,-331.23 109.46,-310.73 102.57,-301.36\"/>\n</g>\n<!-- 4 -->\n<g id=\"node5\" class=\"node\">\n<title>4</title>\n<text text-anchor=\"middle\" x=\"171\" y=\"-291.8\" font-family=\"Times,serif\" font-size=\"14.00\">s</text>\n</g>\n<!-- 0&#45;&#45;4 -->\n<g id=\"edge4\" class=\"edge\">\n<title>0&#45;&#45;4</title>\n<path fill=\"none\" stroke=\"black\" d=\"M138.58,-340.62C145.63,-331.04 161.17,-309.88 167.85,-300.79\"/>\n</g>\n<!-- 2 -->\n<g id=\"node3\" class=\"node\">\n<title>2</title>\n</g>\n<!-- 1&#45;&#45;2 -->\n<g id=\"edge2\" class=\"edge\">\n<title>1&#45;&#45;2</title>\n<path fill=\"none\" stroke=\"lightgreen\" d=\"M95.13,-291.3C86.37,-284.06 64.48,-265.97 47.86,-252.24\"/>\n</g>\n<!-- 3 -->\n<g id=\"node4\" class=\"node\">\n<title>3</title>\n</g>\n<!-- 1&#45;&#45;3 -->\n<g id=\"edge3\" class=\"edge\">\n<title>1&#45;&#45;3</title>\n<path fill=\"none\" stroke=\"lightgreen\" d=\"M99,-287.67C99,-279.07 99,-263.96 99,-252.13\"/>\n</g>\n<!-- 5 -->\n<g id=\"node6\" class=\"node\">\n<title>5</title>\n</g>\n<!-- 4&#45;&#45;5 -->\n<g id=\"edge5\" class=\"edge\">\n<title>4&#45;&#45;5</title>\n<path fill=\"none\" stroke=\"lightgreen\" d=\"M171,-287.67C171,-279.07 171,-263.96 171,-252.13\"/>\n</g>\n<!-- 6 -->\n<g id=\"node7\" class=\"node\">\n<title>6</title>\n<text text-anchor=\"middle\" x=\"218\" y=\"-230.3\" font-family=\"Times,serif\" font-size=\"14.00\">l</text>\n</g>\n<!-- 4&#45;&#45;6 -->\n<g id=\"edge6\" class=\"edge\">\n<title>4&#45;&#45;6</title>\n<path fill=\"none\" stroke=\"black\" d=\"M174.14,-291.1C180.6,-284.05 195.7,-267.22 207,-252 210.35,-247.48 213.81,-241.97 215.93,-238.47\"/>\n</g>\n<!-- 7 -->\n<g id=\"node8\" class=\"node\">\n<title>7</title>\n<text text-anchor=\"middle\" x=\"194\" y=\"-158.3\" font-family=\"Times,serif\" font-size=\"14.00\">s</text>\n</g>\n<!-- 6&#45;&#45;7 -->\n<g id=\"edge7\" class=\"edge\">\n<title>6&#45;&#45;7</title>\n<path fill=\"none\" stroke=\"black\" d=\"M215.95,-227.03C211.51,-214.07 201,-183.42 196.32,-169.77\"/>\n</g>\n<!-- 12 -->\n<g id=\"node13\" class=\"node\">\n<title>12</title>\n</g>\n<!-- 6&#45;&#45;12 -->\n<g id=\"edge12\" class=\"edge\">\n<title>6&#45;&#45;12</title>\n<path fill=\"none\" stroke=\"lightgreen\" d=\"M220.05,-227.03C223.56,-216.78 230.87,-195.47 236.09,-180.25\"/>\n</g>\n<!-- 8 -->\n<g id=\"node9\" class=\"node\">\n<title>8</title>\n<text text-anchor=\"middle\" x=\"170\" y=\"-86.3\" font-family=\"Times,serif\" font-size=\"14.00\">*</text>\n</g>\n<!-- 7&#45;&#45;8 -->\n<g id=\"edge8\" class=\"edge\">\n<title>7&#45;&#45;8</title>\n<path fill=\"none\" stroke=\"lightgreen\" d=\"M191.7,-154.29C188.09,-143.75 180.97,-122.99 175.87,-108.12\"/>\n</g>\n<!-- 9 -->\n<g id=\"node10\" class=\"node\">\n<title>9</title>\n<text text-anchor=\"middle\" x=\"219\" y=\"-86.3\" font-family=\"Times,serif\" font-size=\"14.00\">o</text>\n</g>\n<!-- 7&#45;&#45;9 -->\n<g id=\"edge9\" class=\"edge\">\n<title>7&#45;&#45;9</title>\n<path fill=\"none\" stroke=\"black\" d=\"M196.4,-154.29C201.19,-140.87 211.89,-110.9 216.65,-97.59\"/>\n</g>\n<!-- 10 -->\n<g id=\"node11\" class=\"node\">\n<title>10</title>\n</g>\n<!-- 9&#45;&#45;10 -->\n<g id=\"edge10\" class=\"edge\">\n<title>9&#45;&#45;10</title>\n<path fill=\"none\" stroke=\"lightgreen\" d=\"M215.55,-82.29C210.13,-71.75 199.45,-50.99 191.8,-36.12\"/>\n</g>\n<!-- 11 -->\n<g id=\"node12\" class=\"node\">\n<title>11</title>\n</g>\n<!-- 9&#45;&#45;11 -->\n<g id=\"edge11\" class=\"edge\">\n<title>9&#45;&#45;11</title>\n<path fill=\"none\" stroke=\"lightgreen\" d=\"M222.45,-82.29C227.87,-71.75 238.55,-50.99 246.2,-36.12\"/>\n</g>\n</g>\n</svg>\n</div></td><td style=\"border-top:hidden;border-bottom:hidden;\"><div align=\"center\" style=\"\"><?xml version=\"1.0\" encoding=\"UTF-8\" standalone=\"no\"?>\n<!DOCTYPE svg PUBLIC \"-//W3C//DTD SVG 1.1//EN\"\n \"http://www.w3.org/Graphics/SVG/1.1/DTD/svg11.dtd\">\n<!-- Generated by graphviz version 2.44.1 (20200629.0846)\n -->\n<!-- Pages: 1 -->\n<svg width=\"278pt\" height=\"146pt\"\n viewBox=\"0.00 0.00 278.00 146.00\" xmlns=\"http://www.w3.org/2000/svg\" xmlns:xlink=\"http://www.w3.org/1999/xlink\">\n<g id=\"graph0\" class=\"graph\" transform=\"scale(1 1) rotate(0) translate(4 142)\">\n<polygon fill=\"white\" stroke=\"transparent\" points=\"-4,4 -4,-142 274,-142 274,4 -4,4\"/>\n<!-- 0 -->\n<g id=\"node1\" class=\"node\">\n<title>0</title>\n<text text-anchor=\"middle\" x=\"135\" y=\"-126.8\" font-family=\"Times,serif\" font-size=\"14.00\">a</text>\n</g>\n<!-- 1 -->\n<g id=\"node2\" class=\"node\">\n<title>1</title>\n<text text-anchor=\"middle\" x=\"99\" y=\"-75.8\" font-family=\"Times,serif\" font-size=\"14.00\">o</text>\n</g>\n<!-- 0&#45;&#45;1 -->\n<g id=\"edge1\" class=\"edge\">\n<title>0&#45;&#45;1</title>\n<path fill=\"none\" stroke=\"black\" d=\"M131.42,-124.62C124.52,-115.23 109.46,-94.73 102.57,-85.36\"/>\n</g>\n<!-- 4 -->\n<g id=\"node5\" class=\"node\">\n<title>4</title>\n<text text-anchor=\"middle\" x=\"171\" y=\"-75.8\" font-family=\"Times,serif\" font-size=\"14.00\">o</text>\n</g>\n<!-- 0&#45;&#45;4 -->\n<g id=\"edge4\" class=\"edge\">\n<title>0&#45;&#45;4</title>\n<path fill=\"none\" stroke=\"black\" d=\"M138.58,-124.62C145.48,-115.23 160.54,-94.73 167.43,-85.36\"/>\n</g>\n<!-- 2 -->\n<g id=\"node3\" class=\"node\">\n<title>2</title>\n</g>\n<!-- 1&#45;&#45;2 -->\n<g id=\"edge2\" class=\"edge\">\n<title>1&#45;&#45;2</title>\n<path fill=\"none\" stroke=\"lightgreen\" d=\"M95.13,-75.3C86.37,-68.06 64.48,-49.97 47.86,-36.24\"/>\n</g>\n<!-- 3 -->\n<g id=\"node4\" class=\"node\">\n<title>3</title>\n</g>\n<!-- 1&#45;&#45;3 -->\n<g id=\"edge3\" class=\"edge\">\n<title>1&#45;&#45;3</title>\n<path fill=\"none\" stroke=\"lightgreen\" d=\"M99,-71.67C99,-63.07 99,-47.96 99,-36.13\"/>\n</g>\n<!-- 5 -->\n<g id=\"node6\" class=\"node\">\n<title>5</title>\n</g>\n<!-- 4&#45;&#45;5 -->\n<g id=\"edge5\" class=\"edge\">\n<title>4&#45;&#45;5</title>\n<path fill=\"none\" stroke=\"lightgreen\" d=\"M171,-71.67C171,-63.07 171,-47.96 171,-36.13\"/>\n</g>\n<!-- 6 -->\n<g id=\"node7\" class=\"node\">\n<title>6</title>\n</g>\n<!-- 4&#45;&#45;6 -->\n<g id=\"edge6\" class=\"edge\">\n<title>4&#45;&#45;6</title>\n<path fill=\"none\" stroke=\"lightgreen\" d=\"M174.87,-75.3C183.63,-68.06 205.52,-49.97 222.14,-36.24\"/>\n</g>\n</g>\n</svg>\n</div></td></tr></table>"
     },
     "metadata": {},
     "output_type": "display_data"
    },
    {
     "data": {
      "text/plain": "<IPython.core.display.HTML object>",
      "text/html": "<table style=\"border-style: hidden; border-collapse: collapse;\" width=\"100%\"><tr><td style=\"border-top:hidden;border-bottom:hidden;\"><div align=\"center\" style=\"\"><?xml version=\"1.0\" encoding=\"UTF-8\" standalone=\"no\"?>\n<!DOCTYPE svg PUBLIC \"-//W3C//DTD SVG 1.1//EN\"\n \"http://www.w3.org/Graphics/SVG/1.1/DTD/svg11.dtd\">\n<!-- Generated by graphviz version 2.44.1 (20200629.0846)\n -->\n<!-- Pages: 1 -->\n<svg width=\"123pt\" height=\"288pt\"\n viewBox=\"0.00 0.00 122.80 288.00\" xmlns=\"http://www.w3.org/2000/svg\" xmlns:xlink=\"http://www.w3.org/1999/xlink\">\n<g id=\"graph0\" class=\"graph\" transform=\"scale(0.63 0.63) rotate(0) translate(4 451)\">\n<polygon fill=\"white\" stroke=\"transparent\" points=\"-4,4 -4,-451 190,-451 190,4 -4,4\"/>\n<!-- 0 -->\n<g id=\"node1\" class=\"node\">\n<title>0</title>\n<text text-anchor=\"middle\" x=\"51\" y=\"-435.8\" font-family=\"Times,serif\" font-size=\"14.00\">s</text>\n</g>\n<!-- 1 -->\n<g id=\"node2\" class=\"node\">\n<title>1</title>\n</g>\n<!-- 0&#45;&#45;1 -->\n<g id=\"edge1\" class=\"edge\">\n<title>0&#45;&#45;1</title>\n<path fill=\"none\" stroke=\"lightgreen\" d=\"M48.36,-431.67C45.03,-423.07 39.2,-407.96 34.62,-396.13\"/>\n</g>\n<!-- 2 -->\n<g id=\"node3\" class=\"node\">\n<title>2</title>\n<text text-anchor=\"middle\" x=\"75\" y=\"-374.3\" font-family=\"Times,serif\" font-size=\"14.00\">l</text>\n</g>\n<!-- 0&#45;&#45;2 -->\n<g id=\"edge2\" class=\"edge\">\n<title>0&#45;&#45;2</title>\n<path fill=\"none\" stroke=\"black\" d=\"M53.75,-431.67C58.63,-419.59 68.67,-394.69 72.97,-384.02\"/>\n</g>\n<!-- 3 -->\n<g id=\"node4\" class=\"node\">\n<title>3</title>\n<text text-anchor=\"middle\" x=\"51\" y=\"-302.3\" font-family=\"Times,serif\" font-size=\"14.00\">s</text>\n</g>\n<!-- 2&#45;&#45;3 -->\n<g id=\"edge3\" class=\"edge\">\n<title>2&#45;&#45;3</title>\n<path fill=\"none\" stroke=\"black\" d=\"M72.95,-371.03C68.51,-358.07 58,-327.42 53.32,-313.77\"/>\n</g>\n<!-- 12 -->\n<g id=\"node13\" class=\"node\">\n<title>12</title>\n</g>\n<!-- 2&#45;&#45;12 -->\n<g id=\"edge12\" class=\"edge\">\n<title>2&#45;&#45;12</title>\n<path fill=\"none\" stroke=\"lightgreen\" d=\"M77.05,-371.03C80.56,-360.78 87.87,-339.47 93.09,-324.25\"/>\n</g>\n<!-- 4 -->\n<g id=\"node5\" class=\"node\">\n<title>4</title>\n<text text-anchor=\"middle\" x=\"27\" y=\"-230.3\" font-family=\"Times,serif\" font-size=\"14.00\">*</text>\n</g>\n<!-- 3&#45;&#45;4 -->\n<g id=\"edge4\" class=\"edge\">\n<title>3&#45;&#45;4</title>\n<path fill=\"none\" stroke=\"lightgreen\" d=\"M48.7,-298.29C45.09,-287.75 37.97,-266.99 32.87,-252.12\"/>\n</g>\n<!-- 5 -->\n<g id=\"node6\" class=\"node\">\n<title>5</title>\n<text text-anchor=\"middle\" x=\"75\" y=\"-230.3\" font-family=\"Times,serif\" font-size=\"14.00\">s</text>\n</g>\n<!-- 3&#45;&#45;5 -->\n<g id=\"edge5\" class=\"edge\">\n<title>3&#45;&#45;5</title>\n<path fill=\"none\" stroke=\"black\" d=\"M53.3,-298.29C57.9,-284.87 68.18,-254.9 72.74,-241.59\"/>\n</g>\n<!-- 6 -->\n<g id=\"node7\" class=\"node\">\n<title>6</title>\n</g>\n<!-- 5&#45;&#45;6 -->\n<g id=\"edge6\" class=\"edge\">\n<title>5&#45;&#45;6</title>\n<path fill=\"none\" stroke=\"lightgreen\" d=\"M72.7,-226.29C69.09,-215.75 61.97,-194.99 56.87,-180.12\"/>\n</g>\n<!-- 7 -->\n<g id=\"node8\" class=\"node\">\n<title>7</title>\n<text text-anchor=\"middle\" x=\"99\" y=\"-158.3\" font-family=\"Times,serif\" font-size=\"14.00\">s</text>\n</g>\n<!-- 5&#45;&#45;7 -->\n<g id=\"edge7\" class=\"edge\">\n<title>5&#45;&#45;7</title>\n<path fill=\"none\" stroke=\"black\" d=\"M77.3,-226.29C81.9,-212.87 92.18,-182.9 96.74,-169.59\"/>\n</g>\n<!-- 8 -->\n<g id=\"node9\" class=\"node\">\n<title>8</title>\n</g>\n<!-- 7&#45;&#45;8 -->\n<g id=\"edge8\" class=\"edge\">\n<title>7&#45;&#45;8</title>\n<path fill=\"none\" stroke=\"lightgreen\" d=\"M96.6,-154.29C92.84,-143.75 85.42,-122.99 80.11,-108.12\"/>\n</g>\n<!-- 9 -->\n<g id=\"node10\" class=\"node\">\n<title>9</title>\n<text text-anchor=\"middle\" x=\"123\" y=\"-86.3\" font-family=\"Times,serif\" font-size=\"14.00\">o</text>\n</g>\n<!-- 7&#45;&#45;9 -->\n<g id=\"edge9\" class=\"edge\">\n<title>7&#45;&#45;9</title>\n<path fill=\"none\" stroke=\"black\" d=\"M101.3,-154.29C105.9,-140.87 116.18,-110.9 120.74,-97.59\"/>\n</g>\n<!-- 10 -->\n<g id=\"node11\" class=\"node\">\n<title>10</title>\n</g>\n<!-- 9&#45;&#45;10 -->\n<g id=\"edge10\" class=\"edge\">\n<title>9&#45;&#45;10</title>\n<path fill=\"none\" stroke=\"lightgreen\" d=\"M119.55,-82.29C114.13,-71.75 103.45,-50.99 95.8,-36.12\"/>\n</g>\n<!-- 11 -->\n<g id=\"node12\" class=\"node\">\n<title>11</title>\n</g>\n<!-- 9&#45;&#45;11 -->\n<g id=\"edge11\" class=\"edge\">\n<title>9&#45;&#45;11</title>\n<path fill=\"none\" stroke=\"lightgreen\" d=\"M126.45,-82.29C131.87,-71.75 142.55,-50.99 150.2,-36.12\"/>\n</g>\n</g>\n</svg>\n</div></td><td style=\"border-top:hidden;border-bottom:hidden;\"><div align=\"center\" style=\"\"><?xml version=\"1.0\" encoding=\"UTF-8\" standalone=\"no\"?>\n<!DOCTYPE svg PUBLIC \"-//W3C//DTD SVG 1.1//EN\"\n \"http://www.w3.org/Graphics/SVG/1.1/DTD/svg11.dtd\">\n<!-- Generated by graphviz version 2.44.1 (20200629.0846)\n -->\n<!-- Pages: 1 -->\n<svg width=\"170pt\" height=\"239pt\"\n viewBox=\"0.00 0.00 170.00 239.00\" xmlns=\"http://www.w3.org/2000/svg\" xmlns:xlink=\"http://www.w3.org/1999/xlink\">\n<g id=\"graph0\" class=\"graph\" transform=\"scale(1 1) rotate(0) translate(4 235)\">\n<polygon fill=\"white\" stroke=\"transparent\" points=\"-4,4 -4,-235 166,-235 166,4 -4,4\"/>\n<!-- 0 -->\n<g id=\"node1\" class=\"node\">\n<title>0</title>\n<text text-anchor=\"middle\" x=\"51\" y=\"-219.8\" font-family=\"Times,serif\" font-size=\"14.00\">s</text>\n</g>\n<!-- 1 -->\n<g id=\"node2\" class=\"node\">\n<title>1</title>\n</g>\n<!-- 0&#45;&#45;1 -->\n<g id=\"edge1\" class=\"edge\">\n<title>0&#45;&#45;1</title>\n<path fill=\"none\" stroke=\"lightgreen\" d=\"M48.25,-215.67C44.77,-207.07 38.68,-191.96 33.91,-180.13\"/>\n</g>\n<!-- 2 -->\n<g id=\"node3\" class=\"node\">\n<title>2</title>\n<text text-anchor=\"middle\" x=\"75\" y=\"-158.3\" font-family=\"Times,serif\" font-size=\"14.00\">s</text>\n</g>\n<!-- 0&#45;&#45;2 -->\n<g id=\"edge2\" class=\"edge\">\n<title>0&#45;&#45;2</title>\n<path fill=\"none\" stroke=\"black\" d=\"M53.75,-215.67C58.38,-204.2 67.67,-181.17 72.28,-169.75\"/>\n</g>\n<!-- 3 -->\n<g id=\"node4\" class=\"node\">\n<title>3</title>\n</g>\n<!-- 2&#45;&#45;3 -->\n<g id=\"edge3\" class=\"edge\">\n<title>2&#45;&#45;3</title>\n<path fill=\"none\" stroke=\"lightgreen\" d=\"M72.6,-154.29C68.84,-143.75 61.42,-122.99 56.11,-108.12\"/>\n</g>\n<!-- 4 -->\n<g id=\"node5\" class=\"node\">\n<title>4</title>\n<text text-anchor=\"middle\" x=\"99\" y=\"-86.3\" font-family=\"Times,serif\" font-size=\"14.00\">o</text>\n</g>\n<!-- 2&#45;&#45;4 -->\n<g id=\"edge4\" class=\"edge\">\n<title>2&#45;&#45;4</title>\n<path fill=\"none\" stroke=\"black\" d=\"M77.3,-154.29C81.9,-140.87 92.18,-110.9 96.74,-97.59\"/>\n</g>\n<!-- 5 -->\n<g id=\"node6\" class=\"node\">\n<title>5</title>\n</g>\n<!-- 4&#45;&#45;5 -->\n<g id=\"edge5\" class=\"edge\">\n<title>4&#45;&#45;5</title>\n<path fill=\"none\" stroke=\"lightgreen\" d=\"M95.55,-82.29C90.13,-71.75 79.45,-50.99 71.8,-36.12\"/>\n</g>\n<!-- 6 -->\n<g id=\"node7\" class=\"node\">\n<title>6</title>\n</g>\n<!-- 4&#45;&#45;6 -->\n<g id=\"edge6\" class=\"edge\">\n<title>4&#45;&#45;6</title>\n<path fill=\"none\" stroke=\"lightgreen\" d=\"M102.45,-82.29C107.87,-71.75 118.55,-50.99 126.2,-36.12\"/>\n</g>\n</g>\n</svg>\n</div></td></tr></table>"
     },
     "metadata": {},
     "output_type": "display_data"
    },
    {
     "data": {
      "text/plain": "<IPython.core.display.HTML object>",
      "text/html": "<table style=\"border-style: hidden; border-collapse: collapse;\" width=\"100%\"><tr><td style=\"border-top:hidden;border-bottom:hidden;\"><div align=\"center\" style=\"\"><?xml version=\"1.0\" encoding=\"UTF-8\" standalone=\"no\"?>\n<!DOCTYPE svg PUBLIC \"-//W3C//DTD SVG 1.1//EN\"\n \"http://www.w3.org/Graphics/SVG/1.1/DTD/svg11.dtd\">\n<!-- Generated by graphviz version 2.44.1 (20200629.0846)\n -->\n<!-- Pages: 1 -->\n<svg width=\"122pt\" height=\"288pt\"\n viewBox=\"0.00 0.00 122.16 288.00\" xmlns=\"http://www.w3.org/2000/svg\" xmlns:xlink=\"http://www.w3.org/1999/xlink\">\n<g id=\"graph0\" class=\"graph\" transform=\"scale(0.63 0.63) rotate(0) translate(4 451)\">\n<polygon fill=\"white\" stroke=\"transparent\" points=\"-4,4 -4,-451 189,-451 189,4 -4,4\"/>\n<!-- 0 -->\n<g id=\"node1\" class=\"node\">\n<title>0</title>\n<text text-anchor=\"middle\" x=\"51\" y=\"-435.8\" font-family=\"Times,serif\" font-size=\"14.00\">s</text>\n</g>\n<!-- 1 -->\n<g id=\"node2\" class=\"node\">\n<title>1</title>\n</g>\n<!-- 0&#45;&#45;1 -->\n<g id=\"edge1\" class=\"edge\">\n<title>0&#45;&#45;1</title>\n<path fill=\"none\" stroke=\"lightgreen\" d=\"M48.25,-431.67C44.77,-423.07 38.68,-407.96 33.91,-396.13\"/>\n</g>\n<!-- 2 -->\n<g id=\"node3\" class=\"node\">\n<title>2</title>\n<text text-anchor=\"middle\" x=\"75\" y=\"-374.3\" font-family=\"Times,serif\" font-size=\"14.00\">s</text>\n</g>\n<!-- 0&#45;&#45;2 -->\n<g id=\"edge2\" class=\"edge\">\n<title>0&#45;&#45;2</title>\n<path fill=\"none\" stroke=\"black\" d=\"M53.75,-431.67C58.38,-420.2 67.67,-397.17 72.28,-385.75\"/>\n</g>\n<!-- 3 -->\n<g id=\"node4\" class=\"node\">\n<title>3</title>\n</g>\n<!-- 2&#45;&#45;3 -->\n<g id=\"edge3\" class=\"edge\">\n<title>2&#45;&#45;3</title>\n<path fill=\"none\" stroke=\"lightgreen\" d=\"M72.7,-370.29C69.09,-359.75 61.97,-338.99 56.87,-324.12\"/>\n</g>\n<!-- 4 -->\n<g id=\"node5\" class=\"node\">\n<title>4</title>\n<text text-anchor=\"middle\" x=\"98\" y=\"-302.3\" font-family=\"Times,serif\" font-size=\"14.00\">l</text>\n</g>\n<!-- 2&#45;&#45;4 -->\n<g id=\"edge4\" class=\"edge\">\n<title>2&#45;&#45;4</title>\n<path fill=\"none\" stroke=\"black\" d=\"M77.21,-370.29C81.66,-356.74 91.66,-326.29 95.97,-313.19\"/>\n</g>\n<!-- 5 -->\n<g id=\"node6\" class=\"node\">\n<title>5</title>\n<text text-anchor=\"middle\" x=\"74\" y=\"-230.3\" font-family=\"Times,serif\" font-size=\"14.00\">s</text>\n</g>\n<!-- 4&#45;&#45;5 -->\n<g id=\"edge5\" class=\"edge\">\n<title>4&#45;&#45;5</title>\n<path fill=\"none\" stroke=\"black\" d=\"M95.95,-299.03C91.51,-286.07 81,-255.42 76.32,-241.77\"/>\n</g>\n<!-- 12 -->\n<g id=\"node13\" class=\"node\">\n<title>12</title>\n</g>\n<!-- 4&#45;&#45;12 -->\n<g id=\"edge12\" class=\"edge\">\n<title>4&#45;&#45;12</title>\n<path fill=\"none\" stroke=\"lightgreen\" d=\"M100.05,-299.03C103.56,-288.78 110.87,-267.47 116.09,-252.25\"/>\n</g>\n<!-- 6 -->\n<g id=\"node7\" class=\"node\">\n<title>6</title>\n<text text-anchor=\"middle\" x=\"50\" y=\"-158.3\" font-family=\"Times,serif\" font-size=\"14.00\">*</text>\n</g>\n<!-- 5&#45;&#45;6 -->\n<g id=\"edge6\" class=\"edge\">\n<title>5&#45;&#45;6</title>\n<path fill=\"none\" stroke=\"lightgreen\" d=\"M71.7,-226.29C68.09,-215.75 60.97,-194.99 55.87,-180.12\"/>\n</g>\n<!-- 7 -->\n<g id=\"node8\" class=\"node\">\n<title>7</title>\n<text text-anchor=\"middle\" x=\"98\" y=\"-158.3\" font-family=\"Times,serif\" font-size=\"14.00\">s</text>\n</g>\n<!-- 5&#45;&#45;7 -->\n<g id=\"edge7\" class=\"edge\">\n<title>5&#45;&#45;7</title>\n<path fill=\"none\" stroke=\"black\" d=\"M76.3,-226.29C80.9,-212.87 91.18,-182.9 95.74,-169.59\"/>\n</g>\n<!-- 8 -->\n<g id=\"node9\" class=\"node\">\n<title>8</title>\n</g>\n<!-- 7&#45;&#45;8 -->\n<g id=\"edge8\" class=\"edge\">\n<title>7&#45;&#45;8</title>\n<path fill=\"none\" stroke=\"lightgreen\" d=\"M95.6,-154.29C91.84,-143.75 84.42,-122.99 79.11,-108.12\"/>\n</g>\n<!-- 9 -->\n<g id=\"node10\" class=\"node\">\n<title>9</title>\n<text text-anchor=\"middle\" x=\"122\" y=\"-86.3\" font-family=\"Times,serif\" font-size=\"14.00\">o</text>\n</g>\n<!-- 7&#45;&#45;9 -->\n<g id=\"edge9\" class=\"edge\">\n<title>7&#45;&#45;9</title>\n<path fill=\"none\" stroke=\"black\" d=\"M100.3,-154.29C104.9,-140.87 115.18,-110.9 119.74,-97.59\"/>\n</g>\n<!-- 10 -->\n<g id=\"node11\" class=\"node\">\n<title>10</title>\n</g>\n<!-- 9&#45;&#45;10 -->\n<g id=\"edge10\" class=\"edge\">\n<title>9&#45;&#45;10</title>\n<path fill=\"none\" stroke=\"lightgreen\" d=\"M118.55,-82.29C113.13,-71.75 102.45,-50.99 94.8,-36.12\"/>\n</g>\n<!-- 11 -->\n<g id=\"node12\" class=\"node\">\n<title>11</title>\n</g>\n<!-- 9&#45;&#45;11 -->\n<g id=\"edge11\" class=\"edge\">\n<title>9&#45;&#45;11</title>\n<path fill=\"none\" stroke=\"lightgreen\" d=\"M125.45,-82.29C130.87,-71.75 141.55,-50.99 149.2,-36.12\"/>\n</g>\n</g>\n</svg>\n</div></td><td style=\"border-top:hidden;border-bottom:hidden;\"><div align=\"center\" style=\"\"><?xml version=\"1.0\" encoding=\"UTF-8\" standalone=\"no\"?>\n<!DOCTYPE svg PUBLIC \"-//W3C//DTD SVG 1.1//EN\"\n \"http://www.w3.org/Graphics/SVG/1.1/DTD/svg11.dtd\">\n<!-- Generated by graphviz version 2.44.1 (20200629.0846)\n -->\n<!-- Pages: 1 -->\n<svg width=\"170pt\" height=\"239pt\"\n viewBox=\"0.00 0.00 170.00 239.00\" xmlns=\"http://www.w3.org/2000/svg\" xmlns:xlink=\"http://www.w3.org/1999/xlink\">\n<g id=\"graph0\" class=\"graph\" transform=\"scale(1 1) rotate(0) translate(4 235)\">\n<polygon fill=\"white\" stroke=\"transparent\" points=\"-4,4 -4,-235 166,-235 166,4 -4,4\"/>\n<!-- 0 -->\n<g id=\"node1\" class=\"node\">\n<title>0</title>\n<text text-anchor=\"middle\" x=\"51\" y=\"-219.8\" font-family=\"Times,serif\" font-size=\"14.00\">s</text>\n</g>\n<!-- 1 -->\n<g id=\"node2\" class=\"node\">\n<title>1</title>\n</g>\n<!-- 0&#45;&#45;1 -->\n<g id=\"edge1\" class=\"edge\">\n<title>0&#45;&#45;1</title>\n<path fill=\"none\" stroke=\"lightgreen\" d=\"M48.25,-215.67C44.77,-207.07 38.68,-191.96 33.91,-180.13\"/>\n</g>\n<!-- 2 -->\n<g id=\"node3\" class=\"node\">\n<title>2</title>\n<text text-anchor=\"middle\" x=\"75\" y=\"-158.3\" font-family=\"Times,serif\" font-size=\"14.00\">s</text>\n</g>\n<!-- 0&#45;&#45;2 -->\n<g id=\"edge2\" class=\"edge\">\n<title>0&#45;&#45;2</title>\n<path fill=\"none\" stroke=\"black\" d=\"M53.75,-215.67C58.38,-204.2 67.67,-181.17 72.28,-169.75\"/>\n</g>\n<!-- 3 -->\n<g id=\"node4\" class=\"node\">\n<title>3</title>\n</g>\n<!-- 2&#45;&#45;3 -->\n<g id=\"edge3\" class=\"edge\">\n<title>2&#45;&#45;3</title>\n<path fill=\"none\" stroke=\"lightgreen\" d=\"M72.6,-154.29C68.84,-143.75 61.42,-122.99 56.11,-108.12\"/>\n</g>\n<!-- 4 -->\n<g id=\"node5\" class=\"node\">\n<title>4</title>\n<text text-anchor=\"middle\" x=\"99\" y=\"-86.3\" font-family=\"Times,serif\" font-size=\"14.00\">o</text>\n</g>\n<!-- 2&#45;&#45;4 -->\n<g id=\"edge4\" class=\"edge\">\n<title>2&#45;&#45;4</title>\n<path fill=\"none\" stroke=\"black\" d=\"M77.3,-154.29C81.9,-140.87 92.18,-110.9 96.74,-97.59\"/>\n</g>\n<!-- 5 -->\n<g id=\"node6\" class=\"node\">\n<title>5</title>\n</g>\n<!-- 4&#45;&#45;5 -->\n<g id=\"edge5\" class=\"edge\">\n<title>4&#45;&#45;5</title>\n<path fill=\"none\" stroke=\"lightgreen\" d=\"M95.55,-82.29C90.13,-71.75 79.45,-50.99 71.8,-36.12\"/>\n</g>\n<!-- 6 -->\n<g id=\"node7\" class=\"node\">\n<title>6</title>\n</g>\n<!-- 4&#45;&#45;6 -->\n<g id=\"edge6\" class=\"edge\">\n<title>4&#45;&#45;6</title>\n<path fill=\"none\" stroke=\"lightgreen\" d=\"M102.45,-82.29C107.87,-71.75 118.55,-50.99 126.2,-36.12\"/>\n</g>\n</g>\n</svg>\n</div></td></tr></table>"
     },
     "metadata": {},
     "output_type": "display_data"
    },
    {
     "data": {
      "text/plain": "<IPython.core.display.HTML object>",
      "text/html": "<table style=\"border-style: hidden; border-collapse: collapse;\" width=\"100%\"><tr><td style=\"border-top:hidden;border-bottom:hidden;\"><div align=\"center\" style=\"\"><?xml version=\"1.0\" encoding=\"UTF-8\" standalone=\"no\"?>\n<!DOCTYPE svg PUBLIC \"-//W3C//DTD SVG 1.1//EN\"\n \"http://www.w3.org/Graphics/SVG/1.1/DTD/svg11.dtd\">\n<!-- Generated by graphviz version 2.44.1 (20200629.0846)\n -->\n<!-- Pages: 1 -->\n<svg width=\"123pt\" height=\"288pt\"\n viewBox=\"0.00 0.00 122.80 288.00\" xmlns=\"http://www.w3.org/2000/svg\" xmlns:xlink=\"http://www.w3.org/1999/xlink\">\n<g id=\"graph0\" class=\"graph\" transform=\"scale(0.63 0.63) rotate(0) translate(4 451)\">\n<polygon fill=\"white\" stroke=\"transparent\" points=\"-4,4 -4,-451 190,-451 190,4 -4,4\"/>\n<!-- 0 -->\n<g id=\"node1\" class=\"node\">\n<title>0</title>\n<text text-anchor=\"middle\" x=\"51\" y=\"-435.8\" font-family=\"Times,serif\" font-size=\"14.00\">s</text>\n</g>\n<!-- 1 -->\n<g id=\"node2\" class=\"node\">\n<title>1</title>\n</g>\n<!-- 0&#45;&#45;1 -->\n<g id=\"edge1\" class=\"edge\">\n<title>0&#45;&#45;1</title>\n<path fill=\"none\" stroke=\"lightgreen\" d=\"M48.25,-431.67C44.77,-423.07 38.68,-407.96 33.91,-396.13\"/>\n</g>\n<!-- 2 -->\n<g id=\"node3\" class=\"node\">\n<title>2</title>\n<text text-anchor=\"middle\" x=\"75\" y=\"-374.3\" font-family=\"Times,serif\" font-size=\"14.00\">s</text>\n</g>\n<!-- 0&#45;&#45;2 -->\n<g id=\"edge2\" class=\"edge\">\n<title>0&#45;&#45;2</title>\n<path fill=\"none\" stroke=\"black\" d=\"M53.75,-431.67C58.38,-420.2 67.67,-397.17 72.28,-385.75\"/>\n</g>\n<!-- 3 -->\n<g id=\"node4\" class=\"node\">\n<title>3</title>\n</g>\n<!-- 2&#45;&#45;3 -->\n<g id=\"edge3\" class=\"edge\">\n<title>2&#45;&#45;3</title>\n<path fill=\"none\" stroke=\"lightgreen\" d=\"M72.7,-370.29C69.09,-359.75 61.97,-338.99 56.87,-324.12\"/>\n</g>\n<!-- 4 -->\n<g id=\"node5\" class=\"node\">\n<title>4</title>\n<text text-anchor=\"middle\" x=\"99\" y=\"-302.3\" font-family=\"Times,serif\" font-size=\"14.00\">s</text>\n</g>\n<!-- 2&#45;&#45;4 -->\n<g id=\"edge4\" class=\"edge\">\n<title>2&#45;&#45;4</title>\n<path fill=\"none\" stroke=\"black\" d=\"M77.3,-370.29C81.9,-356.87 92.18,-326.9 96.74,-313.59\"/>\n</g>\n<!-- 5 -->\n<g id=\"node6\" class=\"node\">\n<title>5</title>\n</g>\n<!-- 4&#45;&#45;5 -->\n<g id=\"edge5\" class=\"edge\">\n<title>4&#45;&#45;5</title>\n<path fill=\"none\" stroke=\"lightgreen\" d=\"M96.7,-298.29C93.09,-287.75 85.97,-266.99 80.87,-252.12\"/>\n</g>\n<!-- 6 -->\n<g id=\"node7\" class=\"node\">\n<title>6</title>\n<text text-anchor=\"middle\" x=\"122\" y=\"-230.3\" font-family=\"Times,serif\" font-size=\"14.00\">l</text>\n</g>\n<!-- 4&#45;&#45;6 -->\n<g id=\"edge6\" class=\"edge\">\n<title>4&#45;&#45;6</title>\n<path fill=\"none\" stroke=\"black\" d=\"M101.21,-298.29C105.66,-284.74 115.66,-254.29 119.97,-241.19\"/>\n</g>\n<!-- 7 -->\n<g id=\"node8\" class=\"node\">\n<title>7</title>\n<text text-anchor=\"middle\" x=\"98\" y=\"-158.3\" font-family=\"Times,serif\" font-size=\"14.00\">s</text>\n</g>\n<!-- 6&#45;&#45;7 -->\n<g id=\"edge7\" class=\"edge\">\n<title>6&#45;&#45;7</title>\n<path fill=\"none\" stroke=\"black\" d=\"M119.95,-227.03C115.51,-214.07 105,-183.42 100.32,-169.77\"/>\n</g>\n<!-- 12 -->\n<g id=\"node13\" class=\"node\">\n<title>12</title>\n</g>\n<!-- 6&#45;&#45;12 -->\n<g id=\"edge12\" class=\"edge\">\n<title>6&#45;&#45;12</title>\n<path fill=\"none\" stroke=\"lightgreen\" d=\"M124.05,-227.03C127.56,-216.78 134.87,-195.47 140.09,-180.25\"/>\n</g>\n<!-- 8 -->\n<g id=\"node9\" class=\"node\">\n<title>8</title>\n<text text-anchor=\"middle\" x=\"74\" y=\"-86.3\" font-family=\"Times,serif\" font-size=\"14.00\">*</text>\n</g>\n<!-- 7&#45;&#45;8 -->\n<g id=\"edge8\" class=\"edge\">\n<title>7&#45;&#45;8</title>\n<path fill=\"none\" stroke=\"lightgreen\" d=\"M95.7,-154.29C92.09,-143.75 84.97,-122.99 79.87,-108.12\"/>\n</g>\n<!-- 9 -->\n<g id=\"node10\" class=\"node\">\n<title>9</title>\n<text text-anchor=\"middle\" x=\"123\" y=\"-86.3\" font-family=\"Times,serif\" font-size=\"14.00\">o</text>\n</g>\n<!-- 7&#45;&#45;9 -->\n<g id=\"edge9\" class=\"edge\">\n<title>7&#45;&#45;9</title>\n<path fill=\"none\" stroke=\"black\" d=\"M100.4,-154.29C105.19,-140.87 115.89,-110.9 120.65,-97.59\"/>\n</g>\n<!-- 10 -->\n<g id=\"node11\" class=\"node\">\n<title>10</title>\n</g>\n<!-- 9&#45;&#45;10 -->\n<g id=\"edge10\" class=\"edge\">\n<title>9&#45;&#45;10</title>\n<path fill=\"none\" stroke=\"lightgreen\" d=\"M119.55,-82.29C114.13,-71.75 103.45,-50.99 95.8,-36.12\"/>\n</g>\n<!-- 11 -->\n<g id=\"node12\" class=\"node\">\n<title>11</title>\n</g>\n<!-- 9&#45;&#45;11 -->\n<g id=\"edge11\" class=\"edge\">\n<title>9&#45;&#45;11</title>\n<path fill=\"none\" stroke=\"lightgreen\" d=\"M126.45,-82.29C131.87,-71.75 142.55,-50.99 150.2,-36.12\"/>\n</g>\n</g>\n</svg>\n</div></td><td style=\"border-top:hidden;border-bottom:hidden;\"><div align=\"center\" style=\"\"><?xml version=\"1.0\" encoding=\"UTF-8\" standalone=\"no\"?>\n<!DOCTYPE svg PUBLIC \"-//W3C//DTD SVG 1.1//EN\"\n \"http://www.w3.org/Graphics/SVG/1.1/DTD/svg11.dtd\">\n<!-- Generated by graphviz version 2.44.1 (20200629.0846)\n -->\n<!-- Pages: 1 -->\n<svg width=\"170pt\" height=\"239pt\"\n viewBox=\"0.00 0.00 170.00 239.00\" xmlns=\"http://www.w3.org/2000/svg\" xmlns:xlink=\"http://www.w3.org/1999/xlink\">\n<g id=\"graph0\" class=\"graph\" transform=\"scale(1 1) rotate(0) translate(4 235)\">\n<polygon fill=\"white\" stroke=\"transparent\" points=\"-4,4 -4,-235 166,-235 166,4 -4,4\"/>\n<!-- 0 -->\n<g id=\"node1\" class=\"node\">\n<title>0</title>\n<text text-anchor=\"middle\" x=\"51\" y=\"-219.8\" font-family=\"Times,serif\" font-size=\"14.00\">s</text>\n</g>\n<!-- 1 -->\n<g id=\"node2\" class=\"node\">\n<title>1</title>\n</g>\n<!-- 0&#45;&#45;1 -->\n<g id=\"edge1\" class=\"edge\">\n<title>0&#45;&#45;1</title>\n<path fill=\"none\" stroke=\"lightgreen\" d=\"M48.25,-215.67C44.77,-207.07 38.68,-191.96 33.91,-180.13\"/>\n</g>\n<!-- 2 -->\n<g id=\"node3\" class=\"node\">\n<title>2</title>\n<text text-anchor=\"middle\" x=\"75\" y=\"-158.3\" font-family=\"Times,serif\" font-size=\"14.00\">s</text>\n</g>\n<!-- 0&#45;&#45;2 -->\n<g id=\"edge2\" class=\"edge\">\n<title>0&#45;&#45;2</title>\n<path fill=\"none\" stroke=\"black\" d=\"M53.75,-215.67C58.38,-204.2 67.67,-181.17 72.28,-169.75\"/>\n</g>\n<!-- 3 -->\n<g id=\"node4\" class=\"node\">\n<title>3</title>\n</g>\n<!-- 2&#45;&#45;3 -->\n<g id=\"edge3\" class=\"edge\">\n<title>2&#45;&#45;3</title>\n<path fill=\"none\" stroke=\"lightgreen\" d=\"M72.6,-154.29C68.84,-143.75 61.42,-122.99 56.11,-108.12\"/>\n</g>\n<!-- 4 -->\n<g id=\"node5\" class=\"node\">\n<title>4</title>\n<text text-anchor=\"middle\" x=\"99\" y=\"-86.3\" font-family=\"Times,serif\" font-size=\"14.00\">o</text>\n</g>\n<!-- 2&#45;&#45;4 -->\n<g id=\"edge4\" class=\"edge\">\n<title>2&#45;&#45;4</title>\n<path fill=\"none\" stroke=\"black\" d=\"M77.3,-154.29C81.9,-140.87 92.18,-110.9 96.74,-97.59\"/>\n</g>\n<!-- 5 -->\n<g id=\"node6\" class=\"node\">\n<title>5</title>\n</g>\n<!-- 4&#45;&#45;5 -->\n<g id=\"edge5\" class=\"edge\">\n<title>4&#45;&#45;5</title>\n<path fill=\"none\" stroke=\"lightgreen\" d=\"M95.55,-82.29C90.13,-71.75 79.45,-50.99 71.8,-36.12\"/>\n</g>\n<!-- 6 -->\n<g id=\"node7\" class=\"node\">\n<title>6</title>\n</g>\n<!-- 4&#45;&#45;6 -->\n<g id=\"edge6\" class=\"edge\">\n<title>4&#45;&#45;6</title>\n<path fill=\"none\" stroke=\"lightgreen\" d=\"M102.45,-82.29C107.87,-71.75 118.55,-50.99 126.2,-36.12\"/>\n</g>\n</g>\n</svg>\n</div></td></tr></table>"
     },
     "metadata": {},
     "output_type": "display_data"
    }
   ],
   "source": [
    "c.display_trees(1, 2, -1)"
   ],
   "metadata": {
    "collapsed": false,
    "pycharm": {
     "name": "#%%\n"
    }
   }
  },
  {
   "cell_type": "code",
   "execution_count": 27,
   "outputs": [
    {
     "data": {
      "text/plain": "<IPython.core.display.HTML object>",
      "text/html": "1,1,-1: -1 * 3"
     },
     "metadata": {},
     "output_type": "display_data"
    },
    {
     "data": {
      "text/plain": "<IPython.core.display.HTML object>",
      "text/html": "<table style=\"border-style: hidden; border-collapse: collapse;\" width=\"100%\"><tr><td style=\"border-top:hidden;border-bottom:hidden;\"><div align=\"center\" style=\"\"><?xml version=\"1.0\" encoding=\"UTF-8\" standalone=\"no\"?>\n<!DOCTYPE svg PUBLIC \"-//W3C//DTD SVG 1.1//EN\"\n \"http://www.w3.org/Graphics/SVG/1.1/DTD/svg11.dtd\">\n<!-- Generated by graphviz version 2.44.1 (20200629.0846)\n -->\n<!-- Pages: 1 -->\n<svg width=\"128pt\" height=\"288pt\"\n viewBox=\"0.00 0.00 127.83 288.00\" xmlns=\"http://www.w3.org/2000/svg\" xmlns:xlink=\"http://www.w3.org/1999/xlink\">\n<g id=\"graph0\" class=\"graph\" transform=\"scale(0.75 0.75) rotate(0) translate(4 379)\">\n<polygon fill=\"white\" stroke=\"transparent\" points=\"-4,4 -4,-379 166,-379 166,4 -4,4\"/>\n<!-- 0 -->\n<g id=\"node1\" class=\"node\">\n<title>0</title>\n<text text-anchor=\"middle\" x=\"111\" y=\"-363.8\" font-family=\"Times,serif\" font-size=\"14.00\">l</text>\n</g>\n<!-- 1 -->\n<g id=\"node2\" class=\"node\">\n<title>1</title>\n<text text-anchor=\"middle\" x=\"87\" y=\"-302.3\" font-family=\"Times,serif\" font-size=\"14.00\">s</text>\n</g>\n<!-- 0&#45;&#45;1 -->\n<g id=\"edge1\" class=\"edge\">\n<title>0&#45;&#45;1</title>\n<path fill=\"none\" stroke=\"black\" d=\"M108.95,-361.43C104.65,-350.75 94.64,-325.94 89.77,-313.86\"/>\n</g>\n<!-- 10 -->\n<g id=\"node11\" class=\"node\">\n<title>10</title>\n</g>\n<!-- 0&#45;&#45;10 -->\n<g id=\"edge10\" class=\"edge\">\n<title>0&#45;&#45;10</title>\n<path fill=\"none\" stroke=\"lightgreen\" d=\"M113.05,-361.43C116.33,-353.28 122.94,-336.9 128.05,-324.23\"/>\n</g>\n<!-- 2 -->\n<g id=\"node3\" class=\"node\">\n<title>2</title>\n</g>\n<!-- 1&#45;&#45;2 -->\n<g id=\"edge2\" class=\"edge\">\n<title>1&#45;&#45;2</title>\n<path fill=\"none\" stroke=\"lightgreen\" d=\"M84.79,-298.29C81.33,-287.75 74.51,-266.99 69.62,-252.12\"/>\n</g>\n<!-- 3 -->\n<g id=\"node4\" class=\"node\">\n<title>3</title>\n<text text-anchor=\"middle\" x=\"111\" y=\"-230.3\" font-family=\"Times,serif\" font-size=\"14.00\">l</text>\n</g>\n<!-- 1&#45;&#45;3 -->\n<g id=\"edge3\" class=\"edge\">\n<title>1&#45;&#45;3</title>\n<path fill=\"none\" stroke=\"black\" d=\"M89.3,-298.29C93.95,-284.74 104.39,-254.29 108.88,-241.19\"/>\n</g>\n<!-- 4 -->\n<g id=\"node5\" class=\"node\">\n<title>4</title>\n<text text-anchor=\"middle\" x=\"87\" y=\"-158.3\" font-family=\"Times,serif\" font-size=\"14.00\">l</text>\n</g>\n<!-- 3&#45;&#45;4 -->\n<g id=\"edge4\" class=\"edge\">\n<title>3&#45;&#45;4</title>\n<path fill=\"none\" stroke=\"black\" d=\"M108.95,-227.03C104.42,-213.81 93.57,-182.16 89.04,-168.95\"/>\n</g>\n<!-- 9 -->\n<g id=\"node10\" class=\"node\">\n<title>9</title>\n</g>\n<!-- 3&#45;&#45;9 -->\n<g id=\"edge9\" class=\"edge\">\n<title>3&#45;&#45;9</title>\n<path fill=\"none\" stroke=\"lightgreen\" d=\"M113.12,-226.54C116.55,-216.12 123.41,-195.24 128.33,-180.26\"/>\n</g>\n<!-- 5 -->\n<g id=\"node6\" class=\"node\">\n<title>5</title>\n<text text-anchor=\"middle\" x=\"63\" y=\"-86.3\" font-family=\"Times,serif\" font-size=\"14.00\">o</text>\n</g>\n<!-- 4&#45;&#45;5 -->\n<g id=\"edge5\" class=\"edge\">\n<title>4&#45;&#45;5</title>\n<path fill=\"none\" stroke=\"black\" d=\"M84.95,-155.03C80.51,-142.07 70,-111.42 65.32,-97.77\"/>\n</g>\n<!-- 8 -->\n<g id=\"node9\" class=\"node\">\n<title>8</title>\n<text text-anchor=\"middle\" x=\"112\" y=\"-86.3\" font-family=\"Times,serif\" font-size=\"14.00\">*</text>\n</g>\n<!-- 4&#45;&#45;8 -->\n<g id=\"edge8\" class=\"edge\">\n<title>4&#45;&#45;8</title>\n<path fill=\"none\" stroke=\"lightgreen\" d=\"M89.13,-155.03C92.79,-144.78 100.4,-123.47 105.84,-108.25\"/>\n</g>\n<!-- 6 -->\n<g id=\"node7\" class=\"node\">\n<title>6</title>\n</g>\n<!-- 5&#45;&#45;6 -->\n<g id=\"edge6\" class=\"edge\">\n<title>5&#45;&#45;6</title>\n<path fill=\"none\" stroke=\"lightgreen\" d=\"M59.55,-82.29C54.13,-71.75 43.45,-50.99 35.8,-36.12\"/>\n</g>\n<!-- 7 -->\n<g id=\"node8\" class=\"node\">\n<title>7</title>\n</g>\n<!-- 5&#45;&#45;7 -->\n<g id=\"edge7\" class=\"edge\">\n<title>5&#45;&#45;7</title>\n<path fill=\"none\" stroke=\"lightgreen\" d=\"M66.45,-82.29C71.87,-71.75 82.55,-50.99 90.2,-36.12\"/>\n</g>\n</g>\n</svg>\n</div></td><td style=\"border-top:hidden;border-bottom:hidden;\"><div align=\"center\" style=\"\"><?xml version=\"1.0\" encoding=\"UTF-8\" standalone=\"no\"?>\n<!DOCTYPE svg PUBLIC \"-//W3C//DTD SVG 1.1//EN\"\n \"http://www.w3.org/Graphics/SVG/1.1/DTD/svg11.dtd\">\n<!-- Generated by graphviz version 2.44.1 (20200629.0846)\n -->\n<!-- Pages: 1 -->\n<svg width=\"147pt\" height=\"167pt\"\n viewBox=\"0.00 0.00 147.00 167.00\" xmlns=\"http://www.w3.org/2000/svg\" xmlns:xlink=\"http://www.w3.org/1999/xlink\">\n<g id=\"graph0\" class=\"graph\" transform=\"scale(1 1) rotate(0) translate(4 163)\">\n<polygon fill=\"white\" stroke=\"transparent\" points=\"-4,4 -4,-163 143,-163 143,4 -4,4\"/>\n<!-- 0 -->\n<g id=\"node1\" class=\"node\">\n<title>0</title>\n<text text-anchor=\"middle\" x=\"87\" y=\"-147.8\" font-family=\"Times,serif\" font-size=\"14.00\">l</text>\n</g>\n<!-- 1 -->\n<g id=\"node2\" class=\"node\">\n<title>1</title>\n<text text-anchor=\"middle\" x=\"63\" y=\"-86.3\" font-family=\"Times,serif\" font-size=\"14.00\">o</text>\n</g>\n<!-- 0&#45;&#45;1 -->\n<g id=\"edge1\" class=\"edge\">\n<title>0&#45;&#45;1</title>\n<path fill=\"none\" stroke=\"black\" d=\"M84.95,-145.43C80.65,-134.75 70.64,-109.94 65.77,-97.86\"/>\n</g>\n<!-- 4 -->\n<g id=\"node5\" class=\"node\">\n<title>4</title>\n</g>\n<!-- 0&#45;&#45;4 -->\n<g id=\"edge4\" class=\"edge\">\n<title>0&#45;&#45;4</title>\n<path fill=\"none\" stroke=\"lightgreen\" d=\"M89.13,-145.43C92.56,-137.28 99.44,-120.9 104.76,-108.23\"/>\n</g>\n<!-- 2 -->\n<g id=\"node3\" class=\"node\">\n<title>2</title>\n</g>\n<!-- 1&#45;&#45;2 -->\n<g id=\"edge2\" class=\"edge\">\n<title>1&#45;&#45;2</title>\n<path fill=\"none\" stroke=\"lightgreen\" d=\"M59.55,-82.29C54.13,-71.75 43.45,-50.99 35.8,-36.12\"/>\n</g>\n<!-- 3 -->\n<g id=\"node4\" class=\"node\">\n<title>3</title>\n</g>\n<!-- 1&#45;&#45;3 -->\n<g id=\"edge3\" class=\"edge\">\n<title>1&#45;&#45;3</title>\n<path fill=\"none\" stroke=\"lightgreen\" d=\"M66.45,-82.29C71.87,-71.75 82.55,-50.99 90.2,-36.12\"/>\n</g>\n</g>\n</svg>\n</div></td></tr></table>"
     },
     "metadata": {},
     "output_type": "display_data"
    },
    {
     "data": {
      "text/plain": "<IPython.core.display.HTML object>",
      "text/html": "<table style=\"border-style: hidden; border-collapse: collapse;\" width=\"100%\"><tr><td style=\"border-top:hidden;border-bottom:hidden;\"><div align=\"center\" style=\"\"><?xml version=\"1.0\" encoding=\"UTF-8\" standalone=\"no\"?>\n<!DOCTYPE svg PUBLIC \"-//W3C//DTD SVG 1.1//EN\"\n \"http://www.w3.org/Graphics/SVG/1.1/DTD/svg11.dtd\">\n<!-- Generated by graphviz version 2.44.1 (20200629.0846)\n -->\n<!-- Pages: 1 -->\n<svg width=\"118pt\" height=\"288pt\"\n viewBox=\"0.00 0.00 118.06 288.00\" xmlns=\"http://www.w3.org/2000/svg\" xmlns:xlink=\"http://www.w3.org/1999/xlink\">\n<g id=\"graph0\" class=\"graph\" transform=\"scale(0.75 0.75) rotate(0) translate(4 379)\">\n<polygon fill=\"white\" stroke=\"transparent\" points=\"-4,4 -4,-379 153,-379 153,4 -4,4\"/>\n<!-- 0 -->\n<g id=\"node1\" class=\"node\">\n<title>0</title>\n<text text-anchor=\"middle\" x=\"74\" y=\"-363.8\" font-family=\"Times,serif\" font-size=\"14.00\">s</text>\n</g>\n<!-- 1 -->\n<g id=\"node2\" class=\"node\">\n<title>1</title>\n</g>\n<!-- 0&#45;&#45;1 -->\n<g id=\"edge1\" class=\"edge\">\n<title>0&#45;&#45;1</title>\n<path fill=\"none\" stroke=\"lightgreen\" d=\"M71.36,-359.67C68.03,-351.07 62.2,-335.96 57.62,-324.13\"/>\n</g>\n<!-- 2 -->\n<g id=\"node3\" class=\"node\">\n<title>2</title>\n<text text-anchor=\"middle\" x=\"98\" y=\"-302.3\" font-family=\"Times,serif\" font-size=\"14.00\">l</text>\n</g>\n<!-- 0&#45;&#45;2 -->\n<g id=\"edge2\" class=\"edge\">\n<title>0&#45;&#45;2</title>\n<path fill=\"none\" stroke=\"black\" d=\"M76.75,-359.67C81.63,-347.59 91.67,-322.69 95.97,-312.02\"/>\n</g>\n<!-- 3 -->\n<g id=\"node4\" class=\"node\">\n<title>3</title>\n<text text-anchor=\"middle\" x=\"75\" y=\"-230.3\" font-family=\"Times,serif\" font-size=\"14.00\">l</text>\n</g>\n<!-- 2&#45;&#45;3 -->\n<g id=\"edge3\" class=\"edge\">\n<title>2&#45;&#45;3</title>\n<path fill=\"none\" stroke=\"black\" d=\"M95.88,-298.54C91.47,-285.14 81.39,-254.46 77.05,-241.24\"/>\n</g>\n<!-- 10 -->\n<g id=\"node11\" class=\"node\">\n<title>10</title>\n</g>\n<!-- 2&#45;&#45;10 -->\n<g id=\"edge10\" class=\"edge\">\n<title>2&#45;&#45;10</title>\n<path fill=\"none\" stroke=\"lightgreen\" d=\"M100.05,-299.03C103.56,-288.78 110.87,-267.47 116.09,-252.25\"/>\n</g>\n<!-- 4 -->\n<g id=\"node5\" class=\"node\">\n<title>4</title>\n<text text-anchor=\"middle\" x=\"51\" y=\"-158.3\" font-family=\"Times,serif\" font-size=\"14.00\">s</text>\n</g>\n<!-- 3&#45;&#45;4 -->\n<g id=\"edge4\" class=\"edge\">\n<title>3&#45;&#45;4</title>\n<path fill=\"none\" stroke=\"black\" d=\"M72.95,-227.03C68.51,-214.07 58,-183.42 53.32,-169.77\"/>\n</g>\n<!-- 9 -->\n<g id=\"node10\" class=\"node\">\n<title>9</title>\n<text text-anchor=\"middle\" x=\"99\" y=\"-158.3\" font-family=\"Times,serif\" font-size=\"14.00\">*</text>\n</g>\n<!-- 3&#45;&#45;9 -->\n<g id=\"edge9\" class=\"edge\">\n<title>3&#45;&#45;9</title>\n<path fill=\"none\" stroke=\"lightgreen\" d=\"M77.05,-227.03C80.56,-216.78 87.87,-195.47 93.09,-180.25\"/>\n</g>\n<!-- 5 -->\n<g id=\"node6\" class=\"node\">\n<title>5</title>\n</g>\n<!-- 4&#45;&#45;5 -->\n<g id=\"edge5\" class=\"edge\">\n<title>4&#45;&#45;5</title>\n<path fill=\"none\" stroke=\"lightgreen\" d=\"M48.7,-154.29C45.09,-143.75 37.97,-122.99 32.87,-108.12\"/>\n</g>\n<!-- 6 -->\n<g id=\"node7\" class=\"node\">\n<title>6</title>\n<text text-anchor=\"middle\" x=\"76\" y=\"-86.3\" font-family=\"Times,serif\" font-size=\"14.00\">o</text>\n</g>\n<!-- 4&#45;&#45;6 -->\n<g id=\"edge6\" class=\"edge\">\n<title>4&#45;&#45;6</title>\n<path fill=\"none\" stroke=\"black\" d=\"M53.4,-154.29C58.19,-140.87 68.89,-110.9 73.65,-97.59\"/>\n</g>\n<!-- 7 -->\n<g id=\"node8\" class=\"node\">\n<title>7</title>\n</g>\n<!-- 6&#45;&#45;7 -->\n<g id=\"edge7\" class=\"edge\">\n<title>6&#45;&#45;7</title>\n<path fill=\"none\" stroke=\"lightgreen\" d=\"M72.55,-82.29C67.13,-71.75 56.45,-50.99 48.8,-36.12\"/>\n</g>\n<!-- 8 -->\n<g id=\"node9\" class=\"node\">\n<title>8</title>\n</g>\n<!-- 6&#45;&#45;8 -->\n<g id=\"edge8\" class=\"edge\">\n<title>6&#45;&#45;8</title>\n<path fill=\"none\" stroke=\"lightgreen\" d=\"M79.45,-82.29C84.87,-71.75 95.55,-50.99 103.2,-36.12\"/>\n</g>\n</g>\n</svg>\n</div></td><td style=\"border-top:hidden;border-bottom:hidden;\"><div align=\"center\" style=\"\"><?xml version=\"1.0\" encoding=\"UTF-8\" standalone=\"no\"?>\n<!DOCTYPE svg PUBLIC \"-//W3C//DTD SVG 1.1//EN\"\n \"http://www.w3.org/Graphics/SVG/1.1/DTD/svg11.dtd\">\n<!-- Generated by graphviz version 2.44.1 (20200629.0846)\n -->\n<!-- Pages: 1 -->\n<svg width=\"147pt\" height=\"167pt\"\n viewBox=\"0.00 0.00 147.00 167.00\" xmlns=\"http://www.w3.org/2000/svg\" xmlns:xlink=\"http://www.w3.org/1999/xlink\">\n<g id=\"graph0\" class=\"graph\" transform=\"scale(1 1) rotate(0) translate(4 163)\">\n<polygon fill=\"white\" stroke=\"transparent\" points=\"-4,4 -4,-163 143,-163 143,4 -4,4\"/>\n<!-- 0 -->\n<g id=\"node1\" class=\"node\">\n<title>0</title>\n<text text-anchor=\"middle\" x=\"51\" y=\"-147.8\" font-family=\"Times,serif\" font-size=\"14.00\">s</text>\n</g>\n<!-- 1 -->\n<g id=\"node2\" class=\"node\">\n<title>1</title>\n</g>\n<!-- 0&#45;&#45;1 -->\n<g id=\"edge1\" class=\"edge\">\n<title>0&#45;&#45;1</title>\n<path fill=\"none\" stroke=\"lightgreen\" d=\"M48.25,-143.67C44.77,-135.07 38.68,-119.96 33.91,-108.13\"/>\n</g>\n<!-- 2 -->\n<g id=\"node3\" class=\"node\">\n<title>2</title>\n<text text-anchor=\"middle\" x=\"76\" y=\"-86.3\" font-family=\"Times,serif\" font-size=\"14.00\">o</text>\n</g>\n<!-- 0&#45;&#45;2 -->\n<g id=\"edge2\" class=\"edge\">\n<title>0&#45;&#45;2</title>\n<path fill=\"none\" stroke=\"black\" d=\"M53.87,-143.67C58.69,-132.2 68.37,-109.17 73.17,-97.75\"/>\n</g>\n<!-- 3 -->\n<g id=\"node4\" class=\"node\">\n<title>3</title>\n</g>\n<!-- 2&#45;&#45;3 -->\n<g id=\"edge3\" class=\"edge\">\n<title>2&#45;&#45;3</title>\n<path fill=\"none\" stroke=\"lightgreen\" d=\"M72.55,-82.29C67.13,-71.75 56.45,-50.99 48.8,-36.12\"/>\n</g>\n<!-- 4 -->\n<g id=\"node5\" class=\"node\">\n<title>4</title>\n</g>\n<!-- 2&#45;&#45;4 -->\n<g id=\"edge4\" class=\"edge\">\n<title>2&#45;&#45;4</title>\n<path fill=\"none\" stroke=\"lightgreen\" d=\"M79.45,-82.29C84.87,-71.75 95.55,-50.99 103.2,-36.12\"/>\n</g>\n</g>\n</svg>\n</div></td></tr></table>"
     },
     "metadata": {},
     "output_type": "display_data"
    },
    {
     "data": {
      "text/plain": "<IPython.core.display.HTML object>",
      "text/html": "<table style=\"border-style: hidden; border-collapse: collapse;\" width=\"100%\"><tr><td style=\"border-top:hidden;border-bottom:hidden;\"><div align=\"center\" style=\"\"><?xml version=\"1.0\" encoding=\"UTF-8\" standalone=\"no\"?>\n<!DOCTYPE svg PUBLIC \"-//W3C//DTD SVG 1.1//EN\"\n \"http://www.w3.org/Graphics/SVG/1.1/DTD/svg11.dtd\">\n<!-- Generated by graphviz version 2.44.1 (20200629.0846)\n -->\n<!-- Pages: 1 -->\n<svg width=\"127pt\" height=\"288pt\"\n viewBox=\"0.00 0.00 127.08 288.00\" xmlns=\"http://www.w3.org/2000/svg\" xmlns:xlink=\"http://www.w3.org/1999/xlink\">\n<g id=\"graph0\" class=\"graph\" transform=\"scale(0.75 0.75) rotate(0) translate(4 379)\">\n<polygon fill=\"white\" stroke=\"transparent\" points=\"-4,4 -4,-379 165,-379 165,4 -4,4\"/>\n<!-- 0 -->\n<g id=\"node1\" class=\"node\">\n<title>0</title>\n<text text-anchor=\"middle\" x=\"63\" y=\"-363.8\" font-family=\"Times,serif\" font-size=\"14.00\">s</text>\n</g>\n<!-- 1 -->\n<g id=\"node2\" class=\"node\">\n<title>1</title>\n</g>\n<!-- 0&#45;&#45;1 -->\n<g id=\"edge1\" class=\"edge\">\n<title>0&#45;&#45;1</title>\n<path fill=\"none\" stroke=\"lightgreen\" d=\"M60.25,-359.67C56.77,-351.07 50.68,-335.96 45.91,-324.13\"/>\n</g>\n<!-- 2 -->\n<g id=\"node3\" class=\"node\">\n<title>2</title>\n<text text-anchor=\"middle\" x=\"87\" y=\"-302.3\" font-family=\"Times,serif\" font-size=\"14.00\">s</text>\n</g>\n<!-- 0&#45;&#45;2 -->\n<g id=\"edge2\" class=\"edge\">\n<title>0&#45;&#45;2</title>\n<path fill=\"none\" stroke=\"black\" d=\"M65.75,-359.67C70.38,-348.2 79.67,-325.17 84.28,-313.75\"/>\n</g>\n<!-- 3 -->\n<g id=\"node4\" class=\"node\">\n<title>3</title>\n</g>\n<!-- 2&#45;&#45;3 -->\n<g id=\"edge3\" class=\"edge\">\n<title>2&#45;&#45;3</title>\n<path fill=\"none\" stroke=\"lightgreen\" d=\"M84.79,-298.29C81.33,-287.75 74.51,-266.99 69.62,-252.12\"/>\n</g>\n<!-- 4 -->\n<g id=\"node5\" class=\"node\">\n<title>4</title>\n<text text-anchor=\"middle\" x=\"111\" y=\"-230.3\" font-family=\"Times,serif\" font-size=\"14.00\">l</text>\n</g>\n<!-- 2&#45;&#45;4 -->\n<g id=\"edge4\" class=\"edge\">\n<title>2&#45;&#45;4</title>\n<path fill=\"none\" stroke=\"black\" d=\"M89.3,-298.29C93.95,-284.74 104.39,-254.29 108.88,-241.19\"/>\n</g>\n<!-- 5 -->\n<g id=\"node6\" class=\"node\">\n<title>5</title>\n<text text-anchor=\"middle\" x=\"87\" y=\"-158.3\" font-family=\"Times,serif\" font-size=\"14.00\">l</text>\n</g>\n<!-- 4&#45;&#45;5 -->\n<g id=\"edge5\" class=\"edge\">\n<title>4&#45;&#45;5</title>\n<path fill=\"none\" stroke=\"black\" d=\"M108.95,-227.03C104.42,-213.81 93.57,-182.16 89.04,-168.95\"/>\n</g>\n<!-- 10 -->\n<g id=\"node11\" class=\"node\">\n<title>10</title>\n</g>\n<!-- 4&#45;&#45;10 -->\n<g id=\"edge10\" class=\"edge\">\n<title>4&#45;&#45;10</title>\n<path fill=\"none\" stroke=\"lightgreen\" d=\"M113.12,-226.54C116.55,-216.12 123.41,-195.24 128.33,-180.26\"/>\n</g>\n<!-- 6 -->\n<g id=\"node7\" class=\"node\">\n<title>6</title>\n<text text-anchor=\"middle\" x=\"63\" y=\"-86.3\" font-family=\"Times,serif\" font-size=\"14.00\">o</text>\n</g>\n<!-- 5&#45;&#45;6 -->\n<g id=\"edge6\" class=\"edge\">\n<title>5&#45;&#45;6</title>\n<path fill=\"none\" stroke=\"black\" d=\"M84.95,-155.03C80.51,-142.07 70,-111.42 65.32,-97.77\"/>\n</g>\n<!-- 9 -->\n<g id=\"node10\" class=\"node\">\n<title>9</title>\n<text text-anchor=\"middle\" x=\"112\" y=\"-86.3\" font-family=\"Times,serif\" font-size=\"14.00\">*</text>\n</g>\n<!-- 5&#45;&#45;9 -->\n<g id=\"edge9\" class=\"edge\">\n<title>5&#45;&#45;9</title>\n<path fill=\"none\" stroke=\"lightgreen\" d=\"M89.13,-155.03C92.79,-144.78 100.4,-123.47 105.84,-108.25\"/>\n</g>\n<!-- 7 -->\n<g id=\"node8\" class=\"node\">\n<title>7</title>\n</g>\n<!-- 6&#45;&#45;7 -->\n<g id=\"edge7\" class=\"edge\">\n<title>6&#45;&#45;7</title>\n<path fill=\"none\" stroke=\"lightgreen\" d=\"M59.55,-82.29C54.13,-71.75 43.45,-50.99 35.8,-36.12\"/>\n</g>\n<!-- 8 -->\n<g id=\"node9\" class=\"node\">\n<title>8</title>\n</g>\n<!-- 6&#45;&#45;8 -->\n<g id=\"edge8\" class=\"edge\">\n<title>6&#45;&#45;8</title>\n<path fill=\"none\" stroke=\"lightgreen\" d=\"M66.45,-82.29C71.87,-71.75 82.55,-50.99 90.2,-36.12\"/>\n</g>\n</g>\n</svg>\n</div></td><td style=\"border-top:hidden;border-bottom:hidden;\"><div align=\"center\" style=\"\"><?xml version=\"1.0\" encoding=\"UTF-8\" standalone=\"no\"?>\n<!DOCTYPE svg PUBLIC \"-//W3C//DTD SVG 1.1//EN\"\n \"http://www.w3.org/Graphics/SVG/1.1/DTD/svg11.dtd\">\n<!-- Generated by graphviz version 2.44.1 (20200629.0846)\n -->\n<!-- Pages: 1 -->\n<svg width=\"147pt\" height=\"167pt\"\n viewBox=\"0.00 0.00 147.00 167.00\" xmlns=\"http://www.w3.org/2000/svg\" xmlns:xlink=\"http://www.w3.org/1999/xlink\">\n<g id=\"graph0\" class=\"graph\" transform=\"scale(1 1) rotate(0) translate(4 163)\">\n<polygon fill=\"white\" stroke=\"transparent\" points=\"-4,4 -4,-163 143,-163 143,4 -4,4\"/>\n<!-- 0 -->\n<g id=\"node1\" class=\"node\">\n<title>0</title>\n<text text-anchor=\"middle\" x=\"51\" y=\"-147.8\" font-family=\"Times,serif\" font-size=\"14.00\">s</text>\n</g>\n<!-- 1 -->\n<g id=\"node2\" class=\"node\">\n<title>1</title>\n</g>\n<!-- 0&#45;&#45;1 -->\n<g id=\"edge1\" class=\"edge\">\n<title>0&#45;&#45;1</title>\n<path fill=\"none\" stroke=\"lightgreen\" d=\"M48.25,-143.67C44.77,-135.07 38.68,-119.96 33.91,-108.13\"/>\n</g>\n<!-- 2 -->\n<g id=\"node3\" class=\"node\">\n<title>2</title>\n<text text-anchor=\"middle\" x=\"76\" y=\"-86.3\" font-family=\"Times,serif\" font-size=\"14.00\">o</text>\n</g>\n<!-- 0&#45;&#45;2 -->\n<g id=\"edge2\" class=\"edge\">\n<title>0&#45;&#45;2</title>\n<path fill=\"none\" stroke=\"black\" d=\"M53.87,-143.67C58.69,-132.2 68.37,-109.17 73.17,-97.75\"/>\n</g>\n<!-- 3 -->\n<g id=\"node4\" class=\"node\">\n<title>3</title>\n</g>\n<!-- 2&#45;&#45;3 -->\n<g id=\"edge3\" class=\"edge\">\n<title>2&#45;&#45;3</title>\n<path fill=\"none\" stroke=\"lightgreen\" d=\"M72.55,-82.29C67.13,-71.75 56.45,-50.99 48.8,-36.12\"/>\n</g>\n<!-- 4 -->\n<g id=\"node5\" class=\"node\">\n<title>4</title>\n</g>\n<!-- 2&#45;&#45;4 -->\n<g id=\"edge4\" class=\"edge\">\n<title>2&#45;&#45;4</title>\n<path fill=\"none\" stroke=\"lightgreen\" d=\"M79.45,-82.29C84.87,-71.75 95.55,-50.99 103.2,-36.12\"/>\n</g>\n</g>\n</svg>\n</div></td></tr></table>"
     },
     "metadata": {},
     "output_type": "display_data"
    }
   ],
   "source": [
    "c.display_trees(1, 1, -1)\n"
   ],
   "metadata": {
    "collapsed": false,
    "pycharm": {
     "name": "#%%\n"
    }
   }
  }
 ],
 "metadata": {
  "kernelspec": {
   "display_name": "Python 3",
   "language": "python",
   "name": "python3"
  },
  "language_info": {
   "codemirror_mode": {
    "name": "ipython",
    "version": 2
   },
   "file_extension": ".py",
   "mimetype": "text/x-python",
   "name": "python",
   "nbconvert_exporter": "python",
   "pygments_lexer": "ipython2",
   "version": "2.7.6"
  }
 },
 "nbformat": 4,
 "nbformat_minor": 0
}