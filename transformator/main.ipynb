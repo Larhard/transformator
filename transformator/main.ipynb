{
 "cells": [
  {
   "cell_type": "code",
   "execution_count": 291,
   "outputs": [
    {
     "name": "stdout",
     "output_type": "stream",
     "text": [
      "The autoreload extension is already loaded. To reload it, use:\n",
      "  %reload_ext autoreload\n"
     ]
    }
   ],
   "source": [
    "%load_ext autoreload"
   ],
   "metadata": {
    "collapsed": false,
    "pycharm": {
     "name": "#%%\n"
    }
   }
  },
  {
   "cell_type": "code",
   "execution_count": 292,
   "outputs": [],
   "source": [
    "%autoreload 2"
   ],
   "metadata": {
    "collapsed": false,
    "pycharm": {
     "name": "#%%\n"
    }
   }
  },
  {
   "cell_type": "code",
   "execution_count": 293,
   "outputs": [],
   "source": [
    "from transformator.tree import Tree\n",
    "from transformator.lambda_tree import LambdaTree\n",
    "import pyAgrum.lib.notebook as gnb\n",
    "from collections import defaultdict"
   ],
   "metadata": {
    "collapsed": false,
    "pycharm": {
     "name": "#%%\n"
    }
   }
  },
  {
   "cell_type": "code",
   "execution_count": 344,
   "outputs": [],
   "source": [
    "# N = 4\n",
    "N = 6\n",
    "REMOVE_POINTERS = True"
   ],
   "metadata": {
    "collapsed": false,
    "pycharm": {
     "name": "#%%\n"
    }
   }
  },
  {
   "cell_type": "code",
   "execution_count": 345,
   "outputs": [],
   "source": [
    "ns = list(range(N-4, N+1))"
   ],
   "metadata": {
    "collapsed": false,
    "pycharm": {
     "name": "#%%\n"
    }
   }
  },
  {
   "cell_type": "code",
   "execution_count": 346,
   "outputs": [],
   "source": [
    "classes = [list(LambdaTree.generate(k)) for k in ns]"
   ],
   "metadata": {
    "collapsed": false,
    "pycharm": {
     "name": "#%%\n"
    }
   }
  },
  {
   "cell_type": "code",
   "execution_count": 347,
   "outputs": [
    {
     "data": {
      "text/plain": "[2, 4, 9, 22, 57]"
     },
     "execution_count": 347,
     "metadata": {},
     "output_type": "execute_result"
    }
   ],
   "source": [
    "[len(c) for c in classes]"
   ],
   "metadata": {
    "collapsed": false,
    "pycharm": {
     "name": "#%%\n"
    }
   }
  },
  {
   "cell_type": "code",
   "execution_count": 348,
   "outputs": [
    {
     "data": {
      "text/plain": "[4, 4, 99, -506, 399]"
     },
     "execution_count": 348,
     "metadata": {},
     "output_type": "execute_result"
    }
   ],
   "source": [
    "# n-4:\n",
    "# l^2*s^2*n*B(n)\n",
    "#\n",
    "# n-3:\n",
    "# ((4*a*o*s*u - 2*l^2*s - 2*l*s^2)*(n - 1) + 6*a*o*s*u - 2*l^2*s - 3*l*s^2)*B(n)\n",
    "# ((4*n+2)*a*o*s*u - 2*n*l^2*s - (2*n+1)*l*s^2)*B(n)\n",
    "#\n",
    "# n-2:\n",
    "# ((-4*a*o*u + l^2 + 4*l*s + s^2)*(n - 2) - 8*u*o*a + 2*l^2 + 10*l*s + 3*s^2)*B(n)\n",
    "# ((-4*n)*a*o*u + l^2*n + (4*n+2)*l*s + (n+1)*s^2)*B(n)\n",
    "#\n",
    "# n-1:\n",
    "# ((-2*l - 2*s)*(n - 3) - 7*l - 8*s)*B(n)\n",
    "# ((-2*n - 1)*l + (-2*n-2)*s)*B(n)\n",
    "#\n",
    "# n:\n",
    "# (1 + n)*B(n)\n",
    "\n",
    "r_ns = [\n",
    "    ns[0] * len(classes[0]),\n",
    "    ((4*ns[1]+2) - (2*ns[1]) - (2*ns[1]+1)) * len(classes[1]),\n",
    "    (-4*ns[2] + ns[2] + (4*ns[2]+2) + (ns[2]+1)) * len(classes[2]),\n",
    "    ((-2*ns[3]-1) + (-2*ns[3]-2)) * len(classes[3]),\n",
    "    (ns[4] + 1) * len(classes[4]),\n",
    "]\n",
    "\n",
    "r_ns"
   ],
   "metadata": {
    "collapsed": false,
    "pycharm": {
     "name": "#%%\n"
    }
   }
  },
  {
   "cell_type": "code",
   "execution_count": 349,
   "outputs": [
    {
     "data": {
      "text/plain": "0"
     },
     "execution_count": 349,
     "metadata": {},
     "output_type": "execute_result"
    }
   ],
   "source": [
    "sum(r_ns)"
   ],
   "metadata": {
    "collapsed": false,
    "pycharm": {
     "name": "#%%\n"
    }
   }
  },
  {
   "cell_type": "code",
   "execution_count": 350,
   "outputs": [],
   "source": [
    "r_classes = [[] for _ in range(5)]"
   ],
   "metadata": {
    "collapsed": false,
    "pycharm": {
     "name": "#%%\n"
    }
   }
  },
  {
   "cell_type": "code",
   "execution_count": 351,
   "outputs": [],
   "source": [
    "def clear_r_class(k):\n",
    "    r_classes[k] = []\n",
    "\n",
    "def append_r_class_subtree_visitor(k, multiplier, visitor):\n",
    "    trees = sum(\n",
    "        [\n",
    "            list(t.visit_subtrees(visitor))\n",
    "            for t\n",
    "            in classes[i]\n",
    "        ],\n",
    "        []\n",
    "    )\n",
    "\n",
    "    r_classes[k].append((multiplier, trees))\n",
    "\n",
    "def append_r_class_parent_subtree_visitor(k, multiplier, visitor):\n",
    "    trees = sum(\n",
    "        [\n",
    "            list(t.visit_parent_subtrees(visitor))\n",
    "            for t\n",
    "            in classes[i]\n",
    "        ],\n",
    "        []\n",
    "    )\n",
    "\n",
    "    r_classes[k].append((multiplier, trees))\n",
    "\n",
    "def compute_r_class_stats(k, show_graphs=False):\n",
    "    total = 0\n",
    "\n",
    "    if REMOVE_POINTERS:\n",
    "        remove_pointers()\n",
    "\n",
    "    if show_graphs:\n",
    "        for _, trees in r_classes[k]:\n",
    "            gnb.sideBySide(*[t for t in trees[:5]])\n",
    "\n",
    "    for sub_k, (multiplier, trees) in enumerate(r_classes[k]):\n",
    "        print(f\"{(k, sub_k)}: {multiplier} x {len(trees)}\")\n",
    "        total += multiplier * len(trees)\n",
    "\n",
    "    print(f\"total: {total}\")\n",
    "    print(f\"expected: {r_ns[k]}\")\n",
    "\n",
    "def diff_sorted(first, second, key=None, first_label=\"first\", second_label=\"second\"):\n",
    "    key = key or (lambda x: x)\n",
    "\n",
    "    first_generator = iter(first)\n",
    "    second_generator = iter(second)\n",
    "\n",
    "    p = None\n",
    "    q = None\n",
    "\n",
    "    p_sent = True\n",
    "    q_sent = True\n",
    "\n",
    "    try:\n",
    "        p = next(first_generator)\n",
    "        p_sent = False\n",
    "\n",
    "        q = next(second_generator)\n",
    "        q_sent = False\n",
    "\n",
    "        while True:\n",
    "            k_p = key(p)\n",
    "            k_q = key(q)\n",
    "\n",
    "            if k_p == k_q:\n",
    "                p = next(first_generator)\n",
    "                p_sent = False\n",
    "\n",
    "                q = next(second_generator)\n",
    "                q_sent = False\n",
    "\n",
    "            elif k_p < k_q:\n",
    "                yield first_label, p\n",
    "                p_sent = True\n",
    "\n",
    "                p = next(first_generator)\n",
    "                p_sent = False\n",
    "            else:\n",
    "                yield second_label, q\n",
    "                q_sent = True\n",
    "\n",
    "                q = next(second_generator)\n",
    "                q_sent = False\n",
    "    except StopIteration:\n",
    "        pass\n",
    "\n",
    "    try:\n",
    "        if not p_sent:\n",
    "            yield first_label, p\n",
    "\n",
    "        while True:\n",
    "            yield first_label, next(first_generator)\n",
    "    except StopIteration:\n",
    "        pass\n",
    "\n",
    "    try:\n",
    "        if not q_sent:\n",
    "            yield second_label, q\n",
    "\n",
    "        while True:\n",
    "            yield second_label, next(second_generator)\n",
    "    except StopIteration:\n",
    "        pass\n",
    "\n",
    "def compute_minus_plus_diff():\n",
    "    global minus\n",
    "    global plus\n",
    "    global diff\n",
    "\n",
    "    minus = []\n",
    "    plus = []\n",
    "\n",
    "    for r_class_id, r_class in enumerate(r_classes):\n",
    "        for r_subclass_id, (multiplier, r_subclass) in enumerate(r_class):\n",
    "            for tree in r_subclass:\n",
    "                data = (r_class_id, r_subclass_id, tree)\n",
    "\n",
    "                if multiplier == -1:\n",
    "                    minus.append(data)\n",
    "                elif multiplier == 1:\n",
    "                    plus.append(data)\n",
    "                else:\n",
    "                    assert False\n",
    "\n",
    "    minus.sort(key=lambda data: str(data[2]))\n",
    "    plus.sort(key=lambda data: str(data[2]))\n",
    "\n",
    "    diff = list(diff_sorted(minus, plus, key=lambda x: str(x[2]), first_label=\"+\", second_label=\"-\"))\n",
    "\n",
    "    print(f\"minus: {len(minus)}\")\n",
    "    print(f\"plus: {len(plus)}\")\n",
    "    print(f\"diff: {len(diff)}\")\n",
    "\n",
    "    print_diff_stats()\n",
    "\n",
    "def print_diff_stats():\n",
    "    stats = defaultdict(int)\n",
    "    signs = {}\n",
    "\n",
    "    for sign, (p, q, _) in diff:\n",
    "        stats[(p, q)] += 1\n",
    "        signs[(p, q)] = sign\n",
    "\n",
    "    for key in sorted(stats.keys()):\n",
    "        print(f\"{key}:\\t{signs[key]}{stats[key]}\\tof {len(r_classes[key[0]][key[1]][1])}\")\n",
    "\n",
    "def remove_pointers():\n",
    "    for i in range(len(r_classes)):\n",
    "        for j in range(len(r_classes[i])):\n",
    "            multiplier, trees = r_classes[i][j]\n",
    "            r_classes[i][j] = (multiplier, [t.with_pointers_removed() for t in trees])"
   ],
   "metadata": {
    "collapsed": false,
    "pycharm": {
     "name": "#%%\n"
    }
   }
  },
  {
   "cell_type": "code",
   "execution_count": 352,
   "outputs": [
    {
     "name": "stdout",
     "output_type": "stream",
     "text": [
      "(4, 0): 1 x 399\n",
      "total: 399\n",
      "expected: 399\n",
      "\n",
      "minus: 0\n",
      "plus: 399\n",
      "diff: 399\n",
      "(4, 0):\t-399\tof 399\n"
     ]
    }
   ],
   "source": [
    "# n:\n",
    "# (1 + n)*B(n)\n",
    "\n",
    "i = 4\n",
    "\n",
    "clear_r_class(i)\n",
    "\n",
    "# 1 + n\n",
    "\n",
    "append_r_class_subtree_visitor(i, 1,\n",
    "    lambda kind, left, right:\n",
    "        None if kind[0] is not None else\n",
    "        [kind + (\"*\", )] + left + right\n",
    ")\n",
    "\n",
    "compute_r_class_stats(i)\n",
    "print()\n",
    "compute_minus_plus_diff()"
   ],
   "metadata": {
    "collapsed": false,
    "pycharm": {
     "name": "#%%\n"
    }
   }
  },
  {
   "cell_type": "code",
   "execution_count": 353,
   "outputs": [
    {
     "name": "stdout",
     "output_type": "stream",
     "text": [
      "(3, 0): -1 x 242\n",
      "(3, 1): -1 x 132\n",
      "(3, 2): -1 x 132\n",
      "total: -506\n",
      "expected: -506\n",
      "\n",
      "minus: 506\n",
      "plus: 399\n",
      "diff: 372\n",
      "(3, 0):\t+154\tof 242\n",
      "(3, 1):\t+28\tof 132\n",
      "(3, 2):\t+57\tof 132\n",
      "(4, 0):\t-133\tof 399\n"
     ]
    }
   ],
   "source": [
    "# n-1:\n",
    "# ((-2*n - 1)*l + (-2*n-2)*s)*B(n)\n",
    "\n",
    "i = 3\n",
    "\n",
    "clear_r_class(i)\n",
    "\n",
    "# (-2*n - 1)*l\n",
    "\n",
    "append_r_class_subtree_visitor(i, -1,\n",
    "    lambda kind, left, right:\n",
    "        [\"l\", kind] + left + right + [(None, \"*\")]\n",
    ")\n",
    "\n",
    "# -2(n+1)*s\n",
    "\n",
    "append_r_class_parent_subtree_visitor(i, -1,\n",
    "    lambda kind, parent_kind, left, right:\n",
    "        None if kind[0] is not None else\n",
    "        [\"s\", None, parent_kind] + left + right\n",
    ")\n",
    "\n",
    "append_r_class_parent_subtree_visitor(i, -1,\n",
    "    lambda kind, parent_kind, left, right:\n",
    "        None if kind[0] is not None else\n",
    "        [\"s\", None, parent_kind] + left + right\n",
    ")\n",
    "\n",
    "# append_r_class_subtree_visitor(i, -1,\n",
    "#     lambda kind, left, right:\n",
    "#         None if kind[0] is not None else\n",
    "#         [\"s\", (None, \"*\"), kind]\n",
    "# )\n",
    "#\n",
    "# append_r_class_subtree_visitor(i, -1,\n",
    "#     lambda kind, left, right:\n",
    "#         None if kind[0] is not None else\n",
    "#         [\"s\", (None, \"*\"), kind]\n",
    "# )\n",
    "\n",
    "compute_r_class_stats(i)\n",
    "print()\n",
    "compute_minus_plus_diff()"
   ],
   "metadata": {
    "collapsed": false,
    "pycharm": {
     "name": "#%%\n"
    }
   }
  },
  {
   "cell_type": "code",
   "execution_count": 354,
   "outputs": [
    {
     "name": "stdout",
     "output_type": "stream",
     "text": [
      "(2, 0): -1 x 36\n",
      "(2, 1): -1 x 36\n",
      "(2, 2): -1 x 36\n",
      "(2, 3): -1 x 36\n",
      "(2, 4): 1 x 36\n",
      "(2, 5): 1 x 81\n",
      "(2, 6): 1 x 81\n",
      "(2, 7): 1 x 45\n",
      "total: 99\n",
      "expected: 99\n",
      "\n",
      "minus: 650\n",
      "plus: 642\n",
      "diff: 462\n",
      "(2, 0):\t+6\tof 36\n",
      "(2, 1):\t+6\tof 36\n",
      "(2, 2):\t+7\tof 36\n",
      "(2, 3):\t+7\tof 36\n",
      "(2, 4):\t-3\tof 36\n",
      "(2, 5):\t-47\tof 81\n",
      "(2, 6):\t-54\tof 81\n",
      "(2, 7):\t-45\tof 45\n",
      "(3, 0):\t+143\tof 242\n",
      "(3, 1):\t+13\tof 132\n",
      "(3, 2):\t+53\tof 132\n",
      "(4, 0):\t-78\tof 399\n"
     ]
    }
   ],
   "source": [
    "# n-2:\n",
    "# ((-4*n)*a*o*u + l^2*n + (4*n+2)*l*s + (n+1)*s^2)*B(n)\n",
    "\n",
    "i = 2\n",
    "\n",
    "clear_r_class(i)\n",
    "\n",
    "# (-4*n)*a*o*u\n",
    "\n",
    "append_r_class_subtree_visitor(i, -1,\n",
    "    lambda kind, left, right:\n",
    "        None if kind[0] is None else\n",
    "        [\"a\", \"o\", (None, \"*\"), None, kind] + left + right\n",
    ")\n",
    "\n",
    "append_r_class_subtree_visitor(i, -1,\n",
    "    lambda kind, left, right:\n",
    "        None if kind[0] is None else\n",
    "        [\"a\", \"o\", None, (None, \"*\"), kind] + left + right\n",
    ")\n",
    "\n",
    "append_r_class_subtree_visitor(i, -1,\n",
    "    lambda kind, left, right:\n",
    "        None if kind[0] is None else\n",
    "        [\"a\", kind] + left + right + [\"o\", (None, \"*\"), None]\n",
    ")\n",
    "\n",
    "append_r_class_subtree_visitor(i, -1,\n",
    "    lambda kind, left, right:\n",
    "        None if kind[0] is None else\n",
    "        [\"a\", kind] + left + right + [\"o\", None, (None, \"*\")]\n",
    ")\n",
    "\n",
    "# l^2*n\n",
    "\n",
    "append_r_class_subtree_visitor(i, 1,\n",
    "    lambda kind, left, right:\n",
    "        None if kind[0] is None else\n",
    "        # [\"l\", \"l\", kind] + left + right + [None, None]\n",
    "        [\"l\", \"l\", kind] + left + right + [(None, \"*\"), None]\n",
    ")\n",
    "\n",
    "# (4*n+2)*l*s\n",
    "\n",
    "append_r_class_subtree_visitor(i, 1,\n",
    "    lambda kind, left, right:\n",
    "        [\"l\", \"s\", (None, \"*\"), kind] + left + right + [None]\n",
    ")\n",
    "\n",
    "append_r_class_subtree_visitor(i, 1,\n",
    "    lambda kind, left, right:\n",
    "        [\"l\", \"s\", None, kind] + left + right + [(None, \"*\")]\n",
    ")\n",
    "\n",
    "# (n+1)*s^2\n",
    "\n",
    "append_r_class_subtree_visitor(i, 1,\n",
    "    lambda kind, left, right:\n",
    "        None if kind[0] is not None else\n",
    "        [\"s\", None, \"s\", None, kind] + left + right\n",
    ")\n",
    "\n",
    "compute_r_class_stats(i)\n",
    "print()\n",
    "compute_minus_plus_diff()"
   ],
   "metadata": {
    "collapsed": false,
    "pycharm": {
     "name": "#%%\n"
    }
   }
  },
  {
   "cell_type": "code",
   "execution_count": 355,
   "outputs": [
    {
     "name": "stdout",
     "output_type": "stream",
     "text": [
      "(1, 0): 1 x 28\n",
      "(1, 1): 1 x 28\n",
      "(1, 2): -1 x 12\n",
      "(1, 3): -1 x 12\n",
      "(1, 4): -1 x 28\n",
      "total: 4\n",
      "expected: 4\n",
      "\n",
      "minus: 702\n",
      "plus: 698\n",
      "diff: 520\n",
      "(1, 0):\t-17\tof 28\n",
      "(1, 1):\t-17\tof 28\n",
      "(1, 3):\t+2\tof 12\n",
      "(1, 4):\t+18\tof 28\n",
      "(2, 0):\t+7\tof 36\n",
      "(2, 1):\t+7\tof 36\n",
      "(2, 2):\t+6\tof 36\n",
      "(2, 3):\t+6\tof 36\n",
      "(2, 4):\t-1\tof 36\n",
      "(2, 5):\t-48\tof 81\n",
      "(2, 6):\t-49\tof 81\n",
      "(2, 7):\t-45\tof 45\n",
      "(3, 0):\t+144\tof 242\n",
      "(3, 1):\t+16\tof 132\n",
      "(3, 2):\t+56\tof 132\n",
      "(4, 0):\t-81\tof 399\n"
     ]
    }
   ],
   "source": [
    "# n-3:\n",
    "# ((4*n+2)*a*o*s*u - 2*n*l^2*s - (2*n+1)*l*s^2)*B(n)\n",
    "\n",
    "i = 1\n",
    "\n",
    "clear_r_class(i)\n",
    "\n",
    "# (4*n+2)*a*o*s*u\n",
    "\n",
    "append_r_class_subtree_visitor(i, 1,\n",
    "    lambda kind, left, right:\n",
    "        [\"a\", \"s\", None, \"o\", (None, \"*\"), None, kind] + left + right\n",
    ")\n",
    "\n",
    "append_r_class_subtree_visitor(i, 1,\n",
    "    lambda kind, left, right:\n",
    "        [\"a\", \"s\", None, \"o\", None, (None, \"*\"), kind] + left + right\n",
    ")\n",
    "\n",
    "# - 2*n*l^2*s\n",
    "\n",
    "append_r_class_subtree_visitor(i, -1,\n",
    "    lambda kind, left, right:\n",
    "        None if kind[0] is None else\n",
    "        [\"l\", \"l\", \"s\", None, kind] + left + right + [(None, \"*\"), None]\n",
    ")\n",
    "\n",
    "append_r_class_subtree_visitor(i, -1,\n",
    "    lambda kind, left, right:\n",
    "        None if kind[0] is None else\n",
    "        [\"l\", \"l\", \"s\", None, kind] + left + right + [None, (None, \"*\")]\n",
    ")\n",
    "\n",
    "# - (2*n+1)*l*s^2\n",
    "\n",
    "append_r_class_subtree_visitor(i, -1,\n",
    "    lambda kind, left, right:\n",
    "        [\"l\", \"s\", None, \"s\", None, kind] + left + right + [None]\n",
    ")\n",
    "\n",
    "compute_r_class_stats(i)\n",
    "print()\n",
    "compute_minus_plus_diff()"
   ],
   "metadata": {
    "collapsed": false,
    "pycharm": {
     "name": "#%%\n"
    }
   }
  },
  {
   "cell_type": "code",
   "execution_count": 356,
   "outputs": [
    {
     "name": "stdout",
     "output_type": "stream",
     "text": [
      "(0, 0): 1 x 4\n",
      "total: 4\n",
      "expected: 4\n",
      "\n",
      "minus: 702\n",
      "plus: 702\n",
      "diff: 516\n",
      "(1, 0):\t-17\tof 28\n",
      "(1, 1):\t-17\tof 28\n",
      "(1, 3):\t+1\tof 12\n",
      "(1, 4):\t+17\tof 28\n",
      "(2, 0):\t+7\tof 36\n",
      "(2, 1):\t+7\tof 36\n",
      "(2, 2):\t+6\tof 36\n",
      "(2, 3):\t+6\tof 36\n",
      "(2, 4):\t-1\tof 36\n",
      "(2, 5):\t-48\tof 81\n",
      "(2, 6):\t-49\tof 81\n",
      "(2, 7):\t-45\tof 45\n",
      "(3, 0):\t+144\tof 242\n",
      "(3, 1):\t+16\tof 132\n",
      "(3, 2):\t+54\tof 132\n",
      "(4, 0):\t-81\tof 399\n"
     ]
    }
   ],
   "source": [
    "# n-4:\n",
    "# l^2*s^2*n*B(n)\n",
    "\n",
    "i = 0\n",
    "\n",
    "clear_r_class(i)\n",
    "\n",
    "# l^2*s^2*n\n",
    "\n",
    "append_r_class_subtree_visitor(i, 1,\n",
    "        lambda kind, left, right:\n",
    "            None if kind[0] is None else\n",
    "            [\"l\", \"l\", \"s\", None, \"s\", None, kind] + left + right + [None, None]\n",
    ")\n",
    "\n",
    "compute_r_class_stats(i)\n",
    "print()\n",
    "compute_minus_plus_diff()"
   ],
   "metadata": {
    "collapsed": false,
    "pycharm": {
     "name": "#%%\n"
    }
   }
  },
  {
   "cell_type": "code",
   "execution_count": 327,
   "outputs": [
    {
     "data": {
      "text/plain": "<a, l, o, , , , o, , >",
      "text/html": "<?xml version=\"1.0\" encoding=\"UTF-8\" standalone=\"no\"?>\n<!DOCTYPE svg PUBLIC \"-//W3C//DTD SVG 1.1//EN\"\n \"http://www.w3.org/Graphics/SVG/1.1/DTD/svg11.dtd\">\n<!-- Generated by graphviz version 2.44.1 (20200629.0846)\n -->\n<!-- Pages: 1 -->\n<svg width=\"288pt\" height=\"216pt\"\n viewBox=\"0.00 0.00 288.00 215.75\" xmlns=\"http://www.w3.org/2000/svg\" xmlns:xlink=\"http://www.w3.org/1999/xlink\">\n<g id=\"graph0\" class=\"graph\" transform=\"scale(0.99 0.99) rotate(0) translate(4 214)\">\n<polygon fill=\"white\" stroke=\"transparent\" points=\"-4,4 -4,-214 287,-214 287,4 -4,4\"/>\n<!-- 0 -->\n<g id=\"node1\" class=\"node\">\n<title>0</title>\n<text text-anchor=\"middle\" x=\"148\" y=\"-198.8\" font-family=\"Times,serif\" font-size=\"14.00\">a</text>\n</g>\n<!-- 1 -->\n<g id=\"node2\" class=\"node\">\n<title>1</title>\n<text text-anchor=\"middle\" x=\"112\" y=\"-147.8\" font-family=\"Times,serif\" font-size=\"14.00\">l</text>\n</g>\n<!-- 0&#45;&#45;1 -->\n<g id=\"edge1\" class=\"edge\">\n<title>0&#45;&#45;1</title>\n<path fill=\"none\" stroke=\"black\" d=\"M144.42,-196.62C137.02,-186.55 120.24,-163.72 114.21,-155.51\"/>\n</g>\n<!-- 6 -->\n<g id=\"node7\" class=\"node\">\n<title>6</title>\n<text text-anchor=\"middle\" x=\"184\" y=\"-147.8\" font-family=\"Times,serif\" font-size=\"14.00\">o</text>\n</g>\n<!-- 0&#45;&#45;6 -->\n<g id=\"edge6\" class=\"edge\">\n<title>0&#45;&#45;6</title>\n<path fill=\"none\" stroke=\"black\" d=\"M151.58,-196.62C158.48,-187.23 173.54,-166.73 180.43,-157.36\"/>\n</g>\n<!-- 2 -->\n<g id=\"node3\" class=\"node\">\n<title>2</title>\n<text text-anchor=\"middle\" x=\"63\" y=\"-86.3\" font-family=\"Times,serif\" font-size=\"14.00\">o</text>\n</g>\n<!-- 1&#45;&#45;2 -->\n<g id=\"edge2\" class=\"edge\">\n<title>1&#45;&#45;2</title>\n<path fill=\"none\" stroke=\"black\" d=\"M109.68,-147.85C103.89,-141.23 88.37,-123.37 76,-108 72.74,-103.95 69.16,-99.24 66.58,-95.81\"/>\n</g>\n<!-- 5 -->\n<g id=\"node6\" class=\"node\">\n<title>5</title>\n</g>\n<!-- 1&#45;&#45;5 -->\n<g id=\"edge5\" class=\"edge\">\n<title>1&#45;&#45;5</title>\n<path fill=\"none\" stroke=\"lightgreen\" d=\"M112,-143.67C112,-135.07 112,-119.96 112,-108.13\"/>\n</g>\n<!-- 3 -->\n<g id=\"node4\" class=\"node\">\n<title>3</title>\n</g>\n<!-- 2&#45;&#45;3 -->\n<g id=\"edge3\" class=\"edge\">\n<title>2&#45;&#45;3</title>\n<path fill=\"none\" stroke=\"lightgreen\" d=\"M59.55,-82.29C54.13,-71.75 43.45,-50.99 35.8,-36.12\"/>\n</g>\n<!-- 4 -->\n<g id=\"node5\" class=\"node\">\n<title>4</title>\n</g>\n<!-- 2&#45;&#45;4 -->\n<g id=\"edge4\" class=\"edge\">\n<title>2&#45;&#45;4</title>\n<path fill=\"none\" stroke=\"lightgreen\" d=\"M66.45,-82.29C71.87,-71.75 82.55,-50.99 90.2,-36.12\"/>\n</g>\n<!-- 7 -->\n<g id=\"node8\" class=\"node\">\n<title>7</title>\n</g>\n<!-- 6&#45;&#45;7 -->\n<g id=\"edge7\" class=\"edge\">\n<title>6&#45;&#45;7</title>\n<path fill=\"none\" stroke=\"lightgreen\" d=\"M184,-143.67C184,-135.07 184,-119.96 184,-108.13\"/>\n</g>\n<!-- 8 -->\n<g id=\"node9\" class=\"node\">\n<title>8</title>\n</g>\n<!-- 6&#45;&#45;8 -->\n<g id=\"edge8\" class=\"edge\">\n<title>6&#45;&#45;8</title>\n<path fill=\"none\" stroke=\"lightgreen\" d=\"M187.87,-147.3C196.63,-140.06 218.52,-121.97 235.14,-108.24\"/>\n</g>\n</g>\n</svg>\n",
      "image/svg+xml": "<?xml version=\"1.0\" encoding=\"UTF-8\" standalone=\"no\"?>\n<!DOCTYPE svg PUBLIC \"-//W3C//DTD SVG 1.1//EN\"\n \"http://www.w3.org/Graphics/SVG/1.1/DTD/svg11.dtd\">\n<!-- Generated by graphviz version 2.44.1 (20200629.0846)\n -->\n<!-- Pages: 1 -->\n<svg width=\"288pt\" height=\"216pt\"\n viewBox=\"0.00 0.00 288.00 215.75\" xmlns=\"http://www.w3.org/2000/svg\" xmlns:xlink=\"http://www.w3.org/1999/xlink\">\n<g id=\"graph0\" class=\"graph\" transform=\"scale(0.99 0.99) rotate(0) translate(4 214)\">\n<polygon fill=\"white\" stroke=\"transparent\" points=\"-4,4 -4,-214 287,-214 287,4 -4,4\"/>\n<!-- 0 -->\n<g id=\"node1\" class=\"node\">\n<title>0</title>\n<text text-anchor=\"middle\" x=\"148\" y=\"-198.8\" font-family=\"Times,serif\" font-size=\"14.00\">a</text>\n</g>\n<!-- 1 -->\n<g id=\"node2\" class=\"node\">\n<title>1</title>\n<text text-anchor=\"middle\" x=\"112\" y=\"-147.8\" font-family=\"Times,serif\" font-size=\"14.00\">l</text>\n</g>\n<!-- 0&#45;&#45;1 -->\n<g id=\"edge1\" class=\"edge\">\n<title>0&#45;&#45;1</title>\n<path fill=\"none\" stroke=\"black\" d=\"M144.42,-196.62C137.02,-186.55 120.24,-163.72 114.21,-155.51\"/>\n</g>\n<!-- 6 -->\n<g id=\"node7\" class=\"node\">\n<title>6</title>\n<text text-anchor=\"middle\" x=\"184\" y=\"-147.8\" font-family=\"Times,serif\" font-size=\"14.00\">o</text>\n</g>\n<!-- 0&#45;&#45;6 -->\n<g id=\"edge6\" class=\"edge\">\n<title>0&#45;&#45;6</title>\n<path fill=\"none\" stroke=\"black\" d=\"M151.58,-196.62C158.48,-187.23 173.54,-166.73 180.43,-157.36\"/>\n</g>\n<!-- 2 -->\n<g id=\"node3\" class=\"node\">\n<title>2</title>\n<text text-anchor=\"middle\" x=\"63\" y=\"-86.3\" font-family=\"Times,serif\" font-size=\"14.00\">o</text>\n</g>\n<!-- 1&#45;&#45;2 -->\n<g id=\"edge2\" class=\"edge\">\n<title>1&#45;&#45;2</title>\n<path fill=\"none\" stroke=\"black\" d=\"M109.68,-147.85C103.89,-141.23 88.37,-123.37 76,-108 72.74,-103.95 69.16,-99.24 66.58,-95.81\"/>\n</g>\n<!-- 5 -->\n<g id=\"node6\" class=\"node\">\n<title>5</title>\n</g>\n<!-- 1&#45;&#45;5 -->\n<g id=\"edge5\" class=\"edge\">\n<title>1&#45;&#45;5</title>\n<path fill=\"none\" stroke=\"lightgreen\" d=\"M112,-143.67C112,-135.07 112,-119.96 112,-108.13\"/>\n</g>\n<!-- 3 -->\n<g id=\"node4\" class=\"node\">\n<title>3</title>\n</g>\n<!-- 2&#45;&#45;3 -->\n<g id=\"edge3\" class=\"edge\">\n<title>2&#45;&#45;3</title>\n<path fill=\"none\" stroke=\"lightgreen\" d=\"M59.55,-82.29C54.13,-71.75 43.45,-50.99 35.8,-36.12\"/>\n</g>\n<!-- 4 -->\n<g id=\"node5\" class=\"node\">\n<title>4</title>\n</g>\n<!-- 2&#45;&#45;4 -->\n<g id=\"edge4\" class=\"edge\">\n<title>2&#45;&#45;4</title>\n<path fill=\"none\" stroke=\"lightgreen\" d=\"M66.45,-82.29C71.87,-71.75 82.55,-50.99 90.2,-36.12\"/>\n</g>\n<!-- 7 -->\n<g id=\"node8\" class=\"node\">\n<title>7</title>\n</g>\n<!-- 6&#45;&#45;7 -->\n<g id=\"edge7\" class=\"edge\">\n<title>6&#45;&#45;7</title>\n<path fill=\"none\" stroke=\"lightgreen\" d=\"M184,-143.67C184,-135.07 184,-119.96 184,-108.13\"/>\n</g>\n<!-- 8 -->\n<g id=\"node9\" class=\"node\">\n<title>8</title>\n</g>\n<!-- 6&#45;&#45;8 -->\n<g id=\"edge8\" class=\"edge\">\n<title>6&#45;&#45;8</title>\n<path fill=\"none\" stroke=\"lightgreen\" d=\"M187.87,-147.3C196.63,-140.06 218.52,-121.97 235.14,-108.24\"/>\n</g>\n</g>\n</svg>\n"
     },
     "execution_count": 327,
     "metadata": {},
     "output_type": "execute_result"
    }
   ],
   "source": [
    "diff[0][1][2]"
   ],
   "metadata": {
    "collapsed": false,
    "pycharm": {
     "name": "#%%\n"
    }
   }
  },
  {
   "cell_type": "code",
   "execution_count": 328,
   "outputs": [
    {
     "data": {
      "text/plain": "<a, l, o, , , , o, , >",
      "text/html": "<?xml version=\"1.0\" encoding=\"UTF-8\" standalone=\"no\"?>\n<!DOCTYPE svg PUBLIC \"-//W3C//DTD SVG 1.1//EN\"\n \"http://www.w3.org/Graphics/SVG/1.1/DTD/svg11.dtd\">\n<!-- Generated by graphviz version 2.44.1 (20200629.0846)\n -->\n<!-- Pages: 1 -->\n<svg width=\"288pt\" height=\"216pt\"\n viewBox=\"0.00 0.00 288.00 215.75\" xmlns=\"http://www.w3.org/2000/svg\" xmlns:xlink=\"http://www.w3.org/1999/xlink\">\n<g id=\"graph0\" class=\"graph\" transform=\"scale(0.99 0.99) rotate(0) translate(4 214)\">\n<polygon fill=\"white\" stroke=\"transparent\" points=\"-4,4 -4,-214 287,-214 287,4 -4,4\"/>\n<!-- 0 -->\n<g id=\"node1\" class=\"node\">\n<title>0</title>\n<text text-anchor=\"middle\" x=\"148\" y=\"-198.8\" font-family=\"Times,serif\" font-size=\"14.00\">a</text>\n</g>\n<!-- 1 -->\n<g id=\"node2\" class=\"node\">\n<title>1</title>\n<text text-anchor=\"middle\" x=\"112\" y=\"-147.8\" font-family=\"Times,serif\" font-size=\"14.00\">l</text>\n</g>\n<!-- 0&#45;&#45;1 -->\n<g id=\"edge1\" class=\"edge\">\n<title>0&#45;&#45;1</title>\n<path fill=\"none\" stroke=\"black\" d=\"M144.42,-196.62C137.02,-186.55 120.24,-163.72 114.21,-155.51\"/>\n</g>\n<!-- 6 -->\n<g id=\"node7\" class=\"node\">\n<title>6</title>\n<text text-anchor=\"middle\" x=\"184\" y=\"-147.8\" font-family=\"Times,serif\" font-size=\"14.00\">o</text>\n</g>\n<!-- 0&#45;&#45;6 -->\n<g id=\"edge6\" class=\"edge\">\n<title>0&#45;&#45;6</title>\n<path fill=\"none\" stroke=\"black\" d=\"M151.58,-196.62C158.48,-187.23 173.54,-166.73 180.43,-157.36\"/>\n</g>\n<!-- 2 -->\n<g id=\"node3\" class=\"node\">\n<title>2</title>\n<text text-anchor=\"middle\" x=\"63\" y=\"-86.3\" font-family=\"Times,serif\" font-size=\"14.00\">o</text>\n</g>\n<!-- 1&#45;&#45;2 -->\n<g id=\"edge2\" class=\"edge\">\n<title>1&#45;&#45;2</title>\n<path fill=\"none\" stroke=\"black\" d=\"M109.68,-147.85C103.89,-141.23 88.37,-123.37 76,-108 72.74,-103.95 69.16,-99.24 66.58,-95.81\"/>\n</g>\n<!-- 5 -->\n<g id=\"node6\" class=\"node\">\n<title>5</title>\n</g>\n<!-- 1&#45;&#45;5 -->\n<g id=\"edge5\" class=\"edge\">\n<title>1&#45;&#45;5</title>\n<path fill=\"none\" stroke=\"lightgreen\" d=\"M112,-143.67C112,-135.07 112,-119.96 112,-108.13\"/>\n</g>\n<!-- 3 -->\n<g id=\"node4\" class=\"node\">\n<title>3</title>\n</g>\n<!-- 2&#45;&#45;3 -->\n<g id=\"edge3\" class=\"edge\">\n<title>2&#45;&#45;3</title>\n<path fill=\"none\" stroke=\"lightgreen\" d=\"M59.55,-82.29C54.13,-71.75 43.45,-50.99 35.8,-36.12\"/>\n</g>\n<!-- 4 -->\n<g id=\"node5\" class=\"node\">\n<title>4</title>\n</g>\n<!-- 2&#45;&#45;4 -->\n<g id=\"edge4\" class=\"edge\">\n<title>2&#45;&#45;4</title>\n<path fill=\"none\" stroke=\"lightgreen\" d=\"M66.45,-82.29C71.87,-71.75 82.55,-50.99 90.2,-36.12\"/>\n</g>\n<!-- 7 -->\n<g id=\"node8\" class=\"node\">\n<title>7</title>\n</g>\n<!-- 6&#45;&#45;7 -->\n<g id=\"edge7\" class=\"edge\">\n<title>6&#45;&#45;7</title>\n<path fill=\"none\" stroke=\"lightgreen\" d=\"M184,-143.67C184,-135.07 184,-119.96 184,-108.13\"/>\n</g>\n<!-- 8 -->\n<g id=\"node9\" class=\"node\">\n<title>8</title>\n</g>\n<!-- 6&#45;&#45;8 -->\n<g id=\"edge8\" class=\"edge\">\n<title>6&#45;&#45;8</title>\n<path fill=\"none\" stroke=\"lightgreen\" d=\"M187.87,-147.3C196.63,-140.06 218.52,-121.97 235.14,-108.24\"/>\n</g>\n</g>\n</svg>\n",
      "image/svg+xml": "<?xml version=\"1.0\" encoding=\"UTF-8\" standalone=\"no\"?>\n<!DOCTYPE svg PUBLIC \"-//W3C//DTD SVG 1.1//EN\"\n \"http://www.w3.org/Graphics/SVG/1.1/DTD/svg11.dtd\">\n<!-- Generated by graphviz version 2.44.1 (20200629.0846)\n -->\n<!-- Pages: 1 -->\n<svg width=\"288pt\" height=\"216pt\"\n viewBox=\"0.00 0.00 288.00 215.75\" xmlns=\"http://www.w3.org/2000/svg\" xmlns:xlink=\"http://www.w3.org/1999/xlink\">\n<g id=\"graph0\" class=\"graph\" transform=\"scale(0.99 0.99) rotate(0) translate(4 214)\">\n<polygon fill=\"white\" stroke=\"transparent\" points=\"-4,4 -4,-214 287,-214 287,4 -4,4\"/>\n<!-- 0 -->\n<g id=\"node1\" class=\"node\">\n<title>0</title>\n<text text-anchor=\"middle\" x=\"148\" y=\"-198.8\" font-family=\"Times,serif\" font-size=\"14.00\">a</text>\n</g>\n<!-- 1 -->\n<g id=\"node2\" class=\"node\">\n<title>1</title>\n<text text-anchor=\"middle\" x=\"112\" y=\"-147.8\" font-family=\"Times,serif\" font-size=\"14.00\">l</text>\n</g>\n<!-- 0&#45;&#45;1 -->\n<g id=\"edge1\" class=\"edge\">\n<title>0&#45;&#45;1</title>\n<path fill=\"none\" stroke=\"black\" d=\"M144.42,-196.62C137.02,-186.55 120.24,-163.72 114.21,-155.51\"/>\n</g>\n<!-- 6 -->\n<g id=\"node7\" class=\"node\">\n<title>6</title>\n<text text-anchor=\"middle\" x=\"184\" y=\"-147.8\" font-family=\"Times,serif\" font-size=\"14.00\">o</text>\n</g>\n<!-- 0&#45;&#45;6 -->\n<g id=\"edge6\" class=\"edge\">\n<title>0&#45;&#45;6</title>\n<path fill=\"none\" stroke=\"black\" d=\"M151.58,-196.62C158.48,-187.23 173.54,-166.73 180.43,-157.36\"/>\n</g>\n<!-- 2 -->\n<g id=\"node3\" class=\"node\">\n<title>2</title>\n<text text-anchor=\"middle\" x=\"63\" y=\"-86.3\" font-family=\"Times,serif\" font-size=\"14.00\">o</text>\n</g>\n<!-- 1&#45;&#45;2 -->\n<g id=\"edge2\" class=\"edge\">\n<title>1&#45;&#45;2</title>\n<path fill=\"none\" stroke=\"black\" d=\"M109.68,-147.85C103.89,-141.23 88.37,-123.37 76,-108 72.74,-103.95 69.16,-99.24 66.58,-95.81\"/>\n</g>\n<!-- 5 -->\n<g id=\"node6\" class=\"node\">\n<title>5</title>\n</g>\n<!-- 1&#45;&#45;5 -->\n<g id=\"edge5\" class=\"edge\">\n<title>1&#45;&#45;5</title>\n<path fill=\"none\" stroke=\"lightgreen\" d=\"M112,-143.67C112,-135.07 112,-119.96 112,-108.13\"/>\n</g>\n<!-- 3 -->\n<g id=\"node4\" class=\"node\">\n<title>3</title>\n</g>\n<!-- 2&#45;&#45;3 -->\n<g id=\"edge3\" class=\"edge\">\n<title>2&#45;&#45;3</title>\n<path fill=\"none\" stroke=\"lightgreen\" d=\"M59.55,-82.29C54.13,-71.75 43.45,-50.99 35.8,-36.12\"/>\n</g>\n<!-- 4 -->\n<g id=\"node5\" class=\"node\">\n<title>4</title>\n</g>\n<!-- 2&#45;&#45;4 -->\n<g id=\"edge4\" class=\"edge\">\n<title>2&#45;&#45;4</title>\n<path fill=\"none\" stroke=\"lightgreen\" d=\"M66.45,-82.29C71.87,-71.75 82.55,-50.99 90.2,-36.12\"/>\n</g>\n<!-- 7 -->\n<g id=\"node8\" class=\"node\">\n<title>7</title>\n</g>\n<!-- 6&#45;&#45;7 -->\n<g id=\"edge7\" class=\"edge\">\n<title>6&#45;&#45;7</title>\n<path fill=\"none\" stroke=\"lightgreen\" d=\"M184,-143.67C184,-135.07 184,-119.96 184,-108.13\"/>\n</g>\n<!-- 8 -->\n<g id=\"node9\" class=\"node\">\n<title>8</title>\n</g>\n<!-- 6&#45;&#45;8 -->\n<g id=\"edge8\" class=\"edge\">\n<title>6&#45;&#45;8</title>\n<path fill=\"none\" stroke=\"lightgreen\" d=\"M187.87,-147.3C196.63,-140.06 218.52,-121.97 235.14,-108.24\"/>\n</g>\n</g>\n</svg>\n"
     },
     "execution_count": 328,
     "metadata": {},
     "output_type": "execute_result"
    }
   ],
   "source": [
    "diff[1][1][2]"
   ],
   "metadata": {
    "collapsed": false,
    "pycharm": {
     "name": "#%%\n"
    }
   }
  },
  {
   "cell_type": "code",
   "execution_count": 308,
   "outputs": [
    {
     "data": {
      "text/plain": "110"
     },
     "execution_count": 308,
     "metadata": {},
     "output_type": "execute_result"
    }
   ],
   "source": [
    "len(diff)"
   ],
   "metadata": {
    "collapsed": false,
    "pycharm": {
     "name": "#%%\n"
    }
   }
  },
  {
   "cell_type": "code",
   "execution_count": 122,
   "outputs": [],
   "source": [
    "diff = diff_sorted(minus, plus, key=lambda x: str(x[2]), first_label=\"+\", second_label=\"-\")"
   ],
   "metadata": {
    "collapsed": false,
    "pycharm": {
     "name": "#%%\n"
    }
   }
  },
  {
   "cell_type": "code",
   "execution_count": 130,
   "outputs": [
    {
     "name": "stdout",
     "output_type": "stream",
     "text": [
      "('+', (3, 2, <a, a, o, , , o, , , o, , s, *, >))\n"
     ]
    }
   ],
   "source": [
    "print(next(diff))"
   ],
   "metadata": {
    "collapsed": false,
    "pycharm": {
     "name": "#%%\n"
    }
   }
  },
  {
   "cell_type": "code",
   "execution_count": 131,
   "outputs": [],
   "source": [
    "diff = list(diff_sorted(minus, plus, key=lambda x: str(x[2]), first_label=\"+\", second_label=\"-\"))"
   ],
   "metadata": {
    "collapsed": false,
    "pycharm": {
     "name": "#%%\n"
    }
   }
  },
  {
   "cell_type": "code",
   "execution_count": 132,
   "outputs": [
    {
     "data": {
      "text/plain": "962"
     },
     "execution_count": 132,
     "metadata": {},
     "output_type": "execute_result"
    }
   ],
   "source": [
    "len(diff)"
   ],
   "metadata": {
    "collapsed": false,
    "pycharm": {
     "name": "#%%\n"
    }
   }
  },
  {
   "cell_type": "code",
   "execution_count": 65,
   "outputs": [
    {
     "name": "stdout",
     "output_type": "stream",
     "text": [
      "[('-', (4, 0, <a, a, l, o, *, , , o, , , o, , >)), ('-', (4, 0, <a, a, l, o, , *, , o, , , o, , >)), ('-', (4, 0, <a, a, o, , , l, o, *, , , o, , >)), ('-', (4, 0, <a, a, o, , , l, o, , *, , o, , >)), ('-', (4, 0, <a, a, o, , , o, , , l, o, *, , >)), ('-', (4, 0, <a, a, o, , , o, , , l, o, , *, >)), ('+', (3, 0, <a, a, o, , , o, , , o, , l, , *>)), ('+', (3, 2, <a, a, o, , , o, , , o, , s, *, >)), ('+', (3, 1, <a, a, o, , , o, , , o, , s, , *>)), ('+', (3, 0, <a, a, o, , , o, , , o, l, , *, >))]\n"
     ]
    }
   ],
   "source": [
    "print(diff[:10])"
   ],
   "metadata": {
    "collapsed": false,
    "pycharm": {
     "name": "#%%\n"
    }
   }
  },
  {
   "cell_type": "code",
   "execution_count": 66,
   "outputs": [
    {
     "data": {
      "text/plain": "961"
     },
     "execution_count": 66,
     "metadata": {},
     "output_type": "execute_result"
    }
   ],
   "source": [
    "len(diff)"
   ],
   "metadata": {
    "collapsed": false,
    "pycharm": {
     "name": "#%%\n"
    }
   }
  },
  {
   "cell_type": "code",
   "execution_count": 54,
   "outputs": [
    {
     "data": {
      "text/plain": "<a, a, l, o, , , *, o, , , o, , >",
      "text/html": "<?xml version=\"1.0\" encoding=\"UTF-8\" standalone=\"no\"?>\n<!DOCTYPE svg PUBLIC \"-//W3C//DTD SVG 1.1//EN\"\n \"http://www.w3.org/Graphics/SVG/1.1/DTD/svg11.dtd\">\n<!-- Generated by graphviz version 2.44.1 (20200629.0846)\n -->\n<!-- Pages: 1 -->\n<svg width=\"288pt\" height=\"246pt\"\n viewBox=\"0.00 0.00 288.00 245.65\" xmlns=\"http://www.w3.org/2000/svg\" xmlns:xlink=\"http://www.w3.org/1999/xlink\">\n<g id=\"graph0\" class=\"graph\" transform=\"scale(0.85 0.85) rotate(0) translate(4 286)\">\n<polygon fill=\"white\" stroke=\"transparent\" points=\"-4,4 -4,-286 336,-286 336,4 -4,4\"/>\n<!-- 0 -->\n<g id=\"node1\" class=\"node\">\n<title>0</title>\n<text text-anchor=\"middle\" x=\"208\" y=\"-270.8\" font-family=\"Times,serif\" font-size=\"14.00\">a</text>\n</g>\n<!-- 1 -->\n<g id=\"node2\" class=\"node\">\n<title>1</title>\n<text text-anchor=\"middle\" x=\"184\" y=\"-219.8\" font-family=\"Times,serif\" font-size=\"14.00\">a</text>\n</g>\n<!-- 0&#45;&#45;1 -->\n<g id=\"edge1\" class=\"edge\">\n<title>0&#45;&#45;1</title>\n<path fill=\"none\" stroke=\"black\" d=\"M204.66,-266.69C200.08,-257.33 191.88,-240.59 187.31,-231.26\"/>\n</g>\n<!-- 10 -->\n<g id=\"node11\" class=\"node\">\n<title>10</title>\n<text text-anchor=\"middle\" x=\"233\" y=\"-219.8\" font-family=\"Times,serif\" font-size=\"14.00\">o</text>\n</g>\n<!-- 0&#45;&#45;10 -->\n<g id=\"edge10\" class=\"edge\">\n<title>0&#45;&#45;10</title>\n<path fill=\"none\" stroke=\"black\" d=\"M211.48,-266.69C216.25,-257.33 224.79,-240.59 229.55,-231.26\"/>\n</g>\n<!-- 2 -->\n<g id=\"node3\" class=\"node\">\n<title>2</title>\n<text text-anchor=\"middle\" x=\"112\" y=\"-158.3\" font-family=\"Times,serif\" font-size=\"14.00\">l</text>\n</g>\n<!-- 1&#45;&#45;2 -->\n<g id=\"edge2\" class=\"edge\">\n<title>1&#45;&#45;2</title>\n<path fill=\"none\" stroke=\"black\" d=\"M180.13,-219.3C167.04,-208.49 124.7,-173.49 114.31,-164.91\"/>\n</g>\n<!-- 7 -->\n<g id=\"node8\" class=\"node\">\n<title>7</title>\n<text text-anchor=\"middle\" x=\"184\" y=\"-158.3\" font-family=\"Times,serif\" font-size=\"14.00\">o</text>\n</g>\n<!-- 1&#45;&#45;7 -->\n<g id=\"edge7\" class=\"edge\">\n<title>1&#45;&#45;7</title>\n<path fill=\"none\" stroke=\"black\" d=\"M184,-215.67C184,-204.2 184,-181.17 184,-169.75\"/>\n</g>\n<!-- 3 -->\n<g id=\"node4\" class=\"node\">\n<title>3</title>\n<text text-anchor=\"middle\" x=\"63\" y=\"-86.3\" font-family=\"Times,serif\" font-size=\"14.00\">o</text>\n</g>\n<!-- 2&#45;&#45;3 -->\n<g id=\"edge3\" class=\"edge\">\n<title>2&#45;&#45;3</title>\n<path fill=\"none\" stroke=\"black\" d=\"M109.89,-157.99C102.27,-147.11 76.08,-109.68 66.52,-96.03\"/>\n</g>\n<!-- 6 -->\n<g id=\"node7\" class=\"node\">\n<title>6</title>\n<text text-anchor=\"middle\" x=\"112\" y=\"-86.3\" font-family=\"Times,serif\" font-size=\"14.00\">*</text>\n</g>\n<!-- 2&#45;&#45;6 -->\n<g id=\"edge6\" class=\"edge\">\n<title>2&#45;&#45;6</title>\n<path fill=\"none\" stroke=\"lightgreen\" d=\"M112,-154.29C112,-143.75 112,-122.99 112,-108.12\"/>\n</g>\n<!-- 4 -->\n<g id=\"node5\" class=\"node\">\n<title>4</title>\n</g>\n<!-- 3&#45;&#45;4 -->\n<g id=\"edge4\" class=\"edge\">\n<title>3&#45;&#45;4</title>\n<path fill=\"none\" stroke=\"lightgreen\" d=\"M59.55,-82.29C54.13,-71.75 43.45,-50.99 35.8,-36.12\"/>\n</g>\n<!-- 5 -->\n<g id=\"node6\" class=\"node\">\n<title>5</title>\n</g>\n<!-- 3&#45;&#45;5 -->\n<g id=\"edge5\" class=\"edge\">\n<title>3&#45;&#45;5</title>\n<path fill=\"none\" stroke=\"lightgreen\" d=\"M66.45,-82.29C71.87,-71.75 82.55,-50.99 90.2,-36.12\"/>\n</g>\n<!-- 8 -->\n<g id=\"node9\" class=\"node\">\n<title>8</title>\n</g>\n<!-- 7&#45;&#45;8 -->\n<g id=\"edge8\" class=\"edge\">\n<title>7&#45;&#45;8</title>\n<path fill=\"none\" stroke=\"lightgreen\" d=\"M184,-154.29C184,-143.75 184,-122.99 184,-108.12\"/>\n</g>\n<!-- 9 -->\n<g id=\"node10\" class=\"node\">\n<title>9</title>\n</g>\n<!-- 7&#45;&#45;9 -->\n<g id=\"edge9\" class=\"edge\">\n<title>7&#45;&#45;9</title>\n<path fill=\"none\" stroke=\"lightgreen\" d=\"M187.63,-155.74C190.12,-152.28 193.57,-147.71 197,-144 208.87,-131.16 223.48,-118.01 235.19,-108.03\"/>\n</g>\n<!-- 11 -->\n<g id=\"node12\" class=\"node\">\n<title>11</title>\n</g>\n<!-- 10&#45;&#45;11 -->\n<g id=\"edge11\" class=\"edge\">\n<title>10&#45;&#45;11</title>\n<path fill=\"none\" stroke=\"lightgreen\" d=\"M233,-215.67C233,-207.07 233,-191.96 233,-180.13\"/>\n</g>\n<!-- 12 -->\n<g id=\"node13\" class=\"node\">\n<title>12</title>\n</g>\n<!-- 10&#45;&#45;12 -->\n<g id=\"edge12\" class=\"edge\">\n<title>10&#45;&#45;12</title>\n<path fill=\"none\" stroke=\"lightgreen\" d=\"M236.87,-219.3C245.63,-212.06 267.52,-193.97 284.14,-180.24\"/>\n</g>\n</g>\n</svg>\n",
      "image/svg+xml": "<?xml version=\"1.0\" encoding=\"UTF-8\" standalone=\"no\"?>\n<!DOCTYPE svg PUBLIC \"-//W3C//DTD SVG 1.1//EN\"\n \"http://www.w3.org/Graphics/SVG/1.1/DTD/svg11.dtd\">\n<!-- Generated by graphviz version 2.44.1 (20200629.0846)\n -->\n<!-- Pages: 1 -->\n<svg width=\"288pt\" height=\"246pt\"\n viewBox=\"0.00 0.00 288.00 245.65\" xmlns=\"http://www.w3.org/2000/svg\" xmlns:xlink=\"http://www.w3.org/1999/xlink\">\n<g id=\"graph0\" class=\"graph\" transform=\"scale(0.85 0.85) rotate(0) translate(4 286)\">\n<polygon fill=\"white\" stroke=\"transparent\" points=\"-4,4 -4,-286 336,-286 336,4 -4,4\"/>\n<!-- 0 -->\n<g id=\"node1\" class=\"node\">\n<title>0</title>\n<text text-anchor=\"middle\" x=\"208\" y=\"-270.8\" font-family=\"Times,serif\" font-size=\"14.00\">a</text>\n</g>\n<!-- 1 -->\n<g id=\"node2\" class=\"node\">\n<title>1</title>\n<text text-anchor=\"middle\" x=\"184\" y=\"-219.8\" font-family=\"Times,serif\" font-size=\"14.00\">a</text>\n</g>\n<!-- 0&#45;&#45;1 -->\n<g id=\"edge1\" class=\"edge\">\n<title>0&#45;&#45;1</title>\n<path fill=\"none\" stroke=\"black\" d=\"M204.66,-266.69C200.08,-257.33 191.88,-240.59 187.31,-231.26\"/>\n</g>\n<!-- 10 -->\n<g id=\"node11\" class=\"node\">\n<title>10</title>\n<text text-anchor=\"middle\" x=\"233\" y=\"-219.8\" font-family=\"Times,serif\" font-size=\"14.00\">o</text>\n</g>\n<!-- 0&#45;&#45;10 -->\n<g id=\"edge10\" class=\"edge\">\n<title>0&#45;&#45;10</title>\n<path fill=\"none\" stroke=\"black\" d=\"M211.48,-266.69C216.25,-257.33 224.79,-240.59 229.55,-231.26\"/>\n</g>\n<!-- 2 -->\n<g id=\"node3\" class=\"node\">\n<title>2</title>\n<text text-anchor=\"middle\" x=\"112\" y=\"-158.3\" font-family=\"Times,serif\" font-size=\"14.00\">l</text>\n</g>\n<!-- 1&#45;&#45;2 -->\n<g id=\"edge2\" class=\"edge\">\n<title>1&#45;&#45;2</title>\n<path fill=\"none\" stroke=\"black\" d=\"M180.13,-219.3C167.04,-208.49 124.7,-173.49 114.31,-164.91\"/>\n</g>\n<!-- 7 -->\n<g id=\"node8\" class=\"node\">\n<title>7</title>\n<text text-anchor=\"middle\" x=\"184\" y=\"-158.3\" font-family=\"Times,serif\" font-size=\"14.00\">o</text>\n</g>\n<!-- 1&#45;&#45;7 -->\n<g id=\"edge7\" class=\"edge\">\n<title>1&#45;&#45;7</title>\n<path fill=\"none\" stroke=\"black\" d=\"M184,-215.67C184,-204.2 184,-181.17 184,-169.75\"/>\n</g>\n<!-- 3 -->\n<g id=\"node4\" class=\"node\">\n<title>3</title>\n<text text-anchor=\"middle\" x=\"63\" y=\"-86.3\" font-family=\"Times,serif\" font-size=\"14.00\">o</text>\n</g>\n<!-- 2&#45;&#45;3 -->\n<g id=\"edge3\" class=\"edge\">\n<title>2&#45;&#45;3</title>\n<path fill=\"none\" stroke=\"black\" d=\"M109.89,-157.99C102.27,-147.11 76.08,-109.68 66.52,-96.03\"/>\n</g>\n<!-- 6 -->\n<g id=\"node7\" class=\"node\">\n<title>6</title>\n<text text-anchor=\"middle\" x=\"112\" y=\"-86.3\" font-family=\"Times,serif\" font-size=\"14.00\">*</text>\n</g>\n<!-- 2&#45;&#45;6 -->\n<g id=\"edge6\" class=\"edge\">\n<title>2&#45;&#45;6</title>\n<path fill=\"none\" stroke=\"lightgreen\" d=\"M112,-154.29C112,-143.75 112,-122.99 112,-108.12\"/>\n</g>\n<!-- 4 -->\n<g id=\"node5\" class=\"node\">\n<title>4</title>\n</g>\n<!-- 3&#45;&#45;4 -->\n<g id=\"edge4\" class=\"edge\">\n<title>3&#45;&#45;4</title>\n<path fill=\"none\" stroke=\"lightgreen\" d=\"M59.55,-82.29C54.13,-71.75 43.45,-50.99 35.8,-36.12\"/>\n</g>\n<!-- 5 -->\n<g id=\"node6\" class=\"node\">\n<title>5</title>\n</g>\n<!-- 3&#45;&#45;5 -->\n<g id=\"edge5\" class=\"edge\">\n<title>3&#45;&#45;5</title>\n<path fill=\"none\" stroke=\"lightgreen\" d=\"M66.45,-82.29C71.87,-71.75 82.55,-50.99 90.2,-36.12\"/>\n</g>\n<!-- 8 -->\n<g id=\"node9\" class=\"node\">\n<title>8</title>\n</g>\n<!-- 7&#45;&#45;8 -->\n<g id=\"edge8\" class=\"edge\">\n<title>7&#45;&#45;8</title>\n<path fill=\"none\" stroke=\"lightgreen\" d=\"M184,-154.29C184,-143.75 184,-122.99 184,-108.12\"/>\n</g>\n<!-- 9 -->\n<g id=\"node10\" class=\"node\">\n<title>9</title>\n</g>\n<!-- 7&#45;&#45;9 -->\n<g id=\"edge9\" class=\"edge\">\n<title>7&#45;&#45;9</title>\n<path fill=\"none\" stroke=\"lightgreen\" d=\"M187.63,-155.74C190.12,-152.28 193.57,-147.71 197,-144 208.87,-131.16 223.48,-118.01 235.19,-108.03\"/>\n</g>\n<!-- 11 -->\n<g id=\"node12\" class=\"node\">\n<title>11</title>\n</g>\n<!-- 10&#45;&#45;11 -->\n<g id=\"edge11\" class=\"edge\">\n<title>10&#45;&#45;11</title>\n<path fill=\"none\" stroke=\"lightgreen\" d=\"M233,-215.67C233,-207.07 233,-191.96 233,-180.13\"/>\n</g>\n<!-- 12 -->\n<g id=\"node13\" class=\"node\">\n<title>12</title>\n</g>\n<!-- 10&#45;&#45;12 -->\n<g id=\"edge12\" class=\"edge\">\n<title>10&#45;&#45;12</title>\n<path fill=\"none\" stroke=\"lightgreen\" d=\"M236.87,-219.3C245.63,-212.06 267.52,-193.97 284.14,-180.24\"/>\n</g>\n</g>\n</svg>\n"
     },
     "execution_count": 54,
     "metadata": {},
     "output_type": "execute_result"
    }
   ],
   "source": [
    "minus[0][2]\n"
   ],
   "metadata": {
    "collapsed": false,
    "pycharm": {
     "name": "#%%\n"
    }
   }
  }
 ],
 "metadata": {
  "kernelspec": {
   "display_name": "Python 3",
   "language": "python",
   "name": "python3"
  },
  "language_info": {
   "codemirror_mode": {
    "name": "ipython",
    "version": 2
   },
   "file_extension": ".py",
   "mimetype": "text/x-python",
   "name": "python",
   "nbconvert_exporter": "python",
   "pygments_lexer": "ipython2",
   "version": "2.7.6"
  }
 },
 "nbformat": 4,
 "nbformat_minor": 0
}