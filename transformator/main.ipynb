{
 "cells": [
  {
   "cell_type": "code",
   "execution_count": 1,
   "outputs": [],
   "source": [
    "%load_ext autoreload"
   ],
   "metadata": {
    "collapsed": false,
    "pycharm": {
     "name": "#%%\n"
    }
   }
  },
  {
   "cell_type": "code",
   "execution_count": 2,
   "outputs": [],
   "source": [
    "%autoreload 2"
   ],
   "metadata": {
    "collapsed": false,
    "pycharm": {
     "name": "#%%\n"
    }
   }
  },
  {
   "cell_type": "code",
   "execution_count": 3,
   "outputs": [],
   "source": [
    "from transformator.tree import Tree\n",
    "from transformator.lambda_tree import LambdaTree\n",
    "import pyAgrum.lib.notebook as gnb\n",
    "from collections import defaultdict"
   ],
   "metadata": {
    "collapsed": false,
    "pycharm": {
     "name": "#%%\n"
    }
   }
  },
  {
   "cell_type": "code",
   "execution_count": 4,
   "outputs": [],
   "source": [
    "PROBLEM_N = 6\n",
    "PROBLEM_N = 5\n",
    "PROBLEM_N = 4\n",
    "REMOVE_POINTERS = False"
   ],
   "metadata": {
    "collapsed": false,
    "pycharm": {
     "name": "#%%\n"
    }
   }
  },
  {
   "cell_type": "code",
   "execution_count": 5,
   "outputs": [],
   "source": [
    "ns = list(range(PROBLEM_N-4, PROBLEM_N+1))"
   ],
   "metadata": {
    "collapsed": false,
    "pycharm": {
     "name": "#%%\n"
    }
   }
  },
  {
   "cell_type": "code",
   "execution_count": 6,
   "outputs": [],
   "source": [
    "classes = [list(LambdaTree.generate(k)) for k in ns]"
   ],
   "metadata": {
    "collapsed": false,
    "pycharm": {
     "name": "#%%\n"
    }
   }
  },
  {
   "cell_type": "code",
   "execution_count": 7,
   "outputs": [
    {
     "data": {
      "text/plain": "[1, 1, 2, 4, 9]"
     },
     "execution_count": 7,
     "metadata": {},
     "output_type": "execute_result"
    }
   ],
   "source": [
    "[len(c) for c in classes]"
   ],
   "metadata": {
    "collapsed": false,
    "pycharm": {
     "name": "#%%\n"
    }
   }
  },
  {
   "cell_type": "code",
   "execution_count": 8,
   "outputs": [
    {
     "data": {
      "text/plain": "[0, 1, 14, -60, 45]"
     },
     "execution_count": 8,
     "metadata": {},
     "output_type": "execute_result"
    }
   ],
   "source": [
    "# n-4:\n",
    "# l^2*s^2*n*B(n)\n",
    "#\n",
    "# n-3:\n",
    "# ((4*a*o*s*u - 2*l^2*s - 2*l*s^2)*(n - 1) + 6*a*o*s*u - 2*l^2*s - 3*l*s^2)*B(n)\n",
    "# ((4*n+2)*a*o*s*u - 2*n*l^2*s - (2*n+1)*l*s^2)*B(n)\n",
    "#\n",
    "# n-2:\n",
    "# ((-4*a*o*u + l^2 + 4*l*s + s^2)*(n - 2) - 8*u*o*a + 2*l^2 + 10*l*s + 3*s^2)*B(n)\n",
    "# ((-4*n)*a*o*u + l^2*n + (4*n+2)*l*s + (n+1)*s^2)*B(n)\n",
    "#\n",
    "# n-1:\n",
    "# ((-2*l - 2*s)*(n - 3) - 7*l - 8*s)*B(n)\n",
    "# ((-2*n - 1)*l + (-2*n-2)*s)*B(n)\n",
    "#\n",
    "# n:\n",
    "# (1 + n)*B(n)\n",
    "\n",
    "r_ns = [\n",
    "    ns[0] * len(classes[0]),\n",
    "    ((4*ns[1]+2) - (2*ns[1]) - (2*ns[1]+1)) * len(classes[1]),\n",
    "    (-4*ns[2] + ns[2] + (4*ns[2]+2) + (ns[2]+1)) * len(classes[2]),\n",
    "    ((-2*ns[3]-1) + (-2*ns[3]-2)) * len(classes[3]),\n",
    "    (ns[4] + 1) * len(classes[4]),\n",
    "]\n",
    "\n",
    "r_ns"
   ],
   "metadata": {
    "collapsed": false,
    "pycharm": {
     "name": "#%%\n"
    }
   }
  },
  {
   "cell_type": "code",
   "execution_count": 9,
   "outputs": [
    {
     "data": {
      "text/plain": "0"
     },
     "execution_count": 9,
     "metadata": {},
     "output_type": "execute_result"
    }
   ],
   "source": [
    "sum(r_ns)"
   ],
   "metadata": {
    "collapsed": false,
    "pycharm": {
     "name": "#%%\n"
    }
   }
  },
  {
   "cell_type": "code",
   "execution_count": 10,
   "outputs": [],
   "source": [
    "r_classes = [[] for _ in range(5)]\n",
    "sections = [[] for _ in range(5)]"
   ],
   "metadata": {
    "collapsed": false,
    "pycharm": {
     "name": "#%%\n"
    }
   }
  },
  {
   "cell_type": "code",
   "execution_count": 25,
   "outputs": [],
   "source": [
    "CLASS_K = None\n",
    "N = None\n",
    "\n",
    "def define_class(k):\n",
    "    global CLASS_K\n",
    "    global N\n",
    "\n",
    "    CLASS_K = k\n",
    "    N = ns[CLASS_K]\n",
    "\n",
    "    clear_r_class()\n",
    "    clear_sections()\n",
    "\n",
    "def clear_sections():\n",
    "    sections[CLASS_K].clear()\n",
    "\n",
    "def define_section(expected_size, new_nodes):\n",
    "    start = len(r_classes[CLASS_K])\n",
    "    sections[CLASS_K].append((start, new_nodes, expected_size))\n",
    "\n",
    "def nothing(*args, **kwargs):\n",
    "    pass\n",
    "\n",
    "def append_empty_r_class(multiplier, *args, **kwargs):\n",
    "    r_classes[CLASS_K].append((multiplier, []))\n",
    "\n",
    "def clear_r_class(k=None):\n",
    "    k = k if k is not None else CLASS_K\n",
    "    r_classes[k] = []\n",
    "\n",
    "def append_r_class_subtree_visitor(multiplier, visitor):\n",
    "    trees = sum(\n",
    "        [\n",
    "            list(t.visit_subtrees(visitor))\n",
    "            for t\n",
    "            in classes[CLASS_K]\n",
    "        ],\n",
    "        []\n",
    "    )\n",
    "\n",
    "    r_classes[CLASS_K].append((multiplier, trees))\n",
    "\n",
    "def skip(_):\n",
    "    return lambda *args, **kwargs: None\n",
    "\n",
    "def append_r_class_parent_subtree_visitor(multiplier, visitor):\n",
    "    trees = sum(\n",
    "        [\n",
    "            list(t.visit_parent_subtrees(visitor))\n",
    "            for t\n",
    "            in classes[CLASS_K]\n",
    "        ],\n",
    "        []\n",
    "    )\n",
    "\n",
    "    r_classes[CLASS_K].append((multiplier, trees))\n",
    "\n",
    "def append_r_class_left_parent_subtree_visitor(multiplier, visitor):\n",
    "    trees = sum(\n",
    "        [\n",
    "            list(t.visit_left_parent_subtrees(visitor))\n",
    "            for t\n",
    "            in classes[CLASS_K]\n",
    "        ],\n",
    "        []\n",
    "    )\n",
    "\n",
    "    r_classes[CLASS_K].append((multiplier, trees))\n",
    "\n",
    "def append_r_class_right_parent_subtree_visitor(multiplier, visitor):\n",
    "    trees = sum(\n",
    "        [\n",
    "            list(t.visit_right_parent_subtrees(visitor))\n",
    "            for t\n",
    "            in classes[CLASS_K]\n",
    "        ],\n",
    "        []\n",
    "    )\n",
    "\n",
    "    r_classes[CLASS_K].append((multiplier, trees))\n",
    "\n",
    "def compute_r_class_stats(k=None):\n",
    "    print(\"=\" * 80)\n",
    "\n",
    "    total = 0\n",
    "    k = k if k is not None else CLASS_K\n",
    "\n",
    "    if REMOVE_POINTERS:\n",
    "        remove_pointers()\n",
    "\n",
    "    section_number = 0\n",
    "\n",
    "    section_id = 0\n",
    "\n",
    "    for sub_k, (multiplier, trees) in enumerate(r_classes[k]):\n",
    "        if section_id < len(sections[k]) and sections[k][section_id][0] >= sub_k:\n",
    "            _, new_nodes, expected_size = sections[k][section_id]\n",
    "\n",
    "            print(f\"# {new_nodes} x {expected_size * len(classes[k])}\")\n",
    "            section_id += 1\n",
    "\n",
    "        print(f\"{(k, sub_k)}: {multiplier} x {len(trees)}\")\n",
    "        total += multiplier * len(trees)\n",
    "\n",
    "    print(f\"total: {total}\")\n",
    "    print(f\"expected: {r_ns[k]}\")\n",
    "\n",
    "def diff_sorted(first, second, key=None, first_label=\"first\", second_label=\"second\"):\n",
    "    key = key or (lambda x: x)\n",
    "\n",
    "    first_generator = iter(first)\n",
    "    second_generator = iter(second)\n",
    "\n",
    "    p = None\n",
    "    q = None\n",
    "\n",
    "    p_sent = True\n",
    "    q_sent = True\n",
    "\n",
    "    try:\n",
    "        p = next(first_generator)\n",
    "        p_sent = False\n",
    "\n",
    "        q = next(second_generator)\n",
    "        q_sent = False\n",
    "\n",
    "        while True:\n",
    "            k_p = key(p)\n",
    "            k_q = key(q)\n",
    "\n",
    "            if k_p == k_q:\n",
    "                p_sent = True\n",
    "                q_sent = True\n",
    "\n",
    "                p = next(first_generator)\n",
    "                p_sent = False\n",
    "\n",
    "                q = next(second_generator)\n",
    "                q_sent = False\n",
    "\n",
    "            elif k_p < k_q:\n",
    "                yield first_label, p\n",
    "                p_sent = True\n",
    "\n",
    "                p = next(first_generator)\n",
    "                p_sent = False\n",
    "            else:\n",
    "                yield second_label, q\n",
    "                q_sent = True\n",
    "\n",
    "                q = next(second_generator)\n",
    "                q_sent = False\n",
    "    except StopIteration:\n",
    "        pass\n",
    "\n",
    "    try:\n",
    "        if not p_sent:\n",
    "            yield first_label, p\n",
    "\n",
    "        while True:\n",
    "            yield first_label, next(first_generator)\n",
    "    except StopIteration:\n",
    "        pass\n",
    "\n",
    "    try:\n",
    "        if not q_sent:\n",
    "            yield second_label, q\n",
    "\n",
    "        while True:\n",
    "            yield second_label, next(second_generator)\n",
    "    except StopIteration:\n",
    "        pass\n",
    "\n",
    "def compute_minus_plus_diff():\n",
    "    global minus\n",
    "    global plus\n",
    "    global diff\n",
    "\n",
    "    minus = []\n",
    "    plus = []\n",
    "\n",
    "    for r_class_id, r_class in enumerate(r_classes):\n",
    "        for r_subclass_id, (multiplier, r_subclass) in enumerate(r_class):\n",
    "            for tree in r_subclass:\n",
    "                data = (r_class_id, r_subclass_id, tree)\n",
    "\n",
    "                if multiplier == -1:\n",
    "                    minus.append(data)\n",
    "                elif multiplier == 1:\n",
    "                    plus.append(data)\n",
    "                else:\n",
    "                    assert False\n",
    "\n",
    "    sorting_key = lambda data: (str(data[2]), -data[0], data[1])\n",
    "\n",
    "    minus.sort(key=sorting_key)\n",
    "    plus.sort(key=sorting_key)\n",
    "\n",
    "    diff = list(diff_sorted(minus, plus, key=lambda x: str(x[2]), first_label=\"-\", second_label=\"+\"))\n",
    "\n",
    "    print(f\"minus: {len(minus)}\")\n",
    "    print(f\"plus: {len(plus)}\")\n",
    "    print(f\"diff: {len(diff)}\")\n",
    "\n",
    "    print_diff_stats()\n",
    "\n",
    "def print_diff_stats():\n",
    "    stats = defaultdict(int)\n",
    "    signs = {}\n",
    "\n",
    "    for sign, (p, q, _) in diff:\n",
    "        stats[(p, q)] += 1\n",
    "        signs[(p, q)] = sign\n",
    "\n",
    "    for key in sorted(stats.keys()):\n",
    "        print(f\"{key}:\\t{signs[key]}{stats[key]}\\tof {len(r_classes[key[0]][key[1]][1])}\")\n",
    "\n",
    "def remove_pointers():\n",
    "    for i in range(len(r_classes)):\n",
    "        for j in range(len(r_classes[i])):\n",
    "            multiplier, trees = r_classes[i][j]\n",
    "            r_classes[i][j] = (multiplier, [t.with_pointers_removed() for t in trees])\n",
    "\n",
    "def display_r_class(p, q):\n",
    "    for t in r_classes[p][q][1]:\n",
    "        gnb.sideBySide(t, t.extra[\"base\"])\n",
    "\n",
    "def display_diff_class(p, q):\n",
    "    for i in filter(lambda x: x[1][:2] == (p, q), diff):\n",
    "        gnb.sideBySide(i[1][2], i[1][2].extra[\"base\"])\n",
    "\n",
    "_append_r_class_parent_subtree_visitor = append_empty_r_class\n",
    "_append_r_class_left_parent_subtree_visitor = append_empty_r_class\n",
    "_append_r_class_right_parent_subtree_visitor = append_empty_r_class\n",
    "_append_r_class_subtree_visitor = append_empty_r_class"
   ],
   "metadata": {
    "collapsed": false,
    "pycharm": {
     "name": "#%%\n"
    }
   }
  },
  {
   "cell_type": "code",
   "execution_count": 26,
   "outputs": [],
   "source": [
    "for i in range(4):\n",
    "    clear_r_class(i)"
   ],
   "metadata": {
    "collapsed": false,
    "pycharm": {
     "name": "#%%\n"
    }
   }
  },
  {
   "cell_type": "code",
   "execution_count": 27,
   "outputs": [
    {
     "name": "stdout",
     "output_type": "stream",
     "text": [
      "================================================================================\n",
      "================================================================================\n",
      "#  x 45\n",
      "(4, 0): 1 x 45\n",
      "total: 45\n",
      "expected: 45\n",
      "\n",
      "minus: 0\n",
      "plus: 45\n",
      "diff: 45\n",
      "(4, 0):\t+45\tof 45\n"
     ]
    }
   ],
   "source": [
    "# n:\n",
    "# (1 + n)*B(n)\n",
    "\n",
    "define_class(4)\n",
    "\n",
    "define_section(N + 1, \"\")\n",
    "\n",
    "append_r_class_subtree_visitor(1,\n",
    "    lambda kind, left, right:\n",
    "        None if kind[0] is not None else\n",
    "        [kind + (\"*\", )] + left + right\n",
    ")\n",
    "\n",
    "print(\"=\" * 80)\n",
    "compute_r_class_stats()\n",
    "print()\n",
    "compute_minus_plus_diff()"
   ],
   "metadata": {
    "collapsed": false,
    "pycharm": {
     "name": "#%%\n"
    }
   }
  },
  {
   "cell_type": "code",
   "execution_count": 28,
   "outputs": [
    {
     "name": "stdout",
     "output_type": "stream",
     "text": [
      "================================================================================\n",
      "================================================================================\n",
      "# l x -28\n",
      "(3, 0): -1 x 12\n",
      "# s x -32\n",
      "(3, 1): -1 x 8\n",
      "(3, 2): -1 x 8\n",
      "(3, 3): -1 x 8\n",
      "(3, 4): -1 x 8\n",
      "(3, 5): -1 x 8\n",
      "(3, 6): -1 x 0\n",
      "total: -52\n",
      "expected: -60\n",
      "\n",
      "minus: 52\n",
      "plus: 45\n",
      "diff: 31\n",
      "(3, 0):\t-3\tof 12\n",
      "(3, 1):\t-3\tof 8\n",
      "(3, 2):\t-5\tof 8\n",
      "(3, 3):\t-3\tof 8\n",
      "(3, 5):\t-5\tof 8\n",
      "(4, 0):\t+12\tof 45\n"
     ]
    }
   ],
   "source": [
    "# n-1:\n",
    "# ((-2*n - 1)*l + (-2*n-2)*s)*B(n)\n",
    "\n",
    "define_class(3)\n",
    "\n",
    "define_section(-(2 * N + 1), \"l\")\n",
    "\n",
    "# 3,0\n",
    "append_r_class_subtree_visitor(-1,\n",
    "    lambda kind, left, right:\n",
    "        None if kind[0] is None else\n",
    "        [\"l\", kind] + left + right + [(None, \"*\")]\n",
    ")\n",
    "\n",
    "# 3,1\n",
    "append_r_class_right_parent_subtree_visitor(-1,\n",
    "    lambda kind, parent_kind, left, right:\n",
    "        None if kind[0] is not None else\n",
    "        [\"l\", parent_kind] + [left[0] + (\"*\",)] + left[1:] + right + [None]\n",
    ")\n",
    "\n",
    "# 3,2\n",
    "append_r_class_left_parent_subtree_visitor(-1,\n",
    "    lambda kind, parent_kind, left, right:\n",
    "        None if kind[0] is not None else\n",
    "        [\"l\", parent_kind] + left + [right[0] + (\"*\",)] + right[1:] + [None]\n",
    ")\n",
    "\n",
    "# -2(n+1)*s\n",
    "define_section(-2 * (N + 1), \"s\")\n",
    "\n",
    "# 3,3\n",
    "append_r_class_left_parent_subtree_visitor(-1,\n",
    "    lambda kind, parent_kind, left, right:\n",
    "        None if kind[0] is not None else\n",
    "        [\"s\", None, parent_kind] + left + [right[0] + (\"*\",)] + right[1:]\n",
    ")\n",
    "\n",
    "# 3,4\n",
    "append_r_class_right_parent_subtree_visitor(-1,\n",
    "    lambda kind, parent_kind, left, right:\n",
    "        None if kind[0] is not None else\n",
    "        [\"s\", None, parent_kind] + [left[0] + (\"*\",)] + left[1:] + right\n",
    ")\n",
    "\n",
    "# 3,5\n",
    "append_r_class_right_parent_subtree_visitor(-1,\n",
    "    lambda kind, parent_kind, left, right:\n",
    "        None if kind[0] is not None else\n",
    "        [\"s\", (None, \"*\"), parent_kind] + left + right\n",
    ")\n",
    "\n",
    "# 3,6\n",
    "_append_r_class_left_parent_subtree_visitor(-1,\n",
    "    lambda kind, parent_kind, left, right:\n",
    "        None if kind[0] is not None else\n",
    "        [\"s\", (None, \"*\"), parent_kind] + left + right\n",
    ")\n",
    "\n",
    "# append_r_class_subtree_visitor(-1,\n",
    "#     lambda kind, left, right:\n",
    "#         None if kind[0] is not None else\n",
    "#         [\"s\", (None, \"*\"), kind]\n",
    "# )\n",
    "#\n",
    "# append_r_class_subtree_visitor(-1,\n",
    "#     lambda kind, left, right:\n",
    "#         None if kind[0] is not None else\n",
    "#         [\"s\", (None, \"*\"), kind]\n",
    "# )\n",
    "\n",
    "print(\"=\" * 80)\n",
    "compute_r_class_stats()\n",
    "print()\n",
    "compute_minus_plus_diff()"
   ],
   "metadata": {
    "collapsed": false,
    "pycharm": {
     "name": "#%%\n"
    }
   }
  },
  {
   "cell_type": "code",
   "execution_count": 15,
   "outputs": [
    {
     "data": {
      "text/plain": "[[], [], [], [(0, 'l', -7), (3, 's', -8)], [(0, '', 5)]]"
     },
     "execution_count": 15,
     "metadata": {},
     "output_type": "execute_result"
    }
   ],
   "source": [
    "sections"
   ],
   "metadata": {
    "collapsed": false,
    "pycharm": {
     "name": "#%%\n"
    }
   }
  },
  {
   "cell_type": "code",
   "execution_count": 119,
   "outputs": [
    {
     "name": "stdout",
     "output_type": "stream",
     "text": [
      "================================================================================\n",
      "(2, 0): -1 x 36\n",
      "(2, 1): -1 x 36\n",
      "(2, 2): -1 x 36\n",
      "(2, 3): -1 x 36\n",
      "(2, 4): 1 x 36\n",
      "(2, 5): 1 x 22\n",
      "(2, 6): 1 x 36\n",
      "(2, 7): 1 x 22\n",
      "(2, 8): 1 x 0\n",
      "(2, 9): 1 x 22\n",
      "total: -6\n",
      "expected: 99\n",
      "\n",
      "minus: 581\n",
      "plus: 537\n",
      "diff: 76\n",
      "(2, 0):\t-8\tof 36\n",
      "(2, 1):\t-8\tof 36\n",
      "(2, 2):\t-8\tof 36\n",
      "(2, 3):\t-8\tof 36\n",
      "(2, 4):\t+8\tof 36\n",
      "(2, 7):\t+8\tof 22\n",
      "(3, 1):\t-14\tof 63\n",
      "(3, 2):\t-14\tof 69\n"
     ]
    }
   ],
   "source": [
    "# n-2:\n",
    "# ((-4*n)*a*o*u + l^2*n + (4*n+2)*l*s + (n+1)*s^2)*B(n)\n",
    "\n",
    "define_class(2)\n",
    "\n",
    "# -4(n)*a*o*u\n",
    "\n",
    "# 2,0\n",
    "append_r_class_subtree_visitor(-1,\n",
    "    lambda kind, left, right:\n",
    "        None if kind[0] is None else\n",
    "        [\"a\", \"o\", (None, \"*\"), None, kind] + left + right\n",
    ")\n",
    "\n",
    "# 2,1\n",
    "append_r_class_subtree_visitor(-1,\n",
    "    lambda kind, left, right:\n",
    "        None if kind[0] is None else\n",
    "        [\"a\", \"o\", None, (None, \"*\"), kind] + left + right\n",
    ")\n",
    "\n",
    "# 2,2\n",
    "append_r_class_subtree_visitor(-1,\n",
    "    lambda kind, left, right:\n",
    "        None if kind[0] is None else\n",
    "        [\"a\", kind] + left + right + [\"o\", (None, \"*\"), None]\n",
    ")\n",
    "\n",
    "# 2,3\n",
    "append_r_class_subtree_visitor(-1,\n",
    "    lambda kind, left, right:\n",
    "        None if kind[0] is None else\n",
    "        [\"a\", kind] + left + right + [\"o\", None, (None, \"*\")]\n",
    ")\n",
    "\n",
    "# l^2*n\n",
    "\n",
    "# 2,4\n",
    "append_r_class_subtree_visitor(1,\n",
    "    lambda kind, left, right:\n",
    "        None if kind[0] is None else\n",
    "        [\"l\", \"l\", kind] + left + right + [(None, \"*\"), None]\n",
    ")\n",
    "\n",
    "# append_r_class_right_parent_subtree_visitor(1,\n",
    "#     lambda kind, parent_kind, left, right:\n",
    "#         None if kind[0] is None else\n",
    "#         [\"l\", \"l\", parent_kind] + left + right + [(None, \"*\"), None]\n",
    "# )\n",
    "\n",
    "# (4*n+2)*l*s\n",
    "\n",
    "# 2,5\n",
    "append_r_class_right_parent_subtree_visitor(1,\n",
    "    lambda kind, parent_kind, left, right:\n",
    "        None if kind[0] is not None else\n",
    "        [\"l\", \"s\", (None, \"*\"), parent_kind] + left + right + [None]\n",
    ")\n",
    "\n",
    "# 2,6\n",
    "append_r_class_subtree_visitor(1,\n",
    "    lambda kind, left, right:\n",
    "        None if kind[0] is None else\n",
    "        [\"s\", None, \"l\", kind] + left + right + [(None, \"*\")]\n",
    ")\n",
    "\n",
    "# 2,7\n",
    "append_r_class_right_parent_subtree_visitor(1,\n",
    "    lambda kind, parent_kind, left, right:\n",
    "        None if kind[0] is not None else\n",
    "        [\"s\", None, \"l\", parent_kind] + left + right + [(None, \"*\")]\n",
    ")\n",
    "\n",
    "# 2,8\n",
    "_append_r_class_parent_subtree_visitor(1,\n",
    "    lambda kind, parent_kind, left, right:\n",
    "        None if kind[0] is None else\n",
    "        [\"s\", None, \"l\", parent_kind] + left + right + [(None, \"*\")]\n",
    ")\n",
    "\n",
    "# (n+1)*s^2\n",
    "\n",
    "# 2,9\n",
    "append_r_class_right_parent_subtree_visitor(1,\n",
    "    lambda kind, parent_kind, left, right:\n",
    "        None if kind[0] is not None else\n",
    "        [\"s\", None, \"s\", (None, \"*\"), parent_kind] + left + right\n",
    ")\n",
    "\n",
    "print(\"=\" * 80)\n",
    "compute_r_class_stats()\n",
    "print()\n",
    "compute_minus_plus_diff()"
   ],
   "metadata": {
    "collapsed": false,
    "pycharm": {
     "name": "#%%\n"
    }
   }
  },
  {
   "cell_type": "code",
   "execution_count": 126,
   "outputs": [
    {
     "name": "stdout",
     "output_type": "stream",
     "text": [
      "================================================================================\n",
      "(1, 0): 1 x 0\n",
      "(1, 1): 1 x 0\n",
      "(1, 2): -1 x 8\n",
      "(1, 3): -1 x 0\n",
      "(1, 4): -1 x 8\n",
      "total: -16\n",
      "expected: 4\n",
      "\n",
      "minus: 597\n",
      "plus: 537\n",
      "diff: 60\n",
      "(2, 0):\t-8\tof 36\n",
      "(2, 1):\t-8\tof 36\n",
      "(2, 2):\t-8\tof 36\n",
      "(2, 3):\t-8\tof 36\n",
      "(3, 1):\t-14\tof 63\n",
      "(3, 2):\t-14\tof 69\n"
     ]
    }
   ],
   "source": [
    "# n-3:\n",
    "# ((4*n+2)*a*o*s*u - 2*n*l^2*s - (2*n+1)*l*s^2)*B(n)\n",
    "\n",
    "define_class(1)\n",
    "\n",
    "# (4*n+2)*a*o*s*u\n",
    "\n",
    "# 1,0\n",
    "_append_r_class_subtree_visitor(1,\n",
    "    lambda kind, left, right:\n",
    "        [\"a\", \"s\", None, \"o\", (None, \"*\"), None, kind] + left + right\n",
    ")\n",
    "\n",
    "# 1,1\n",
    "_append_r_class_subtree_visitor(1,\n",
    "    lambda kind, left, right:\n",
    "        [\"a\", \"s\", None, \"o\", None, (None, \"*\"), kind] + left + right\n",
    ")\n",
    "\n",
    "# - 2*n*l^2*s\n",
    "\n",
    "# 1,2\n",
    "# append_r_class_subtree_visitor(-1,\n",
    "#     lambda kind, left, right:\n",
    "#         None if kind[0] is None else\n",
    "#         [\"s\", None, \"l\", \"l\", kind] + left + right + [(None, \"*\"), None]\n",
    "# )\n",
    "append_r_class_right_parent_subtree_visitor(-1,\n",
    "    lambda kind, parent_kind, left, right:\n",
    "        None if kind[0] is not None else\n",
    "        [\"s\", None, \"l\", \"l\", parent_kind] + left + right + [(None, \"*\"), None]\n",
    ")\n",
    "\n",
    "# 1,3\n",
    "_append_r_class_subtree_visitor(-1,\n",
    "    lambda kind, left, right:\n",
    "        None if kind[0] is None else\n",
    "        [\"l\", \"l\", \"s\", None, kind] + left + right + [None, (None, \"*\")]\n",
    ")\n",
    "\n",
    "# - (2*n+1)*l*s^2\n",
    "\n",
    "# 1,4\n",
    "append_r_class_right_parent_subtree_visitor(-1,\n",
    "    lambda kind, parent_kind, left, right:\n",
    "        None if kind[0] is not None else\n",
    "        [\"s\", None, \"s\", None, \"l\", parent_kind] + left + right + [(None, \"*\")]\n",
    ")\n",
    "\n",
    "print(\"=\" * 80)\n",
    "compute_r_class_stats()\n",
    "print()\n",
    "compute_minus_plus_diff()"
   ],
   "metadata": {
    "collapsed": false,
    "pycharm": {
     "name": "#%%\n"
    }
   }
  },
  {
   "cell_type": "code",
   "execution_count": 127,
   "outputs": [
    {
     "name": "stdout",
     "output_type": "stream",
     "text": [
      "================================================================================\n",
      "(0, 0): 1 x 0\n",
      "total: 0\n",
      "expected: 4\n",
      "\n",
      "minus: 597\n",
      "plus: 537\n",
      "diff: 60\n",
      "(2, 0):\t-8\tof 36\n",
      "(2, 1):\t-8\tof 36\n",
      "(2, 2):\t-8\tof 36\n",
      "(2, 3):\t-8\tof 36\n",
      "(3, 1):\t-14\tof 63\n",
      "(3, 2):\t-14\tof 69\n"
     ]
    }
   ],
   "source": [
    "# n-4:\n",
    "# l^2*s^2*n*B(n)\n",
    "\n",
    "define_class(0)\n",
    "\n",
    "# l^2*s^2*n\n",
    "\n",
    "_append_r_class_subtree_visitor(1,\n",
    "        lambda kind, left, right:\n",
    "            None if kind[0] is None else\n",
    "            [\"l\", \"l\", \"s\", None, \"s\", None, kind] + left + right + [None, None]\n",
    ")\n",
    "\n",
    "print(\"=\" * 80)\n",
    "compute_r_class_stats()\n",
    "print()\n",
    "compute_minus_plus_diff()"
   ],
   "metadata": {
    "collapsed": false,
    "pycharm": {
     "name": "#%%\n"
    }
   }
  },
  {
   "cell_type": "code",
   "execution_count": 42,
   "outputs": [
    {
     "data": {
      "text/plain": "<IPython.core.display.HTML object>",
      "text/html": "<table style=\"border-style: hidden; border-collapse: collapse;\" width=\"100%\"><tr><td style=\"border-top:hidden;border-bottom:hidden;\"><div align=\"center\" style=\"\"><?xml version=\"1.0\" encoding=\"UTF-8\" standalone=\"no\"?>\n<!DOCTYPE svg PUBLIC \"-//W3C//DTD SVG 1.1//EN\"\n \"http://www.w3.org/Graphics/SVG/1.1/DTD/svg11.dtd\">\n<!-- Generated by graphviz version 2.44.1 (20200629.0846)\n -->\n<!-- Pages: 1 -->\n<svg width=\"157pt\" height=\"288pt\"\n viewBox=\"0.00 0.00 157.43 288.00\" xmlns=\"http://www.w3.org/2000/svg\" xmlns:xlink=\"http://www.w3.org/1999/xlink\">\n<g id=\"graph0\" class=\"graph\" transform=\"scale(0.93 0.93) rotate(0) translate(4 307)\">\n<polygon fill=\"white\" stroke=\"transparent\" points=\"-4,4 -4,-307 166,-307 166,4 -4,4\"/>\n<!-- 0 -->\n<g id=\"node1\" class=\"node\">\n<title>0</title>\n<text text-anchor=\"middle\" x=\"75\" y=\"-291.8\" font-family=\"Times,serif\" font-size=\"14.00\">l</text>\n</g>\n<!-- 1 -->\n<g id=\"node2\" class=\"node\">\n<title>1</title>\n<text text-anchor=\"middle\" x=\"51\" y=\"-230.3\" font-family=\"Times,serif\" font-size=\"14.00\">s</text>\n</g>\n<!-- 0&#45;&#45;1 -->\n<g id=\"edge1\" class=\"edge\">\n<title>0&#45;&#45;1</title>\n<path fill=\"none\" stroke=\"black\" d=\"M72.95,-289.43C68.65,-278.75 58.64,-253.94 53.77,-241.86\"/>\n</g>\n<!-- 8 -->\n<g id=\"node9\" class=\"node\">\n<title>8</title>\n</g>\n<!-- 0&#45;&#45;8 -->\n<g id=\"edge8\" class=\"edge\">\n<title>0&#45;&#45;8</title>\n<path fill=\"none\" stroke=\"lightgreen\" d=\"M77.05,-289.43C80.33,-281.28 86.94,-264.9 92.05,-252.23\"/>\n</g>\n<!-- 2 -->\n<g id=\"node3\" class=\"node\">\n<title>2</title>\n</g>\n<!-- 1&#45;&#45;2 -->\n<g id=\"edge2\" class=\"edge\">\n<title>1&#45;&#45;2</title>\n<path fill=\"none\" stroke=\"lightgreen\" d=\"M48.7,-226.29C45.09,-215.75 37.97,-194.99 32.87,-180.12\"/>\n</g>\n<!-- 3 -->\n<g id=\"node4\" class=\"node\">\n<title>3</title>\n<text text-anchor=\"middle\" x=\"75\" y=\"-158.3\" font-family=\"Times,serif\" font-size=\"14.00\">s</text>\n</g>\n<!-- 1&#45;&#45;3 -->\n<g id=\"edge3\" class=\"edge\">\n<title>1&#45;&#45;3</title>\n<path fill=\"none\" stroke=\"black\" d=\"M53.3,-226.29C57.9,-212.87 68.18,-182.9 72.74,-169.59\"/>\n</g>\n<!-- 4 -->\n<g id=\"node5\" class=\"node\">\n<title>4</title>\n<text text-anchor=\"middle\" x=\"50\" y=\"-86.3\" font-family=\"Times,serif\" font-size=\"14.00\">*</text>\n</g>\n<!-- 3&#45;&#45;4 -->\n<g id=\"edge4\" class=\"edge\">\n<title>3&#45;&#45;4</title>\n<path fill=\"none\" stroke=\"lightgreen\" d=\"M72.6,-154.29C68.84,-143.75 61.42,-122.99 56.11,-108.12\"/>\n</g>\n<!-- 5 -->\n<g id=\"node6\" class=\"node\">\n<title>5</title>\n<text text-anchor=\"middle\" x=\"99\" y=\"-86.3\" font-family=\"Times,serif\" font-size=\"14.00\">o</text>\n</g>\n<!-- 3&#45;&#45;5 -->\n<g id=\"edge5\" class=\"edge\">\n<title>3&#45;&#45;5</title>\n<path fill=\"none\" stroke=\"black\" d=\"M77.3,-154.29C81.9,-140.87 92.18,-110.9 96.74,-97.59\"/>\n</g>\n<!-- 6 -->\n<g id=\"node7\" class=\"node\">\n<title>6</title>\n</g>\n<!-- 5&#45;&#45;6 -->\n<g id=\"edge6\" class=\"edge\">\n<title>5&#45;&#45;6</title>\n<path fill=\"none\" stroke=\"lightgreen\" d=\"M95.55,-82.29C90.13,-71.75 79.45,-50.99 71.8,-36.12\"/>\n</g>\n<!-- 7 -->\n<g id=\"node8\" class=\"node\">\n<title>7</title>\n</g>\n<!-- 5&#45;&#45;7 -->\n<g id=\"edge7\" class=\"edge\">\n<title>5&#45;&#45;7</title>\n<path fill=\"none\" stroke=\"lightgreen\" d=\"M102.45,-82.29C107.87,-71.75 118.55,-50.99 126.2,-36.12\"/>\n</g>\n</g>\n</svg>\n</div></td><td style=\"border-top:hidden;border-bottom:hidden;\"><div align=\"center\" style=\"\"><?xml version=\"1.0\" encoding=\"UTF-8\" standalone=\"no\"?>\n<!DOCTYPE svg PUBLIC \"-//W3C//DTD SVG 1.1//EN\"\n \"http://www.w3.org/Graphics/SVG/1.1/DTD/svg11.dtd\">\n<!-- Generated by graphviz version 2.44.1 (20200629.0846)\n -->\n<!-- Pages: 1 -->\n<svg width=\"147pt\" height=\"239pt\"\n viewBox=\"0.00 0.00 147.00 239.00\" xmlns=\"http://www.w3.org/2000/svg\" xmlns:xlink=\"http://www.w3.org/1999/xlink\">\n<g id=\"graph0\" class=\"graph\" transform=\"scale(1 1) rotate(0) translate(4 235)\">\n<polygon fill=\"white\" stroke=\"transparent\" points=\"-4,4 -4,-235 143,-235 143,4 -4,4\"/>\n<!-- 0 -->\n<g id=\"node1\" class=\"node\">\n<title>0</title>\n<text text-anchor=\"middle\" x=\"75\" y=\"-219.8\" font-family=\"Times,serif\" font-size=\"14.00\">l</text>\n</g>\n<!-- 1 -->\n<g id=\"node2\" class=\"node\">\n<title>1</title>\n<text text-anchor=\"middle\" x=\"51\" y=\"-158.3\" font-family=\"Times,serif\" font-size=\"14.00\">s</text>\n</g>\n<!-- 0&#45;&#45;1 -->\n<g id=\"edge1\" class=\"edge\">\n<title>0&#45;&#45;1</title>\n<path fill=\"none\" stroke=\"black\" d=\"M72.95,-217.43C68.65,-206.75 58.64,-181.94 53.77,-169.86\"/>\n</g>\n<!-- 6 -->\n<g id=\"node7\" class=\"node\">\n<title>6</title>\n</g>\n<!-- 0&#45;&#45;6 -->\n<g id=\"edge6\" class=\"edge\">\n<title>0&#45;&#45;6</title>\n<path fill=\"none\" stroke=\"lightgreen\" d=\"M77.05,-217.43C80.33,-209.28 86.94,-192.9 92.05,-180.23\"/>\n</g>\n<!-- 2 -->\n<g id=\"node3\" class=\"node\">\n<title>2</title>\n</g>\n<!-- 1&#45;&#45;2 -->\n<g id=\"edge2\" class=\"edge\">\n<title>1&#45;&#45;2</title>\n<path fill=\"none\" stroke=\"lightgreen\" d=\"M48.7,-154.29C45.09,-143.75 37.97,-122.99 32.87,-108.12\"/>\n</g>\n<!-- 3 -->\n<g id=\"node4\" class=\"node\">\n<title>3</title>\n<text text-anchor=\"middle\" x=\"76\" y=\"-86.3\" font-family=\"Times,serif\" font-size=\"14.00\">o</text>\n</g>\n<!-- 1&#45;&#45;3 -->\n<g id=\"edge3\" class=\"edge\">\n<title>1&#45;&#45;3</title>\n<path fill=\"none\" stroke=\"black\" d=\"M53.4,-154.29C58.19,-140.87 68.89,-110.9 73.65,-97.59\"/>\n</g>\n<!-- 4 -->\n<g id=\"node5\" class=\"node\">\n<title>4</title>\n</g>\n<!-- 3&#45;&#45;4 -->\n<g id=\"edge4\" class=\"edge\">\n<title>3&#45;&#45;4</title>\n<path fill=\"none\" stroke=\"lightgreen\" d=\"M72.55,-82.29C67.13,-71.75 56.45,-50.99 48.8,-36.12\"/>\n</g>\n<!-- 5 -->\n<g id=\"node6\" class=\"node\">\n<title>5</title>\n</g>\n<!-- 3&#45;&#45;5 -->\n<g id=\"edge5\" class=\"edge\">\n<title>3&#45;&#45;5</title>\n<path fill=\"none\" stroke=\"lightgreen\" d=\"M79.45,-82.29C84.87,-71.75 95.55,-50.99 103.2,-36.12\"/>\n</g>\n</g>\n</svg>\n</div></td></tr></table>"
     },
     "metadata": {},
     "output_type": "display_data"
    },
    {
     "data": {
      "text/plain": "<IPython.core.display.HTML object>",
      "text/html": "<table style=\"border-style: hidden; border-collapse: collapse;\" width=\"100%\"><tr><td style=\"border-top:hidden;border-bottom:hidden;\"><div align=\"center\" style=\"\"><?xml version=\"1.0\" encoding=\"UTF-8\" standalone=\"no\"?>\n<!DOCTYPE svg PUBLIC \"-//W3C//DTD SVG 1.1//EN\"\n \"http://www.w3.org/Graphics/SVG/1.1/DTD/svg11.dtd\">\n<!-- Generated by graphviz version 2.44.1 (20200629.0846)\n -->\n<!-- Pages: 1 -->\n<svg width=\"180pt\" height=\"288pt\"\n viewBox=\"0.00 0.00 179.65 288.00\" xmlns=\"http://www.w3.org/2000/svg\" xmlns:xlink=\"http://www.w3.org/1999/xlink\">\n<g id=\"graph0\" class=\"graph\" transform=\"scale(0.93 0.93) rotate(0) translate(4 307)\">\n<polygon fill=\"white\" stroke=\"transparent\" points=\"-4,4 -4,-307 190,-307 190,4 -4,4\"/>\n<!-- 0 -->\n<g id=\"node1\" class=\"node\">\n<title>0</title>\n<text text-anchor=\"middle\" x=\"51\" y=\"-291.8\" font-family=\"Times,serif\" font-size=\"14.00\">s</text>\n</g>\n<!-- 1 -->\n<g id=\"node2\" class=\"node\">\n<title>1</title>\n</g>\n<!-- 0&#45;&#45;1 -->\n<g id=\"edge1\" class=\"edge\">\n<title>0&#45;&#45;1</title>\n<path fill=\"none\" stroke=\"lightgreen\" d=\"M48.25,-287.67C44.77,-279.07 38.68,-263.96 33.91,-252.13\"/>\n</g>\n<!-- 2 -->\n<g id=\"node3\" class=\"node\">\n<title>2</title>\n<text text-anchor=\"middle\" x=\"75\" y=\"-230.3\" font-family=\"Times,serif\" font-size=\"14.00\">s</text>\n</g>\n<!-- 0&#45;&#45;2 -->\n<g id=\"edge2\" class=\"edge\">\n<title>0&#45;&#45;2</title>\n<path fill=\"none\" stroke=\"black\" d=\"M53.75,-287.67C58.38,-276.2 67.67,-253.17 72.28,-241.75\"/>\n</g>\n<!-- 3 -->\n<g id=\"node4\" class=\"node\">\n<title>3</title>\n<text text-anchor=\"middle\" x=\"51\" y=\"-158.3\" font-family=\"Times,serif\" font-size=\"14.00\">*</text>\n</g>\n<!-- 2&#45;&#45;3 -->\n<g id=\"edge3\" class=\"edge\">\n<title>2&#45;&#45;3</title>\n<path fill=\"none\" stroke=\"lightgreen\" d=\"M72.7,-226.29C69.09,-215.75 61.97,-194.99 56.87,-180.12\"/>\n</g>\n<!-- 4 -->\n<g id=\"node5\" class=\"node\">\n<title>4</title>\n<text text-anchor=\"middle\" x=\"99\" y=\"-158.3\" font-family=\"Times,serif\" font-size=\"14.00\">s</text>\n</g>\n<!-- 2&#45;&#45;4 -->\n<g id=\"edge4\" class=\"edge\">\n<title>2&#45;&#45;4</title>\n<path fill=\"none\" stroke=\"black\" d=\"M77.3,-226.29C81.9,-212.87 92.18,-182.9 96.74,-169.59\"/>\n</g>\n<!-- 5 -->\n<g id=\"node6\" class=\"node\">\n<title>5</title>\n</g>\n<!-- 4&#45;&#45;5 -->\n<g id=\"edge5\" class=\"edge\">\n<title>4&#45;&#45;5</title>\n<path fill=\"none\" stroke=\"lightgreen\" d=\"M96.6,-154.29C92.84,-143.75 85.42,-122.99 80.11,-108.12\"/>\n</g>\n<!-- 6 -->\n<g id=\"node7\" class=\"node\">\n<title>6</title>\n<text text-anchor=\"middle\" x=\"123\" y=\"-86.3\" font-family=\"Times,serif\" font-size=\"14.00\">o</text>\n</g>\n<!-- 4&#45;&#45;6 -->\n<g id=\"edge6\" class=\"edge\">\n<title>4&#45;&#45;6</title>\n<path fill=\"none\" stroke=\"black\" d=\"M101.3,-154.29C105.9,-140.87 116.18,-110.9 120.74,-97.59\"/>\n</g>\n<!-- 7 -->\n<g id=\"node8\" class=\"node\">\n<title>7</title>\n</g>\n<!-- 6&#45;&#45;7 -->\n<g id=\"edge7\" class=\"edge\">\n<title>6&#45;&#45;7</title>\n<path fill=\"none\" stroke=\"lightgreen\" d=\"M119.55,-82.29C114.13,-71.75 103.45,-50.99 95.8,-36.12\"/>\n</g>\n<!-- 8 -->\n<g id=\"node9\" class=\"node\">\n<title>8</title>\n</g>\n<!-- 6&#45;&#45;8 -->\n<g id=\"edge8\" class=\"edge\">\n<title>6&#45;&#45;8</title>\n<path fill=\"none\" stroke=\"lightgreen\" d=\"M126.45,-82.29C131.87,-71.75 142.55,-50.99 150.2,-36.12\"/>\n</g>\n</g>\n</svg>\n</div></td><td style=\"border-top:hidden;border-bottom:hidden;\"><div align=\"center\" style=\"\"><?xml version=\"1.0\" encoding=\"UTF-8\" standalone=\"no\"?>\n<!DOCTYPE svg PUBLIC \"-//W3C//DTD SVG 1.1//EN\"\n \"http://www.w3.org/Graphics/SVG/1.1/DTD/svg11.dtd\">\n<!-- Generated by graphviz version 2.44.1 (20200629.0846)\n -->\n<!-- Pages: 1 -->\n<svg width=\"170pt\" height=\"239pt\"\n viewBox=\"0.00 0.00 170.00 239.00\" xmlns=\"http://www.w3.org/2000/svg\" xmlns:xlink=\"http://www.w3.org/1999/xlink\">\n<g id=\"graph0\" class=\"graph\" transform=\"scale(1 1) rotate(0) translate(4 235)\">\n<polygon fill=\"white\" stroke=\"transparent\" points=\"-4,4 -4,-235 166,-235 166,4 -4,4\"/>\n<!-- 0 -->\n<g id=\"node1\" class=\"node\">\n<title>0</title>\n<text text-anchor=\"middle\" x=\"51\" y=\"-219.8\" font-family=\"Times,serif\" font-size=\"14.00\">s</text>\n</g>\n<!-- 1 -->\n<g id=\"node2\" class=\"node\">\n<title>1</title>\n</g>\n<!-- 0&#45;&#45;1 -->\n<g id=\"edge1\" class=\"edge\">\n<title>0&#45;&#45;1</title>\n<path fill=\"none\" stroke=\"lightgreen\" d=\"M48.25,-215.67C44.77,-207.07 38.68,-191.96 33.91,-180.13\"/>\n</g>\n<!-- 2 -->\n<g id=\"node3\" class=\"node\">\n<title>2</title>\n<text text-anchor=\"middle\" x=\"75\" y=\"-158.3\" font-family=\"Times,serif\" font-size=\"14.00\">s</text>\n</g>\n<!-- 0&#45;&#45;2 -->\n<g id=\"edge2\" class=\"edge\">\n<title>0&#45;&#45;2</title>\n<path fill=\"none\" stroke=\"black\" d=\"M53.75,-215.67C58.38,-204.2 67.67,-181.17 72.28,-169.75\"/>\n</g>\n<!-- 3 -->\n<g id=\"node4\" class=\"node\">\n<title>3</title>\n</g>\n<!-- 2&#45;&#45;3 -->\n<g id=\"edge3\" class=\"edge\">\n<title>2&#45;&#45;3</title>\n<path fill=\"none\" stroke=\"lightgreen\" d=\"M72.6,-154.29C68.84,-143.75 61.42,-122.99 56.11,-108.12\"/>\n</g>\n<!-- 4 -->\n<g id=\"node5\" class=\"node\">\n<title>4</title>\n<text text-anchor=\"middle\" x=\"99\" y=\"-86.3\" font-family=\"Times,serif\" font-size=\"14.00\">o</text>\n</g>\n<!-- 2&#45;&#45;4 -->\n<g id=\"edge4\" class=\"edge\">\n<title>2&#45;&#45;4</title>\n<path fill=\"none\" stroke=\"black\" d=\"M77.3,-154.29C81.9,-140.87 92.18,-110.9 96.74,-97.59\"/>\n</g>\n<!-- 5 -->\n<g id=\"node6\" class=\"node\">\n<title>5</title>\n</g>\n<!-- 4&#45;&#45;5 -->\n<g id=\"edge5\" class=\"edge\">\n<title>4&#45;&#45;5</title>\n<path fill=\"none\" stroke=\"lightgreen\" d=\"M95.55,-82.29C90.13,-71.75 79.45,-50.99 71.8,-36.12\"/>\n</g>\n<!-- 6 -->\n<g id=\"node7\" class=\"node\">\n<title>6</title>\n</g>\n<!-- 4&#45;&#45;6 -->\n<g id=\"edge6\" class=\"edge\">\n<title>4&#45;&#45;6</title>\n<path fill=\"none\" stroke=\"lightgreen\" d=\"M102.45,-82.29C107.87,-71.75 118.55,-50.99 126.2,-36.12\"/>\n</g>\n</g>\n</svg>\n</div></td></tr></table>"
     },
     "metadata": {},
     "output_type": "display_data"
    },
    {
     "data": {
      "text/plain": "<IPython.core.display.HTML object>",
      "text/html": "<table style=\"border-style: hidden; border-collapse: collapse;\" width=\"100%\"><tr><td style=\"border-top:hidden;border-bottom:hidden;\"><div align=\"center\" style=\"\"><?xml version=\"1.0\" encoding=\"UTF-8\" standalone=\"no\"?>\n<!DOCTYPE svg PUBLIC \"-//W3C//DTD SVG 1.1//EN\"\n \"http://www.w3.org/Graphics/SVG/1.1/DTD/svg11.dtd\">\n<!-- Generated by graphviz version 2.44.1 (20200629.0846)\n -->\n<!-- Pages: 1 -->\n<svg width=\"180pt\" height=\"288pt\"\n viewBox=\"0.00 0.00 179.65 288.00\" xmlns=\"http://www.w3.org/2000/svg\" xmlns:xlink=\"http://www.w3.org/1999/xlink\">\n<g id=\"graph0\" class=\"graph\" transform=\"scale(0.93 0.93) rotate(0) translate(4 307)\">\n<polygon fill=\"white\" stroke=\"transparent\" points=\"-4,4 -4,-307 190,-307 190,4 -4,4\"/>\n<!-- 0 -->\n<g id=\"node1\" class=\"node\">\n<title>0</title>\n<text text-anchor=\"middle\" x=\"51\" y=\"-291.8\" font-family=\"Times,serif\" font-size=\"14.00\">s</text>\n</g>\n<!-- 1 -->\n<g id=\"node2\" class=\"node\">\n<title>1</title>\n</g>\n<!-- 0&#45;&#45;1 -->\n<g id=\"edge1\" class=\"edge\">\n<title>0&#45;&#45;1</title>\n<path fill=\"none\" stroke=\"lightgreen\" d=\"M48.25,-287.67C44.77,-279.07 38.68,-263.96 33.91,-252.13\"/>\n</g>\n<!-- 2 -->\n<g id=\"node3\" class=\"node\">\n<title>2</title>\n<text text-anchor=\"middle\" x=\"75\" y=\"-230.3\" font-family=\"Times,serif\" font-size=\"14.00\">s</text>\n</g>\n<!-- 0&#45;&#45;2 -->\n<g id=\"edge2\" class=\"edge\">\n<title>0&#45;&#45;2</title>\n<path fill=\"none\" stroke=\"black\" d=\"M53.75,-287.67C58.38,-276.2 67.67,-253.17 72.28,-241.75\"/>\n</g>\n<!-- 3 -->\n<g id=\"node4\" class=\"node\">\n<title>3</title>\n</g>\n<!-- 2&#45;&#45;3 -->\n<g id=\"edge3\" class=\"edge\">\n<title>2&#45;&#45;3</title>\n<path fill=\"none\" stroke=\"lightgreen\" d=\"M72.7,-226.29C69.09,-215.75 61.97,-194.99 56.87,-180.12\"/>\n</g>\n<!-- 4 -->\n<g id=\"node5\" class=\"node\">\n<title>4</title>\n<text text-anchor=\"middle\" x=\"99\" y=\"-158.3\" font-family=\"Times,serif\" font-size=\"14.00\">s</text>\n</g>\n<!-- 2&#45;&#45;4 -->\n<g id=\"edge4\" class=\"edge\">\n<title>2&#45;&#45;4</title>\n<path fill=\"none\" stroke=\"black\" d=\"M77.3,-226.29C81.9,-212.87 92.18,-182.9 96.74,-169.59\"/>\n</g>\n<!-- 5 -->\n<g id=\"node6\" class=\"node\">\n<title>5</title>\n<text text-anchor=\"middle\" x=\"74\" y=\"-86.3\" font-family=\"Times,serif\" font-size=\"14.00\">*</text>\n</g>\n<!-- 4&#45;&#45;5 -->\n<g id=\"edge5\" class=\"edge\">\n<title>4&#45;&#45;5</title>\n<path fill=\"none\" stroke=\"lightgreen\" d=\"M96.6,-154.29C92.84,-143.75 85.42,-122.99 80.11,-108.12\"/>\n</g>\n<!-- 6 -->\n<g id=\"node7\" class=\"node\">\n<title>6</title>\n<text text-anchor=\"middle\" x=\"123\" y=\"-86.3\" font-family=\"Times,serif\" font-size=\"14.00\">o</text>\n</g>\n<!-- 4&#45;&#45;6 -->\n<g id=\"edge6\" class=\"edge\">\n<title>4&#45;&#45;6</title>\n<path fill=\"none\" stroke=\"black\" d=\"M101.3,-154.29C105.9,-140.87 116.18,-110.9 120.74,-97.59\"/>\n</g>\n<!-- 7 -->\n<g id=\"node8\" class=\"node\">\n<title>7</title>\n</g>\n<!-- 6&#45;&#45;7 -->\n<g id=\"edge7\" class=\"edge\">\n<title>6&#45;&#45;7</title>\n<path fill=\"none\" stroke=\"lightgreen\" d=\"M119.55,-82.29C114.13,-71.75 103.45,-50.99 95.8,-36.12\"/>\n</g>\n<!-- 8 -->\n<g id=\"node9\" class=\"node\">\n<title>8</title>\n</g>\n<!-- 6&#45;&#45;8 -->\n<g id=\"edge8\" class=\"edge\">\n<title>6&#45;&#45;8</title>\n<path fill=\"none\" stroke=\"lightgreen\" d=\"M126.45,-82.29C131.87,-71.75 142.55,-50.99 150.2,-36.12\"/>\n</g>\n</g>\n</svg>\n</div></td><td style=\"border-top:hidden;border-bottom:hidden;\"><div align=\"center\" style=\"\"><?xml version=\"1.0\" encoding=\"UTF-8\" standalone=\"no\"?>\n<!DOCTYPE svg PUBLIC \"-//W3C//DTD SVG 1.1//EN\"\n \"http://www.w3.org/Graphics/SVG/1.1/DTD/svg11.dtd\">\n<!-- Generated by graphviz version 2.44.1 (20200629.0846)\n -->\n<!-- Pages: 1 -->\n<svg width=\"170pt\" height=\"239pt\"\n viewBox=\"0.00 0.00 170.00 239.00\" xmlns=\"http://www.w3.org/2000/svg\" xmlns:xlink=\"http://www.w3.org/1999/xlink\">\n<g id=\"graph0\" class=\"graph\" transform=\"scale(1 1) rotate(0) translate(4 235)\">\n<polygon fill=\"white\" stroke=\"transparent\" points=\"-4,4 -4,-235 166,-235 166,4 -4,4\"/>\n<!-- 0 -->\n<g id=\"node1\" class=\"node\">\n<title>0</title>\n<text text-anchor=\"middle\" x=\"51\" y=\"-219.8\" font-family=\"Times,serif\" font-size=\"14.00\">s</text>\n</g>\n<!-- 1 -->\n<g id=\"node2\" class=\"node\">\n<title>1</title>\n</g>\n<!-- 0&#45;&#45;1 -->\n<g id=\"edge1\" class=\"edge\">\n<title>0&#45;&#45;1</title>\n<path fill=\"none\" stroke=\"lightgreen\" d=\"M48.25,-215.67C44.77,-207.07 38.68,-191.96 33.91,-180.13\"/>\n</g>\n<!-- 2 -->\n<g id=\"node3\" class=\"node\">\n<title>2</title>\n<text text-anchor=\"middle\" x=\"75\" y=\"-158.3\" font-family=\"Times,serif\" font-size=\"14.00\">s</text>\n</g>\n<!-- 0&#45;&#45;2 -->\n<g id=\"edge2\" class=\"edge\">\n<title>0&#45;&#45;2</title>\n<path fill=\"none\" stroke=\"black\" d=\"M53.75,-215.67C58.38,-204.2 67.67,-181.17 72.28,-169.75\"/>\n</g>\n<!-- 3 -->\n<g id=\"node4\" class=\"node\">\n<title>3</title>\n</g>\n<!-- 2&#45;&#45;3 -->\n<g id=\"edge3\" class=\"edge\">\n<title>2&#45;&#45;3</title>\n<path fill=\"none\" stroke=\"lightgreen\" d=\"M72.6,-154.29C68.84,-143.75 61.42,-122.99 56.11,-108.12\"/>\n</g>\n<!-- 4 -->\n<g id=\"node5\" class=\"node\">\n<title>4</title>\n<text text-anchor=\"middle\" x=\"99\" y=\"-86.3\" font-family=\"Times,serif\" font-size=\"14.00\">o</text>\n</g>\n<!-- 2&#45;&#45;4 -->\n<g id=\"edge4\" class=\"edge\">\n<title>2&#45;&#45;4</title>\n<path fill=\"none\" stroke=\"black\" d=\"M77.3,-154.29C81.9,-140.87 92.18,-110.9 96.74,-97.59\"/>\n</g>\n<!-- 5 -->\n<g id=\"node6\" class=\"node\">\n<title>5</title>\n</g>\n<!-- 4&#45;&#45;5 -->\n<g id=\"edge5\" class=\"edge\">\n<title>4&#45;&#45;5</title>\n<path fill=\"none\" stroke=\"lightgreen\" d=\"M95.55,-82.29C90.13,-71.75 79.45,-50.99 71.8,-36.12\"/>\n</g>\n<!-- 6 -->\n<g id=\"node7\" class=\"node\">\n<title>6</title>\n</g>\n<!-- 4&#45;&#45;6 -->\n<g id=\"edge6\" class=\"edge\">\n<title>4&#45;&#45;6</title>\n<path fill=\"none\" stroke=\"lightgreen\" d=\"M102.45,-82.29C107.87,-71.75 118.55,-50.99 126.2,-36.12\"/>\n</g>\n</g>\n</svg>\n</div></td></tr></table>"
     },
     "metadata": {},
     "output_type": "display_data"
    }
   ],
   "source": [
    "display_diff_class(3, 5)"
   ],
   "metadata": {
    "collapsed": false,
    "pycharm": {
     "name": "#%%\n"
    }
   }
  },
  {
   "cell_type": "code",
   "execution_count": null,
   "outputs": [],
   "source": [
    "for i in filter(lambda x: x[1][:2] == (3, 3), diff):\n",
    "    display(i[1][2])"
   ],
   "metadata": {
    "collapsed": false,
    "pycharm": {
     "name": "#%%\n"
    }
   }
  },
  {
   "cell_type": "code",
   "execution_count": null,
   "outputs": [],
   "source": [
    "for i in filter(lambda x: x[1][:2] == (4, 0), diff):\n",
    "    display(i[1][2])"
   ],
   "metadata": {
    "collapsed": false,
    "pycharm": {
     "name": "#%%\n"
    }
   }
  },
  {
   "cell_type": "code",
   "execution_count": null,
   "outputs": [],
   "source": [
    "minus"
   ],
   "metadata": {
    "collapsed": false,
    "pycharm": {
     "name": "#%%\n"
    }
   }
  },
  {
   "cell_type": "code",
   "execution_count": null,
   "outputs": [],
   "source": [
    "plus"
   ],
   "metadata": {
    "collapsed": false,
    "pycharm": {
     "name": "#%%\n"
    }
   }
  },
  {
   "cell_type": "code",
   "execution_count": 25,
   "outputs": [],
   "source": [],
   "metadata": {
    "collapsed": false,
    "pycharm": {
     "name": "#%%\n"
    }
   }
  },
  {
   "cell_type": "code",
   "execution_count": 26,
   "outputs": [
    {
     "data": {
      "text/plain": "<l, l, l, o, , , *, , >",
      "text/html": "<?xml version=\"1.0\" encoding=\"UTF-8\" standalone=\"no\"?>\n<!DOCTYPE svg PUBLIC \"-//W3C//DTD SVG 1.1//EN\"\n \"http://www.w3.org/Graphics/SVG/1.1/DTD/svg11.dtd\">\n<!-- Generated by graphviz version 2.44.1 (20200629.0846)\n -->\n<!-- Pages: 1 -->\n<svg width=\"178pt\" height=\"288pt\"\n viewBox=\"0.00 0.00 177.80 288.00\" xmlns=\"http://www.w3.org/2000/svg\" xmlns:xlink=\"http://www.w3.org/1999/xlink\">\n<g id=\"graph0\" class=\"graph\" transform=\"scale(0.93 0.93) rotate(0) translate(4 307)\">\n<polygon fill=\"white\" stroke=\"transparent\" points=\"-4,4 -4,-307 188,-307 188,4 -4,4\"/>\n<!-- 0 -->\n<g id=\"node1\" class=\"node\">\n<title>0</title>\n<text text-anchor=\"middle\" x=\"133\" y=\"-291.8\" font-family=\"Times,serif\" font-size=\"14.00\">l</text>\n</g>\n<!-- 1 -->\n<g id=\"node2\" class=\"node\">\n<title>1</title>\n<text text-anchor=\"middle\" x=\"110\" y=\"-230.3\" font-family=\"Times,serif\" font-size=\"14.00\">l</text>\n</g>\n<!-- 0&#45;&#45;1 -->\n<g id=\"edge1\" class=\"edge\">\n<title>0&#45;&#45;1</title>\n<path fill=\"none\" stroke=\"black\" d=\"M130.88,-289.01C126.47,-277.62 116.39,-251.54 112.05,-240.31\"/>\n</g>\n<!-- 8 -->\n<g id=\"node9\" class=\"node\">\n<title>8</title>\n</g>\n<!-- 0&#45;&#45;8 -->\n<g id=\"edge8\" class=\"edge\">\n<title>0&#45;&#45;8</title>\n<path fill=\"none\" stroke=\"lightgreen\" d=\"M135.05,-289.43C138.33,-281.28 144.94,-264.9 150.05,-252.23\"/>\n</g>\n<!-- 2 -->\n<g id=\"node3\" class=\"node\">\n<title>2</title>\n<text text-anchor=\"middle\" x=\"87\" y=\"-158.3\" font-family=\"Times,serif\" font-size=\"14.00\">l</text>\n</g>\n<!-- 1&#45;&#45;2 -->\n<g id=\"edge2\" class=\"edge\">\n<title>1&#45;&#45;2</title>\n<path fill=\"none\" stroke=\"black\" d=\"M107.88,-226.54C103.47,-213.14 93.39,-182.46 89.05,-169.24\"/>\n</g>\n<!-- 7 -->\n<g id=\"node8\" class=\"node\">\n<title>7</title>\n</g>\n<!-- 1&#45;&#45;7 -->\n<g id=\"edge7\" class=\"edge\">\n<title>1&#45;&#45;7</title>\n<path fill=\"none\" stroke=\"lightgreen\" d=\"M112.05,-227.03C115.56,-216.78 122.87,-195.47 128.09,-180.25\"/>\n</g>\n<!-- 3 -->\n<g id=\"node4\" class=\"node\">\n<title>3</title>\n<text text-anchor=\"middle\" x=\"63\" y=\"-86.3\" font-family=\"Times,serif\" font-size=\"14.00\">o</text>\n</g>\n<!-- 2&#45;&#45;3 -->\n<g id=\"edge3\" class=\"edge\">\n<title>2&#45;&#45;3</title>\n<path fill=\"none\" stroke=\"black\" d=\"M84.95,-155.03C80.51,-142.07 70,-111.42 65.32,-97.77\"/>\n</g>\n<!-- 6 -->\n<g id=\"node7\" class=\"node\">\n<title>6</title>\n<text text-anchor=\"middle\" x=\"112\" y=\"-86.3\" font-family=\"Times,serif\" font-size=\"14.00\">*</text>\n</g>\n<!-- 2&#45;&#45;6 -->\n<g id=\"edge6\" class=\"edge\">\n<title>2&#45;&#45;6</title>\n<path fill=\"none\" stroke=\"lightgreen\" d=\"M89.13,-155.03C92.79,-144.78 100.4,-123.47 105.84,-108.25\"/>\n</g>\n<!-- 4 -->\n<g id=\"node5\" class=\"node\">\n<title>4</title>\n</g>\n<!-- 3&#45;&#45;4 -->\n<g id=\"edge4\" class=\"edge\">\n<title>3&#45;&#45;4</title>\n<path fill=\"none\" stroke=\"lightgreen\" d=\"M59.55,-82.29C54.13,-71.75 43.45,-50.99 35.8,-36.12\"/>\n</g>\n<!-- 5 -->\n<g id=\"node6\" class=\"node\">\n<title>5</title>\n</g>\n<!-- 3&#45;&#45;5 -->\n<g id=\"edge5\" class=\"edge\">\n<title>3&#45;&#45;5</title>\n<path fill=\"none\" stroke=\"lightgreen\" d=\"M66.45,-82.29C71.87,-71.75 82.55,-50.99 90.2,-36.12\"/>\n</g>\n</g>\n</svg>\n",
      "image/svg+xml": "<?xml version=\"1.0\" encoding=\"UTF-8\" standalone=\"no\"?>\n<!DOCTYPE svg PUBLIC \"-//W3C//DTD SVG 1.1//EN\"\n \"http://www.w3.org/Graphics/SVG/1.1/DTD/svg11.dtd\">\n<!-- Generated by graphviz version 2.44.1 (20200629.0846)\n -->\n<!-- Pages: 1 -->\n<svg width=\"178pt\" height=\"288pt\"\n viewBox=\"0.00 0.00 177.80 288.00\" xmlns=\"http://www.w3.org/2000/svg\" xmlns:xlink=\"http://www.w3.org/1999/xlink\">\n<g id=\"graph0\" class=\"graph\" transform=\"scale(0.93 0.93) rotate(0) translate(4 307)\">\n<polygon fill=\"white\" stroke=\"transparent\" points=\"-4,4 -4,-307 188,-307 188,4 -4,4\"/>\n<!-- 0 -->\n<g id=\"node1\" class=\"node\">\n<title>0</title>\n<text text-anchor=\"middle\" x=\"133\" y=\"-291.8\" font-family=\"Times,serif\" font-size=\"14.00\">l</text>\n</g>\n<!-- 1 -->\n<g id=\"node2\" class=\"node\">\n<title>1</title>\n<text text-anchor=\"middle\" x=\"110\" y=\"-230.3\" font-family=\"Times,serif\" font-size=\"14.00\">l</text>\n</g>\n<!-- 0&#45;&#45;1 -->\n<g id=\"edge1\" class=\"edge\">\n<title>0&#45;&#45;1</title>\n<path fill=\"none\" stroke=\"black\" d=\"M130.88,-289.01C126.47,-277.62 116.39,-251.54 112.05,-240.31\"/>\n</g>\n<!-- 8 -->\n<g id=\"node9\" class=\"node\">\n<title>8</title>\n</g>\n<!-- 0&#45;&#45;8 -->\n<g id=\"edge8\" class=\"edge\">\n<title>0&#45;&#45;8</title>\n<path fill=\"none\" stroke=\"lightgreen\" d=\"M135.05,-289.43C138.33,-281.28 144.94,-264.9 150.05,-252.23\"/>\n</g>\n<!-- 2 -->\n<g id=\"node3\" class=\"node\">\n<title>2</title>\n<text text-anchor=\"middle\" x=\"87\" y=\"-158.3\" font-family=\"Times,serif\" font-size=\"14.00\">l</text>\n</g>\n<!-- 1&#45;&#45;2 -->\n<g id=\"edge2\" class=\"edge\">\n<title>1&#45;&#45;2</title>\n<path fill=\"none\" stroke=\"black\" d=\"M107.88,-226.54C103.47,-213.14 93.39,-182.46 89.05,-169.24\"/>\n</g>\n<!-- 7 -->\n<g id=\"node8\" class=\"node\">\n<title>7</title>\n</g>\n<!-- 1&#45;&#45;7 -->\n<g id=\"edge7\" class=\"edge\">\n<title>1&#45;&#45;7</title>\n<path fill=\"none\" stroke=\"lightgreen\" d=\"M112.05,-227.03C115.56,-216.78 122.87,-195.47 128.09,-180.25\"/>\n</g>\n<!-- 3 -->\n<g id=\"node4\" class=\"node\">\n<title>3</title>\n<text text-anchor=\"middle\" x=\"63\" y=\"-86.3\" font-family=\"Times,serif\" font-size=\"14.00\">o</text>\n</g>\n<!-- 2&#45;&#45;3 -->\n<g id=\"edge3\" class=\"edge\">\n<title>2&#45;&#45;3</title>\n<path fill=\"none\" stroke=\"black\" d=\"M84.95,-155.03C80.51,-142.07 70,-111.42 65.32,-97.77\"/>\n</g>\n<!-- 6 -->\n<g id=\"node7\" class=\"node\">\n<title>6</title>\n<text text-anchor=\"middle\" x=\"112\" y=\"-86.3\" font-family=\"Times,serif\" font-size=\"14.00\">*</text>\n</g>\n<!-- 2&#45;&#45;6 -->\n<g id=\"edge6\" class=\"edge\">\n<title>2&#45;&#45;6</title>\n<path fill=\"none\" stroke=\"lightgreen\" d=\"M89.13,-155.03C92.79,-144.78 100.4,-123.47 105.84,-108.25\"/>\n</g>\n<!-- 4 -->\n<g id=\"node5\" class=\"node\">\n<title>4</title>\n</g>\n<!-- 3&#45;&#45;4 -->\n<g id=\"edge4\" class=\"edge\">\n<title>3&#45;&#45;4</title>\n<path fill=\"none\" stroke=\"lightgreen\" d=\"M59.55,-82.29C54.13,-71.75 43.45,-50.99 35.8,-36.12\"/>\n</g>\n<!-- 5 -->\n<g id=\"node6\" class=\"node\">\n<title>5</title>\n</g>\n<!-- 3&#45;&#45;5 -->\n<g id=\"edge5\" class=\"edge\">\n<title>3&#45;&#45;5</title>\n<path fill=\"none\" stroke=\"lightgreen\" d=\"M66.45,-82.29C71.87,-71.75 82.55,-50.99 90.2,-36.12\"/>\n</g>\n</g>\n</svg>\n"
     },
     "execution_count": 26,
     "metadata": {},
     "output_type": "execute_result"
    }
   ],
   "source": [
    "diff[0][1][2]"
   ],
   "metadata": {
    "collapsed": false,
    "pycharm": {
     "name": "#%%\n"
    }
   }
  },
  {
   "cell_type": "code",
   "execution_count": 328,
   "outputs": [
    {
     "data": {
      "text/plain": "<a, l, o, , , , o, , >",
      "text/html": "<?xml version=\"1.0\" encoding=\"UTF-8\" standalone=\"no\"?>\n<!DOCTYPE svg PUBLIC \"-//W3C//DTD SVG 1.1//EN\"\n \"http://www.w3.org/Graphics/SVG/1.1/DTD/svg11.dtd\">\n<!-- Generated by graphviz version 2.44.1 (20200629.0846)\n -->\n<!-- Pages: 1 -->\n<svg width=\"288pt\" height=\"216pt\"\n viewBox=\"0.00 0.00 288.00 215.75\" xmlns=\"http://www.w3.org/2000/svg\" xmlns:xlink=\"http://www.w3.org/1999/xlink\">\n<g id=\"graph0\" class=\"graph\" transform=\"scale(0.99 0.99) rotate(0) translate(4 214)\">\n<polygon fill=\"white\" stroke=\"transparent\" points=\"-4,4 -4,-214 287,-214 287,4 -4,4\"/>\n<!-- 0 -->\n<g id=\"node1\" class=\"node\">\n<title>0</title>\n<text text-anchor=\"middle\" x=\"148\" y=\"-198.8\" font-family=\"Times,serif\" font-size=\"14.00\">a</text>\n</g>\n<!-- 1 -->\n<g id=\"node2\" class=\"node\">\n<title>1</title>\n<text text-anchor=\"middle\" x=\"112\" y=\"-147.8\" font-family=\"Times,serif\" font-size=\"14.00\">l</text>\n</g>\n<!-- 0&#45;&#45;1 -->\n<g id=\"edge1\" class=\"edge\">\n<title>0&#45;&#45;1</title>\n<path fill=\"none\" stroke=\"black\" d=\"M144.42,-196.62C137.02,-186.55 120.24,-163.72 114.21,-155.51\"/>\n</g>\n<!-- 6 -->\n<g id=\"node7\" class=\"node\">\n<title>6</title>\n<text text-anchor=\"middle\" x=\"184\" y=\"-147.8\" font-family=\"Times,serif\" font-size=\"14.00\">o</text>\n</g>\n<!-- 0&#45;&#45;6 -->\n<g id=\"edge6\" class=\"edge\">\n<title>0&#45;&#45;6</title>\n<path fill=\"none\" stroke=\"black\" d=\"M151.58,-196.62C158.48,-187.23 173.54,-166.73 180.43,-157.36\"/>\n</g>\n<!-- 2 -->\n<g id=\"node3\" class=\"node\">\n<title>2</title>\n<text text-anchor=\"middle\" x=\"63\" y=\"-86.3\" font-family=\"Times,serif\" font-size=\"14.00\">o</text>\n</g>\n<!-- 1&#45;&#45;2 -->\n<g id=\"edge2\" class=\"edge\">\n<title>1&#45;&#45;2</title>\n<path fill=\"none\" stroke=\"black\" d=\"M109.68,-147.85C103.89,-141.23 88.37,-123.37 76,-108 72.74,-103.95 69.16,-99.24 66.58,-95.81\"/>\n</g>\n<!-- 5 -->\n<g id=\"node6\" class=\"node\">\n<title>5</title>\n</g>\n<!-- 1&#45;&#45;5 -->\n<g id=\"edge5\" class=\"edge\">\n<title>1&#45;&#45;5</title>\n<path fill=\"none\" stroke=\"lightgreen\" d=\"M112,-143.67C112,-135.07 112,-119.96 112,-108.13\"/>\n</g>\n<!-- 3 -->\n<g id=\"node4\" class=\"node\">\n<title>3</title>\n</g>\n<!-- 2&#45;&#45;3 -->\n<g id=\"edge3\" class=\"edge\">\n<title>2&#45;&#45;3</title>\n<path fill=\"none\" stroke=\"lightgreen\" d=\"M59.55,-82.29C54.13,-71.75 43.45,-50.99 35.8,-36.12\"/>\n</g>\n<!-- 4 -->\n<g id=\"node5\" class=\"node\">\n<title>4</title>\n</g>\n<!-- 2&#45;&#45;4 -->\n<g id=\"edge4\" class=\"edge\">\n<title>2&#45;&#45;4</title>\n<path fill=\"none\" stroke=\"lightgreen\" d=\"M66.45,-82.29C71.87,-71.75 82.55,-50.99 90.2,-36.12\"/>\n</g>\n<!-- 7 -->\n<g id=\"node8\" class=\"node\">\n<title>7</title>\n</g>\n<!-- 6&#45;&#45;7 -->\n<g id=\"edge7\" class=\"edge\">\n<title>6&#45;&#45;7</title>\n<path fill=\"none\" stroke=\"lightgreen\" d=\"M184,-143.67C184,-135.07 184,-119.96 184,-108.13\"/>\n</g>\n<!-- 8 -->\n<g id=\"node9\" class=\"node\">\n<title>8</title>\n</g>\n<!-- 6&#45;&#45;8 -->\n<g id=\"edge8\" class=\"edge\">\n<title>6&#45;&#45;8</title>\n<path fill=\"none\" stroke=\"lightgreen\" d=\"M187.87,-147.3C196.63,-140.06 218.52,-121.97 235.14,-108.24\"/>\n</g>\n</g>\n</svg>\n",
      "image/svg+xml": "<?xml version=\"1.0\" encoding=\"UTF-8\" standalone=\"no\"?>\n<!DOCTYPE svg PUBLIC \"-//W3C//DTD SVG 1.1//EN\"\n \"http://www.w3.org/Graphics/SVG/1.1/DTD/svg11.dtd\">\n<!-- Generated by graphviz version 2.44.1 (20200629.0846)\n -->\n<!-- Pages: 1 -->\n<svg width=\"288pt\" height=\"216pt\"\n viewBox=\"0.00 0.00 288.00 215.75\" xmlns=\"http://www.w3.org/2000/svg\" xmlns:xlink=\"http://www.w3.org/1999/xlink\">\n<g id=\"graph0\" class=\"graph\" transform=\"scale(0.99 0.99) rotate(0) translate(4 214)\">\n<polygon fill=\"white\" stroke=\"transparent\" points=\"-4,4 -4,-214 287,-214 287,4 -4,4\"/>\n<!-- 0 -->\n<g id=\"node1\" class=\"node\">\n<title>0</title>\n<text text-anchor=\"middle\" x=\"148\" y=\"-198.8\" font-family=\"Times,serif\" font-size=\"14.00\">a</text>\n</g>\n<!-- 1 -->\n<g id=\"node2\" class=\"node\">\n<title>1</title>\n<text text-anchor=\"middle\" x=\"112\" y=\"-147.8\" font-family=\"Times,serif\" font-size=\"14.00\">l</text>\n</g>\n<!-- 0&#45;&#45;1 -->\n<g id=\"edge1\" class=\"edge\">\n<title>0&#45;&#45;1</title>\n<path fill=\"none\" stroke=\"black\" d=\"M144.42,-196.62C137.02,-186.55 120.24,-163.72 114.21,-155.51\"/>\n</g>\n<!-- 6 -->\n<g id=\"node7\" class=\"node\">\n<title>6</title>\n<text text-anchor=\"middle\" x=\"184\" y=\"-147.8\" font-family=\"Times,serif\" font-size=\"14.00\">o</text>\n</g>\n<!-- 0&#45;&#45;6 -->\n<g id=\"edge6\" class=\"edge\">\n<title>0&#45;&#45;6</title>\n<path fill=\"none\" stroke=\"black\" d=\"M151.58,-196.62C158.48,-187.23 173.54,-166.73 180.43,-157.36\"/>\n</g>\n<!-- 2 -->\n<g id=\"node3\" class=\"node\">\n<title>2</title>\n<text text-anchor=\"middle\" x=\"63\" y=\"-86.3\" font-family=\"Times,serif\" font-size=\"14.00\">o</text>\n</g>\n<!-- 1&#45;&#45;2 -->\n<g id=\"edge2\" class=\"edge\">\n<title>1&#45;&#45;2</title>\n<path fill=\"none\" stroke=\"black\" d=\"M109.68,-147.85C103.89,-141.23 88.37,-123.37 76,-108 72.74,-103.95 69.16,-99.24 66.58,-95.81\"/>\n</g>\n<!-- 5 -->\n<g id=\"node6\" class=\"node\">\n<title>5</title>\n</g>\n<!-- 1&#45;&#45;5 -->\n<g id=\"edge5\" class=\"edge\">\n<title>1&#45;&#45;5</title>\n<path fill=\"none\" stroke=\"lightgreen\" d=\"M112,-143.67C112,-135.07 112,-119.96 112,-108.13\"/>\n</g>\n<!-- 3 -->\n<g id=\"node4\" class=\"node\">\n<title>3</title>\n</g>\n<!-- 2&#45;&#45;3 -->\n<g id=\"edge3\" class=\"edge\">\n<title>2&#45;&#45;3</title>\n<path fill=\"none\" stroke=\"lightgreen\" d=\"M59.55,-82.29C54.13,-71.75 43.45,-50.99 35.8,-36.12\"/>\n</g>\n<!-- 4 -->\n<g id=\"node5\" class=\"node\">\n<title>4</title>\n</g>\n<!-- 2&#45;&#45;4 -->\n<g id=\"edge4\" class=\"edge\">\n<title>2&#45;&#45;4</title>\n<path fill=\"none\" stroke=\"lightgreen\" d=\"M66.45,-82.29C71.87,-71.75 82.55,-50.99 90.2,-36.12\"/>\n</g>\n<!-- 7 -->\n<g id=\"node8\" class=\"node\">\n<title>7</title>\n</g>\n<!-- 6&#45;&#45;7 -->\n<g id=\"edge7\" class=\"edge\">\n<title>6&#45;&#45;7</title>\n<path fill=\"none\" stroke=\"lightgreen\" d=\"M184,-143.67C184,-135.07 184,-119.96 184,-108.13\"/>\n</g>\n<!-- 8 -->\n<g id=\"node9\" class=\"node\">\n<title>8</title>\n</g>\n<!-- 6&#45;&#45;8 -->\n<g id=\"edge8\" class=\"edge\">\n<title>6&#45;&#45;8</title>\n<path fill=\"none\" stroke=\"lightgreen\" d=\"M187.87,-147.3C196.63,-140.06 218.52,-121.97 235.14,-108.24\"/>\n</g>\n</g>\n</svg>\n"
     },
     "execution_count": 328,
     "metadata": {},
     "output_type": "execute_result"
    }
   ],
   "source": [
    "diff[1][1][2]"
   ],
   "metadata": {
    "collapsed": false,
    "pycharm": {
     "name": "#%%\n"
    }
   }
  },
  {
   "cell_type": "code",
   "execution_count": 308,
   "outputs": [
    {
     "data": {
      "text/plain": "110"
     },
     "execution_count": 308,
     "metadata": {},
     "output_type": "execute_result"
    }
   ],
   "source": [
    "len(diff)"
   ],
   "metadata": {
    "collapsed": false,
    "pycharm": {
     "name": "#%%\n"
    }
   }
  },
  {
   "cell_type": "code",
   "execution_count": 122,
   "outputs": [],
   "source": [
    "diff = diff_sorted(minus, plus, key=lambda x: str(x[2]), first_label=\"+\", second_label=\"-\")"
   ],
   "metadata": {
    "collapsed": false,
    "pycharm": {
     "name": "#%%\n"
    }
   }
  },
  {
   "cell_type": "code",
   "execution_count": 130,
   "outputs": [
    {
     "name": "stdout",
     "output_type": "stream",
     "text": [
      "('+', (3, 2, <a, a, o, , , o, , , o, , s, *, >))\n"
     ]
    }
   ],
   "source": [
    "print(next(diff))"
   ],
   "metadata": {
    "collapsed": false,
    "pycharm": {
     "name": "#%%\n"
    }
   }
  },
  {
   "cell_type": "code",
   "execution_count": 131,
   "outputs": [],
   "source": [
    "diff = list(diff_sorted(minus, plus, key=lambda x: str(x[2]), first_label=\"+\", second_label=\"-\"))"
   ],
   "metadata": {
    "collapsed": false,
    "pycharm": {
     "name": "#%%\n"
    }
   }
  },
  {
   "cell_type": "code",
   "execution_count": 132,
   "outputs": [
    {
     "data": {
      "text/plain": "962"
     },
     "execution_count": 132,
     "metadata": {},
     "output_type": "execute_result"
    }
   ],
   "source": [
    "len(diff)"
   ],
   "metadata": {
    "collapsed": false,
    "pycharm": {
     "name": "#%%\n"
    }
   }
  },
  {
   "cell_type": "code",
   "execution_count": 65,
   "outputs": [
    {
     "name": "stdout",
     "output_type": "stream",
     "text": [
      "[('-', (4, 0, <a, a, l, o, *, , , o, , , o, , >)), ('-', (4, 0, <a, a, l, o, , *, , o, , , o, , >)), ('-', (4, 0, <a, a, o, , , l, o, *, , , o, , >)), ('-', (4, 0, <a, a, o, , , l, o, , *, , o, , >)), ('-', (4, 0, <a, a, o, , , o, , , l, o, *, , >)), ('-', (4, 0, <a, a, o, , , o, , , l, o, , *, >)), ('+', (3, 0, <a, a, o, , , o, , , o, , l, , *>)), ('+', (3, 2, <a, a, o, , , o, , , o, , s, *, >)), ('+', (3, 1, <a, a, o, , , o, , , o, , s, , *>)), ('+', (3, 0, <a, a, o, , , o, , , o, l, , *, >))]\n"
     ]
    }
   ],
   "source": [
    "print(diff[:10])"
   ],
   "metadata": {
    "collapsed": false,
    "pycharm": {
     "name": "#%%\n"
    }
   }
  },
  {
   "cell_type": "code",
   "execution_count": 66,
   "outputs": [
    {
     "data": {
      "text/plain": "961"
     },
     "execution_count": 66,
     "metadata": {},
     "output_type": "execute_result"
    }
   ],
   "source": [
    "len(diff)"
   ],
   "metadata": {
    "collapsed": false,
    "pycharm": {
     "name": "#%%\n"
    }
   }
  },
  {
   "cell_type": "code",
   "execution_count": 54,
   "outputs": [
    {
     "data": {
      "text/plain": "<a, a, l, o, , , *, o, , , o, , >",
      "text/html": "<?xml version=\"1.0\" encoding=\"UTF-8\" standalone=\"no\"?>\n<!DOCTYPE svg PUBLIC \"-//W3C//DTD SVG 1.1//EN\"\n \"http://www.w3.org/Graphics/SVG/1.1/DTD/svg11.dtd\">\n<!-- Generated by graphviz version 2.44.1 (20200629.0846)\n -->\n<!-- Pages: 1 -->\n<svg width=\"288pt\" height=\"246pt\"\n viewBox=\"0.00 0.00 288.00 245.65\" xmlns=\"http://www.w3.org/2000/svg\" xmlns:xlink=\"http://www.w3.org/1999/xlink\">\n<g id=\"graph0\" class=\"graph\" transform=\"scale(0.85 0.85) rotate(0) translate(4 286)\">\n<polygon fill=\"white\" stroke=\"transparent\" points=\"-4,4 -4,-286 336,-286 336,4 -4,4\"/>\n<!-- 0 -->\n<g id=\"node1\" class=\"node\">\n<title>0</title>\n<text text-anchor=\"middle\" x=\"208\" y=\"-270.8\" font-family=\"Times,serif\" font-size=\"14.00\">a</text>\n</g>\n<!-- 1 -->\n<g id=\"node2\" class=\"node\">\n<title>1</title>\n<text text-anchor=\"middle\" x=\"184\" y=\"-219.8\" font-family=\"Times,serif\" font-size=\"14.00\">a</text>\n</g>\n<!-- 0&#45;&#45;1 -->\n<g id=\"edge1\" class=\"edge\">\n<title>0&#45;&#45;1</title>\n<path fill=\"none\" stroke=\"black\" d=\"M204.66,-266.69C200.08,-257.33 191.88,-240.59 187.31,-231.26\"/>\n</g>\n<!-- 10 -->\n<g id=\"node11\" class=\"node\">\n<title>10</title>\n<text text-anchor=\"middle\" x=\"233\" y=\"-219.8\" font-family=\"Times,serif\" font-size=\"14.00\">o</text>\n</g>\n<!-- 0&#45;&#45;10 -->\n<g id=\"edge10\" class=\"edge\">\n<title>0&#45;&#45;10</title>\n<path fill=\"none\" stroke=\"black\" d=\"M211.48,-266.69C216.25,-257.33 224.79,-240.59 229.55,-231.26\"/>\n</g>\n<!-- 2 -->\n<g id=\"node3\" class=\"node\">\n<title>2</title>\n<text text-anchor=\"middle\" x=\"112\" y=\"-158.3\" font-family=\"Times,serif\" font-size=\"14.00\">l</text>\n</g>\n<!-- 1&#45;&#45;2 -->\n<g id=\"edge2\" class=\"edge\">\n<title>1&#45;&#45;2</title>\n<path fill=\"none\" stroke=\"black\" d=\"M180.13,-219.3C167.04,-208.49 124.7,-173.49 114.31,-164.91\"/>\n</g>\n<!-- 7 -->\n<g id=\"node8\" class=\"node\">\n<title>7</title>\n<text text-anchor=\"middle\" x=\"184\" y=\"-158.3\" font-family=\"Times,serif\" font-size=\"14.00\">o</text>\n</g>\n<!-- 1&#45;&#45;7 -->\n<g id=\"edge7\" class=\"edge\">\n<title>1&#45;&#45;7</title>\n<path fill=\"none\" stroke=\"black\" d=\"M184,-215.67C184,-204.2 184,-181.17 184,-169.75\"/>\n</g>\n<!-- 3 -->\n<g id=\"node4\" class=\"node\">\n<title>3</title>\n<text text-anchor=\"middle\" x=\"63\" y=\"-86.3\" font-family=\"Times,serif\" font-size=\"14.00\">o</text>\n</g>\n<!-- 2&#45;&#45;3 -->\n<g id=\"edge3\" class=\"edge\">\n<title>2&#45;&#45;3</title>\n<path fill=\"none\" stroke=\"black\" d=\"M109.89,-157.99C102.27,-147.11 76.08,-109.68 66.52,-96.03\"/>\n</g>\n<!-- 6 -->\n<g id=\"node7\" class=\"node\">\n<title>6</title>\n<text text-anchor=\"middle\" x=\"112\" y=\"-86.3\" font-family=\"Times,serif\" font-size=\"14.00\">*</text>\n</g>\n<!-- 2&#45;&#45;6 -->\n<g id=\"edge6\" class=\"edge\">\n<title>2&#45;&#45;6</title>\n<path fill=\"none\" stroke=\"lightgreen\" d=\"M112,-154.29C112,-143.75 112,-122.99 112,-108.12\"/>\n</g>\n<!-- 4 -->\n<g id=\"node5\" class=\"node\">\n<title>4</title>\n</g>\n<!-- 3&#45;&#45;4 -->\n<g id=\"edge4\" class=\"edge\">\n<title>3&#45;&#45;4</title>\n<path fill=\"none\" stroke=\"lightgreen\" d=\"M59.55,-82.29C54.13,-71.75 43.45,-50.99 35.8,-36.12\"/>\n</g>\n<!-- 5 -->\n<g id=\"node6\" class=\"node\">\n<title>5</title>\n</g>\n<!-- 3&#45;&#45;5 -->\n<g id=\"edge5\" class=\"edge\">\n<title>3&#45;&#45;5</title>\n<path fill=\"none\" stroke=\"lightgreen\" d=\"M66.45,-82.29C71.87,-71.75 82.55,-50.99 90.2,-36.12\"/>\n</g>\n<!-- 8 -->\n<g id=\"node9\" class=\"node\">\n<title>8</title>\n</g>\n<!-- 7&#45;&#45;8 -->\n<g id=\"edge8\" class=\"edge\">\n<title>7&#45;&#45;8</title>\n<path fill=\"none\" stroke=\"lightgreen\" d=\"M184,-154.29C184,-143.75 184,-122.99 184,-108.12\"/>\n</g>\n<!-- 9 -->\n<g id=\"node10\" class=\"node\">\n<title>9</title>\n</g>\n<!-- 7&#45;&#45;9 -->\n<g id=\"edge9\" class=\"edge\">\n<title>7&#45;&#45;9</title>\n<path fill=\"none\" stroke=\"lightgreen\" d=\"M187.63,-155.74C190.12,-152.28 193.57,-147.71 197,-144 208.87,-131.16 223.48,-118.01 235.19,-108.03\"/>\n</g>\n<!-- 11 -->\n<g id=\"node12\" class=\"node\">\n<title>11</title>\n</g>\n<!-- 10&#45;&#45;11 -->\n<g id=\"edge11\" class=\"edge\">\n<title>10&#45;&#45;11</title>\n<path fill=\"none\" stroke=\"lightgreen\" d=\"M233,-215.67C233,-207.07 233,-191.96 233,-180.13\"/>\n</g>\n<!-- 12 -->\n<g id=\"node13\" class=\"node\">\n<title>12</title>\n</g>\n<!-- 10&#45;&#45;12 -->\n<g id=\"edge12\" class=\"edge\">\n<title>10&#45;&#45;12</title>\n<path fill=\"none\" stroke=\"lightgreen\" d=\"M236.87,-219.3C245.63,-212.06 267.52,-193.97 284.14,-180.24\"/>\n</g>\n</g>\n</svg>\n",
      "image/svg+xml": "<?xml version=\"1.0\" encoding=\"UTF-8\" standalone=\"no\"?>\n<!DOCTYPE svg PUBLIC \"-//W3C//DTD SVG 1.1//EN\"\n \"http://www.w3.org/Graphics/SVG/1.1/DTD/svg11.dtd\">\n<!-- Generated by graphviz version 2.44.1 (20200629.0846)\n -->\n<!-- Pages: 1 -->\n<svg width=\"288pt\" height=\"246pt\"\n viewBox=\"0.00 0.00 288.00 245.65\" xmlns=\"http://www.w3.org/2000/svg\" xmlns:xlink=\"http://www.w3.org/1999/xlink\">\n<g id=\"graph0\" class=\"graph\" transform=\"scale(0.85 0.85) rotate(0) translate(4 286)\">\n<polygon fill=\"white\" stroke=\"transparent\" points=\"-4,4 -4,-286 336,-286 336,4 -4,4\"/>\n<!-- 0 -->\n<g id=\"node1\" class=\"node\">\n<title>0</title>\n<text text-anchor=\"middle\" x=\"208\" y=\"-270.8\" font-family=\"Times,serif\" font-size=\"14.00\">a</text>\n</g>\n<!-- 1 -->\n<g id=\"node2\" class=\"node\">\n<title>1</title>\n<text text-anchor=\"middle\" x=\"184\" y=\"-219.8\" font-family=\"Times,serif\" font-size=\"14.00\">a</text>\n</g>\n<!-- 0&#45;&#45;1 -->\n<g id=\"edge1\" class=\"edge\">\n<title>0&#45;&#45;1</title>\n<path fill=\"none\" stroke=\"black\" d=\"M204.66,-266.69C200.08,-257.33 191.88,-240.59 187.31,-231.26\"/>\n</g>\n<!-- 10 -->\n<g id=\"node11\" class=\"node\">\n<title>10</title>\n<text text-anchor=\"middle\" x=\"233\" y=\"-219.8\" font-family=\"Times,serif\" font-size=\"14.00\">o</text>\n</g>\n<!-- 0&#45;&#45;10 -->\n<g id=\"edge10\" class=\"edge\">\n<title>0&#45;&#45;10</title>\n<path fill=\"none\" stroke=\"black\" d=\"M211.48,-266.69C216.25,-257.33 224.79,-240.59 229.55,-231.26\"/>\n</g>\n<!-- 2 -->\n<g id=\"node3\" class=\"node\">\n<title>2</title>\n<text text-anchor=\"middle\" x=\"112\" y=\"-158.3\" font-family=\"Times,serif\" font-size=\"14.00\">l</text>\n</g>\n<!-- 1&#45;&#45;2 -->\n<g id=\"edge2\" class=\"edge\">\n<title>1&#45;&#45;2</title>\n<path fill=\"none\" stroke=\"black\" d=\"M180.13,-219.3C167.04,-208.49 124.7,-173.49 114.31,-164.91\"/>\n</g>\n<!-- 7 -->\n<g id=\"node8\" class=\"node\">\n<title>7</title>\n<text text-anchor=\"middle\" x=\"184\" y=\"-158.3\" font-family=\"Times,serif\" font-size=\"14.00\">o</text>\n</g>\n<!-- 1&#45;&#45;7 -->\n<g id=\"edge7\" class=\"edge\">\n<title>1&#45;&#45;7</title>\n<path fill=\"none\" stroke=\"black\" d=\"M184,-215.67C184,-204.2 184,-181.17 184,-169.75\"/>\n</g>\n<!-- 3 -->\n<g id=\"node4\" class=\"node\">\n<title>3</title>\n<text text-anchor=\"middle\" x=\"63\" y=\"-86.3\" font-family=\"Times,serif\" font-size=\"14.00\">o</text>\n</g>\n<!-- 2&#45;&#45;3 -->\n<g id=\"edge3\" class=\"edge\">\n<title>2&#45;&#45;3</title>\n<path fill=\"none\" stroke=\"black\" d=\"M109.89,-157.99C102.27,-147.11 76.08,-109.68 66.52,-96.03\"/>\n</g>\n<!-- 6 -->\n<g id=\"node7\" class=\"node\">\n<title>6</title>\n<text text-anchor=\"middle\" x=\"112\" y=\"-86.3\" font-family=\"Times,serif\" font-size=\"14.00\">*</text>\n</g>\n<!-- 2&#45;&#45;6 -->\n<g id=\"edge6\" class=\"edge\">\n<title>2&#45;&#45;6</title>\n<path fill=\"none\" stroke=\"lightgreen\" d=\"M112,-154.29C112,-143.75 112,-122.99 112,-108.12\"/>\n</g>\n<!-- 4 -->\n<g id=\"node5\" class=\"node\">\n<title>4</title>\n</g>\n<!-- 3&#45;&#45;4 -->\n<g id=\"edge4\" class=\"edge\">\n<title>3&#45;&#45;4</title>\n<path fill=\"none\" stroke=\"lightgreen\" d=\"M59.55,-82.29C54.13,-71.75 43.45,-50.99 35.8,-36.12\"/>\n</g>\n<!-- 5 -->\n<g id=\"node6\" class=\"node\">\n<title>5</title>\n</g>\n<!-- 3&#45;&#45;5 -->\n<g id=\"edge5\" class=\"edge\">\n<title>3&#45;&#45;5</title>\n<path fill=\"none\" stroke=\"lightgreen\" d=\"M66.45,-82.29C71.87,-71.75 82.55,-50.99 90.2,-36.12\"/>\n</g>\n<!-- 8 -->\n<g id=\"node9\" class=\"node\">\n<title>8</title>\n</g>\n<!-- 7&#45;&#45;8 -->\n<g id=\"edge8\" class=\"edge\">\n<title>7&#45;&#45;8</title>\n<path fill=\"none\" stroke=\"lightgreen\" d=\"M184,-154.29C184,-143.75 184,-122.99 184,-108.12\"/>\n</g>\n<!-- 9 -->\n<g id=\"node10\" class=\"node\">\n<title>9</title>\n</g>\n<!-- 7&#45;&#45;9 -->\n<g id=\"edge9\" class=\"edge\">\n<title>7&#45;&#45;9</title>\n<path fill=\"none\" stroke=\"lightgreen\" d=\"M187.63,-155.74C190.12,-152.28 193.57,-147.71 197,-144 208.87,-131.16 223.48,-118.01 235.19,-108.03\"/>\n</g>\n<!-- 11 -->\n<g id=\"node12\" class=\"node\">\n<title>11</title>\n</g>\n<!-- 10&#45;&#45;11 -->\n<g id=\"edge11\" class=\"edge\">\n<title>10&#45;&#45;11</title>\n<path fill=\"none\" stroke=\"lightgreen\" d=\"M233,-215.67C233,-207.07 233,-191.96 233,-180.13\"/>\n</g>\n<!-- 12 -->\n<g id=\"node13\" class=\"node\">\n<title>12</title>\n</g>\n<!-- 10&#45;&#45;12 -->\n<g id=\"edge12\" class=\"edge\">\n<title>10&#45;&#45;12</title>\n<path fill=\"none\" stroke=\"lightgreen\" d=\"M236.87,-219.3C245.63,-212.06 267.52,-193.97 284.14,-180.24\"/>\n</g>\n</g>\n</svg>\n"
     },
     "execution_count": 54,
     "metadata": {},
     "output_type": "execute_result"
    }
   ],
   "source": [
    "minus[0][2]\n"
   ],
   "metadata": {
    "collapsed": false,
    "pycharm": {
     "name": "#%%\n"
    }
   }
  }
 ],
 "metadata": {
  "kernelspec": {
   "display_name": "Python 3",
   "language": "python",
   "name": "python3"
  },
  "language_info": {
   "codemirror_mode": {
    "name": "ipython",
    "version": 2
   },
   "file_extension": ".py",
   "mimetype": "text/x-python",
   "name": "python",
   "nbconvert_exporter": "python",
   "pygments_lexer": "ipython2",
   "version": "2.7.6"
  }
 },
 "nbformat": 4,
 "nbformat_minor": 0
}