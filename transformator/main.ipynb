{
 "cells": [
  {
   "cell_type": "code",
   "execution_count": 1,
   "outputs": [],
   "source": [
    "%load_ext autoreload"
   ],
   "metadata": {
    "collapsed": false,
    "pycharm": {
     "name": "#%%\n"
    }
   }
  },
  {
   "cell_type": "code",
   "execution_count": 2,
   "outputs": [],
   "source": [
    "%autoreload 2"
   ],
   "metadata": {
    "collapsed": false,
    "pycharm": {
     "name": "#%%\n"
    }
   }
  },
  {
   "cell_type": "code",
   "execution_count": 3,
   "outputs": [],
   "source": [
    "from transformator.context import Context\n",
    "from transformator.lambda_tree import LambdaTree"
   ],
   "metadata": {
    "collapsed": false,
    "pycharm": {
     "name": "#%%\n"
    }
   }
  },
  {
   "cell_type": "code",
   "execution_count": 4,
   "outputs": [],
   "source": [
    "PROBLEM_N = 7\n",
    "# PROBLEM_N = 6\n",
    "# PROBLEM_N = 5\n",
    "# PROBLEM_N = 4\n",
    "REMOVE_POINTERS = False"
   ],
   "metadata": {
    "collapsed": false,
    "pycharm": {
     "name": "#%%\n"
    }
   }
  },
  {
   "cell_type": "code",
   "execution_count": 5,
   "outputs": [],
   "source": [
    "c = Context()"
   ],
   "metadata": {
    "collapsed": false,
    "pycharm": {
     "name": "#%%\n"
    }
   }
  },
  {
   "cell_type": "code",
   "execution_count": 6,
   "outputs": [],
   "source": [
    "c.ns = list(range(PROBLEM_N-4, PROBLEM_N+1))\n",
    "c.class_constructor = lambda n: LambdaTree.generate(n)"
   ],
   "metadata": {
    "collapsed": false,
    "pycharm": {
     "name": "#%%\n"
    }
   }
  },
  {
   "cell_type": "code",
   "execution_count": 7,
   "outputs": [],
   "source": [
    "c.section_expressions = [\n",
    "    [\n",
    "        (\"n * Cn\", \"llss\"),\n",
    "    ],\n",
    "    [\n",
    "        (\"2 * (2 * n + 1) * Cn\", \"aosu\"),\n",
    "        (\"- (2 * n) * Cn\", \"lls\"),\n",
    "        (\"- (2 * n + 1) * Cn\", \"lss\"),\n",
    "    ],\n",
    "    [\n",
    "        (\"- (4 * n) * Cn\", \"aou\"),\n",
    "        (\"(n) * Cn\", \"ll\"),\n",
    "        (\"(4 * n + 2) * Cn\", \"ls\"),\n",
    "        (\"(n + 1) * Cn\", \"ss\"),\n",
    "    ],\n",
    "    [\n",
    "        (\"- (2 * n + 1) * Cn\", \"l\"),\n",
    "        (\"- 2 * (n + 1) * Cn\", \"s\"),\n",
    "    ],\n",
    "    [\n",
    "        (\"(n + 1) * Cn\", \"\"),\n",
    "    ],\n",
    "]"
   ],
   "metadata": {
    "collapsed": false,
    "pycharm": {
     "name": "#%%\n"
    }
   }
  },
  {
   "cell_type": "code",
   "execution_count": 8,
   "outputs": [
    {
     "data": {
      "text/plain": "[[12], [162, -72, -81], [-440, 110, 484, 132], [-741, -798], [1232]]"
     },
     "execution_count": 8,
     "metadata": {},
     "output_type": "execute_result"
    }
   ],
   "source": [
    "c.section_counts"
   ],
   "metadata": {
    "collapsed": false,
    "pycharm": {
     "name": "#%%\n"
    }
   }
  },
  {
   "cell_type": "code",
   "execution_count": 9,
   "outputs": [
    {
     "data": {
      "text/plain": "[12, 9, 286, -1539, 1232]"
     },
     "execution_count": 9,
     "metadata": {},
     "output_type": "execute_result"
    }
   ],
   "source": [
    "c.classes_counts"
   ],
   "metadata": {
    "collapsed": false,
    "pycharm": {
     "name": "#%%\n"
    }
   }
  },
  {
   "cell_type": "code",
   "execution_count": 10,
   "outputs": [
    {
     "data": {
      "text/plain": "0"
     },
     "execution_count": 10,
     "metadata": {},
     "output_type": "execute_result"
    }
   ],
   "source": [
    "sum(c.classes_counts)"
   ],
   "metadata": {
    "collapsed": false,
    "pycharm": {
     "name": "#%%\n"
    }
   }
  },
  {
   "cell_type": "code",
   "execution_count": 11,
   "outputs": [],
   "source": [
    "c.clear_all_classes()"
   ],
   "metadata": {
    "collapsed": false,
    "pycharm": {
     "name": "#%%\n"
    }
   }
  },
  {
   "cell_type": "code",
   "execution_count": 22,
   "outputs": [
    {
     "name": "stdout",
     "output_type": "stream",
     "text": [
      "# define 4,0: (n + 1) * Cn []\n",
      "=== Classes stats ===\n",
      "[ ]  0,0:       8 of      12 | n * Cn                    [llss]\n",
      "[ ]  1,0:      88 of     162 | 2 * (2 * n + 1) * Cn      [aosu]\n",
      "[ ]  1,1:     -58 of     -72 | - (2 * n) * Cn            [lls]\n",
      "[ ]  1,2:     -44 of     -81 | - (2 * n + 1) * Cn        [lss]\n",
      "[x]  2,0:    -440 of    -440 | - (4 * n) * Cn            [aou]\n",
      "[x]  2,1:     110 of     110 | (n) * Cn                  [ll]\n",
      "[ ]  2,2:     368 of     484 | (4 * n + 2) * Cn          [ls]\n",
      "[ ]  2,3:      63 of     132 | (n + 1) * Cn              [ss]\n",
      "[x]  3,0:    -741 of    -741 | - (2 * n + 1) * Cn        [l]\n",
      "[ ]  3,1:    -586 of    -798 | - 2 * (n + 1) * Cn        [s]\n",
      "[x]  4,0:    1232 of    1232 | (n + 1) * Cn              []\n",
      "=== Diff stats ===\n"
     ]
    }
   ],
   "source": [
    "c.define_class(4)\n",
    "\n",
    "c.define_section(0)\n",
    "\n",
    "c.append_r_class_subtree_visitor(1,\n",
    "    lambda kind, left, right:\n",
    "        None if kind[0] is not None else\n",
    "        [kind + (\"*\", )] + left + right\n",
    ")\n",
    "\n",
    "c.print_stats()"
   ],
   "metadata": {
    "collapsed": false,
    "pycharm": {
     "name": "#%%\n"
    }
   }
  },
  {
   "cell_type": "code",
   "execution_count": 20,
   "outputs": [
    {
     "name": "stdout",
     "output_type": "stream",
     "text": [
      "# define 3,0: - (2 * n + 1) * Cn [l]\n",
      "# define 3,1: - 2 * (n + 1) * Cn [s]\n",
      "=== Classes stats ===\n",
      "[ ]  0,0:       8 of      12 | n * Cn                    [llss]\n",
      "[ ]  1,0:      88 of     162 | 2 * (2 * n + 1) * Cn      [aosu]\n",
      "[ ]  1,1:     -58 of     -72 | - (2 * n) * Cn            [lls]\n",
      "[ ]  1,2:     -44 of     -81 | - (2 * n + 1) * Cn        [lss]\n",
      "[x]  2,0:    -440 of    -440 | - (4 * n) * Cn            [aou]\n",
      "[x]  2,1:     110 of     110 | (n) * Cn                  [ll]\n",
      "[ ]  2,2:     368 of     484 | (4 * n + 2) * Cn          [ls]\n",
      "[ ]  2,3:      63 of     132 | (n + 1) * Cn              [ss]\n",
      "[x]  3,0:    -741 of    -741 | - (2 * n + 1) * Cn        [l]\n",
      "[ ]  3,1:    -586 of    -798 | - 2 * (n + 1) * Cn        [s]\n",
      "[x]  4,0:    1232 of    1232 | (n + 1) * Cn              []\n",
      "=== Diff stats ===\n"
     ]
    }
   ],
   "source": [
    "c.define_class(3)\n",
    "\n",
    "c.define_section(0)\n",
    "\n",
    "c.append_r_class_subtree_visitor(-1,\n",
    "    lambda kind, left, right:\n",
    "        None if kind[0] is None else\n",
    "        [\"l\", kind] + left + right + [(None, \"*\")]\n",
    ")\n",
    "\n",
    "c.append_r_class_right_parent_subtree_visitor(-1,\n",
    "    lambda kind, parent_kind, left, right:\n",
    "        None if kind[0] is not None else\n",
    "        [\"l\", parent_kind] + [left[0] + (\"*\",)] + left[1:] + right + [None]\n",
    ")\n",
    "\n",
    "c.append_r_class_left_parent_subtree_visitor(-1,\n",
    "    lambda kind, parent_kind, left, right:\n",
    "        None if kind[0] is not None else\n",
    "        [\"l\", parent_kind] + left + [right[0] + (\"*\",)] + right[1:] + [None]\n",
    ")\n",
    "\n",
    "c.define_section(1)\n",
    "\n",
    "c.append_r_class_left_parent_subtree_visitor(-1,\n",
    "    lambda kind, parent_kind, left, right:\n",
    "        None if kind[0] is not None else\n",
    "        [\"s\", None, parent_kind] + left + [right[0] + (\"*\",)] + right[1:]\n",
    ")\n",
    "\n",
    "c.append_r_class_right_parent_subtree_visitor(-1,\n",
    "    lambda kind, parent_kind, left, right:\n",
    "        None if kind[0] is not None else\n",
    "        [\"s\", None, parent_kind] + [left[0] + (\"*\",)] + left[1:] + right\n",
    ")\n",
    "\n",
    "c.append_r_class_right_parent_subtree_visitor(-1,\n",
    "    lambda kind, parent_kind, left, right:\n",
    "        None if kind[0] is not None else\n",
    "        [\"s\", (None, \"*\"), parent_kind] + left + right\n",
    ")\n",
    "\n",
    "c.print_stats()"
   ],
   "metadata": {
    "collapsed": false,
    "pycharm": {
     "name": "#%%\n"
    }
   }
  },
  {
   "cell_type": "code",
   "execution_count": 21,
   "outputs": [
    {
     "data": {
      "text/plain": "<IPython.core.display.HTML object>",
      "text/html": "=== Minus ==="
     },
     "metadata": {},
     "output_type": "display_data"
    },
    {
     "data": {
      "text/plain": "<IPython.core.display.HTML object>",
      "text/html": "=== Plus ==="
     },
     "metadata": {},
     "output_type": "display_data"
    }
   ],
   "source": [
    "c.display_diff_trees()"
   ],
   "metadata": {
    "collapsed": false,
    "pycharm": {
     "name": "#%%\n"
    }
   }
  },
  {
   "cell_type": "code",
   "execution_count": 14,
   "outputs": [
    {
     "name": "stdout",
     "output_type": "stream",
     "text": [
      "# define 2,0: - (4 * n) * Cn [aou]\n",
      "# define 2,1: (n) * Cn [ll]\n",
      "# define 2,2: (4 * n + 2) * Cn [ls]\n",
      "# define 2,3: (n + 1) * Cn [ss]\n",
      "=== Classes stats ===\n",
      "[ ]  0,0:       0 of      12 | n * Cn                    [llss]\n",
      "[ ]  1,0:       0 of     162 | 2 * (2 * n + 1) * Cn      [aosu]\n",
      "[ ]  1,1:       0 of     -72 | - (2 * n) * Cn            [lls]\n",
      "[ ]  1,2:       0 of     -81 | - (2 * n + 1) * Cn        [lss]\n",
      "[x]  2,0:    -440 of    -440 | - (4 * n) * Cn            [aou]\n",
      "[x]  2,1:     110 of     110 | (n) * Cn                  [ll]\n",
      "[ ]  2,2:     368 of     484 | (4 * n + 2) * Cn          [ls]\n",
      "[ ]  2,3:      63 of     132 | (n + 1) * Cn              [ss]\n",
      "[x]  3,0:    -741 of    -741 | - (2 * n + 1) * Cn        [l]\n",
      "[ ]  3,1:    -586 of    -798 | - 2 * (n + 1) * Cn        [s]\n",
      "[x]  4,0:    1232 of    1232 | (n + 1) * Cn              []\n",
      "=== Diff stats ===\n",
      "2,0:    88     0\n",
      "2,1:     0    22\n",
      "2,2:     0    72\n"
     ]
    }
   ],
   "source": [
    "c.define_class(2)\n",
    "\n",
    "c.define_section(0)\n",
    "\n",
    "c.append_r_class_subtree_visitor(-1,\n",
    "    lambda kind, left, right:\n",
    "        None if kind[0] is None else\n",
    "        [\"a\", \"o\", (None, \"*\"), None, kind] + left + right\n",
    ")\n",
    "\n",
    "c.append_r_class_subtree_visitor(-1,\n",
    "    lambda kind, left, right:\n",
    "        None if kind[0] is None else\n",
    "        [\"a\", \"o\", None, (None, \"*\"), kind] + left + right\n",
    ")\n",
    "\n",
    "c.append_r_class_subtree_visitor(-1,\n",
    "    lambda kind, left, right:\n",
    "        None if kind[0] is None else\n",
    "        [\"a\", kind] + left + right + [\"o\", (None, \"*\"), None]\n",
    ")\n",
    "\n",
    "c.append_r_class_subtree_visitor(-1,\n",
    "    lambda kind, left, right:\n",
    "        None if kind[0] is None else\n",
    "        [\"a\", kind] + left + right + [\"o\", None, (None, \"*\")]\n",
    ")\n",
    "\n",
    "c.define_section(1)\n",
    "\n",
    "c.append_r_class_subtree_visitor(1,\n",
    "    lambda kind, left, right:\n",
    "        None if kind[0] is None else\n",
    "        [\"l\", \"l\", kind] + left + right + [(None, \"*\"), None]\n",
    ")\n",
    "\n",
    "c.define_section(2)\n",
    "\n",
    "c.append_r_class_right_parent_subtree_visitor(1,\n",
    "    lambda kind, parent_kind, left, right:\n",
    "        None if kind[0] is not None else\n",
    "        [\"l\", \"s\", (None, \"*\"), parent_kind] + left + right + [None]\n",
    ")\n",
    "\n",
    "c.append_r_class_subtree_visitor(1,\n",
    "    lambda kind, left, right:\n",
    "        None if kind[0] is None else\n",
    "        [\"s\", None, \"l\", kind] + left + right + [(None, \"*\")]\n",
    ")\n",
    "\n",
    "c.append_r_class_right_parent_subtree_visitor(1,\n",
    "    lambda kind, parent_kind, left, right:\n",
    "        None if kind[0] is not None else\n",
    "        [\"s\", None, \"l\", parent_kind] + left + right + [(None, \"*\")]\n",
    ")\n",
    "\n",
    "c.append_r_class_right_parent_subtree_visitor(1,\n",
    "    lambda kind, parent_kind, left, right:\n",
    "        None if kind[0] is not None else\n",
    "        [\"s\", None, \"l\", parent_kind] + [left[0] + (\"*\", )] + left[1:] + right + [None]\n",
    ")\n",
    "\n",
    "c.append_r_class_left_parent_subtree_visitor(1,\n",
    "    lambda kind, parent_kind, left, right:\n",
    "        None if kind[0] is not None else\n",
    "        [\"s\", None, \"l\", parent_kind] + left + [right[0] + (\"*\", )] + right[1:] + [None]\n",
    ")\n",
    "\n",
    "c.define_section(3)\n",
    "\n",
    "c.append_r_class_right_parent_subtree_visitor(1,\n",
    "    lambda kind, parent_kind, left, right:\n",
    "        None if kind[0] is not None else\n",
    "        [\"s\", None, \"s\", (None, \"*\"), parent_kind] + left + right\n",
    ")\n",
    "\n",
    "c.print_stats()"
   ],
   "metadata": {
    "collapsed": false,
    "pycharm": {
     "name": "#%%\n"
    }
   }
  },
  {
   "cell_type": "code",
   "execution_count": 15,
   "outputs": [
    {
     "name": "stdout",
     "output_type": "stream",
     "text": [
      "# define 1,0: 2 * (2 * n + 1) * Cn [aosu]\n",
      "# define 1,1: - (2 * n) * Cn [lls]\n",
      "# define 1,2: - (2 * n + 1) * Cn [lss]\n",
      "=== Classes stats ===\n",
      "[ ]  0,0:       0 of      12 | n * Cn                    [llss]\n",
      "[ ]  1,0:      88 of     162 | 2 * (2 * n + 1) * Cn      [aosu]\n",
      "[ ]  1,1:     -58 of     -72 | - (2 * n) * Cn            [lls]\n",
      "[ ]  1,2:     -44 of     -81 | - (2 * n + 1) * Cn        [lss]\n",
      "[x]  2,0:    -440 of    -440 | - (4 * n) * Cn            [aou]\n",
      "[x]  2,1:     110 of     110 | (n) * Cn                  [ll]\n",
      "[ ]  2,2:     368 of     484 | (4 * n + 2) * Cn          [ls]\n",
      "[ ]  2,3:      63 of     132 | (n + 1) * Cn              [ss]\n",
      "[x]  3,0:    -741 of    -741 | - (2 * n + 1) * Cn        [l]\n",
      "[ ]  3,1:    -586 of    -798 | - 2 * (n + 1) * Cn        [s]\n",
      "[x]  4,0:    1232 of    1232 | (n + 1) * Cn              []\n",
      "=== Diff stats ===\n",
      "1,1:     8     0\n"
     ]
    }
   ],
   "source": [
    "c.define_class(1)\n",
    "\n",
    "c.define_section(0)\n",
    "\n",
    "c.append_r_class_right_parent_subtree_visitor(1,\n",
    "    lambda kind, parent_kind, left, right:\n",
    "        None if kind[0] is not None else\n",
    "        [\"s\", None, \"a\", \"o\", (None, \"*\"), None, parent_kind] + left + right\n",
    ")\n",
    "\n",
    "c.append_r_class_right_parent_subtree_visitor(1,\n",
    "    lambda kind, parent_kind, left, right:\n",
    "        None if kind[0] is not None else\n",
    "        [\"s\", None, \"a\", \"o\", None, (None, \"*\"), parent_kind] + left + right\n",
    ")\n",
    "\n",
    "c.append_r_class_right_parent_subtree_visitor(1,\n",
    "    lambda kind, parent_kind, left, right:\n",
    "        None if kind[0] is not None else\n",
    "        [\"s\", None, \"a\", parent_kind] + left + right + [\"o\", (None, \"*\"), None]\n",
    ")\n",
    "\n",
    "c.append_r_class_right_parent_subtree_visitor(1,\n",
    "    lambda kind, parent_kind, left, right:\n",
    "        None if kind[0] is not None else\n",
    "        [\"s\", None, \"a\", parent_kind] + left + right + [\"o\", None, (None, \"*\")]\n",
    ")\n",
    "\n",
    "c.define_section(1)\n",
    "\n",
    "c.append_r_class_right_parent_subtree_visitor(-1,\n",
    "    lambda kind, parent_kind, left, right:\n",
    "        None if kind[0] is not None else\n",
    "        [\"s\", None, \"l\", \"l\", parent_kind] + left + right + [(None, \"*\"), None]\n",
    ")\n",
    "\n",
    "c.append_r_class_right_parent_subtree_visitor(-1,\n",
    "    lambda kind, parent_kind, left, right:\n",
    "        [\"s\", None, \"l\", \"l\", parent_kind] + left + right + [(None, \"*\"), None]\n",
    ")\n",
    "\n",
    "\n",
    "c.define_section(2)\n",
    "\n",
    "c.append_r_class_right_parent_subtree_visitor(-1,\n",
    "    lambda kind, parent_kind, left, right:\n",
    "        None if kind[0] is not None else\n",
    "        [\"s\", None, \"s\", None, \"l\", parent_kind] + left + right + [(None, \"*\")]\n",
    ")\n",
    "\n",
    "c.append_r_class_right_parent_subtree_visitor(-1,\n",
    "    lambda kind, parent_kind, left, right:\n",
    "        None if kind[0] is not None else\n",
    "        [\"s\", None, \"l\", \"s\", (None, \"*\"), parent_kind] + left + right + [None]\n",
    ")\n",
    "\n",
    "c.print_stats()"
   ],
   "metadata": {
    "collapsed": false,
    "pycharm": {
     "name": "#%%\n"
    }
   }
  },
  {
   "cell_type": "code",
   "execution_count": 16,
   "outputs": [
    {
     "name": "stdout",
     "output_type": "stream",
     "text": [
      "# define 0,0: n * Cn [llss]\n",
      "=== Classes stats ===\n",
      "[ ]  0,0:       8 of      12 | n * Cn                    [llss]\n",
      "[ ]  1,0:      88 of     162 | 2 * (2 * n + 1) * Cn      [aosu]\n",
      "[ ]  1,1:     -58 of     -72 | - (2 * n) * Cn            [lls]\n",
      "[ ]  1,2:     -44 of     -81 | - (2 * n + 1) * Cn        [lss]\n",
      "[x]  2,0:    -440 of    -440 | - (4 * n) * Cn            [aou]\n",
      "[x]  2,1:     110 of     110 | (n) * Cn                  [ll]\n",
      "[ ]  2,2:     368 of     484 | (4 * n + 2) * Cn          [ls]\n",
      "[ ]  2,3:      63 of     132 | (n + 1) * Cn              [ss]\n",
      "[x]  3,0:    -741 of    -741 | - (2 * n + 1) * Cn        [l]\n",
      "[ ]  3,1:    -586 of    -798 | - 2 * (n + 1) * Cn        [s]\n",
      "[x]  4,0:    1232 of    1232 | (n + 1) * Cn              []\n",
      "=== Diff stats ===\n"
     ]
    }
   ],
   "source": [
    "c.define_class(0)\n",
    "\n",
    "c.define_section(0)\n",
    "\n",
    "c.append_r_class_right_parent_subtree_visitor(1,\n",
    "    lambda kind, parent_kind, left, right:\n",
    "        None if kind[0] is not None else\n",
    "        [\"s\", None, \"s\", None, \"l\", \"l\", parent_kind] + left + right + [(None, \"*\"), None]\n",
    ")\n",
    "\n",
    "c.print_stats()"
   ],
   "metadata": {
    "collapsed": false,
    "pycharm": {
     "name": "#%%\n"
    }
   }
  },
  {
   "cell_type": "code",
   "execution_count": 17,
   "outputs": [
    {
     "data": {
      "text/plain": "<IPython.core.display.HTML object>",
      "text/html": "=== Minus ==="
     },
     "metadata": {},
     "output_type": "display_data"
    },
    {
     "data": {
      "text/plain": "<IPython.core.display.HTML object>",
      "text/html": "=== Plus ==="
     },
     "metadata": {},
     "output_type": "display_data"
    }
   ],
   "source": [
    "c.display_diff_trees(2, 2)"
   ],
   "metadata": {
    "collapsed": false,
    "pycharm": {
     "name": "#%%\n"
    }
   }
  },
  {
   "cell_type": "code",
   "execution_count": 96,
   "outputs": [
    {
     "data": {
      "text/plain": "<IPython.core.display.HTML object>",
      "text/html": "1,0,-1: 1 * 12"
     },
     "metadata": {},
     "output_type": "display_data"
    },
    {
     "data": {
      "text/plain": "<IPython.core.display.HTML object>",
      "text/html": "<table style=\"border-style: hidden; border-collapse: collapse;\" width=\"100%\"><tr><td style=\"border-top:hidden;border-bottom:hidden;\"><div align=\"center\" style=\"\"><?xml version=\"1.0\" encoding=\"UTF-8\" standalone=\"no\"?>\n<!DOCTYPE svg PUBLIC \"-//W3C//DTD SVG 1.1//EN\"\n \"http://www.w3.org/Graphics/SVG/1.1/DTD/svg11.dtd\">\n<!-- Generated by graphviz version 2.44.1 (20200629.0846)\n -->\n<!-- Pages: 1 -->\n<svg width=\"181pt\" height=\"288pt\"\n viewBox=\"0.00 0.00 181.39 288.00\" xmlns=\"http://www.w3.org/2000/svg\" xmlns:xlink=\"http://www.w3.org/1999/xlink\">\n<g id=\"graph0\" class=\"graph\" transform=\"scale(0.8 0.8) rotate(0) translate(4 358)\">\n<polygon fill=\"white\" stroke=\"transparent\" points=\"-4,4 -4,-358 224,-358 224,4 -4,4\"/>\n<!-- 0 -->\n<g id=\"node1\" class=\"node\">\n<title>0</title>\n<text text-anchor=\"middle\" x=\"97\" y=\"-342.8\" font-family=\"Times,serif\" font-size=\"14.00\">s</text>\n</g>\n<!-- 1 -->\n<g id=\"node2\" class=\"node\">\n<title>1</title>\n</g>\n<!-- 0&#45;&#45;1 -->\n<g id=\"edge1\" class=\"edge\">\n<title>0&#45;&#45;1</title>\n<path fill=\"none\" stroke=\"lightgreen\" d=\"M94.25,-338.67C90.77,-330.07 84.68,-314.96 79.91,-303.13\"/>\n</g>\n<!-- 2 -->\n<g id=\"node3\" class=\"node\">\n<title>2</title>\n<text text-anchor=\"middle\" x=\"122\" y=\"-281.3\" font-family=\"Times,serif\" font-size=\"14.00\">a</text>\n</g>\n<!-- 0&#45;&#45;2 -->\n<g id=\"edge2\" class=\"edge\">\n<title>0&#45;&#45;2</title>\n<path fill=\"none\" stroke=\"black\" d=\"M99.87,-338.67C104.69,-327.2 114.37,-304.17 119.17,-292.75\"/>\n</g>\n<!-- 3 -->\n<g id=\"node4\" class=\"node\">\n<title>3</title>\n<text text-anchor=\"middle\" x=\"99\" y=\"-219.8\" font-family=\"Times,serif\" font-size=\"14.00\">o</text>\n</g>\n<!-- 2&#45;&#45;3 -->\n<g id=\"edge3\" class=\"edge\">\n<title>2&#45;&#45;3</title>\n<path fill=\"none\" stroke=\"black\" d=\"M119.36,-277.17C114.92,-265.7 106.02,-242.67 101.61,-231.25\"/>\n</g>\n<!-- 6 -->\n<g id=\"node7\" class=\"node\">\n<title>6</title>\n<text text-anchor=\"middle\" x=\"146\" y=\"-219.8\" font-family=\"Times,serif\" font-size=\"14.00\">l</text>\n</g>\n<!-- 2&#45;&#45;6 -->\n<g id=\"edge6\" class=\"edge\">\n<title>2&#45;&#45;6</title>\n<path fill=\"none\" stroke=\"black\" d=\"M124.75,-277.17C129.63,-265.09 139.67,-240.19 143.97,-229.52\"/>\n</g>\n<!-- 4 -->\n<g id=\"node5\" class=\"node\">\n<title>4</title>\n<text text-anchor=\"middle\" x=\"27\" y=\"-158.3\" font-family=\"Times,serif\" font-size=\"14.00\">*</text>\n</g>\n<!-- 3&#45;&#45;4 -->\n<g id=\"edge4\" class=\"edge\">\n<title>3&#45;&#45;4</title>\n<path fill=\"none\" stroke=\"lightgreen\" d=\"M95.13,-219.3C86.37,-212.06 64.48,-193.97 47.86,-180.24\"/>\n</g>\n<!-- 5 -->\n<g id=\"node6\" class=\"node\">\n<title>5</title>\n</g>\n<!-- 3&#45;&#45;5 -->\n<g id=\"edge5\" class=\"edge\">\n<title>3&#45;&#45;5</title>\n<path fill=\"none\" stroke=\"lightgreen\" d=\"M99,-215.67C99,-207.07 99,-191.96 99,-180.13\"/>\n</g>\n<!-- 7 -->\n<g id=\"node8\" class=\"node\">\n<title>7</title>\n<text text-anchor=\"middle\" x=\"146\" y=\"-158.3\" font-family=\"Times,serif\" font-size=\"14.00\">l</text>\n</g>\n<!-- 6&#45;&#45;7 -->\n<g id=\"edge7\" class=\"edge\">\n<title>6&#45;&#45;7</title>\n<path fill=\"none\" stroke=\"black\" d=\"M146,-215.67C146,-204.2 146,-181.17 146,-169.75\"/>\n</g>\n<!-- 12 -->\n<g id=\"node13\" class=\"node\">\n<title>12</title>\n</g>\n<!-- 6&#45;&#45;12 -->\n<g id=\"edge12\" class=\"edge\">\n<title>6&#45;&#45;12</title>\n<path fill=\"none\" stroke=\"lightgreen\" d=\"M148.02,-219.94C153.36,-213.18 168.22,-194.37 179.41,-180.21\"/>\n</g>\n<!-- 8 -->\n<g id=\"node9\" class=\"node\">\n<title>8</title>\n<text text-anchor=\"middle\" x=\"121\" y=\"-86.3\" font-family=\"Times,serif\" font-size=\"14.00\">o</text>\n</g>\n<!-- 7&#45;&#45;8 -->\n<g id=\"edge8\" class=\"edge\">\n<title>7&#45;&#45;8</title>\n<path fill=\"none\" stroke=\"black\" d=\"M143.87,-155.03C139.24,-142.07 128.29,-111.42 123.42,-97.77\"/>\n</g>\n<!-- 11 -->\n<g id=\"node12\" class=\"node\">\n<title>11</title>\n</g>\n<!-- 7&#45;&#45;11 -->\n<g id=\"edge11\" class=\"edge\">\n<title>7&#45;&#45;11</title>\n<path fill=\"none\" stroke=\"lightgreen\" d=\"M148.05,-155.03C151.56,-144.78 158.87,-123.47 164.09,-108.25\"/>\n</g>\n<!-- 9 -->\n<g id=\"node10\" class=\"node\">\n<title>9</title>\n</g>\n<!-- 8&#45;&#45;9 -->\n<g id=\"edge9\" class=\"edge\">\n<title>8&#45;&#45;9</title>\n<path fill=\"none\" stroke=\"lightgreen\" d=\"M117.55,-82.29C112.13,-71.75 101.45,-50.99 93.8,-36.12\"/>\n</g>\n<!-- 10 -->\n<g id=\"node11\" class=\"node\">\n<title>10</title>\n</g>\n<!-- 8&#45;&#45;10 -->\n<g id=\"edge10\" class=\"edge\">\n<title>8&#45;&#45;10</title>\n<path fill=\"none\" stroke=\"lightgreen\" d=\"M124.45,-82.29C129.87,-71.75 140.55,-50.99 148.2,-36.12\"/>\n</g>\n</g>\n</svg>\n</div></td><td style=\"border-top:hidden;border-bottom:hidden;\"><div align=\"center\" style=\"\"><?xml version=\"1.0\" encoding=\"UTF-8\" standalone=\"no\"?>\n<!DOCTYPE svg PUBLIC \"-//W3C//DTD SVG 1.1//EN\"\n \"http://www.w3.org/Graphics/SVG/1.1/DTD/svg11.dtd\">\n<!-- Generated by graphviz version 2.44.1 (20200629.0846)\n -->\n<!-- Pages: 1 -->\n<svg width=\"169pt\" height=\"239pt\"\n viewBox=\"0.00 0.00 169.00 239.00\" xmlns=\"http://www.w3.org/2000/svg\" xmlns:xlink=\"http://www.w3.org/1999/xlink\">\n<g id=\"graph0\" class=\"graph\" transform=\"scale(1 1) rotate(0) translate(4 235)\">\n<polygon fill=\"white\" stroke=\"transparent\" points=\"-4,4 -4,-235 165,-235 165,4 -4,4\"/>\n<!-- 0 -->\n<g id=\"node1\" class=\"node\">\n<title>0</title>\n<text text-anchor=\"middle\" x=\"110\" y=\"-219.8\" font-family=\"Times,serif\" font-size=\"14.00\">l</text>\n</g>\n<!-- 1 -->\n<g id=\"node2\" class=\"node\">\n<title>1</title>\n<text text-anchor=\"middle\" x=\"87\" y=\"-158.3\" font-family=\"Times,serif\" font-size=\"14.00\">l</text>\n</g>\n<!-- 0&#45;&#45;1 -->\n<g id=\"edge1\" class=\"edge\">\n<title>0&#45;&#45;1</title>\n<path fill=\"none\" stroke=\"black\" d=\"M107.88,-217.01C103.47,-205.62 93.39,-179.54 89.05,-168.31\"/>\n</g>\n<!-- 6 -->\n<g id=\"node7\" class=\"node\">\n<title>6</title>\n</g>\n<!-- 0&#45;&#45;6 -->\n<g id=\"edge6\" class=\"edge\">\n<title>0&#45;&#45;6</title>\n<path fill=\"none\" stroke=\"lightgreen\" d=\"M112.05,-217.43C115.33,-209.28 121.94,-192.9 127.05,-180.23\"/>\n</g>\n<!-- 2 -->\n<g id=\"node3\" class=\"node\">\n<title>2</title>\n<text text-anchor=\"middle\" x=\"63\" y=\"-86.3\" font-family=\"Times,serif\" font-size=\"14.00\">o</text>\n</g>\n<!-- 1&#45;&#45;2 -->\n<g id=\"edge2\" class=\"edge\">\n<title>1&#45;&#45;2</title>\n<path fill=\"none\" stroke=\"black\" d=\"M84.95,-155.03C80.51,-142.07 70,-111.42 65.32,-97.77\"/>\n</g>\n<!-- 5 -->\n<g id=\"node6\" class=\"node\">\n<title>5</title>\n</g>\n<!-- 1&#45;&#45;5 -->\n<g id=\"edge5\" class=\"edge\">\n<title>1&#45;&#45;5</title>\n<path fill=\"none\" stroke=\"lightgreen\" d=\"M89.13,-155.03C92.79,-144.78 100.4,-123.47 105.84,-108.25\"/>\n</g>\n<!-- 3 -->\n<g id=\"node4\" class=\"node\">\n<title>3</title>\n</g>\n<!-- 2&#45;&#45;3 -->\n<g id=\"edge3\" class=\"edge\">\n<title>2&#45;&#45;3</title>\n<path fill=\"none\" stroke=\"lightgreen\" d=\"M59.55,-82.29C54.13,-71.75 43.45,-50.99 35.8,-36.12\"/>\n</g>\n<!-- 4 -->\n<g id=\"node5\" class=\"node\">\n<title>4</title>\n</g>\n<!-- 2&#45;&#45;4 -->\n<g id=\"edge4\" class=\"edge\">\n<title>2&#45;&#45;4</title>\n<path fill=\"none\" stroke=\"lightgreen\" d=\"M66.45,-82.29C71.87,-71.75 82.55,-50.99 90.2,-36.12\"/>\n</g>\n</g>\n</svg>\n</div></td></tr></table>"
     },
     "metadata": {},
     "output_type": "display_data"
    },
    {
     "data": {
      "text/plain": "<IPython.core.display.HTML object>",
      "text/html": "<table style=\"border-style: hidden; border-collapse: collapse;\" width=\"100%\"><tr><td style=\"border-top:hidden;border-bottom:hidden;\"><div align=\"center\" style=\"\"><?xml version=\"1.0\" encoding=\"UTF-8\" standalone=\"no\"?>\n<!DOCTYPE svg PUBLIC \"-//W3C//DTD SVG 1.1//EN\"\n \"http://www.w3.org/Graphics/SVG/1.1/DTD/svg11.dtd\">\n<!-- Generated by graphviz version 2.44.1 (20200629.0846)\n -->\n<!-- Pages: 1 -->\n<svg width=\"185pt\" height=\"288pt\"\n viewBox=\"0.00 0.00 184.57 288.00\" xmlns=\"http://www.w3.org/2000/svg\" xmlns:xlink=\"http://www.w3.org/1999/xlink\">\n<g id=\"graph0\" class=\"graph\" transform=\"scale(0.8 0.8) rotate(0) translate(4 358)\">\n<polygon fill=\"white\" stroke=\"transparent\" points=\"-4,4 -4,-358 228,-358 228,4 -4,4\"/>\n<!-- 0 -->\n<g id=\"node1\" class=\"node\">\n<title>0</title>\n<text text-anchor=\"middle\" x=\"123\" y=\"-342.8\" font-family=\"Times,serif\" font-size=\"14.00\">l</text>\n</g>\n<!-- 1 -->\n<g id=\"node2\" class=\"node\">\n<title>1</title>\n<text text-anchor=\"middle\" x=\"99\" y=\"-281.3\" font-family=\"Times,serif\" font-size=\"14.00\">s</text>\n</g>\n<!-- 0&#45;&#45;1 -->\n<g id=\"edge1\" class=\"edge\">\n<title>0&#45;&#45;1</title>\n<path fill=\"none\" stroke=\"black\" d=\"M120.95,-340.43C116.65,-329.75 106.64,-304.94 101.77,-292.86\"/>\n</g>\n<!-- 12 -->\n<g id=\"node13\" class=\"node\">\n<title>12</title>\n</g>\n<!-- 0&#45;&#45;12 -->\n<g id=\"edge12\" class=\"edge\">\n<title>0&#45;&#45;12</title>\n<path fill=\"none\" stroke=\"lightgreen\" d=\"M125.05,-340.43C128.33,-332.28 134.94,-315.9 140.05,-303.23\"/>\n</g>\n<!-- 2 -->\n<g id=\"node3\" class=\"node\">\n<title>2</title>\n</g>\n<!-- 1&#45;&#45;2 -->\n<g id=\"edge2\" class=\"edge\">\n<title>1&#45;&#45;2</title>\n<path fill=\"none\" stroke=\"lightgreen\" d=\"M96.7,-277.29C93.09,-266.75 85.97,-245.99 80.87,-231.12\"/>\n</g>\n<!-- 3 -->\n<g id=\"node4\" class=\"node\">\n<title>3</title>\n<text text-anchor=\"middle\" x=\"124\" y=\"-209.3\" font-family=\"Times,serif\" font-size=\"14.00\">a</text>\n</g>\n<!-- 1&#45;&#45;3 -->\n<g id=\"edge3\" class=\"edge\">\n<title>1&#45;&#45;3</title>\n<path fill=\"none\" stroke=\"black\" d=\"M101.4,-277.29C106.19,-263.87 116.89,-233.9 121.65,-220.59\"/>\n</g>\n<!-- 4 -->\n<g id=\"node5\" class=\"node\">\n<title>4</title>\n<text text-anchor=\"middle\" x=\"99\" y=\"-147.8\" font-family=\"Times,serif\" font-size=\"14.00\">o</text>\n</g>\n<!-- 3&#45;&#45;4 -->\n<g id=\"edge4\" class=\"edge\">\n<title>3&#45;&#45;4</title>\n<path fill=\"none\" stroke=\"black\" d=\"M121.13,-205.17C116.31,-193.7 106.63,-170.67 101.83,-159.25\"/>\n</g>\n<!-- 7 -->\n<g id=\"node8\" class=\"node\">\n<title>7</title>\n<text text-anchor=\"middle\" x=\"148\" y=\"-147.8\" font-family=\"Times,serif\" font-size=\"14.00\">l</text>\n</g>\n<!-- 3&#45;&#45;7 -->\n<g id=\"edge7\" class=\"edge\">\n<title>3&#45;&#45;7</title>\n<path fill=\"none\" stroke=\"black\" d=\"M126.75,-205.17C131.63,-193.09 141.67,-168.19 145.97,-157.52\"/>\n</g>\n<!-- 5 -->\n<g id=\"node6\" class=\"node\">\n<title>5</title>\n<text text-anchor=\"middle\" x=\"27\" y=\"-86.3\" font-family=\"Times,serif\" font-size=\"14.00\">*</text>\n</g>\n<!-- 4&#45;&#45;5 -->\n<g id=\"edge5\" class=\"edge\">\n<title>4&#45;&#45;5</title>\n<path fill=\"none\" stroke=\"lightgreen\" d=\"M95.13,-147.3C86.37,-140.06 64.48,-121.97 47.86,-108.24\"/>\n</g>\n<!-- 6 -->\n<g id=\"node7\" class=\"node\">\n<title>6</title>\n</g>\n<!-- 4&#45;&#45;6 -->\n<g id=\"edge6\" class=\"edge\">\n<title>4&#45;&#45;6</title>\n<path fill=\"none\" stroke=\"lightgreen\" d=\"M99,-143.67C99,-135.07 99,-119.96 99,-108.13\"/>\n</g>\n<!-- 8 -->\n<g id=\"node9\" class=\"node\">\n<title>8</title>\n<text text-anchor=\"middle\" x=\"148\" y=\"-86.3\" font-family=\"Times,serif\" font-size=\"14.00\">o</text>\n</g>\n<!-- 7&#45;&#45;8 -->\n<g id=\"edge8\" class=\"edge\">\n<title>7&#45;&#45;8</title>\n<path fill=\"none\" stroke=\"black\" d=\"M148,-143.67C148,-132.2 148,-109.17 148,-97.75\"/>\n</g>\n<!-- 11 -->\n<g id=\"node12\" class=\"node\">\n<title>11</title>\n</g>\n<!-- 7&#45;&#45;11 -->\n<g id=\"edge11\" class=\"edge\">\n<title>7&#45;&#45;11</title>\n<path fill=\"none\" stroke=\"lightgreen\" d=\"M150.11,-147.94C155.67,-141.18 171.16,-122.37 182.83,-108.21\"/>\n</g>\n<!-- 9 -->\n<g id=\"node10\" class=\"node\">\n<title>9</title>\n</g>\n<!-- 8&#45;&#45;9 -->\n<g id=\"edge9\" class=\"edge\">\n<title>8&#45;&#45;9</title>\n<path fill=\"none\" stroke=\"lightgreen\" d=\"M144.55,-82.29C139.13,-71.75 128.45,-50.99 120.8,-36.12\"/>\n</g>\n<!-- 10 -->\n<g id=\"node11\" class=\"node\">\n<title>10</title>\n</g>\n<!-- 8&#45;&#45;10 -->\n<g id=\"edge10\" class=\"edge\">\n<title>8&#45;&#45;10</title>\n<path fill=\"none\" stroke=\"lightgreen\" d=\"M151.45,-82.29C156.87,-71.75 167.55,-50.99 175.2,-36.12\"/>\n</g>\n</g>\n</svg>\n</div></td><td style=\"border-top:hidden;border-bottom:hidden;\"><div align=\"center\" style=\"\"><?xml version=\"1.0\" encoding=\"UTF-8\" standalone=\"no\"?>\n<!DOCTYPE svg PUBLIC \"-//W3C//DTD SVG 1.1//EN\"\n \"http://www.w3.org/Graphics/SVG/1.1/DTD/svg11.dtd\">\n<!-- Generated by graphviz version 2.44.1 (20200629.0846)\n -->\n<!-- Pages: 1 -->\n<svg width=\"169pt\" height=\"239pt\"\n viewBox=\"0.00 0.00 169.00 239.00\" xmlns=\"http://www.w3.org/2000/svg\" xmlns:xlink=\"http://www.w3.org/1999/xlink\">\n<g id=\"graph0\" class=\"graph\" transform=\"scale(1 1) rotate(0) translate(4 235)\">\n<polygon fill=\"white\" stroke=\"transparent\" points=\"-4,4 -4,-235 165,-235 165,4 -4,4\"/>\n<!-- 0 -->\n<g id=\"node1\" class=\"node\">\n<title>0</title>\n<text text-anchor=\"middle\" x=\"110\" y=\"-219.8\" font-family=\"Times,serif\" font-size=\"14.00\">l</text>\n</g>\n<!-- 1 -->\n<g id=\"node2\" class=\"node\">\n<title>1</title>\n<text text-anchor=\"middle\" x=\"87\" y=\"-158.3\" font-family=\"Times,serif\" font-size=\"14.00\">l</text>\n</g>\n<!-- 0&#45;&#45;1 -->\n<g id=\"edge1\" class=\"edge\">\n<title>0&#45;&#45;1</title>\n<path fill=\"none\" stroke=\"black\" d=\"M107.88,-217.01C103.47,-205.62 93.39,-179.54 89.05,-168.31\"/>\n</g>\n<!-- 6 -->\n<g id=\"node7\" class=\"node\">\n<title>6</title>\n</g>\n<!-- 0&#45;&#45;6 -->\n<g id=\"edge6\" class=\"edge\">\n<title>0&#45;&#45;6</title>\n<path fill=\"none\" stroke=\"lightgreen\" d=\"M112.05,-217.43C115.33,-209.28 121.94,-192.9 127.05,-180.23\"/>\n</g>\n<!-- 2 -->\n<g id=\"node3\" class=\"node\">\n<title>2</title>\n<text text-anchor=\"middle\" x=\"63\" y=\"-86.3\" font-family=\"Times,serif\" font-size=\"14.00\">o</text>\n</g>\n<!-- 1&#45;&#45;2 -->\n<g id=\"edge2\" class=\"edge\">\n<title>1&#45;&#45;2</title>\n<path fill=\"none\" stroke=\"black\" d=\"M84.95,-155.03C80.51,-142.07 70,-111.42 65.32,-97.77\"/>\n</g>\n<!-- 5 -->\n<g id=\"node6\" class=\"node\">\n<title>5</title>\n</g>\n<!-- 1&#45;&#45;5 -->\n<g id=\"edge5\" class=\"edge\">\n<title>1&#45;&#45;5</title>\n<path fill=\"none\" stroke=\"lightgreen\" d=\"M89.13,-155.03C92.79,-144.78 100.4,-123.47 105.84,-108.25\"/>\n</g>\n<!-- 3 -->\n<g id=\"node4\" class=\"node\">\n<title>3</title>\n</g>\n<!-- 2&#45;&#45;3 -->\n<g id=\"edge3\" class=\"edge\">\n<title>2&#45;&#45;3</title>\n<path fill=\"none\" stroke=\"lightgreen\" d=\"M59.55,-82.29C54.13,-71.75 43.45,-50.99 35.8,-36.12\"/>\n</g>\n<!-- 4 -->\n<g id=\"node5\" class=\"node\">\n<title>4</title>\n</g>\n<!-- 2&#45;&#45;4 -->\n<g id=\"edge4\" class=\"edge\">\n<title>2&#45;&#45;4</title>\n<path fill=\"none\" stroke=\"lightgreen\" d=\"M66.45,-82.29C71.87,-71.75 82.55,-50.99 90.2,-36.12\"/>\n</g>\n</g>\n</svg>\n</div></td></tr></table>"
     },
     "metadata": {},
     "output_type": "display_data"
    },
    {
     "data": {
      "text/plain": "<IPython.core.display.HTML object>",
      "text/html": "<table style=\"border-style: hidden; border-collapse: collapse;\" width=\"100%\"><tr><td style=\"border-top:hidden;border-bottom:hidden;\"><div align=\"center\" style=\"\"><?xml version=\"1.0\" encoding=\"UTF-8\" standalone=\"no\"?>\n<!DOCTYPE svg PUBLIC \"-//W3C//DTD SVG 1.1//EN\"\n \"http://www.w3.org/Graphics/SVG/1.1/DTD/svg11.dtd\">\n<!-- Generated by graphviz version 2.44.1 (20200629.0846)\n -->\n<!-- Pages: 1 -->\n<svg width=\"221pt\" height=\"288pt\"\n viewBox=\"0.00 0.00 221.17 288.00\" xmlns=\"http://www.w3.org/2000/svg\" xmlns:xlink=\"http://www.w3.org/1999/xlink\">\n<g id=\"graph0\" class=\"graph\" transform=\"scale(0.8 0.8) rotate(0) translate(4 358)\">\n<polygon fill=\"white\" stroke=\"transparent\" points=\"-4,4 -4,-358 274,-358 274,4 -4,4\"/>\n<!-- 0 -->\n<g id=\"node1\" class=\"node\">\n<title>0</title>\n<text text-anchor=\"middle\" x=\"157\" y=\"-342.8\" font-family=\"Times,serif\" font-size=\"14.00\">l</text>\n</g>\n<!-- 1 -->\n<g id=\"node2\" class=\"node\">\n<title>1</title>\n<text text-anchor=\"middle\" x=\"134\" y=\"-281.3\" font-family=\"Times,serif\" font-size=\"14.00\">l</text>\n</g>\n<!-- 0&#45;&#45;1 -->\n<g id=\"edge1\" class=\"edge\">\n<title>0&#45;&#45;1</title>\n<path fill=\"none\" stroke=\"black\" d=\"M154.88,-340.01C150.47,-328.62 140.39,-302.54 136.05,-291.31\"/>\n</g>\n<!-- 12 -->\n<g id=\"node13\" class=\"node\">\n<title>12</title>\n</g>\n<!-- 0&#45;&#45;12 -->\n<g id=\"edge12\" class=\"edge\">\n<title>0&#45;&#45;12</title>\n<path fill=\"none\" stroke=\"lightgreen\" d=\"M159.05,-340.43C162.33,-332.28 168.94,-315.9 174.05,-303.23\"/>\n</g>\n<!-- 2 -->\n<g id=\"node3\" class=\"node\">\n<title>2</title>\n<text text-anchor=\"middle\" x=\"110\" y=\"-209.3\" font-family=\"Times,serif\" font-size=\"14.00\">s</text>\n</g>\n<!-- 1&#45;&#45;2 -->\n<g id=\"edge2\" class=\"edge\">\n<title>1&#45;&#45;2</title>\n<path fill=\"none\" stroke=\"black\" d=\"M131.95,-278.03C127.51,-265.07 117,-234.42 112.32,-220.77\"/>\n</g>\n<!-- 11 -->\n<g id=\"node12\" class=\"node\">\n<title>11</title>\n</g>\n<!-- 1&#45;&#45;11 -->\n<g id=\"edge11\" class=\"edge\">\n<title>1&#45;&#45;11</title>\n<path fill=\"none\" stroke=\"lightgreen\" d=\"M136.05,-278.03C139.56,-267.78 146.87,-246.47 152.09,-231.25\"/>\n</g>\n<!-- 3 -->\n<g id=\"node4\" class=\"node\">\n<title>3</title>\n</g>\n<!-- 2&#45;&#45;3 -->\n<g id=\"edge3\" class=\"edge\">\n<title>2&#45;&#45;3</title>\n<path fill=\"none\" stroke=\"lightgreen\" d=\"M107.7,-205.29C104.09,-194.75 96.97,-173.99 91.87,-159.12\"/>\n</g>\n<!-- 4 -->\n<g id=\"node5\" class=\"node\">\n<title>4</title>\n<text text-anchor=\"middle\" x=\"135\" y=\"-137.3\" font-family=\"Times,serif\" font-size=\"14.00\">a</text>\n</g>\n<!-- 2&#45;&#45;4 -->\n<g id=\"edge4\" class=\"edge\">\n<title>2&#45;&#45;4</title>\n<path fill=\"none\" stroke=\"black\" d=\"M112.4,-205.29C117.19,-191.87 127.89,-161.9 132.65,-148.59\"/>\n</g>\n<!-- 5 -->\n<g id=\"node6\" class=\"node\">\n<title>5</title>\n<text text-anchor=\"middle\" x=\"99\" y=\"-75.8\" font-family=\"Times,serif\" font-size=\"14.00\">o</text>\n</g>\n<!-- 4&#45;&#45;5 -->\n<g id=\"edge5\" class=\"edge\">\n<title>4&#45;&#45;5</title>\n<path fill=\"none\" stroke=\"black\" d=\"M131.42,-134.08C124.52,-122.67 109.46,-97.78 102.57,-86.4\"/>\n</g>\n<!-- 8 -->\n<g id=\"node9\" class=\"node\">\n<title>8</title>\n<text text-anchor=\"middle\" x=\"171\" y=\"-75.8\" font-family=\"Times,serif\" font-size=\"14.00\">o</text>\n</g>\n<!-- 4&#45;&#45;8 -->\n<g id=\"edge8\" class=\"edge\">\n<title>4&#45;&#45;8</title>\n<path fill=\"none\" stroke=\"black\" d=\"M138.58,-134.08C145.48,-122.67 160.54,-97.78 167.43,-86.4\"/>\n</g>\n<!-- 6 -->\n<g id=\"node7\" class=\"node\">\n<title>6</title>\n<text text-anchor=\"middle\" x=\"27\" y=\"-14.3\" font-family=\"Times,serif\" font-size=\"14.00\">*</text>\n</g>\n<!-- 5&#45;&#45;6 -->\n<g id=\"edge6\" class=\"edge\">\n<title>5&#45;&#45;6</title>\n<path fill=\"none\" stroke=\"lightgreen\" d=\"M95.13,-75.3C86.37,-68.06 64.48,-49.97 47.86,-36.24\"/>\n</g>\n<!-- 7 -->\n<g id=\"node8\" class=\"node\">\n<title>7</title>\n</g>\n<!-- 5&#45;&#45;7 -->\n<g id=\"edge7\" class=\"edge\">\n<title>5&#45;&#45;7</title>\n<path fill=\"none\" stroke=\"lightgreen\" d=\"M99,-71.67C99,-63.07 99,-47.96 99,-36.13\"/>\n</g>\n<!-- 9 -->\n<g id=\"node10\" class=\"node\">\n<title>9</title>\n</g>\n<!-- 8&#45;&#45;9 -->\n<g id=\"edge9\" class=\"edge\">\n<title>8&#45;&#45;9</title>\n<path fill=\"none\" stroke=\"lightgreen\" d=\"M171,-71.67C171,-63.07 171,-47.96 171,-36.13\"/>\n</g>\n<!-- 10 -->\n<g id=\"node11\" class=\"node\">\n<title>10</title>\n</g>\n<!-- 8&#45;&#45;10 -->\n<g id=\"edge10\" class=\"edge\">\n<title>8&#45;&#45;10</title>\n<path fill=\"none\" stroke=\"lightgreen\" d=\"M174.87,-75.3C183.63,-68.06 205.52,-49.97 222.14,-36.24\"/>\n</g>\n</g>\n</svg>\n</div></td><td style=\"border-top:hidden;border-bottom:hidden;\"><div align=\"center\" style=\"\"><?xml version=\"1.0\" encoding=\"UTF-8\" standalone=\"no\"?>\n<!DOCTYPE svg PUBLIC \"-//W3C//DTD SVG 1.1//EN\"\n \"http://www.w3.org/Graphics/SVG/1.1/DTD/svg11.dtd\">\n<!-- Generated by graphviz version 2.44.1 (20200629.0846)\n -->\n<!-- Pages: 1 -->\n<svg width=\"169pt\" height=\"239pt\"\n viewBox=\"0.00 0.00 169.00 239.00\" xmlns=\"http://www.w3.org/2000/svg\" xmlns:xlink=\"http://www.w3.org/1999/xlink\">\n<g id=\"graph0\" class=\"graph\" transform=\"scale(1 1) rotate(0) translate(4 235)\">\n<polygon fill=\"white\" stroke=\"transparent\" points=\"-4,4 -4,-235 165,-235 165,4 -4,4\"/>\n<!-- 0 -->\n<g id=\"node1\" class=\"node\">\n<title>0</title>\n<text text-anchor=\"middle\" x=\"110\" y=\"-219.8\" font-family=\"Times,serif\" font-size=\"14.00\">l</text>\n</g>\n<!-- 1 -->\n<g id=\"node2\" class=\"node\">\n<title>1</title>\n<text text-anchor=\"middle\" x=\"87\" y=\"-158.3\" font-family=\"Times,serif\" font-size=\"14.00\">l</text>\n</g>\n<!-- 0&#45;&#45;1 -->\n<g id=\"edge1\" class=\"edge\">\n<title>0&#45;&#45;1</title>\n<path fill=\"none\" stroke=\"black\" d=\"M107.88,-217.01C103.47,-205.62 93.39,-179.54 89.05,-168.31\"/>\n</g>\n<!-- 6 -->\n<g id=\"node7\" class=\"node\">\n<title>6</title>\n</g>\n<!-- 0&#45;&#45;6 -->\n<g id=\"edge6\" class=\"edge\">\n<title>0&#45;&#45;6</title>\n<path fill=\"none\" stroke=\"lightgreen\" d=\"M112.05,-217.43C115.33,-209.28 121.94,-192.9 127.05,-180.23\"/>\n</g>\n<!-- 2 -->\n<g id=\"node3\" class=\"node\">\n<title>2</title>\n<text text-anchor=\"middle\" x=\"63\" y=\"-86.3\" font-family=\"Times,serif\" font-size=\"14.00\">o</text>\n</g>\n<!-- 1&#45;&#45;2 -->\n<g id=\"edge2\" class=\"edge\">\n<title>1&#45;&#45;2</title>\n<path fill=\"none\" stroke=\"black\" d=\"M84.95,-155.03C80.51,-142.07 70,-111.42 65.32,-97.77\"/>\n</g>\n<!-- 5 -->\n<g id=\"node6\" class=\"node\">\n<title>5</title>\n</g>\n<!-- 1&#45;&#45;5 -->\n<g id=\"edge5\" class=\"edge\">\n<title>1&#45;&#45;5</title>\n<path fill=\"none\" stroke=\"lightgreen\" d=\"M89.13,-155.03C92.79,-144.78 100.4,-123.47 105.84,-108.25\"/>\n</g>\n<!-- 3 -->\n<g id=\"node4\" class=\"node\">\n<title>3</title>\n</g>\n<!-- 2&#45;&#45;3 -->\n<g id=\"edge3\" class=\"edge\">\n<title>2&#45;&#45;3</title>\n<path fill=\"none\" stroke=\"lightgreen\" d=\"M59.55,-82.29C54.13,-71.75 43.45,-50.99 35.8,-36.12\"/>\n</g>\n<!-- 4 -->\n<g id=\"node5\" class=\"node\">\n<title>4</title>\n</g>\n<!-- 2&#45;&#45;4 -->\n<g id=\"edge4\" class=\"edge\">\n<title>2&#45;&#45;4</title>\n<path fill=\"none\" stroke=\"lightgreen\" d=\"M66.45,-82.29C71.87,-71.75 82.55,-50.99 90.2,-36.12\"/>\n</g>\n</g>\n</svg>\n</div></td></tr></table>"
     },
     "metadata": {},
     "output_type": "display_data"
    },
    {
     "data": {
      "text/plain": "<IPython.core.display.HTML object>",
      "text/html": "<table style=\"border-style: hidden; border-collapse: collapse;\" width=\"100%\"><tr><td style=\"border-top:hidden;border-bottom:hidden;\"><div align=\"center\" style=\"\"><?xml version=\"1.0\" encoding=\"UTF-8\" standalone=\"no\"?>\n<!DOCTYPE svg PUBLIC \"-//W3C//DTD SVG 1.1//EN\"\n \"http://www.w3.org/Graphics/SVG/1.1/DTD/svg11.dtd\">\n<!-- Generated by graphviz version 2.44.1 (20200629.0846)\n -->\n<!-- Pages: 1 -->\n<svg width=\"193pt\" height=\"288pt\"\n viewBox=\"0.00 0.00 192.53 288.00\" xmlns=\"http://www.w3.org/2000/svg\" xmlns:xlink=\"http://www.w3.org/1999/xlink\">\n<g id=\"graph0\" class=\"graph\" transform=\"scale(0.8 0.8) rotate(0) translate(4 358)\">\n<polygon fill=\"white\" stroke=\"transparent\" points=\"-4,4 -4,-358 238,-358 238,4 -4,4\"/>\n<!-- 0 -->\n<g id=\"node1\" class=\"node\">\n<title>0</title>\n<text text-anchor=\"middle\" x=\"98\" y=\"-342.8\" font-family=\"Times,serif\" font-size=\"14.00\">s</text>\n</g>\n<!-- 1 -->\n<g id=\"node2\" class=\"node\">\n<title>1</title>\n</g>\n<!-- 0&#45;&#45;1 -->\n<g id=\"edge1\" class=\"edge\">\n<title>0&#45;&#45;1</title>\n<path fill=\"none\" stroke=\"lightgreen\" d=\"M95.25,-338.67C91.77,-330.07 85.68,-314.96 80.91,-303.13\"/>\n</g>\n<!-- 2 -->\n<g id=\"node3\" class=\"node\">\n<title>2</title>\n<text text-anchor=\"middle\" x=\"123\" y=\"-281.3\" font-family=\"Times,serif\" font-size=\"14.00\">a</text>\n</g>\n<!-- 0&#45;&#45;2 -->\n<g id=\"edge2\" class=\"edge\">\n<title>0&#45;&#45;2</title>\n<path fill=\"none\" stroke=\"black\" d=\"M100.87,-338.67C105.69,-327.2 115.37,-304.17 120.17,-292.75\"/>\n</g>\n<!-- 3 -->\n<g id=\"node4\" class=\"node\">\n<title>3</title>\n<text text-anchor=\"middle\" x=\"99\" y=\"-219.8\" font-family=\"Times,serif\" font-size=\"14.00\">o</text>\n</g>\n<!-- 2&#45;&#45;3 -->\n<g id=\"edge3\" class=\"edge\">\n<title>2&#45;&#45;3</title>\n<path fill=\"none\" stroke=\"black\" d=\"M120.25,-277.17C115.62,-265.7 106.33,-242.67 101.72,-231.25\"/>\n</g>\n<!-- 6 -->\n<g id=\"node7\" class=\"node\">\n<title>6</title>\n<text text-anchor=\"middle\" x=\"147\" y=\"-219.8\" font-family=\"Times,serif\" font-size=\"14.00\">l</text>\n</g>\n<!-- 2&#45;&#45;6 -->\n<g id=\"edge6\" class=\"edge\">\n<title>2&#45;&#45;6</title>\n<path fill=\"none\" stroke=\"black\" d=\"M125.75,-277.17C130.63,-265.09 140.67,-240.19 144.97,-229.52\"/>\n</g>\n<!-- 4 -->\n<g id=\"node5\" class=\"node\">\n<title>4</title>\n<text text-anchor=\"middle\" x=\"27\" y=\"-158.3\" font-family=\"Times,serif\" font-size=\"14.00\">*</text>\n</g>\n<!-- 3&#45;&#45;4 -->\n<g id=\"edge4\" class=\"edge\">\n<title>3&#45;&#45;4</title>\n<path fill=\"none\" stroke=\"lightgreen\" d=\"M95.13,-219.3C86.37,-212.06 64.48,-193.97 47.86,-180.24\"/>\n</g>\n<!-- 5 -->\n<g id=\"node6\" class=\"node\">\n<title>5</title>\n</g>\n<!-- 3&#45;&#45;5 -->\n<g id=\"edge5\" class=\"edge\">\n<title>3&#45;&#45;5</title>\n<path fill=\"none\" stroke=\"lightgreen\" d=\"M99,-215.67C99,-207.07 99,-191.96 99,-180.13\"/>\n</g>\n<!-- 7 -->\n<g id=\"node8\" class=\"node\">\n<title>7</title>\n<text text-anchor=\"middle\" x=\"147\" y=\"-158.3\" font-family=\"Times,serif\" font-size=\"14.00\">s</text>\n</g>\n<!-- 6&#45;&#45;7 -->\n<g id=\"edge7\" class=\"edge\">\n<title>6&#45;&#45;7</title>\n<path fill=\"none\" stroke=\"black\" d=\"M147,-215.67C147,-204.2 147,-181.17 147,-169.75\"/>\n</g>\n<!-- 12 -->\n<g id=\"node13\" class=\"node\">\n<title>12</title>\n</g>\n<!-- 6&#45;&#45;12 -->\n<g id=\"edge12\" class=\"edge\">\n<title>6&#45;&#45;12</title>\n<path fill=\"none\" stroke=\"lightgreen\" d=\"M149.06,-219.94C154.52,-213.18 169.69,-194.37 181.12,-180.21\"/>\n</g>\n<!-- 8 -->\n<g id=\"node9\" class=\"node\">\n<title>8</title>\n</g>\n<!-- 7&#45;&#45;8 -->\n<g id=\"edge8\" class=\"edge\">\n<title>7&#45;&#45;8</title>\n<path fill=\"none\" stroke=\"lightgreen\" d=\"M144.6,-154.29C140.84,-143.75 133.42,-122.99 128.11,-108.12\"/>\n</g>\n<!-- 9 -->\n<g id=\"node10\" class=\"node\">\n<title>9</title>\n<text text-anchor=\"middle\" x=\"171\" y=\"-86.3\" font-family=\"Times,serif\" font-size=\"14.00\">o</text>\n</g>\n<!-- 7&#45;&#45;9 -->\n<g id=\"edge9\" class=\"edge\">\n<title>7&#45;&#45;9</title>\n<path fill=\"none\" stroke=\"black\" d=\"M149.3,-154.29C153.9,-140.87 164.18,-110.9 168.74,-97.59\"/>\n</g>\n<!-- 10 -->\n<g id=\"node11\" class=\"node\">\n<title>10</title>\n</g>\n<!-- 9&#45;&#45;10 -->\n<g id=\"edge10\" class=\"edge\">\n<title>9&#45;&#45;10</title>\n<path fill=\"none\" stroke=\"lightgreen\" d=\"M167.55,-82.29C162.13,-71.75 151.45,-50.99 143.8,-36.12\"/>\n</g>\n<!-- 11 -->\n<g id=\"node12\" class=\"node\">\n<title>11</title>\n</g>\n<!-- 9&#45;&#45;11 -->\n<g id=\"edge11\" class=\"edge\">\n<title>9&#45;&#45;11</title>\n<path fill=\"none\" stroke=\"lightgreen\" d=\"M174.45,-82.29C179.87,-71.75 190.55,-50.99 198.2,-36.12\"/>\n</g>\n</g>\n</svg>\n</div></td><td style=\"border-top:hidden;border-bottom:hidden;\"><div align=\"center\" style=\"\"><?xml version=\"1.0\" encoding=\"UTF-8\" standalone=\"no\"?>\n<!DOCTYPE svg PUBLIC \"-//W3C//DTD SVG 1.1//EN\"\n \"http://www.w3.org/Graphics/SVG/1.1/DTD/svg11.dtd\">\n<!-- Generated by graphviz version 2.44.1 (20200629.0846)\n -->\n<!-- Pages: 1 -->\n<svg width=\"147pt\" height=\"239pt\"\n viewBox=\"0.00 0.00 147.00 239.00\" xmlns=\"http://www.w3.org/2000/svg\" xmlns:xlink=\"http://www.w3.org/1999/xlink\">\n<g id=\"graph0\" class=\"graph\" transform=\"scale(1 1) rotate(0) translate(4 235)\">\n<polygon fill=\"white\" stroke=\"transparent\" points=\"-4,4 -4,-235 143,-235 143,4 -4,4\"/>\n<!-- 0 -->\n<g id=\"node1\" class=\"node\">\n<title>0</title>\n<text text-anchor=\"middle\" x=\"75\" y=\"-219.8\" font-family=\"Times,serif\" font-size=\"14.00\">l</text>\n</g>\n<!-- 1 -->\n<g id=\"node2\" class=\"node\">\n<title>1</title>\n<text text-anchor=\"middle\" x=\"51\" y=\"-158.3\" font-family=\"Times,serif\" font-size=\"14.00\">s</text>\n</g>\n<!-- 0&#45;&#45;1 -->\n<g id=\"edge1\" class=\"edge\">\n<title>0&#45;&#45;1</title>\n<path fill=\"none\" stroke=\"black\" d=\"M72.95,-217.43C68.65,-206.75 58.64,-181.94 53.77,-169.86\"/>\n</g>\n<!-- 6 -->\n<g id=\"node7\" class=\"node\">\n<title>6</title>\n</g>\n<!-- 0&#45;&#45;6 -->\n<g id=\"edge6\" class=\"edge\">\n<title>0&#45;&#45;6</title>\n<path fill=\"none\" stroke=\"lightgreen\" d=\"M77.05,-217.43C80.33,-209.28 86.94,-192.9 92.05,-180.23\"/>\n</g>\n<!-- 2 -->\n<g id=\"node3\" class=\"node\">\n<title>2</title>\n</g>\n<!-- 1&#45;&#45;2 -->\n<g id=\"edge2\" class=\"edge\">\n<title>1&#45;&#45;2</title>\n<path fill=\"none\" stroke=\"lightgreen\" d=\"M48.7,-154.29C45.09,-143.75 37.97,-122.99 32.87,-108.12\"/>\n</g>\n<!-- 3 -->\n<g id=\"node4\" class=\"node\">\n<title>3</title>\n<text text-anchor=\"middle\" x=\"76\" y=\"-86.3\" font-family=\"Times,serif\" font-size=\"14.00\">o</text>\n</g>\n<!-- 1&#45;&#45;3 -->\n<g id=\"edge3\" class=\"edge\">\n<title>1&#45;&#45;3</title>\n<path fill=\"none\" stroke=\"black\" d=\"M53.4,-154.29C58.19,-140.87 68.89,-110.9 73.65,-97.59\"/>\n</g>\n<!-- 4 -->\n<g id=\"node5\" class=\"node\">\n<title>4</title>\n</g>\n<!-- 3&#45;&#45;4 -->\n<g id=\"edge4\" class=\"edge\">\n<title>3&#45;&#45;4</title>\n<path fill=\"none\" stroke=\"lightgreen\" d=\"M72.55,-82.29C67.13,-71.75 56.45,-50.99 48.8,-36.12\"/>\n</g>\n<!-- 5 -->\n<g id=\"node6\" class=\"node\">\n<title>5</title>\n</g>\n<!-- 3&#45;&#45;5 -->\n<g id=\"edge5\" class=\"edge\">\n<title>3&#45;&#45;5</title>\n<path fill=\"none\" stroke=\"lightgreen\" d=\"M79.45,-82.29C84.87,-71.75 95.55,-50.99 103.2,-36.12\"/>\n</g>\n</g>\n</svg>\n</div></td></tr></table>"
     },
     "metadata": {},
     "output_type": "display_data"
    },
    {
     "data": {
      "text/plain": "<IPython.core.display.HTML object>",
      "text/html": "<table style=\"border-style: hidden; border-collapse: collapse;\" width=\"100%\"><tr><td style=\"border-top:hidden;border-bottom:hidden;\"><div align=\"center\" style=\"\"><?xml version=\"1.0\" encoding=\"UTF-8\" standalone=\"no\"?>\n<!DOCTYPE svg PUBLIC \"-//W3C//DTD SVG 1.1//EN\"\n \"http://www.w3.org/Graphics/SVG/1.1/DTD/svg11.dtd\">\n<!-- Generated by graphviz version 2.44.1 (20200629.0846)\n -->\n<!-- Pages: 1 -->\n<svg width=\"232pt\" height=\"288pt\"\n viewBox=\"0.00 0.00 231.51 288.00\" xmlns=\"http://www.w3.org/2000/svg\" xmlns:xlink=\"http://www.w3.org/1999/xlink\">\n<g id=\"graph0\" class=\"graph\" transform=\"scale(0.8 0.8) rotate(0) translate(4 358)\">\n<polygon fill=\"white\" stroke=\"transparent\" points=\"-4,4 -4,-358 287,-358 287,4 -4,4\"/>\n<!-- 0 -->\n<g id=\"node1\" class=\"node\">\n<title>0</title>\n<text text-anchor=\"middle\" x=\"134\" y=\"-342.8\" font-family=\"Times,serif\" font-size=\"14.00\">l</text>\n</g>\n<!-- 1 -->\n<g id=\"node2\" class=\"node\">\n<title>1</title>\n<text text-anchor=\"middle\" x=\"110\" y=\"-281.3\" font-family=\"Times,serif\" font-size=\"14.00\">s</text>\n</g>\n<!-- 0&#45;&#45;1 -->\n<g id=\"edge1\" class=\"edge\">\n<title>0&#45;&#45;1</title>\n<path fill=\"none\" stroke=\"black\" d=\"M131.95,-340.43C127.65,-329.75 117.64,-304.94 112.77,-292.86\"/>\n</g>\n<!-- 12 -->\n<g id=\"node13\" class=\"node\">\n<title>12</title>\n</g>\n<!-- 0&#45;&#45;12 -->\n<g id=\"edge12\" class=\"edge\">\n<title>0&#45;&#45;12</title>\n<path fill=\"none\" stroke=\"lightgreen\" d=\"M136.05,-340.43C139.33,-332.28 145.94,-315.9 151.05,-303.23\"/>\n</g>\n<!-- 2 -->\n<g id=\"node3\" class=\"node\">\n<title>2</title>\n</g>\n<!-- 1&#45;&#45;2 -->\n<g id=\"edge2\" class=\"edge\">\n<title>1&#45;&#45;2</title>\n<path fill=\"none\" stroke=\"lightgreen\" d=\"M107.7,-277.29C104.09,-266.75 96.97,-245.99 91.87,-231.12\"/>\n</g>\n<!-- 3 -->\n<g id=\"node4\" class=\"node\">\n<title>3</title>\n<text text-anchor=\"middle\" x=\"135\" y=\"-209.3\" font-family=\"Times,serif\" font-size=\"14.00\">a</text>\n</g>\n<!-- 1&#45;&#45;3 -->\n<g id=\"edge3\" class=\"edge\">\n<title>1&#45;&#45;3</title>\n<path fill=\"none\" stroke=\"black\" d=\"M112.4,-277.29C117.19,-263.87 127.89,-233.9 132.65,-220.59\"/>\n</g>\n<!-- 4 -->\n<g id=\"node5\" class=\"node\">\n<title>4</title>\n<text text-anchor=\"middle\" x=\"99\" y=\"-147.8\" font-family=\"Times,serif\" font-size=\"14.00\">o</text>\n</g>\n<!-- 3&#45;&#45;4 -->\n<g id=\"edge4\" class=\"edge\">\n<title>3&#45;&#45;4</title>\n<path fill=\"none\" stroke=\"black\" d=\"M131.42,-206.08C124.52,-194.67 109.46,-169.78 102.57,-158.4\"/>\n</g>\n<!-- 7 -->\n<g id=\"node8\" class=\"node\">\n<title>7</title>\n<text text-anchor=\"middle\" x=\"171\" y=\"-147.8\" font-family=\"Times,serif\" font-size=\"14.00\">s</text>\n</g>\n<!-- 3&#45;&#45;7 -->\n<g id=\"edge7\" class=\"edge\">\n<title>3&#45;&#45;7</title>\n<path fill=\"none\" stroke=\"black\" d=\"M138.58,-206.08C145.63,-194.44 161.17,-168.75 167.85,-157.71\"/>\n</g>\n<!-- 5 -->\n<g id=\"node6\" class=\"node\">\n<title>5</title>\n<text text-anchor=\"middle\" x=\"27\" y=\"-86.3\" font-family=\"Times,serif\" font-size=\"14.00\">*</text>\n</g>\n<!-- 4&#45;&#45;5 -->\n<g id=\"edge5\" class=\"edge\">\n<title>4&#45;&#45;5</title>\n<path fill=\"none\" stroke=\"lightgreen\" d=\"M95.13,-147.3C86.37,-140.06 64.48,-121.97 47.86,-108.24\"/>\n</g>\n<!-- 6 -->\n<g id=\"node7\" class=\"node\">\n<title>6</title>\n</g>\n<!-- 4&#45;&#45;6 -->\n<g id=\"edge6\" class=\"edge\">\n<title>4&#45;&#45;6</title>\n<path fill=\"none\" stroke=\"lightgreen\" d=\"M99,-143.67C99,-135.07 99,-119.96 99,-108.13\"/>\n</g>\n<!-- 8 -->\n<g id=\"node9\" class=\"node\">\n<title>8</title>\n</g>\n<!-- 7&#45;&#45;8 -->\n<g id=\"edge8\" class=\"edge\">\n<title>7&#45;&#45;8</title>\n<path fill=\"none\" stroke=\"lightgreen\" d=\"M171,-143.67C171,-135.07 171,-119.96 171,-108.13\"/>\n</g>\n<!-- 9 -->\n<g id=\"node10\" class=\"node\">\n<title>9</title>\n<text text-anchor=\"middle\" x=\"220\" y=\"-86.3\" font-family=\"Times,serif\" font-size=\"14.00\">o</text>\n</g>\n<!-- 7&#45;&#45;9 -->\n<g id=\"edge9\" class=\"edge\">\n<title>7&#45;&#45;9</title>\n<path fill=\"none\" stroke=\"black\" d=\"M174.05,-147.02C180.33,-139.83 195.11,-122.76 207,-108 210.26,-103.95 213.84,-99.24 216.42,-95.81\"/>\n</g>\n<!-- 10 -->\n<g id=\"node11\" class=\"node\">\n<title>10</title>\n</g>\n<!-- 9&#45;&#45;10 -->\n<g id=\"edge10\" class=\"edge\">\n<title>9&#45;&#45;10</title>\n<path fill=\"none\" stroke=\"lightgreen\" d=\"M216.55,-82.29C211.13,-71.75 200.45,-50.99 192.8,-36.12\"/>\n</g>\n<!-- 11 -->\n<g id=\"node12\" class=\"node\">\n<title>11</title>\n</g>\n<!-- 9&#45;&#45;11 -->\n<g id=\"edge11\" class=\"edge\">\n<title>9&#45;&#45;11</title>\n<path fill=\"none\" stroke=\"lightgreen\" d=\"M223.45,-82.29C228.87,-71.75 239.55,-50.99 247.2,-36.12\"/>\n</g>\n</g>\n</svg>\n</div></td><td style=\"border-top:hidden;border-bottom:hidden;\"><div align=\"center\" style=\"\"><?xml version=\"1.0\" encoding=\"UTF-8\" standalone=\"no\"?>\n<!DOCTYPE svg PUBLIC \"-//W3C//DTD SVG 1.1//EN\"\n \"http://www.w3.org/Graphics/SVG/1.1/DTD/svg11.dtd\">\n<!-- Generated by graphviz version 2.44.1 (20200629.0846)\n -->\n<!-- Pages: 1 -->\n<svg width=\"147pt\" height=\"239pt\"\n viewBox=\"0.00 0.00 147.00 239.00\" xmlns=\"http://www.w3.org/2000/svg\" xmlns:xlink=\"http://www.w3.org/1999/xlink\">\n<g id=\"graph0\" class=\"graph\" transform=\"scale(1 1) rotate(0) translate(4 235)\">\n<polygon fill=\"white\" stroke=\"transparent\" points=\"-4,4 -4,-235 143,-235 143,4 -4,4\"/>\n<!-- 0 -->\n<g id=\"node1\" class=\"node\">\n<title>0</title>\n<text text-anchor=\"middle\" x=\"75\" y=\"-219.8\" font-family=\"Times,serif\" font-size=\"14.00\">l</text>\n</g>\n<!-- 1 -->\n<g id=\"node2\" class=\"node\">\n<title>1</title>\n<text text-anchor=\"middle\" x=\"51\" y=\"-158.3\" font-family=\"Times,serif\" font-size=\"14.00\">s</text>\n</g>\n<!-- 0&#45;&#45;1 -->\n<g id=\"edge1\" class=\"edge\">\n<title>0&#45;&#45;1</title>\n<path fill=\"none\" stroke=\"black\" d=\"M72.95,-217.43C68.65,-206.75 58.64,-181.94 53.77,-169.86\"/>\n</g>\n<!-- 6 -->\n<g id=\"node7\" class=\"node\">\n<title>6</title>\n</g>\n<!-- 0&#45;&#45;6 -->\n<g id=\"edge6\" class=\"edge\">\n<title>0&#45;&#45;6</title>\n<path fill=\"none\" stroke=\"lightgreen\" d=\"M77.05,-217.43C80.33,-209.28 86.94,-192.9 92.05,-180.23\"/>\n</g>\n<!-- 2 -->\n<g id=\"node3\" class=\"node\">\n<title>2</title>\n</g>\n<!-- 1&#45;&#45;2 -->\n<g id=\"edge2\" class=\"edge\">\n<title>1&#45;&#45;2</title>\n<path fill=\"none\" stroke=\"lightgreen\" d=\"M48.7,-154.29C45.09,-143.75 37.97,-122.99 32.87,-108.12\"/>\n</g>\n<!-- 3 -->\n<g id=\"node4\" class=\"node\">\n<title>3</title>\n<text text-anchor=\"middle\" x=\"76\" y=\"-86.3\" font-family=\"Times,serif\" font-size=\"14.00\">o</text>\n</g>\n<!-- 1&#45;&#45;3 -->\n<g id=\"edge3\" class=\"edge\">\n<title>1&#45;&#45;3</title>\n<path fill=\"none\" stroke=\"black\" d=\"M53.4,-154.29C58.19,-140.87 68.89,-110.9 73.65,-97.59\"/>\n</g>\n<!-- 4 -->\n<g id=\"node5\" class=\"node\">\n<title>4</title>\n</g>\n<!-- 3&#45;&#45;4 -->\n<g id=\"edge4\" class=\"edge\">\n<title>3&#45;&#45;4</title>\n<path fill=\"none\" stroke=\"lightgreen\" d=\"M72.55,-82.29C67.13,-71.75 56.45,-50.99 48.8,-36.12\"/>\n</g>\n<!-- 5 -->\n<g id=\"node6\" class=\"node\">\n<title>5</title>\n</g>\n<!-- 3&#45;&#45;5 -->\n<g id=\"edge5\" class=\"edge\">\n<title>3&#45;&#45;5</title>\n<path fill=\"none\" stroke=\"lightgreen\" d=\"M79.45,-82.29C84.87,-71.75 95.55,-50.99 103.2,-36.12\"/>\n</g>\n</g>\n</svg>\n</div></td></tr></table>"
     },
     "metadata": {},
     "output_type": "display_data"
    },
    {
     "data": {
      "text/plain": "<IPython.core.display.HTML object>",
      "text/html": "<table style=\"border-style: hidden; border-collapse: collapse;\" width=\"100%\"><tr><td style=\"border-top:hidden;border-bottom:hidden;\"><div align=\"center\" style=\"\"><?xml version=\"1.0\" encoding=\"UTF-8\" standalone=\"no\"?>\n<!DOCTYPE svg PUBLIC \"-//W3C//DTD SVG 1.1//EN\"\n \"http://www.w3.org/Graphics/SVG/1.1/DTD/svg11.dtd\">\n<!-- Generated by graphviz version 2.44.1 (20200629.0846)\n -->\n<!-- Pages: 1 -->\n<svg width=\"221pt\" height=\"288pt\"\n viewBox=\"0.00 0.00 221.17 288.00\" xmlns=\"http://www.w3.org/2000/svg\" xmlns:xlink=\"http://www.w3.org/1999/xlink\">\n<g id=\"graph0\" class=\"graph\" transform=\"scale(0.8 0.8) rotate(0) translate(4 358)\">\n<polygon fill=\"white\" stroke=\"transparent\" points=\"-4,4 -4,-358 274,-358 274,4 -4,4\"/>\n<!-- 0 -->\n<g id=\"node1\" class=\"node\">\n<title>0</title>\n<text text-anchor=\"middle\" x=\"110\" y=\"-342.8\" font-family=\"Times,serif\" font-size=\"14.00\">l</text>\n</g>\n<!-- 1 -->\n<g id=\"node2\" class=\"node\">\n<title>1</title>\n<text text-anchor=\"middle\" x=\"86\" y=\"-281.3\" font-family=\"Times,serif\" font-size=\"14.00\">s</text>\n</g>\n<!-- 0&#45;&#45;1 -->\n<g id=\"edge1\" class=\"edge\">\n<title>0&#45;&#45;1</title>\n<path fill=\"none\" stroke=\"black\" d=\"M107.95,-340.43C103.65,-329.75 93.64,-304.94 88.77,-292.86\"/>\n</g>\n<!-- 12 -->\n<g id=\"node13\" class=\"node\">\n<title>12</title>\n</g>\n<!-- 0&#45;&#45;12 -->\n<g id=\"edge12\" class=\"edge\">\n<title>0&#45;&#45;12</title>\n<path fill=\"none\" stroke=\"lightgreen\" d=\"M112.05,-340.43C115.33,-332.28 121.94,-315.9 127.05,-303.23\"/>\n</g>\n<!-- 2 -->\n<g id=\"node3\" class=\"node\">\n<title>2</title>\n</g>\n<!-- 1&#45;&#45;2 -->\n<g id=\"edge2\" class=\"edge\">\n<title>1&#45;&#45;2</title>\n<path fill=\"none\" stroke=\"lightgreen\" d=\"M83.7,-277.29C80.09,-266.75 72.97,-245.99 67.87,-231.12\"/>\n</g>\n<!-- 3 -->\n<g id=\"node4\" class=\"node\">\n<title>3</title>\n<text text-anchor=\"middle\" x=\"110\" y=\"-209.3\" font-family=\"Times,serif\" font-size=\"14.00\">s</text>\n</g>\n<!-- 1&#45;&#45;3 -->\n<g id=\"edge3\" class=\"edge\">\n<title>1&#45;&#45;3</title>\n<path fill=\"none\" stroke=\"black\" d=\"M88.3,-277.29C92.9,-263.87 103.18,-233.9 107.74,-220.59\"/>\n</g>\n<!-- 4 -->\n<g id=\"node5\" class=\"node\">\n<title>4</title>\n</g>\n<!-- 3&#45;&#45;4 -->\n<g id=\"edge4\" class=\"edge\">\n<title>3&#45;&#45;4</title>\n<path fill=\"none\" stroke=\"lightgreen\" d=\"M107.7,-205.29C104.09,-194.75 96.97,-173.99 91.87,-159.12\"/>\n</g>\n<!-- 5 -->\n<g id=\"node6\" class=\"node\">\n<title>5</title>\n<text text-anchor=\"middle\" x=\"135\" y=\"-137.3\" font-family=\"Times,serif\" font-size=\"14.00\">a</text>\n</g>\n<!-- 3&#45;&#45;5 -->\n<g id=\"edge5\" class=\"edge\">\n<title>3&#45;&#45;5</title>\n<path fill=\"none\" stroke=\"black\" d=\"M112.4,-205.29C117.19,-191.87 127.89,-161.9 132.65,-148.59\"/>\n</g>\n<!-- 6 -->\n<g id=\"node7\" class=\"node\">\n<title>6</title>\n<text text-anchor=\"middle\" x=\"99\" y=\"-75.8\" font-family=\"Times,serif\" font-size=\"14.00\">o</text>\n</g>\n<!-- 5&#45;&#45;6 -->\n<g id=\"edge6\" class=\"edge\">\n<title>5&#45;&#45;6</title>\n<path fill=\"none\" stroke=\"black\" d=\"M131.42,-134.08C124.52,-122.67 109.46,-97.78 102.57,-86.4\"/>\n</g>\n<!-- 9 -->\n<g id=\"node10\" class=\"node\">\n<title>9</title>\n<text text-anchor=\"middle\" x=\"171\" y=\"-75.8\" font-family=\"Times,serif\" font-size=\"14.00\">o</text>\n</g>\n<!-- 5&#45;&#45;9 -->\n<g id=\"edge9\" class=\"edge\">\n<title>5&#45;&#45;9</title>\n<path fill=\"none\" stroke=\"black\" d=\"M138.58,-134.08C145.48,-122.67 160.54,-97.78 167.43,-86.4\"/>\n</g>\n<!-- 7 -->\n<g id=\"node8\" class=\"node\">\n<title>7</title>\n<text text-anchor=\"middle\" x=\"27\" y=\"-14.3\" font-family=\"Times,serif\" font-size=\"14.00\">*</text>\n</g>\n<!-- 6&#45;&#45;7 -->\n<g id=\"edge7\" class=\"edge\">\n<title>6&#45;&#45;7</title>\n<path fill=\"none\" stroke=\"lightgreen\" d=\"M95.13,-75.3C86.37,-68.06 64.48,-49.97 47.86,-36.24\"/>\n</g>\n<!-- 8 -->\n<g id=\"node9\" class=\"node\">\n<title>8</title>\n</g>\n<!-- 6&#45;&#45;8 -->\n<g id=\"edge8\" class=\"edge\">\n<title>6&#45;&#45;8</title>\n<path fill=\"none\" stroke=\"lightgreen\" d=\"M99,-71.67C99,-63.07 99,-47.96 99,-36.13\"/>\n</g>\n<!-- 10 -->\n<g id=\"node11\" class=\"node\">\n<title>10</title>\n</g>\n<!-- 9&#45;&#45;10 -->\n<g id=\"edge10\" class=\"edge\">\n<title>9&#45;&#45;10</title>\n<path fill=\"none\" stroke=\"lightgreen\" d=\"M171,-71.67C171,-63.07 171,-47.96 171,-36.13\"/>\n</g>\n<!-- 11 -->\n<g id=\"node12\" class=\"node\">\n<title>11</title>\n</g>\n<!-- 9&#45;&#45;11 -->\n<g id=\"edge11\" class=\"edge\">\n<title>9&#45;&#45;11</title>\n<path fill=\"none\" stroke=\"lightgreen\" d=\"M174.87,-75.3C183.63,-68.06 205.52,-49.97 222.14,-36.24\"/>\n</g>\n</g>\n</svg>\n</div></td><td style=\"border-top:hidden;border-bottom:hidden;\"><div align=\"center\" style=\"\"><?xml version=\"1.0\" encoding=\"UTF-8\" standalone=\"no\"?>\n<!DOCTYPE svg PUBLIC \"-//W3C//DTD SVG 1.1//EN\"\n \"http://www.w3.org/Graphics/SVG/1.1/DTD/svg11.dtd\">\n<!-- Generated by graphviz version 2.44.1 (20200629.0846)\n -->\n<!-- Pages: 1 -->\n<svg width=\"147pt\" height=\"239pt\"\n viewBox=\"0.00 0.00 147.00 239.00\" xmlns=\"http://www.w3.org/2000/svg\" xmlns:xlink=\"http://www.w3.org/1999/xlink\">\n<g id=\"graph0\" class=\"graph\" transform=\"scale(1 1) rotate(0) translate(4 235)\">\n<polygon fill=\"white\" stroke=\"transparent\" points=\"-4,4 -4,-235 143,-235 143,4 -4,4\"/>\n<!-- 0 -->\n<g id=\"node1\" class=\"node\">\n<title>0</title>\n<text text-anchor=\"middle\" x=\"75\" y=\"-219.8\" font-family=\"Times,serif\" font-size=\"14.00\">l</text>\n</g>\n<!-- 1 -->\n<g id=\"node2\" class=\"node\">\n<title>1</title>\n<text text-anchor=\"middle\" x=\"51\" y=\"-158.3\" font-family=\"Times,serif\" font-size=\"14.00\">s</text>\n</g>\n<!-- 0&#45;&#45;1 -->\n<g id=\"edge1\" class=\"edge\">\n<title>0&#45;&#45;1</title>\n<path fill=\"none\" stroke=\"black\" d=\"M72.95,-217.43C68.65,-206.75 58.64,-181.94 53.77,-169.86\"/>\n</g>\n<!-- 6 -->\n<g id=\"node7\" class=\"node\">\n<title>6</title>\n</g>\n<!-- 0&#45;&#45;6 -->\n<g id=\"edge6\" class=\"edge\">\n<title>0&#45;&#45;6</title>\n<path fill=\"none\" stroke=\"lightgreen\" d=\"M77.05,-217.43C80.33,-209.28 86.94,-192.9 92.05,-180.23\"/>\n</g>\n<!-- 2 -->\n<g id=\"node3\" class=\"node\">\n<title>2</title>\n</g>\n<!-- 1&#45;&#45;2 -->\n<g id=\"edge2\" class=\"edge\">\n<title>1&#45;&#45;2</title>\n<path fill=\"none\" stroke=\"lightgreen\" d=\"M48.7,-154.29C45.09,-143.75 37.97,-122.99 32.87,-108.12\"/>\n</g>\n<!-- 3 -->\n<g id=\"node4\" class=\"node\">\n<title>3</title>\n<text text-anchor=\"middle\" x=\"76\" y=\"-86.3\" font-family=\"Times,serif\" font-size=\"14.00\">o</text>\n</g>\n<!-- 1&#45;&#45;3 -->\n<g id=\"edge3\" class=\"edge\">\n<title>1&#45;&#45;3</title>\n<path fill=\"none\" stroke=\"black\" d=\"M53.4,-154.29C58.19,-140.87 68.89,-110.9 73.65,-97.59\"/>\n</g>\n<!-- 4 -->\n<g id=\"node5\" class=\"node\">\n<title>4</title>\n</g>\n<!-- 3&#45;&#45;4 -->\n<g id=\"edge4\" class=\"edge\">\n<title>3&#45;&#45;4</title>\n<path fill=\"none\" stroke=\"lightgreen\" d=\"M72.55,-82.29C67.13,-71.75 56.45,-50.99 48.8,-36.12\"/>\n</g>\n<!-- 5 -->\n<g id=\"node6\" class=\"node\">\n<title>5</title>\n</g>\n<!-- 3&#45;&#45;5 -->\n<g id=\"edge5\" class=\"edge\">\n<title>3&#45;&#45;5</title>\n<path fill=\"none\" stroke=\"lightgreen\" d=\"M79.45,-82.29C84.87,-71.75 95.55,-50.99 103.2,-36.12\"/>\n</g>\n</g>\n</svg>\n</div></td></tr></table>"
     },
     "metadata": {},
     "output_type": "display_data"
    },
    {
     "data": {
      "text/plain": "<IPython.core.display.HTML object>",
      "text/html": "<table style=\"border-style: hidden; border-collapse: collapse;\" width=\"100%\"><tr><td style=\"border-top:hidden;border-bottom:hidden;\"><div align=\"center\" style=\"\"><?xml version=\"1.0\" encoding=\"UTF-8\" standalone=\"no\"?>\n<!DOCTYPE svg PUBLIC \"-//W3C//DTD SVG 1.1//EN\"\n \"http://www.w3.org/Graphics/SVG/1.1/DTD/svg11.dtd\">\n<!-- Generated by graphviz version 2.44.1 (20200629.0846)\n -->\n<!-- Pages: 1 -->\n<svg width=\"288pt\" height=\"255pt\"\n viewBox=\"0.00 0.00 288.00 255.41\" xmlns=\"http://www.w3.org/2000/svg\" xmlns:xlink=\"http://www.w3.org/1999/xlink\">\n<g id=\"graph0\" class=\"graph\" transform=\"scale(0.88 0.88) rotate(0) translate(4 286)\">\n<polygon fill=\"white\" stroke=\"transparent\" points=\"-4,4 -4,-286 323,-286 323,4 -4,4\"/>\n<!-- 0 -->\n<g id=\"node1\" class=\"node\">\n<title>0</title>\n<text text-anchor=\"middle\" x=\"98\" y=\"-270.8\" font-family=\"Times,serif\" font-size=\"14.00\">s</text>\n</g>\n<!-- 1 -->\n<g id=\"node2\" class=\"node\">\n<title>1</title>\n</g>\n<!-- 0&#45;&#45;1 -->\n<g id=\"edge1\" class=\"edge\">\n<title>0&#45;&#45;1</title>\n<path fill=\"none\" stroke=\"lightgreen\" d=\"M95.25,-266.67C91.77,-258.07 85.68,-242.96 80.91,-231.13\"/>\n</g>\n<!-- 2 -->\n<g id=\"node3\" class=\"node\">\n<title>2</title>\n<text text-anchor=\"middle\" x=\"123\" y=\"-209.3\" font-family=\"Times,serif\" font-size=\"14.00\">a</text>\n</g>\n<!-- 0&#45;&#45;2 -->\n<g id=\"edge2\" class=\"edge\">\n<title>0&#45;&#45;2</title>\n<path fill=\"none\" stroke=\"black\" d=\"M100.87,-266.67C105.69,-255.2 115.37,-232.17 120.17,-220.75\"/>\n</g>\n<!-- 3 -->\n<g id=\"node4\" class=\"node\">\n<title>3</title>\n<text text-anchor=\"middle\" x=\"99\" y=\"-147.8\" font-family=\"Times,serif\" font-size=\"14.00\">o</text>\n</g>\n<!-- 2&#45;&#45;3 -->\n<g id=\"edge3\" class=\"edge\">\n<title>2&#45;&#45;3</title>\n<path fill=\"none\" stroke=\"black\" d=\"M120.25,-205.17C115.62,-193.7 106.33,-170.67 101.72,-159.25\"/>\n</g>\n<!-- 6 -->\n<g id=\"node7\" class=\"node\">\n<title>6</title>\n<text text-anchor=\"middle\" x=\"148\" y=\"-147.8\" font-family=\"Times,serif\" font-size=\"14.00\">a</text>\n</g>\n<!-- 2&#45;&#45;6 -->\n<g id=\"edge6\" class=\"edge\">\n<title>2&#45;&#45;6</title>\n<path fill=\"none\" stroke=\"black\" d=\"M125.87,-205.17C130.69,-193.7 140.37,-170.67 145.17,-159.25\"/>\n</g>\n<!-- 4 -->\n<g id=\"node5\" class=\"node\">\n<title>4</title>\n<text text-anchor=\"middle\" x=\"27\" y=\"-86.3\" font-family=\"Times,serif\" font-size=\"14.00\">*</text>\n</g>\n<!-- 3&#45;&#45;4 -->\n<g id=\"edge4\" class=\"edge\">\n<title>3&#45;&#45;4</title>\n<path fill=\"none\" stroke=\"lightgreen\" d=\"M95.13,-147.3C86.37,-140.06 64.48,-121.97 47.86,-108.24\"/>\n</g>\n<!-- 5 -->\n<g id=\"node6\" class=\"node\">\n<title>5</title>\n</g>\n<!-- 3&#45;&#45;5 -->\n<g id=\"edge5\" class=\"edge\">\n<title>3&#45;&#45;5</title>\n<path fill=\"none\" stroke=\"lightgreen\" d=\"M99,-143.67C99,-135.07 99,-119.96 99,-108.13\"/>\n</g>\n<!-- 7 -->\n<g id=\"node8\" class=\"node\">\n<title>7</title>\n<text text-anchor=\"middle\" x=\"148\" y=\"-86.3\" font-family=\"Times,serif\" font-size=\"14.00\">o</text>\n</g>\n<!-- 6&#45;&#45;7 -->\n<g id=\"edge7\" class=\"edge\">\n<title>6&#45;&#45;7</title>\n<path fill=\"none\" stroke=\"black\" d=\"M148,-143.67C148,-132.2 148,-109.17 148,-97.75\"/>\n</g>\n<!-- 10 -->\n<g id=\"node11\" class=\"node\">\n<title>10</title>\n<text text-anchor=\"middle\" x=\"220\" y=\"-86.3\" font-family=\"Times,serif\" font-size=\"14.00\">o</text>\n</g>\n<!-- 6&#45;&#45;10 -->\n<g id=\"edge10\" class=\"edge\">\n<title>6&#45;&#45;10</title>\n<path fill=\"none\" stroke=\"black\" d=\"M151.87,-147.3C164.49,-136.87 204.32,-103.96 216.45,-93.93\"/>\n</g>\n<!-- 8 -->\n<g id=\"node9\" class=\"node\">\n<title>8</title>\n</g>\n<!-- 7&#45;&#45;8 -->\n<g id=\"edge8\" class=\"edge\">\n<title>7&#45;&#45;8</title>\n<path fill=\"none\" stroke=\"lightgreen\" d=\"M144.37,-83.74C141.88,-80.28 138.43,-75.71 135,-72 123.13,-59.16 108.52,-46.01 96.81,-36.03\"/>\n</g>\n<!-- 9 -->\n<g id=\"node10\" class=\"node\">\n<title>9</title>\n</g>\n<!-- 7&#45;&#45;9 -->\n<g id=\"edge9\" class=\"edge\">\n<title>7&#45;&#45;9</title>\n<path fill=\"none\" stroke=\"lightgreen\" d=\"M148,-82.29C148,-71.75 148,-50.99 148,-36.12\"/>\n</g>\n<!-- 11 -->\n<g id=\"node12\" class=\"node\">\n<title>11</title>\n</g>\n<!-- 10&#45;&#45;11 -->\n<g id=\"edge11\" class=\"edge\">\n<title>10&#45;&#45;11</title>\n<path fill=\"none\" stroke=\"lightgreen\" d=\"M220,-82.29C220,-71.75 220,-50.99 220,-36.12\"/>\n</g>\n<!-- 12 -->\n<g id=\"node13\" class=\"node\">\n<title>12</title>\n</g>\n<!-- 10&#45;&#45;12 -->\n<g id=\"edge12\" class=\"edge\">\n<title>10&#45;&#45;12</title>\n<path fill=\"none\" stroke=\"lightgreen\" d=\"M223.87,-85.24C233.22,-76.15 257.49,-52.55 274.39,-36.12\"/>\n</g>\n</g>\n</svg>\n</div></td><td style=\"border-top:hidden;border-bottom:hidden;\"><div align=\"center\" style=\"\"><?xml version=\"1.0\" encoding=\"UTF-8\" standalone=\"no\"?>\n<!DOCTYPE svg PUBLIC \"-//W3C//DTD SVG 1.1//EN\"\n \"http://www.w3.org/Graphics/SVG/1.1/DTD/svg11.dtd\">\n<!-- Generated by graphviz version 2.44.1 (20200629.0846)\n -->\n<!-- Pages: 1 -->\n<svg width=\"278pt\" height=\"146pt\"\n viewBox=\"0.00 0.00 278.00 146.00\" xmlns=\"http://www.w3.org/2000/svg\" xmlns:xlink=\"http://www.w3.org/1999/xlink\">\n<g id=\"graph0\" class=\"graph\" transform=\"scale(1 1) rotate(0) translate(4 142)\">\n<polygon fill=\"white\" stroke=\"transparent\" points=\"-4,4 -4,-142 274,-142 274,4 -4,4\"/>\n<!-- 0 -->\n<g id=\"node1\" class=\"node\">\n<title>0</title>\n<text text-anchor=\"middle\" x=\"135\" y=\"-126.8\" font-family=\"Times,serif\" font-size=\"14.00\">a</text>\n</g>\n<!-- 1 -->\n<g id=\"node2\" class=\"node\">\n<title>1</title>\n<text text-anchor=\"middle\" x=\"99\" y=\"-75.8\" font-family=\"Times,serif\" font-size=\"14.00\">o</text>\n</g>\n<!-- 0&#45;&#45;1 -->\n<g id=\"edge1\" class=\"edge\">\n<title>0&#45;&#45;1</title>\n<path fill=\"none\" stroke=\"black\" d=\"M131.42,-124.62C124.52,-115.23 109.46,-94.73 102.57,-85.36\"/>\n</g>\n<!-- 4 -->\n<g id=\"node5\" class=\"node\">\n<title>4</title>\n<text text-anchor=\"middle\" x=\"171\" y=\"-75.8\" font-family=\"Times,serif\" font-size=\"14.00\">o</text>\n</g>\n<!-- 0&#45;&#45;4 -->\n<g id=\"edge4\" class=\"edge\">\n<title>0&#45;&#45;4</title>\n<path fill=\"none\" stroke=\"black\" d=\"M138.58,-124.62C145.48,-115.23 160.54,-94.73 167.43,-85.36\"/>\n</g>\n<!-- 2 -->\n<g id=\"node3\" class=\"node\">\n<title>2</title>\n</g>\n<!-- 1&#45;&#45;2 -->\n<g id=\"edge2\" class=\"edge\">\n<title>1&#45;&#45;2</title>\n<path fill=\"none\" stroke=\"lightgreen\" d=\"M95.13,-75.3C86.37,-68.06 64.48,-49.97 47.86,-36.24\"/>\n</g>\n<!-- 3 -->\n<g id=\"node4\" class=\"node\">\n<title>3</title>\n</g>\n<!-- 1&#45;&#45;3 -->\n<g id=\"edge3\" class=\"edge\">\n<title>1&#45;&#45;3</title>\n<path fill=\"none\" stroke=\"lightgreen\" d=\"M99,-71.67C99,-63.07 99,-47.96 99,-36.13\"/>\n</g>\n<!-- 5 -->\n<g id=\"node6\" class=\"node\">\n<title>5</title>\n</g>\n<!-- 4&#45;&#45;5 -->\n<g id=\"edge5\" class=\"edge\">\n<title>4&#45;&#45;5</title>\n<path fill=\"none\" stroke=\"lightgreen\" d=\"M171,-71.67C171,-63.07 171,-47.96 171,-36.13\"/>\n</g>\n<!-- 6 -->\n<g id=\"node7\" class=\"node\">\n<title>6</title>\n</g>\n<!-- 4&#45;&#45;6 -->\n<g id=\"edge6\" class=\"edge\">\n<title>4&#45;&#45;6</title>\n<path fill=\"none\" stroke=\"lightgreen\" d=\"M174.87,-75.3C183.63,-68.06 205.52,-49.97 222.14,-36.24\"/>\n</g>\n</g>\n</svg>\n</div></td></tr></table>"
     },
     "metadata": {},
     "output_type": "display_data"
    },
    {
     "data": {
      "text/plain": "<IPython.core.display.HTML object>",
      "text/html": "<table style=\"border-style: hidden; border-collapse: collapse;\" width=\"100%\"><tr><td style=\"border-top:hidden;border-bottom:hidden;\"><div align=\"center\" style=\"\"><?xml version=\"1.0\" encoding=\"UTF-8\" standalone=\"no\"?>\n<!DOCTYPE svg PUBLIC \"-//W3C//DTD SVG 1.1//EN\"\n \"http://www.w3.org/Graphics/SVG/1.1/DTD/svg11.dtd\">\n<!-- Generated by graphviz version 2.44.1 (20200629.0846)\n -->\n<!-- Pages: 1 -->\n<svg width=\"288pt\" height=\"266pt\"\n viewBox=\"0.00 0.00 288.00 266.23\" xmlns=\"http://www.w3.org/2000/svg\" xmlns:xlink=\"http://www.w3.org/1999/xlink\">\n<g id=\"graph0\" class=\"graph\" transform=\"scale(0.99 0.99) rotate(0) translate(4 265)\">\n<polygon fill=\"white\" stroke=\"transparent\" points=\"-4,4 -4,-265 287,-265 287,4 -4,4\"/>\n<!-- 0 -->\n<g id=\"node1\" class=\"node\">\n<title>0</title>\n<text text-anchor=\"middle\" x=\"159\" y=\"-249.8\" font-family=\"Times,serif\" font-size=\"14.00\">a</text>\n</g>\n<!-- 1 -->\n<g id=\"node2\" class=\"node\">\n<title>1</title>\n<text text-anchor=\"middle\" x=\"135\" y=\"-198.8\" font-family=\"Times,serif\" font-size=\"14.00\">s</text>\n</g>\n<!-- 0&#45;&#45;1 -->\n<g id=\"edge1\" class=\"edge\">\n<title>0&#45;&#45;1</title>\n<path fill=\"none\" stroke=\"black\" d=\"M155.66,-245.69C150.97,-236.11 142.51,-218.83 138.01,-209.64\"/>\n</g>\n<!-- 10 -->\n<g id=\"node11\" class=\"node\">\n<title>10</title>\n<text text-anchor=\"middle\" x=\"184\" y=\"-198.8\" font-family=\"Times,serif\" font-size=\"14.00\">o</text>\n</g>\n<!-- 0&#45;&#45;10 -->\n<g id=\"edge10\" class=\"edge\">\n<title>0&#45;&#45;10</title>\n<path fill=\"none\" stroke=\"black\" d=\"M162.48,-245.69C167.25,-236.33 175.79,-219.59 180.55,-210.26\"/>\n</g>\n<!-- 2 -->\n<g id=\"node3\" class=\"node\">\n<title>2</title>\n</g>\n<!-- 1&#45;&#45;2 -->\n<g id=\"edge2\" class=\"edge\">\n<title>1&#45;&#45;2</title>\n<path fill=\"none\" stroke=\"lightgreen\" d=\"M131.78,-197.6C125.48,-189.94 111.16,-172.56 100.21,-159.25\"/>\n</g>\n<!-- 3 -->\n<g id=\"node4\" class=\"node\">\n<title>3</title>\n<text text-anchor=\"middle\" x=\"135\" y=\"-137.3\" font-family=\"Times,serif\" font-size=\"14.00\">a</text>\n</g>\n<!-- 1&#45;&#45;3 -->\n<g id=\"edge3\" class=\"edge\">\n<title>1&#45;&#45;3</title>\n<path fill=\"none\" stroke=\"black\" d=\"M135,-194.67C135,-183.2 135,-160.17 135,-148.75\"/>\n</g>\n<!-- 4 -->\n<g id=\"node5\" class=\"node\">\n<title>4</title>\n<text text-anchor=\"middle\" x=\"99\" y=\"-75.8\" font-family=\"Times,serif\" font-size=\"14.00\">o</text>\n</g>\n<!-- 3&#45;&#45;4 -->\n<g id=\"edge4\" class=\"edge\">\n<title>3&#45;&#45;4</title>\n<path fill=\"none\" stroke=\"black\" d=\"M131.42,-134.08C124.52,-122.67 109.46,-97.78 102.57,-86.4\"/>\n</g>\n<!-- 7 -->\n<g id=\"node8\" class=\"node\">\n<title>7</title>\n<text text-anchor=\"middle\" x=\"171\" y=\"-75.8\" font-family=\"Times,serif\" font-size=\"14.00\">o</text>\n</g>\n<!-- 3&#45;&#45;7 -->\n<g id=\"edge7\" class=\"edge\">\n<title>3&#45;&#45;7</title>\n<path fill=\"none\" stroke=\"black\" d=\"M138.58,-134.08C145.48,-122.67 160.54,-97.78 167.43,-86.4\"/>\n</g>\n<!-- 5 -->\n<g id=\"node6\" class=\"node\">\n<title>5</title>\n<text text-anchor=\"middle\" x=\"27\" y=\"-14.3\" font-family=\"Times,serif\" font-size=\"14.00\">*</text>\n</g>\n<!-- 4&#45;&#45;5 -->\n<g id=\"edge5\" class=\"edge\">\n<title>4&#45;&#45;5</title>\n<path fill=\"none\" stroke=\"lightgreen\" d=\"M95.13,-75.3C86.37,-68.06 64.48,-49.97 47.86,-36.24\"/>\n</g>\n<!-- 6 -->\n<g id=\"node7\" class=\"node\">\n<title>6</title>\n</g>\n<!-- 4&#45;&#45;6 -->\n<g id=\"edge6\" class=\"edge\">\n<title>4&#45;&#45;6</title>\n<path fill=\"none\" stroke=\"lightgreen\" d=\"M99,-71.67C99,-63.07 99,-47.96 99,-36.13\"/>\n</g>\n<!-- 8 -->\n<g id=\"node9\" class=\"node\">\n<title>8</title>\n</g>\n<!-- 7&#45;&#45;8 -->\n<g id=\"edge8\" class=\"edge\">\n<title>7&#45;&#45;8</title>\n<path fill=\"none\" stroke=\"lightgreen\" d=\"M171,-71.67C171,-63.07 171,-47.96 171,-36.13\"/>\n</g>\n<!-- 9 -->\n<g id=\"node10\" class=\"node\">\n<title>9</title>\n</g>\n<!-- 7&#45;&#45;9 -->\n<g id=\"edge9\" class=\"edge\">\n<title>7&#45;&#45;9</title>\n<path fill=\"none\" stroke=\"lightgreen\" d=\"M174.87,-75.3C183.63,-68.06 205.52,-49.97 222.14,-36.24\"/>\n</g>\n<!-- 11 -->\n<g id=\"node12\" class=\"node\">\n<title>11</title>\n</g>\n<!-- 10&#45;&#45;11 -->\n<g id=\"edge11\" class=\"edge\">\n<title>10&#45;&#45;11</title>\n<path fill=\"none\" stroke=\"lightgreen\" d=\"M184,-194.67C184,-186.07 184,-170.96 184,-159.13\"/>\n</g>\n<!-- 12 -->\n<g id=\"node13\" class=\"node\">\n<title>12</title>\n</g>\n<!-- 10&#45;&#45;12 -->\n<g id=\"edge12\" class=\"edge\">\n<title>10&#45;&#45;12</title>\n<path fill=\"none\" stroke=\"lightgreen\" d=\"M187.87,-198.3C196.63,-191.06 218.52,-172.97 235.14,-159.24\"/>\n</g>\n</g>\n</svg>\n</div></td><td style=\"border-top:hidden;border-bottom:hidden;\"><div align=\"center\" style=\"\"><?xml version=\"1.0\" encoding=\"UTF-8\" standalone=\"no\"?>\n<!DOCTYPE svg PUBLIC \"-//W3C//DTD SVG 1.1//EN\"\n \"http://www.w3.org/Graphics/SVG/1.1/DTD/svg11.dtd\">\n<!-- Generated by graphviz version 2.44.1 (20200629.0846)\n -->\n<!-- Pages: 1 -->\n<svg width=\"278pt\" height=\"146pt\"\n viewBox=\"0.00 0.00 278.00 146.00\" xmlns=\"http://www.w3.org/2000/svg\" xmlns:xlink=\"http://www.w3.org/1999/xlink\">\n<g id=\"graph0\" class=\"graph\" transform=\"scale(1 1) rotate(0) translate(4 142)\">\n<polygon fill=\"white\" stroke=\"transparent\" points=\"-4,4 -4,-142 274,-142 274,4 -4,4\"/>\n<!-- 0 -->\n<g id=\"node1\" class=\"node\">\n<title>0</title>\n<text text-anchor=\"middle\" x=\"135\" y=\"-126.8\" font-family=\"Times,serif\" font-size=\"14.00\">a</text>\n</g>\n<!-- 1 -->\n<g id=\"node2\" class=\"node\">\n<title>1</title>\n<text text-anchor=\"middle\" x=\"99\" y=\"-75.8\" font-family=\"Times,serif\" font-size=\"14.00\">o</text>\n</g>\n<!-- 0&#45;&#45;1 -->\n<g id=\"edge1\" class=\"edge\">\n<title>0&#45;&#45;1</title>\n<path fill=\"none\" stroke=\"black\" d=\"M131.42,-124.62C124.52,-115.23 109.46,-94.73 102.57,-85.36\"/>\n</g>\n<!-- 4 -->\n<g id=\"node5\" class=\"node\">\n<title>4</title>\n<text text-anchor=\"middle\" x=\"171\" y=\"-75.8\" font-family=\"Times,serif\" font-size=\"14.00\">o</text>\n</g>\n<!-- 0&#45;&#45;4 -->\n<g id=\"edge4\" class=\"edge\">\n<title>0&#45;&#45;4</title>\n<path fill=\"none\" stroke=\"black\" d=\"M138.58,-124.62C145.48,-115.23 160.54,-94.73 167.43,-85.36\"/>\n</g>\n<!-- 2 -->\n<g id=\"node3\" class=\"node\">\n<title>2</title>\n</g>\n<!-- 1&#45;&#45;2 -->\n<g id=\"edge2\" class=\"edge\">\n<title>1&#45;&#45;2</title>\n<path fill=\"none\" stroke=\"lightgreen\" d=\"M95.13,-75.3C86.37,-68.06 64.48,-49.97 47.86,-36.24\"/>\n</g>\n<!-- 3 -->\n<g id=\"node4\" class=\"node\">\n<title>3</title>\n</g>\n<!-- 1&#45;&#45;3 -->\n<g id=\"edge3\" class=\"edge\">\n<title>1&#45;&#45;3</title>\n<path fill=\"none\" stroke=\"lightgreen\" d=\"M99,-71.67C99,-63.07 99,-47.96 99,-36.13\"/>\n</g>\n<!-- 5 -->\n<g id=\"node6\" class=\"node\">\n<title>5</title>\n</g>\n<!-- 4&#45;&#45;5 -->\n<g id=\"edge5\" class=\"edge\">\n<title>4&#45;&#45;5</title>\n<path fill=\"none\" stroke=\"lightgreen\" d=\"M171,-71.67C171,-63.07 171,-47.96 171,-36.13\"/>\n</g>\n<!-- 6 -->\n<g id=\"node7\" class=\"node\">\n<title>6</title>\n</g>\n<!-- 4&#45;&#45;6 -->\n<g id=\"edge6\" class=\"edge\">\n<title>4&#45;&#45;6</title>\n<path fill=\"none\" stroke=\"lightgreen\" d=\"M174.87,-75.3C183.63,-68.06 205.52,-49.97 222.14,-36.24\"/>\n</g>\n</g>\n</svg>\n</div></td></tr></table>"
     },
     "metadata": {},
     "output_type": "display_data"
    },
    {
     "data": {
      "text/plain": "<IPython.core.display.HTML object>",
      "text/html": "<table style=\"border-style: hidden; border-collapse: collapse;\" width=\"100%\"><tr><td style=\"border-top:hidden;border-bottom:hidden;\"><div align=\"center\" style=\"\"><?xml version=\"1.0\" encoding=\"UTF-8\" standalone=\"no\"?>\n<!DOCTYPE svg PUBLIC \"-//W3C//DTD SVG 1.1//EN\"\n \"http://www.w3.org/Graphics/SVG/1.1/DTD/svg11.dtd\">\n<!-- Generated by graphviz version 2.44.1 (20200629.0846)\n -->\n<!-- Pages: 1 -->\n<svg width=\"288pt\" height=\"213pt\"\n viewBox=\"0.00 0.00 288.00 213.42\" xmlns=\"http://www.w3.org/2000/svg\" xmlns:xlink=\"http://www.w3.org/1999/xlink\">\n<g id=\"graph0\" class=\"graph\" transform=\"scale(0.79 0.79) rotate(0) translate(4 265)\">\n<polygon fill=\"white\" stroke=\"transparent\" points=\"-4,4 -4,-265 359,-265 359,4 -4,4\"/>\n<!-- 0 -->\n<g id=\"node1\" class=\"node\">\n<title>0</title>\n<text text-anchor=\"middle\" x=\"135\" y=\"-249.8\" font-family=\"Times,serif\" font-size=\"14.00\">a</text>\n</g>\n<!-- 1 -->\n<g id=\"node2\" class=\"node\">\n<title>1</title>\n<text text-anchor=\"middle\" x=\"99\" y=\"-198.8\" font-family=\"Times,serif\" font-size=\"14.00\">o</text>\n</g>\n<!-- 0&#45;&#45;1 -->\n<g id=\"edge1\" class=\"edge\">\n<title>0&#45;&#45;1</title>\n<path fill=\"none\" stroke=\"black\" d=\"M131.42,-247.62C124.52,-238.23 109.46,-217.73 102.57,-208.36\"/>\n</g>\n<!-- 4 -->\n<g id=\"node5\" class=\"node\">\n<title>4</title>\n<text text-anchor=\"middle\" x=\"171\" y=\"-198.8\" font-family=\"Times,serif\" font-size=\"14.00\">s</text>\n</g>\n<!-- 0&#45;&#45;4 -->\n<g id=\"edge4\" class=\"edge\">\n<title>0&#45;&#45;4</title>\n<path fill=\"none\" stroke=\"black\" d=\"M138.58,-247.62C145.63,-238.04 161.17,-216.88 167.85,-207.79\"/>\n</g>\n<!-- 2 -->\n<g id=\"node3\" class=\"node\">\n<title>2</title>\n</g>\n<!-- 1&#45;&#45;2 -->\n<g id=\"edge2\" class=\"edge\">\n<title>1&#45;&#45;2</title>\n<path fill=\"none\" stroke=\"lightgreen\" d=\"M95.13,-198.3C86.37,-191.06 64.48,-172.97 47.86,-159.24\"/>\n</g>\n<!-- 3 -->\n<g id=\"node4\" class=\"node\">\n<title>3</title>\n</g>\n<!-- 1&#45;&#45;3 -->\n<g id=\"edge3\" class=\"edge\">\n<title>1&#45;&#45;3</title>\n<path fill=\"none\" stroke=\"lightgreen\" d=\"M99,-194.67C99,-186.07 99,-170.96 99,-159.13\"/>\n</g>\n<!-- 5 -->\n<g id=\"node6\" class=\"node\">\n<title>5</title>\n</g>\n<!-- 4&#45;&#45;5 -->\n<g id=\"edge5\" class=\"edge\">\n<title>4&#45;&#45;5</title>\n<path fill=\"none\" stroke=\"lightgreen\" d=\"M171,-194.67C171,-186.07 171,-170.96 171,-159.13\"/>\n</g>\n<!-- 6 -->\n<g id=\"node7\" class=\"node\">\n<title>6</title>\n<text text-anchor=\"middle\" x=\"220\" y=\"-137.3\" font-family=\"Times,serif\" font-size=\"14.00\">a</text>\n</g>\n<!-- 4&#45;&#45;6 -->\n<g id=\"edge6\" class=\"edge\">\n<title>4&#45;&#45;6</title>\n<path fill=\"none\" stroke=\"black\" d=\"M174.05,-198.02C180.33,-190.83 195.11,-173.76 207,-159 210.26,-154.95 213.84,-150.24 216.42,-146.81\"/>\n</g>\n<!-- 7 -->\n<g id=\"node8\" class=\"node\">\n<title>7</title>\n<text text-anchor=\"middle\" x=\"184\" y=\"-75.8\" font-family=\"Times,serif\" font-size=\"14.00\">o</text>\n</g>\n<!-- 6&#45;&#45;7 -->\n<g id=\"edge7\" class=\"edge\">\n<title>6&#45;&#45;7</title>\n<path fill=\"none\" stroke=\"black\" d=\"M216.42,-134.08C209.52,-122.67 194.46,-97.78 187.57,-86.4\"/>\n</g>\n<!-- 10 -->\n<g id=\"node11\" class=\"node\">\n<title>10</title>\n<text text-anchor=\"middle\" x=\"256\" y=\"-75.8\" font-family=\"Times,serif\" font-size=\"14.00\">o</text>\n</g>\n<!-- 6&#45;&#45;10 -->\n<g id=\"edge10\" class=\"edge\">\n<title>6&#45;&#45;10</title>\n<path fill=\"none\" stroke=\"black\" d=\"M223.58,-134.08C230.48,-122.67 245.54,-97.78 252.43,-86.4\"/>\n</g>\n<!-- 8 -->\n<g id=\"node9\" class=\"node\">\n<title>8</title>\n<text text-anchor=\"middle\" x=\"112\" y=\"-14.3\" font-family=\"Times,serif\" font-size=\"14.00\">*</text>\n</g>\n<!-- 7&#45;&#45;8 -->\n<g id=\"edge8\" class=\"edge\">\n<title>7&#45;&#45;8</title>\n<path fill=\"none\" stroke=\"lightgreen\" d=\"M180.13,-75.3C171.37,-68.06 149.48,-49.97 132.86,-36.24\"/>\n</g>\n<!-- 9 -->\n<g id=\"node10\" class=\"node\">\n<title>9</title>\n</g>\n<!-- 7&#45;&#45;9 -->\n<g id=\"edge9\" class=\"edge\">\n<title>7&#45;&#45;9</title>\n<path fill=\"none\" stroke=\"lightgreen\" d=\"M184,-71.67C184,-63.07 184,-47.96 184,-36.13\"/>\n</g>\n<!-- 11 -->\n<g id=\"node12\" class=\"node\">\n<title>11</title>\n</g>\n<!-- 10&#45;&#45;11 -->\n<g id=\"edge11\" class=\"edge\">\n<title>10&#45;&#45;11</title>\n<path fill=\"none\" stroke=\"lightgreen\" d=\"M256,-71.67C256,-63.07 256,-47.96 256,-36.13\"/>\n</g>\n<!-- 12 -->\n<g id=\"node13\" class=\"node\">\n<title>12</title>\n</g>\n<!-- 10&#45;&#45;12 -->\n<g id=\"edge12\" class=\"edge\">\n<title>10&#45;&#45;12</title>\n<path fill=\"none\" stroke=\"lightgreen\" d=\"M259.87,-75.3C268.63,-68.06 290.52,-49.97 307.14,-36.24\"/>\n</g>\n</g>\n</svg>\n</div></td><td style=\"border-top:hidden;border-bottom:hidden;\"><div align=\"center\" style=\"\"><?xml version=\"1.0\" encoding=\"UTF-8\" standalone=\"no\"?>\n<!DOCTYPE svg PUBLIC \"-//W3C//DTD SVG 1.1//EN\"\n \"http://www.w3.org/Graphics/SVG/1.1/DTD/svg11.dtd\">\n<!-- Generated by graphviz version 2.44.1 (20200629.0846)\n -->\n<!-- Pages: 1 -->\n<svg width=\"278pt\" height=\"146pt\"\n viewBox=\"0.00 0.00 278.00 146.00\" xmlns=\"http://www.w3.org/2000/svg\" xmlns:xlink=\"http://www.w3.org/1999/xlink\">\n<g id=\"graph0\" class=\"graph\" transform=\"scale(1 1) rotate(0) translate(4 142)\">\n<polygon fill=\"white\" stroke=\"transparent\" points=\"-4,4 -4,-142 274,-142 274,4 -4,4\"/>\n<!-- 0 -->\n<g id=\"node1\" class=\"node\">\n<title>0</title>\n<text text-anchor=\"middle\" x=\"135\" y=\"-126.8\" font-family=\"Times,serif\" font-size=\"14.00\">a</text>\n</g>\n<!-- 1 -->\n<g id=\"node2\" class=\"node\">\n<title>1</title>\n<text text-anchor=\"middle\" x=\"99\" y=\"-75.8\" font-family=\"Times,serif\" font-size=\"14.00\">o</text>\n</g>\n<!-- 0&#45;&#45;1 -->\n<g id=\"edge1\" class=\"edge\">\n<title>0&#45;&#45;1</title>\n<path fill=\"none\" stroke=\"black\" d=\"M131.42,-124.62C124.52,-115.23 109.46,-94.73 102.57,-85.36\"/>\n</g>\n<!-- 4 -->\n<g id=\"node5\" class=\"node\">\n<title>4</title>\n<text text-anchor=\"middle\" x=\"171\" y=\"-75.8\" font-family=\"Times,serif\" font-size=\"14.00\">o</text>\n</g>\n<!-- 0&#45;&#45;4 -->\n<g id=\"edge4\" class=\"edge\">\n<title>0&#45;&#45;4</title>\n<path fill=\"none\" stroke=\"black\" d=\"M138.58,-124.62C145.48,-115.23 160.54,-94.73 167.43,-85.36\"/>\n</g>\n<!-- 2 -->\n<g id=\"node3\" class=\"node\">\n<title>2</title>\n</g>\n<!-- 1&#45;&#45;2 -->\n<g id=\"edge2\" class=\"edge\">\n<title>1&#45;&#45;2</title>\n<path fill=\"none\" stroke=\"lightgreen\" d=\"M95.13,-75.3C86.37,-68.06 64.48,-49.97 47.86,-36.24\"/>\n</g>\n<!-- 3 -->\n<g id=\"node4\" class=\"node\">\n<title>3</title>\n</g>\n<!-- 1&#45;&#45;3 -->\n<g id=\"edge3\" class=\"edge\">\n<title>1&#45;&#45;3</title>\n<path fill=\"none\" stroke=\"lightgreen\" d=\"M99,-71.67C99,-63.07 99,-47.96 99,-36.13\"/>\n</g>\n<!-- 5 -->\n<g id=\"node6\" class=\"node\">\n<title>5</title>\n</g>\n<!-- 4&#45;&#45;5 -->\n<g id=\"edge5\" class=\"edge\">\n<title>4&#45;&#45;5</title>\n<path fill=\"none\" stroke=\"lightgreen\" d=\"M171,-71.67C171,-63.07 171,-47.96 171,-36.13\"/>\n</g>\n<!-- 6 -->\n<g id=\"node7\" class=\"node\">\n<title>6</title>\n</g>\n<!-- 4&#45;&#45;6 -->\n<g id=\"edge6\" class=\"edge\">\n<title>4&#45;&#45;6</title>\n<path fill=\"none\" stroke=\"lightgreen\" d=\"M174.87,-75.3C183.63,-68.06 205.52,-49.97 222.14,-36.24\"/>\n</g>\n</g>\n</svg>\n</div></td></tr></table>"
     },
     "metadata": {},
     "output_type": "display_data"
    },
    {
     "data": {
      "text/plain": "<IPython.core.display.HTML object>",
      "text/html": "<table style=\"border-style: hidden; border-collapse: collapse;\" width=\"100%\"><tr><td style=\"border-top:hidden;border-bottom:hidden;\"><div align=\"center\" style=\"\"><?xml version=\"1.0\" encoding=\"UTF-8\" standalone=\"no\"?>\n<!DOCTYPE svg PUBLIC \"-//W3C//DTD SVG 1.1//EN\"\n \"http://www.w3.org/Graphics/SVG/1.1/DTD/svg11.dtd\">\n<!-- Generated by graphviz version 2.44.1 (20200629.0846)\n -->\n<!-- Pages: 1 -->\n<svg width=\"250pt\" height=\"288pt\"\n viewBox=\"0.00 0.00 249.81 288.00\" xmlns=\"http://www.w3.org/2000/svg\" xmlns:xlink=\"http://www.w3.org/1999/xlink\">\n<g id=\"graph0\" class=\"graph\" transform=\"scale(0.8 0.8) rotate(0) translate(4 358)\">\n<polygon fill=\"white\" stroke=\"transparent\" points=\"-4,4 -4,-358 310,-358 310,4 -4,4\"/>\n<!-- 0 -->\n<g id=\"node1\" class=\"node\">\n<title>0</title>\n<text text-anchor=\"middle\" x=\"110\" y=\"-342.8\" font-family=\"Times,serif\" font-size=\"14.00\">s</text>\n</g>\n<!-- 1 -->\n<g id=\"node2\" class=\"node\">\n<title>1</title>\n</g>\n<!-- 0&#45;&#45;1 -->\n<g id=\"edge1\" class=\"edge\">\n<title>0&#45;&#45;1</title>\n<path fill=\"none\" stroke=\"lightgreen\" d=\"M107.25,-338.67C103.77,-330.07 97.68,-314.96 92.91,-303.13\"/>\n</g>\n<!-- 2 -->\n<g id=\"node3\" class=\"node\">\n<title>2</title>\n<text text-anchor=\"middle\" x=\"135\" y=\"-281.3\" font-family=\"Times,serif\" font-size=\"14.00\">a</text>\n</g>\n<!-- 0&#45;&#45;2 -->\n<g id=\"edge2\" class=\"edge\">\n<title>0&#45;&#45;2</title>\n<path fill=\"none\" stroke=\"black\" d=\"M112.87,-338.67C117.69,-327.2 127.37,-304.17 132.17,-292.75\"/>\n</g>\n<!-- 3 -->\n<g id=\"node4\" class=\"node\">\n<title>3</title>\n<text text-anchor=\"middle\" x=\"99\" y=\"-219.8\" font-family=\"Times,serif\" font-size=\"14.00\">o</text>\n</g>\n<!-- 2&#45;&#45;3 -->\n<g id=\"edge3\" class=\"edge\">\n<title>2&#45;&#45;3</title>\n<path fill=\"none\" stroke=\"black\" d=\"M131.42,-278.08C124.52,-266.67 109.46,-241.78 102.57,-230.4\"/>\n</g>\n<!-- 6 -->\n<g id=\"node7\" class=\"node\">\n<title>6</title>\n<text text-anchor=\"middle\" x=\"171\" y=\"-219.8\" font-family=\"Times,serif\" font-size=\"14.00\">s</text>\n</g>\n<!-- 2&#45;&#45;6 -->\n<g id=\"edge6\" class=\"edge\">\n<title>2&#45;&#45;6</title>\n<path fill=\"none\" stroke=\"black\" d=\"M138.58,-278.08C145.63,-266.44 161.17,-240.75 167.85,-229.71\"/>\n</g>\n<!-- 4 -->\n<g id=\"node5\" class=\"node\">\n<title>4</title>\n<text text-anchor=\"middle\" x=\"27\" y=\"-158.3\" font-family=\"Times,serif\" font-size=\"14.00\">*</text>\n</g>\n<!-- 3&#45;&#45;4 -->\n<g id=\"edge4\" class=\"edge\">\n<title>3&#45;&#45;4</title>\n<path fill=\"none\" stroke=\"lightgreen\" d=\"M95.13,-219.3C86.37,-212.06 64.48,-193.97 47.86,-180.24\"/>\n</g>\n<!-- 5 -->\n<g id=\"node6\" class=\"node\">\n<title>5</title>\n</g>\n<!-- 3&#45;&#45;5 -->\n<g id=\"edge5\" class=\"edge\">\n<title>3&#45;&#45;5</title>\n<path fill=\"none\" stroke=\"lightgreen\" d=\"M99,-215.67C99,-207.07 99,-191.96 99,-180.13\"/>\n</g>\n<!-- 7 -->\n<g id=\"node8\" class=\"node\">\n<title>7</title>\n</g>\n<!-- 6&#45;&#45;7 -->\n<g id=\"edge7\" class=\"edge\">\n<title>6&#45;&#45;7</title>\n<path fill=\"none\" stroke=\"lightgreen\" d=\"M171,-215.67C171,-207.07 171,-191.96 171,-180.13\"/>\n</g>\n<!-- 8 -->\n<g id=\"node9\" class=\"node\">\n<title>8</title>\n<text text-anchor=\"middle\" x=\"219\" y=\"-158.3\" font-family=\"Times,serif\" font-size=\"14.00\">s</text>\n</g>\n<!-- 6&#45;&#45;8 -->\n<g id=\"edge8\" class=\"edge\">\n<title>6&#45;&#45;8</title>\n<path fill=\"none\" stroke=\"black\" d=\"M174.09,-219.06C180.46,-211.94 195.4,-194.99 207,-180 210.18,-175.89 213.58,-171.02 215.95,-167.55\"/>\n</g>\n<!-- 9 -->\n<g id=\"node10\" class=\"node\">\n<title>9</title>\n</g>\n<!-- 8&#45;&#45;9 -->\n<g id=\"edge9\" class=\"edge\">\n<title>8&#45;&#45;9</title>\n<path fill=\"none\" stroke=\"lightgreen\" d=\"M216.6,-154.29C212.84,-143.75 205.42,-122.99 200.11,-108.12\"/>\n</g>\n<!-- 10 -->\n<g id=\"node11\" class=\"node\">\n<title>10</title>\n<text text-anchor=\"middle\" x=\"243\" y=\"-86.3\" font-family=\"Times,serif\" font-size=\"14.00\">o</text>\n</g>\n<!-- 8&#45;&#45;10 -->\n<g id=\"edge10\" class=\"edge\">\n<title>8&#45;&#45;10</title>\n<path fill=\"none\" stroke=\"black\" d=\"M221.3,-154.29C225.9,-140.87 236.18,-110.9 240.74,-97.59\"/>\n</g>\n<!-- 11 -->\n<g id=\"node12\" class=\"node\">\n<title>11</title>\n</g>\n<!-- 10&#45;&#45;11 -->\n<g id=\"edge11\" class=\"edge\">\n<title>10&#45;&#45;11</title>\n<path fill=\"none\" stroke=\"lightgreen\" d=\"M239.55,-82.29C234.13,-71.75 223.45,-50.99 215.8,-36.12\"/>\n</g>\n<!-- 12 -->\n<g id=\"node13\" class=\"node\">\n<title>12</title>\n</g>\n<!-- 10&#45;&#45;12 -->\n<g id=\"edge12\" class=\"edge\">\n<title>10&#45;&#45;12</title>\n<path fill=\"none\" stroke=\"lightgreen\" d=\"M246.45,-82.29C251.87,-71.75 262.55,-50.99 270.2,-36.12\"/>\n</g>\n</g>\n</svg>\n</div></td><td style=\"border-top:hidden;border-bottom:hidden;\"><div align=\"center\" style=\"\"><?xml version=\"1.0\" encoding=\"UTF-8\" standalone=\"no\"?>\n<!DOCTYPE svg PUBLIC \"-//W3C//DTD SVG 1.1//EN\"\n \"http://www.w3.org/Graphics/SVG/1.1/DTD/svg11.dtd\">\n<!-- Generated by graphviz version 2.44.1 (20200629.0846)\n -->\n<!-- Pages: 1 -->\n<svg width=\"170pt\" height=\"239pt\"\n viewBox=\"0.00 0.00 170.00 239.00\" xmlns=\"http://www.w3.org/2000/svg\" xmlns:xlink=\"http://www.w3.org/1999/xlink\">\n<g id=\"graph0\" class=\"graph\" transform=\"scale(1 1) rotate(0) translate(4 235)\">\n<polygon fill=\"white\" stroke=\"transparent\" points=\"-4,4 -4,-235 166,-235 166,4 -4,4\"/>\n<!-- 0 -->\n<g id=\"node1\" class=\"node\">\n<title>0</title>\n<text text-anchor=\"middle\" x=\"51\" y=\"-219.8\" font-family=\"Times,serif\" font-size=\"14.00\">s</text>\n</g>\n<!-- 1 -->\n<g id=\"node2\" class=\"node\">\n<title>1</title>\n</g>\n<!-- 0&#45;&#45;1 -->\n<g id=\"edge1\" class=\"edge\">\n<title>0&#45;&#45;1</title>\n<path fill=\"none\" stroke=\"lightgreen\" d=\"M48.25,-215.67C44.77,-207.07 38.68,-191.96 33.91,-180.13\"/>\n</g>\n<!-- 2 -->\n<g id=\"node3\" class=\"node\">\n<title>2</title>\n<text text-anchor=\"middle\" x=\"75\" y=\"-158.3\" font-family=\"Times,serif\" font-size=\"14.00\">s</text>\n</g>\n<!-- 0&#45;&#45;2 -->\n<g id=\"edge2\" class=\"edge\">\n<title>0&#45;&#45;2</title>\n<path fill=\"none\" stroke=\"black\" d=\"M53.75,-215.67C58.38,-204.2 67.67,-181.17 72.28,-169.75\"/>\n</g>\n<!-- 3 -->\n<g id=\"node4\" class=\"node\">\n<title>3</title>\n</g>\n<!-- 2&#45;&#45;3 -->\n<g id=\"edge3\" class=\"edge\">\n<title>2&#45;&#45;3</title>\n<path fill=\"none\" stroke=\"lightgreen\" d=\"M72.6,-154.29C68.84,-143.75 61.42,-122.99 56.11,-108.12\"/>\n</g>\n<!-- 4 -->\n<g id=\"node5\" class=\"node\">\n<title>4</title>\n<text text-anchor=\"middle\" x=\"99\" y=\"-86.3\" font-family=\"Times,serif\" font-size=\"14.00\">o</text>\n</g>\n<!-- 2&#45;&#45;4 -->\n<g id=\"edge4\" class=\"edge\">\n<title>2&#45;&#45;4</title>\n<path fill=\"none\" stroke=\"black\" d=\"M77.3,-154.29C81.9,-140.87 92.18,-110.9 96.74,-97.59\"/>\n</g>\n<!-- 5 -->\n<g id=\"node6\" class=\"node\">\n<title>5</title>\n</g>\n<!-- 4&#45;&#45;5 -->\n<g id=\"edge5\" class=\"edge\">\n<title>4&#45;&#45;5</title>\n<path fill=\"none\" stroke=\"lightgreen\" d=\"M95.55,-82.29C90.13,-71.75 79.45,-50.99 71.8,-36.12\"/>\n</g>\n<!-- 6 -->\n<g id=\"node7\" class=\"node\">\n<title>6</title>\n</g>\n<!-- 4&#45;&#45;6 -->\n<g id=\"edge6\" class=\"edge\">\n<title>4&#45;&#45;6</title>\n<path fill=\"none\" stroke=\"lightgreen\" d=\"M102.45,-82.29C107.87,-71.75 118.55,-50.99 126.2,-36.12\"/>\n</g>\n</g>\n</svg>\n</div></td></tr></table>"
     },
     "metadata": {},
     "output_type": "display_data"
    },
    {
     "data": {
      "text/plain": "<IPython.core.display.HTML object>",
      "text/html": "<table style=\"border-style: hidden; border-collapse: collapse;\" width=\"100%\"><tr><td style=\"border-top:hidden;border-bottom:hidden;\"><div align=\"center\" style=\"\"><?xml version=\"1.0\" encoding=\"UTF-8\" standalone=\"no\"?>\n<!DOCTYPE svg PUBLIC \"-//W3C//DTD SVG 1.1//EN\"\n \"http://www.w3.org/Graphics/SVG/1.1/DTD/svg11.dtd\">\n<!-- Generated by graphviz version 2.44.1 (20200629.0846)\n -->\n<!-- Pages: 1 -->\n<svg width=\"232pt\" height=\"288pt\"\n viewBox=\"0.00 0.00 231.51 288.00\" xmlns=\"http://www.w3.org/2000/svg\" xmlns:xlink=\"http://www.w3.org/1999/xlink\">\n<g id=\"graph0\" class=\"graph\" transform=\"scale(0.8 0.8) rotate(0) translate(4 358)\">\n<polygon fill=\"white\" stroke=\"transparent\" points=\"-4,4 -4,-358 287,-358 287,4 -4,4\"/>\n<!-- 0 -->\n<g id=\"node1\" class=\"node\">\n<title>0</title>\n<text text-anchor=\"middle\" x=\"86\" y=\"-342.8\" font-family=\"Times,serif\" font-size=\"14.00\">s</text>\n</g>\n<!-- 1 -->\n<g id=\"node2\" class=\"node\">\n<title>1</title>\n</g>\n<!-- 0&#45;&#45;1 -->\n<g id=\"edge1\" class=\"edge\">\n<title>0&#45;&#45;1</title>\n<path fill=\"none\" stroke=\"lightgreen\" d=\"M83.25,-338.67C79.77,-330.07 73.68,-314.96 68.91,-303.13\"/>\n</g>\n<!-- 2 -->\n<g id=\"node3\" class=\"node\">\n<title>2</title>\n<text text-anchor=\"middle\" x=\"110\" y=\"-281.3\" font-family=\"Times,serif\" font-size=\"14.00\">s</text>\n</g>\n<!-- 0&#45;&#45;2 -->\n<g id=\"edge2\" class=\"edge\">\n<title>0&#45;&#45;2</title>\n<path fill=\"none\" stroke=\"black\" d=\"M88.75,-338.67C93.38,-327.2 102.67,-304.17 107.28,-292.75\"/>\n</g>\n<!-- 3 -->\n<g id=\"node4\" class=\"node\">\n<title>3</title>\n</g>\n<!-- 2&#45;&#45;3 -->\n<g id=\"edge3\" class=\"edge\">\n<title>2&#45;&#45;3</title>\n<path fill=\"none\" stroke=\"lightgreen\" d=\"M107.7,-277.29C104.09,-266.75 96.97,-245.99 91.87,-231.12\"/>\n</g>\n<!-- 4 -->\n<g id=\"node5\" class=\"node\">\n<title>4</title>\n<text text-anchor=\"middle\" x=\"135\" y=\"-209.3\" font-family=\"Times,serif\" font-size=\"14.00\">a</text>\n</g>\n<!-- 2&#45;&#45;4 -->\n<g id=\"edge4\" class=\"edge\">\n<title>2&#45;&#45;4</title>\n<path fill=\"none\" stroke=\"black\" d=\"M112.4,-277.29C117.19,-263.87 127.89,-233.9 132.65,-220.59\"/>\n</g>\n<!-- 5 -->\n<g id=\"node6\" class=\"node\">\n<title>5</title>\n<text text-anchor=\"middle\" x=\"99\" y=\"-147.8\" font-family=\"Times,serif\" font-size=\"14.00\">o</text>\n</g>\n<!-- 4&#45;&#45;5 -->\n<g id=\"edge5\" class=\"edge\">\n<title>4&#45;&#45;5</title>\n<path fill=\"none\" stroke=\"black\" d=\"M131.42,-206.08C124.52,-194.67 109.46,-169.78 102.57,-158.4\"/>\n</g>\n<!-- 8 -->\n<g id=\"node9\" class=\"node\">\n<title>8</title>\n<text text-anchor=\"middle\" x=\"171\" y=\"-147.8\" font-family=\"Times,serif\" font-size=\"14.00\">s</text>\n</g>\n<!-- 4&#45;&#45;8 -->\n<g id=\"edge8\" class=\"edge\">\n<title>4&#45;&#45;8</title>\n<path fill=\"none\" stroke=\"black\" d=\"M138.58,-206.08C145.63,-194.44 161.17,-168.75 167.85,-157.71\"/>\n</g>\n<!-- 6 -->\n<g id=\"node7\" class=\"node\">\n<title>6</title>\n<text text-anchor=\"middle\" x=\"27\" y=\"-86.3\" font-family=\"Times,serif\" font-size=\"14.00\">*</text>\n</g>\n<!-- 5&#45;&#45;6 -->\n<g id=\"edge6\" class=\"edge\">\n<title>5&#45;&#45;6</title>\n<path fill=\"none\" stroke=\"lightgreen\" d=\"M95.13,-147.3C86.37,-140.06 64.48,-121.97 47.86,-108.24\"/>\n</g>\n<!-- 7 -->\n<g id=\"node8\" class=\"node\">\n<title>7</title>\n</g>\n<!-- 5&#45;&#45;7 -->\n<g id=\"edge7\" class=\"edge\">\n<title>5&#45;&#45;7</title>\n<path fill=\"none\" stroke=\"lightgreen\" d=\"M99,-143.67C99,-135.07 99,-119.96 99,-108.13\"/>\n</g>\n<!-- 9 -->\n<g id=\"node10\" class=\"node\">\n<title>9</title>\n</g>\n<!-- 8&#45;&#45;9 -->\n<g id=\"edge9\" class=\"edge\">\n<title>8&#45;&#45;9</title>\n<path fill=\"none\" stroke=\"lightgreen\" d=\"M171,-143.67C171,-135.07 171,-119.96 171,-108.13\"/>\n</g>\n<!-- 10 -->\n<g id=\"node11\" class=\"node\">\n<title>10</title>\n<text text-anchor=\"middle\" x=\"220\" y=\"-86.3\" font-family=\"Times,serif\" font-size=\"14.00\">o</text>\n</g>\n<!-- 8&#45;&#45;10 -->\n<g id=\"edge10\" class=\"edge\">\n<title>8&#45;&#45;10</title>\n<path fill=\"none\" stroke=\"black\" d=\"M174.05,-147.02C180.33,-139.83 195.11,-122.76 207,-108 210.26,-103.95 213.84,-99.24 216.42,-95.81\"/>\n</g>\n<!-- 11 -->\n<g id=\"node12\" class=\"node\">\n<title>11</title>\n</g>\n<!-- 10&#45;&#45;11 -->\n<g id=\"edge11\" class=\"edge\">\n<title>10&#45;&#45;11</title>\n<path fill=\"none\" stroke=\"lightgreen\" d=\"M216.55,-82.29C211.13,-71.75 200.45,-50.99 192.8,-36.12\"/>\n</g>\n<!-- 12 -->\n<g id=\"node13\" class=\"node\">\n<title>12</title>\n</g>\n<!-- 10&#45;&#45;12 -->\n<g id=\"edge12\" class=\"edge\">\n<title>10&#45;&#45;12</title>\n<path fill=\"none\" stroke=\"lightgreen\" d=\"M223.45,-82.29C228.87,-71.75 239.55,-50.99 247.2,-36.12\"/>\n</g>\n</g>\n</svg>\n</div></td><td style=\"border-top:hidden;border-bottom:hidden;\"><div align=\"center\" style=\"\"><?xml version=\"1.0\" encoding=\"UTF-8\" standalone=\"no\"?>\n<!DOCTYPE svg PUBLIC \"-//W3C//DTD SVG 1.1//EN\"\n \"http://www.w3.org/Graphics/SVG/1.1/DTD/svg11.dtd\">\n<!-- Generated by graphviz version 2.44.1 (20200629.0846)\n -->\n<!-- Pages: 1 -->\n<svg width=\"170pt\" height=\"239pt\"\n viewBox=\"0.00 0.00 170.00 239.00\" xmlns=\"http://www.w3.org/2000/svg\" xmlns:xlink=\"http://www.w3.org/1999/xlink\">\n<g id=\"graph0\" class=\"graph\" transform=\"scale(1 1) rotate(0) translate(4 235)\">\n<polygon fill=\"white\" stroke=\"transparent\" points=\"-4,4 -4,-235 166,-235 166,4 -4,4\"/>\n<!-- 0 -->\n<g id=\"node1\" class=\"node\">\n<title>0</title>\n<text text-anchor=\"middle\" x=\"51\" y=\"-219.8\" font-family=\"Times,serif\" font-size=\"14.00\">s</text>\n</g>\n<!-- 1 -->\n<g id=\"node2\" class=\"node\">\n<title>1</title>\n</g>\n<!-- 0&#45;&#45;1 -->\n<g id=\"edge1\" class=\"edge\">\n<title>0&#45;&#45;1</title>\n<path fill=\"none\" stroke=\"lightgreen\" d=\"M48.25,-215.67C44.77,-207.07 38.68,-191.96 33.91,-180.13\"/>\n</g>\n<!-- 2 -->\n<g id=\"node3\" class=\"node\">\n<title>2</title>\n<text text-anchor=\"middle\" x=\"75\" y=\"-158.3\" font-family=\"Times,serif\" font-size=\"14.00\">s</text>\n</g>\n<!-- 0&#45;&#45;2 -->\n<g id=\"edge2\" class=\"edge\">\n<title>0&#45;&#45;2</title>\n<path fill=\"none\" stroke=\"black\" d=\"M53.75,-215.67C58.38,-204.2 67.67,-181.17 72.28,-169.75\"/>\n</g>\n<!-- 3 -->\n<g id=\"node4\" class=\"node\">\n<title>3</title>\n</g>\n<!-- 2&#45;&#45;3 -->\n<g id=\"edge3\" class=\"edge\">\n<title>2&#45;&#45;3</title>\n<path fill=\"none\" stroke=\"lightgreen\" d=\"M72.6,-154.29C68.84,-143.75 61.42,-122.99 56.11,-108.12\"/>\n</g>\n<!-- 4 -->\n<g id=\"node5\" class=\"node\">\n<title>4</title>\n<text text-anchor=\"middle\" x=\"99\" y=\"-86.3\" font-family=\"Times,serif\" font-size=\"14.00\">o</text>\n</g>\n<!-- 2&#45;&#45;4 -->\n<g id=\"edge4\" class=\"edge\">\n<title>2&#45;&#45;4</title>\n<path fill=\"none\" stroke=\"black\" d=\"M77.3,-154.29C81.9,-140.87 92.18,-110.9 96.74,-97.59\"/>\n</g>\n<!-- 5 -->\n<g id=\"node6\" class=\"node\">\n<title>5</title>\n</g>\n<!-- 4&#45;&#45;5 -->\n<g id=\"edge5\" class=\"edge\">\n<title>4&#45;&#45;5</title>\n<path fill=\"none\" stroke=\"lightgreen\" d=\"M95.55,-82.29C90.13,-71.75 79.45,-50.99 71.8,-36.12\"/>\n</g>\n<!-- 6 -->\n<g id=\"node7\" class=\"node\">\n<title>6</title>\n</g>\n<!-- 4&#45;&#45;6 -->\n<g id=\"edge6\" class=\"edge\">\n<title>4&#45;&#45;6</title>\n<path fill=\"none\" stroke=\"lightgreen\" d=\"M102.45,-82.29C107.87,-71.75 118.55,-50.99 126.2,-36.12\"/>\n</g>\n</g>\n</svg>\n</div></td></tr></table>"
     },
     "metadata": {},
     "output_type": "display_data"
    },
    {
     "data": {
      "text/plain": "<IPython.core.display.HTML object>",
      "text/html": "<table style=\"border-style: hidden; border-collapse: collapse;\" width=\"100%\"><tr><td style=\"border-top:hidden;border-bottom:hidden;\"><div align=\"center\" style=\"\"><?xml version=\"1.0\" encoding=\"UTF-8\" standalone=\"no\"?>\n<!DOCTYPE svg PUBLIC \"-//W3C//DTD SVG 1.1//EN\"\n \"http://www.w3.org/Graphics/SVG/1.1/DTD/svg11.dtd\">\n<!-- Generated by graphviz version 2.44.1 (20200629.0846)\n -->\n<!-- Pages: 1 -->\n<svg width=\"221pt\" height=\"288pt\"\n viewBox=\"0.00 0.00 221.17 288.00\" xmlns=\"http://www.w3.org/2000/svg\" xmlns:xlink=\"http://www.w3.org/1999/xlink\">\n<g id=\"graph0\" class=\"graph\" transform=\"scale(0.8 0.8) rotate(0) translate(4 358)\">\n<polygon fill=\"white\" stroke=\"transparent\" points=\"-4,4 -4,-358 274,-358 274,4 -4,4\"/>\n<!-- 0 -->\n<g id=\"node1\" class=\"node\">\n<title>0</title>\n<text text-anchor=\"middle\" x=\"62\" y=\"-342.8\" font-family=\"Times,serif\" font-size=\"14.00\">s</text>\n</g>\n<!-- 1 -->\n<g id=\"node2\" class=\"node\">\n<title>1</title>\n</g>\n<!-- 0&#45;&#45;1 -->\n<g id=\"edge1\" class=\"edge\">\n<title>0&#45;&#45;1</title>\n<path fill=\"none\" stroke=\"lightgreen\" d=\"M59.25,-338.67C55.77,-330.07 49.68,-314.96 44.91,-303.13\"/>\n</g>\n<!-- 2 -->\n<g id=\"node3\" class=\"node\">\n<title>2</title>\n<text text-anchor=\"middle\" x=\"86\" y=\"-281.3\" font-family=\"Times,serif\" font-size=\"14.00\">s</text>\n</g>\n<!-- 0&#45;&#45;2 -->\n<g id=\"edge2\" class=\"edge\">\n<title>0&#45;&#45;2</title>\n<path fill=\"none\" stroke=\"black\" d=\"M64.75,-338.67C69.38,-327.2 78.67,-304.17 83.28,-292.75\"/>\n</g>\n<!-- 3 -->\n<g id=\"node4\" class=\"node\">\n<title>3</title>\n</g>\n<!-- 2&#45;&#45;3 -->\n<g id=\"edge3\" class=\"edge\">\n<title>2&#45;&#45;3</title>\n<path fill=\"none\" stroke=\"lightgreen\" d=\"M83.7,-277.29C80.09,-266.75 72.97,-245.99 67.87,-231.12\"/>\n</g>\n<!-- 4 -->\n<g id=\"node5\" class=\"node\">\n<title>4</title>\n<text text-anchor=\"middle\" x=\"110\" y=\"-209.3\" font-family=\"Times,serif\" font-size=\"14.00\">s</text>\n</g>\n<!-- 2&#45;&#45;4 -->\n<g id=\"edge4\" class=\"edge\">\n<title>2&#45;&#45;4</title>\n<path fill=\"none\" stroke=\"black\" d=\"M88.3,-277.29C92.9,-263.87 103.18,-233.9 107.74,-220.59\"/>\n</g>\n<!-- 5 -->\n<g id=\"node6\" class=\"node\">\n<title>5</title>\n</g>\n<!-- 4&#45;&#45;5 -->\n<g id=\"edge5\" class=\"edge\">\n<title>4&#45;&#45;5</title>\n<path fill=\"none\" stroke=\"lightgreen\" d=\"M107.7,-205.29C104.09,-194.75 96.97,-173.99 91.87,-159.12\"/>\n</g>\n<!-- 6 -->\n<g id=\"node7\" class=\"node\">\n<title>6</title>\n<text text-anchor=\"middle\" x=\"135\" y=\"-137.3\" font-family=\"Times,serif\" font-size=\"14.00\">a</text>\n</g>\n<!-- 4&#45;&#45;6 -->\n<g id=\"edge6\" class=\"edge\">\n<title>4&#45;&#45;6</title>\n<path fill=\"none\" stroke=\"black\" d=\"M112.4,-205.29C117.19,-191.87 127.89,-161.9 132.65,-148.59\"/>\n</g>\n<!-- 7 -->\n<g id=\"node8\" class=\"node\">\n<title>7</title>\n<text text-anchor=\"middle\" x=\"99\" y=\"-75.8\" font-family=\"Times,serif\" font-size=\"14.00\">o</text>\n</g>\n<!-- 6&#45;&#45;7 -->\n<g id=\"edge7\" class=\"edge\">\n<title>6&#45;&#45;7</title>\n<path fill=\"none\" stroke=\"black\" d=\"M131.42,-134.08C124.52,-122.67 109.46,-97.78 102.57,-86.4\"/>\n</g>\n<!-- 10 -->\n<g id=\"node11\" class=\"node\">\n<title>10</title>\n<text text-anchor=\"middle\" x=\"171\" y=\"-75.8\" font-family=\"Times,serif\" font-size=\"14.00\">o</text>\n</g>\n<!-- 6&#45;&#45;10 -->\n<g id=\"edge10\" class=\"edge\">\n<title>6&#45;&#45;10</title>\n<path fill=\"none\" stroke=\"black\" d=\"M138.58,-134.08C145.48,-122.67 160.54,-97.78 167.43,-86.4\"/>\n</g>\n<!-- 8 -->\n<g id=\"node9\" class=\"node\">\n<title>8</title>\n<text text-anchor=\"middle\" x=\"27\" y=\"-14.3\" font-family=\"Times,serif\" font-size=\"14.00\">*</text>\n</g>\n<!-- 7&#45;&#45;8 -->\n<g id=\"edge8\" class=\"edge\">\n<title>7&#45;&#45;8</title>\n<path fill=\"none\" stroke=\"lightgreen\" d=\"M95.13,-75.3C86.37,-68.06 64.48,-49.97 47.86,-36.24\"/>\n</g>\n<!-- 9 -->\n<g id=\"node10\" class=\"node\">\n<title>9</title>\n</g>\n<!-- 7&#45;&#45;9 -->\n<g id=\"edge9\" class=\"edge\">\n<title>7&#45;&#45;9</title>\n<path fill=\"none\" stroke=\"lightgreen\" d=\"M99,-71.67C99,-63.07 99,-47.96 99,-36.13\"/>\n</g>\n<!-- 11 -->\n<g id=\"node12\" class=\"node\">\n<title>11</title>\n</g>\n<!-- 10&#45;&#45;11 -->\n<g id=\"edge11\" class=\"edge\">\n<title>10&#45;&#45;11</title>\n<path fill=\"none\" stroke=\"lightgreen\" d=\"M171,-71.67C171,-63.07 171,-47.96 171,-36.13\"/>\n</g>\n<!-- 12 -->\n<g id=\"node13\" class=\"node\">\n<title>12</title>\n</g>\n<!-- 10&#45;&#45;12 -->\n<g id=\"edge12\" class=\"edge\">\n<title>10&#45;&#45;12</title>\n<path fill=\"none\" stroke=\"lightgreen\" d=\"M174.87,-75.3C183.63,-68.06 205.52,-49.97 222.14,-36.24\"/>\n</g>\n</g>\n</svg>\n</div></td><td style=\"border-top:hidden;border-bottom:hidden;\"><div align=\"center\" style=\"\"><?xml version=\"1.0\" encoding=\"UTF-8\" standalone=\"no\"?>\n<!DOCTYPE svg PUBLIC \"-//W3C//DTD SVG 1.1//EN\"\n \"http://www.w3.org/Graphics/SVG/1.1/DTD/svg11.dtd\">\n<!-- Generated by graphviz version 2.44.1 (20200629.0846)\n -->\n<!-- Pages: 1 -->\n<svg width=\"170pt\" height=\"239pt\"\n viewBox=\"0.00 0.00 170.00 239.00\" xmlns=\"http://www.w3.org/2000/svg\" xmlns:xlink=\"http://www.w3.org/1999/xlink\">\n<g id=\"graph0\" class=\"graph\" transform=\"scale(1 1) rotate(0) translate(4 235)\">\n<polygon fill=\"white\" stroke=\"transparent\" points=\"-4,4 -4,-235 166,-235 166,4 -4,4\"/>\n<!-- 0 -->\n<g id=\"node1\" class=\"node\">\n<title>0</title>\n<text text-anchor=\"middle\" x=\"51\" y=\"-219.8\" font-family=\"Times,serif\" font-size=\"14.00\">s</text>\n</g>\n<!-- 1 -->\n<g id=\"node2\" class=\"node\">\n<title>1</title>\n</g>\n<!-- 0&#45;&#45;1 -->\n<g id=\"edge1\" class=\"edge\">\n<title>0&#45;&#45;1</title>\n<path fill=\"none\" stroke=\"lightgreen\" d=\"M48.25,-215.67C44.77,-207.07 38.68,-191.96 33.91,-180.13\"/>\n</g>\n<!-- 2 -->\n<g id=\"node3\" class=\"node\">\n<title>2</title>\n<text text-anchor=\"middle\" x=\"75\" y=\"-158.3\" font-family=\"Times,serif\" font-size=\"14.00\">s</text>\n</g>\n<!-- 0&#45;&#45;2 -->\n<g id=\"edge2\" class=\"edge\">\n<title>0&#45;&#45;2</title>\n<path fill=\"none\" stroke=\"black\" d=\"M53.75,-215.67C58.38,-204.2 67.67,-181.17 72.28,-169.75\"/>\n</g>\n<!-- 3 -->\n<g id=\"node4\" class=\"node\">\n<title>3</title>\n</g>\n<!-- 2&#45;&#45;3 -->\n<g id=\"edge3\" class=\"edge\">\n<title>2&#45;&#45;3</title>\n<path fill=\"none\" stroke=\"lightgreen\" d=\"M72.6,-154.29C68.84,-143.75 61.42,-122.99 56.11,-108.12\"/>\n</g>\n<!-- 4 -->\n<g id=\"node5\" class=\"node\">\n<title>4</title>\n<text text-anchor=\"middle\" x=\"99\" y=\"-86.3\" font-family=\"Times,serif\" font-size=\"14.00\">o</text>\n</g>\n<!-- 2&#45;&#45;4 -->\n<g id=\"edge4\" class=\"edge\">\n<title>2&#45;&#45;4</title>\n<path fill=\"none\" stroke=\"black\" d=\"M77.3,-154.29C81.9,-140.87 92.18,-110.9 96.74,-97.59\"/>\n</g>\n<!-- 5 -->\n<g id=\"node6\" class=\"node\">\n<title>5</title>\n</g>\n<!-- 4&#45;&#45;5 -->\n<g id=\"edge5\" class=\"edge\">\n<title>4&#45;&#45;5</title>\n<path fill=\"none\" stroke=\"lightgreen\" d=\"M95.55,-82.29C90.13,-71.75 79.45,-50.99 71.8,-36.12\"/>\n</g>\n<!-- 6 -->\n<g id=\"node7\" class=\"node\">\n<title>6</title>\n</g>\n<!-- 4&#45;&#45;6 -->\n<g id=\"edge6\" class=\"edge\">\n<title>4&#45;&#45;6</title>\n<path fill=\"none\" stroke=\"lightgreen\" d=\"M102.45,-82.29C107.87,-71.75 118.55,-50.99 126.2,-36.12\"/>\n</g>\n</g>\n</svg>\n</div></td></tr></table>"
     },
     "metadata": {},
     "output_type": "display_data"
    }
   ],
   "source": [
    "c.display_trees(1, 0, -1)"
   ],
   "metadata": {
    "collapsed": false,
    "pycharm": {
     "name": "#%%\n"
    }
   }
  },
  {
   "cell_type": "code",
   "execution_count": 102,
   "outputs": [
    {
     "data": {
      "text/plain": "<IPython.core.display.HTML object>",
      "text/html": "=== Minus ==="
     },
     "metadata": {},
     "output_type": "display_data"
    },
    {
     "data": {
      "text/plain": "<IPython.core.display.HTML object>",
      "text/html": "=== Plus ==="
     },
     "metadata": {},
     "output_type": "display_data"
    },
    {
     "data": {
      "text/plain": "<IPython.core.display.HTML object>",
      "text/html": "<table style=\"border-style: hidden; border-collapse: collapse;\" width=\"100%\"><tr><td style=\"border-top:hidden;border-bottom:hidden;\"><div align=\"center\" style=\"\"><?xml version=\"1.0\" encoding=\"UTF-8\" standalone=\"no\"?>\n<!DOCTYPE svg PUBLIC \"-//W3C//DTD SVG 1.1//EN\"\n \"http://www.w3.org/Graphics/SVG/1.1/DTD/svg11.dtd\">\n<!-- Generated by graphviz version 2.44.1 (20200629.0846)\n -->\n<!-- Pages: 1 -->\n<svg width=\"185pt\" height=\"288pt\"\n viewBox=\"0.00 0.00 184.57 288.00\" xmlns=\"http://www.w3.org/2000/svg\" xmlns:xlink=\"http://www.w3.org/1999/xlink\">\n<g id=\"graph0\" class=\"graph\" transform=\"scale(0.8 0.8) rotate(0) translate(4 358)\">\n<polygon fill=\"white\" stroke=\"transparent\" points=\"-4,4 -4,-358 228,-358 228,4 -4,4\"/>\n<!-- 0 -->\n<g id=\"node1\" class=\"node\">\n<title>0</title>\n<text text-anchor=\"middle\" x=\"123\" y=\"-342.8\" font-family=\"Times,serif\" font-size=\"14.00\">l</text>\n</g>\n<!-- 1 -->\n<g id=\"node2\" class=\"node\">\n<title>1</title>\n<text text-anchor=\"middle\" x=\"99\" y=\"-281.3\" font-family=\"Times,serif\" font-size=\"14.00\">s</text>\n</g>\n<!-- 0&#45;&#45;1 -->\n<g id=\"edge1\" class=\"edge\">\n<title>0&#45;&#45;1</title>\n<path fill=\"none\" stroke=\"black\" d=\"M120.95,-340.43C116.65,-329.75 106.64,-304.94 101.77,-292.86\"/>\n</g>\n<!-- 12 -->\n<g id=\"node13\" class=\"node\">\n<title>12</title>\n</g>\n<!-- 0&#45;&#45;12 -->\n<g id=\"edge12\" class=\"edge\">\n<title>0&#45;&#45;12</title>\n<path fill=\"none\" stroke=\"lightgreen\" d=\"M125.05,-340.43C128.33,-332.28 134.94,-315.9 140.05,-303.23\"/>\n</g>\n<!-- 2 -->\n<g id=\"node3\" class=\"node\">\n<title>2</title>\n</g>\n<!-- 1&#45;&#45;2 -->\n<g id=\"edge2\" class=\"edge\">\n<title>1&#45;&#45;2</title>\n<path fill=\"none\" stroke=\"lightgreen\" d=\"M96.7,-277.29C93.09,-266.75 85.97,-245.99 80.87,-231.12\"/>\n</g>\n<!-- 3 -->\n<g id=\"node4\" class=\"node\">\n<title>3</title>\n<text text-anchor=\"middle\" x=\"124\" y=\"-209.3\" font-family=\"Times,serif\" font-size=\"14.00\">a</text>\n</g>\n<!-- 1&#45;&#45;3 -->\n<g id=\"edge3\" class=\"edge\">\n<title>1&#45;&#45;3</title>\n<path fill=\"none\" stroke=\"black\" d=\"M101.4,-277.29C106.19,-263.87 116.89,-233.9 121.65,-220.59\"/>\n</g>\n<!-- 4 -->\n<g id=\"node5\" class=\"node\">\n<title>4</title>\n<text text-anchor=\"middle\" x=\"99\" y=\"-147.8\" font-family=\"Times,serif\" font-size=\"14.00\">o</text>\n</g>\n<!-- 3&#45;&#45;4 -->\n<g id=\"edge4\" class=\"edge\">\n<title>3&#45;&#45;4</title>\n<path fill=\"none\" stroke=\"black\" d=\"M121.13,-205.17C116.31,-193.7 106.63,-170.67 101.83,-159.25\"/>\n</g>\n<!-- 7 -->\n<g id=\"node8\" class=\"node\">\n<title>7</title>\n<text text-anchor=\"middle\" x=\"148\" y=\"-147.8\" font-family=\"Times,serif\" font-size=\"14.00\">l</text>\n</g>\n<!-- 3&#45;&#45;7 -->\n<g id=\"edge7\" class=\"edge\">\n<title>3&#45;&#45;7</title>\n<path fill=\"none\" stroke=\"black\" d=\"M126.75,-205.17C131.63,-193.09 141.67,-168.19 145.97,-157.52\"/>\n</g>\n<!-- 5 -->\n<g id=\"node6\" class=\"node\">\n<title>5</title>\n<text text-anchor=\"middle\" x=\"27\" y=\"-86.3\" font-family=\"Times,serif\" font-size=\"14.00\">*</text>\n</g>\n<!-- 4&#45;&#45;5 -->\n<g id=\"edge5\" class=\"edge\">\n<title>4&#45;&#45;5</title>\n<path fill=\"none\" stroke=\"lightgreen\" d=\"M95.13,-147.3C86.37,-140.06 64.48,-121.97 47.86,-108.24\"/>\n</g>\n<!-- 6 -->\n<g id=\"node7\" class=\"node\">\n<title>6</title>\n</g>\n<!-- 4&#45;&#45;6 -->\n<g id=\"edge6\" class=\"edge\">\n<title>4&#45;&#45;6</title>\n<path fill=\"none\" stroke=\"lightgreen\" d=\"M99,-143.67C99,-135.07 99,-119.96 99,-108.13\"/>\n</g>\n<!-- 8 -->\n<g id=\"node9\" class=\"node\">\n<title>8</title>\n<text text-anchor=\"middle\" x=\"148\" y=\"-86.3\" font-family=\"Times,serif\" font-size=\"14.00\">o</text>\n</g>\n<!-- 7&#45;&#45;8 -->\n<g id=\"edge8\" class=\"edge\">\n<title>7&#45;&#45;8</title>\n<path fill=\"none\" stroke=\"black\" d=\"M148,-143.67C148,-132.2 148,-109.17 148,-97.75\"/>\n</g>\n<!-- 11 -->\n<g id=\"node12\" class=\"node\">\n<title>11</title>\n</g>\n<!-- 7&#45;&#45;11 -->\n<g id=\"edge11\" class=\"edge\">\n<title>7&#45;&#45;11</title>\n<path fill=\"none\" stroke=\"lightgreen\" d=\"M150.11,-147.94C155.67,-141.18 171.16,-122.37 182.83,-108.21\"/>\n</g>\n<!-- 9 -->\n<g id=\"node10\" class=\"node\">\n<title>9</title>\n</g>\n<!-- 8&#45;&#45;9 -->\n<g id=\"edge9\" class=\"edge\">\n<title>8&#45;&#45;9</title>\n<path fill=\"none\" stroke=\"lightgreen\" d=\"M144.55,-82.29C139.13,-71.75 128.45,-50.99 120.8,-36.12\"/>\n</g>\n<!-- 10 -->\n<g id=\"node11\" class=\"node\">\n<title>10</title>\n</g>\n<!-- 8&#45;&#45;10 -->\n<g id=\"edge10\" class=\"edge\">\n<title>8&#45;&#45;10</title>\n<path fill=\"none\" stroke=\"lightgreen\" d=\"M151.45,-82.29C156.87,-71.75 167.55,-50.99 175.2,-36.12\"/>\n</g>\n</g>\n</svg>\n</div></td><td style=\"border-top:hidden;border-bottom:hidden;\"><div align=\"center\" style=\"\"><?xml version=\"1.0\" encoding=\"UTF-8\" standalone=\"no\"?>\n<!DOCTYPE svg PUBLIC \"-//W3C//DTD SVG 1.1//EN\"\n \"http://www.w3.org/Graphics/SVG/1.1/DTD/svg11.dtd\">\n<!-- Generated by graphviz version 2.44.1 (20200629.0846)\n -->\n<!-- Pages: 1 -->\n<svg width=\"169pt\" height=\"239pt\"\n viewBox=\"0.00 0.00 169.00 239.00\" xmlns=\"http://www.w3.org/2000/svg\" xmlns:xlink=\"http://www.w3.org/1999/xlink\">\n<g id=\"graph0\" class=\"graph\" transform=\"scale(1 1) rotate(0) translate(4 235)\">\n<polygon fill=\"white\" stroke=\"transparent\" points=\"-4,4 -4,-235 165,-235 165,4 -4,4\"/>\n<!-- 0 -->\n<g id=\"node1\" class=\"node\">\n<title>0</title>\n<text text-anchor=\"middle\" x=\"110\" y=\"-219.8\" font-family=\"Times,serif\" font-size=\"14.00\">l</text>\n</g>\n<!-- 1 -->\n<g id=\"node2\" class=\"node\">\n<title>1</title>\n<text text-anchor=\"middle\" x=\"87\" y=\"-158.3\" font-family=\"Times,serif\" font-size=\"14.00\">l</text>\n</g>\n<!-- 0&#45;&#45;1 -->\n<g id=\"edge1\" class=\"edge\">\n<title>0&#45;&#45;1</title>\n<path fill=\"none\" stroke=\"black\" d=\"M107.88,-217.01C103.47,-205.62 93.39,-179.54 89.05,-168.31\"/>\n</g>\n<!-- 6 -->\n<g id=\"node7\" class=\"node\">\n<title>6</title>\n</g>\n<!-- 0&#45;&#45;6 -->\n<g id=\"edge6\" class=\"edge\">\n<title>0&#45;&#45;6</title>\n<path fill=\"none\" stroke=\"lightgreen\" d=\"M112.05,-217.43C115.33,-209.28 121.94,-192.9 127.05,-180.23\"/>\n</g>\n<!-- 2 -->\n<g id=\"node3\" class=\"node\">\n<title>2</title>\n<text text-anchor=\"middle\" x=\"63\" y=\"-86.3\" font-family=\"Times,serif\" font-size=\"14.00\">o</text>\n</g>\n<!-- 1&#45;&#45;2 -->\n<g id=\"edge2\" class=\"edge\">\n<title>1&#45;&#45;2</title>\n<path fill=\"none\" stroke=\"black\" d=\"M84.95,-155.03C80.51,-142.07 70,-111.42 65.32,-97.77\"/>\n</g>\n<!-- 5 -->\n<g id=\"node6\" class=\"node\">\n<title>5</title>\n</g>\n<!-- 1&#45;&#45;5 -->\n<g id=\"edge5\" class=\"edge\">\n<title>1&#45;&#45;5</title>\n<path fill=\"none\" stroke=\"lightgreen\" d=\"M89.13,-155.03C92.79,-144.78 100.4,-123.47 105.84,-108.25\"/>\n</g>\n<!-- 3 -->\n<g id=\"node4\" class=\"node\">\n<title>3</title>\n</g>\n<!-- 2&#45;&#45;3 -->\n<g id=\"edge3\" class=\"edge\">\n<title>2&#45;&#45;3</title>\n<path fill=\"none\" stroke=\"lightgreen\" d=\"M59.55,-82.29C54.13,-71.75 43.45,-50.99 35.8,-36.12\"/>\n</g>\n<!-- 4 -->\n<g id=\"node5\" class=\"node\">\n<title>4</title>\n</g>\n<!-- 2&#45;&#45;4 -->\n<g id=\"edge4\" class=\"edge\">\n<title>2&#45;&#45;4</title>\n<path fill=\"none\" stroke=\"lightgreen\" d=\"M66.45,-82.29C71.87,-71.75 82.55,-50.99 90.2,-36.12\"/>\n</g>\n</g>\n</svg>\n</div></td></tr></table>"
     },
     "metadata": {},
     "output_type": "display_data"
    },
    {
     "data": {
      "text/plain": "<IPython.core.display.HTML object>",
      "text/html": "<table style=\"border-style: hidden; border-collapse: collapse;\" width=\"100%\"><tr><td style=\"border-top:hidden;border-bottom:hidden;\"><div align=\"center\" style=\"\"><?xml version=\"1.0\" encoding=\"UTF-8\" standalone=\"no\"?>\n<!DOCTYPE svg PUBLIC \"-//W3C//DTD SVG 1.1//EN\"\n \"http://www.w3.org/Graphics/SVG/1.1/DTD/svg11.dtd\">\n<!-- Generated by graphviz version 2.44.1 (20200629.0846)\n -->\n<!-- Pages: 1 -->\n<svg width=\"288pt\" height=\"255pt\"\n viewBox=\"0.00 0.00 288.00 255.41\" xmlns=\"http://www.w3.org/2000/svg\" xmlns:xlink=\"http://www.w3.org/1999/xlink\">\n<g id=\"graph0\" class=\"graph\" transform=\"scale(0.88 0.88) rotate(0) translate(4 286)\">\n<polygon fill=\"white\" stroke=\"transparent\" points=\"-4,4 -4,-286 323,-286 323,4 -4,4\"/>\n<!-- 0 -->\n<g id=\"node1\" class=\"node\">\n<title>0</title>\n<text text-anchor=\"middle\" x=\"98\" y=\"-270.8\" font-family=\"Times,serif\" font-size=\"14.00\">s</text>\n</g>\n<!-- 1 -->\n<g id=\"node2\" class=\"node\">\n<title>1</title>\n</g>\n<!-- 0&#45;&#45;1 -->\n<g id=\"edge1\" class=\"edge\">\n<title>0&#45;&#45;1</title>\n<path fill=\"none\" stroke=\"lightgreen\" d=\"M95.25,-266.67C91.77,-258.07 85.68,-242.96 80.91,-231.13\"/>\n</g>\n<!-- 2 -->\n<g id=\"node3\" class=\"node\">\n<title>2</title>\n<text text-anchor=\"middle\" x=\"123\" y=\"-209.3\" font-family=\"Times,serif\" font-size=\"14.00\">a</text>\n</g>\n<!-- 0&#45;&#45;2 -->\n<g id=\"edge2\" class=\"edge\">\n<title>0&#45;&#45;2</title>\n<path fill=\"none\" stroke=\"black\" d=\"M100.87,-266.67C105.69,-255.2 115.37,-232.17 120.17,-220.75\"/>\n</g>\n<!-- 3 -->\n<g id=\"node4\" class=\"node\">\n<title>3</title>\n<text text-anchor=\"middle\" x=\"99\" y=\"-147.8\" font-family=\"Times,serif\" font-size=\"14.00\">o</text>\n</g>\n<!-- 2&#45;&#45;3 -->\n<g id=\"edge3\" class=\"edge\">\n<title>2&#45;&#45;3</title>\n<path fill=\"none\" stroke=\"black\" d=\"M120.25,-205.17C115.62,-193.7 106.33,-170.67 101.72,-159.25\"/>\n</g>\n<!-- 6 -->\n<g id=\"node7\" class=\"node\">\n<title>6</title>\n<text text-anchor=\"middle\" x=\"148\" y=\"-147.8\" font-family=\"Times,serif\" font-size=\"14.00\">a</text>\n</g>\n<!-- 2&#45;&#45;6 -->\n<g id=\"edge6\" class=\"edge\">\n<title>2&#45;&#45;6</title>\n<path fill=\"none\" stroke=\"black\" d=\"M125.87,-205.17C130.69,-193.7 140.37,-170.67 145.17,-159.25\"/>\n</g>\n<!-- 4 -->\n<g id=\"node5\" class=\"node\">\n<title>4</title>\n<text text-anchor=\"middle\" x=\"27\" y=\"-86.3\" font-family=\"Times,serif\" font-size=\"14.00\">*</text>\n</g>\n<!-- 3&#45;&#45;4 -->\n<g id=\"edge4\" class=\"edge\">\n<title>3&#45;&#45;4</title>\n<path fill=\"none\" stroke=\"lightgreen\" d=\"M95.13,-147.3C86.37,-140.06 64.48,-121.97 47.86,-108.24\"/>\n</g>\n<!-- 5 -->\n<g id=\"node6\" class=\"node\">\n<title>5</title>\n</g>\n<!-- 3&#45;&#45;5 -->\n<g id=\"edge5\" class=\"edge\">\n<title>3&#45;&#45;5</title>\n<path fill=\"none\" stroke=\"lightgreen\" d=\"M99,-143.67C99,-135.07 99,-119.96 99,-108.13\"/>\n</g>\n<!-- 7 -->\n<g id=\"node8\" class=\"node\">\n<title>7</title>\n<text text-anchor=\"middle\" x=\"148\" y=\"-86.3\" font-family=\"Times,serif\" font-size=\"14.00\">o</text>\n</g>\n<!-- 6&#45;&#45;7 -->\n<g id=\"edge7\" class=\"edge\">\n<title>6&#45;&#45;7</title>\n<path fill=\"none\" stroke=\"black\" d=\"M148,-143.67C148,-132.2 148,-109.17 148,-97.75\"/>\n</g>\n<!-- 10 -->\n<g id=\"node11\" class=\"node\">\n<title>10</title>\n<text text-anchor=\"middle\" x=\"220\" y=\"-86.3\" font-family=\"Times,serif\" font-size=\"14.00\">o</text>\n</g>\n<!-- 6&#45;&#45;10 -->\n<g id=\"edge10\" class=\"edge\">\n<title>6&#45;&#45;10</title>\n<path fill=\"none\" stroke=\"black\" d=\"M151.87,-147.3C164.49,-136.87 204.32,-103.96 216.45,-93.93\"/>\n</g>\n<!-- 8 -->\n<g id=\"node9\" class=\"node\">\n<title>8</title>\n</g>\n<!-- 7&#45;&#45;8 -->\n<g id=\"edge8\" class=\"edge\">\n<title>7&#45;&#45;8</title>\n<path fill=\"none\" stroke=\"lightgreen\" d=\"M144.37,-83.74C141.88,-80.28 138.43,-75.71 135,-72 123.13,-59.16 108.52,-46.01 96.81,-36.03\"/>\n</g>\n<!-- 9 -->\n<g id=\"node10\" class=\"node\">\n<title>9</title>\n</g>\n<!-- 7&#45;&#45;9 -->\n<g id=\"edge9\" class=\"edge\">\n<title>7&#45;&#45;9</title>\n<path fill=\"none\" stroke=\"lightgreen\" d=\"M148,-82.29C148,-71.75 148,-50.99 148,-36.12\"/>\n</g>\n<!-- 11 -->\n<g id=\"node12\" class=\"node\">\n<title>11</title>\n</g>\n<!-- 10&#45;&#45;11 -->\n<g id=\"edge11\" class=\"edge\">\n<title>10&#45;&#45;11</title>\n<path fill=\"none\" stroke=\"lightgreen\" d=\"M220,-82.29C220,-71.75 220,-50.99 220,-36.12\"/>\n</g>\n<!-- 12 -->\n<g id=\"node13\" class=\"node\">\n<title>12</title>\n</g>\n<!-- 10&#45;&#45;12 -->\n<g id=\"edge12\" class=\"edge\">\n<title>10&#45;&#45;12</title>\n<path fill=\"none\" stroke=\"lightgreen\" d=\"M223.87,-85.24C233.22,-76.15 257.49,-52.55 274.39,-36.12\"/>\n</g>\n</g>\n</svg>\n</div></td><td style=\"border-top:hidden;border-bottom:hidden;\"><div align=\"center\" style=\"\"><?xml version=\"1.0\" encoding=\"UTF-8\" standalone=\"no\"?>\n<!DOCTYPE svg PUBLIC \"-//W3C//DTD SVG 1.1//EN\"\n \"http://www.w3.org/Graphics/SVG/1.1/DTD/svg11.dtd\">\n<!-- Generated by graphviz version 2.44.1 (20200629.0846)\n -->\n<!-- Pages: 1 -->\n<svg width=\"278pt\" height=\"146pt\"\n viewBox=\"0.00 0.00 278.00 146.00\" xmlns=\"http://www.w3.org/2000/svg\" xmlns:xlink=\"http://www.w3.org/1999/xlink\">\n<g id=\"graph0\" class=\"graph\" transform=\"scale(1 1) rotate(0) translate(4 142)\">\n<polygon fill=\"white\" stroke=\"transparent\" points=\"-4,4 -4,-142 274,-142 274,4 -4,4\"/>\n<!-- 0 -->\n<g id=\"node1\" class=\"node\">\n<title>0</title>\n<text text-anchor=\"middle\" x=\"135\" y=\"-126.8\" font-family=\"Times,serif\" font-size=\"14.00\">a</text>\n</g>\n<!-- 1 -->\n<g id=\"node2\" class=\"node\">\n<title>1</title>\n<text text-anchor=\"middle\" x=\"99\" y=\"-75.8\" font-family=\"Times,serif\" font-size=\"14.00\">o</text>\n</g>\n<!-- 0&#45;&#45;1 -->\n<g id=\"edge1\" class=\"edge\">\n<title>0&#45;&#45;1</title>\n<path fill=\"none\" stroke=\"black\" d=\"M131.42,-124.62C124.52,-115.23 109.46,-94.73 102.57,-85.36\"/>\n</g>\n<!-- 4 -->\n<g id=\"node5\" class=\"node\">\n<title>4</title>\n<text text-anchor=\"middle\" x=\"171\" y=\"-75.8\" font-family=\"Times,serif\" font-size=\"14.00\">o</text>\n</g>\n<!-- 0&#45;&#45;4 -->\n<g id=\"edge4\" class=\"edge\">\n<title>0&#45;&#45;4</title>\n<path fill=\"none\" stroke=\"black\" d=\"M138.58,-124.62C145.48,-115.23 160.54,-94.73 167.43,-85.36\"/>\n</g>\n<!-- 2 -->\n<g id=\"node3\" class=\"node\">\n<title>2</title>\n</g>\n<!-- 1&#45;&#45;2 -->\n<g id=\"edge2\" class=\"edge\">\n<title>1&#45;&#45;2</title>\n<path fill=\"none\" stroke=\"lightgreen\" d=\"M95.13,-75.3C86.37,-68.06 64.48,-49.97 47.86,-36.24\"/>\n</g>\n<!-- 3 -->\n<g id=\"node4\" class=\"node\">\n<title>3</title>\n</g>\n<!-- 1&#45;&#45;3 -->\n<g id=\"edge3\" class=\"edge\">\n<title>1&#45;&#45;3</title>\n<path fill=\"none\" stroke=\"lightgreen\" d=\"M99,-71.67C99,-63.07 99,-47.96 99,-36.13\"/>\n</g>\n<!-- 5 -->\n<g id=\"node6\" class=\"node\">\n<title>5</title>\n</g>\n<!-- 4&#45;&#45;5 -->\n<g id=\"edge5\" class=\"edge\">\n<title>4&#45;&#45;5</title>\n<path fill=\"none\" stroke=\"lightgreen\" d=\"M171,-71.67C171,-63.07 171,-47.96 171,-36.13\"/>\n</g>\n<!-- 6 -->\n<g id=\"node7\" class=\"node\">\n<title>6</title>\n</g>\n<!-- 4&#45;&#45;6 -->\n<g id=\"edge6\" class=\"edge\">\n<title>4&#45;&#45;6</title>\n<path fill=\"none\" stroke=\"lightgreen\" d=\"M174.87,-75.3C183.63,-68.06 205.52,-49.97 222.14,-36.24\"/>\n</g>\n</g>\n</svg>\n</div></td></tr></table>"
     },
     "metadata": {},
     "output_type": "display_data"
    },
    {
     "data": {
      "text/plain": "<IPython.core.display.HTML object>",
      "text/html": "<table style=\"border-style: hidden; border-collapse: collapse;\" width=\"100%\"><tr><td style=\"border-top:hidden;border-bottom:hidden;\"><div align=\"center\" style=\"\"><?xml version=\"1.0\" encoding=\"UTF-8\" standalone=\"no\"?>\n<!DOCTYPE svg PUBLIC \"-//W3C//DTD SVG 1.1//EN\"\n \"http://www.w3.org/Graphics/SVG/1.1/DTD/svg11.dtd\">\n<!-- Generated by graphviz version 2.44.1 (20200629.0846)\n -->\n<!-- Pages: 1 -->\n<svg width=\"181pt\" height=\"288pt\"\n viewBox=\"0.00 0.00 181.39 288.00\" xmlns=\"http://www.w3.org/2000/svg\" xmlns:xlink=\"http://www.w3.org/1999/xlink\">\n<g id=\"graph0\" class=\"graph\" transform=\"scale(0.8 0.8) rotate(0) translate(4 358)\">\n<polygon fill=\"white\" stroke=\"transparent\" points=\"-4,4 -4,-358 224,-358 224,4 -4,4\"/>\n<!-- 0 -->\n<g id=\"node1\" class=\"node\">\n<title>0</title>\n<text text-anchor=\"middle\" x=\"97\" y=\"-342.8\" font-family=\"Times,serif\" font-size=\"14.00\">s</text>\n</g>\n<!-- 1 -->\n<g id=\"node2\" class=\"node\">\n<title>1</title>\n</g>\n<!-- 0&#45;&#45;1 -->\n<g id=\"edge1\" class=\"edge\">\n<title>0&#45;&#45;1</title>\n<path fill=\"none\" stroke=\"lightgreen\" d=\"M94.25,-338.67C90.77,-330.07 84.68,-314.96 79.91,-303.13\"/>\n</g>\n<!-- 2 -->\n<g id=\"node3\" class=\"node\">\n<title>2</title>\n<text text-anchor=\"middle\" x=\"122\" y=\"-281.3\" font-family=\"Times,serif\" font-size=\"14.00\">a</text>\n</g>\n<!-- 0&#45;&#45;2 -->\n<g id=\"edge2\" class=\"edge\">\n<title>0&#45;&#45;2</title>\n<path fill=\"none\" stroke=\"black\" d=\"M99.87,-338.67C104.69,-327.2 114.37,-304.17 119.17,-292.75\"/>\n</g>\n<!-- 3 -->\n<g id=\"node4\" class=\"node\">\n<title>3</title>\n<text text-anchor=\"middle\" x=\"99\" y=\"-219.8\" font-family=\"Times,serif\" font-size=\"14.00\">o</text>\n</g>\n<!-- 2&#45;&#45;3 -->\n<g id=\"edge3\" class=\"edge\">\n<title>2&#45;&#45;3</title>\n<path fill=\"none\" stroke=\"black\" d=\"M119.36,-277.17C114.92,-265.7 106.02,-242.67 101.61,-231.25\"/>\n</g>\n<!-- 6 -->\n<g id=\"node7\" class=\"node\">\n<title>6</title>\n<text text-anchor=\"middle\" x=\"146\" y=\"-219.8\" font-family=\"Times,serif\" font-size=\"14.00\">l</text>\n</g>\n<!-- 2&#45;&#45;6 -->\n<g id=\"edge6\" class=\"edge\">\n<title>2&#45;&#45;6</title>\n<path fill=\"none\" stroke=\"black\" d=\"M124.75,-277.17C129.63,-265.09 139.67,-240.19 143.97,-229.52\"/>\n</g>\n<!-- 4 -->\n<g id=\"node5\" class=\"node\">\n<title>4</title>\n<text text-anchor=\"middle\" x=\"27\" y=\"-158.3\" font-family=\"Times,serif\" font-size=\"14.00\">*</text>\n</g>\n<!-- 3&#45;&#45;4 -->\n<g id=\"edge4\" class=\"edge\">\n<title>3&#45;&#45;4</title>\n<path fill=\"none\" stroke=\"lightgreen\" d=\"M95.13,-219.3C86.37,-212.06 64.48,-193.97 47.86,-180.24\"/>\n</g>\n<!-- 5 -->\n<g id=\"node6\" class=\"node\">\n<title>5</title>\n</g>\n<!-- 3&#45;&#45;5 -->\n<g id=\"edge5\" class=\"edge\">\n<title>3&#45;&#45;5</title>\n<path fill=\"none\" stroke=\"lightgreen\" d=\"M99,-215.67C99,-207.07 99,-191.96 99,-180.13\"/>\n</g>\n<!-- 7 -->\n<g id=\"node8\" class=\"node\">\n<title>7</title>\n<text text-anchor=\"middle\" x=\"146\" y=\"-158.3\" font-family=\"Times,serif\" font-size=\"14.00\">l</text>\n</g>\n<!-- 6&#45;&#45;7 -->\n<g id=\"edge7\" class=\"edge\">\n<title>6&#45;&#45;7</title>\n<path fill=\"none\" stroke=\"black\" d=\"M146,-215.67C146,-204.2 146,-181.17 146,-169.75\"/>\n</g>\n<!-- 12 -->\n<g id=\"node13\" class=\"node\">\n<title>12</title>\n</g>\n<!-- 6&#45;&#45;12 -->\n<g id=\"edge12\" class=\"edge\">\n<title>6&#45;&#45;12</title>\n<path fill=\"none\" stroke=\"lightgreen\" d=\"M148.02,-219.94C153.36,-213.18 168.22,-194.37 179.41,-180.21\"/>\n</g>\n<!-- 8 -->\n<g id=\"node9\" class=\"node\">\n<title>8</title>\n<text text-anchor=\"middle\" x=\"121\" y=\"-86.3\" font-family=\"Times,serif\" font-size=\"14.00\">o</text>\n</g>\n<!-- 7&#45;&#45;8 -->\n<g id=\"edge8\" class=\"edge\">\n<title>7&#45;&#45;8</title>\n<path fill=\"none\" stroke=\"black\" d=\"M143.87,-155.03C139.24,-142.07 128.29,-111.42 123.42,-97.77\"/>\n</g>\n<!-- 11 -->\n<g id=\"node12\" class=\"node\">\n<title>11</title>\n</g>\n<!-- 7&#45;&#45;11 -->\n<g id=\"edge11\" class=\"edge\">\n<title>7&#45;&#45;11</title>\n<path fill=\"none\" stroke=\"lightgreen\" d=\"M148.05,-155.03C151.56,-144.78 158.87,-123.47 164.09,-108.25\"/>\n</g>\n<!-- 9 -->\n<g id=\"node10\" class=\"node\">\n<title>9</title>\n</g>\n<!-- 8&#45;&#45;9 -->\n<g id=\"edge9\" class=\"edge\">\n<title>8&#45;&#45;9</title>\n<path fill=\"none\" stroke=\"lightgreen\" d=\"M117.55,-82.29C112.13,-71.75 101.45,-50.99 93.8,-36.12\"/>\n</g>\n<!-- 10 -->\n<g id=\"node11\" class=\"node\">\n<title>10</title>\n</g>\n<!-- 8&#45;&#45;10 -->\n<g id=\"edge10\" class=\"edge\">\n<title>8&#45;&#45;10</title>\n<path fill=\"none\" stroke=\"lightgreen\" d=\"M124.45,-82.29C129.87,-71.75 140.55,-50.99 148.2,-36.12\"/>\n</g>\n</g>\n</svg>\n</div></td><td style=\"border-top:hidden;border-bottom:hidden;\"><div align=\"center\" style=\"\"><?xml version=\"1.0\" encoding=\"UTF-8\" standalone=\"no\"?>\n<!DOCTYPE svg PUBLIC \"-//W3C//DTD SVG 1.1//EN\"\n \"http://www.w3.org/Graphics/SVG/1.1/DTD/svg11.dtd\">\n<!-- Generated by graphviz version 2.44.1 (20200629.0846)\n -->\n<!-- Pages: 1 -->\n<svg width=\"169pt\" height=\"239pt\"\n viewBox=\"0.00 0.00 169.00 239.00\" xmlns=\"http://www.w3.org/2000/svg\" xmlns:xlink=\"http://www.w3.org/1999/xlink\">\n<g id=\"graph0\" class=\"graph\" transform=\"scale(1 1) rotate(0) translate(4 235)\">\n<polygon fill=\"white\" stroke=\"transparent\" points=\"-4,4 -4,-235 165,-235 165,4 -4,4\"/>\n<!-- 0 -->\n<g id=\"node1\" class=\"node\">\n<title>0</title>\n<text text-anchor=\"middle\" x=\"110\" y=\"-219.8\" font-family=\"Times,serif\" font-size=\"14.00\">l</text>\n</g>\n<!-- 1 -->\n<g id=\"node2\" class=\"node\">\n<title>1</title>\n<text text-anchor=\"middle\" x=\"87\" y=\"-158.3\" font-family=\"Times,serif\" font-size=\"14.00\">l</text>\n</g>\n<!-- 0&#45;&#45;1 -->\n<g id=\"edge1\" class=\"edge\">\n<title>0&#45;&#45;1</title>\n<path fill=\"none\" stroke=\"black\" d=\"M107.88,-217.01C103.47,-205.62 93.39,-179.54 89.05,-168.31\"/>\n</g>\n<!-- 6 -->\n<g id=\"node7\" class=\"node\">\n<title>6</title>\n</g>\n<!-- 0&#45;&#45;6 -->\n<g id=\"edge6\" class=\"edge\">\n<title>0&#45;&#45;6</title>\n<path fill=\"none\" stroke=\"lightgreen\" d=\"M112.05,-217.43C115.33,-209.28 121.94,-192.9 127.05,-180.23\"/>\n</g>\n<!-- 2 -->\n<g id=\"node3\" class=\"node\">\n<title>2</title>\n<text text-anchor=\"middle\" x=\"63\" y=\"-86.3\" font-family=\"Times,serif\" font-size=\"14.00\">o</text>\n</g>\n<!-- 1&#45;&#45;2 -->\n<g id=\"edge2\" class=\"edge\">\n<title>1&#45;&#45;2</title>\n<path fill=\"none\" stroke=\"black\" d=\"M84.95,-155.03C80.51,-142.07 70,-111.42 65.32,-97.77\"/>\n</g>\n<!-- 5 -->\n<g id=\"node6\" class=\"node\">\n<title>5</title>\n</g>\n<!-- 1&#45;&#45;5 -->\n<g id=\"edge5\" class=\"edge\">\n<title>1&#45;&#45;5</title>\n<path fill=\"none\" stroke=\"lightgreen\" d=\"M89.13,-155.03C92.79,-144.78 100.4,-123.47 105.84,-108.25\"/>\n</g>\n<!-- 3 -->\n<g id=\"node4\" class=\"node\">\n<title>3</title>\n</g>\n<!-- 2&#45;&#45;3 -->\n<g id=\"edge3\" class=\"edge\">\n<title>2&#45;&#45;3</title>\n<path fill=\"none\" stroke=\"lightgreen\" d=\"M59.55,-82.29C54.13,-71.75 43.45,-50.99 35.8,-36.12\"/>\n</g>\n<!-- 4 -->\n<g id=\"node5\" class=\"node\">\n<title>4</title>\n</g>\n<!-- 2&#45;&#45;4 -->\n<g id=\"edge4\" class=\"edge\">\n<title>2&#45;&#45;4</title>\n<path fill=\"none\" stroke=\"lightgreen\" d=\"M66.45,-82.29C71.87,-71.75 82.55,-50.99 90.2,-36.12\"/>\n</g>\n</g>\n</svg>\n</div></td></tr></table>"
     },
     "metadata": {},
     "output_type": "display_data"
    },
    {
     "data": {
      "text/plain": "<IPython.core.display.HTML object>",
      "text/html": "<table style=\"border-style: hidden; border-collapse: collapse;\" width=\"100%\"><tr><td style=\"border-top:hidden;border-bottom:hidden;\"><div align=\"center\" style=\"\"><?xml version=\"1.0\" encoding=\"UTF-8\" standalone=\"no\"?>\n<!DOCTYPE svg PUBLIC \"-//W3C//DTD SVG 1.1//EN\"\n \"http://www.w3.org/Graphics/SVG/1.1/DTD/svg11.dtd\">\n<!-- Generated by graphviz version 2.44.1 (20200629.0846)\n -->\n<!-- Pages: 1 -->\n<svg width=\"193pt\" height=\"288pt\"\n viewBox=\"0.00 0.00 192.53 288.00\" xmlns=\"http://www.w3.org/2000/svg\" xmlns:xlink=\"http://www.w3.org/1999/xlink\">\n<g id=\"graph0\" class=\"graph\" transform=\"scale(0.8 0.8) rotate(0) translate(4 358)\">\n<polygon fill=\"white\" stroke=\"transparent\" points=\"-4,4 -4,-358 238,-358 238,4 -4,4\"/>\n<!-- 0 -->\n<g id=\"node1\" class=\"node\">\n<title>0</title>\n<text text-anchor=\"middle\" x=\"98\" y=\"-342.8\" font-family=\"Times,serif\" font-size=\"14.00\">s</text>\n</g>\n<!-- 1 -->\n<g id=\"node2\" class=\"node\">\n<title>1</title>\n</g>\n<!-- 0&#45;&#45;1 -->\n<g id=\"edge1\" class=\"edge\">\n<title>0&#45;&#45;1</title>\n<path fill=\"none\" stroke=\"lightgreen\" d=\"M95.25,-338.67C91.77,-330.07 85.68,-314.96 80.91,-303.13\"/>\n</g>\n<!-- 2 -->\n<g id=\"node3\" class=\"node\">\n<title>2</title>\n<text text-anchor=\"middle\" x=\"123\" y=\"-281.3\" font-family=\"Times,serif\" font-size=\"14.00\">a</text>\n</g>\n<!-- 0&#45;&#45;2 -->\n<g id=\"edge2\" class=\"edge\">\n<title>0&#45;&#45;2</title>\n<path fill=\"none\" stroke=\"black\" d=\"M100.87,-338.67C105.69,-327.2 115.37,-304.17 120.17,-292.75\"/>\n</g>\n<!-- 3 -->\n<g id=\"node4\" class=\"node\">\n<title>3</title>\n<text text-anchor=\"middle\" x=\"99\" y=\"-219.8\" font-family=\"Times,serif\" font-size=\"14.00\">o</text>\n</g>\n<!-- 2&#45;&#45;3 -->\n<g id=\"edge3\" class=\"edge\">\n<title>2&#45;&#45;3</title>\n<path fill=\"none\" stroke=\"black\" d=\"M120.25,-277.17C115.62,-265.7 106.33,-242.67 101.72,-231.25\"/>\n</g>\n<!-- 6 -->\n<g id=\"node7\" class=\"node\">\n<title>6</title>\n<text text-anchor=\"middle\" x=\"147\" y=\"-219.8\" font-family=\"Times,serif\" font-size=\"14.00\">l</text>\n</g>\n<!-- 2&#45;&#45;6 -->\n<g id=\"edge6\" class=\"edge\">\n<title>2&#45;&#45;6</title>\n<path fill=\"none\" stroke=\"black\" d=\"M125.75,-277.17C130.63,-265.09 140.67,-240.19 144.97,-229.52\"/>\n</g>\n<!-- 4 -->\n<g id=\"node5\" class=\"node\">\n<title>4</title>\n<text text-anchor=\"middle\" x=\"27\" y=\"-158.3\" font-family=\"Times,serif\" font-size=\"14.00\">*</text>\n</g>\n<!-- 3&#45;&#45;4 -->\n<g id=\"edge4\" class=\"edge\">\n<title>3&#45;&#45;4</title>\n<path fill=\"none\" stroke=\"lightgreen\" d=\"M95.13,-219.3C86.37,-212.06 64.48,-193.97 47.86,-180.24\"/>\n</g>\n<!-- 5 -->\n<g id=\"node6\" class=\"node\">\n<title>5</title>\n</g>\n<!-- 3&#45;&#45;5 -->\n<g id=\"edge5\" class=\"edge\">\n<title>3&#45;&#45;5</title>\n<path fill=\"none\" stroke=\"lightgreen\" d=\"M99,-215.67C99,-207.07 99,-191.96 99,-180.13\"/>\n</g>\n<!-- 7 -->\n<g id=\"node8\" class=\"node\">\n<title>7</title>\n<text text-anchor=\"middle\" x=\"147\" y=\"-158.3\" font-family=\"Times,serif\" font-size=\"14.00\">s</text>\n</g>\n<!-- 6&#45;&#45;7 -->\n<g id=\"edge7\" class=\"edge\">\n<title>6&#45;&#45;7</title>\n<path fill=\"none\" stroke=\"black\" d=\"M147,-215.67C147,-204.2 147,-181.17 147,-169.75\"/>\n</g>\n<!-- 12 -->\n<g id=\"node13\" class=\"node\">\n<title>12</title>\n</g>\n<!-- 6&#45;&#45;12 -->\n<g id=\"edge12\" class=\"edge\">\n<title>6&#45;&#45;12</title>\n<path fill=\"none\" stroke=\"lightgreen\" d=\"M149.06,-219.94C154.52,-213.18 169.69,-194.37 181.12,-180.21\"/>\n</g>\n<!-- 8 -->\n<g id=\"node9\" class=\"node\">\n<title>8</title>\n</g>\n<!-- 7&#45;&#45;8 -->\n<g id=\"edge8\" class=\"edge\">\n<title>7&#45;&#45;8</title>\n<path fill=\"none\" stroke=\"lightgreen\" d=\"M144.6,-154.29C140.84,-143.75 133.42,-122.99 128.11,-108.12\"/>\n</g>\n<!-- 9 -->\n<g id=\"node10\" class=\"node\">\n<title>9</title>\n<text text-anchor=\"middle\" x=\"171\" y=\"-86.3\" font-family=\"Times,serif\" font-size=\"14.00\">o</text>\n</g>\n<!-- 7&#45;&#45;9 -->\n<g id=\"edge9\" class=\"edge\">\n<title>7&#45;&#45;9</title>\n<path fill=\"none\" stroke=\"black\" d=\"M149.3,-154.29C153.9,-140.87 164.18,-110.9 168.74,-97.59\"/>\n</g>\n<!-- 10 -->\n<g id=\"node11\" class=\"node\">\n<title>10</title>\n</g>\n<!-- 9&#45;&#45;10 -->\n<g id=\"edge10\" class=\"edge\">\n<title>9&#45;&#45;10</title>\n<path fill=\"none\" stroke=\"lightgreen\" d=\"M167.55,-82.29C162.13,-71.75 151.45,-50.99 143.8,-36.12\"/>\n</g>\n<!-- 11 -->\n<g id=\"node12\" class=\"node\">\n<title>11</title>\n</g>\n<!-- 9&#45;&#45;11 -->\n<g id=\"edge11\" class=\"edge\">\n<title>9&#45;&#45;11</title>\n<path fill=\"none\" stroke=\"lightgreen\" d=\"M174.45,-82.29C179.87,-71.75 190.55,-50.99 198.2,-36.12\"/>\n</g>\n</g>\n</svg>\n</div></td><td style=\"border-top:hidden;border-bottom:hidden;\"><div align=\"center\" style=\"\"><?xml version=\"1.0\" encoding=\"UTF-8\" standalone=\"no\"?>\n<!DOCTYPE svg PUBLIC \"-//W3C//DTD SVG 1.1//EN\"\n \"http://www.w3.org/Graphics/SVG/1.1/DTD/svg11.dtd\">\n<!-- Generated by graphviz version 2.44.1 (20200629.0846)\n -->\n<!-- Pages: 1 -->\n<svg width=\"147pt\" height=\"239pt\"\n viewBox=\"0.00 0.00 147.00 239.00\" xmlns=\"http://www.w3.org/2000/svg\" xmlns:xlink=\"http://www.w3.org/1999/xlink\">\n<g id=\"graph0\" class=\"graph\" transform=\"scale(1 1) rotate(0) translate(4 235)\">\n<polygon fill=\"white\" stroke=\"transparent\" points=\"-4,4 -4,-235 143,-235 143,4 -4,4\"/>\n<!-- 0 -->\n<g id=\"node1\" class=\"node\">\n<title>0</title>\n<text text-anchor=\"middle\" x=\"75\" y=\"-219.8\" font-family=\"Times,serif\" font-size=\"14.00\">l</text>\n</g>\n<!-- 1 -->\n<g id=\"node2\" class=\"node\">\n<title>1</title>\n<text text-anchor=\"middle\" x=\"51\" y=\"-158.3\" font-family=\"Times,serif\" font-size=\"14.00\">s</text>\n</g>\n<!-- 0&#45;&#45;1 -->\n<g id=\"edge1\" class=\"edge\">\n<title>0&#45;&#45;1</title>\n<path fill=\"none\" stroke=\"black\" d=\"M72.95,-217.43C68.65,-206.75 58.64,-181.94 53.77,-169.86\"/>\n</g>\n<!-- 6 -->\n<g id=\"node7\" class=\"node\">\n<title>6</title>\n</g>\n<!-- 0&#45;&#45;6 -->\n<g id=\"edge6\" class=\"edge\">\n<title>0&#45;&#45;6</title>\n<path fill=\"none\" stroke=\"lightgreen\" d=\"M77.05,-217.43C80.33,-209.28 86.94,-192.9 92.05,-180.23\"/>\n</g>\n<!-- 2 -->\n<g id=\"node3\" class=\"node\">\n<title>2</title>\n</g>\n<!-- 1&#45;&#45;2 -->\n<g id=\"edge2\" class=\"edge\">\n<title>1&#45;&#45;2</title>\n<path fill=\"none\" stroke=\"lightgreen\" d=\"M48.7,-154.29C45.09,-143.75 37.97,-122.99 32.87,-108.12\"/>\n</g>\n<!-- 3 -->\n<g id=\"node4\" class=\"node\">\n<title>3</title>\n<text text-anchor=\"middle\" x=\"76\" y=\"-86.3\" font-family=\"Times,serif\" font-size=\"14.00\">o</text>\n</g>\n<!-- 1&#45;&#45;3 -->\n<g id=\"edge3\" class=\"edge\">\n<title>1&#45;&#45;3</title>\n<path fill=\"none\" stroke=\"black\" d=\"M53.4,-154.29C58.19,-140.87 68.89,-110.9 73.65,-97.59\"/>\n</g>\n<!-- 4 -->\n<g id=\"node5\" class=\"node\">\n<title>4</title>\n</g>\n<!-- 3&#45;&#45;4 -->\n<g id=\"edge4\" class=\"edge\">\n<title>3&#45;&#45;4</title>\n<path fill=\"none\" stroke=\"lightgreen\" d=\"M72.55,-82.29C67.13,-71.75 56.45,-50.99 48.8,-36.12\"/>\n</g>\n<!-- 5 -->\n<g id=\"node6\" class=\"node\">\n<title>5</title>\n</g>\n<!-- 3&#45;&#45;5 -->\n<g id=\"edge5\" class=\"edge\">\n<title>3&#45;&#45;5</title>\n<path fill=\"none\" stroke=\"lightgreen\" d=\"M79.45,-82.29C84.87,-71.75 95.55,-50.99 103.2,-36.12\"/>\n</g>\n</g>\n</svg>\n</div></td></tr></table>"
     },
     "metadata": {},
     "output_type": "display_data"
    }
   ],
   "source": [
    "c.display_diff_trees(1, 0)"
   ],
   "metadata": {
    "collapsed": false,
    "pycharm": {
     "name": "#%%\n"
    }
   }
  },
  {
   "cell_type": "code",
   "execution_count": 27,
   "outputs": [
    {
     "data": {
      "text/plain": "<IPython.core.display.HTML object>",
      "text/html": "1,1,-1: -1 * 3"
     },
     "metadata": {},
     "output_type": "display_data"
    },
    {
     "data": {
      "text/plain": "<IPython.core.display.HTML object>",
      "text/html": "<table style=\"border-style: hidden; border-collapse: collapse;\" width=\"100%\"><tr><td style=\"border-top:hidden;border-bottom:hidden;\"><div align=\"center\" style=\"\"><?xml version=\"1.0\" encoding=\"UTF-8\" standalone=\"no\"?>\n<!DOCTYPE svg PUBLIC \"-//W3C//DTD SVG 1.1//EN\"\n \"http://www.w3.org/Graphics/SVG/1.1/DTD/svg11.dtd\">\n<!-- Generated by graphviz version 2.44.1 (20200629.0846)\n -->\n<!-- Pages: 1 -->\n<svg width=\"128pt\" height=\"288pt\"\n viewBox=\"0.00 0.00 127.83 288.00\" xmlns=\"http://www.w3.org/2000/svg\" xmlns:xlink=\"http://www.w3.org/1999/xlink\">\n<g id=\"graph0\" class=\"graph\" transform=\"scale(0.75 0.75) rotate(0) translate(4 379)\">\n<polygon fill=\"white\" stroke=\"transparent\" points=\"-4,4 -4,-379 166,-379 166,4 -4,4\"/>\n<!-- 0 -->\n<g id=\"node1\" class=\"node\">\n<title>0</title>\n<text text-anchor=\"middle\" x=\"111\" y=\"-363.8\" font-family=\"Times,serif\" font-size=\"14.00\">l</text>\n</g>\n<!-- 1 -->\n<g id=\"node2\" class=\"node\">\n<title>1</title>\n<text text-anchor=\"middle\" x=\"87\" y=\"-302.3\" font-family=\"Times,serif\" font-size=\"14.00\">s</text>\n</g>\n<!-- 0&#45;&#45;1 -->\n<g id=\"edge1\" class=\"edge\">\n<title>0&#45;&#45;1</title>\n<path fill=\"none\" stroke=\"black\" d=\"M108.95,-361.43C104.65,-350.75 94.64,-325.94 89.77,-313.86\"/>\n</g>\n<!-- 10 -->\n<g id=\"node11\" class=\"node\">\n<title>10</title>\n</g>\n<!-- 0&#45;&#45;10 -->\n<g id=\"edge10\" class=\"edge\">\n<title>0&#45;&#45;10</title>\n<path fill=\"none\" stroke=\"lightgreen\" d=\"M113.05,-361.43C116.33,-353.28 122.94,-336.9 128.05,-324.23\"/>\n</g>\n<!-- 2 -->\n<g id=\"node3\" class=\"node\">\n<title>2</title>\n</g>\n<!-- 1&#45;&#45;2 -->\n<g id=\"edge2\" class=\"edge\">\n<title>1&#45;&#45;2</title>\n<path fill=\"none\" stroke=\"lightgreen\" d=\"M84.79,-298.29C81.33,-287.75 74.51,-266.99 69.62,-252.12\"/>\n</g>\n<!-- 3 -->\n<g id=\"node4\" class=\"node\">\n<title>3</title>\n<text text-anchor=\"middle\" x=\"111\" y=\"-230.3\" font-family=\"Times,serif\" font-size=\"14.00\">l</text>\n</g>\n<!-- 1&#45;&#45;3 -->\n<g id=\"edge3\" class=\"edge\">\n<title>1&#45;&#45;3</title>\n<path fill=\"none\" stroke=\"black\" d=\"M89.3,-298.29C93.95,-284.74 104.39,-254.29 108.88,-241.19\"/>\n</g>\n<!-- 4 -->\n<g id=\"node5\" class=\"node\">\n<title>4</title>\n<text text-anchor=\"middle\" x=\"87\" y=\"-158.3\" font-family=\"Times,serif\" font-size=\"14.00\">l</text>\n</g>\n<!-- 3&#45;&#45;4 -->\n<g id=\"edge4\" class=\"edge\">\n<title>3&#45;&#45;4</title>\n<path fill=\"none\" stroke=\"black\" d=\"M108.95,-227.03C104.42,-213.81 93.57,-182.16 89.04,-168.95\"/>\n</g>\n<!-- 9 -->\n<g id=\"node10\" class=\"node\">\n<title>9</title>\n</g>\n<!-- 3&#45;&#45;9 -->\n<g id=\"edge9\" class=\"edge\">\n<title>3&#45;&#45;9</title>\n<path fill=\"none\" stroke=\"lightgreen\" d=\"M113.12,-226.54C116.55,-216.12 123.41,-195.24 128.33,-180.26\"/>\n</g>\n<!-- 5 -->\n<g id=\"node6\" class=\"node\">\n<title>5</title>\n<text text-anchor=\"middle\" x=\"63\" y=\"-86.3\" font-family=\"Times,serif\" font-size=\"14.00\">o</text>\n</g>\n<!-- 4&#45;&#45;5 -->\n<g id=\"edge5\" class=\"edge\">\n<title>4&#45;&#45;5</title>\n<path fill=\"none\" stroke=\"black\" d=\"M84.95,-155.03C80.51,-142.07 70,-111.42 65.32,-97.77\"/>\n</g>\n<!-- 8 -->\n<g id=\"node9\" class=\"node\">\n<title>8</title>\n<text text-anchor=\"middle\" x=\"112\" y=\"-86.3\" font-family=\"Times,serif\" font-size=\"14.00\">*</text>\n</g>\n<!-- 4&#45;&#45;8 -->\n<g id=\"edge8\" class=\"edge\">\n<title>4&#45;&#45;8</title>\n<path fill=\"none\" stroke=\"lightgreen\" d=\"M89.13,-155.03C92.79,-144.78 100.4,-123.47 105.84,-108.25\"/>\n</g>\n<!-- 6 -->\n<g id=\"node7\" class=\"node\">\n<title>6</title>\n</g>\n<!-- 5&#45;&#45;6 -->\n<g id=\"edge6\" class=\"edge\">\n<title>5&#45;&#45;6</title>\n<path fill=\"none\" stroke=\"lightgreen\" d=\"M59.55,-82.29C54.13,-71.75 43.45,-50.99 35.8,-36.12\"/>\n</g>\n<!-- 7 -->\n<g id=\"node8\" class=\"node\">\n<title>7</title>\n</g>\n<!-- 5&#45;&#45;7 -->\n<g id=\"edge7\" class=\"edge\">\n<title>5&#45;&#45;7</title>\n<path fill=\"none\" stroke=\"lightgreen\" d=\"M66.45,-82.29C71.87,-71.75 82.55,-50.99 90.2,-36.12\"/>\n</g>\n</g>\n</svg>\n</div></td><td style=\"border-top:hidden;border-bottom:hidden;\"><div align=\"center\" style=\"\"><?xml version=\"1.0\" encoding=\"UTF-8\" standalone=\"no\"?>\n<!DOCTYPE svg PUBLIC \"-//W3C//DTD SVG 1.1//EN\"\n \"http://www.w3.org/Graphics/SVG/1.1/DTD/svg11.dtd\">\n<!-- Generated by graphviz version 2.44.1 (20200629.0846)\n -->\n<!-- Pages: 1 -->\n<svg width=\"147pt\" height=\"167pt\"\n viewBox=\"0.00 0.00 147.00 167.00\" xmlns=\"http://www.w3.org/2000/svg\" xmlns:xlink=\"http://www.w3.org/1999/xlink\">\n<g id=\"graph0\" class=\"graph\" transform=\"scale(1 1) rotate(0) translate(4 163)\">\n<polygon fill=\"white\" stroke=\"transparent\" points=\"-4,4 -4,-163 143,-163 143,4 -4,4\"/>\n<!-- 0 -->\n<g id=\"node1\" class=\"node\">\n<title>0</title>\n<text text-anchor=\"middle\" x=\"87\" y=\"-147.8\" font-family=\"Times,serif\" font-size=\"14.00\">l</text>\n</g>\n<!-- 1 -->\n<g id=\"node2\" class=\"node\">\n<title>1</title>\n<text text-anchor=\"middle\" x=\"63\" y=\"-86.3\" font-family=\"Times,serif\" font-size=\"14.00\">o</text>\n</g>\n<!-- 0&#45;&#45;1 -->\n<g id=\"edge1\" class=\"edge\">\n<title>0&#45;&#45;1</title>\n<path fill=\"none\" stroke=\"black\" d=\"M84.95,-145.43C80.65,-134.75 70.64,-109.94 65.77,-97.86\"/>\n</g>\n<!-- 4 -->\n<g id=\"node5\" class=\"node\">\n<title>4</title>\n</g>\n<!-- 0&#45;&#45;4 -->\n<g id=\"edge4\" class=\"edge\">\n<title>0&#45;&#45;4</title>\n<path fill=\"none\" stroke=\"lightgreen\" d=\"M89.13,-145.43C92.56,-137.28 99.44,-120.9 104.76,-108.23\"/>\n</g>\n<!-- 2 -->\n<g id=\"node3\" class=\"node\">\n<title>2</title>\n</g>\n<!-- 1&#45;&#45;2 -->\n<g id=\"edge2\" class=\"edge\">\n<title>1&#45;&#45;2</title>\n<path fill=\"none\" stroke=\"lightgreen\" d=\"M59.55,-82.29C54.13,-71.75 43.45,-50.99 35.8,-36.12\"/>\n</g>\n<!-- 3 -->\n<g id=\"node4\" class=\"node\">\n<title>3</title>\n</g>\n<!-- 1&#45;&#45;3 -->\n<g id=\"edge3\" class=\"edge\">\n<title>1&#45;&#45;3</title>\n<path fill=\"none\" stroke=\"lightgreen\" d=\"M66.45,-82.29C71.87,-71.75 82.55,-50.99 90.2,-36.12\"/>\n</g>\n</g>\n</svg>\n</div></td></tr></table>"
     },
     "metadata": {},
     "output_type": "display_data"
    },
    {
     "data": {
      "text/plain": "<IPython.core.display.HTML object>",
      "text/html": "<table style=\"border-style: hidden; border-collapse: collapse;\" width=\"100%\"><tr><td style=\"border-top:hidden;border-bottom:hidden;\"><div align=\"center\" style=\"\"><?xml version=\"1.0\" encoding=\"UTF-8\" standalone=\"no\"?>\n<!DOCTYPE svg PUBLIC \"-//W3C//DTD SVG 1.1//EN\"\n \"http://www.w3.org/Graphics/SVG/1.1/DTD/svg11.dtd\">\n<!-- Generated by graphviz version 2.44.1 (20200629.0846)\n -->\n<!-- Pages: 1 -->\n<svg width=\"118pt\" height=\"288pt\"\n viewBox=\"0.00 0.00 118.06 288.00\" xmlns=\"http://www.w3.org/2000/svg\" xmlns:xlink=\"http://www.w3.org/1999/xlink\">\n<g id=\"graph0\" class=\"graph\" transform=\"scale(0.75 0.75) rotate(0) translate(4 379)\">\n<polygon fill=\"white\" stroke=\"transparent\" points=\"-4,4 -4,-379 153,-379 153,4 -4,4\"/>\n<!-- 0 -->\n<g id=\"node1\" class=\"node\">\n<title>0</title>\n<text text-anchor=\"middle\" x=\"74\" y=\"-363.8\" font-family=\"Times,serif\" font-size=\"14.00\">s</text>\n</g>\n<!-- 1 -->\n<g id=\"node2\" class=\"node\">\n<title>1</title>\n</g>\n<!-- 0&#45;&#45;1 -->\n<g id=\"edge1\" class=\"edge\">\n<title>0&#45;&#45;1</title>\n<path fill=\"none\" stroke=\"lightgreen\" d=\"M71.36,-359.67C68.03,-351.07 62.2,-335.96 57.62,-324.13\"/>\n</g>\n<!-- 2 -->\n<g id=\"node3\" class=\"node\">\n<title>2</title>\n<text text-anchor=\"middle\" x=\"98\" y=\"-302.3\" font-family=\"Times,serif\" font-size=\"14.00\">l</text>\n</g>\n<!-- 0&#45;&#45;2 -->\n<g id=\"edge2\" class=\"edge\">\n<title>0&#45;&#45;2</title>\n<path fill=\"none\" stroke=\"black\" d=\"M76.75,-359.67C81.63,-347.59 91.67,-322.69 95.97,-312.02\"/>\n</g>\n<!-- 3 -->\n<g id=\"node4\" class=\"node\">\n<title>3</title>\n<text text-anchor=\"middle\" x=\"75\" y=\"-230.3\" font-family=\"Times,serif\" font-size=\"14.00\">l</text>\n</g>\n<!-- 2&#45;&#45;3 -->\n<g id=\"edge3\" class=\"edge\">\n<title>2&#45;&#45;3</title>\n<path fill=\"none\" stroke=\"black\" d=\"M95.88,-298.54C91.47,-285.14 81.39,-254.46 77.05,-241.24\"/>\n</g>\n<!-- 10 -->\n<g id=\"node11\" class=\"node\">\n<title>10</title>\n</g>\n<!-- 2&#45;&#45;10 -->\n<g id=\"edge10\" class=\"edge\">\n<title>2&#45;&#45;10</title>\n<path fill=\"none\" stroke=\"lightgreen\" d=\"M100.05,-299.03C103.56,-288.78 110.87,-267.47 116.09,-252.25\"/>\n</g>\n<!-- 4 -->\n<g id=\"node5\" class=\"node\">\n<title>4</title>\n<text text-anchor=\"middle\" x=\"51\" y=\"-158.3\" font-family=\"Times,serif\" font-size=\"14.00\">s</text>\n</g>\n<!-- 3&#45;&#45;4 -->\n<g id=\"edge4\" class=\"edge\">\n<title>3&#45;&#45;4</title>\n<path fill=\"none\" stroke=\"black\" d=\"M72.95,-227.03C68.51,-214.07 58,-183.42 53.32,-169.77\"/>\n</g>\n<!-- 9 -->\n<g id=\"node10\" class=\"node\">\n<title>9</title>\n<text text-anchor=\"middle\" x=\"99\" y=\"-158.3\" font-family=\"Times,serif\" font-size=\"14.00\">*</text>\n</g>\n<!-- 3&#45;&#45;9 -->\n<g id=\"edge9\" class=\"edge\">\n<title>3&#45;&#45;9</title>\n<path fill=\"none\" stroke=\"lightgreen\" d=\"M77.05,-227.03C80.56,-216.78 87.87,-195.47 93.09,-180.25\"/>\n</g>\n<!-- 5 -->\n<g id=\"node6\" class=\"node\">\n<title>5</title>\n</g>\n<!-- 4&#45;&#45;5 -->\n<g id=\"edge5\" class=\"edge\">\n<title>4&#45;&#45;5</title>\n<path fill=\"none\" stroke=\"lightgreen\" d=\"M48.7,-154.29C45.09,-143.75 37.97,-122.99 32.87,-108.12\"/>\n</g>\n<!-- 6 -->\n<g id=\"node7\" class=\"node\">\n<title>6</title>\n<text text-anchor=\"middle\" x=\"76\" y=\"-86.3\" font-family=\"Times,serif\" font-size=\"14.00\">o</text>\n</g>\n<!-- 4&#45;&#45;6 -->\n<g id=\"edge6\" class=\"edge\">\n<title>4&#45;&#45;6</title>\n<path fill=\"none\" stroke=\"black\" d=\"M53.4,-154.29C58.19,-140.87 68.89,-110.9 73.65,-97.59\"/>\n</g>\n<!-- 7 -->\n<g id=\"node8\" class=\"node\">\n<title>7</title>\n</g>\n<!-- 6&#45;&#45;7 -->\n<g id=\"edge7\" class=\"edge\">\n<title>6&#45;&#45;7</title>\n<path fill=\"none\" stroke=\"lightgreen\" d=\"M72.55,-82.29C67.13,-71.75 56.45,-50.99 48.8,-36.12\"/>\n</g>\n<!-- 8 -->\n<g id=\"node9\" class=\"node\">\n<title>8</title>\n</g>\n<!-- 6&#45;&#45;8 -->\n<g id=\"edge8\" class=\"edge\">\n<title>6&#45;&#45;8</title>\n<path fill=\"none\" stroke=\"lightgreen\" d=\"M79.45,-82.29C84.87,-71.75 95.55,-50.99 103.2,-36.12\"/>\n</g>\n</g>\n</svg>\n</div></td><td style=\"border-top:hidden;border-bottom:hidden;\"><div align=\"center\" style=\"\"><?xml version=\"1.0\" encoding=\"UTF-8\" standalone=\"no\"?>\n<!DOCTYPE svg PUBLIC \"-//W3C//DTD SVG 1.1//EN\"\n \"http://www.w3.org/Graphics/SVG/1.1/DTD/svg11.dtd\">\n<!-- Generated by graphviz version 2.44.1 (20200629.0846)\n -->\n<!-- Pages: 1 -->\n<svg width=\"147pt\" height=\"167pt\"\n viewBox=\"0.00 0.00 147.00 167.00\" xmlns=\"http://www.w3.org/2000/svg\" xmlns:xlink=\"http://www.w3.org/1999/xlink\">\n<g id=\"graph0\" class=\"graph\" transform=\"scale(1 1) rotate(0) translate(4 163)\">\n<polygon fill=\"white\" stroke=\"transparent\" points=\"-4,4 -4,-163 143,-163 143,4 -4,4\"/>\n<!-- 0 -->\n<g id=\"node1\" class=\"node\">\n<title>0</title>\n<text text-anchor=\"middle\" x=\"51\" y=\"-147.8\" font-family=\"Times,serif\" font-size=\"14.00\">s</text>\n</g>\n<!-- 1 -->\n<g id=\"node2\" class=\"node\">\n<title>1</title>\n</g>\n<!-- 0&#45;&#45;1 -->\n<g id=\"edge1\" class=\"edge\">\n<title>0&#45;&#45;1</title>\n<path fill=\"none\" stroke=\"lightgreen\" d=\"M48.25,-143.67C44.77,-135.07 38.68,-119.96 33.91,-108.13\"/>\n</g>\n<!-- 2 -->\n<g id=\"node3\" class=\"node\">\n<title>2</title>\n<text text-anchor=\"middle\" x=\"76\" y=\"-86.3\" font-family=\"Times,serif\" font-size=\"14.00\">o</text>\n</g>\n<!-- 0&#45;&#45;2 -->\n<g id=\"edge2\" class=\"edge\">\n<title>0&#45;&#45;2</title>\n<path fill=\"none\" stroke=\"black\" d=\"M53.87,-143.67C58.69,-132.2 68.37,-109.17 73.17,-97.75\"/>\n</g>\n<!-- 3 -->\n<g id=\"node4\" class=\"node\">\n<title>3</title>\n</g>\n<!-- 2&#45;&#45;3 -->\n<g id=\"edge3\" class=\"edge\">\n<title>2&#45;&#45;3</title>\n<path fill=\"none\" stroke=\"lightgreen\" d=\"M72.55,-82.29C67.13,-71.75 56.45,-50.99 48.8,-36.12\"/>\n</g>\n<!-- 4 -->\n<g id=\"node5\" class=\"node\">\n<title>4</title>\n</g>\n<!-- 2&#45;&#45;4 -->\n<g id=\"edge4\" class=\"edge\">\n<title>2&#45;&#45;4</title>\n<path fill=\"none\" stroke=\"lightgreen\" d=\"M79.45,-82.29C84.87,-71.75 95.55,-50.99 103.2,-36.12\"/>\n</g>\n</g>\n</svg>\n</div></td></tr></table>"
     },
     "metadata": {},
     "output_type": "display_data"
    },
    {
     "data": {
      "text/plain": "<IPython.core.display.HTML object>",
      "text/html": "<table style=\"border-style: hidden; border-collapse: collapse;\" width=\"100%\"><tr><td style=\"border-top:hidden;border-bottom:hidden;\"><div align=\"center\" style=\"\"><?xml version=\"1.0\" encoding=\"UTF-8\" standalone=\"no\"?>\n<!DOCTYPE svg PUBLIC \"-//W3C//DTD SVG 1.1//EN\"\n \"http://www.w3.org/Graphics/SVG/1.1/DTD/svg11.dtd\">\n<!-- Generated by graphviz version 2.44.1 (20200629.0846)\n -->\n<!-- Pages: 1 -->\n<svg width=\"127pt\" height=\"288pt\"\n viewBox=\"0.00 0.00 127.08 288.00\" xmlns=\"http://www.w3.org/2000/svg\" xmlns:xlink=\"http://www.w3.org/1999/xlink\">\n<g id=\"graph0\" class=\"graph\" transform=\"scale(0.75 0.75) rotate(0) translate(4 379)\">\n<polygon fill=\"white\" stroke=\"transparent\" points=\"-4,4 -4,-379 165,-379 165,4 -4,4\"/>\n<!-- 0 -->\n<g id=\"node1\" class=\"node\">\n<title>0</title>\n<text text-anchor=\"middle\" x=\"63\" y=\"-363.8\" font-family=\"Times,serif\" font-size=\"14.00\">s</text>\n</g>\n<!-- 1 -->\n<g id=\"node2\" class=\"node\">\n<title>1</title>\n</g>\n<!-- 0&#45;&#45;1 -->\n<g id=\"edge1\" class=\"edge\">\n<title>0&#45;&#45;1</title>\n<path fill=\"none\" stroke=\"lightgreen\" d=\"M60.25,-359.67C56.77,-351.07 50.68,-335.96 45.91,-324.13\"/>\n</g>\n<!-- 2 -->\n<g id=\"node3\" class=\"node\">\n<title>2</title>\n<text text-anchor=\"middle\" x=\"87\" y=\"-302.3\" font-family=\"Times,serif\" font-size=\"14.00\">s</text>\n</g>\n<!-- 0&#45;&#45;2 -->\n<g id=\"edge2\" class=\"edge\">\n<title>0&#45;&#45;2</title>\n<path fill=\"none\" stroke=\"black\" d=\"M65.75,-359.67C70.38,-348.2 79.67,-325.17 84.28,-313.75\"/>\n</g>\n<!-- 3 -->\n<g id=\"node4\" class=\"node\">\n<title>3</title>\n</g>\n<!-- 2&#45;&#45;3 -->\n<g id=\"edge3\" class=\"edge\">\n<title>2&#45;&#45;3</title>\n<path fill=\"none\" stroke=\"lightgreen\" d=\"M84.79,-298.29C81.33,-287.75 74.51,-266.99 69.62,-252.12\"/>\n</g>\n<!-- 4 -->\n<g id=\"node5\" class=\"node\">\n<title>4</title>\n<text text-anchor=\"middle\" x=\"111\" y=\"-230.3\" font-family=\"Times,serif\" font-size=\"14.00\">l</text>\n</g>\n<!-- 2&#45;&#45;4 -->\n<g id=\"edge4\" class=\"edge\">\n<title>2&#45;&#45;4</title>\n<path fill=\"none\" stroke=\"black\" d=\"M89.3,-298.29C93.95,-284.74 104.39,-254.29 108.88,-241.19\"/>\n</g>\n<!-- 5 -->\n<g id=\"node6\" class=\"node\">\n<title>5</title>\n<text text-anchor=\"middle\" x=\"87\" y=\"-158.3\" font-family=\"Times,serif\" font-size=\"14.00\">l</text>\n</g>\n<!-- 4&#45;&#45;5 -->\n<g id=\"edge5\" class=\"edge\">\n<title>4&#45;&#45;5</title>\n<path fill=\"none\" stroke=\"black\" d=\"M108.95,-227.03C104.42,-213.81 93.57,-182.16 89.04,-168.95\"/>\n</g>\n<!-- 10 -->\n<g id=\"node11\" class=\"node\">\n<title>10</title>\n</g>\n<!-- 4&#45;&#45;10 -->\n<g id=\"edge10\" class=\"edge\">\n<title>4&#45;&#45;10</title>\n<path fill=\"none\" stroke=\"lightgreen\" d=\"M113.12,-226.54C116.55,-216.12 123.41,-195.24 128.33,-180.26\"/>\n</g>\n<!-- 6 -->\n<g id=\"node7\" class=\"node\">\n<title>6</title>\n<text text-anchor=\"middle\" x=\"63\" y=\"-86.3\" font-family=\"Times,serif\" font-size=\"14.00\">o</text>\n</g>\n<!-- 5&#45;&#45;6 -->\n<g id=\"edge6\" class=\"edge\">\n<title>5&#45;&#45;6</title>\n<path fill=\"none\" stroke=\"black\" d=\"M84.95,-155.03C80.51,-142.07 70,-111.42 65.32,-97.77\"/>\n</g>\n<!-- 9 -->\n<g id=\"node10\" class=\"node\">\n<title>9</title>\n<text text-anchor=\"middle\" x=\"112\" y=\"-86.3\" font-family=\"Times,serif\" font-size=\"14.00\">*</text>\n</g>\n<!-- 5&#45;&#45;9 -->\n<g id=\"edge9\" class=\"edge\">\n<title>5&#45;&#45;9</title>\n<path fill=\"none\" stroke=\"lightgreen\" d=\"M89.13,-155.03C92.79,-144.78 100.4,-123.47 105.84,-108.25\"/>\n</g>\n<!-- 7 -->\n<g id=\"node8\" class=\"node\">\n<title>7</title>\n</g>\n<!-- 6&#45;&#45;7 -->\n<g id=\"edge7\" class=\"edge\">\n<title>6&#45;&#45;7</title>\n<path fill=\"none\" stroke=\"lightgreen\" d=\"M59.55,-82.29C54.13,-71.75 43.45,-50.99 35.8,-36.12\"/>\n</g>\n<!-- 8 -->\n<g id=\"node9\" class=\"node\">\n<title>8</title>\n</g>\n<!-- 6&#45;&#45;8 -->\n<g id=\"edge8\" class=\"edge\">\n<title>6&#45;&#45;8</title>\n<path fill=\"none\" stroke=\"lightgreen\" d=\"M66.45,-82.29C71.87,-71.75 82.55,-50.99 90.2,-36.12\"/>\n</g>\n</g>\n</svg>\n</div></td><td style=\"border-top:hidden;border-bottom:hidden;\"><div align=\"center\" style=\"\"><?xml version=\"1.0\" encoding=\"UTF-8\" standalone=\"no\"?>\n<!DOCTYPE svg PUBLIC \"-//W3C//DTD SVG 1.1//EN\"\n \"http://www.w3.org/Graphics/SVG/1.1/DTD/svg11.dtd\">\n<!-- Generated by graphviz version 2.44.1 (20200629.0846)\n -->\n<!-- Pages: 1 -->\n<svg width=\"147pt\" height=\"167pt\"\n viewBox=\"0.00 0.00 147.00 167.00\" xmlns=\"http://www.w3.org/2000/svg\" xmlns:xlink=\"http://www.w3.org/1999/xlink\">\n<g id=\"graph0\" class=\"graph\" transform=\"scale(1 1) rotate(0) translate(4 163)\">\n<polygon fill=\"white\" stroke=\"transparent\" points=\"-4,4 -4,-163 143,-163 143,4 -4,4\"/>\n<!-- 0 -->\n<g id=\"node1\" class=\"node\">\n<title>0</title>\n<text text-anchor=\"middle\" x=\"51\" y=\"-147.8\" font-family=\"Times,serif\" font-size=\"14.00\">s</text>\n</g>\n<!-- 1 -->\n<g id=\"node2\" class=\"node\">\n<title>1</title>\n</g>\n<!-- 0&#45;&#45;1 -->\n<g id=\"edge1\" class=\"edge\">\n<title>0&#45;&#45;1</title>\n<path fill=\"none\" stroke=\"lightgreen\" d=\"M48.25,-143.67C44.77,-135.07 38.68,-119.96 33.91,-108.13\"/>\n</g>\n<!-- 2 -->\n<g id=\"node3\" class=\"node\">\n<title>2</title>\n<text text-anchor=\"middle\" x=\"76\" y=\"-86.3\" font-family=\"Times,serif\" font-size=\"14.00\">o</text>\n</g>\n<!-- 0&#45;&#45;2 -->\n<g id=\"edge2\" class=\"edge\">\n<title>0&#45;&#45;2</title>\n<path fill=\"none\" stroke=\"black\" d=\"M53.87,-143.67C58.69,-132.2 68.37,-109.17 73.17,-97.75\"/>\n</g>\n<!-- 3 -->\n<g id=\"node4\" class=\"node\">\n<title>3</title>\n</g>\n<!-- 2&#45;&#45;3 -->\n<g id=\"edge3\" class=\"edge\">\n<title>2&#45;&#45;3</title>\n<path fill=\"none\" stroke=\"lightgreen\" d=\"M72.55,-82.29C67.13,-71.75 56.45,-50.99 48.8,-36.12\"/>\n</g>\n<!-- 4 -->\n<g id=\"node5\" class=\"node\">\n<title>4</title>\n</g>\n<!-- 2&#45;&#45;4 -->\n<g id=\"edge4\" class=\"edge\">\n<title>2&#45;&#45;4</title>\n<path fill=\"none\" stroke=\"lightgreen\" d=\"M79.45,-82.29C84.87,-71.75 95.55,-50.99 103.2,-36.12\"/>\n</g>\n</g>\n</svg>\n</div></td></tr></table>"
     },
     "metadata": {},
     "output_type": "display_data"
    }
   ],
   "source": [
    "c.display_trees(1, 1, -1)\n"
   ],
   "metadata": {
    "collapsed": false,
    "pycharm": {
     "name": "#%%\n"
    }
   }
  }
 ],
 "metadata": {
  "kernelspec": {
   "display_name": "Python 3",
   "language": "python",
   "name": "python3"
  },
  "language_info": {
   "codemirror_mode": {
    "name": "ipython",
    "version": 2
   },
   "file_extension": ".py",
   "mimetype": "text/x-python",
   "name": "python",
   "nbconvert_exporter": "python",
   "pygments_lexer": "ipython2",
   "version": "2.7.6"
  }
 },
 "nbformat": 4,
 "nbformat_minor": 0
}