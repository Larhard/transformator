{
 "cells": [
  {
   "cell_type": "code",
   "execution_count": 1,
   "outputs": [],
   "source": [
    "%load_ext autoreload"
   ],
   "metadata": {
    "collapsed": false,
    "pycharm": {
     "name": "#%%\n"
    }
   }
  },
  {
   "cell_type": "code",
   "execution_count": 2,
   "outputs": [],
   "source": [
    "%autoreload 2"
   ],
   "metadata": {
    "collapsed": false,
    "pycharm": {
     "name": "#%%\n"
    }
   }
  },
  {
   "cell_type": "code",
   "execution_count": 3,
   "outputs": [],
   "source": [
    "from transformator.tree import Tree\n",
    "from transformator.lambda_tree import LambdaTree\n",
    "import pyAgrum.lib.notebook as gnb\n",
    "from collections import defaultdict\n",
    "from transformator.helpers import *"
   ],
   "metadata": {
    "collapsed": false,
    "pycharm": {
     "name": "#%%\n"
    }
   }
  },
  {
   "cell_type": "code",
   "execution_count": 295,
   "outputs": [],
   "source": [
    "# N = 4\n",
    "N = 6\n",
    "# N = 5\n",
    "# N = 4\n",
    "REMOVE_POINTERS = False"
   ],
   "metadata": {
    "collapsed": false,
    "pycharm": {
     "name": "#%%\n"
    }
   }
  },
  {
   "cell_type": "code",
   "execution_count": 296,
   "outputs": [],
   "source": [
    "ns = list(range(N-4, N+1))"
   ],
   "metadata": {
    "collapsed": false,
    "pycharm": {
     "name": "#%%\n"
    }
   }
  },
  {
   "cell_type": "code",
   "execution_count": 297,
   "outputs": [],
   "source": [
    "classes = [list(LambdaTree.generate(k)) for k in ns]"
   ],
   "metadata": {
    "collapsed": false,
    "pycharm": {
     "name": "#%%\n"
    }
   }
  },
  {
   "cell_type": "code",
   "execution_count": 298,
   "outputs": [
    {
     "data": {
      "text/plain": "[2, 4, 9, 22, 57]"
     },
     "execution_count": 298,
     "metadata": {},
     "output_type": "execute_result"
    }
   ],
   "source": [
    "[len(c) for c in classes]"
   ],
   "metadata": {
    "collapsed": false,
    "pycharm": {
     "name": "#%%\n"
    }
   }
  },
  {
   "cell_type": "code",
   "execution_count": 299,
   "outputs": [
    {
     "data": {
      "text/plain": "[4, 4, 99, -506, 399]"
     },
     "execution_count": 299,
     "metadata": {},
     "output_type": "execute_result"
    }
   ],
   "source": [
    "# n-4:\n",
    "# l^2*s^2*n*B(n)\n",
    "#\n",
    "# n-3:\n",
    "# ((4*a*o*s*u - 2*l^2*s - 2*l*s^2)*(n - 1) + 6*a*o*s*u - 2*l^2*s - 3*l*s^2)*B(n)\n",
    "# ((4*n+2)*a*o*s*u - 2*n*l^2*s - (2*n+1)*l*s^2)*B(n)\n",
    "#\n",
    "# n-2:\n",
    "# ((-4*a*o*u + l^2 + 4*l*s + s^2)*(n - 2) - 8*u*o*a + 2*l^2 + 10*l*s + 3*s^2)*B(n)\n",
    "# ((-4*n)*a*o*u + l^2*n + (4*n+2)*l*s + (n+1)*s^2)*B(n)\n",
    "#\n",
    "# n-1:\n",
    "# ((-2*l - 2*s)*(n - 3) - 7*l - 8*s)*B(n)\n",
    "# ((-2*n - 1)*l + (-2*n-2)*s)*B(n)\n",
    "#\n",
    "# n:\n",
    "# (1 + n)*B(n)\n",
    "\n",
    "r_ns = [\n",
    "    ns[0] * len(classes[0]),\n",
    "    ((4*ns[1]+2) - (2*ns[1]) - (2*ns[1]+1)) * len(classes[1]),\n",
    "    (-4*ns[2] + ns[2] + (4*ns[2]+2) + (ns[2]+1)) * len(classes[2]),\n",
    "    ((-2*ns[3]-1) + (-2*ns[3]-2)) * len(classes[3]),\n",
    "    (ns[4] + 1) * len(classes[4]),\n",
    "]\n",
    "\n",
    "r_ns"
   ],
   "metadata": {
    "collapsed": false,
    "pycharm": {
     "name": "#%%\n"
    }
   }
  },
  {
   "cell_type": "code",
   "execution_count": 300,
   "outputs": [
    {
     "data": {
      "text/plain": "0"
     },
     "execution_count": 300,
     "metadata": {},
     "output_type": "execute_result"
    }
   ],
   "source": [
    "sum(r_ns)"
   ],
   "metadata": {
    "collapsed": false,
    "pycharm": {
     "name": "#%%\n"
    }
   }
  },
  {
   "cell_type": "code",
   "execution_count": 301,
   "outputs": [],
   "source": [
    "r_classes = [[] for _ in range(5)]"
   ],
   "metadata": {
    "collapsed": false,
    "pycharm": {
     "name": "#%%\n"
    }
   }
  },
  {
   "cell_type": "code",
   "execution_count": 302,
   "outputs": [],
   "source": [
    "def nothing(*args, **kwargs):\n",
    "    pass\n",
    "\n",
    "def append_empty_r_class(k, multiplier, *args, **kwargs):\n",
    "    r_classes[k].append((multiplier, []))\n",
    "\n",
    "def clear_r_class(k):\n",
    "    r_classes[k] = []\n",
    "\n",
    "def append_r_class_subtree_visitor(k, multiplier, visitor):\n",
    "    trees = sum(\n",
    "        [\n",
    "            list(t.visit_subtrees(visitor))\n",
    "            for t\n",
    "            in classes[i]\n",
    "        ],\n",
    "        []\n",
    "    )\n",
    "\n",
    "    r_classes[k].append((multiplier, trees))\n",
    "\n",
    "def skip(_):\n",
    "    return lambda *args, **kwargs: None\n",
    "\n",
    "def append_r_class_parent_subtree_visitor(k, multiplier, visitor):\n",
    "    trees = sum(\n",
    "        [\n",
    "            list(t.visit_parent_subtrees(visitor))\n",
    "            for t\n",
    "            in classes[i]\n",
    "        ],\n",
    "        []\n",
    "    )\n",
    "\n",
    "    r_classes[k].append((multiplier, trees))\n",
    "\n",
    "def append_r_class_left_parent_subtree_visitor(k, multiplier, visitor):\n",
    "    trees = sum(\n",
    "        [\n",
    "            list(t.visit_left_parent_subtrees(visitor))\n",
    "            for t\n",
    "            in classes[i]\n",
    "        ],\n",
    "        []\n",
    "    )\n",
    "\n",
    "    r_classes[k].append((multiplier, trees))\n",
    "\n",
    "def append_r_class_right_parent_subtree_visitor(k, multiplier, visitor):\n",
    "    trees = sum(\n",
    "        [\n",
    "            list(t.visit_right_parent_subtrees(visitor))\n",
    "            for t\n",
    "            in classes[i]\n",
    "        ],\n",
    "        []\n",
    "    )\n",
    "\n",
    "    r_classes[k].append((multiplier, trees))\n",
    "\n",
    "def compute_r_class_stats(k, show_graphs=False):\n",
    "    total = 0\n",
    "\n",
    "    if REMOVE_POINTERS:\n",
    "        remove_pointers()\n",
    "\n",
    "    if show_graphs:\n",
    "        for _, trees in r_classes[k]:\n",
    "            gnb.sideBySide(*[t for t in trees[:5]])\n",
    "\n",
    "    for sub_k, (multiplier, trees) in enumerate(r_classes[k]):\n",
    "        print(f\"{(k, sub_k)}: {multiplier} x {len(trees)}\")\n",
    "        total += multiplier * len(trees)\n",
    "\n",
    "    print(f\"total: {total}\")\n",
    "    print(f\"expected: {r_ns[k]}\")\n",
    "\n",
    "def diff_sorted(first, second, key=None, first_label=\"first\", second_label=\"second\"):\n",
    "    key = key or (lambda x: x)\n",
    "\n",
    "    first_generator = iter(first)\n",
    "    second_generator = iter(second)\n",
    "\n",
    "    p = None\n",
    "    q = None\n",
    "\n",
    "    p_sent = True\n",
    "    q_sent = True\n",
    "\n",
    "    try:\n",
    "        p = next(first_generator)\n",
    "        p_sent = False\n",
    "\n",
    "        q = next(second_generator)\n",
    "        q_sent = False\n",
    "\n",
    "        while True:\n",
    "            k_p = key(p)\n",
    "            k_q = key(q)\n",
    "\n",
    "            if k_p == k_q:\n",
    "                p_sent = True\n",
    "                q_sent = True\n",
    "\n",
    "                p = next(first_generator)\n",
    "                p_sent = False\n",
    "\n",
    "                q = next(second_generator)\n",
    "                q_sent = False\n",
    "\n",
    "            elif k_p < k_q:\n",
    "                yield first_label, p\n",
    "                p_sent = True\n",
    "\n",
    "                p = next(first_generator)\n",
    "                p_sent = False\n",
    "            else:\n",
    "                yield second_label, q\n",
    "                q_sent = True\n",
    "\n",
    "                q = next(second_generator)\n",
    "                q_sent = False\n",
    "    except StopIteration:\n",
    "        pass\n",
    "\n",
    "    try:\n",
    "        if not p_sent:\n",
    "            yield first_label, p\n",
    "\n",
    "        while True:\n",
    "            yield first_label, next(first_generator)\n",
    "    except StopIteration:\n",
    "        pass\n",
    "\n",
    "    try:\n",
    "        if not q_sent:\n",
    "            yield second_label, q\n",
    "\n",
    "        while True:\n",
    "            yield second_label, next(second_generator)\n",
    "    except StopIteration:\n",
    "        pass\n",
    "\n",
    "def compute_minus_plus_diff():\n",
    "    global minus\n",
    "    global plus\n",
    "    global diff\n",
    "\n",
    "    minus = []\n",
    "    plus = []\n",
    "\n",
    "    for r_class_id, r_class in enumerate(r_classes):\n",
    "        for r_subclass_id, (multiplier, r_subclass) in enumerate(r_class):\n",
    "            for tree in r_subclass:\n",
    "                data = (r_class_id, r_subclass_id, tree)\n",
    "\n",
    "                if multiplier == -1:\n",
    "                    minus.append(data)\n",
    "                elif multiplier == 1:\n",
    "                    plus.append(data)\n",
    "                else:\n",
    "                    assert False\n",
    "\n",
    "    sorting_key = lambda data: (str(data[2]), -data[0], data[1])\n",
    "\n",
    "    minus.sort(key=sorting_key)\n",
    "    plus.sort(key=sorting_key)\n",
    "\n",
    "    diff = list(diff_sorted(minus, plus, key=lambda x: str(x[2]), first_label=\"-\", second_label=\"+\"))\n",
    "\n",
    "    print(f\"minus: {len(minus)}\")\n",
    "    print(f\"plus: {len(plus)}\")\n",
    "    print(f\"diff: {len(diff)}\")\n",
    "\n",
    "    print_diff_stats()\n",
    "\n",
    "def print_diff_stats():\n",
    "    stats = defaultdict(int)\n",
    "    signs = {}\n",
    "\n",
    "    for sign, (p, q, _) in diff:\n",
    "        stats[(p, q)] += 1\n",
    "        signs[(p, q)] = sign\n",
    "\n",
    "    for key in sorted(stats.keys()):\n",
    "        print(f\"{key}:\\t{signs[key]}{stats[key]}\\tof {len(r_classes[key[0]][key[1]][1])}\")\n",
    "\n",
    "def remove_pointers():\n",
    "    for i in range(len(r_classes)):\n",
    "        for j in range(len(r_classes[i])):\n",
    "            multiplier, trees = r_classes[i][j]\n",
    "            r_classes[i][j] = (multiplier, [t.with_pointers_removed() for t in trees])\n",
    "\n",
    "def display_r_class(p, q):\n",
    "    for t in r_classes[p][q][1]:\n",
    "        gnb.sideBySide(t, t.extra[\"base\"])\n",
    "\n",
    "def display_diff_class(p, q):\n",
    "    for i in filter(lambda x: x[1][:2] == (p, q), diff):\n",
    "        gnb.sideBySide(i[1][2], i[1][2].extra[\"base\"])\n",
    "\n",
    "_append_r_class_parent_subtree_visitor = append_empty_r_class\n",
    "_append_r_class_left_parent_subtree_visitor = append_empty_r_class\n",
    "_append_r_class_right_parent_subtree_visitor = append_empty_r_class\n",
    "_append_r_class_subtree_visitor = append_empty_r_class"
   ],
   "metadata": {
    "collapsed": false,
    "pycharm": {
     "name": "#%%\n"
    }
   }
  },
  {
   "cell_type": "code",
   "execution_count": 303,
   "outputs": [],
   "source": [
    "for i in range(4):\n",
    "    clear_r_class(i)"
   ],
   "metadata": {
    "collapsed": false,
    "pycharm": {
     "name": "#%%\n"
    }
   }
  },
  {
   "cell_type": "code",
   "execution_count": 304,
   "outputs": [
    {
     "name": "stdout",
     "output_type": "stream",
     "text": [
      "================================================================================\n",
      "(4, 0): 1 x 399\n",
      "total: 399\n",
      "expected: 399\n",
      "\n",
      "minus: 0\n",
      "plus: 399\n",
      "diff: 399\n",
      "(4, 0):\t+399\tof 399\n"
     ]
    }
   ],
   "source": [
    "# n:\n",
    "# (1 + n)*B(n)\n",
    "\n",
    "i = 4\n",
    "\n",
    "clear_r_class(i)\n",
    "\n",
    "# 1 + n\n",
    "\n",
    "append_r_class_subtree_visitor(i, 1,\n",
    "    lambda kind, left, right:\n",
    "        None if kind[0] is not None else\n",
    "        [kind + (\"*\", )] + left + right\n",
    ")\n",
    "\n",
    "print(\"=\" * 80)\n",
    "compute_r_class_stats(i)\n",
    "print()\n",
    "compute_minus_plus_diff()"
   ],
   "metadata": {
    "collapsed": false,
    "pycharm": {
     "name": "#%%\n"
    }
   }
  },
  {
   "cell_type": "code",
   "execution_count": 305,
   "outputs": [
    {
     "name": "stdout",
     "output_type": "stream",
     "text": [
      "================================================================================\n",
      "(3, 0): -1 x 110\n",
      "(3, 1): -1 x 63\n",
      "(3, 2): -1 x 69\n",
      "(3, 3): -1 x 69\n",
      "(3, 4): -1 x 63\n",
      "(3, 5): -1 x 63\n",
      "(3, 6): -1 x 0\n",
      "total: -437\n",
      "expected: -506\n",
      "\n",
      "minus: 437\n",
      "plus: 399\n",
      "diff: 262\n",
      "(3, 0):\t-22\tof 110\n",
      "(3, 1):\t-22\tof 63\n",
      "(3, 2):\t-42\tof 69\n",
      "(3, 3):\t-28\tof 69\n",
      "(3, 5):\t-36\tof 63\n",
      "(4, 0):\t+112\tof 399\n"
     ]
    }
   ],
   "source": [
    "# n-1:\n",
    "# ((-2*n - 1)*l + (-2*n-2)*s)*B(n)\n",
    "\n",
    "i = 3\n",
    "\n",
    "clear_r_class(i)\n",
    "\n",
    "# -(2*n + 1)*l\n",
    "\n",
    "# 3,0\n",
    "append_r_class_subtree_visitor(i, -1,\n",
    "    lambda kind, left, right:\n",
    "        None if kind[0] is None else\n",
    "        [\"l\", kind] + left + right + [(None, \"*\")]\n",
    ")\n",
    "\n",
    "# 3,1\n",
    "append_r_class_right_parent_subtree_visitor(i, -1,\n",
    "    lambda kind, parent_kind, left, right:\n",
    "        None if kind[0] is not None else\n",
    "        [\"l\", parent_kind] + [left[0] + (\"*\",)] + left[1:] + right + [None]\n",
    ")\n",
    "\n",
    "# 3,2\n",
    "append_r_class_left_parent_subtree_visitor(i, -1,\n",
    "    lambda kind, parent_kind, left, right:\n",
    "        None if kind[0] is not None else\n",
    "        [\"l\", parent_kind] + left + [right[0] + (\"*\",)] + right[1:] + [None]\n",
    ")\n",
    "\n",
    "# -2(n+1)*s\n",
    "\n",
    "# 3,3\n",
    "append_r_class_left_parent_subtree_visitor(i, -1,\n",
    "    lambda kind, parent_kind, left, right:\n",
    "        None if kind[0] is not None else\n",
    "        [\"s\", None, parent_kind] + left + [right[0] + (\"*\",)] + right[1:]\n",
    ")\n",
    "\n",
    "# 3,4\n",
    "append_r_class_right_parent_subtree_visitor(i, -1,\n",
    "    lambda kind, parent_kind, left, right:\n",
    "        None if kind[0] is not None else\n",
    "        [\"s\", None, parent_kind] + [left[0] + (\"*\",)] + left[1:] + right\n",
    ")\n",
    "\n",
    "# 3,5\n",
    "append_r_class_right_parent_subtree_visitor(i, -1,\n",
    "    lambda kind, parent_kind, left, right:\n",
    "        None if kind[0] is not None else\n",
    "        [\"s\", (None, \"*\"), parent_kind] + left + right\n",
    ")\n",
    "\n",
    "# 3,6\n",
    "_append_r_class_left_parent_subtree_visitor(i, -1,\n",
    "    lambda kind, parent_kind, left, right:\n",
    "        None if kind[0] is not None else\n",
    "        [\"s\", (None, \"*\"), parent_kind] + left + right\n",
    ")\n",
    "\n",
    "# append_r_class_subtree_visitor(i, -1,\n",
    "#     lambda kind, left, right:\n",
    "#         None if kind[0] is not None else\n",
    "#         [\"s\", (None, \"*\"), kind]\n",
    "# )\n",
    "#\n",
    "# append_r_class_subtree_visitor(i, -1,\n",
    "#     lambda kind, left, right:\n",
    "#         None if kind[0] is not None else\n",
    "#         [\"s\", (None, \"*\"), kind]\n",
    "# )\n",
    "\n",
    "print(\"=\" * 80)\n",
    "compute_r_class_stats(i)\n",
    "print()\n",
    "compute_minus_plus_diff()"
   ],
   "metadata": {
    "collapsed": false,
    "pycharm": {
     "name": "#%%\n"
    }
   }
  },
  {
   "cell_type": "code",
   "execution_count": 320,
   "outputs": [
    {
     "name": "stdout",
     "output_type": "stream",
     "text": [
      "================================================================================\n",
      "(2, 0): -1 x 36\n",
      "(2, 1): -1 x 36\n",
      "(2, 2): -1 x 36\n",
      "(2, 3): -1 x 36\n",
      "(2, 4): 1 x 36\n",
      "(2, 5): 1 x 22\n",
      "(2, 6): 1 x 36\n",
      "(2, 7): 1 x 22\n",
      "(2, 8): 1 x 0\n",
      "(2, 9): 1 x 22\n",
      "total: -6\n",
      "expected: 99\n",
      "\n",
      "minus: 589\n",
      "plus: 537\n",
      "diff: 68\n",
      "(2, 0):\t-8\tof 36\n",
      "(2, 1):\t-8\tof 36\n",
      "(2, 2):\t-8\tof 36\n",
      "(2, 3):\t-8\tof 36\n",
      "(2, 4):\t+8\tof 36\n",
      "(3, 1):\t-14\tof 63\n",
      "(3, 2):\t-14\tof 69\n"
     ]
    }
   ],
   "source": [
    "# n-2:\n",
    "# ((-4*n)*a*o*u + l^2*n + (4*n+2)*l*s + (n+1)*s^2)*B(n)\n",
    "\n",
    "i = 2\n",
    "\n",
    "clear_r_class(i)\n",
    "\n",
    "# -4(n)*a*o*u\n",
    "\n",
    "# 2,0\n",
    "append_r_class_subtree_visitor(i, -1,\n",
    "    lambda kind, left, right:\n",
    "        None if kind[0] is None else\n",
    "        [\"a\", \"o\", (None, \"*\"), None, kind] + left + right\n",
    ")\n",
    "\n",
    "# 2,1\n",
    "append_r_class_subtree_visitor(i, -1,\n",
    "    lambda kind, left, right:\n",
    "        None if kind[0] is None else\n",
    "        [\"a\", \"o\", None, (None, \"*\"), kind] + left + right\n",
    ")\n",
    "\n",
    "# 2,2\n",
    "append_r_class_subtree_visitor(i, -1,\n",
    "    lambda kind, left, right:\n",
    "        None if kind[0] is None else\n",
    "        [\"a\", kind] + left + right + [\"o\", (None, \"*\"), None]\n",
    ")\n",
    "\n",
    "# 2,3\n",
    "append_r_class_subtree_visitor(i, -1,\n",
    "    lambda kind, left, right:\n",
    "        None if kind[0] is None else\n",
    "        [\"a\", kind] + left + right + [\"o\", None, (None, \"*\")]\n",
    ")\n",
    "\n",
    "# l^2*n\n",
    "\n",
    "# 2,4\n",
    "append_r_class_subtree_visitor(i, 1,\n",
    "    lambda kind, left, right:\n",
    "        None if kind[0] is None else\n",
    "        [\"l\", \"l\", kind] + left + right + [(None, \"*\"), None]\n",
    ")\n",
    "\n",
    "# append_r_class_right_parent_subtree_visitor(i, 1,\n",
    "#     lambda kind, parent_kind, left, right:\n",
    "#         None if kind[0] is None else\n",
    "#         [\"l\", \"l\", parent_kind] + left + right + [(None, \"*\"), None]\n",
    "# )\n",
    "\n",
    "# (4*n+2)*l*s\n",
    "\n",
    "# 2,5\n",
    "append_r_class_right_parent_subtree_visitor(i, 1,\n",
    "    lambda kind, parent_kind, left, right:\n",
    "        None if kind[0] is not None else\n",
    "        [\"l\", \"s\", (None, \"*\"), parent_kind] + left + right + [None]\n",
    ")\n",
    "\n",
    "# 2,6\n",
    "append_r_class_subtree_visitor(i, 1,\n",
    "    lambda kind, left, right:\n",
    "        None if kind[0] is None else\n",
    "        [\"s\", None, \"l\", kind] + left + right + [(None, \"*\")]\n",
    ")\n",
    "\n",
    "# 2,7\n",
    "append_r_class_right_parent_subtree_visitor(i, 1,\n",
    "    lambda kind, parent_kind, left, right:\n",
    "        None if kind[0] is not None else\n",
    "        [\"s\", None, \"l\", parent_kind] + left + right + [(None, \"*\")]\n",
    ")\n",
    "\n",
    "# 2,8\n",
    "_append_r_class_parent_subtree_visitor(i, 1,\n",
    "    lambda kind, parent_kind, left, right:\n",
    "        None if kind[0] is None else\n",
    "        [\"s\", None, \"l\", parent_kind] + left + right + [(None, \"*\")]\n",
    ")\n",
    "\n",
    "# (n+1)*s^2\n",
    "\n",
    "# 2,9\n",
    "append_r_class_right_parent_subtree_visitor(i, 1,\n",
    "    lambda kind, parent_kind, left, right:\n",
    "        None if kind[0] is not None else\n",
    "        [\"s\", None, \"s\", (None, \"*\"), parent_kind] + left + right\n",
    ")\n",
    "\n",
    "print(\"=\" * 80)\n",
    "compute_r_class_stats(i)\n",
    "print()\n",
    "compute_minus_plus_diff()"
   ],
   "metadata": {
    "collapsed": false,
    "pycharm": {
     "name": "#%%\n"
    }
   }
  },
  {
   "cell_type": "code",
   "execution_count": 344,
   "outputs": [
    {
     "name": "stdout",
     "output_type": "stream",
     "text": [
      "================================================================================\n",
      "(1, 0): 1 x 0\n",
      "(1, 1): 1 x 0\n",
      "(1, 2): -1 x 8\n",
      "(1, 3): -1 x 0\n",
      "(1, 4): -1 x 8\n",
      "total: -16\n",
      "expected: 4\n",
      "\n",
      "minus: 597\n",
      "plus: 537\n",
      "diff: 60\n",
      "(2, 0):\t-8\tof 36\n",
      "(2, 1):\t-8\tof 36\n",
      "(2, 2):\t-8\tof 36\n",
      "(2, 3):\t-8\tof 36\n",
      "(3, 1):\t-14\tof 63\n",
      "(3, 2):\t-14\tof 69\n"
     ]
    }
   ],
   "source": [
    "# n-3:\n",
    "# ((4*n+2)*a*o*s*u - 2*n*l^2*s - (2*n+1)*l*s^2)*B(n)\n",
    "\n",
    "i = 1\n",
    "\n",
    "clear_r_class(i)\n",
    "\n",
    "# (4*n+2)*a*o*s*u\n",
    "\n",
    "# 1,0\n",
    "_append_r_class_subtree_visitor(i, 1,\n",
    "    lambda kind, left, right:\n",
    "        [\"a\", \"s\", None, \"o\", (None, \"*\"), None, kind] + left + right\n",
    ")\n",
    "\n",
    "# 1,1\n",
    "_append_r_class_subtree_visitor(i, 1,\n",
    "    lambda kind, left, right:\n",
    "        [\"a\", \"s\", None, \"o\", None, (None, \"*\"), kind] + left + right\n",
    ")\n",
    "\n",
    "# - 2*n*l^2*s\n",
    "\n",
    "# 1,2\n",
    "# append_r_class_subtree_visitor(i, -1,\n",
    "#     lambda kind, left, right:\n",
    "#         None if kind[0] is None else\n",
    "#         [\"s\", None, \"l\", \"l\", kind] + left + right + [(None, \"*\"), None]\n",
    "# )\n",
    "append_r_class_right_parent_subtree_visitor(i, -1,\n",
    "    lambda kind, parent_kind, left, right:\n",
    "        None if kind[0] is not None else\n",
    "        [\"s\", None, \"l\", \"l\", parent_kind] + left + right + [(None, \"*\"), None]\n",
    ")\n",
    "\n",
    "# 1,3\n",
    "_append_r_class_subtree_visitor(i, -1,\n",
    "    lambda kind, left, right:\n",
    "        None if kind[0] is None else\n",
    "        [\"l\", \"l\", \"s\", None, kind] + left + right + [None, (None, \"*\")]\n",
    ")\n",
    "\n",
    "# - (2*n+1)*l*s^2\n",
    "\n",
    "# 1,4\n",
    "append_r_class_right_parent_subtree_visitor(i, -1,\n",
    "    lambda kind, parent_kind, left, right:\n",
    "        None if kind[0] is not None else\n",
    "        [\"s\", None, \"s\", None, \"l\", parent_kind] + left + right + [(None, \"*\")]\n",
    ")\n",
    "\n",
    "print(\"=\" * 80)\n",
    "compute_r_class_stats(i)\n",
    "print()\n",
    "compute_minus_plus_diff()"
   ],
   "metadata": {
    "collapsed": false,
    "pycharm": {
     "name": "#%%\n"
    }
   }
  },
  {
   "cell_type": "code",
   "execution_count": 346,
   "outputs": [
    {
     "data": {
      "text/plain": "<IPython.core.display.HTML object>",
      "text/html": "<table style=\"border-style: hidden; border-collapse: collapse;\" width=\"100%\"><tr><td style=\"border-top:hidden;border-bottom:hidden;\"><div align=\"center\" style=\"\"><?xml version=\"1.0\" encoding=\"UTF-8\" standalone=\"no\"?>\n<!DOCTYPE svg PUBLIC \"-//W3C//DTD SVG 1.1//EN\"\n \"http://www.w3.org/Graphics/SVG/1.1/DTD/svg11.dtd\">\n<!-- Generated by graphviz version 2.44.1 (20200629.0846)\n -->\n<!-- Pages: 1 -->\n<svg width=\"254pt\" height=\"288pt\"\n viewBox=\"0.00 0.00 254.23 288.00\" xmlns=\"http://www.w3.org/2000/svg\" xmlns:xlink=\"http://www.w3.org/1999/xlink\">\n<g id=\"graph0\" class=\"graph\" transform=\"scale(0.99 0.99) rotate(0) translate(4 286)\">\n<polygon fill=\"white\" stroke=\"transparent\" points=\"-4,4 -4,-286 252,-286 252,4 -4,4\"/>\n<!-- 0 -->\n<g id=\"node1\" class=\"node\">\n<title>0</title>\n<text text-anchor=\"middle\" x=\"113\" y=\"-270.8\" font-family=\"Times,serif\" font-size=\"14.00\">a</text>\n</g>\n<!-- 1 -->\n<g id=\"node2\" class=\"node\">\n<title>1</title>\n<text text-anchor=\"middle\" x=\"77\" y=\"-219.8\" font-family=\"Times,serif\" font-size=\"14.00\">l</text>\n</g>\n<!-- 0&#45;&#45;1 -->\n<g id=\"edge1\" class=\"edge\">\n<title>0&#45;&#45;1</title>\n<path fill=\"none\" stroke=\"black\" d=\"M109.42,-268.62C102.02,-258.55 85.24,-235.72 79.21,-227.51\"/>\n</g>\n<!-- 6 -->\n<g id=\"node7\" class=\"node\">\n<title>6</title>\n<text text-anchor=\"middle\" x=\"149\" y=\"-219.8\" font-family=\"Times,serif\" font-size=\"14.00\">s</text>\n</g>\n<!-- 0&#45;&#45;6 -->\n<g id=\"edge6\" class=\"edge\">\n<title>0&#45;&#45;6</title>\n<path fill=\"none\" stroke=\"black\" d=\"M116.58,-268.62C123.63,-259.04 139.17,-237.88 145.85,-228.79\"/>\n</g>\n<!-- 2 -->\n<g id=\"node3\" class=\"node\">\n<title>2</title>\n<text text-anchor=\"middle\" x=\"28\" y=\"-158.3\" font-family=\"Times,serif\" font-size=\"14.00\">o</text>\n</g>\n<!-- 1&#45;&#45;2 -->\n<g id=\"edge2\" class=\"edge\">\n<title>1&#45;&#45;2</title>\n<path fill=\"none\" stroke=\"black\" d=\"M74.68,-219.85C68.89,-213.23 53.37,-195.37 41,-180 37.74,-175.95 34.16,-171.24 31.58,-167.81\"/>\n</g>\n<!-- 5 -->\n<g id=\"node6\" class=\"node\">\n<title>5</title>\n</g>\n<!-- 1&#45;&#45;5 -->\n<g id=\"edge5\" class=\"edge\">\n<title>1&#45;&#45;5</title>\n<path fill=\"none\" stroke=\"lightgreen\" d=\"M77,-215.67C77,-207.07 77,-191.96 77,-180.13\"/>\n</g>\n<!-- 3 -->\n<g id=\"node4\" class=\"node\">\n<title>3</title>\n</g>\n<!-- 2&#45;&#45;3 -->\n<g id=\"edge3\" class=\"edge\">\n<title>2&#45;&#45;3</title>\n<path fill=\"none\" stroke=\"lightgreen\" d=\"M27.9,-154.29C27.75,-143.75 27.46,-122.99 27.24,-108.12\"/>\n</g>\n<!-- 4 -->\n<g id=\"node5\" class=\"node\">\n<title>4</title>\n</g>\n<!-- 2&#45;&#45;4 -->\n<g id=\"edge4\" class=\"edge\">\n<title>2&#45;&#45;4</title>\n<path fill=\"none\" stroke=\"lightgreen\" d=\"M31.64,-155.75C34.13,-152.29 37.59,-147.73 41,-144 52.7,-131.23 67.07,-118.08 78.57,-108.08\"/>\n</g>\n<!-- 7 -->\n<g id=\"node8\" class=\"node\">\n<title>7</title>\n</g>\n<!-- 6&#45;&#45;7 -->\n<g id=\"edge7\" class=\"edge\">\n<title>6&#45;&#45;7</title>\n<path fill=\"none\" stroke=\"lightgreen\" d=\"M149,-215.67C149,-207.07 149,-191.96 149,-180.13\"/>\n</g>\n<!-- 8 -->\n<g id=\"node9\" class=\"node\">\n<title>8</title>\n<text text-anchor=\"middle\" x=\"196\" y=\"-158.3\" font-family=\"Times,serif\" font-size=\"14.00\">l</text>\n</g>\n<!-- 6&#45;&#45;8 -->\n<g id=\"edge8\" class=\"edge\">\n<title>6&#45;&#45;8</title>\n<path fill=\"none\" stroke=\"black\" d=\"M152.14,-219.1C158.6,-212.05 173.7,-195.22 185,-180 188.35,-175.48 191.81,-169.97 193.93,-166.47\"/>\n</g>\n<!-- 9 -->\n<g id=\"node10\" class=\"node\">\n<title>9</title>\n<text text-anchor=\"middle\" x=\"172\" y=\"-86.3\" font-family=\"Times,serif\" font-size=\"14.00\">o</text>\n</g>\n<!-- 8&#45;&#45;9 -->\n<g id=\"edge9\" class=\"edge\">\n<title>8&#45;&#45;9</title>\n<path fill=\"none\" stroke=\"black\" d=\"M193.95,-155.03C189.51,-142.07 179,-111.42 174.32,-97.77\"/>\n</g>\n<!-- 12 -->\n<g id=\"node13\" class=\"node\">\n<title>12</title>\n</g>\n<!-- 8&#45;&#45;12 -->\n<g id=\"edge12\" class=\"edge\">\n<title>8&#45;&#45;12</title>\n<path fill=\"none\" stroke=\"lightgreen\" d=\"M198.13,-155.03C201.79,-144.78 209.4,-123.47 214.84,-108.25\"/>\n</g>\n<!-- 10 -->\n<g id=\"node11\" class=\"node\">\n<title>10</title>\n</g>\n<!-- 9&#45;&#45;10 -->\n<g id=\"edge10\" class=\"edge\">\n<title>9&#45;&#45;10</title>\n<path fill=\"none\" stroke=\"lightgreen\" d=\"M168.55,-82.29C163.13,-71.75 152.45,-50.99 144.8,-36.12\"/>\n</g>\n<!-- 11 -->\n<g id=\"node12\" class=\"node\">\n<title>11</title>\n<text text-anchor=\"middle\" x=\"208\" y=\"-14.3\" font-family=\"Times,serif\" font-size=\"14.00\">*</text>\n</g>\n<!-- 9&#45;&#45;11 -->\n<g id=\"edge11\" class=\"edge\">\n<title>9&#45;&#45;11</title>\n<path fill=\"none\" stroke=\"lightgreen\" d=\"M175.45,-82.29C180.87,-71.75 191.55,-50.99 199.2,-36.12\"/>\n</g>\n</g>\n</svg>\n</div></td><td style=\"border-top:hidden;border-bottom:hidden;\"><div align=\"center\" style=\"\"><?xml version=\"1.0\" encoding=\"UTF-8\" standalone=\"no\"?>\n<!DOCTYPE svg PUBLIC \"-//W3C//DTD SVG 1.1//EN\"\n \"http://www.w3.org/Graphics/SVG/1.1/DTD/svg11.dtd\">\n<!-- Generated by graphviz version 2.44.1 (20200629.0846)\n -->\n<!-- Pages: 1 -->\n<svg width=\"288pt\" height=\"208pt\"\n viewBox=\"0.00 0.00 288.00 207.89\" xmlns=\"http://www.w3.org/2000/svg\" xmlns:xlink=\"http://www.w3.org/1999/xlink\">\n<g id=\"graph0\" class=\"graph\" transform=\"scale(0.95 0.95) rotate(0) translate(4 214)\">\n<polygon fill=\"white\" stroke=\"transparent\" points=\"-4,4 -4,-214 298,-214 298,4 -4,4\"/>\n<!-- 0 -->\n<g id=\"node1\" class=\"node\">\n<title>0</title>\n<text text-anchor=\"middle\" x=\"135\" y=\"-198.8\" font-family=\"Times,serif\" font-size=\"14.00\">a</text>\n</g>\n<!-- 1 -->\n<g id=\"node2\" class=\"node\">\n<title>1</title>\n<text text-anchor=\"middle\" x=\"99\" y=\"-147.8\" font-family=\"Times,serif\" font-size=\"14.00\">l</text>\n</g>\n<!-- 0&#45;&#45;1 -->\n<g id=\"edge1\" class=\"edge\">\n<title>0&#45;&#45;1</title>\n<path fill=\"none\" stroke=\"black\" d=\"M131.42,-196.62C124.02,-186.55 107.24,-163.72 101.21,-155.51\"/>\n</g>\n<!-- 6 -->\n<g id=\"node7\" class=\"node\">\n<title>6</title>\n<text text-anchor=\"middle\" x=\"171\" y=\"-147.8\" font-family=\"Times,serif\" font-size=\"14.00\">s</text>\n</g>\n<!-- 0&#45;&#45;6 -->\n<g id=\"edge6\" class=\"edge\">\n<title>0&#45;&#45;6</title>\n<path fill=\"none\" stroke=\"black\" d=\"M138.58,-196.62C145.63,-187.04 161.17,-165.88 167.85,-156.79\"/>\n</g>\n<!-- 2 -->\n<g id=\"node3\" class=\"node\">\n<title>2</title>\n<text text-anchor=\"middle\" x=\"50\" y=\"-86.3\" font-family=\"Times,serif\" font-size=\"14.00\">o</text>\n</g>\n<!-- 1&#45;&#45;2 -->\n<g id=\"edge2\" class=\"edge\">\n<title>1&#45;&#45;2</title>\n<path fill=\"none\" stroke=\"black\" d=\"M96.68,-147.85C90.89,-141.23 75.37,-123.37 63,-108 59.74,-103.95 56.16,-99.24 53.58,-95.81\"/>\n</g>\n<!-- 5 -->\n<g id=\"node6\" class=\"node\">\n<title>5</title>\n</g>\n<!-- 1&#45;&#45;5 -->\n<g id=\"edge5\" class=\"edge\">\n<title>1&#45;&#45;5</title>\n<path fill=\"none\" stroke=\"lightgreen\" d=\"M99,-143.67C99,-135.07 99,-119.96 99,-108.13\"/>\n</g>\n<!-- 3 -->\n<g id=\"node4\" class=\"node\">\n<title>3</title>\n</g>\n<!-- 2&#45;&#45;3 -->\n<g id=\"edge3\" class=\"edge\">\n<title>2&#45;&#45;3</title>\n<path fill=\"none\" stroke=\"lightgreen\" d=\"M47.79,-82.29C44.33,-71.75 37.51,-50.99 32.62,-36.12\"/>\n</g>\n<!-- 4 -->\n<g id=\"node5\" class=\"node\">\n<title>4</title>\n</g>\n<!-- 2&#45;&#45;4 -->\n<g id=\"edge4\" class=\"edge\">\n<title>2&#45;&#45;4</title>\n<path fill=\"none\" stroke=\"lightgreen\" d=\"M53.52,-83.97C60.41,-74.12 75.96,-51.92 86.95,-36.22\"/>\n</g>\n<!-- 7 -->\n<g id=\"node8\" class=\"node\">\n<title>7</title>\n</g>\n<!-- 6&#45;&#45;7 -->\n<g id=\"edge7\" class=\"edge\">\n<title>6&#45;&#45;7</title>\n<path fill=\"none\" stroke=\"lightgreen\" d=\"M171,-143.67C171,-135.07 171,-119.96 171,-108.13\"/>\n</g>\n<!-- 8 -->\n<g id=\"node9\" class=\"node\">\n<title>8</title>\n<text text-anchor=\"middle\" x=\"220\" y=\"-86.3\" font-family=\"Times,serif\" font-size=\"14.00\">o</text>\n</g>\n<!-- 6&#45;&#45;8 -->\n<g id=\"edge8\" class=\"edge\">\n<title>6&#45;&#45;8</title>\n<path fill=\"none\" stroke=\"black\" d=\"M174.05,-147.02C180.33,-139.83 195.11,-122.76 207,-108 210.26,-103.95 213.84,-99.24 216.42,-95.81\"/>\n</g>\n<!-- 9 -->\n<g id=\"node10\" class=\"node\">\n<title>9</title>\n</g>\n<!-- 8&#45;&#45;9 -->\n<g id=\"edge9\" class=\"edge\">\n<title>8&#45;&#45;9</title>\n<path fill=\"none\" stroke=\"lightgreen\" d=\"M217.6,-82.29C213.84,-71.75 206.42,-50.99 201.11,-36.12\"/>\n</g>\n<!-- 10 -->\n<g id=\"node11\" class=\"node\">\n<title>10</title>\n</g>\n<!-- 8&#45;&#45;10 -->\n<g id=\"edge10\" class=\"edge\">\n<title>8&#45;&#45;10</title>\n<path fill=\"none\" stroke=\"lightgreen\" d=\"M223.69,-83.51C230.44,-73.45 245.05,-51.7 255.43,-36.24\"/>\n</g>\n</g>\n</svg>\n</div></td></tr></table>"
     },
     "metadata": {},
     "output_type": "display_data"
    },
    {
     "data": {
      "text/plain": "<IPython.core.display.HTML object>",
      "text/html": "<table style=\"border-style: hidden; border-collapse: collapse;\" width=\"100%\"><tr><td style=\"border-top:hidden;border-bottom:hidden;\"><div align=\"center\" style=\"\"><?xml version=\"1.0\" encoding=\"UTF-8\" standalone=\"no\"?>\n<!DOCTYPE svg PUBLIC \"-//W3C//DTD SVG 1.1//EN\"\n \"http://www.w3.org/Graphics/SVG/1.1/DTD/svg11.dtd\">\n<!-- Generated by graphviz version 2.44.1 (20200629.0846)\n -->\n<!-- Pages: 1 -->\n<svg width=\"231pt\" height=\"288pt\"\n viewBox=\"0.00 0.00 230.72 288.00\" xmlns=\"http://www.w3.org/2000/svg\" xmlns:xlink=\"http://www.w3.org/1999/xlink\">\n<g id=\"graph0\" class=\"graph\" transform=\"scale(0.8 0.8) rotate(0) translate(4 358)\">\n<polygon fill=\"white\" stroke=\"transparent\" points=\"-4,4 -4,-358 286,-358 286,4 -4,4\"/>\n<!-- 0 -->\n<g id=\"node1\" class=\"node\">\n<title>0</title>\n<text text-anchor=\"middle\" x=\"147\" y=\"-342.8\" font-family=\"Times,serif\" font-size=\"14.00\">a</text>\n</g>\n<!-- 1 -->\n<g id=\"node2\" class=\"node\">\n<title>1</title>\n<text text-anchor=\"middle\" x=\"111\" y=\"-291.8\" font-family=\"Times,serif\" font-size=\"14.00\">l</text>\n</g>\n<!-- 0&#45;&#45;1 -->\n<g id=\"edge1\" class=\"edge\">\n<title>0&#45;&#45;1</title>\n<path fill=\"none\" stroke=\"black\" d=\"M143.42,-340.62C136.02,-330.55 119.24,-307.72 113.21,-299.51\"/>\n</g>\n<!-- 10 -->\n<g id=\"node11\" class=\"node\">\n<title>10</title>\n<text text-anchor=\"middle\" x=\"183\" y=\"-291.8\" font-family=\"Times,serif\" font-size=\"14.00\">o</text>\n</g>\n<!-- 0&#45;&#45;10 -->\n<g id=\"edge10\" class=\"edge\">\n<title>0&#45;&#45;10</title>\n<path fill=\"none\" stroke=\"black\" d=\"M150.58,-340.62C157.48,-331.23 172.54,-310.73 179.43,-301.36\"/>\n</g>\n<!-- 2 -->\n<g id=\"node3\" class=\"node\">\n<title>2</title>\n<text text-anchor=\"middle\" x=\"63\" y=\"-230.3\" font-family=\"Times,serif\" font-size=\"14.00\">s</text>\n</g>\n<!-- 1&#45;&#45;2 -->\n<g id=\"edge2\" class=\"edge\">\n<title>1&#45;&#45;2</title>\n<path fill=\"none\" stroke=\"black\" d=\"M108.98,-292.26C103.38,-286.02 87.31,-267.9 75,-252 71.82,-247.89 68.42,-243.02 66.05,-239.55\"/>\n</g>\n<!-- 9 -->\n<g id=\"node10\" class=\"node\">\n<title>9</title>\n</g>\n<!-- 1&#45;&#45;9 -->\n<g id=\"edge9\" class=\"edge\">\n<title>1&#45;&#45;9</title>\n<path fill=\"none\" stroke=\"lightgreen\" d=\"M111,-287.67C111,-279.07 111,-263.96 111,-252.13\"/>\n</g>\n<!-- 3 -->\n<g id=\"node4\" class=\"node\">\n<title>3</title>\n</g>\n<!-- 2&#45;&#45;3 -->\n<g id=\"edge3\" class=\"edge\">\n<title>2&#45;&#45;3</title>\n<path fill=\"none\" stroke=\"lightgreen\" d=\"M60.79,-226.29C57.33,-215.75 50.51,-194.99 45.62,-180.12\"/>\n</g>\n<!-- 4 -->\n<g id=\"node5\" class=\"node\">\n<title>4</title>\n<text text-anchor=\"middle\" x=\"87\" y=\"-158.3\" font-family=\"Times,serif\" font-size=\"14.00\">l</text>\n</g>\n<!-- 2&#45;&#45;4 -->\n<g id=\"edge4\" class=\"edge\">\n<title>2&#45;&#45;4</title>\n<path fill=\"none\" stroke=\"black\" d=\"M65.3,-226.29C69.95,-212.74 80.39,-182.29 84.88,-169.19\"/>\n</g>\n<!-- 5 -->\n<g id=\"node6\" class=\"node\">\n<title>5</title>\n<text text-anchor=\"middle\" x=\"63\" y=\"-86.3\" font-family=\"Times,serif\" font-size=\"14.00\">o</text>\n</g>\n<!-- 4&#45;&#45;5 -->\n<g id=\"edge5\" class=\"edge\">\n<title>4&#45;&#45;5</title>\n<path fill=\"none\" stroke=\"black\" d=\"M84.95,-155.03C80.51,-142.07 70,-111.42 65.32,-97.77\"/>\n</g>\n<!-- 8 -->\n<g id=\"node9\" class=\"node\">\n<title>8</title>\n</g>\n<!-- 4&#45;&#45;8 -->\n<g id=\"edge8\" class=\"edge\">\n<title>4&#45;&#45;8</title>\n<path fill=\"none\" stroke=\"lightgreen\" d=\"M89.13,-155.03C92.79,-144.78 100.4,-123.47 105.84,-108.25\"/>\n</g>\n<!-- 6 -->\n<g id=\"node7\" class=\"node\">\n<title>6</title>\n</g>\n<!-- 5&#45;&#45;6 -->\n<g id=\"edge6\" class=\"edge\">\n<title>5&#45;&#45;6</title>\n<path fill=\"none\" stroke=\"lightgreen\" d=\"M59.55,-82.29C54.13,-71.75 43.45,-50.99 35.8,-36.12\"/>\n</g>\n<!-- 7 -->\n<g id=\"node8\" class=\"node\">\n<title>7</title>\n<text text-anchor=\"middle\" x=\"99\" y=\"-14.3\" font-family=\"Times,serif\" font-size=\"14.00\">*</text>\n</g>\n<!-- 5&#45;&#45;7 -->\n<g id=\"edge7\" class=\"edge\">\n<title>5&#45;&#45;7</title>\n<path fill=\"none\" stroke=\"lightgreen\" d=\"M66.45,-82.29C71.87,-71.75 82.55,-50.99 90.2,-36.12\"/>\n</g>\n<!-- 11 -->\n<g id=\"node12\" class=\"node\">\n<title>11</title>\n</g>\n<!-- 10&#45;&#45;11 -->\n<g id=\"edge11\" class=\"edge\">\n<title>10&#45;&#45;11</title>\n<path fill=\"none\" stroke=\"lightgreen\" d=\"M183,-287.67C183,-279.07 183,-263.96 183,-252.13\"/>\n</g>\n<!-- 12 -->\n<g id=\"node13\" class=\"node\">\n<title>12</title>\n</g>\n<!-- 10&#45;&#45;12 -->\n<g id=\"edge12\" class=\"edge\">\n<title>10&#45;&#45;12</title>\n<path fill=\"none\" stroke=\"lightgreen\" d=\"M186.87,-291.3C195.63,-284.06 217.52,-265.97 234.14,-252.24\"/>\n</g>\n</g>\n</svg>\n</div></td><td style=\"border-top:hidden;border-bottom:hidden;\"><div align=\"center\" style=\"\"><?xml version=\"1.0\" encoding=\"UTF-8\" standalone=\"no\"?>\n<!DOCTYPE svg PUBLIC \"-//W3C//DTD SVG 1.1//EN\"\n \"http://www.w3.org/Graphics/SVG/1.1/DTD/svg11.dtd\">\n<!-- Generated by graphviz version 2.44.1 (20200629.0846)\n -->\n<!-- Pages: 1 -->\n<svg width=\"276pt\" height=\"288pt\"\n viewBox=\"0.00 0.00 276.08 288.00\" xmlns=\"http://www.w3.org/2000/svg\" xmlns:xlink=\"http://www.w3.org/1999/xlink\">\n<g id=\"graph0\" class=\"graph\" transform=\"scale(0.99 0.99) rotate(0) translate(4 286)\">\n<polygon fill=\"white\" stroke=\"transparent\" points=\"-4,4 -4,-286 274,-286 274,4 -4,4\"/>\n<!-- 0 -->\n<g id=\"node1\" class=\"node\">\n<title>0</title>\n<text text-anchor=\"middle\" x=\"135\" y=\"-270.8\" font-family=\"Times,serif\" font-size=\"14.00\">a</text>\n</g>\n<!-- 1 -->\n<g id=\"node2\" class=\"node\">\n<title>1</title>\n<text text-anchor=\"middle\" x=\"99\" y=\"-219.8\" font-family=\"Times,serif\" font-size=\"14.00\">l</text>\n</g>\n<!-- 0&#45;&#45;1 -->\n<g id=\"edge1\" class=\"edge\">\n<title>0&#45;&#45;1</title>\n<path fill=\"none\" stroke=\"black\" d=\"M131.42,-268.62C124.02,-258.55 107.24,-235.72 101.21,-227.51\"/>\n</g>\n<!-- 8 -->\n<g id=\"node9\" class=\"node\">\n<title>8</title>\n<text text-anchor=\"middle\" x=\"171\" y=\"-219.8\" font-family=\"Times,serif\" font-size=\"14.00\">o</text>\n</g>\n<!-- 0&#45;&#45;8 -->\n<g id=\"edge8\" class=\"edge\">\n<title>0&#45;&#45;8</title>\n<path fill=\"none\" stroke=\"black\" d=\"M138.58,-268.62C145.48,-259.23 160.54,-238.73 167.43,-229.36\"/>\n</g>\n<!-- 2 -->\n<g id=\"node3\" class=\"node\">\n<title>2</title>\n<text text-anchor=\"middle\" x=\"51\" y=\"-158.3\" font-family=\"Times,serif\" font-size=\"14.00\">s</text>\n</g>\n<!-- 1&#45;&#45;2 -->\n<g id=\"edge2\" class=\"edge\">\n<title>1&#45;&#45;2</title>\n<path fill=\"none\" stroke=\"black\" d=\"M96.98,-220.26C91.38,-214.02 75.31,-195.9 63,-180 59.82,-175.89 56.42,-171.02 54.05,-167.55\"/>\n</g>\n<!-- 7 -->\n<g id=\"node8\" class=\"node\">\n<title>7</title>\n</g>\n<!-- 1&#45;&#45;7 -->\n<g id=\"edge7\" class=\"edge\">\n<title>1&#45;&#45;7</title>\n<path fill=\"none\" stroke=\"lightgreen\" d=\"M99,-215.67C99,-207.07 99,-191.96 99,-180.13\"/>\n</g>\n<!-- 3 -->\n<g id=\"node4\" class=\"node\">\n<title>3</title>\n</g>\n<!-- 2&#45;&#45;3 -->\n<g id=\"edge3\" class=\"edge\">\n<title>2&#45;&#45;3</title>\n<path fill=\"none\" stroke=\"lightgreen\" d=\"M48.7,-154.29C45.09,-143.75 37.97,-122.99 32.87,-108.12\"/>\n</g>\n<!-- 4 -->\n<g id=\"node5\" class=\"node\">\n<title>4</title>\n<text text-anchor=\"middle\" x=\"76\" y=\"-86.3\" font-family=\"Times,serif\" font-size=\"14.00\">o</text>\n</g>\n<!-- 2&#45;&#45;4 -->\n<g id=\"edge4\" class=\"edge\">\n<title>2&#45;&#45;4</title>\n<path fill=\"none\" stroke=\"black\" d=\"M53.4,-154.29C58.19,-140.87 68.89,-110.9 73.65,-97.59\"/>\n</g>\n<!-- 5 -->\n<g id=\"node6\" class=\"node\">\n<title>5</title>\n</g>\n<!-- 4&#45;&#45;5 -->\n<g id=\"edge5\" class=\"edge\">\n<title>4&#45;&#45;5</title>\n<path fill=\"none\" stroke=\"lightgreen\" d=\"M72.55,-82.29C67.13,-71.75 56.45,-50.99 48.8,-36.12\"/>\n</g>\n<!-- 6 -->\n<g id=\"node7\" class=\"node\">\n<title>6</title>\n</g>\n<!-- 4&#45;&#45;6 -->\n<g id=\"edge6\" class=\"edge\">\n<title>4&#45;&#45;6</title>\n<path fill=\"none\" stroke=\"lightgreen\" d=\"M79.45,-82.29C84.87,-71.75 95.55,-50.99 103.2,-36.12\"/>\n</g>\n<!-- 9 -->\n<g id=\"node10\" class=\"node\">\n<title>9</title>\n</g>\n<!-- 8&#45;&#45;9 -->\n<g id=\"edge9\" class=\"edge\">\n<title>8&#45;&#45;9</title>\n<path fill=\"none\" stroke=\"lightgreen\" d=\"M171,-215.67C171,-207.07 171,-191.96 171,-180.13\"/>\n</g>\n<!-- 10 -->\n<g id=\"node11\" class=\"node\">\n<title>10</title>\n</g>\n<!-- 8&#45;&#45;10 -->\n<g id=\"edge10\" class=\"edge\">\n<title>8&#45;&#45;10</title>\n<path fill=\"none\" stroke=\"lightgreen\" d=\"M174.87,-219.3C183.63,-212.06 205.52,-193.97 222.14,-180.24\"/>\n</g>\n</g>\n</svg>\n</div></td></tr></table>"
     },
     "metadata": {},
     "output_type": "display_data"
    },
    {
     "data": {
      "text/plain": "<IPython.core.display.HTML object>",
      "text/html": "<table style=\"border-style: hidden; border-collapse: collapse;\" width=\"100%\"><tr><td style=\"border-top:hidden;border-bottom:hidden;\"><div align=\"center\" style=\"\"><?xml version=\"1.0\" encoding=\"UTF-8\" standalone=\"no\"?>\n<!DOCTYPE svg PUBLIC \"-//W3C//DTD SVG 1.1//EN\"\n \"http://www.w3.org/Graphics/SVG/1.1/DTD/svg11.dtd\">\n<!-- Generated by graphviz version 2.44.1 (20200629.0846)\n -->\n<!-- Pages: 1 -->\n<svg width=\"184pt\" height=\"288pt\"\n viewBox=\"0.00 0.00 183.78 288.00\" xmlns=\"http://www.w3.org/2000/svg\" xmlns:xlink=\"http://www.w3.org/1999/xlink\">\n<g id=\"graph0\" class=\"graph\" transform=\"scale(0.8 0.8) rotate(0) translate(4 358)\">\n<polygon fill=\"white\" stroke=\"transparent\" points=\"-4,4 -4,-358 227,-358 227,4 -4,4\"/>\n<!-- 0 -->\n<g id=\"node1\" class=\"node\">\n<title>0</title>\n<text text-anchor=\"middle\" x=\"123\" y=\"-342.8\" font-family=\"Times,serif\" font-size=\"14.00\">a</text>\n</g>\n<!-- 1 -->\n<g id=\"node2\" class=\"node\">\n<title>1</title>\n<text text-anchor=\"middle\" x=\"99\" y=\"-291.8\" font-family=\"Times,serif\" font-size=\"14.00\">o</text>\n</g>\n<!-- 0&#45;&#45;1 -->\n<g id=\"edge1\" class=\"edge\">\n<title>0&#45;&#45;1</title>\n<path fill=\"none\" stroke=\"black\" d=\"M119.66,-338.69C115.08,-329.33 106.88,-312.59 102.31,-303.26\"/>\n</g>\n<!-- 4 -->\n<g id=\"node5\" class=\"node\">\n<title>4</title>\n<text text-anchor=\"middle\" x=\"147\" y=\"-291.8\" font-family=\"Times,serif\" font-size=\"14.00\">l</text>\n</g>\n<!-- 0&#45;&#45;4 -->\n<g id=\"edge4\" class=\"edge\">\n<title>0&#45;&#45;4</title>\n<path fill=\"none\" stroke=\"black\" d=\"M126.34,-338.69C131.39,-328.38 140.82,-309.13 144.96,-300.67\"/>\n</g>\n<!-- 2 -->\n<g id=\"node3\" class=\"node\">\n<title>2</title>\n</g>\n<!-- 1&#45;&#45;2 -->\n<g id=\"edge2\" class=\"edge\">\n<title>1&#45;&#45;2</title>\n<path fill=\"none\" stroke=\"lightgreen\" d=\"M95.13,-291.3C86.37,-284.06 64.48,-265.97 47.86,-252.24\"/>\n</g>\n<!-- 3 -->\n<g id=\"node4\" class=\"node\">\n<title>3</title>\n</g>\n<!-- 1&#45;&#45;3 -->\n<g id=\"edge3\" class=\"edge\">\n<title>1&#45;&#45;3</title>\n<path fill=\"none\" stroke=\"lightgreen\" d=\"M99,-287.67C99,-279.07 99,-263.96 99,-252.13\"/>\n</g>\n<!-- 5 -->\n<g id=\"node6\" class=\"node\">\n<title>5</title>\n<text text-anchor=\"middle\" x=\"147\" y=\"-230.3\" font-family=\"Times,serif\" font-size=\"14.00\">s</text>\n</g>\n<!-- 4&#45;&#45;5 -->\n<g id=\"edge5\" class=\"edge\">\n<title>4&#45;&#45;5</title>\n<path fill=\"none\" stroke=\"black\" d=\"M147,-287.67C147,-276.2 147,-253.17 147,-241.75\"/>\n</g>\n<!-- 12 -->\n<g id=\"node13\" class=\"node\">\n<title>12</title>\n</g>\n<!-- 4&#45;&#45;12 -->\n<g id=\"edge12\" class=\"edge\">\n<title>4&#45;&#45;12</title>\n<path fill=\"none\" stroke=\"lightgreen\" d=\"M149.06,-291.94C154.52,-285.18 169.69,-266.37 181.12,-252.21\"/>\n</g>\n<!-- 6 -->\n<g id=\"node7\" class=\"node\">\n<title>6</title>\n</g>\n<!-- 5&#45;&#45;6 -->\n<g id=\"edge6\" class=\"edge\">\n<title>5&#45;&#45;6</title>\n<path fill=\"none\" stroke=\"lightgreen\" d=\"M144.79,-226.29C141.33,-215.75 134.51,-194.99 129.62,-180.12\"/>\n</g>\n<!-- 7 -->\n<g id=\"node8\" class=\"node\">\n<title>7</title>\n<text text-anchor=\"middle\" x=\"171\" y=\"-158.3\" font-family=\"Times,serif\" font-size=\"14.00\">l</text>\n</g>\n<!-- 5&#45;&#45;7 -->\n<g id=\"edge7\" class=\"edge\">\n<title>5&#45;&#45;7</title>\n<path fill=\"none\" stroke=\"black\" d=\"M149.3,-226.29C153.95,-212.74 164.39,-182.29 168.88,-169.19\"/>\n</g>\n<!-- 8 -->\n<g id=\"node9\" class=\"node\">\n<title>8</title>\n<text text-anchor=\"middle\" x=\"147\" y=\"-86.3\" font-family=\"Times,serif\" font-size=\"14.00\">o</text>\n</g>\n<!-- 7&#45;&#45;8 -->\n<g id=\"edge8\" class=\"edge\">\n<title>7&#45;&#45;8</title>\n<path fill=\"none\" stroke=\"black\" d=\"M168.95,-155.03C164.51,-142.07 154,-111.42 149.32,-97.77\"/>\n</g>\n<!-- 11 -->\n<g id=\"node12\" class=\"node\">\n<title>11</title>\n</g>\n<!-- 7&#45;&#45;11 -->\n<g id=\"edge11\" class=\"edge\">\n<title>7&#45;&#45;11</title>\n<path fill=\"none\" stroke=\"lightgreen\" d=\"M173.13,-155.03C176.79,-144.78 184.4,-123.47 189.84,-108.25\"/>\n</g>\n<!-- 9 -->\n<g id=\"node10\" class=\"node\">\n<title>9</title>\n</g>\n<!-- 8&#45;&#45;9 -->\n<g id=\"edge9\" class=\"edge\">\n<title>8&#45;&#45;9</title>\n<path fill=\"none\" stroke=\"lightgreen\" d=\"M143.55,-82.29C138.13,-71.75 127.45,-50.99 119.8,-36.12\"/>\n</g>\n<!-- 10 -->\n<g id=\"node11\" class=\"node\">\n<title>10</title>\n<text text-anchor=\"middle\" x=\"183\" y=\"-14.3\" font-family=\"Times,serif\" font-size=\"14.00\">*</text>\n</g>\n<!-- 8&#45;&#45;10 -->\n<g id=\"edge10\" class=\"edge\">\n<title>8&#45;&#45;10</title>\n<path fill=\"none\" stroke=\"lightgreen\" d=\"M150.45,-82.29C155.87,-71.75 166.55,-50.99 174.2,-36.12\"/>\n</g>\n</g>\n</svg>\n</div></td><td style=\"border-top:hidden;border-bottom:hidden;\"><div align=\"center\" style=\"\"><?xml version=\"1.0\" encoding=\"UTF-8\" standalone=\"no\"?>\n<!DOCTYPE svg PUBLIC \"-//W3C//DTD SVG 1.1//EN\"\n \"http://www.w3.org/Graphics/SVG/1.1/DTD/svg11.dtd\">\n<!-- Generated by graphviz version 2.44.1 (20200629.0846)\n -->\n<!-- Pages: 1 -->\n<svg width=\"240pt\" height=\"288pt\"\n viewBox=\"0.00 0.00 240.33 288.00\" xmlns=\"http://www.w3.org/2000/svg\" xmlns:xlink=\"http://www.w3.org/1999/xlink\">\n<g id=\"graph0\" class=\"graph\" transform=\"scale(0.99 0.99) rotate(0) translate(4 286)\">\n<polygon fill=\"white\" stroke=\"transparent\" points=\"-4,4 -4,-286 238,-286 238,4 -4,4\"/>\n<!-- 0 -->\n<g id=\"node1\" class=\"node\">\n<title>0</title>\n<text text-anchor=\"middle\" x=\"123\" y=\"-270.8\" font-family=\"Times,serif\" font-size=\"14.00\">a</text>\n</g>\n<!-- 1 -->\n<g id=\"node2\" class=\"node\">\n<title>1</title>\n<text text-anchor=\"middle\" x=\"99\" y=\"-219.8\" font-family=\"Times,serif\" font-size=\"14.00\">o</text>\n</g>\n<!-- 0&#45;&#45;1 -->\n<g id=\"edge1\" class=\"edge\">\n<title>0&#45;&#45;1</title>\n<path fill=\"none\" stroke=\"black\" d=\"M119.66,-266.69C115.08,-257.33 106.88,-240.59 102.31,-231.26\"/>\n</g>\n<!-- 4 -->\n<g id=\"node5\" class=\"node\">\n<title>4</title>\n<text text-anchor=\"middle\" x=\"147\" y=\"-219.8\" font-family=\"Times,serif\" font-size=\"14.00\">l</text>\n</g>\n<!-- 0&#45;&#45;4 -->\n<g id=\"edge4\" class=\"edge\">\n<title>0&#45;&#45;4</title>\n<path fill=\"none\" stroke=\"black\" d=\"M126.34,-266.69C131.39,-256.38 140.82,-237.13 144.96,-228.67\"/>\n</g>\n<!-- 2 -->\n<g id=\"node3\" class=\"node\">\n<title>2</title>\n</g>\n<!-- 1&#45;&#45;2 -->\n<g id=\"edge2\" class=\"edge\">\n<title>1&#45;&#45;2</title>\n<path fill=\"none\" stroke=\"lightgreen\" d=\"M95.13,-219.3C86.37,-212.06 64.48,-193.97 47.86,-180.24\"/>\n</g>\n<!-- 3 -->\n<g id=\"node4\" class=\"node\">\n<title>3</title>\n</g>\n<!-- 1&#45;&#45;3 -->\n<g id=\"edge3\" class=\"edge\">\n<title>1&#45;&#45;3</title>\n<path fill=\"none\" stroke=\"lightgreen\" d=\"M99,-215.67C99,-207.07 99,-191.96 99,-180.13\"/>\n</g>\n<!-- 5 -->\n<g id=\"node6\" class=\"node\">\n<title>5</title>\n<text text-anchor=\"middle\" x=\"147\" y=\"-158.3\" font-family=\"Times,serif\" font-size=\"14.00\">s</text>\n</g>\n<!-- 4&#45;&#45;5 -->\n<g id=\"edge5\" class=\"edge\">\n<title>4&#45;&#45;5</title>\n<path fill=\"none\" stroke=\"black\" d=\"M147,-215.67C147,-204.2 147,-181.17 147,-169.75\"/>\n</g>\n<!-- 10 -->\n<g id=\"node11\" class=\"node\">\n<title>10</title>\n</g>\n<!-- 4&#45;&#45;10 -->\n<g id=\"edge10\" class=\"edge\">\n<title>4&#45;&#45;10</title>\n<path fill=\"none\" stroke=\"lightgreen\" d=\"M149.06,-219.94C154.52,-213.18 169.69,-194.37 181.12,-180.21\"/>\n</g>\n<!-- 6 -->\n<g id=\"node7\" class=\"node\">\n<title>6</title>\n</g>\n<!-- 5&#45;&#45;6 -->\n<g id=\"edge6\" class=\"edge\">\n<title>5&#45;&#45;6</title>\n<path fill=\"none\" stroke=\"lightgreen\" d=\"M144.6,-154.29C140.84,-143.75 133.42,-122.99 128.11,-108.12\"/>\n</g>\n<!-- 7 -->\n<g id=\"node8\" class=\"node\">\n<title>7</title>\n<text text-anchor=\"middle\" x=\"171\" y=\"-86.3\" font-family=\"Times,serif\" font-size=\"14.00\">o</text>\n</g>\n<!-- 5&#45;&#45;7 -->\n<g id=\"edge7\" class=\"edge\">\n<title>5&#45;&#45;7</title>\n<path fill=\"none\" stroke=\"black\" d=\"M149.3,-154.29C153.9,-140.87 164.18,-110.9 168.74,-97.59\"/>\n</g>\n<!-- 8 -->\n<g id=\"node9\" class=\"node\">\n<title>8</title>\n</g>\n<!-- 7&#45;&#45;8 -->\n<g id=\"edge8\" class=\"edge\">\n<title>7&#45;&#45;8</title>\n<path fill=\"none\" stroke=\"lightgreen\" d=\"M167.55,-82.29C162.13,-71.75 151.45,-50.99 143.8,-36.12\"/>\n</g>\n<!-- 9 -->\n<g id=\"node10\" class=\"node\">\n<title>9</title>\n</g>\n<!-- 7&#45;&#45;9 -->\n<g id=\"edge9\" class=\"edge\">\n<title>7&#45;&#45;9</title>\n<path fill=\"none\" stroke=\"lightgreen\" d=\"M174.45,-82.29C179.87,-71.75 190.55,-50.99 198.2,-36.12\"/>\n</g>\n</g>\n</svg>\n</div></td></tr></table>"
     },
     "metadata": {},
     "output_type": "display_data"
    },
    {
     "data": {
      "text/plain": "<IPython.core.display.HTML object>",
      "text/html": "<table style=\"border-style: hidden; border-collapse: collapse;\" width=\"100%\"><tr><td style=\"border-top:hidden;border-bottom:hidden;\"><div align=\"center\" style=\"\"><?xml version=\"1.0\" encoding=\"UTF-8\" standalone=\"no\"?>\n<!DOCTYPE svg PUBLIC \"-//W3C//DTD SVG 1.1//EN\"\n \"http://www.w3.org/Graphics/SVG/1.1/DTD/svg11.dtd\">\n<!-- Generated by graphviz version 2.44.1 (20200629.0846)\n -->\n<!-- Pages: 1 -->\n<svg width=\"241pt\" height=\"288pt\"\n viewBox=\"0.00 0.00 241.06 288.00\" xmlns=\"http://www.w3.org/2000/svg\" xmlns:xlink=\"http://www.w3.org/1999/xlink\">\n<g id=\"graph0\" class=\"graph\" transform=\"scale(0.8 0.8) rotate(0) translate(4 358)\">\n<polygon fill=\"white\" stroke=\"transparent\" points=\"-4,4 -4,-358 299,-358 299,4 -4,4\"/>\n<!-- 0 -->\n<g id=\"node1\" class=\"node\">\n<title>0</title>\n<text text-anchor=\"middle\" x=\"135\" y=\"-342.8\" font-family=\"Times,serif\" font-size=\"14.00\">a</text>\n</g>\n<!-- 1 -->\n<g id=\"node2\" class=\"node\">\n<title>1</title>\n<text text-anchor=\"middle\" x=\"99\" y=\"-291.8\" font-family=\"Times,serif\" font-size=\"14.00\">o</text>\n</g>\n<!-- 0&#45;&#45;1 -->\n<g id=\"edge1\" class=\"edge\">\n<title>0&#45;&#45;1</title>\n<path fill=\"none\" stroke=\"black\" d=\"M131.42,-340.62C124.52,-331.23 109.46,-310.73 102.57,-301.36\"/>\n</g>\n<!-- 4 -->\n<g id=\"node5\" class=\"node\">\n<title>4</title>\n<text text-anchor=\"middle\" x=\"171\" y=\"-291.8\" font-family=\"Times,serif\" font-size=\"14.00\">s</text>\n</g>\n<!-- 0&#45;&#45;4 -->\n<g id=\"edge4\" class=\"edge\">\n<title>0&#45;&#45;4</title>\n<path fill=\"none\" stroke=\"black\" d=\"M138.58,-340.62C145.63,-331.04 161.17,-309.88 167.85,-300.79\"/>\n</g>\n<!-- 2 -->\n<g id=\"node3\" class=\"node\">\n<title>2</title>\n</g>\n<!-- 1&#45;&#45;2 -->\n<g id=\"edge2\" class=\"edge\">\n<title>1&#45;&#45;2</title>\n<path fill=\"none\" stroke=\"lightgreen\" d=\"M95.13,-291.3C86.37,-284.06 64.48,-265.97 47.86,-252.24\"/>\n</g>\n<!-- 3 -->\n<g id=\"node4\" class=\"node\">\n<title>3</title>\n</g>\n<!-- 1&#45;&#45;3 -->\n<g id=\"edge3\" class=\"edge\">\n<title>1&#45;&#45;3</title>\n<path fill=\"none\" stroke=\"lightgreen\" d=\"M99,-287.67C99,-279.07 99,-263.96 99,-252.13\"/>\n</g>\n<!-- 5 -->\n<g id=\"node6\" class=\"node\">\n<title>5</title>\n</g>\n<!-- 4&#45;&#45;5 -->\n<g id=\"edge5\" class=\"edge\">\n<title>4&#45;&#45;5</title>\n<path fill=\"none\" stroke=\"lightgreen\" d=\"M171,-287.67C171,-279.07 171,-263.96 171,-252.13\"/>\n</g>\n<!-- 6 -->\n<g id=\"node7\" class=\"node\">\n<title>6</title>\n<text text-anchor=\"middle\" x=\"219\" y=\"-230.3\" font-family=\"Times,serif\" font-size=\"14.00\">s</text>\n</g>\n<!-- 4&#45;&#45;6 -->\n<g id=\"edge6\" class=\"edge\">\n<title>4&#45;&#45;6</title>\n<path fill=\"none\" stroke=\"black\" d=\"M174.09,-291.06C180.46,-283.94 195.4,-266.99 207,-252 210.18,-247.89 213.58,-243.02 215.95,-239.55\"/>\n</g>\n<!-- 7 -->\n<g id=\"node8\" class=\"node\">\n<title>7</title>\n</g>\n<!-- 6&#45;&#45;7 -->\n<g id=\"edge7\" class=\"edge\">\n<title>6&#45;&#45;7</title>\n<path fill=\"none\" stroke=\"lightgreen\" d=\"M216.79,-226.29C213.33,-215.75 206.51,-194.99 201.62,-180.12\"/>\n</g>\n<!-- 8 -->\n<g id=\"node9\" class=\"node\">\n<title>8</title>\n<text text-anchor=\"middle\" x=\"243\" y=\"-158.3\" font-family=\"Times,serif\" font-size=\"14.00\">l</text>\n</g>\n<!-- 6&#45;&#45;8 -->\n<g id=\"edge8\" class=\"edge\">\n<title>6&#45;&#45;8</title>\n<path fill=\"none\" stroke=\"black\" d=\"M221.3,-226.29C225.95,-212.74 236.39,-182.29 240.88,-169.19\"/>\n</g>\n<!-- 9 -->\n<g id=\"node10\" class=\"node\">\n<title>9</title>\n<text text-anchor=\"middle\" x=\"219\" y=\"-86.3\" font-family=\"Times,serif\" font-size=\"14.00\">o</text>\n</g>\n<!-- 8&#45;&#45;9 -->\n<g id=\"edge9\" class=\"edge\">\n<title>8&#45;&#45;9</title>\n<path fill=\"none\" stroke=\"black\" d=\"M240.95,-155.03C236.51,-142.07 226,-111.42 221.32,-97.77\"/>\n</g>\n<!-- 12 -->\n<g id=\"node13\" class=\"node\">\n<title>12</title>\n</g>\n<!-- 8&#45;&#45;12 -->\n<g id=\"edge12\" class=\"edge\">\n<title>8&#45;&#45;12</title>\n<path fill=\"none\" stroke=\"lightgreen\" d=\"M245.13,-155.03C248.79,-144.78 256.4,-123.47 261.84,-108.25\"/>\n</g>\n<!-- 10 -->\n<g id=\"node11\" class=\"node\">\n<title>10</title>\n</g>\n<!-- 9&#45;&#45;10 -->\n<g id=\"edge10\" class=\"edge\">\n<title>9&#45;&#45;10</title>\n<path fill=\"none\" stroke=\"lightgreen\" d=\"M215.55,-82.29C210.13,-71.75 199.45,-50.99 191.8,-36.12\"/>\n</g>\n<!-- 11 -->\n<g id=\"node12\" class=\"node\">\n<title>11</title>\n<text text-anchor=\"middle\" x=\"255\" y=\"-14.3\" font-family=\"Times,serif\" font-size=\"14.00\">*</text>\n</g>\n<!-- 9&#45;&#45;11 -->\n<g id=\"edge11\" class=\"edge\">\n<title>9&#45;&#45;11</title>\n<path fill=\"none\" stroke=\"lightgreen\" d=\"M222.45,-82.29C227.87,-71.75 238.55,-50.99 246.2,-36.12\"/>\n</g>\n</g>\n</svg>\n</div></td><td style=\"border-top:hidden;border-bottom:hidden;\"><div align=\"center\" style=\"\"><?xml version=\"1.0\" encoding=\"UTF-8\" standalone=\"no\"?>\n<!DOCTYPE svg PUBLIC \"-//W3C//DTD SVG 1.1//EN\"\n \"http://www.w3.org/Graphics/SVG/1.1/DTD/svg11.dtd\">\n<!-- Generated by graphviz version 2.44.1 (20200629.0846)\n -->\n<!-- Pages: 1 -->\n<svg width=\"288pt\" height=\"266pt\"\n viewBox=\"0.00 0.00 288.00 265.99\" xmlns=\"http://www.w3.org/2000/svg\" xmlns:xlink=\"http://www.w3.org/1999/xlink\">\n<g id=\"graph0\" class=\"graph\" transform=\"scale(0.92 0.92) rotate(0) translate(4 286)\">\n<polygon fill=\"white\" stroke=\"transparent\" points=\"-4,4 -4,-286 310,-286 310,4 -4,4\"/>\n<!-- 0 -->\n<g id=\"node1\" class=\"node\">\n<title>0</title>\n<text text-anchor=\"middle\" x=\"135\" y=\"-270.8\" font-family=\"Times,serif\" font-size=\"14.00\">a</text>\n</g>\n<!-- 1 -->\n<g id=\"node2\" class=\"node\">\n<title>1</title>\n<text text-anchor=\"middle\" x=\"99\" y=\"-219.8\" font-family=\"Times,serif\" font-size=\"14.00\">o</text>\n</g>\n<!-- 0&#45;&#45;1 -->\n<g id=\"edge1\" class=\"edge\">\n<title>0&#45;&#45;1</title>\n<path fill=\"none\" stroke=\"black\" d=\"M131.42,-268.62C124.52,-259.23 109.46,-238.73 102.57,-229.36\"/>\n</g>\n<!-- 4 -->\n<g id=\"node5\" class=\"node\">\n<title>4</title>\n<text text-anchor=\"middle\" x=\"171\" y=\"-219.8\" font-family=\"Times,serif\" font-size=\"14.00\">s</text>\n</g>\n<!-- 0&#45;&#45;4 -->\n<g id=\"edge4\" class=\"edge\">\n<title>0&#45;&#45;4</title>\n<path fill=\"none\" stroke=\"black\" d=\"M138.58,-268.62C145.63,-259.04 161.17,-237.88 167.85,-228.79\"/>\n</g>\n<!-- 2 -->\n<g id=\"node3\" class=\"node\">\n<title>2</title>\n</g>\n<!-- 1&#45;&#45;2 -->\n<g id=\"edge2\" class=\"edge\">\n<title>1&#45;&#45;2</title>\n<path fill=\"none\" stroke=\"lightgreen\" d=\"M95.13,-219.3C86.37,-212.06 64.48,-193.97 47.86,-180.24\"/>\n</g>\n<!-- 3 -->\n<g id=\"node4\" class=\"node\">\n<title>3</title>\n</g>\n<!-- 1&#45;&#45;3 -->\n<g id=\"edge3\" class=\"edge\">\n<title>1&#45;&#45;3</title>\n<path fill=\"none\" stroke=\"lightgreen\" d=\"M99,-215.67C99,-207.07 99,-191.96 99,-180.13\"/>\n</g>\n<!-- 5 -->\n<g id=\"node6\" class=\"node\">\n<title>5</title>\n</g>\n<!-- 4&#45;&#45;5 -->\n<g id=\"edge5\" class=\"edge\">\n<title>4&#45;&#45;5</title>\n<path fill=\"none\" stroke=\"lightgreen\" d=\"M171,-215.67C171,-207.07 171,-191.96 171,-180.13\"/>\n</g>\n<!-- 6 -->\n<g id=\"node7\" class=\"node\">\n<title>6</title>\n<text text-anchor=\"middle\" x=\"219\" y=\"-158.3\" font-family=\"Times,serif\" font-size=\"14.00\">s</text>\n</g>\n<!-- 4&#45;&#45;6 -->\n<g id=\"edge6\" class=\"edge\">\n<title>4&#45;&#45;6</title>\n<path fill=\"none\" stroke=\"black\" d=\"M174.09,-219.06C180.46,-211.94 195.4,-194.99 207,-180 210.18,-175.89 213.58,-171.02 215.95,-167.55\"/>\n</g>\n<!-- 7 -->\n<g id=\"node8\" class=\"node\">\n<title>7</title>\n</g>\n<!-- 6&#45;&#45;7 -->\n<g id=\"edge7\" class=\"edge\">\n<title>6&#45;&#45;7</title>\n<path fill=\"none\" stroke=\"lightgreen\" d=\"M216.6,-154.29C212.84,-143.75 205.42,-122.99 200.11,-108.12\"/>\n</g>\n<!-- 8 -->\n<g id=\"node9\" class=\"node\">\n<title>8</title>\n<text text-anchor=\"middle\" x=\"243\" y=\"-86.3\" font-family=\"Times,serif\" font-size=\"14.00\">o</text>\n</g>\n<!-- 6&#45;&#45;8 -->\n<g id=\"edge8\" class=\"edge\">\n<title>6&#45;&#45;8</title>\n<path fill=\"none\" stroke=\"black\" d=\"M221.3,-154.29C225.9,-140.87 236.18,-110.9 240.74,-97.59\"/>\n</g>\n<!-- 9 -->\n<g id=\"node10\" class=\"node\">\n<title>9</title>\n</g>\n<!-- 8&#45;&#45;9 -->\n<g id=\"edge9\" class=\"edge\">\n<title>8&#45;&#45;9</title>\n<path fill=\"none\" stroke=\"lightgreen\" d=\"M239.55,-82.29C234.13,-71.75 223.45,-50.99 215.8,-36.12\"/>\n</g>\n<!-- 10 -->\n<g id=\"node11\" class=\"node\">\n<title>10</title>\n</g>\n<!-- 8&#45;&#45;10 -->\n<g id=\"edge10\" class=\"edge\">\n<title>8&#45;&#45;10</title>\n<path fill=\"none\" stroke=\"lightgreen\" d=\"M246.45,-82.29C251.87,-71.75 262.55,-50.99 270.2,-36.12\"/>\n</g>\n</g>\n</svg>\n</div></td></tr></table>"
     },
     "metadata": {},
     "output_type": "display_data"
    },
    {
     "data": {
      "text/plain": "<IPython.core.display.HTML object>",
      "text/html": "<table style=\"border-style: hidden; border-collapse: collapse;\" width=\"100%\"><tr><td style=\"border-top:hidden;border-bottom:hidden;\"><div align=\"center\" style=\"\"><?xml version=\"1.0\" encoding=\"UTF-8\" standalone=\"no\"?>\n<!DOCTYPE svg PUBLIC \"-//W3C//DTD SVG 1.1//EN\"\n \"http://www.w3.org/Graphics/SVG/1.1/DTD/svg11.dtd\">\n<!-- Generated by graphviz version 2.44.1 (20200629.0846)\n -->\n<!-- Pages: 1 -->\n<svg width=\"288pt\" height=\"287pt\"\n viewBox=\"0.00 0.00 288.00 287.01\" xmlns=\"http://www.w3.org/2000/svg\" xmlns:xlink=\"http://www.w3.org/1999/xlink\">\n<g id=\"graph0\" class=\"graph\" transform=\"scale(0.99 0.99) rotate(0) translate(4 286)\">\n<polygon fill=\"white\" stroke=\"transparent\" points=\"-4,4 -4,-286 287,-286 287,4 -4,4\"/>\n<!-- 0 -->\n<g id=\"node1\" class=\"node\">\n<title>0</title>\n<text text-anchor=\"middle\" x=\"148\" y=\"-270.8\" font-family=\"Times,serif\" font-size=\"14.00\">a</text>\n</g>\n<!-- 1 -->\n<g id=\"node2\" class=\"node\">\n<title>1</title>\n<text text-anchor=\"middle\" x=\"112\" y=\"-219.8\" font-family=\"Times,serif\" font-size=\"14.00\">s</text>\n</g>\n<!-- 0&#45;&#45;1 -->\n<g id=\"edge1\" class=\"edge\">\n<title>0&#45;&#45;1</title>\n<path fill=\"none\" stroke=\"black\" d=\"M144.42,-268.62C137.37,-259.04 121.83,-237.88 115.15,-228.79\"/>\n</g>\n<!-- 8 -->\n<g id=\"node9\" class=\"node\">\n<title>8</title>\n<text text-anchor=\"middle\" x=\"184\" y=\"-219.8\" font-family=\"Times,serif\" font-size=\"14.00\">l</text>\n</g>\n<!-- 0&#45;&#45;8 -->\n<g id=\"edge8\" class=\"edge\">\n<title>0&#45;&#45;8</title>\n<path fill=\"none\" stroke=\"black\" d=\"M151.58,-268.62C158.98,-258.55 175.76,-235.72 181.79,-227.51\"/>\n</g>\n<!-- 2 -->\n<g id=\"node3\" class=\"node\">\n<title>2</title>\n</g>\n<!-- 1&#45;&#45;2 -->\n<g id=\"edge2\" class=\"edge\">\n<title>1&#45;&#45;2</title>\n<path fill=\"none\" stroke=\"lightgreen\" d=\"M108.92,-218.6C102.87,-210.94 89.14,-193.56 78.63,-180.25\"/>\n</g>\n<!-- 3 -->\n<g id=\"node4\" class=\"node\">\n<title>3</title>\n<text text-anchor=\"middle\" x=\"112\" y=\"-158.3\" font-family=\"Times,serif\" font-size=\"14.00\">l</text>\n</g>\n<!-- 1&#45;&#45;3 -->\n<g id=\"edge3\" class=\"edge\">\n<title>1&#45;&#45;3</title>\n<path fill=\"none\" stroke=\"black\" d=\"M112,-215.67C112,-204.2 112,-181.17 112,-169.75\"/>\n</g>\n<!-- 4 -->\n<g id=\"node5\" class=\"node\">\n<title>4</title>\n<text text-anchor=\"middle\" x=\"63\" y=\"-86.3\" font-family=\"Times,serif\" font-size=\"14.00\">o</text>\n</g>\n<!-- 3&#45;&#45;4 -->\n<g id=\"edge4\" class=\"edge\">\n<title>3&#45;&#45;4</title>\n<path fill=\"none\" stroke=\"black\" d=\"M109.86,-157.58C107.67,-154.13 104.17,-148.65 101,-144 88.76,-126.04 73.5,-105.21 66.64,-95.91\"/>\n</g>\n<!-- 7 -->\n<g id=\"node8\" class=\"node\">\n<title>7</title>\n</g>\n<!-- 3&#45;&#45;7 -->\n<g id=\"edge7\" class=\"edge\">\n<title>3&#45;&#45;7</title>\n<path fill=\"none\" stroke=\"lightgreen\" d=\"M112,-154.29C112,-143.75 112,-122.99 112,-108.12\"/>\n</g>\n<!-- 5 -->\n<g id=\"node6\" class=\"node\">\n<title>5</title>\n</g>\n<!-- 4&#45;&#45;5 -->\n<g id=\"edge5\" class=\"edge\">\n<title>4&#45;&#45;5</title>\n<path fill=\"none\" stroke=\"lightgreen\" d=\"M59.55,-82.29C54.13,-71.75 43.45,-50.99 35.8,-36.12\"/>\n</g>\n<!-- 6 -->\n<g id=\"node7\" class=\"node\">\n<title>6</title>\n<text text-anchor=\"middle\" x=\"99\" y=\"-14.3\" font-family=\"Times,serif\" font-size=\"14.00\">*</text>\n</g>\n<!-- 4&#45;&#45;6 -->\n<g id=\"edge6\" class=\"edge\">\n<title>4&#45;&#45;6</title>\n<path fill=\"none\" stroke=\"lightgreen\" d=\"M66.45,-82.29C71.87,-71.75 82.55,-50.99 90.2,-36.12\"/>\n</g>\n<!-- 9 -->\n<g id=\"node10\" class=\"node\">\n<title>9</title>\n<text text-anchor=\"middle\" x=\"184\" y=\"-158.3\" font-family=\"Times,serif\" font-size=\"14.00\">o</text>\n</g>\n<!-- 8&#45;&#45;9 -->\n<g id=\"edge9\" class=\"edge\">\n<title>8&#45;&#45;9</title>\n<path fill=\"none\" stroke=\"black\" d=\"M184,-215.67C184,-204.2 184,-181.17 184,-169.75\"/>\n</g>\n<!-- 12 -->\n<g id=\"node13\" class=\"node\">\n<title>12</title>\n</g>\n<!-- 8&#45;&#45;12 -->\n<g id=\"edge12\" class=\"edge\">\n<title>8&#45;&#45;12</title>\n<path fill=\"none\" stroke=\"lightgreen\" d=\"M186.11,-219.94C191.67,-213.18 207.16,-194.37 218.83,-180.21\"/>\n</g>\n<!-- 10 -->\n<g id=\"node11\" class=\"node\">\n<title>10</title>\n</g>\n<!-- 9&#45;&#45;10 -->\n<g id=\"edge10\" class=\"edge\">\n<title>9&#45;&#45;10</title>\n<path fill=\"none\" stroke=\"lightgreen\" d=\"M184,-154.29C184,-143.75 184,-122.99 184,-108.12\"/>\n</g>\n<!-- 11 -->\n<g id=\"node12\" class=\"node\">\n<title>11</title>\n</g>\n<!-- 9&#45;&#45;11 -->\n<g id=\"edge11\" class=\"edge\">\n<title>9&#45;&#45;11</title>\n<path fill=\"none\" stroke=\"lightgreen\" d=\"M187.63,-155.74C190.12,-152.28 193.57,-147.71 197,-144 208.87,-131.16 223.48,-118.01 235.19,-108.03\"/>\n</g>\n</g>\n</svg>\n</div></td><td style=\"border-top:hidden;border-bottom:hidden;\"><div align=\"center\" style=\"\"><?xml version=\"1.0\" encoding=\"UTF-8\" standalone=\"no\"?>\n<!DOCTYPE svg PUBLIC \"-//W3C//DTD SVG 1.1//EN\"\n \"http://www.w3.org/Graphics/SVG/1.1/DTD/svg11.dtd\">\n<!-- Generated by graphviz version 2.44.1 (20200629.0846)\n -->\n<!-- Pages: 1 -->\n<svg width=\"278pt\" height=\"218pt\"\n viewBox=\"0.00 0.00 278.00 218.00\" xmlns=\"http://www.w3.org/2000/svg\" xmlns:xlink=\"http://www.w3.org/1999/xlink\">\n<g id=\"graph0\" class=\"graph\" transform=\"scale(1 1) rotate(0) translate(4 214)\">\n<polygon fill=\"white\" stroke=\"transparent\" points=\"-4,4 -4,-214 274,-214 274,4 -4,4\"/>\n<!-- 0 -->\n<g id=\"node1\" class=\"node\">\n<title>0</title>\n<text text-anchor=\"middle\" x=\"135\" y=\"-198.8\" font-family=\"Times,serif\" font-size=\"14.00\">a</text>\n</g>\n<!-- 1 -->\n<g id=\"node2\" class=\"node\">\n<title>1</title>\n<text text-anchor=\"middle\" x=\"99\" y=\"-147.8\" font-family=\"Times,serif\" font-size=\"14.00\">s</text>\n</g>\n<!-- 0&#45;&#45;1 -->\n<g id=\"edge1\" class=\"edge\">\n<title>0&#45;&#45;1</title>\n<path fill=\"none\" stroke=\"black\" d=\"M131.42,-196.62C124.37,-187.04 108.83,-165.88 102.15,-156.79\"/>\n</g>\n<!-- 6 -->\n<g id=\"node7\" class=\"node\">\n<title>6</title>\n<text text-anchor=\"middle\" x=\"171\" y=\"-147.8\" font-family=\"Times,serif\" font-size=\"14.00\">l</text>\n</g>\n<!-- 0&#45;&#45;6 -->\n<g id=\"edge6\" class=\"edge\">\n<title>0&#45;&#45;6</title>\n<path fill=\"none\" stroke=\"black\" d=\"M138.58,-196.62C145.98,-186.55 162.76,-163.72 168.79,-155.51\"/>\n</g>\n<!-- 2 -->\n<g id=\"node3\" class=\"node\">\n<title>2</title>\n</g>\n<!-- 1&#45;&#45;2 -->\n<g id=\"edge2\" class=\"edge\">\n<title>1&#45;&#45;2</title>\n<path fill=\"none\" stroke=\"lightgreen\" d=\"M95.78,-146.6C89.48,-138.94 75.16,-121.56 64.21,-108.25\"/>\n</g>\n<!-- 3 -->\n<g id=\"node4\" class=\"node\">\n<title>3</title>\n<text text-anchor=\"middle\" x=\"99\" y=\"-86.3\" font-family=\"Times,serif\" font-size=\"14.00\">o</text>\n</g>\n<!-- 1&#45;&#45;3 -->\n<g id=\"edge3\" class=\"edge\">\n<title>1&#45;&#45;3</title>\n<path fill=\"none\" stroke=\"black\" d=\"M99,-143.67C99,-132.2 99,-109.17 99,-97.75\"/>\n</g>\n<!-- 4 -->\n<g id=\"node5\" class=\"node\">\n<title>4</title>\n</g>\n<!-- 3&#45;&#45;4 -->\n<g id=\"edge4\" class=\"edge\">\n<title>3&#45;&#45;4</title>\n<path fill=\"none\" stroke=\"lightgreen\" d=\"M95.37,-83.74C92.88,-80.28 89.43,-75.71 86,-72 74.13,-59.16 59.52,-46.01 47.81,-36.03\"/>\n</g>\n<!-- 5 -->\n<g id=\"node6\" class=\"node\">\n<title>5</title>\n</g>\n<!-- 3&#45;&#45;5 -->\n<g id=\"edge5\" class=\"edge\">\n<title>3&#45;&#45;5</title>\n<path fill=\"none\" stroke=\"lightgreen\" d=\"M99,-82.29C99,-71.75 99,-50.99 99,-36.12\"/>\n</g>\n<!-- 7 -->\n<g id=\"node8\" class=\"node\">\n<title>7</title>\n<text text-anchor=\"middle\" x=\"171\" y=\"-86.3\" font-family=\"Times,serif\" font-size=\"14.00\">o</text>\n</g>\n<!-- 6&#45;&#45;7 -->\n<g id=\"edge7\" class=\"edge\">\n<title>6&#45;&#45;7</title>\n<path fill=\"none\" stroke=\"black\" d=\"M171,-143.67C171,-132.2 171,-109.17 171,-97.75\"/>\n</g>\n<!-- 10 -->\n<g id=\"node11\" class=\"node\">\n<title>10</title>\n</g>\n<!-- 6&#45;&#45;10 -->\n<g id=\"edge10\" class=\"edge\">\n<title>6&#45;&#45;10</title>\n<path fill=\"none\" stroke=\"lightgreen\" d=\"M173.11,-147.94C178.67,-141.18 194.16,-122.37 205.83,-108.21\"/>\n</g>\n<!-- 8 -->\n<g id=\"node9\" class=\"node\">\n<title>8</title>\n</g>\n<!-- 7&#45;&#45;8 -->\n<g id=\"edge8\" class=\"edge\">\n<title>7&#45;&#45;8</title>\n<path fill=\"none\" stroke=\"lightgreen\" d=\"M171,-82.29C171,-71.75 171,-50.99 171,-36.12\"/>\n</g>\n<!-- 9 -->\n<g id=\"node10\" class=\"node\">\n<title>9</title>\n</g>\n<!-- 7&#45;&#45;9 -->\n<g id=\"edge9\" class=\"edge\">\n<title>7&#45;&#45;9</title>\n<path fill=\"none\" stroke=\"lightgreen\" d=\"M174.63,-83.74C177.12,-80.28 180.57,-75.71 184,-72 195.87,-59.16 210.48,-46.01 222.19,-36.03\"/>\n</g>\n</g>\n</svg>\n</div></td></tr></table>"
     },
     "metadata": {},
     "output_type": "display_data"
    },
    {
     "data": {
      "text/plain": "<IPython.core.display.HTML object>",
      "text/html": "<table style=\"border-style: hidden; border-collapse: collapse;\" width=\"100%\"><tr><td style=\"border-top:hidden;border-bottom:hidden;\"><div align=\"center\" style=\"\"><?xml version=\"1.0\" encoding=\"UTF-8\" standalone=\"no\"?>\n<!DOCTYPE svg PUBLIC \"-//W3C//DTD SVG 1.1//EN\"\n \"http://www.w3.org/Graphics/SVG/1.1/DTD/svg11.dtd\">\n<!-- Generated by graphviz version 2.44.1 (20200629.0846)\n -->\n<!-- Pages: 1 -->\n<svg width=\"288pt\" height=\"276pt\"\n viewBox=\"0.00 0.00 288.00 275.64\" xmlns=\"http://www.w3.org/2000/svg\" xmlns:xlink=\"http://www.w3.org/1999/xlink\">\n<g id=\"graph0\" class=\"graph\" transform=\"scale(0.95 0.95) rotate(0) translate(4 286)\">\n<polygon fill=\"white\" stroke=\"transparent\" points=\"-4,4 -4,-286 299,-286 299,4 -4,4\"/>\n<!-- 0 -->\n<g id=\"node1\" class=\"node\">\n<title>0</title>\n<text text-anchor=\"middle\" x=\"129\" y=\"-270.8\" font-family=\"Times,serif\" font-size=\"14.00\">a</text>\n</g>\n<!-- 1 -->\n<g id=\"node2\" class=\"node\">\n<title>1</title>\n<text text-anchor=\"middle\" x=\"106\" y=\"-219.8\" font-family=\"Times,serif\" font-size=\"14.00\">s</text>\n</g>\n<!-- 0&#45;&#45;1 -->\n<g id=\"edge1\" class=\"edge\">\n<title>0&#45;&#45;1</title>\n<path fill=\"none\" stroke=\"black\" d=\"M125.8,-266.69C121.36,-257.22 113.37,-240.21 109.02,-230.94\"/>\n</g>\n<!-- 8 -->\n<g id=\"node9\" class=\"node\">\n<title>8</title>\n<text text-anchor=\"middle\" x=\"153\" y=\"-219.8\" font-family=\"Times,serif\" font-size=\"14.00\">s</text>\n</g>\n<!-- 0&#45;&#45;8 -->\n<g id=\"edge8\" class=\"edge\">\n<title>0&#45;&#45;8</title>\n<path fill=\"none\" stroke=\"black\" d=\"M132.34,-266.69C137.03,-257.11 145.49,-239.83 149.99,-230.64\"/>\n</g>\n<!-- 2 -->\n<g id=\"node3\" class=\"node\">\n<title>2</title>\n</g>\n<!-- 1&#45;&#45;2 -->\n<g id=\"edge2\" class=\"edge\">\n<title>1&#45;&#45;2</title>\n<path fill=\"none\" stroke=\"lightgreen\" d=\"M102.92,-218.6C96.87,-210.94 83.14,-193.56 72.63,-180.25\"/>\n</g>\n<!-- 3 -->\n<g id=\"node4\" class=\"node\">\n<title>3</title>\n<text text-anchor=\"middle\" x=\"106\" y=\"-158.3\" font-family=\"Times,serif\" font-size=\"14.00\">l</text>\n</g>\n<!-- 1&#45;&#45;3 -->\n<g id=\"edge3\" class=\"edge\">\n<title>1&#45;&#45;3</title>\n<path fill=\"none\" stroke=\"black\" d=\"M106,-215.67C106,-204.2 106,-181.17 106,-169.75\"/>\n</g>\n<!-- 4 -->\n<g id=\"node5\" class=\"node\">\n<title>4</title>\n<text text-anchor=\"middle\" x=\"63\" y=\"-86.3\" font-family=\"Times,serif\" font-size=\"14.00\">o</text>\n</g>\n<!-- 3&#45;&#45;4 -->\n<g id=\"edge4\" class=\"edge\">\n<title>3&#45;&#45;4</title>\n<path fill=\"none\" stroke=\"black\" d=\"M103.93,-157.62C97.08,-146.48 75.16,-110.79 66.53,-96.75\"/>\n</g>\n<!-- 7 -->\n<g id=\"node8\" class=\"node\">\n<title>7</title>\n</g>\n<!-- 3&#45;&#45;7 -->\n<g id=\"edge7\" class=\"edge\">\n<title>3&#45;&#45;7</title>\n<path fill=\"none\" stroke=\"lightgreen\" d=\"M106.58,-154.29C107.48,-143.75 109.26,-122.99 110.53,-108.12\"/>\n</g>\n<!-- 5 -->\n<g id=\"node6\" class=\"node\">\n<title>5</title>\n</g>\n<!-- 4&#45;&#45;5 -->\n<g id=\"edge5\" class=\"edge\">\n<title>4&#45;&#45;5</title>\n<path fill=\"none\" stroke=\"lightgreen\" d=\"M59.55,-82.29C54.13,-71.75 43.45,-50.99 35.8,-36.12\"/>\n</g>\n<!-- 6 -->\n<g id=\"node7\" class=\"node\">\n<title>6</title>\n<text text-anchor=\"middle\" x=\"99\" y=\"-14.3\" font-family=\"Times,serif\" font-size=\"14.00\">*</text>\n</g>\n<!-- 4&#45;&#45;6 -->\n<g id=\"edge6\" class=\"edge\">\n<title>4&#45;&#45;6</title>\n<path fill=\"none\" stroke=\"lightgreen\" d=\"M66.45,-82.29C71.87,-71.75 82.55,-50.99 90.2,-36.12\"/>\n</g>\n<!-- 9 -->\n<g id=\"node10\" class=\"node\">\n<title>9</title>\n</g>\n<!-- 8&#45;&#45;9 -->\n<g id=\"edge9\" class=\"edge\">\n<title>8&#45;&#45;9</title>\n<path fill=\"none\" stroke=\"lightgreen\" d=\"M153,-215.67C153,-207.07 153,-191.96 153,-180.13\"/>\n</g>\n<!-- 10 -->\n<g id=\"node11\" class=\"node\">\n<title>10</title>\n<text text-anchor=\"middle\" x=\"202\" y=\"-158.3\" font-family=\"Times,serif\" font-size=\"14.00\">o</text>\n</g>\n<!-- 8&#45;&#45;10 -->\n<g id=\"edge10\" class=\"edge\">\n<title>8&#45;&#45;10</title>\n<path fill=\"none\" stroke=\"black\" d=\"M156.05,-219.02C162.33,-211.83 177.11,-194.76 189,-180 192.26,-175.95 195.84,-171.24 198.42,-167.81\"/>\n</g>\n<!-- 11 -->\n<g id=\"node12\" class=\"node\">\n<title>11</title>\n</g>\n<!-- 10&#45;&#45;11 -->\n<g id=\"edge11\" class=\"edge\">\n<title>10&#45;&#45;11</title>\n<path fill=\"none\" stroke=\"lightgreen\" d=\"M201.42,-154.29C200.52,-143.75 198.74,-122.99 197.47,-108.12\"/>\n</g>\n<!-- 12 -->\n<g id=\"node13\" class=\"node\">\n<title>12</title>\n</g>\n<!-- 10&#45;&#45;12 -->\n<g id=\"edge12\" class=\"edge\">\n<title>10&#45;&#45;12</title>\n<path fill=\"none\" stroke=\"lightgreen\" d=\"M205.55,-157.24C214.12,-148.15 236.37,-124.55 251.85,-108.12\"/>\n</g>\n</g>\n</svg>\n</div></td><td style=\"border-top:hidden;border-bottom:hidden;\"><div align=\"center\" style=\"\"><?xml version=\"1.0\" encoding=\"UTF-8\" standalone=\"no\"?>\n<!DOCTYPE svg PUBLIC \"-//W3C//DTD SVG 1.1//EN\"\n \"http://www.w3.org/Graphics/SVG/1.1/DTD/svg11.dtd\">\n<!-- Generated by graphviz version 2.44.1 (20200629.0846)\n -->\n<!-- Pages: 1 -->\n<svg width=\"288pt\" height=\"216pt\"\n viewBox=\"0.00 0.00 288.00 215.75\" xmlns=\"http://www.w3.org/2000/svg\" xmlns:xlink=\"http://www.w3.org/1999/xlink\">\n<g id=\"graph0\" class=\"graph\" transform=\"scale(0.99 0.99) rotate(0) translate(4 214)\">\n<polygon fill=\"white\" stroke=\"transparent\" points=\"-4,4 -4,-214 287,-214 287,4 -4,4\"/>\n<!-- 0 -->\n<g id=\"node1\" class=\"node\">\n<title>0</title>\n<text text-anchor=\"middle\" x=\"116\" y=\"-198.8\" font-family=\"Times,serif\" font-size=\"14.00\">a</text>\n</g>\n<!-- 1 -->\n<g id=\"node2\" class=\"node\">\n<title>1</title>\n<text text-anchor=\"middle\" x=\"92\" y=\"-147.8\" font-family=\"Times,serif\" font-size=\"14.00\">s</text>\n</g>\n<!-- 0&#45;&#45;1 -->\n<g id=\"edge1\" class=\"edge\">\n<title>0&#45;&#45;1</title>\n<path fill=\"none\" stroke=\"black\" d=\"M112.66,-194.69C107.97,-185.11 99.51,-167.83 95.01,-158.64\"/>\n</g>\n<!-- 6 -->\n<g id=\"node7\" class=\"node\">\n<title>6</title>\n<text text-anchor=\"middle\" x=\"141\" y=\"-147.8\" font-family=\"Times,serif\" font-size=\"14.00\">s</text>\n</g>\n<!-- 0&#45;&#45;6 -->\n<g id=\"edge6\" class=\"edge\">\n<title>0&#45;&#45;6</title>\n<path fill=\"none\" stroke=\"black\" d=\"M119.48,-194.69C124.36,-185.11 133.18,-167.83 137.87,-158.64\"/>\n</g>\n<!-- 2 -->\n<g id=\"node3\" class=\"node\">\n<title>2</title>\n</g>\n<!-- 1&#45;&#45;2 -->\n<g id=\"edge2\" class=\"edge\">\n<title>1&#45;&#45;2</title>\n<path fill=\"none\" stroke=\"lightgreen\" d=\"M88.78,-146.6C82.48,-138.94 68.16,-121.56 57.21,-108.25\"/>\n</g>\n<!-- 3 -->\n<g id=\"node4\" class=\"node\">\n<title>3</title>\n<text text-anchor=\"middle\" x=\"92\" y=\"-86.3\" font-family=\"Times,serif\" font-size=\"14.00\">o</text>\n</g>\n<!-- 1&#45;&#45;3 -->\n<g id=\"edge3\" class=\"edge\">\n<title>1&#45;&#45;3</title>\n<path fill=\"none\" stroke=\"black\" d=\"M92,-143.67C92,-132.2 92,-109.17 92,-97.75\"/>\n</g>\n<!-- 4 -->\n<g id=\"node5\" class=\"node\">\n<title>4</title>\n</g>\n<!-- 3&#45;&#45;4 -->\n<g id=\"edge4\" class=\"edge\">\n<title>3&#45;&#45;4</title>\n<path fill=\"none\" stroke=\"lightgreen\" d=\"M88.29,-83.81C85.77,-80.38 82.31,-75.82 79,-72 68.19,-59.53 55.19,-46.28 44.89,-36.15\"/>\n</g>\n<!-- 5 -->\n<g id=\"node6\" class=\"node\">\n<title>5</title>\n</g>\n<!-- 3&#45;&#45;5 -->\n<g id=\"edge5\" class=\"edge\">\n<title>3&#45;&#45;5</title>\n<path fill=\"none\" stroke=\"lightgreen\" d=\"M92.67,-82.29C93.73,-71.75 95.8,-50.99 97.29,-36.12\"/>\n</g>\n<!-- 7 -->\n<g id=\"node8\" class=\"node\">\n<title>7</title>\n</g>\n<!-- 6&#45;&#45;7 -->\n<g id=\"edge7\" class=\"edge\">\n<title>6&#45;&#45;7</title>\n<path fill=\"none\" stroke=\"lightgreen\" d=\"M141,-143.67C141,-135.07 141,-119.96 141,-108.13\"/>\n</g>\n<!-- 8 -->\n<g id=\"node9\" class=\"node\">\n<title>8</title>\n<text text-anchor=\"middle\" x=\"190\" y=\"-86.3\" font-family=\"Times,serif\" font-size=\"14.00\">o</text>\n</g>\n<!-- 6&#45;&#45;8 -->\n<g id=\"edge8\" class=\"edge\">\n<title>6&#45;&#45;8</title>\n<path fill=\"none\" stroke=\"black\" d=\"M144.05,-147.02C150.33,-139.83 165.11,-122.76 177,-108 180.26,-103.95 183.84,-99.24 186.42,-95.81\"/>\n</g>\n<!-- 9 -->\n<g id=\"node10\" class=\"node\">\n<title>9</title>\n</g>\n<!-- 8&#45;&#45;9 -->\n<g id=\"edge9\" class=\"edge\">\n<title>8&#45;&#45;9</title>\n<path fill=\"none\" stroke=\"lightgreen\" d=\"M189.42,-82.29C188.52,-71.75 186.74,-50.99 185.47,-36.12\"/>\n</g>\n<!-- 10 -->\n<g id=\"node11\" class=\"node\">\n<title>10</title>\n</g>\n<!-- 8&#45;&#45;10 -->\n<g id=\"edge10\" class=\"edge\">\n<title>8&#45;&#45;10</title>\n<path fill=\"none\" stroke=\"lightgreen\" d=\"M193.55,-85.24C202.12,-76.15 224.37,-52.55 239.85,-36.12\"/>\n</g>\n</g>\n</svg>\n</div></td></tr></table>"
     },
     "metadata": {},
     "output_type": "display_data"
    },
    {
     "data": {
      "text/plain": "<IPython.core.display.HTML object>",
      "text/html": "<table style=\"border-style: hidden; border-collapse: collapse;\" width=\"100%\"><tr><td style=\"border-top:hidden;border-bottom:hidden;\"><div align=\"center\" style=\"\"><?xml version=\"1.0\" encoding=\"UTF-8\" standalone=\"no\"?>\n<!DOCTYPE svg PUBLIC \"-//W3C//DTD SVG 1.1//EN\"\n \"http://www.w3.org/Graphics/SVG/1.1/DTD/svg11.dtd\">\n<!-- Generated by graphviz version 2.44.1 (20200629.0846)\n -->\n<!-- Pages: 1 -->\n<svg width=\"253pt\" height=\"288pt\"\n viewBox=\"0.00 0.00 253.24 288.00\" xmlns=\"http://www.w3.org/2000/svg\" xmlns:xlink=\"http://www.w3.org/1999/xlink\">\n<g id=\"graph0\" class=\"graph\" transform=\"scale(0.99 0.99) rotate(0) translate(4 286)\">\n<polygon fill=\"white\" stroke=\"transparent\" points=\"-4,4 -4,-286 251,-286 251,4 -4,4\"/>\n<!-- 0 -->\n<g id=\"node1\" class=\"node\">\n<title>0</title>\n<text text-anchor=\"middle\" x=\"111\" y=\"-270.8\" font-family=\"Times,serif\" font-size=\"14.00\">a</text>\n</g>\n<!-- 1 -->\n<g id=\"node2\" class=\"node\">\n<title>1</title>\n<text text-anchor=\"middle\" x=\"87\" y=\"-219.8\" font-family=\"Times,serif\" font-size=\"14.00\">s</text>\n</g>\n<!-- 0&#45;&#45;1 -->\n<g id=\"edge1\" class=\"edge\">\n<title>0&#45;&#45;1</title>\n<path fill=\"none\" stroke=\"black\" d=\"M107.66,-266.69C102.97,-257.11 94.51,-239.83 90.01,-230.64\"/>\n</g>\n<!-- 6 -->\n<g id=\"node7\" class=\"node\">\n<title>6</title>\n<text text-anchor=\"middle\" x=\"136\" y=\"-219.8\" font-family=\"Times,serif\" font-size=\"14.00\">s</text>\n</g>\n<!-- 0&#45;&#45;6 -->\n<g id=\"edge6\" class=\"edge\">\n<title>0&#45;&#45;6</title>\n<path fill=\"none\" stroke=\"black\" d=\"M114.48,-266.69C119.36,-257.11 128.18,-239.83 132.87,-230.64\"/>\n</g>\n<!-- 2 -->\n<g id=\"node3\" class=\"node\">\n<title>2</title>\n</g>\n<!-- 1&#45;&#45;2 -->\n<g id=\"edge2\" class=\"edge\">\n<title>1&#45;&#45;2</title>\n<path fill=\"none\" stroke=\"lightgreen\" d=\"M83.78,-218.6C77.48,-210.94 63.16,-193.56 52.21,-180.25\"/>\n</g>\n<!-- 3 -->\n<g id=\"node4\" class=\"node\">\n<title>3</title>\n<text text-anchor=\"middle\" x=\"87\" y=\"-158.3\" font-family=\"Times,serif\" font-size=\"14.00\">o</text>\n</g>\n<!-- 1&#45;&#45;3 -->\n<g id=\"edge3\" class=\"edge\">\n<title>1&#45;&#45;3</title>\n<path fill=\"none\" stroke=\"black\" d=\"M87,-215.67C87,-204.2 87,-181.17 87,-169.75\"/>\n</g>\n<!-- 4 -->\n<g id=\"node5\" class=\"node\">\n<title>4</title>\n</g>\n<!-- 3&#45;&#45;4 -->\n<g id=\"edge4\" class=\"edge\">\n<title>3&#45;&#45;4</title>\n<path fill=\"none\" stroke=\"lightgreen\" d=\"M83.45,-156.16C80.89,-152.72 77.31,-148.01 74,-144 63.99,-131.85 52.24,-118.6 42.99,-108.39\"/>\n</g>\n<!-- 5 -->\n<g id=\"node6\" class=\"node\">\n<title>5</title>\n</g>\n<!-- 3&#45;&#45;5 -->\n<g id=\"edge5\" class=\"edge\">\n<title>3&#45;&#45;5</title>\n<path fill=\"none\" stroke=\"lightgreen\" d=\"M88.15,-154.29C89.96,-143.75 93.52,-122.99 96.07,-108.12\"/>\n</g>\n<!-- 7 -->\n<g id=\"node8\" class=\"node\">\n<title>7</title>\n</g>\n<!-- 6&#45;&#45;7 -->\n<g id=\"edge7\" class=\"edge\">\n<title>6&#45;&#45;7</title>\n<path fill=\"none\" stroke=\"lightgreen\" d=\"M136,-215.67C136,-207.07 136,-191.96 136,-180.13\"/>\n</g>\n<!-- 8 -->\n<g id=\"node9\" class=\"node\">\n<title>8</title>\n<text text-anchor=\"middle\" x=\"183\" y=\"-158.3\" font-family=\"Times,serif\" font-size=\"14.00\">l</text>\n</g>\n<!-- 6&#45;&#45;8 -->\n<g id=\"edge8\" class=\"edge\">\n<title>6&#45;&#45;8</title>\n<path fill=\"none\" stroke=\"black\" d=\"M139.14,-219.1C145.6,-212.05 160.7,-195.22 172,-180 175.35,-175.48 178.81,-169.97 180.93,-166.47\"/>\n</g>\n<!-- 9 -->\n<g id=\"node10\" class=\"node\">\n<title>9</title>\n<text text-anchor=\"middle\" x=\"171\" y=\"-86.3\" font-family=\"Times,serif\" font-size=\"14.00\">o</text>\n</g>\n<!-- 8&#45;&#45;9 -->\n<g id=\"edge9\" class=\"edge\">\n<title>8&#45;&#45;9</title>\n<path fill=\"none\" stroke=\"black\" d=\"M181.85,-154.29C179.55,-140.87 174.41,-110.9 172.13,-97.59\"/>\n</g>\n<!-- 12 -->\n<g id=\"node13\" class=\"node\">\n<title>12</title>\n</g>\n<!-- 8&#45;&#45;12 -->\n<g id=\"edge12\" class=\"edge\">\n<title>8&#45;&#45;12</title>\n<path fill=\"none\" stroke=\"lightgreen\" d=\"M185.2,-156.83C190.15,-147.47 202.38,-124.34 210.93,-108.16\"/>\n</g>\n<!-- 10 -->\n<g id=\"node11\" class=\"node\">\n<title>10</title>\n</g>\n<!-- 9&#45;&#45;10 -->\n<g id=\"edge10\" class=\"edge\">\n<title>9&#45;&#45;10</title>\n<path fill=\"none\" stroke=\"lightgreen\" d=\"M167.55,-82.29C162.13,-71.75 151.45,-50.99 143.8,-36.12\"/>\n</g>\n<!-- 11 -->\n<g id=\"node12\" class=\"node\">\n<title>11</title>\n<text text-anchor=\"middle\" x=\"207\" y=\"-14.3\" font-family=\"Times,serif\" font-size=\"14.00\">*</text>\n</g>\n<!-- 9&#45;&#45;11 -->\n<g id=\"edge11\" class=\"edge\">\n<title>9&#45;&#45;11</title>\n<path fill=\"none\" stroke=\"lightgreen\" d=\"M174.45,-82.29C179.87,-71.75 190.55,-50.99 198.2,-36.12\"/>\n</g>\n</g>\n</svg>\n</div></td><td style=\"border-top:hidden;border-bottom:hidden;\"><div align=\"center\" style=\"\"><?xml version=\"1.0\" encoding=\"UTF-8\" standalone=\"no\"?>\n<!DOCTYPE svg PUBLIC \"-//W3C//DTD SVG 1.1//EN\"\n \"http://www.w3.org/Graphics/SVG/1.1/DTD/svg11.dtd\">\n<!-- Generated by graphviz version 2.44.1 (20200629.0846)\n -->\n<!-- Pages: 1 -->\n<svg width=\"288pt\" height=\"216pt\"\n viewBox=\"0.00 0.00 288.00 215.75\" xmlns=\"http://www.w3.org/2000/svg\" xmlns:xlink=\"http://www.w3.org/1999/xlink\">\n<g id=\"graph0\" class=\"graph\" transform=\"scale(0.99 0.99) rotate(0) translate(4 214)\">\n<polygon fill=\"white\" stroke=\"transparent\" points=\"-4,4 -4,-214 287,-214 287,4 -4,4\"/>\n<!-- 0 -->\n<g id=\"node1\" class=\"node\">\n<title>0</title>\n<text text-anchor=\"middle\" x=\"116\" y=\"-198.8\" font-family=\"Times,serif\" font-size=\"14.00\">a</text>\n</g>\n<!-- 1 -->\n<g id=\"node2\" class=\"node\">\n<title>1</title>\n<text text-anchor=\"middle\" x=\"92\" y=\"-147.8\" font-family=\"Times,serif\" font-size=\"14.00\">s</text>\n</g>\n<!-- 0&#45;&#45;1 -->\n<g id=\"edge1\" class=\"edge\">\n<title>0&#45;&#45;1</title>\n<path fill=\"none\" stroke=\"black\" d=\"M112.66,-194.69C107.97,-185.11 99.51,-167.83 95.01,-158.64\"/>\n</g>\n<!-- 6 -->\n<g id=\"node7\" class=\"node\">\n<title>6</title>\n<text text-anchor=\"middle\" x=\"141\" y=\"-147.8\" font-family=\"Times,serif\" font-size=\"14.00\">s</text>\n</g>\n<!-- 0&#45;&#45;6 -->\n<g id=\"edge6\" class=\"edge\">\n<title>0&#45;&#45;6</title>\n<path fill=\"none\" stroke=\"black\" d=\"M119.48,-194.69C124.36,-185.11 133.18,-167.83 137.87,-158.64\"/>\n</g>\n<!-- 2 -->\n<g id=\"node3\" class=\"node\">\n<title>2</title>\n</g>\n<!-- 1&#45;&#45;2 -->\n<g id=\"edge2\" class=\"edge\">\n<title>1&#45;&#45;2</title>\n<path fill=\"none\" stroke=\"lightgreen\" d=\"M88.78,-146.6C82.48,-138.94 68.16,-121.56 57.21,-108.25\"/>\n</g>\n<!-- 3 -->\n<g id=\"node4\" class=\"node\">\n<title>3</title>\n<text text-anchor=\"middle\" x=\"92\" y=\"-86.3\" font-family=\"Times,serif\" font-size=\"14.00\">o</text>\n</g>\n<!-- 1&#45;&#45;3 -->\n<g id=\"edge3\" class=\"edge\">\n<title>1&#45;&#45;3</title>\n<path fill=\"none\" stroke=\"black\" d=\"M92,-143.67C92,-132.2 92,-109.17 92,-97.75\"/>\n</g>\n<!-- 4 -->\n<g id=\"node5\" class=\"node\">\n<title>4</title>\n</g>\n<!-- 3&#45;&#45;4 -->\n<g id=\"edge4\" class=\"edge\">\n<title>3&#45;&#45;4</title>\n<path fill=\"none\" stroke=\"lightgreen\" d=\"M88.29,-83.81C85.77,-80.38 82.31,-75.82 79,-72 68.19,-59.53 55.19,-46.28 44.89,-36.15\"/>\n</g>\n<!-- 5 -->\n<g id=\"node6\" class=\"node\">\n<title>5</title>\n</g>\n<!-- 3&#45;&#45;5 -->\n<g id=\"edge5\" class=\"edge\">\n<title>3&#45;&#45;5</title>\n<path fill=\"none\" stroke=\"lightgreen\" d=\"M92.67,-82.29C93.73,-71.75 95.8,-50.99 97.29,-36.12\"/>\n</g>\n<!-- 7 -->\n<g id=\"node8\" class=\"node\">\n<title>7</title>\n</g>\n<!-- 6&#45;&#45;7 -->\n<g id=\"edge7\" class=\"edge\">\n<title>6&#45;&#45;7</title>\n<path fill=\"none\" stroke=\"lightgreen\" d=\"M141,-143.67C141,-135.07 141,-119.96 141,-108.13\"/>\n</g>\n<!-- 8 -->\n<g id=\"node9\" class=\"node\">\n<title>8</title>\n<text text-anchor=\"middle\" x=\"190\" y=\"-86.3\" font-family=\"Times,serif\" font-size=\"14.00\">o</text>\n</g>\n<!-- 6&#45;&#45;8 -->\n<g id=\"edge8\" class=\"edge\">\n<title>6&#45;&#45;8</title>\n<path fill=\"none\" stroke=\"black\" d=\"M144.05,-147.02C150.33,-139.83 165.11,-122.76 177,-108 180.26,-103.95 183.84,-99.24 186.42,-95.81\"/>\n</g>\n<!-- 9 -->\n<g id=\"node10\" class=\"node\">\n<title>9</title>\n</g>\n<!-- 8&#45;&#45;9 -->\n<g id=\"edge9\" class=\"edge\">\n<title>8&#45;&#45;9</title>\n<path fill=\"none\" stroke=\"lightgreen\" d=\"M189.42,-82.29C188.52,-71.75 186.74,-50.99 185.47,-36.12\"/>\n</g>\n<!-- 10 -->\n<g id=\"node11\" class=\"node\">\n<title>10</title>\n</g>\n<!-- 8&#45;&#45;10 -->\n<g id=\"edge10\" class=\"edge\">\n<title>8&#45;&#45;10</title>\n<path fill=\"none\" stroke=\"lightgreen\" d=\"M193.55,-85.24C202.12,-76.15 224.37,-52.55 239.85,-36.12\"/>\n</g>\n</g>\n</svg>\n</div></td></tr></table>"
     },
     "metadata": {},
     "output_type": "display_data"
    },
    {
     "data": {
      "text/plain": "<IPython.core.display.HTML object>",
      "text/html": "<table style=\"border-style: hidden; border-collapse: collapse;\" width=\"100%\"><tr><td style=\"border-top:hidden;border-bottom:hidden;\"><div align=\"center\" style=\"\"><?xml version=\"1.0\" encoding=\"UTF-8\" standalone=\"no\"?>\n<!DOCTYPE svg PUBLIC \"-//W3C//DTD SVG 1.1//EN\"\n \"http://www.w3.org/Graphics/SVG/1.1/DTD/svg11.dtd\">\n<!-- Generated by graphviz version 2.44.1 (20200629.0846)\n -->\n<!-- Pages: 1 -->\n<svg width=\"183pt\" height=\"288pt\"\n viewBox=\"0.00 0.00 182.98 288.00\" xmlns=\"http://www.w3.org/2000/svg\" xmlns:xlink=\"http://www.w3.org/1999/xlink\">\n<g id=\"graph0\" class=\"graph\" transform=\"scale(0.8 0.8) rotate(0) translate(4 358)\">\n<polygon fill=\"white\" stroke=\"transparent\" points=\"-4,4 -4,-358 226,-358 226,4 -4,4\"/>\n<!-- 0 -->\n<g id=\"node1\" class=\"node\">\n<title>0</title>\n<text text-anchor=\"middle\" x=\"99\" y=\"-342.8\" font-family=\"Times,serif\" font-size=\"14.00\">a</text>\n</g>\n<!-- 1 -->\n<g id=\"node2\" class=\"node\">\n<title>1</title>\n<text text-anchor=\"middle\" x=\"75\" y=\"-291.8\" font-family=\"Times,serif\" font-size=\"14.00\">s</text>\n</g>\n<!-- 0&#45;&#45;1 -->\n<g id=\"edge1\" class=\"edge\">\n<title>0&#45;&#45;1</title>\n<path fill=\"none\" stroke=\"black\" d=\"M95.66,-338.69C90.97,-329.11 82.51,-311.83 78.01,-302.64\"/>\n</g>\n<!-- 10 -->\n<g id=\"node11\" class=\"node\">\n<title>10</title>\n<text text-anchor=\"middle\" x=\"123\" y=\"-291.8\" font-family=\"Times,serif\" font-size=\"14.00\">o</text>\n</g>\n<!-- 0&#45;&#45;10 -->\n<g id=\"edge10\" class=\"edge\">\n<title>0&#45;&#45;10</title>\n<path fill=\"none\" stroke=\"black\" d=\"M102.34,-338.69C106.92,-329.33 115.12,-312.59 119.69,-303.26\"/>\n</g>\n<!-- 2 -->\n<g id=\"node3\" class=\"node\">\n<title>2</title>\n</g>\n<!-- 1&#45;&#45;2 -->\n<g id=\"edge2\" class=\"edge\">\n<title>1&#45;&#45;2</title>\n<path fill=\"none\" stroke=\"lightgreen\" d=\"M71.85,-290.6C65.68,-282.94 51.65,-265.56 40.92,-252.25\"/>\n</g>\n<!-- 3 -->\n<g id=\"node4\" class=\"node\">\n<title>3</title>\n<text text-anchor=\"middle\" x=\"75\" y=\"-230.3\" font-family=\"Times,serif\" font-size=\"14.00\">s</text>\n</g>\n<!-- 1&#45;&#45;3 -->\n<g id=\"edge3\" class=\"edge\">\n<title>1&#45;&#45;3</title>\n<path fill=\"none\" stroke=\"black\" d=\"M75,-287.67C75,-276.2 75,-253.17 75,-241.75\"/>\n</g>\n<!-- 4 -->\n<g id=\"node5\" class=\"node\">\n<title>4</title>\n</g>\n<!-- 3&#45;&#45;4 -->\n<g id=\"edge4\" class=\"edge\">\n<title>3&#45;&#45;4</title>\n<path fill=\"none\" stroke=\"lightgreen\" d=\"M72.79,-226.29C69.33,-215.75 62.51,-194.99 57.62,-180.12\"/>\n</g>\n<!-- 5 -->\n<g id=\"node6\" class=\"node\">\n<title>5</title>\n<text text-anchor=\"middle\" x=\"99\" y=\"-158.3\" font-family=\"Times,serif\" font-size=\"14.00\">l</text>\n</g>\n<!-- 3&#45;&#45;5 -->\n<g id=\"edge5\" class=\"edge\">\n<title>3&#45;&#45;5</title>\n<path fill=\"none\" stroke=\"black\" d=\"M77.3,-226.29C81.95,-212.74 92.39,-182.29 96.88,-169.19\"/>\n</g>\n<!-- 6 -->\n<g id=\"node7\" class=\"node\">\n<title>6</title>\n<text text-anchor=\"middle\" x=\"74\" y=\"-86.3\" font-family=\"Times,serif\" font-size=\"14.00\">o</text>\n</g>\n<!-- 5&#45;&#45;6 -->\n<g id=\"edge6\" class=\"edge\">\n<title>5&#45;&#45;6</title>\n<path fill=\"none\" stroke=\"black\" d=\"M96.87,-155.03C92.24,-142.07 81.29,-111.42 76.42,-97.77\"/>\n</g>\n<!-- 9 -->\n<g id=\"node10\" class=\"node\">\n<title>9</title>\n</g>\n<!-- 5&#45;&#45;9 -->\n<g id=\"edge9\" class=\"edge\">\n<title>5&#45;&#45;9</title>\n<path fill=\"none\" stroke=\"lightgreen\" d=\"M101.05,-155.03C104.56,-144.78 111.87,-123.47 117.09,-108.25\"/>\n</g>\n<!-- 7 -->\n<g id=\"node8\" class=\"node\">\n<title>7</title>\n</g>\n<!-- 6&#45;&#45;7 -->\n<g id=\"edge7\" class=\"edge\">\n<title>6&#45;&#45;7</title>\n<path fill=\"none\" stroke=\"lightgreen\" d=\"M70.55,-82.29C65.13,-71.75 54.45,-50.99 46.8,-36.12\"/>\n</g>\n<!-- 8 -->\n<g id=\"node9\" class=\"node\">\n<title>8</title>\n<text text-anchor=\"middle\" x=\"110\" y=\"-14.3\" font-family=\"Times,serif\" font-size=\"14.00\">*</text>\n</g>\n<!-- 6&#45;&#45;8 -->\n<g id=\"edge8\" class=\"edge\">\n<title>6&#45;&#45;8</title>\n<path fill=\"none\" stroke=\"lightgreen\" d=\"M77.45,-82.29C82.87,-71.75 93.55,-50.99 101.2,-36.12\"/>\n</g>\n<!-- 11 -->\n<g id=\"node12\" class=\"node\">\n<title>11</title>\n</g>\n<!-- 10&#45;&#45;11 -->\n<g id=\"edge11\" class=\"edge\">\n<title>10&#45;&#45;11</title>\n<path fill=\"none\" stroke=\"lightgreen\" d=\"M123,-287.67C123,-279.07 123,-263.96 123,-252.13\"/>\n</g>\n<!-- 12 -->\n<g id=\"node13\" class=\"node\">\n<title>12</title>\n</g>\n<!-- 10&#45;&#45;12 -->\n<g id=\"edge12\" class=\"edge\">\n<title>10&#45;&#45;12</title>\n<path fill=\"none\" stroke=\"lightgreen\" d=\"M126.87,-291.3C135.63,-284.06 157.52,-265.97 174.14,-252.24\"/>\n</g>\n</g>\n</svg>\n</div></td><td style=\"border-top:hidden;border-bottom:hidden;\"><div align=\"center\" style=\"\"><?xml version=\"1.0\" encoding=\"UTF-8\" standalone=\"no\"?>\n<!DOCTYPE svg PUBLIC \"-//W3C//DTD SVG 1.1//EN\"\n \"http://www.w3.org/Graphics/SVG/1.1/DTD/svg11.dtd\">\n<!-- Generated by graphviz version 2.44.1 (20200629.0846)\n -->\n<!-- Pages: 1 -->\n<svg width=\"228pt\" height=\"288pt\"\n viewBox=\"0.00 0.00 228.41 288.00\" xmlns=\"http://www.w3.org/2000/svg\" xmlns:xlink=\"http://www.w3.org/1999/xlink\">\n<g id=\"graph0\" class=\"graph\" transform=\"scale(0.99 0.99) rotate(0) translate(4 286)\">\n<polygon fill=\"white\" stroke=\"transparent\" points=\"-4,4 -4,-286 226,-286 226,4 -4,4\"/>\n<!-- 0 -->\n<g id=\"node1\" class=\"node\">\n<title>0</title>\n<text text-anchor=\"middle\" x=\"99\" y=\"-270.8\" font-family=\"Times,serif\" font-size=\"14.00\">a</text>\n</g>\n<!-- 1 -->\n<g id=\"node2\" class=\"node\">\n<title>1</title>\n<text text-anchor=\"middle\" x=\"75\" y=\"-219.8\" font-family=\"Times,serif\" font-size=\"14.00\">s</text>\n</g>\n<!-- 0&#45;&#45;1 -->\n<g id=\"edge1\" class=\"edge\">\n<title>0&#45;&#45;1</title>\n<path fill=\"none\" stroke=\"black\" d=\"M95.66,-266.69C90.97,-257.11 82.51,-239.83 78.01,-230.64\"/>\n</g>\n<!-- 8 -->\n<g id=\"node9\" class=\"node\">\n<title>8</title>\n<text text-anchor=\"middle\" x=\"123\" y=\"-219.8\" font-family=\"Times,serif\" font-size=\"14.00\">o</text>\n</g>\n<!-- 0&#45;&#45;8 -->\n<g id=\"edge8\" class=\"edge\">\n<title>0&#45;&#45;8</title>\n<path fill=\"none\" stroke=\"black\" d=\"M102.34,-266.69C106.92,-257.33 115.12,-240.59 119.69,-231.26\"/>\n</g>\n<!-- 2 -->\n<g id=\"node3\" class=\"node\">\n<title>2</title>\n</g>\n<!-- 1&#45;&#45;2 -->\n<g id=\"edge2\" class=\"edge\">\n<title>1&#45;&#45;2</title>\n<path fill=\"none\" stroke=\"lightgreen\" d=\"M71.85,-218.6C65.68,-210.94 51.65,-193.56 40.92,-180.25\"/>\n</g>\n<!-- 3 -->\n<g id=\"node4\" class=\"node\">\n<title>3</title>\n<text text-anchor=\"middle\" x=\"75\" y=\"-158.3\" font-family=\"Times,serif\" font-size=\"14.00\">s</text>\n</g>\n<!-- 1&#45;&#45;3 -->\n<g id=\"edge3\" class=\"edge\">\n<title>1&#45;&#45;3</title>\n<path fill=\"none\" stroke=\"black\" d=\"M75,-215.67C75,-204.2 75,-181.17 75,-169.75\"/>\n</g>\n<!-- 4 -->\n<g id=\"node5\" class=\"node\">\n<title>4</title>\n</g>\n<!-- 3&#45;&#45;4 -->\n<g id=\"edge4\" class=\"edge\">\n<title>3&#45;&#45;4</title>\n<path fill=\"none\" stroke=\"lightgreen\" d=\"M72.7,-154.29C69.09,-143.75 61.97,-122.99 56.87,-108.12\"/>\n</g>\n<!-- 5 -->\n<g id=\"node6\" class=\"node\">\n<title>5</title>\n<text text-anchor=\"middle\" x=\"100\" y=\"-86.3\" font-family=\"Times,serif\" font-size=\"14.00\">o</text>\n</g>\n<!-- 3&#45;&#45;5 -->\n<g id=\"edge5\" class=\"edge\">\n<title>3&#45;&#45;5</title>\n<path fill=\"none\" stroke=\"black\" d=\"M77.4,-154.29C82.19,-140.87 92.89,-110.9 97.65,-97.59\"/>\n</g>\n<!-- 6 -->\n<g id=\"node7\" class=\"node\">\n<title>6</title>\n</g>\n<!-- 5&#45;&#45;6 -->\n<g id=\"edge6\" class=\"edge\">\n<title>5&#45;&#45;6</title>\n<path fill=\"none\" stroke=\"lightgreen\" d=\"M96.55,-82.29C91.13,-71.75 80.45,-50.99 72.8,-36.12\"/>\n</g>\n<!-- 7 -->\n<g id=\"node8\" class=\"node\">\n<title>7</title>\n</g>\n<!-- 5&#45;&#45;7 -->\n<g id=\"edge7\" class=\"edge\">\n<title>5&#45;&#45;7</title>\n<path fill=\"none\" stroke=\"lightgreen\" d=\"M103.45,-82.29C108.87,-71.75 119.55,-50.99 127.2,-36.12\"/>\n</g>\n<!-- 9 -->\n<g id=\"node10\" class=\"node\">\n<title>9</title>\n</g>\n<!-- 8&#45;&#45;9 -->\n<g id=\"edge9\" class=\"edge\">\n<title>8&#45;&#45;9</title>\n<path fill=\"none\" stroke=\"lightgreen\" d=\"M123,-215.67C123,-207.07 123,-191.96 123,-180.13\"/>\n</g>\n<!-- 10 -->\n<g id=\"node11\" class=\"node\">\n<title>10</title>\n</g>\n<!-- 8&#45;&#45;10 -->\n<g id=\"edge10\" class=\"edge\">\n<title>8&#45;&#45;10</title>\n<path fill=\"none\" stroke=\"lightgreen\" d=\"M126.87,-219.3C135.63,-212.06 157.52,-193.97 174.14,-180.24\"/>\n</g>\n</g>\n</svg>\n</div></td></tr></table>"
     },
     "metadata": {},
     "output_type": "display_data"
    },
    {
     "data": {
      "text/plain": "<IPython.core.display.HTML object>",
      "text/html": "<table style=\"border-style: hidden; border-collapse: collapse;\" width=\"100%\"><tr><td style=\"border-top:hidden;border-bottom:hidden;\"><div align=\"center\" style=\"\"><?xml version=\"1.0\" encoding=\"UTF-8\" standalone=\"no\"?>\n<!DOCTYPE svg PUBLIC \"-//W3C//DTD SVG 1.1//EN\"\n \"http://www.w3.org/Graphics/SVG/1.1/DTD/svg11.dtd\">\n<!-- Generated by graphviz version 2.44.1 (20200629.0846)\n -->\n<!-- Pages: 1 -->\n<svg width=\"220pt\" height=\"288pt\"\n viewBox=\"0.00 0.00 220.38 288.00\" xmlns=\"http://www.w3.org/2000/svg\" xmlns:xlink=\"http://www.w3.org/1999/xlink\">\n<g id=\"graph0\" class=\"graph\" transform=\"scale(0.8 0.8) rotate(0) translate(4 358)\">\n<polygon fill=\"white\" stroke=\"transparent\" points=\"-4,4 -4,-358 273,-358 273,4 -4,4\"/>\n<!-- 0 -->\n<g id=\"node1\" class=\"node\">\n<title>0</title>\n<text text-anchor=\"middle\" x=\"159\" y=\"-342.8\" font-family=\"Times,serif\" font-size=\"14.00\">l</text>\n</g>\n<!-- 1 -->\n<g id=\"node2\" class=\"node\">\n<title>1</title>\n<text text-anchor=\"middle\" x=\"135\" y=\"-281.3\" font-family=\"Times,serif\" font-size=\"14.00\">a</text>\n</g>\n<!-- 0&#45;&#45;1 -->\n<g id=\"edge1\" class=\"edge\">\n<title>0&#45;&#45;1</title>\n<path fill=\"none\" stroke=\"black\" d=\"M156.95,-340.43C152.65,-329.75 142.64,-304.94 137.77,-292.86\"/>\n</g>\n<!-- 12 -->\n<g id=\"node13\" class=\"node\">\n<title>12</title>\n</g>\n<!-- 0&#45;&#45;12 -->\n<g id=\"edge12\" class=\"edge\">\n<title>0&#45;&#45;12</title>\n<path fill=\"none\" stroke=\"lightgreen\" d=\"M161.13,-340.43C164.56,-332.28 171.44,-315.9 176.76,-303.23\"/>\n</g>\n<!-- 2 -->\n<g id=\"node3\" class=\"node\">\n<title>2</title>\n<text text-anchor=\"middle\" x=\"99\" y=\"-219.8\" font-family=\"Times,serif\" font-size=\"14.00\">o</text>\n</g>\n<!-- 1&#45;&#45;2 -->\n<g id=\"edge2\" class=\"edge\">\n<title>1&#45;&#45;2</title>\n<path fill=\"none\" stroke=\"black\" d=\"M131.42,-278.08C124.52,-266.67 109.46,-241.78 102.57,-230.4\"/>\n</g>\n<!-- 5 -->\n<g id=\"node6\" class=\"node\">\n<title>5</title>\n<text text-anchor=\"middle\" x=\"171\" y=\"-219.8\" font-family=\"Times,serif\" font-size=\"14.00\">s</text>\n</g>\n<!-- 1&#45;&#45;5 -->\n<g id=\"edge5\" class=\"edge\">\n<title>1&#45;&#45;5</title>\n<path fill=\"none\" stroke=\"black\" d=\"M138.58,-278.08C145.63,-266.44 161.17,-240.75 167.85,-229.71\"/>\n</g>\n<!-- 3 -->\n<g id=\"node4\" class=\"node\">\n<title>3</title>\n</g>\n<!-- 2&#45;&#45;3 -->\n<g id=\"edge3\" class=\"edge\">\n<title>2&#45;&#45;3</title>\n<path fill=\"none\" stroke=\"lightgreen\" d=\"M95.13,-219.3C86.37,-212.06 64.48,-193.97 47.86,-180.24\"/>\n</g>\n<!-- 4 -->\n<g id=\"node5\" class=\"node\">\n<title>4</title>\n</g>\n<!-- 2&#45;&#45;4 -->\n<g id=\"edge4\" class=\"edge\">\n<title>2&#45;&#45;4</title>\n<path fill=\"none\" stroke=\"lightgreen\" d=\"M99,-215.67C99,-207.07 99,-191.96 99,-180.13\"/>\n</g>\n<!-- 6 -->\n<g id=\"node7\" class=\"node\">\n<title>6</title>\n</g>\n<!-- 5&#45;&#45;6 -->\n<g id=\"edge6\" class=\"edge\">\n<title>5&#45;&#45;6</title>\n<path fill=\"none\" stroke=\"lightgreen\" d=\"M171,-215.67C171,-207.07 171,-191.96 171,-180.13\"/>\n</g>\n<!-- 7 -->\n<g id=\"node8\" class=\"node\">\n<title>7</title>\n<text text-anchor=\"middle\" x=\"218\" y=\"-158.3\" font-family=\"Times,serif\" font-size=\"14.00\">l</text>\n</g>\n<!-- 5&#45;&#45;7 -->\n<g id=\"edge7\" class=\"edge\">\n<title>5&#45;&#45;7</title>\n<path fill=\"none\" stroke=\"black\" d=\"M174.14,-219.1C180.6,-212.05 195.7,-195.22 207,-180 210.35,-175.48 213.81,-169.97 215.93,-166.47\"/>\n</g>\n<!-- 8 -->\n<g id=\"node9\" class=\"node\">\n<title>8</title>\n<text text-anchor=\"middle\" x=\"193\" y=\"-86.3\" font-family=\"Times,serif\" font-size=\"14.00\">o</text>\n</g>\n<!-- 7&#45;&#45;8 -->\n<g id=\"edge8\" class=\"edge\">\n<title>7&#45;&#45;8</title>\n<path fill=\"none\" stroke=\"black\" d=\"M215.87,-155.03C211.24,-142.07 200.29,-111.42 195.42,-97.77\"/>\n</g>\n<!-- 11 -->\n<g id=\"node12\" class=\"node\">\n<title>11</title>\n</g>\n<!-- 7&#45;&#45;11 -->\n<g id=\"edge11\" class=\"edge\">\n<title>7&#45;&#45;11</title>\n<path fill=\"none\" stroke=\"lightgreen\" d=\"M220.05,-155.03C223.56,-144.78 230.87,-123.47 236.09,-108.25\"/>\n</g>\n<!-- 9 -->\n<g id=\"node10\" class=\"node\">\n<title>9</title>\n</g>\n<!-- 8&#45;&#45;9 -->\n<g id=\"edge9\" class=\"edge\">\n<title>8&#45;&#45;9</title>\n<path fill=\"none\" stroke=\"lightgreen\" d=\"M189.55,-82.29C184.13,-71.75 173.45,-50.99 165.8,-36.12\"/>\n</g>\n<!-- 10 -->\n<g id=\"node11\" class=\"node\">\n<title>10</title>\n<text text-anchor=\"middle\" x=\"229\" y=\"-14.3\" font-family=\"Times,serif\" font-size=\"14.00\">*</text>\n</g>\n<!-- 8&#45;&#45;10 -->\n<g id=\"edge10\" class=\"edge\">\n<title>8&#45;&#45;10</title>\n<path fill=\"none\" stroke=\"lightgreen\" d=\"M196.45,-82.29C201.87,-71.75 212.55,-50.99 220.2,-36.12\"/>\n</g>\n</g>\n</svg>\n</div></td><td style=\"border-top:hidden;border-bottom:hidden;\"><div align=\"center\" style=\"\"><?xml version=\"1.0\" encoding=\"UTF-8\" standalone=\"no\"?>\n<!DOCTYPE svg PUBLIC \"-//W3C//DTD SVG 1.1//EN\"\n \"http://www.w3.org/Graphics/SVG/1.1/DTD/svg11.dtd\">\n<!-- Generated by graphviz version 2.44.1 (20200629.0846)\n -->\n<!-- Pages: 1 -->\n<svg width=\"288pt\" height=\"287pt\"\n viewBox=\"0.00 0.00 288.00 287.01\" xmlns=\"http://www.w3.org/2000/svg\" xmlns:xlink=\"http://www.w3.org/1999/xlink\">\n<g id=\"graph0\" class=\"graph\" transform=\"scale(0.99 0.99) rotate(0) translate(4 286)\">\n<polygon fill=\"white\" stroke=\"transparent\" points=\"-4,4 -4,-286 287,-286 287,4 -4,4\"/>\n<!-- 0 -->\n<g id=\"node1\" class=\"node\">\n<title>0</title>\n<text text-anchor=\"middle\" x=\"159\" y=\"-270.8\" font-family=\"Times,serif\" font-size=\"14.00\">l</text>\n</g>\n<!-- 1 -->\n<g id=\"node2\" class=\"node\">\n<title>1</title>\n<text text-anchor=\"middle\" x=\"135\" y=\"-209.3\" font-family=\"Times,serif\" font-size=\"14.00\">a</text>\n</g>\n<!-- 0&#45;&#45;1 -->\n<g id=\"edge1\" class=\"edge\">\n<title>0&#45;&#45;1</title>\n<path fill=\"none\" stroke=\"black\" d=\"M156.95,-268.43C152.65,-257.75 142.64,-232.94 137.77,-220.86\"/>\n</g>\n<!-- 10 -->\n<g id=\"node11\" class=\"node\">\n<title>10</title>\n</g>\n<!-- 0&#45;&#45;10 -->\n<g id=\"edge10\" class=\"edge\">\n<title>0&#45;&#45;10</title>\n<path fill=\"none\" stroke=\"lightgreen\" d=\"M161.13,-268.43C164.56,-260.28 171.44,-243.9 176.76,-231.23\"/>\n</g>\n<!-- 2 -->\n<g id=\"node3\" class=\"node\">\n<title>2</title>\n<text text-anchor=\"middle\" x=\"99\" y=\"-147.8\" font-family=\"Times,serif\" font-size=\"14.00\">o</text>\n</g>\n<!-- 1&#45;&#45;2 -->\n<g id=\"edge2\" class=\"edge\">\n<title>1&#45;&#45;2</title>\n<path fill=\"none\" stroke=\"black\" d=\"M131.42,-206.08C124.52,-194.67 109.46,-169.78 102.57,-158.4\"/>\n</g>\n<!-- 5 -->\n<g id=\"node6\" class=\"node\">\n<title>5</title>\n<text text-anchor=\"middle\" x=\"171\" y=\"-147.8\" font-family=\"Times,serif\" font-size=\"14.00\">s</text>\n</g>\n<!-- 1&#45;&#45;5 -->\n<g id=\"edge5\" class=\"edge\">\n<title>1&#45;&#45;5</title>\n<path fill=\"none\" stroke=\"black\" d=\"M138.58,-206.08C145.63,-194.44 161.17,-168.75 167.85,-157.71\"/>\n</g>\n<!-- 3 -->\n<g id=\"node4\" class=\"node\">\n<title>3</title>\n</g>\n<!-- 2&#45;&#45;3 -->\n<g id=\"edge3\" class=\"edge\">\n<title>2&#45;&#45;3</title>\n<path fill=\"none\" stroke=\"lightgreen\" d=\"M95.13,-147.3C86.37,-140.06 64.48,-121.97 47.86,-108.24\"/>\n</g>\n<!-- 4 -->\n<g id=\"node5\" class=\"node\">\n<title>4</title>\n</g>\n<!-- 2&#45;&#45;4 -->\n<g id=\"edge4\" class=\"edge\">\n<title>2&#45;&#45;4</title>\n<path fill=\"none\" stroke=\"lightgreen\" d=\"M99,-143.67C99,-135.07 99,-119.96 99,-108.13\"/>\n</g>\n<!-- 6 -->\n<g id=\"node7\" class=\"node\">\n<title>6</title>\n</g>\n<!-- 5&#45;&#45;6 -->\n<g id=\"edge6\" class=\"edge\">\n<title>5&#45;&#45;6</title>\n<path fill=\"none\" stroke=\"lightgreen\" d=\"M171,-143.67C171,-135.07 171,-119.96 171,-108.13\"/>\n</g>\n<!-- 7 -->\n<g id=\"node8\" class=\"node\">\n<title>7</title>\n<text text-anchor=\"middle\" x=\"220\" y=\"-86.3\" font-family=\"Times,serif\" font-size=\"14.00\">o</text>\n</g>\n<!-- 5&#45;&#45;7 -->\n<g id=\"edge7\" class=\"edge\">\n<title>5&#45;&#45;7</title>\n<path fill=\"none\" stroke=\"black\" d=\"M174.05,-147.02C180.33,-139.83 195.11,-122.76 207,-108 210.26,-103.95 213.84,-99.24 216.42,-95.81\"/>\n</g>\n<!-- 8 -->\n<g id=\"node9\" class=\"node\">\n<title>8</title>\n</g>\n<!-- 7&#45;&#45;8 -->\n<g id=\"edge8\" class=\"edge\">\n<title>7&#45;&#45;8</title>\n<path fill=\"none\" stroke=\"lightgreen\" d=\"M216.55,-82.29C211.13,-71.75 200.45,-50.99 192.8,-36.12\"/>\n</g>\n<!-- 9 -->\n<g id=\"node10\" class=\"node\">\n<title>9</title>\n</g>\n<!-- 7&#45;&#45;9 -->\n<g id=\"edge9\" class=\"edge\">\n<title>7&#45;&#45;9</title>\n<path fill=\"none\" stroke=\"lightgreen\" d=\"M223.45,-82.29C228.87,-71.75 239.55,-50.99 247.2,-36.12\"/>\n</g>\n</g>\n</svg>\n</div></td></tr></table>"
     },
     "metadata": {},
     "output_type": "display_data"
    },
    {
     "data": {
      "text/plain": "<IPython.core.display.HTML object>",
      "text/html": "<table style=\"border-style: hidden; border-collapse: collapse;\" width=\"100%\"><tr><td style=\"border-top:hidden;border-bottom:hidden;\"><div align=\"center\" style=\"\"><?xml version=\"1.0\" encoding=\"UTF-8\" standalone=\"no\"?>\n<!DOCTYPE svg PUBLIC \"-//W3C//DTD SVG 1.1//EN\"\n \"http://www.w3.org/Graphics/SVG/1.1/DTD/svg11.dtd\">\n<!-- Generated by graphviz version 2.44.1 (20200629.0846)\n -->\n<!-- Pages: 1 -->\n<svg width=\"192pt\" height=\"288pt\"\n viewBox=\"0.00 0.00 191.73 288.00\" xmlns=\"http://www.w3.org/2000/svg\" xmlns:xlink=\"http://www.w3.org/1999/xlink\">\n<g id=\"graph0\" class=\"graph\" transform=\"scale(0.8 0.8) rotate(0) translate(4 358)\">\n<polygon fill=\"white\" stroke=\"transparent\" points=\"-4,4 -4,-358 237,-358 237,4 -4,4\"/>\n<!-- 0 -->\n<g id=\"node1\" class=\"node\">\n<title>0</title>\n<text text-anchor=\"middle\" x=\"134\" y=\"-342.8\" font-family=\"Times,serif\" font-size=\"14.00\">l</text>\n</g>\n<!-- 1 -->\n<g id=\"node2\" class=\"node\">\n<title>1</title>\n<text text-anchor=\"middle\" x=\"110\" y=\"-281.3\" font-family=\"Times,serif\" font-size=\"14.00\">a</text>\n</g>\n<!-- 0&#45;&#45;1 -->\n<g id=\"edge1\" class=\"edge\">\n<title>0&#45;&#45;1</title>\n<path fill=\"none\" stroke=\"black\" d=\"M131.95,-340.43C127.65,-329.75 117.64,-304.94 112.77,-292.86\"/>\n</g>\n<!-- 12 -->\n<g id=\"node13\" class=\"node\">\n<title>12</title>\n</g>\n<!-- 0&#45;&#45;12 -->\n<g id=\"edge12\" class=\"edge\">\n<title>0&#45;&#45;12</title>\n<path fill=\"none\" stroke=\"lightgreen\" d=\"M136.13,-340.43C139.56,-332.28 146.44,-315.9 151.76,-303.23\"/>\n</g>\n<!-- 2 -->\n<g id=\"node3\" class=\"node\">\n<title>2</title>\n<text text-anchor=\"middle\" x=\"87\" y=\"-219.8\" font-family=\"Times,serif\" font-size=\"14.00\">s</text>\n</g>\n<!-- 1&#45;&#45;2 -->\n<g id=\"edge2\" class=\"edge\">\n<title>1&#45;&#45;2</title>\n<path fill=\"none\" stroke=\"black\" d=\"M107.36,-277.17C102.92,-265.7 94.02,-242.67 89.61,-231.25\"/>\n</g>\n<!-- 9 -->\n<g id=\"node10\" class=\"node\">\n<title>9</title>\n<text text-anchor=\"middle\" x=\"134\" y=\"-219.8\" font-family=\"Times,serif\" font-size=\"14.00\">o</text>\n</g>\n<!-- 1&#45;&#45;9 -->\n<g id=\"edge9\" class=\"edge\">\n<title>1&#45;&#45;9</title>\n<path fill=\"none\" stroke=\"black\" d=\"M112.75,-277.17C117.38,-265.7 126.67,-242.67 131.28,-231.25\"/>\n</g>\n<!-- 3 -->\n<g id=\"node4\" class=\"node\">\n<title>3</title>\n</g>\n<!-- 2&#45;&#45;3 -->\n<g id=\"edge3\" class=\"edge\">\n<title>2&#45;&#45;3</title>\n<path fill=\"none\" stroke=\"lightgreen\" d=\"M83.92,-218.6C77.87,-210.94 64.14,-193.56 53.63,-180.25\"/>\n</g>\n<!-- 4 -->\n<g id=\"node5\" class=\"node\">\n<title>4</title>\n<text text-anchor=\"middle\" x=\"87\" y=\"-158.3\" font-family=\"Times,serif\" font-size=\"14.00\">l</text>\n</g>\n<!-- 2&#45;&#45;4 -->\n<g id=\"edge4\" class=\"edge\">\n<title>2&#45;&#45;4</title>\n<path fill=\"none\" stroke=\"black\" d=\"M87,-215.67C87,-204.2 87,-181.17 87,-169.75\"/>\n</g>\n<!-- 5 -->\n<g id=\"node6\" class=\"node\">\n<title>5</title>\n<text text-anchor=\"middle\" x=\"63\" y=\"-86.3\" font-family=\"Times,serif\" font-size=\"14.00\">o</text>\n</g>\n<!-- 4&#45;&#45;5 -->\n<g id=\"edge5\" class=\"edge\">\n<title>4&#45;&#45;5</title>\n<path fill=\"none\" stroke=\"black\" d=\"M84.95,-155.03C80.51,-142.07 70,-111.42 65.32,-97.77\"/>\n</g>\n<!-- 8 -->\n<g id=\"node9\" class=\"node\">\n<title>8</title>\n</g>\n<!-- 4&#45;&#45;8 -->\n<g id=\"edge8\" class=\"edge\">\n<title>4&#45;&#45;8</title>\n<path fill=\"none\" stroke=\"lightgreen\" d=\"M89.13,-155.03C92.79,-144.78 100.4,-123.47 105.84,-108.25\"/>\n</g>\n<!-- 6 -->\n<g id=\"node7\" class=\"node\">\n<title>6</title>\n</g>\n<!-- 5&#45;&#45;6 -->\n<g id=\"edge6\" class=\"edge\">\n<title>5&#45;&#45;6</title>\n<path fill=\"none\" stroke=\"lightgreen\" d=\"M59.55,-82.29C54.13,-71.75 43.45,-50.99 35.8,-36.12\"/>\n</g>\n<!-- 7 -->\n<g id=\"node8\" class=\"node\">\n<title>7</title>\n<text text-anchor=\"middle\" x=\"99\" y=\"-14.3\" font-family=\"Times,serif\" font-size=\"14.00\">*</text>\n</g>\n<!-- 5&#45;&#45;7 -->\n<g id=\"edge7\" class=\"edge\">\n<title>5&#45;&#45;7</title>\n<path fill=\"none\" stroke=\"lightgreen\" d=\"M66.45,-82.29C71.87,-71.75 82.55,-50.99 90.2,-36.12\"/>\n</g>\n<!-- 10 -->\n<g id=\"node11\" class=\"node\">\n<title>10</title>\n</g>\n<!-- 9&#45;&#45;10 -->\n<g id=\"edge10\" class=\"edge\">\n<title>9&#45;&#45;10</title>\n<path fill=\"none\" stroke=\"lightgreen\" d=\"M134,-215.67C134,-207.07 134,-191.96 134,-180.13\"/>\n</g>\n<!-- 11 -->\n<g id=\"node12\" class=\"node\">\n<title>11</title>\n</g>\n<!-- 9&#45;&#45;11 -->\n<g id=\"edge11\" class=\"edge\">\n<title>9&#45;&#45;11</title>\n<path fill=\"none\" stroke=\"lightgreen\" d=\"M137.87,-219.3C146.63,-212.06 168.52,-193.97 185.14,-180.24\"/>\n</g>\n</g>\n</svg>\n</div></td><td style=\"border-top:hidden;border-bottom:hidden;\"><div align=\"center\" style=\"\"><?xml version=\"1.0\" encoding=\"UTF-8\" standalone=\"no\"?>\n<!DOCTYPE svg PUBLIC \"-//W3C//DTD SVG 1.1//EN\"\n \"http://www.w3.org/Graphics/SVG/1.1/DTD/svg11.dtd\">\n<!-- Generated by graphviz version 2.44.1 (20200629.0846)\n -->\n<!-- Pages: 1 -->\n<svg width=\"230pt\" height=\"288pt\"\n viewBox=\"0.00 0.00 230.40 288.00\" xmlns=\"http://www.w3.org/2000/svg\" xmlns:xlink=\"http://www.w3.org/1999/xlink\">\n<g id=\"graph0\" class=\"graph\" transform=\"scale(0.99 0.99) rotate(0) translate(4 286)\">\n<polygon fill=\"white\" stroke=\"transparent\" points=\"-4,4 -4,-286 228,-286 228,4 -4,4\"/>\n<!-- 0 -->\n<g id=\"node1\" class=\"node\">\n<title>0</title>\n<text text-anchor=\"middle\" x=\"124\" y=\"-270.8\" font-family=\"Times,serif\" font-size=\"14.00\">l</text>\n</g>\n<!-- 1 -->\n<g id=\"node2\" class=\"node\">\n<title>1</title>\n<text text-anchor=\"middle\" x=\"100\" y=\"-209.3\" font-family=\"Times,serif\" font-size=\"14.00\">a</text>\n</g>\n<!-- 0&#45;&#45;1 -->\n<g id=\"edge1\" class=\"edge\">\n<title>0&#45;&#45;1</title>\n<path fill=\"none\" stroke=\"black\" d=\"M121.95,-268.43C117.65,-257.75 107.64,-232.94 102.77,-220.86\"/>\n</g>\n<!-- 10 -->\n<g id=\"node11\" class=\"node\">\n<title>10</title>\n</g>\n<!-- 0&#45;&#45;10 -->\n<g id=\"edge10\" class=\"edge\">\n<title>0&#45;&#45;10</title>\n<path fill=\"none\" stroke=\"lightgreen\" d=\"M126.13,-268.43C129.56,-260.28 136.44,-243.9 141.76,-231.23\"/>\n</g>\n<!-- 2 -->\n<g id=\"node3\" class=\"node\">\n<title>2</title>\n<text text-anchor=\"middle\" x=\"76\" y=\"-147.8\" font-family=\"Times,serif\" font-size=\"14.00\">s</text>\n</g>\n<!-- 1&#45;&#45;2 -->\n<g id=\"edge2\" class=\"edge\">\n<title>1&#45;&#45;2</title>\n<path fill=\"none\" stroke=\"black\" d=\"M97.25,-205.17C92.62,-193.7 83.33,-170.67 78.72,-159.25\"/>\n</g>\n<!-- 7 -->\n<g id=\"node8\" class=\"node\">\n<title>7</title>\n<text text-anchor=\"middle\" x=\"125\" y=\"-147.8\" font-family=\"Times,serif\" font-size=\"14.00\">o</text>\n</g>\n<!-- 1&#45;&#45;7 -->\n<g id=\"edge7\" class=\"edge\">\n<title>1&#45;&#45;7</title>\n<path fill=\"none\" stroke=\"black\" d=\"M102.87,-205.17C107.69,-193.7 117.37,-170.67 122.17,-159.25\"/>\n</g>\n<!-- 3 -->\n<g id=\"node4\" class=\"node\">\n<title>3</title>\n</g>\n<!-- 2&#45;&#45;3 -->\n<g id=\"edge3\" class=\"edge\">\n<title>2&#45;&#45;3</title>\n<path fill=\"none\" stroke=\"lightgreen\" d=\"M72.78,-146.6C66.48,-138.94 52.16,-121.56 41.21,-108.25\"/>\n</g>\n<!-- 4 -->\n<g id=\"node5\" class=\"node\">\n<title>4</title>\n<text text-anchor=\"middle\" x=\"76\" y=\"-86.3\" font-family=\"Times,serif\" font-size=\"14.00\">o</text>\n</g>\n<!-- 2&#45;&#45;4 -->\n<g id=\"edge4\" class=\"edge\">\n<title>2&#45;&#45;4</title>\n<path fill=\"none\" stroke=\"black\" d=\"M76,-143.67C76,-132.2 76,-109.17 76,-97.75\"/>\n</g>\n<!-- 5 -->\n<g id=\"node6\" class=\"node\">\n<title>5</title>\n</g>\n<!-- 4&#45;&#45;5 -->\n<g id=\"edge5\" class=\"edge\">\n<title>4&#45;&#45;5</title>\n<path fill=\"none\" stroke=\"lightgreen\" d=\"M72.55,-82.29C67.13,-71.75 56.45,-50.99 48.8,-36.12\"/>\n</g>\n<!-- 6 -->\n<g id=\"node7\" class=\"node\">\n<title>6</title>\n</g>\n<!-- 4&#45;&#45;6 -->\n<g id=\"edge6\" class=\"edge\">\n<title>4&#45;&#45;6</title>\n<path fill=\"none\" stroke=\"lightgreen\" d=\"M79.45,-82.29C84.87,-71.75 95.55,-50.99 103.2,-36.12\"/>\n</g>\n<!-- 8 -->\n<g id=\"node9\" class=\"node\">\n<title>8</title>\n</g>\n<!-- 7&#45;&#45;8 -->\n<g id=\"edge8\" class=\"edge\">\n<title>7&#45;&#45;8</title>\n<path fill=\"none\" stroke=\"lightgreen\" d=\"M125,-143.67C125,-135.07 125,-119.96 125,-108.13\"/>\n</g>\n<!-- 9 -->\n<g id=\"node10\" class=\"node\">\n<title>9</title>\n</g>\n<!-- 7&#45;&#45;9 -->\n<g id=\"edge9\" class=\"edge\">\n<title>7&#45;&#45;9</title>\n<path fill=\"none\" stroke=\"lightgreen\" d=\"M128.87,-147.3C137.63,-140.06 159.52,-121.97 176.14,-108.24\"/>\n</g>\n</g>\n</svg>\n</div></td></tr></table>"
     },
     "metadata": {},
     "output_type": "display_data"
    },
    {
     "data": {
      "text/plain": "<IPython.core.display.HTML object>",
      "text/html": "<table style=\"border-style: hidden; border-collapse: collapse;\" width=\"100%\"><tr><td style=\"border-top:hidden;border-bottom:hidden;\"><div align=\"center\" style=\"\"><?xml version=\"1.0\" encoding=\"UTF-8\" standalone=\"no\"?>\n<!DOCTYPE svg PUBLIC \"-//W3C//DTD SVG 1.1//EN\"\n \"http://www.w3.org/Graphics/SVG/1.1/DTD/svg11.dtd\">\n<!-- Generated by graphviz version 2.44.1 (20200629.0846)\n -->\n<!-- Pages: 1 -->\n<svg width=\"122pt\" height=\"288pt\"\n viewBox=\"0.00 0.00 121.53 288.00\" xmlns=\"http://www.w3.org/2000/svg\" xmlns:xlink=\"http://www.w3.org/1999/xlink\">\n<g id=\"graph0\" class=\"graph\" transform=\"scale(0.63 0.63) rotate(0) translate(4 451)\">\n<polygon fill=\"white\" stroke=\"transparent\" points=\"-4,4 -4,-451 188,-451 188,4 -4,4\"/>\n<!-- 0 -->\n<g id=\"node1\" class=\"node\">\n<title>0</title>\n<text text-anchor=\"middle\" x=\"133\" y=\"-435.8\" font-family=\"Times,serif\" font-size=\"14.00\">l</text>\n</g>\n<!-- 1 -->\n<g id=\"node2\" class=\"node\">\n<title>1</title>\n<text text-anchor=\"middle\" x=\"110\" y=\"-374.3\" font-family=\"Times,serif\" font-size=\"14.00\">l</text>\n</g>\n<!-- 0&#45;&#45;1 -->\n<g id=\"edge1\" class=\"edge\">\n<title>0&#45;&#45;1</title>\n<path fill=\"none\" stroke=\"black\" d=\"M130.88,-433.01C126.47,-421.62 116.39,-395.54 112.05,-384.31\"/>\n</g>\n<!-- 12 -->\n<g id=\"node13\" class=\"node\">\n<title>12</title>\n</g>\n<!-- 0&#45;&#45;12 -->\n<g id=\"edge12\" class=\"edge\">\n<title>0&#45;&#45;12</title>\n<path fill=\"none\" stroke=\"lightgreen\" d=\"M135.05,-433.43C138.33,-425.28 144.94,-408.9 150.05,-396.23\"/>\n</g>\n<!-- 2 -->\n<g id=\"node3\" class=\"node\">\n<title>2</title>\n<text text-anchor=\"middle\" x=\"87\" y=\"-302.3\" font-family=\"Times,serif\" font-size=\"14.00\">l</text>\n</g>\n<!-- 1&#45;&#45;2 -->\n<g id=\"edge2\" class=\"edge\">\n<title>1&#45;&#45;2</title>\n<path fill=\"none\" stroke=\"black\" d=\"M107.88,-370.54C103.47,-357.14 93.39,-326.46 89.05,-313.24\"/>\n</g>\n<!-- 11 -->\n<g id=\"node12\" class=\"node\">\n<title>11</title>\n</g>\n<!-- 1&#45;&#45;11 -->\n<g id=\"edge11\" class=\"edge\">\n<title>1&#45;&#45;11</title>\n<path fill=\"none\" stroke=\"lightgreen\" d=\"M112.05,-371.03C115.56,-360.78 122.87,-339.47 128.09,-324.25\"/>\n</g>\n<!-- 3 -->\n<g id=\"node4\" class=\"node\">\n<title>3</title>\n<text text-anchor=\"middle\" x=\"63\" y=\"-230.3\" font-family=\"Times,serif\" font-size=\"14.00\">s</text>\n</g>\n<!-- 2&#45;&#45;3 -->\n<g id=\"edge3\" class=\"edge\">\n<title>2&#45;&#45;3</title>\n<path fill=\"none\" stroke=\"black\" d=\"M84.95,-299.03C80.51,-286.07 70,-255.42 65.32,-241.77\"/>\n</g>\n<!-- 10 -->\n<g id=\"node11\" class=\"node\">\n<title>10</title>\n</g>\n<!-- 2&#45;&#45;10 -->\n<g id=\"edge10\" class=\"edge\">\n<title>2&#45;&#45;10</title>\n<path fill=\"none\" stroke=\"lightgreen\" d=\"M89.05,-299.03C92.56,-288.78 99.87,-267.47 105.09,-252.25\"/>\n</g>\n<!-- 4 -->\n<g id=\"node5\" class=\"node\">\n<title>4</title>\n</g>\n<!-- 3&#45;&#45;4 -->\n<g id=\"edge4\" class=\"edge\">\n<title>3&#45;&#45;4</title>\n<path fill=\"none\" stroke=\"lightgreen\" d=\"M60.79,-226.29C57.33,-215.75 50.51,-194.99 45.62,-180.12\"/>\n</g>\n<!-- 5 -->\n<g id=\"node6\" class=\"node\">\n<title>5</title>\n<text text-anchor=\"middle\" x=\"87\" y=\"-158.3\" font-family=\"Times,serif\" font-size=\"14.00\">l</text>\n</g>\n<!-- 3&#45;&#45;5 -->\n<g id=\"edge5\" class=\"edge\">\n<title>3&#45;&#45;5</title>\n<path fill=\"none\" stroke=\"black\" d=\"M65.3,-226.29C69.95,-212.74 80.39,-182.29 84.88,-169.19\"/>\n</g>\n<!-- 6 -->\n<g id=\"node7\" class=\"node\">\n<title>6</title>\n<text text-anchor=\"middle\" x=\"63\" y=\"-86.3\" font-family=\"Times,serif\" font-size=\"14.00\">o</text>\n</g>\n<!-- 5&#45;&#45;6 -->\n<g id=\"edge6\" class=\"edge\">\n<title>5&#45;&#45;6</title>\n<path fill=\"none\" stroke=\"black\" d=\"M84.95,-155.03C80.51,-142.07 70,-111.42 65.32,-97.77\"/>\n</g>\n<!-- 9 -->\n<g id=\"node10\" class=\"node\">\n<title>9</title>\n</g>\n<!-- 5&#45;&#45;9 -->\n<g id=\"edge9\" class=\"edge\">\n<title>5&#45;&#45;9</title>\n<path fill=\"none\" stroke=\"lightgreen\" d=\"M89.13,-155.03C92.79,-144.78 100.4,-123.47 105.84,-108.25\"/>\n</g>\n<!-- 7 -->\n<g id=\"node8\" class=\"node\">\n<title>7</title>\n</g>\n<!-- 6&#45;&#45;7 -->\n<g id=\"edge7\" class=\"edge\">\n<title>6&#45;&#45;7</title>\n<path fill=\"none\" stroke=\"lightgreen\" d=\"M59.55,-82.29C54.13,-71.75 43.45,-50.99 35.8,-36.12\"/>\n</g>\n<!-- 8 -->\n<g id=\"node9\" class=\"node\">\n<title>8</title>\n<text text-anchor=\"middle\" x=\"99\" y=\"-14.3\" font-family=\"Times,serif\" font-size=\"14.00\">*</text>\n</g>\n<!-- 6&#45;&#45;8 -->\n<g id=\"edge8\" class=\"edge\">\n<title>6&#45;&#45;8</title>\n<path fill=\"none\" stroke=\"lightgreen\" d=\"M66.45,-82.29C71.87,-71.75 82.55,-50.99 90.2,-36.12\"/>\n</g>\n</g>\n</svg>\n</div></td><td style=\"border-top:hidden;border-bottom:hidden;\"><div align=\"center\" style=\"\"><?xml version=\"1.0\" encoding=\"UTF-8\" standalone=\"no\"?>\n<!DOCTYPE svg PUBLIC \"-//W3C//DTD SVG 1.1//EN\"\n \"http://www.w3.org/Graphics/SVG/1.1/DTD/svg11.dtd\">\n<!-- Generated by graphviz version 2.44.1 (20200629.0846)\n -->\n<!-- Pages: 1 -->\n<svg width=\"135pt\" height=\"288pt\"\n viewBox=\"0.00 0.00 135.35 288.00\" xmlns=\"http://www.w3.org/2000/svg\" xmlns:xlink=\"http://www.w3.org/1999/xlink\">\n<g id=\"graph0\" class=\"graph\" transform=\"scale(0.75 0.75) rotate(0) translate(4 379)\">\n<polygon fill=\"white\" stroke=\"transparent\" points=\"-4,4 -4,-379 176,-379 176,4 -4,4\"/>\n<!-- 0 -->\n<g id=\"node1\" class=\"node\">\n<title>0</title>\n<text text-anchor=\"middle\" x=\"121\" y=\"-363.8\" font-family=\"Times,serif\" font-size=\"14.00\">l</text>\n</g>\n<!-- 1 -->\n<g id=\"node2\" class=\"node\">\n<title>1</title>\n<text text-anchor=\"middle\" x=\"98\" y=\"-302.3\" font-family=\"Times,serif\" font-size=\"14.00\">l</text>\n</g>\n<!-- 0&#45;&#45;1 -->\n<g id=\"edge1\" class=\"edge\">\n<title>0&#45;&#45;1</title>\n<path fill=\"none\" stroke=\"black\" d=\"M118.88,-361.01C114.47,-349.62 104.39,-323.54 100.05,-312.31\"/>\n</g>\n<!-- 10 -->\n<g id=\"node11\" class=\"node\">\n<title>10</title>\n</g>\n<!-- 0&#45;&#45;10 -->\n<g id=\"edge10\" class=\"edge\">\n<title>0&#45;&#45;10</title>\n<path fill=\"none\" stroke=\"lightgreen\" d=\"M123.05,-361.43C126.33,-353.28 132.94,-336.9 138.05,-324.23\"/>\n</g>\n<!-- 2 -->\n<g id=\"node3\" class=\"node\">\n<title>2</title>\n<text text-anchor=\"middle\" x=\"75\" y=\"-230.3\" font-family=\"Times,serif\" font-size=\"14.00\">l</text>\n</g>\n<!-- 1&#45;&#45;2 -->\n<g id=\"edge2\" class=\"edge\">\n<title>1&#45;&#45;2</title>\n<path fill=\"none\" stroke=\"black\" d=\"M95.88,-298.54C91.47,-285.14 81.39,-254.46 77.05,-241.24\"/>\n</g>\n<!-- 9 -->\n<g id=\"node10\" class=\"node\">\n<title>9</title>\n</g>\n<!-- 1&#45;&#45;9 -->\n<g id=\"edge9\" class=\"edge\">\n<title>1&#45;&#45;9</title>\n<path fill=\"none\" stroke=\"lightgreen\" d=\"M100.05,-299.03C103.56,-288.78 110.87,-267.47 116.09,-252.25\"/>\n</g>\n<!-- 3 -->\n<g id=\"node4\" class=\"node\">\n<title>3</title>\n<text text-anchor=\"middle\" x=\"51\" y=\"-158.3\" font-family=\"Times,serif\" font-size=\"14.00\">s</text>\n</g>\n<!-- 2&#45;&#45;3 -->\n<g id=\"edge3\" class=\"edge\">\n<title>2&#45;&#45;3</title>\n<path fill=\"none\" stroke=\"black\" d=\"M72.95,-227.03C68.51,-214.07 58,-183.42 53.32,-169.77\"/>\n</g>\n<!-- 8 -->\n<g id=\"node9\" class=\"node\">\n<title>8</title>\n</g>\n<!-- 2&#45;&#45;8 -->\n<g id=\"edge8\" class=\"edge\">\n<title>2&#45;&#45;8</title>\n<path fill=\"none\" stroke=\"lightgreen\" d=\"M77.05,-227.03C80.56,-216.78 87.87,-195.47 93.09,-180.25\"/>\n</g>\n<!-- 4 -->\n<g id=\"node5\" class=\"node\">\n<title>4</title>\n</g>\n<!-- 3&#45;&#45;4 -->\n<g id=\"edge4\" class=\"edge\">\n<title>3&#45;&#45;4</title>\n<path fill=\"none\" stroke=\"lightgreen\" d=\"M48.7,-154.29C45.09,-143.75 37.97,-122.99 32.87,-108.12\"/>\n</g>\n<!-- 5 -->\n<g id=\"node6\" class=\"node\">\n<title>5</title>\n<text text-anchor=\"middle\" x=\"76\" y=\"-86.3\" font-family=\"Times,serif\" font-size=\"14.00\">o</text>\n</g>\n<!-- 3&#45;&#45;5 -->\n<g id=\"edge5\" class=\"edge\">\n<title>3&#45;&#45;5</title>\n<path fill=\"none\" stroke=\"black\" d=\"M53.4,-154.29C58.19,-140.87 68.89,-110.9 73.65,-97.59\"/>\n</g>\n<!-- 6 -->\n<g id=\"node7\" class=\"node\">\n<title>6</title>\n</g>\n<!-- 5&#45;&#45;6 -->\n<g id=\"edge6\" class=\"edge\">\n<title>5&#45;&#45;6</title>\n<path fill=\"none\" stroke=\"lightgreen\" d=\"M72.55,-82.29C67.13,-71.75 56.45,-50.99 48.8,-36.12\"/>\n</g>\n<!-- 7 -->\n<g id=\"node8\" class=\"node\">\n<title>7</title>\n</g>\n<!-- 5&#45;&#45;7 -->\n<g id=\"edge7\" class=\"edge\">\n<title>5&#45;&#45;7</title>\n<path fill=\"none\" stroke=\"lightgreen\" d=\"M79.45,-82.29C84.87,-71.75 95.55,-50.99 103.2,-36.12\"/>\n</g>\n</g>\n</svg>\n</div></td></tr></table>"
     },
     "metadata": {},
     "output_type": "display_data"
    },
    {
     "data": {
      "text/plain": "<IPython.core.display.HTML object>",
      "text/html": "<table style=\"border-style: hidden; border-collapse: collapse;\" width=\"100%\"><tr><td style=\"border-top:hidden;border-bottom:hidden;\"><div align=\"center\" style=\"\"><?xml version=\"1.0\" encoding=\"UTF-8\" standalone=\"no\"?>\n<!DOCTYPE svg PUBLIC \"-//W3C//DTD SVG 1.1//EN\"\n \"http://www.w3.org/Graphics/SVG/1.1/DTD/svg11.dtd\">\n<!-- Generated by graphviz version 2.44.1 (20200629.0846)\n -->\n<!-- Pages: 1 -->\n<svg width=\"101pt\" height=\"288pt\"\n viewBox=\"0.00 0.00 100.64 288.00\" xmlns=\"http://www.w3.org/2000/svg\" xmlns:xlink=\"http://www.w3.org/1999/xlink\">\n<g id=\"graph0\" class=\"graph\" transform=\"scale(0.63 0.63) rotate(0) translate(4 451)\">\n<polygon fill=\"white\" stroke=\"transparent\" points=\"-4,4 -4,-451 155,-451 155,4 -4,4\"/>\n<!-- 0 -->\n<g id=\"node1\" class=\"node\">\n<title>0</title>\n<text text-anchor=\"middle\" x=\"98\" y=\"-435.8\" font-family=\"Times,serif\" font-size=\"14.00\">l</text>\n</g>\n<!-- 1 -->\n<g id=\"node2\" class=\"node\">\n<title>1</title>\n<text text-anchor=\"middle\" x=\"75\" y=\"-374.3\" font-family=\"Times,serif\" font-size=\"14.00\">l</text>\n</g>\n<!-- 0&#45;&#45;1 -->\n<g id=\"edge1\" class=\"edge\">\n<title>0&#45;&#45;1</title>\n<path fill=\"none\" stroke=\"black\" d=\"M95.88,-433.01C91.47,-421.62 81.39,-395.54 77.05,-384.31\"/>\n</g>\n<!-- 12 -->\n<g id=\"node13\" class=\"node\">\n<title>12</title>\n</g>\n<!-- 0&#45;&#45;12 -->\n<g id=\"edge12\" class=\"edge\">\n<title>0&#45;&#45;12</title>\n<path fill=\"none\" stroke=\"lightgreen\" d=\"M100.05,-433.43C103.33,-425.28 109.94,-408.9 115.05,-396.23\"/>\n</g>\n<!-- 2 -->\n<g id=\"node3\" class=\"node\">\n<title>2</title>\n<text text-anchor=\"middle\" x=\"51\" y=\"-302.3\" font-family=\"Times,serif\" font-size=\"14.00\">s</text>\n</g>\n<!-- 1&#45;&#45;2 -->\n<g id=\"edge2\" class=\"edge\">\n<title>1&#45;&#45;2</title>\n<path fill=\"none\" stroke=\"black\" d=\"M72.95,-371.03C68.51,-358.07 58,-327.42 53.32,-313.77\"/>\n</g>\n<!-- 11 -->\n<g id=\"node12\" class=\"node\">\n<title>11</title>\n</g>\n<!-- 1&#45;&#45;11 -->\n<g id=\"edge11\" class=\"edge\">\n<title>1&#45;&#45;11</title>\n<path fill=\"none\" stroke=\"lightgreen\" d=\"M77.05,-371.03C80.56,-360.78 87.87,-339.47 93.09,-324.25\"/>\n</g>\n<!-- 3 -->\n<g id=\"node4\" class=\"node\">\n<title>3</title>\n</g>\n<!-- 2&#45;&#45;3 -->\n<g id=\"edge3\" class=\"edge\">\n<title>2&#45;&#45;3</title>\n<path fill=\"none\" stroke=\"lightgreen\" d=\"M48.7,-298.29C45.09,-287.75 37.97,-266.99 32.87,-252.12\"/>\n</g>\n<!-- 4 -->\n<g id=\"node5\" class=\"node\">\n<title>4</title>\n<text text-anchor=\"middle\" x=\"75\" y=\"-230.3\" font-family=\"Times,serif\" font-size=\"14.00\">s</text>\n</g>\n<!-- 2&#45;&#45;4 -->\n<g id=\"edge4\" class=\"edge\">\n<title>2&#45;&#45;4</title>\n<path fill=\"none\" stroke=\"black\" d=\"M53.3,-298.29C57.9,-284.87 68.18,-254.9 72.74,-241.59\"/>\n</g>\n<!-- 5 -->\n<g id=\"node6\" class=\"node\">\n<title>5</title>\n</g>\n<!-- 4&#45;&#45;5 -->\n<g id=\"edge5\" class=\"edge\">\n<title>4&#45;&#45;5</title>\n<path fill=\"none\" stroke=\"lightgreen\" d=\"M72.79,-226.29C69.33,-215.75 62.51,-194.99 57.62,-180.12\"/>\n</g>\n<!-- 6 -->\n<g id=\"node7\" class=\"node\">\n<title>6</title>\n<text text-anchor=\"middle\" x=\"99\" y=\"-158.3\" font-family=\"Times,serif\" font-size=\"14.00\">l</text>\n</g>\n<!-- 4&#45;&#45;6 -->\n<g id=\"edge6\" class=\"edge\">\n<title>4&#45;&#45;6</title>\n<path fill=\"none\" stroke=\"black\" d=\"M77.3,-226.29C81.95,-212.74 92.39,-182.29 96.88,-169.19\"/>\n</g>\n<!-- 7 -->\n<g id=\"node8\" class=\"node\">\n<title>7</title>\n<text text-anchor=\"middle\" x=\"75\" y=\"-86.3\" font-family=\"Times,serif\" font-size=\"14.00\">o</text>\n</g>\n<!-- 6&#45;&#45;7 -->\n<g id=\"edge7\" class=\"edge\">\n<title>6&#45;&#45;7</title>\n<path fill=\"none\" stroke=\"black\" d=\"M96.95,-155.03C92.51,-142.07 82,-111.42 77.32,-97.77\"/>\n</g>\n<!-- 10 -->\n<g id=\"node11\" class=\"node\">\n<title>10</title>\n</g>\n<!-- 6&#45;&#45;10 -->\n<g id=\"edge10\" class=\"edge\">\n<title>6&#45;&#45;10</title>\n<path fill=\"none\" stroke=\"lightgreen\" d=\"M101.13,-155.03C104.79,-144.78 112.4,-123.47 117.84,-108.25\"/>\n</g>\n<!-- 8 -->\n<g id=\"node9\" class=\"node\">\n<title>8</title>\n</g>\n<!-- 7&#45;&#45;8 -->\n<g id=\"edge8\" class=\"edge\">\n<title>7&#45;&#45;8</title>\n<path fill=\"none\" stroke=\"lightgreen\" d=\"M71.55,-82.29C66.13,-71.75 55.45,-50.99 47.8,-36.12\"/>\n</g>\n<!-- 9 -->\n<g id=\"node10\" class=\"node\">\n<title>9</title>\n<text text-anchor=\"middle\" x=\"111\" y=\"-14.3\" font-family=\"Times,serif\" font-size=\"14.00\">*</text>\n</g>\n<!-- 7&#45;&#45;9 -->\n<g id=\"edge9\" class=\"edge\">\n<title>7&#45;&#45;9</title>\n<path fill=\"none\" stroke=\"lightgreen\" d=\"M78.45,-82.29C83.87,-71.75 94.55,-50.99 102.2,-36.12\"/>\n</g>\n</g>\n</svg>\n</div></td><td style=\"border-top:hidden;border-bottom:hidden;\"><div align=\"center\" style=\"\"><?xml version=\"1.0\" encoding=\"UTF-8\" standalone=\"no\"?>\n<!DOCTYPE svg PUBLIC \"-//W3C//DTD SVG 1.1//EN\"\n \"http://www.w3.org/Graphics/SVG/1.1/DTD/svg11.dtd\">\n<!-- Generated by graphviz version 2.44.1 (20200629.0846)\n -->\n<!-- Pages: 1 -->\n<svg width=\"128pt\" height=\"288pt\"\n viewBox=\"0.00 0.00 127.83 288.00\" xmlns=\"http://www.w3.org/2000/svg\" xmlns:xlink=\"http://www.w3.org/1999/xlink\">\n<g id=\"graph0\" class=\"graph\" transform=\"scale(0.75 0.75) rotate(0) translate(4 379)\">\n<polygon fill=\"white\" stroke=\"transparent\" points=\"-4,4 -4,-379 166,-379 166,4 -4,4\"/>\n<!-- 0 -->\n<g id=\"node1\" class=\"node\">\n<title>0</title>\n<text text-anchor=\"middle\" x=\"98\" y=\"-363.8\" font-family=\"Times,serif\" font-size=\"14.00\">l</text>\n</g>\n<!-- 1 -->\n<g id=\"node2\" class=\"node\">\n<title>1</title>\n<text text-anchor=\"middle\" x=\"75\" y=\"-302.3\" font-family=\"Times,serif\" font-size=\"14.00\">l</text>\n</g>\n<!-- 0&#45;&#45;1 -->\n<g id=\"edge1\" class=\"edge\">\n<title>0&#45;&#45;1</title>\n<path fill=\"none\" stroke=\"black\" d=\"M95.88,-361.01C91.47,-349.62 81.39,-323.54 77.05,-312.31\"/>\n</g>\n<!-- 10 -->\n<g id=\"node11\" class=\"node\">\n<title>10</title>\n</g>\n<!-- 0&#45;&#45;10 -->\n<g id=\"edge10\" class=\"edge\">\n<title>0&#45;&#45;10</title>\n<path fill=\"none\" stroke=\"lightgreen\" d=\"M100.05,-361.43C103.33,-353.28 109.94,-336.9 115.05,-324.23\"/>\n</g>\n<!-- 2 -->\n<g id=\"node3\" class=\"node\">\n<title>2</title>\n<text text-anchor=\"middle\" x=\"51\" y=\"-230.3\" font-family=\"Times,serif\" font-size=\"14.00\">s</text>\n</g>\n<!-- 1&#45;&#45;2 -->\n<g id=\"edge2\" class=\"edge\">\n<title>1&#45;&#45;2</title>\n<path fill=\"none\" stroke=\"black\" d=\"M72.95,-299.03C68.51,-286.07 58,-255.42 53.32,-241.77\"/>\n</g>\n<!-- 9 -->\n<g id=\"node10\" class=\"node\">\n<title>9</title>\n</g>\n<!-- 1&#45;&#45;9 -->\n<g id=\"edge9\" class=\"edge\">\n<title>1&#45;&#45;9</title>\n<path fill=\"none\" stroke=\"lightgreen\" d=\"M77.05,-299.03C80.56,-288.78 87.87,-267.47 93.09,-252.25\"/>\n</g>\n<!-- 3 -->\n<g id=\"node4\" class=\"node\">\n<title>3</title>\n</g>\n<!-- 2&#45;&#45;3 -->\n<g id=\"edge3\" class=\"edge\">\n<title>2&#45;&#45;3</title>\n<path fill=\"none\" stroke=\"lightgreen\" d=\"M48.7,-226.29C45.09,-215.75 37.97,-194.99 32.87,-180.12\"/>\n</g>\n<!-- 4 -->\n<g id=\"node5\" class=\"node\">\n<title>4</title>\n<text text-anchor=\"middle\" x=\"75\" y=\"-158.3\" font-family=\"Times,serif\" font-size=\"14.00\">s</text>\n</g>\n<!-- 2&#45;&#45;4 -->\n<g id=\"edge4\" class=\"edge\">\n<title>2&#45;&#45;4</title>\n<path fill=\"none\" stroke=\"black\" d=\"M53.3,-226.29C57.9,-212.87 68.18,-182.9 72.74,-169.59\"/>\n</g>\n<!-- 5 -->\n<g id=\"node6\" class=\"node\">\n<title>5</title>\n</g>\n<!-- 4&#45;&#45;5 -->\n<g id=\"edge5\" class=\"edge\">\n<title>4&#45;&#45;5</title>\n<path fill=\"none\" stroke=\"lightgreen\" d=\"M72.6,-154.29C68.84,-143.75 61.42,-122.99 56.11,-108.12\"/>\n</g>\n<!-- 6 -->\n<g id=\"node7\" class=\"node\">\n<title>6</title>\n<text text-anchor=\"middle\" x=\"99\" y=\"-86.3\" font-family=\"Times,serif\" font-size=\"14.00\">o</text>\n</g>\n<!-- 4&#45;&#45;6 -->\n<g id=\"edge6\" class=\"edge\">\n<title>4&#45;&#45;6</title>\n<path fill=\"none\" stroke=\"black\" d=\"M77.3,-154.29C81.9,-140.87 92.18,-110.9 96.74,-97.59\"/>\n</g>\n<!-- 7 -->\n<g id=\"node8\" class=\"node\">\n<title>7</title>\n</g>\n<!-- 6&#45;&#45;7 -->\n<g id=\"edge7\" class=\"edge\">\n<title>6&#45;&#45;7</title>\n<path fill=\"none\" stroke=\"lightgreen\" d=\"M95.55,-82.29C90.13,-71.75 79.45,-50.99 71.8,-36.12\"/>\n</g>\n<!-- 8 -->\n<g id=\"node9\" class=\"node\">\n<title>8</title>\n</g>\n<!-- 6&#45;&#45;8 -->\n<g id=\"edge8\" class=\"edge\">\n<title>6&#45;&#45;8</title>\n<path fill=\"none\" stroke=\"lightgreen\" d=\"M102.45,-82.29C107.87,-71.75 118.55,-50.99 126.2,-36.12\"/>\n</g>\n</g>\n</svg>\n</div></td></tr></table>"
     },
     "metadata": {},
     "output_type": "display_data"
    },
    {
     "data": {
      "text/plain": "<IPython.core.display.HTML object>",
      "text/html": "<table style=\"border-style: hidden; border-collapse: collapse;\" width=\"100%\"><tr><td style=\"border-top:hidden;border-bottom:hidden;\"><div align=\"center\" style=\"\"><?xml version=\"1.0\" encoding=\"UTF-8\" standalone=\"no\"?>\n<!DOCTYPE svg PUBLIC \"-//W3C//DTD SVG 1.1//EN\"\n \"http://www.w3.org/Graphics/SVG/1.1/DTD/svg11.dtd\">\n<!-- Generated by graphviz version 2.44.1 (20200629.0846)\n -->\n<!-- Pages: 1 -->\n<svg width=\"116pt\" height=\"288pt\"\n viewBox=\"0.00 0.00 115.83 288.00\" xmlns=\"http://www.w3.org/2000/svg\" xmlns:xlink=\"http://www.w3.org/1999/xlink\">\n<g id=\"graph0\" class=\"graph\" transform=\"scale(0.63 0.63) rotate(0) translate(4 451)\">\n<polygon fill=\"white\" stroke=\"transparent\" points=\"-4,4 -4,-451 179,-451 179,4 -4,4\"/>\n<!-- 0 -->\n<g id=\"node1\" class=\"node\">\n<title>0</title>\n<text text-anchor=\"middle\" x=\"75\" y=\"-435.8\" font-family=\"Times,serif\" font-size=\"14.00\">l</text>\n</g>\n<!-- 1 -->\n<g id=\"node2\" class=\"node\">\n<title>1</title>\n<text text-anchor=\"middle\" x=\"51\" y=\"-374.3\" font-family=\"Times,serif\" font-size=\"14.00\">s</text>\n</g>\n<!-- 0&#45;&#45;1 -->\n<g id=\"edge1\" class=\"edge\">\n<title>0&#45;&#45;1</title>\n<path fill=\"none\" stroke=\"black\" d=\"M72.95,-433.43C68.65,-422.75 58.64,-397.94 53.77,-385.86\"/>\n</g>\n<!-- 12 -->\n<g id=\"node13\" class=\"node\">\n<title>12</title>\n</g>\n<!-- 0&#45;&#45;12 -->\n<g id=\"edge12\" class=\"edge\">\n<title>0&#45;&#45;12</title>\n<path fill=\"none\" stroke=\"lightgreen\" d=\"M77.05,-433.43C80.33,-425.28 86.94,-408.9 92.05,-396.23\"/>\n</g>\n<!-- 2 -->\n<g id=\"node3\" class=\"node\">\n<title>2</title>\n</g>\n<!-- 1&#45;&#45;2 -->\n<g id=\"edge2\" class=\"edge\">\n<title>1&#45;&#45;2</title>\n<path fill=\"none\" stroke=\"lightgreen\" d=\"M48.7,-370.29C45.09,-359.75 37.97,-338.99 32.87,-324.12\"/>\n</g>\n<!-- 3 -->\n<g id=\"node4\" class=\"node\">\n<title>3</title>\n<text text-anchor=\"middle\" x=\"75\" y=\"-302.3\" font-family=\"Times,serif\" font-size=\"14.00\">s</text>\n</g>\n<!-- 1&#45;&#45;3 -->\n<g id=\"edge3\" class=\"edge\">\n<title>1&#45;&#45;3</title>\n<path fill=\"none\" stroke=\"black\" d=\"M53.3,-370.29C57.9,-356.87 68.18,-326.9 72.74,-313.59\"/>\n</g>\n<!-- 4 -->\n<g id=\"node5\" class=\"node\">\n<title>4</title>\n</g>\n<!-- 3&#45;&#45;4 -->\n<g id=\"edge4\" class=\"edge\">\n<title>3&#45;&#45;4</title>\n<path fill=\"none\" stroke=\"lightgreen\" d=\"M72.7,-298.29C69.09,-287.75 61.97,-266.99 56.87,-252.12\"/>\n</g>\n<!-- 5 -->\n<g id=\"node6\" class=\"node\">\n<title>5</title>\n<text text-anchor=\"middle\" x=\"99\" y=\"-230.3\" font-family=\"Times,serif\" font-size=\"14.00\">s</text>\n</g>\n<!-- 3&#45;&#45;5 -->\n<g id=\"edge5\" class=\"edge\">\n<title>3&#45;&#45;5</title>\n<path fill=\"none\" stroke=\"black\" d=\"M77.3,-298.29C81.9,-284.87 92.18,-254.9 96.74,-241.59\"/>\n</g>\n<!-- 6 -->\n<g id=\"node7\" class=\"node\">\n<title>6</title>\n</g>\n<!-- 5&#45;&#45;6 -->\n<g id=\"edge6\" class=\"edge\">\n<title>5&#45;&#45;6</title>\n<path fill=\"none\" stroke=\"lightgreen\" d=\"M96.79,-226.29C93.33,-215.75 86.51,-194.99 81.62,-180.12\"/>\n</g>\n<!-- 7 -->\n<g id=\"node8\" class=\"node\">\n<title>7</title>\n<text text-anchor=\"middle\" x=\"123\" y=\"-158.3\" font-family=\"Times,serif\" font-size=\"14.00\">l</text>\n</g>\n<!-- 5&#45;&#45;7 -->\n<g id=\"edge7\" class=\"edge\">\n<title>5&#45;&#45;7</title>\n<path fill=\"none\" stroke=\"black\" d=\"M101.3,-226.29C105.95,-212.74 116.39,-182.29 120.88,-169.19\"/>\n</g>\n<!-- 8 -->\n<g id=\"node9\" class=\"node\">\n<title>8</title>\n<text text-anchor=\"middle\" x=\"99\" y=\"-86.3\" font-family=\"Times,serif\" font-size=\"14.00\">o</text>\n</g>\n<!-- 7&#45;&#45;8 -->\n<g id=\"edge8\" class=\"edge\">\n<title>7&#45;&#45;8</title>\n<path fill=\"none\" stroke=\"black\" d=\"M120.95,-155.03C116.51,-142.07 106,-111.42 101.32,-97.77\"/>\n</g>\n<!-- 11 -->\n<g id=\"node12\" class=\"node\">\n<title>11</title>\n</g>\n<!-- 7&#45;&#45;11 -->\n<g id=\"edge11\" class=\"edge\">\n<title>7&#45;&#45;11</title>\n<path fill=\"none\" stroke=\"lightgreen\" d=\"M125.13,-155.03C128.79,-144.78 136.4,-123.47 141.84,-108.25\"/>\n</g>\n<!-- 9 -->\n<g id=\"node10\" class=\"node\">\n<title>9</title>\n</g>\n<!-- 8&#45;&#45;9 -->\n<g id=\"edge9\" class=\"edge\">\n<title>8&#45;&#45;9</title>\n<path fill=\"none\" stroke=\"lightgreen\" d=\"M95.55,-82.29C90.13,-71.75 79.45,-50.99 71.8,-36.12\"/>\n</g>\n<!-- 10 -->\n<g id=\"node11\" class=\"node\">\n<title>10</title>\n<text text-anchor=\"middle\" x=\"135\" y=\"-14.3\" font-family=\"Times,serif\" font-size=\"14.00\">*</text>\n</g>\n<!-- 8&#45;&#45;10 -->\n<g id=\"edge10\" class=\"edge\">\n<title>8&#45;&#45;10</title>\n<path fill=\"none\" stroke=\"lightgreen\" d=\"M102.45,-82.29C107.87,-71.75 118.55,-50.99 126.2,-36.12\"/>\n</g>\n</g>\n</svg>\n</div></td><td style=\"border-top:hidden;border-bottom:hidden;\"><div align=\"center\" style=\"\"><?xml version=\"1.0\" encoding=\"UTF-8\" standalone=\"no\"?>\n<!DOCTYPE svg PUBLIC \"-//W3C//DTD SVG 1.1//EN\"\n \"http://www.w3.org/Graphics/SVG/1.1/DTD/svg11.dtd\">\n<!-- Generated by graphviz version 2.44.1 (20200629.0846)\n -->\n<!-- Pages: 1 -->\n<svg width=\"146pt\" height=\"288pt\"\n viewBox=\"0.00 0.00 145.88 288.00\" xmlns=\"http://www.w3.org/2000/svg\" xmlns:xlink=\"http://www.w3.org/1999/xlink\">\n<g id=\"graph0\" class=\"graph\" transform=\"scale(0.75 0.75) rotate(0) translate(4 379)\">\n<polygon fill=\"white\" stroke=\"transparent\" points=\"-4,4 -4,-379 190,-379 190,4 -4,4\"/>\n<!-- 0 -->\n<g id=\"node1\" class=\"node\">\n<title>0</title>\n<text text-anchor=\"middle\" x=\"75\" y=\"-363.8\" font-family=\"Times,serif\" font-size=\"14.00\">l</text>\n</g>\n<!-- 1 -->\n<g id=\"node2\" class=\"node\">\n<title>1</title>\n<text text-anchor=\"middle\" x=\"51\" y=\"-302.3\" font-family=\"Times,serif\" font-size=\"14.00\">s</text>\n</g>\n<!-- 0&#45;&#45;1 -->\n<g id=\"edge1\" class=\"edge\">\n<title>0&#45;&#45;1</title>\n<path fill=\"none\" stroke=\"black\" d=\"M72.95,-361.43C68.65,-350.75 58.64,-325.94 53.77,-313.86\"/>\n</g>\n<!-- 10 -->\n<g id=\"node11\" class=\"node\">\n<title>10</title>\n</g>\n<!-- 0&#45;&#45;10 -->\n<g id=\"edge10\" class=\"edge\">\n<title>0&#45;&#45;10</title>\n<path fill=\"none\" stroke=\"lightgreen\" d=\"M77.05,-361.43C80.33,-353.28 86.94,-336.9 92.05,-324.23\"/>\n</g>\n<!-- 2 -->\n<g id=\"node3\" class=\"node\">\n<title>2</title>\n</g>\n<!-- 1&#45;&#45;2 -->\n<g id=\"edge2\" class=\"edge\">\n<title>1&#45;&#45;2</title>\n<path fill=\"none\" stroke=\"lightgreen\" d=\"M48.7,-298.29C45.09,-287.75 37.97,-266.99 32.87,-252.12\"/>\n</g>\n<!-- 3 -->\n<g id=\"node4\" class=\"node\">\n<title>3</title>\n<text text-anchor=\"middle\" x=\"75\" y=\"-230.3\" font-family=\"Times,serif\" font-size=\"14.00\">s</text>\n</g>\n<!-- 1&#45;&#45;3 -->\n<g id=\"edge3\" class=\"edge\">\n<title>1&#45;&#45;3</title>\n<path fill=\"none\" stroke=\"black\" d=\"M53.3,-298.29C57.9,-284.87 68.18,-254.9 72.74,-241.59\"/>\n</g>\n<!-- 4 -->\n<g id=\"node5\" class=\"node\">\n<title>4</title>\n</g>\n<!-- 3&#45;&#45;4 -->\n<g id=\"edge4\" class=\"edge\">\n<title>3&#45;&#45;4</title>\n<path fill=\"none\" stroke=\"lightgreen\" d=\"M72.7,-226.29C69.09,-215.75 61.97,-194.99 56.87,-180.12\"/>\n</g>\n<!-- 5 -->\n<g id=\"node6\" class=\"node\">\n<title>5</title>\n<text text-anchor=\"middle\" x=\"99\" y=\"-158.3\" font-family=\"Times,serif\" font-size=\"14.00\">s</text>\n</g>\n<!-- 3&#45;&#45;5 -->\n<g id=\"edge5\" class=\"edge\">\n<title>3&#45;&#45;5</title>\n<path fill=\"none\" stroke=\"black\" d=\"M77.3,-226.29C81.9,-212.87 92.18,-182.9 96.74,-169.59\"/>\n</g>\n<!-- 6 -->\n<g id=\"node7\" class=\"node\">\n<title>6</title>\n</g>\n<!-- 5&#45;&#45;6 -->\n<g id=\"edge6\" class=\"edge\">\n<title>5&#45;&#45;6</title>\n<path fill=\"none\" stroke=\"lightgreen\" d=\"M96.6,-154.29C92.84,-143.75 85.42,-122.99 80.11,-108.12\"/>\n</g>\n<!-- 7 -->\n<g id=\"node8\" class=\"node\">\n<title>7</title>\n<text text-anchor=\"middle\" x=\"123\" y=\"-86.3\" font-family=\"Times,serif\" font-size=\"14.00\">o</text>\n</g>\n<!-- 5&#45;&#45;7 -->\n<g id=\"edge7\" class=\"edge\">\n<title>5&#45;&#45;7</title>\n<path fill=\"none\" stroke=\"black\" d=\"M101.3,-154.29C105.9,-140.87 116.18,-110.9 120.74,-97.59\"/>\n</g>\n<!-- 8 -->\n<g id=\"node9\" class=\"node\">\n<title>8</title>\n</g>\n<!-- 7&#45;&#45;8 -->\n<g id=\"edge8\" class=\"edge\">\n<title>7&#45;&#45;8</title>\n<path fill=\"none\" stroke=\"lightgreen\" d=\"M119.55,-82.29C114.13,-71.75 103.45,-50.99 95.8,-36.12\"/>\n</g>\n<!-- 9 -->\n<g id=\"node10\" class=\"node\">\n<title>9</title>\n</g>\n<!-- 7&#45;&#45;9 -->\n<g id=\"edge9\" class=\"edge\">\n<title>7&#45;&#45;9</title>\n<path fill=\"none\" stroke=\"lightgreen\" d=\"M126.45,-82.29C131.87,-71.75 142.55,-50.99 150.2,-36.12\"/>\n</g>\n</g>\n</svg>\n</div></td></tr></table>"
     },
     "metadata": {},
     "output_type": "display_data"
    },
    {
     "data": {
      "text/plain": "<IPython.core.display.HTML object>",
      "text/html": "<table style=\"border-style: hidden; border-collapse: collapse;\" width=\"100%\"><tr><td style=\"border-top:hidden;border-bottom:hidden;\"><div align=\"center\" style=\"\"><?xml version=\"1.0\" encoding=\"UTF-8\" standalone=\"no\"?>\n<!DOCTYPE svg PUBLIC \"-//W3C//DTD SVG 1.1//EN\"\n \"http://www.w3.org/Graphics/SVG/1.1/DTD/svg11.dtd\">\n<!-- Generated by graphviz version 2.44.1 (20200629.0846)\n -->\n<!-- Pages: 1 -->\n<svg width=\"131pt\" height=\"288pt\"\n viewBox=\"0.00 0.00 131.02 288.00\" xmlns=\"http://www.w3.org/2000/svg\" xmlns:xlink=\"http://www.w3.org/1999/xlink\">\n<g id=\"graph0\" class=\"graph\" transform=\"scale(0.63 0.63) rotate(0) translate(4 451)\">\n<polygon fill=\"white\" stroke=\"transparent\" points=\"-4,4 -4,-451 203,-451 203,4 -4,4\"/>\n<!-- 0 -->\n<g id=\"node1\" class=\"node\">\n<title>0</title>\n<text text-anchor=\"middle\" x=\"51\" y=\"-435.8\" font-family=\"Times,serif\" font-size=\"14.00\">s</text>\n</g>\n<!-- 1 -->\n<g id=\"node2\" class=\"node\">\n<title>1</title>\n</g>\n<!-- 0&#45;&#45;1 -->\n<g id=\"edge1\" class=\"edge\">\n<title>0&#45;&#45;1</title>\n<path fill=\"none\" stroke=\"lightgreen\" d=\"M48.25,-431.67C44.77,-423.07 38.68,-407.96 33.91,-396.13\"/>\n</g>\n<!-- 2 -->\n<g id=\"node3\" class=\"node\">\n<title>2</title>\n<text text-anchor=\"middle\" x=\"75\" y=\"-374.3\" font-family=\"Times,serif\" font-size=\"14.00\">s</text>\n</g>\n<!-- 0&#45;&#45;2 -->\n<g id=\"edge2\" class=\"edge\">\n<title>0&#45;&#45;2</title>\n<path fill=\"none\" stroke=\"black\" d=\"M53.75,-431.67C58.38,-420.2 67.67,-397.17 72.28,-385.75\"/>\n</g>\n<!-- 3 -->\n<g id=\"node4\" class=\"node\">\n<title>3</title>\n</g>\n<!-- 2&#45;&#45;3 -->\n<g id=\"edge3\" class=\"edge\">\n<title>2&#45;&#45;3</title>\n<path fill=\"none\" stroke=\"lightgreen\" d=\"M72.7,-370.29C69.09,-359.75 61.97,-338.99 56.87,-324.12\"/>\n</g>\n<!-- 4 -->\n<g id=\"node5\" class=\"node\">\n<title>4</title>\n<text text-anchor=\"middle\" x=\"99\" y=\"-302.3\" font-family=\"Times,serif\" font-size=\"14.00\">s</text>\n</g>\n<!-- 2&#45;&#45;4 -->\n<g id=\"edge4\" class=\"edge\">\n<title>2&#45;&#45;4</title>\n<path fill=\"none\" stroke=\"black\" d=\"M77.3,-370.29C81.9,-356.87 92.18,-326.9 96.74,-313.59\"/>\n</g>\n<!-- 5 -->\n<g id=\"node6\" class=\"node\">\n<title>5</title>\n</g>\n<!-- 4&#45;&#45;5 -->\n<g id=\"edge5\" class=\"edge\">\n<title>4&#45;&#45;5</title>\n<path fill=\"none\" stroke=\"lightgreen\" d=\"M96.7,-298.29C93.09,-287.75 85.97,-266.99 80.87,-252.12\"/>\n</g>\n<!-- 6 -->\n<g id=\"node7\" class=\"node\">\n<title>6</title>\n<text text-anchor=\"middle\" x=\"123\" y=\"-230.3\" font-family=\"Times,serif\" font-size=\"14.00\">s</text>\n</g>\n<!-- 4&#45;&#45;6 -->\n<g id=\"edge6\" class=\"edge\">\n<title>4&#45;&#45;6</title>\n<path fill=\"none\" stroke=\"black\" d=\"M101.3,-298.29C105.9,-284.87 116.18,-254.9 120.74,-241.59\"/>\n</g>\n<!-- 7 -->\n<g id=\"node8\" class=\"node\">\n<title>7</title>\n</g>\n<!-- 6&#45;&#45;7 -->\n<g id=\"edge7\" class=\"edge\">\n<title>6&#45;&#45;7</title>\n<path fill=\"none\" stroke=\"lightgreen\" d=\"M120.79,-226.29C117.33,-215.75 110.51,-194.99 105.62,-180.12\"/>\n</g>\n<!-- 8 -->\n<g id=\"node9\" class=\"node\">\n<title>8</title>\n<text text-anchor=\"middle\" x=\"147\" y=\"-158.3\" font-family=\"Times,serif\" font-size=\"14.00\">l</text>\n</g>\n<!-- 6&#45;&#45;8 -->\n<g id=\"edge8\" class=\"edge\">\n<title>6&#45;&#45;8</title>\n<path fill=\"none\" stroke=\"black\" d=\"M125.3,-226.29C129.95,-212.74 140.39,-182.29 144.88,-169.19\"/>\n</g>\n<!-- 9 -->\n<g id=\"node10\" class=\"node\">\n<title>9</title>\n<text text-anchor=\"middle\" x=\"123\" y=\"-86.3\" font-family=\"Times,serif\" font-size=\"14.00\">o</text>\n</g>\n<!-- 8&#45;&#45;9 -->\n<g id=\"edge9\" class=\"edge\">\n<title>8&#45;&#45;9</title>\n<path fill=\"none\" stroke=\"black\" d=\"M144.95,-155.03C140.51,-142.07 130,-111.42 125.32,-97.77\"/>\n</g>\n<!-- 12 -->\n<g id=\"node13\" class=\"node\">\n<title>12</title>\n</g>\n<!-- 8&#45;&#45;12 -->\n<g id=\"edge12\" class=\"edge\">\n<title>8&#45;&#45;12</title>\n<path fill=\"none\" stroke=\"lightgreen\" d=\"M149.13,-155.03C152.79,-144.78 160.4,-123.47 165.84,-108.25\"/>\n</g>\n<!-- 10 -->\n<g id=\"node11\" class=\"node\">\n<title>10</title>\n</g>\n<!-- 9&#45;&#45;10 -->\n<g id=\"edge10\" class=\"edge\">\n<title>9&#45;&#45;10</title>\n<path fill=\"none\" stroke=\"lightgreen\" d=\"M119.55,-82.29C114.13,-71.75 103.45,-50.99 95.8,-36.12\"/>\n</g>\n<!-- 11 -->\n<g id=\"node12\" class=\"node\">\n<title>11</title>\n<text text-anchor=\"middle\" x=\"159\" y=\"-14.3\" font-family=\"Times,serif\" font-size=\"14.00\">*</text>\n</g>\n<!-- 9&#45;&#45;11 -->\n<g id=\"edge11\" class=\"edge\">\n<title>9&#45;&#45;11</title>\n<path fill=\"none\" stroke=\"lightgreen\" d=\"M126.45,-82.29C131.87,-71.75 142.55,-50.99 150.2,-36.12\"/>\n</g>\n</g>\n</svg>\n</div></td><td style=\"border-top:hidden;border-bottom:hidden;\"><div align=\"center\" style=\"\"><?xml version=\"1.0\" encoding=\"UTF-8\" standalone=\"no\"?>\n<!DOCTYPE svg PUBLIC \"-//W3C//DTD SVG 1.1//EN\"\n \"http://www.w3.org/Graphics/SVG/1.1/DTD/svg11.dtd\">\n<!-- Generated by graphviz version 2.44.1 (20200629.0846)\n -->\n<!-- Pages: 1 -->\n<svg width=\"164pt\" height=\"288pt\"\n viewBox=\"0.00 0.00 163.93 288.00\" xmlns=\"http://www.w3.org/2000/svg\" xmlns:xlink=\"http://www.w3.org/1999/xlink\">\n<g id=\"graph0\" class=\"graph\" transform=\"scale(0.75 0.75) rotate(0) translate(4 379)\">\n<polygon fill=\"white\" stroke=\"transparent\" points=\"-4,4 -4,-379 214,-379 214,4 -4,4\"/>\n<!-- 0 -->\n<g id=\"node1\" class=\"node\">\n<title>0</title>\n<text text-anchor=\"middle\" x=\"51\" y=\"-363.8\" font-family=\"Times,serif\" font-size=\"14.00\">s</text>\n</g>\n<!-- 1 -->\n<g id=\"node2\" class=\"node\">\n<title>1</title>\n</g>\n<!-- 0&#45;&#45;1 -->\n<g id=\"edge1\" class=\"edge\">\n<title>0&#45;&#45;1</title>\n<path fill=\"none\" stroke=\"lightgreen\" d=\"M48.25,-359.67C44.77,-351.07 38.68,-335.96 33.91,-324.13\"/>\n</g>\n<!-- 2 -->\n<g id=\"node3\" class=\"node\">\n<title>2</title>\n<text text-anchor=\"middle\" x=\"75\" y=\"-302.3\" font-family=\"Times,serif\" font-size=\"14.00\">s</text>\n</g>\n<!-- 0&#45;&#45;2 -->\n<g id=\"edge2\" class=\"edge\">\n<title>0&#45;&#45;2</title>\n<path fill=\"none\" stroke=\"black\" d=\"M53.75,-359.67C58.38,-348.2 67.67,-325.17 72.28,-313.75\"/>\n</g>\n<!-- 3 -->\n<g id=\"node4\" class=\"node\">\n<title>3</title>\n</g>\n<!-- 2&#45;&#45;3 -->\n<g id=\"edge3\" class=\"edge\">\n<title>2&#45;&#45;3</title>\n<path fill=\"none\" stroke=\"lightgreen\" d=\"M72.7,-298.29C69.09,-287.75 61.97,-266.99 56.87,-252.12\"/>\n</g>\n<!-- 4 -->\n<g id=\"node5\" class=\"node\">\n<title>4</title>\n<text text-anchor=\"middle\" x=\"99\" y=\"-230.3\" font-family=\"Times,serif\" font-size=\"14.00\">s</text>\n</g>\n<!-- 2&#45;&#45;4 -->\n<g id=\"edge4\" class=\"edge\">\n<title>2&#45;&#45;4</title>\n<path fill=\"none\" stroke=\"black\" d=\"M77.3,-298.29C81.9,-284.87 92.18,-254.9 96.74,-241.59\"/>\n</g>\n<!-- 5 -->\n<g id=\"node6\" class=\"node\">\n<title>5</title>\n</g>\n<!-- 4&#45;&#45;5 -->\n<g id=\"edge5\" class=\"edge\">\n<title>4&#45;&#45;5</title>\n<path fill=\"none\" stroke=\"lightgreen\" d=\"M96.7,-226.29C93.09,-215.75 85.97,-194.99 80.87,-180.12\"/>\n</g>\n<!-- 6 -->\n<g id=\"node7\" class=\"node\">\n<title>6</title>\n<text text-anchor=\"middle\" x=\"123\" y=\"-158.3\" font-family=\"Times,serif\" font-size=\"14.00\">s</text>\n</g>\n<!-- 4&#45;&#45;6 -->\n<g id=\"edge6\" class=\"edge\">\n<title>4&#45;&#45;6</title>\n<path fill=\"none\" stroke=\"black\" d=\"M101.3,-226.29C105.9,-212.87 116.18,-182.9 120.74,-169.59\"/>\n</g>\n<!-- 7 -->\n<g id=\"node8\" class=\"node\">\n<title>7</title>\n</g>\n<!-- 6&#45;&#45;7 -->\n<g id=\"edge7\" class=\"edge\">\n<title>6&#45;&#45;7</title>\n<path fill=\"none\" stroke=\"lightgreen\" d=\"M120.6,-154.29C116.84,-143.75 109.42,-122.99 104.11,-108.12\"/>\n</g>\n<!-- 8 -->\n<g id=\"node9\" class=\"node\">\n<title>8</title>\n<text text-anchor=\"middle\" x=\"147\" y=\"-86.3\" font-family=\"Times,serif\" font-size=\"14.00\">o</text>\n</g>\n<!-- 6&#45;&#45;8 -->\n<g id=\"edge8\" class=\"edge\">\n<title>6&#45;&#45;8</title>\n<path fill=\"none\" stroke=\"black\" d=\"M125.3,-154.29C129.9,-140.87 140.18,-110.9 144.74,-97.59\"/>\n</g>\n<!-- 9 -->\n<g id=\"node10\" class=\"node\">\n<title>9</title>\n</g>\n<!-- 8&#45;&#45;9 -->\n<g id=\"edge9\" class=\"edge\">\n<title>8&#45;&#45;9</title>\n<path fill=\"none\" stroke=\"lightgreen\" d=\"M143.55,-82.29C138.13,-71.75 127.45,-50.99 119.8,-36.12\"/>\n</g>\n<!-- 10 -->\n<g id=\"node11\" class=\"node\">\n<title>10</title>\n</g>\n<!-- 8&#45;&#45;10 -->\n<g id=\"edge10\" class=\"edge\">\n<title>8&#45;&#45;10</title>\n<path fill=\"none\" stroke=\"lightgreen\" d=\"M150.45,-82.29C155.87,-71.75 166.55,-50.99 174.2,-36.12\"/>\n</g>\n</g>\n</svg>\n</div></td></tr></table>"
     },
     "metadata": {},
     "output_type": "display_data"
    }
   ],
   "source": [
    "display_diff_class(3, 2)"
   ],
   "metadata": {
    "collapsed": false,
    "pycharm": {
     "name": "#%%\n"
    }
   }
  },
  {
   "cell_type": "code",
   "execution_count": 342,
   "outputs": [
    {
     "data": {
      "text/plain": "<IPython.core.display.HTML object>",
      "text/html": "<table style=\"border-style: hidden; border-collapse: collapse;\" width=\"100%\"><tr><td style=\"border-top:hidden;border-bottom:hidden;\"><div align=\"center\" style=\"\"><?xml version=\"1.0\" encoding=\"UTF-8\" standalone=\"no\"?>\n<!DOCTYPE svg PUBLIC \"-//W3C//DTD SVG 1.1//EN\"\n \"http://www.w3.org/Graphics/SVG/1.1/DTD/svg11.dtd\">\n<!-- Generated by graphviz version 2.44.1 (20200629.0846)\n -->\n<!-- Pages: 1 -->\n<svg width=\"220pt\" height=\"288pt\"\n viewBox=\"0.00 0.00 219.58 288.00\" xmlns=\"http://www.w3.org/2000/svg\" xmlns:xlink=\"http://www.w3.org/1999/xlink\">\n<g id=\"graph0\" class=\"graph\" transform=\"scale(0.8 0.8) rotate(0) translate(4 358)\">\n<polygon fill=\"white\" stroke=\"transparent\" points=\"-4,4 -4,-358 272,-358 272,4 -4,4\"/>\n<!-- 0 -->\n<g id=\"node1\" class=\"node\">\n<title>0</title>\n<text text-anchor=\"middle\" x=\"135\" y=\"-342.8\" font-family=\"Times,serif\" font-size=\"14.00\">a</text>\n</g>\n<!-- 1 -->\n<g id=\"node2\" class=\"node\">\n<title>1</title>\n<text text-anchor=\"middle\" x=\"99\" y=\"-291.8\" font-family=\"Times,serif\" font-size=\"14.00\">o</text>\n</g>\n<!-- 0&#45;&#45;1 -->\n<g id=\"edge1\" class=\"edge\">\n<title>0&#45;&#45;1</title>\n<path fill=\"none\" stroke=\"black\" d=\"M131.42,-340.62C124.52,-331.23 109.46,-310.73 102.57,-301.36\"/>\n</g>\n<!-- 4 -->\n<g id=\"node5\" class=\"node\">\n<title>4</title>\n<text text-anchor=\"middle\" x=\"171\" y=\"-291.8\" font-family=\"Times,serif\" font-size=\"14.00\">s</text>\n</g>\n<!-- 0&#45;&#45;4 -->\n<g id=\"edge4\" class=\"edge\">\n<title>0&#45;&#45;4</title>\n<path fill=\"none\" stroke=\"black\" d=\"M138.58,-340.62C145.63,-331.04 161.17,-309.88 167.85,-300.79\"/>\n</g>\n<!-- 2 -->\n<g id=\"node3\" class=\"node\">\n<title>2</title>\n</g>\n<!-- 1&#45;&#45;2 -->\n<g id=\"edge2\" class=\"edge\">\n<title>1&#45;&#45;2</title>\n<path fill=\"none\" stroke=\"lightgreen\" d=\"M95.13,-291.3C86.37,-284.06 64.48,-265.97 47.86,-252.24\"/>\n</g>\n<!-- 3 -->\n<g id=\"node4\" class=\"node\">\n<title>3</title>\n</g>\n<!-- 1&#45;&#45;3 -->\n<g id=\"edge3\" class=\"edge\">\n<title>1&#45;&#45;3</title>\n<path fill=\"none\" stroke=\"lightgreen\" d=\"M99,-287.67C99,-279.07 99,-263.96 99,-252.13\"/>\n</g>\n<!-- 5 -->\n<g id=\"node6\" class=\"node\">\n<title>5</title>\n</g>\n<!-- 4&#45;&#45;5 -->\n<g id=\"edge5\" class=\"edge\">\n<title>4&#45;&#45;5</title>\n<path fill=\"none\" stroke=\"lightgreen\" d=\"M171,-287.67C171,-279.07 171,-263.96 171,-252.13\"/>\n</g>\n<!-- 6 -->\n<g id=\"node7\" class=\"node\">\n<title>6</title>\n<text text-anchor=\"middle\" x=\"218\" y=\"-230.3\" font-family=\"Times,serif\" font-size=\"14.00\">l</text>\n</g>\n<!-- 4&#45;&#45;6 -->\n<g id=\"edge6\" class=\"edge\">\n<title>4&#45;&#45;6</title>\n<path fill=\"none\" stroke=\"black\" d=\"M174.14,-291.1C180.6,-284.05 195.7,-267.22 207,-252 210.35,-247.48 213.81,-241.97 215.93,-238.47\"/>\n</g>\n<!-- 7 -->\n<g id=\"node8\" class=\"node\">\n<title>7</title>\n<text text-anchor=\"middle\" x=\"194\" y=\"-158.3\" font-family=\"Times,serif\" font-size=\"14.00\">l</text>\n</g>\n<!-- 6&#45;&#45;7 -->\n<g id=\"edge7\" class=\"edge\">\n<title>6&#45;&#45;7</title>\n<path fill=\"none\" stroke=\"black\" d=\"M215.95,-227.03C211.42,-213.81 200.57,-182.16 196.04,-168.95\"/>\n</g>\n<!-- 12 -->\n<g id=\"node13\" class=\"node\">\n<title>12</title>\n</g>\n<!-- 6&#45;&#45;12 -->\n<g id=\"edge12\" class=\"edge\">\n<title>6&#45;&#45;12</title>\n<path fill=\"none\" stroke=\"lightgreen\" d=\"M220.12,-226.54C223.55,-216.12 230.41,-195.24 235.33,-180.26\"/>\n</g>\n<!-- 8 -->\n<g id=\"node9\" class=\"node\">\n<title>8</title>\n<text text-anchor=\"middle\" x=\"170\" y=\"-86.3\" font-family=\"Times,serif\" font-size=\"14.00\">o</text>\n</g>\n<!-- 7&#45;&#45;8 -->\n<g id=\"edge8\" class=\"edge\">\n<title>7&#45;&#45;8</title>\n<path fill=\"none\" stroke=\"black\" d=\"M191.95,-155.03C187.51,-142.07 177,-111.42 172.32,-97.77\"/>\n</g>\n<!-- 11 -->\n<g id=\"node12\" class=\"node\">\n<title>11</title>\n<text text-anchor=\"middle\" x=\"219\" y=\"-86.3\" font-family=\"Times,serif\" font-size=\"14.00\">*</text>\n</g>\n<!-- 7&#45;&#45;11 -->\n<g id=\"edge11\" class=\"edge\">\n<title>7&#45;&#45;11</title>\n<path fill=\"none\" stroke=\"lightgreen\" d=\"M196.13,-155.03C199.79,-144.78 207.4,-123.47 212.84,-108.25\"/>\n</g>\n<!-- 9 -->\n<g id=\"node10\" class=\"node\">\n<title>9</title>\n</g>\n<!-- 8&#45;&#45;9 -->\n<g id=\"edge9\" class=\"edge\">\n<title>8&#45;&#45;9</title>\n<path fill=\"none\" stroke=\"lightgreen\" d=\"M166.55,-82.29C161.13,-71.75 150.45,-50.99 142.8,-36.12\"/>\n</g>\n<!-- 10 -->\n<g id=\"node11\" class=\"node\">\n<title>10</title>\n</g>\n<!-- 8&#45;&#45;10 -->\n<g id=\"edge10\" class=\"edge\">\n<title>8&#45;&#45;10</title>\n<path fill=\"none\" stroke=\"lightgreen\" d=\"M173.45,-82.29C178.87,-71.75 189.55,-50.99 197.2,-36.12\"/>\n</g>\n</g>\n</svg>\n</div></td><td style=\"border-top:hidden;border-bottom:hidden;\"><div align=\"center\" style=\"\"><?xml version=\"1.0\" encoding=\"UTF-8\" standalone=\"no\"?>\n<!DOCTYPE svg PUBLIC \"-//W3C//DTD SVG 1.1//EN\"\n \"http://www.w3.org/Graphics/SVG/1.1/DTD/svg11.dtd\">\n<!-- Generated by graphviz version 2.44.1 (20200629.0846)\n -->\n<!-- Pages: 1 -->\n<svg width=\"288pt\" height=\"216pt\"\n viewBox=\"0.00 0.00 288.00 215.75\" xmlns=\"http://www.w3.org/2000/svg\" xmlns:xlink=\"http://www.w3.org/1999/xlink\">\n<g id=\"graph0\" class=\"graph\" transform=\"scale(0.99 0.99) rotate(0) translate(4 214)\">\n<polygon fill=\"white\" stroke=\"transparent\" points=\"-4,4 -4,-214 287,-214 287,4 -4,4\"/>\n<!-- 0 -->\n<g id=\"node1\" class=\"node\">\n<title>0</title>\n<text text-anchor=\"middle\" x=\"135\" y=\"-198.8\" font-family=\"Times,serif\" font-size=\"14.00\">a</text>\n</g>\n<!-- 1 -->\n<g id=\"node2\" class=\"node\">\n<title>1</title>\n<text text-anchor=\"middle\" x=\"99\" y=\"-147.8\" font-family=\"Times,serif\" font-size=\"14.00\">o</text>\n</g>\n<!-- 0&#45;&#45;1 -->\n<g id=\"edge1\" class=\"edge\">\n<title>0&#45;&#45;1</title>\n<path fill=\"none\" stroke=\"black\" d=\"M131.42,-196.62C124.52,-187.23 109.46,-166.73 102.57,-157.36\"/>\n</g>\n<!-- 4 -->\n<g id=\"node5\" class=\"node\">\n<title>4</title>\n<text text-anchor=\"middle\" x=\"171\" y=\"-147.8\" font-family=\"Times,serif\" font-size=\"14.00\">s</text>\n</g>\n<!-- 0&#45;&#45;4 -->\n<g id=\"edge4\" class=\"edge\">\n<title>0&#45;&#45;4</title>\n<path fill=\"none\" stroke=\"black\" d=\"M138.58,-196.62C145.63,-187.04 161.17,-165.88 167.85,-156.79\"/>\n</g>\n<!-- 2 -->\n<g id=\"node3\" class=\"node\">\n<title>2</title>\n</g>\n<!-- 1&#45;&#45;2 -->\n<g id=\"edge2\" class=\"edge\">\n<title>1&#45;&#45;2</title>\n<path fill=\"none\" stroke=\"lightgreen\" d=\"M95.13,-147.3C86.37,-140.06 64.48,-121.97 47.86,-108.24\"/>\n</g>\n<!-- 3 -->\n<g id=\"node4\" class=\"node\">\n<title>3</title>\n</g>\n<!-- 1&#45;&#45;3 -->\n<g id=\"edge3\" class=\"edge\">\n<title>1&#45;&#45;3</title>\n<path fill=\"none\" stroke=\"lightgreen\" d=\"M99,-143.67C99,-135.07 99,-119.96 99,-108.13\"/>\n</g>\n<!-- 5 -->\n<g id=\"node6\" class=\"node\">\n<title>5</title>\n</g>\n<!-- 4&#45;&#45;5 -->\n<g id=\"edge5\" class=\"edge\">\n<title>4&#45;&#45;5</title>\n<path fill=\"none\" stroke=\"lightgreen\" d=\"M171,-143.67C171,-135.07 171,-119.96 171,-108.13\"/>\n</g>\n<!-- 6 -->\n<g id=\"node7\" class=\"node\">\n<title>6</title>\n<text text-anchor=\"middle\" x=\"220\" y=\"-86.3\" font-family=\"Times,serif\" font-size=\"14.00\">o</text>\n</g>\n<!-- 4&#45;&#45;6 -->\n<g id=\"edge6\" class=\"edge\">\n<title>4&#45;&#45;6</title>\n<path fill=\"none\" stroke=\"black\" d=\"M174.05,-147.02C180.33,-139.83 195.11,-122.76 207,-108 210.26,-103.95 213.84,-99.24 216.42,-95.81\"/>\n</g>\n<!-- 7 -->\n<g id=\"node8\" class=\"node\">\n<title>7</title>\n</g>\n<!-- 6&#45;&#45;7 -->\n<g id=\"edge7\" class=\"edge\">\n<title>6&#45;&#45;7</title>\n<path fill=\"none\" stroke=\"lightgreen\" d=\"M216.55,-82.29C211.13,-71.75 200.45,-50.99 192.8,-36.12\"/>\n</g>\n<!-- 8 -->\n<g id=\"node9\" class=\"node\">\n<title>8</title>\n</g>\n<!-- 6&#45;&#45;8 -->\n<g id=\"edge8\" class=\"edge\">\n<title>6&#45;&#45;8</title>\n<path fill=\"none\" stroke=\"lightgreen\" d=\"M223.45,-82.29C228.87,-71.75 239.55,-50.99 247.2,-36.12\"/>\n</g>\n</g>\n</svg>\n</div></td></tr></table>"
     },
     "metadata": {},
     "output_type": "display_data"
    },
    {
     "data": {
      "text/plain": "<IPython.core.display.HTML object>",
      "text/html": "<table style=\"border-style: hidden; border-collapse: collapse;\" width=\"100%\"><tr><td style=\"border-top:hidden;border-bottom:hidden;\"><div align=\"center\" style=\"\"><?xml version=\"1.0\" encoding=\"UTF-8\" standalone=\"no\"?>\n<!DOCTYPE svg PUBLIC \"-//W3C//DTD SVG 1.1//EN\"\n \"http://www.w3.org/Graphics/SVG/1.1/DTD/svg11.dtd\">\n<!-- Generated by graphviz version 2.44.1 (20200629.0846)\n -->\n<!-- Pages: 1 -->\n<svg width=\"210pt\" height=\"288pt\"\n viewBox=\"0.00 0.00 210.03 288.00\" xmlns=\"http://www.w3.org/2000/svg\" xmlns:xlink=\"http://www.w3.org/1999/xlink\">\n<g id=\"graph0\" class=\"graph\" transform=\"scale(0.8 0.8) rotate(0) translate(4 358)\">\n<polygon fill=\"white\" stroke=\"transparent\" points=\"-4,4 -4,-358 260,-358 260,4 -4,4\"/>\n<!-- 0 -->\n<g id=\"node1\" class=\"node\">\n<title>0</title>\n<text text-anchor=\"middle\" x=\"133\" y=\"-342.8\" font-family=\"Times,serif\" font-size=\"14.00\">a</text>\n</g>\n<!-- 1 -->\n<g id=\"node2\" class=\"node\">\n<title>1</title>\n<text text-anchor=\"middle\" x=\"110\" y=\"-291.8\" font-family=\"Times,serif\" font-size=\"14.00\">s</text>\n</g>\n<!-- 0&#45;&#45;1 -->\n<g id=\"edge1\" class=\"edge\">\n<title>0&#45;&#45;1</title>\n<path fill=\"none\" stroke=\"black\" d=\"M129.8,-338.69C125.36,-329.22 117.37,-312.21 113.02,-302.94\"/>\n</g>\n<!-- 10 -->\n<g id=\"node11\" class=\"node\">\n<title>10</title>\n<text text-anchor=\"middle\" x=\"157\" y=\"-291.8\" font-family=\"Times,serif\" font-size=\"14.00\">o</text>\n</g>\n<!-- 0&#45;&#45;10 -->\n<g id=\"edge10\" class=\"edge\">\n<title>0&#45;&#45;10</title>\n<path fill=\"none\" stroke=\"black\" d=\"M136.34,-338.69C140.92,-329.33 149.12,-312.59 153.69,-303.26\"/>\n</g>\n<!-- 2 -->\n<g id=\"node3\" class=\"node\">\n<title>2</title>\n</g>\n<!-- 1&#45;&#45;2 -->\n<g id=\"edge2\" class=\"edge\">\n<title>1&#45;&#45;2</title>\n<path fill=\"none\" stroke=\"lightgreen\" d=\"M106.92,-290.6C100.87,-282.94 87.14,-265.56 76.63,-252.25\"/>\n</g>\n<!-- 3 -->\n<g id=\"node4\" class=\"node\">\n<title>3</title>\n<text text-anchor=\"middle\" x=\"110\" y=\"-230.3\" font-family=\"Times,serif\" font-size=\"14.00\">l</text>\n</g>\n<!-- 1&#45;&#45;3 -->\n<g id=\"edge3\" class=\"edge\">\n<title>1&#45;&#45;3</title>\n<path fill=\"none\" stroke=\"black\" d=\"M110,-287.67C110,-276.2 110,-253.17 110,-241.75\"/>\n</g>\n<!-- 4 -->\n<g id=\"node5\" class=\"node\">\n<title>4</title>\n<text text-anchor=\"middle\" x=\"87\" y=\"-158.3\" font-family=\"Times,serif\" font-size=\"14.00\">l</text>\n</g>\n<!-- 3&#45;&#45;4 -->\n<g id=\"edge4\" class=\"edge\">\n<title>3&#45;&#45;4</title>\n<path fill=\"none\" stroke=\"black\" d=\"M107.88,-226.54C103.47,-213.14 93.39,-182.46 89.05,-169.24\"/>\n</g>\n<!-- 9 -->\n<g id=\"node10\" class=\"node\">\n<title>9</title>\n</g>\n<!-- 3&#45;&#45;9 -->\n<g id=\"edge9\" class=\"edge\">\n<title>3&#45;&#45;9</title>\n<path fill=\"none\" stroke=\"lightgreen\" d=\"M112.05,-227.03C115.56,-216.78 122.87,-195.47 128.09,-180.25\"/>\n</g>\n<!-- 5 -->\n<g id=\"node6\" class=\"node\">\n<title>5</title>\n<text text-anchor=\"middle\" x=\"63\" y=\"-86.3\" font-family=\"Times,serif\" font-size=\"14.00\">o</text>\n</g>\n<!-- 4&#45;&#45;5 -->\n<g id=\"edge5\" class=\"edge\">\n<title>4&#45;&#45;5</title>\n<path fill=\"none\" stroke=\"black\" d=\"M84.95,-155.03C80.51,-142.07 70,-111.42 65.32,-97.77\"/>\n</g>\n<!-- 8 -->\n<g id=\"node9\" class=\"node\">\n<title>8</title>\n<text text-anchor=\"middle\" x=\"112\" y=\"-86.3\" font-family=\"Times,serif\" font-size=\"14.00\">*</text>\n</g>\n<!-- 4&#45;&#45;8 -->\n<g id=\"edge8\" class=\"edge\">\n<title>4&#45;&#45;8</title>\n<path fill=\"none\" stroke=\"lightgreen\" d=\"M89.13,-155.03C92.79,-144.78 100.4,-123.47 105.84,-108.25\"/>\n</g>\n<!-- 6 -->\n<g id=\"node7\" class=\"node\">\n<title>6</title>\n</g>\n<!-- 5&#45;&#45;6 -->\n<g id=\"edge6\" class=\"edge\">\n<title>5&#45;&#45;6</title>\n<path fill=\"none\" stroke=\"lightgreen\" d=\"M59.55,-82.29C54.13,-71.75 43.45,-50.99 35.8,-36.12\"/>\n</g>\n<!-- 7 -->\n<g id=\"node8\" class=\"node\">\n<title>7</title>\n</g>\n<!-- 5&#45;&#45;7 -->\n<g id=\"edge7\" class=\"edge\">\n<title>5&#45;&#45;7</title>\n<path fill=\"none\" stroke=\"lightgreen\" d=\"M66.45,-82.29C71.87,-71.75 82.55,-50.99 90.2,-36.12\"/>\n</g>\n<!-- 11 -->\n<g id=\"node12\" class=\"node\">\n<title>11</title>\n</g>\n<!-- 10&#45;&#45;11 -->\n<g id=\"edge11\" class=\"edge\">\n<title>10&#45;&#45;11</title>\n<path fill=\"none\" stroke=\"lightgreen\" d=\"M157,-287.67C157,-279.07 157,-263.96 157,-252.13\"/>\n</g>\n<!-- 12 -->\n<g id=\"node13\" class=\"node\">\n<title>12</title>\n</g>\n<!-- 10&#45;&#45;12 -->\n<g id=\"edge12\" class=\"edge\">\n<title>10&#45;&#45;12</title>\n<path fill=\"none\" stroke=\"lightgreen\" d=\"M160.87,-291.3C169.63,-284.06 191.52,-265.97 208.14,-252.24\"/>\n</g>\n</g>\n</svg>\n</div></td><td style=\"border-top:hidden;border-bottom:hidden;\"><div align=\"center\" style=\"\"><?xml version=\"1.0\" encoding=\"UTF-8\" standalone=\"no\"?>\n<!DOCTYPE svg PUBLIC \"-//W3C//DTD SVG 1.1//EN\"\n \"http://www.w3.org/Graphics/SVG/1.1/DTD/svg11.dtd\">\n<!-- Generated by graphviz version 2.44.1 (20200629.0846)\n -->\n<!-- Pages: 1 -->\n<svg width=\"232pt\" height=\"218pt\"\n viewBox=\"0.00 0.00 232.00 218.00\" xmlns=\"http://www.w3.org/2000/svg\" xmlns:xlink=\"http://www.w3.org/1999/xlink\">\n<g id=\"graph0\" class=\"graph\" transform=\"scale(1 1) rotate(0) translate(4 214)\">\n<polygon fill=\"white\" stroke=\"transparent\" points=\"-4,4 -4,-214 228,-214 228,4 -4,4\"/>\n<!-- 0 -->\n<g id=\"node1\" class=\"node\">\n<title>0</title>\n<text text-anchor=\"middle\" x=\"100\" y=\"-198.8\" font-family=\"Times,serif\" font-size=\"14.00\">a</text>\n</g>\n<!-- 1 -->\n<g id=\"node2\" class=\"node\">\n<title>1</title>\n<text text-anchor=\"middle\" x=\"76\" y=\"-147.8\" font-family=\"Times,serif\" font-size=\"14.00\">s</text>\n</g>\n<!-- 0&#45;&#45;1 -->\n<g id=\"edge1\" class=\"edge\">\n<title>0&#45;&#45;1</title>\n<path fill=\"none\" stroke=\"black\" d=\"M96.66,-194.69C91.97,-185.11 83.51,-167.83 79.01,-158.64\"/>\n</g>\n<!-- 6 -->\n<g id=\"node7\" class=\"node\">\n<title>6</title>\n<text text-anchor=\"middle\" x=\"125\" y=\"-147.8\" font-family=\"Times,serif\" font-size=\"14.00\">o</text>\n</g>\n<!-- 0&#45;&#45;6 -->\n<g id=\"edge6\" class=\"edge\">\n<title>0&#45;&#45;6</title>\n<path fill=\"none\" stroke=\"black\" d=\"M103.48,-194.69C108.25,-185.33 116.79,-168.59 121.55,-159.26\"/>\n</g>\n<!-- 2 -->\n<g id=\"node3\" class=\"node\">\n<title>2</title>\n</g>\n<!-- 1&#45;&#45;2 -->\n<g id=\"edge2\" class=\"edge\">\n<title>1&#45;&#45;2</title>\n<path fill=\"none\" stroke=\"lightgreen\" d=\"M72.78,-146.6C66.48,-138.94 52.16,-121.56 41.21,-108.25\"/>\n</g>\n<!-- 3 -->\n<g id=\"node4\" class=\"node\">\n<title>3</title>\n<text text-anchor=\"middle\" x=\"76\" y=\"-86.3\" font-family=\"Times,serif\" font-size=\"14.00\">o</text>\n</g>\n<!-- 1&#45;&#45;3 -->\n<g id=\"edge3\" class=\"edge\">\n<title>1&#45;&#45;3</title>\n<path fill=\"none\" stroke=\"black\" d=\"M76,-143.67C76,-132.2 76,-109.17 76,-97.75\"/>\n</g>\n<!-- 4 -->\n<g id=\"node5\" class=\"node\">\n<title>4</title>\n</g>\n<!-- 3&#45;&#45;4 -->\n<g id=\"edge4\" class=\"edge\">\n<title>3&#45;&#45;4</title>\n<path fill=\"none\" stroke=\"lightgreen\" d=\"M72.55,-82.29C67.13,-71.75 56.45,-50.99 48.8,-36.12\"/>\n</g>\n<!-- 5 -->\n<g id=\"node6\" class=\"node\">\n<title>5</title>\n</g>\n<!-- 3&#45;&#45;5 -->\n<g id=\"edge5\" class=\"edge\">\n<title>3&#45;&#45;5</title>\n<path fill=\"none\" stroke=\"lightgreen\" d=\"M79.45,-82.29C84.87,-71.75 95.55,-50.99 103.2,-36.12\"/>\n</g>\n<!-- 7 -->\n<g id=\"node8\" class=\"node\">\n<title>7</title>\n</g>\n<!-- 6&#45;&#45;7 -->\n<g id=\"edge7\" class=\"edge\">\n<title>6&#45;&#45;7</title>\n<path fill=\"none\" stroke=\"lightgreen\" d=\"M125,-143.67C125,-135.07 125,-119.96 125,-108.13\"/>\n</g>\n<!-- 8 -->\n<g id=\"node9\" class=\"node\">\n<title>8</title>\n</g>\n<!-- 6&#45;&#45;8 -->\n<g id=\"edge8\" class=\"edge\">\n<title>6&#45;&#45;8</title>\n<path fill=\"none\" stroke=\"lightgreen\" d=\"M128.87,-147.3C137.63,-140.06 159.52,-121.97 176.14,-108.24\"/>\n</g>\n</g>\n</svg>\n</div></td></tr></table>"
     },
     "metadata": {},
     "output_type": "display_data"
    },
    {
     "data": {
      "text/plain": "<IPython.core.display.HTML object>",
      "text/html": "<table style=\"border-style: hidden; border-collapse: collapse;\" width=\"100%\"><tr><td style=\"border-top:hidden;border-bottom:hidden;\"><div align=\"center\" style=\"\"><?xml version=\"1.0\" encoding=\"UTF-8\" standalone=\"no\"?>\n<!DOCTYPE svg PUBLIC \"-//W3C//DTD SVG 1.1//EN\"\n \"http://www.w3.org/Graphics/SVG/1.1/DTD/svg11.dtd\">\n<!-- Generated by graphviz version 2.44.1 (20200629.0846)\n -->\n<!-- Pages: 1 -->\n<svg width=\"122pt\" height=\"288pt\"\n viewBox=\"0.00 0.00 122.16 288.00\" xmlns=\"http://www.w3.org/2000/svg\" xmlns:xlink=\"http://www.w3.org/1999/xlink\">\n<g id=\"graph0\" class=\"graph\" transform=\"scale(0.63 0.63) rotate(0) translate(4 451)\">\n<polygon fill=\"white\" stroke=\"transparent\" points=\"-4,4 -4,-451 189,-451 189,4 -4,4\"/>\n<!-- 0 -->\n<g id=\"node1\" class=\"node\">\n<title>0</title>\n<text text-anchor=\"middle\" x=\"134\" y=\"-435.8\" font-family=\"Times,serif\" font-size=\"14.00\">l</text>\n</g>\n<!-- 1 -->\n<g id=\"node2\" class=\"node\">\n<title>1</title>\n<text text-anchor=\"middle\" x=\"111\" y=\"-374.3\" font-family=\"Times,serif\" font-size=\"14.00\">l</text>\n</g>\n<!-- 0&#45;&#45;1 -->\n<g id=\"edge1\" class=\"edge\">\n<title>0&#45;&#45;1</title>\n<path fill=\"none\" stroke=\"black\" d=\"M131.88,-433.01C127.47,-421.62 117.39,-395.54 113.05,-384.31\"/>\n</g>\n<!-- 12 -->\n<g id=\"node13\" class=\"node\">\n<title>12</title>\n</g>\n<!-- 0&#45;&#45;12 -->\n<g id=\"edge12\" class=\"edge\">\n<title>0&#45;&#45;12</title>\n<path fill=\"none\" stroke=\"lightgreen\" d=\"M136.05,-433.43C139.33,-425.28 145.94,-408.9 151.05,-396.23\"/>\n</g>\n<!-- 2 -->\n<g id=\"node3\" class=\"node\">\n<title>2</title>\n<text text-anchor=\"middle\" x=\"87\" y=\"-302.3\" font-family=\"Times,serif\" font-size=\"14.00\">s</text>\n</g>\n<!-- 1&#45;&#45;2 -->\n<g id=\"edge2\" class=\"edge\">\n<title>1&#45;&#45;2</title>\n<path fill=\"none\" stroke=\"black\" d=\"M108.95,-371.03C104.51,-358.07 94,-327.42 89.32,-313.77\"/>\n</g>\n<!-- 11 -->\n<g id=\"node12\" class=\"node\">\n<title>11</title>\n</g>\n<!-- 1&#45;&#45;11 -->\n<g id=\"edge11\" class=\"edge\">\n<title>1&#45;&#45;11</title>\n<path fill=\"none\" stroke=\"lightgreen\" d=\"M113.05,-371.03C116.56,-360.78 123.87,-339.47 129.09,-324.25\"/>\n</g>\n<!-- 3 -->\n<g id=\"node4\" class=\"node\">\n<title>3</title>\n</g>\n<!-- 2&#45;&#45;3 -->\n<g id=\"edge3\" class=\"edge\">\n<title>2&#45;&#45;3</title>\n<path fill=\"none\" stroke=\"lightgreen\" d=\"M84.79,-298.29C81.33,-287.75 74.51,-266.99 69.62,-252.12\"/>\n</g>\n<!-- 4 -->\n<g id=\"node5\" class=\"node\">\n<title>4</title>\n<text text-anchor=\"middle\" x=\"111\" y=\"-230.3\" font-family=\"Times,serif\" font-size=\"14.00\">l</text>\n</g>\n<!-- 2&#45;&#45;4 -->\n<g id=\"edge4\" class=\"edge\">\n<title>2&#45;&#45;4</title>\n<path fill=\"none\" stroke=\"black\" d=\"M89.3,-298.29C93.95,-284.74 104.39,-254.29 108.88,-241.19\"/>\n</g>\n<!-- 5 -->\n<g id=\"node6\" class=\"node\">\n<title>5</title>\n<text text-anchor=\"middle\" x=\"87\" y=\"-158.3\" font-family=\"Times,serif\" font-size=\"14.00\">l</text>\n</g>\n<!-- 4&#45;&#45;5 -->\n<g id=\"edge5\" class=\"edge\">\n<title>4&#45;&#45;5</title>\n<path fill=\"none\" stroke=\"black\" d=\"M108.95,-227.03C104.42,-213.81 93.57,-182.16 89.04,-168.95\"/>\n</g>\n<!-- 10 -->\n<g id=\"node11\" class=\"node\">\n<title>10</title>\n</g>\n<!-- 4&#45;&#45;10 -->\n<g id=\"edge10\" class=\"edge\">\n<title>4&#45;&#45;10</title>\n<path fill=\"none\" stroke=\"lightgreen\" d=\"M113.12,-226.54C116.55,-216.12 123.41,-195.24 128.33,-180.26\"/>\n</g>\n<!-- 6 -->\n<g id=\"node7\" class=\"node\">\n<title>6</title>\n<text text-anchor=\"middle\" x=\"63\" y=\"-86.3\" font-family=\"Times,serif\" font-size=\"14.00\">o</text>\n</g>\n<!-- 5&#45;&#45;6 -->\n<g id=\"edge6\" class=\"edge\">\n<title>5&#45;&#45;6</title>\n<path fill=\"none\" stroke=\"black\" d=\"M84.95,-155.03C80.51,-142.07 70,-111.42 65.32,-97.77\"/>\n</g>\n<!-- 9 -->\n<g id=\"node10\" class=\"node\">\n<title>9</title>\n<text text-anchor=\"middle\" x=\"112\" y=\"-86.3\" font-family=\"Times,serif\" font-size=\"14.00\">*</text>\n</g>\n<!-- 5&#45;&#45;9 -->\n<g id=\"edge9\" class=\"edge\">\n<title>5&#45;&#45;9</title>\n<path fill=\"none\" stroke=\"lightgreen\" d=\"M89.13,-155.03C92.79,-144.78 100.4,-123.47 105.84,-108.25\"/>\n</g>\n<!-- 7 -->\n<g id=\"node8\" class=\"node\">\n<title>7</title>\n</g>\n<!-- 6&#45;&#45;7 -->\n<g id=\"edge7\" class=\"edge\">\n<title>6&#45;&#45;7</title>\n<path fill=\"none\" stroke=\"lightgreen\" d=\"M59.55,-82.29C54.13,-71.75 43.45,-50.99 35.8,-36.12\"/>\n</g>\n<!-- 8 -->\n<g id=\"node9\" class=\"node\">\n<title>8</title>\n</g>\n<!-- 6&#45;&#45;8 -->\n<g id=\"edge8\" class=\"edge\">\n<title>6&#45;&#45;8</title>\n<path fill=\"none\" stroke=\"lightgreen\" d=\"M66.45,-82.29C71.87,-71.75 82.55,-50.99 90.2,-36.12\"/>\n</g>\n</g>\n</svg>\n</div></td><td style=\"border-top:hidden;border-bottom:hidden;\"><div align=\"center\" style=\"\"><?xml version=\"1.0\" encoding=\"UTF-8\" standalone=\"no\"?>\n<!DOCTYPE svg PUBLIC \"-//W3C//DTD SVG 1.1//EN\"\n \"http://www.w3.org/Graphics/SVG/1.1/DTD/svg11.dtd\">\n<!-- Generated by graphviz version 2.44.1 (20200629.0846)\n -->\n<!-- Pages: 1 -->\n<svg width=\"145pt\" height=\"288pt\"\n viewBox=\"0.00 0.00 145.39 288.00\" xmlns=\"http://www.w3.org/2000/svg\" xmlns:xlink=\"http://www.w3.org/1999/xlink\">\n<g id=\"graph0\" class=\"graph\" transform=\"scale(0.93 0.93) rotate(0) translate(4 307)\">\n<polygon fill=\"white\" stroke=\"transparent\" points=\"-4,4 -4,-307 153,-307 153,4 -4,4\"/>\n<!-- 0 -->\n<g id=\"node1\" class=\"node\">\n<title>0</title>\n<text text-anchor=\"middle\" x=\"98\" y=\"-291.8\" font-family=\"Times,serif\" font-size=\"14.00\">l</text>\n</g>\n<!-- 1 -->\n<g id=\"node2\" class=\"node\">\n<title>1</title>\n<text text-anchor=\"middle\" x=\"75\" y=\"-230.3\" font-family=\"Times,serif\" font-size=\"14.00\">l</text>\n</g>\n<!-- 0&#45;&#45;1 -->\n<g id=\"edge1\" class=\"edge\">\n<title>0&#45;&#45;1</title>\n<path fill=\"none\" stroke=\"black\" d=\"M95.88,-289.01C91.47,-277.62 81.39,-251.54 77.05,-240.31\"/>\n</g>\n<!-- 8 -->\n<g id=\"node9\" class=\"node\">\n<title>8</title>\n</g>\n<!-- 0&#45;&#45;8 -->\n<g id=\"edge8\" class=\"edge\">\n<title>0&#45;&#45;8</title>\n<path fill=\"none\" stroke=\"lightgreen\" d=\"M100.05,-289.43C103.33,-281.28 109.94,-264.9 115.05,-252.23\"/>\n</g>\n<!-- 2 -->\n<g id=\"node3\" class=\"node\">\n<title>2</title>\n<text text-anchor=\"middle\" x=\"51\" y=\"-158.3\" font-family=\"Times,serif\" font-size=\"14.00\">s</text>\n</g>\n<!-- 1&#45;&#45;2 -->\n<g id=\"edge2\" class=\"edge\">\n<title>1&#45;&#45;2</title>\n<path fill=\"none\" stroke=\"black\" d=\"M72.95,-227.03C68.51,-214.07 58,-183.42 53.32,-169.77\"/>\n</g>\n<!-- 7 -->\n<g id=\"node8\" class=\"node\">\n<title>7</title>\n</g>\n<!-- 1&#45;&#45;7 -->\n<g id=\"edge7\" class=\"edge\">\n<title>1&#45;&#45;7</title>\n<path fill=\"none\" stroke=\"lightgreen\" d=\"M77.05,-227.03C80.56,-216.78 87.87,-195.47 93.09,-180.25\"/>\n</g>\n<!-- 3 -->\n<g id=\"node4\" class=\"node\">\n<title>3</title>\n</g>\n<!-- 2&#45;&#45;3 -->\n<g id=\"edge3\" class=\"edge\">\n<title>2&#45;&#45;3</title>\n<path fill=\"none\" stroke=\"lightgreen\" d=\"M48.7,-154.29C45.09,-143.75 37.97,-122.99 32.87,-108.12\"/>\n</g>\n<!-- 4 -->\n<g id=\"node5\" class=\"node\">\n<title>4</title>\n<text text-anchor=\"middle\" x=\"76\" y=\"-86.3\" font-family=\"Times,serif\" font-size=\"14.00\">o</text>\n</g>\n<!-- 2&#45;&#45;4 -->\n<g id=\"edge4\" class=\"edge\">\n<title>2&#45;&#45;4</title>\n<path fill=\"none\" stroke=\"black\" d=\"M53.4,-154.29C58.19,-140.87 68.89,-110.9 73.65,-97.59\"/>\n</g>\n<!-- 5 -->\n<g id=\"node6\" class=\"node\">\n<title>5</title>\n</g>\n<!-- 4&#45;&#45;5 -->\n<g id=\"edge5\" class=\"edge\">\n<title>4&#45;&#45;5</title>\n<path fill=\"none\" stroke=\"lightgreen\" d=\"M72.55,-82.29C67.13,-71.75 56.45,-50.99 48.8,-36.12\"/>\n</g>\n<!-- 6 -->\n<g id=\"node7\" class=\"node\">\n<title>6</title>\n</g>\n<!-- 4&#45;&#45;6 -->\n<g id=\"edge6\" class=\"edge\">\n<title>4&#45;&#45;6</title>\n<path fill=\"none\" stroke=\"lightgreen\" d=\"M79.45,-82.29C84.87,-71.75 95.55,-50.99 103.2,-36.12\"/>\n</g>\n</g>\n</svg>\n</div></td></tr></table>"
     },
     "metadata": {},
     "output_type": "display_data"
    },
    {
     "data": {
      "text/plain": "<IPython.core.display.HTML object>",
      "text/html": "<table style=\"border-style: hidden; border-collapse: collapse;\" width=\"100%\"><tr><td style=\"border-top:hidden;border-bottom:hidden;\"><div align=\"center\" style=\"\"><?xml version=\"1.0\" encoding=\"UTF-8\" standalone=\"no\"?>\n<!DOCTYPE svg PUBLIC \"-//W3C//DTD SVG 1.1//EN\"\n \"http://www.w3.org/Graphics/SVG/1.1/DTD/svg11.dtd\">\n<!-- Generated by graphviz version 2.44.1 (20200629.0846)\n -->\n<!-- Pages: 1 -->\n<svg width=\"99pt\" height=\"288pt\"\n viewBox=\"0.00 0.00 99.38 288.00\" xmlns=\"http://www.w3.org/2000/svg\" xmlns:xlink=\"http://www.w3.org/1999/xlink\">\n<g id=\"graph0\" class=\"graph\" transform=\"scale(0.63 0.63) rotate(0) translate(4 451)\">\n<polygon fill=\"white\" stroke=\"transparent\" points=\"-4,4 -4,-451 153,-451 153,4 -4,4\"/>\n<!-- 0 -->\n<g id=\"node1\" class=\"node\">\n<title>0</title>\n<text text-anchor=\"middle\" x=\"98\" y=\"-435.8\" font-family=\"Times,serif\" font-size=\"14.00\">l</text>\n</g>\n<!-- 1 -->\n<g id=\"node2\" class=\"node\">\n<title>1</title>\n<text text-anchor=\"middle\" x=\"74\" y=\"-374.3\" font-family=\"Times,serif\" font-size=\"14.00\">s</text>\n</g>\n<!-- 0&#45;&#45;1 -->\n<g id=\"edge1\" class=\"edge\">\n<title>0&#45;&#45;1</title>\n<path fill=\"none\" stroke=\"black\" d=\"M95.95,-433.43C91.65,-422.75 81.64,-397.94 76.77,-385.86\"/>\n</g>\n<!-- 12 -->\n<g id=\"node13\" class=\"node\">\n<title>12</title>\n</g>\n<!-- 0&#45;&#45;12 -->\n<g id=\"edge12\" class=\"edge\">\n<title>0&#45;&#45;12</title>\n<path fill=\"none\" stroke=\"lightgreen\" d=\"M100.05,-433.43C103.33,-425.28 109.94,-408.9 115.05,-396.23\"/>\n</g>\n<!-- 2 -->\n<g id=\"node3\" class=\"node\">\n<title>2</title>\n</g>\n<!-- 1&#45;&#45;2 -->\n<g id=\"edge2\" class=\"edge\">\n<title>1&#45;&#45;2</title>\n<path fill=\"none\" stroke=\"lightgreen\" d=\"M71.79,-370.29C68.33,-359.75 61.51,-338.99 56.62,-324.12\"/>\n</g>\n<!-- 3 -->\n<g id=\"node4\" class=\"node\">\n<title>3</title>\n<text text-anchor=\"middle\" x=\"98\" y=\"-302.3\" font-family=\"Times,serif\" font-size=\"14.00\">l</text>\n</g>\n<!-- 1&#45;&#45;3 -->\n<g id=\"edge3\" class=\"edge\">\n<title>1&#45;&#45;3</title>\n<path fill=\"none\" stroke=\"black\" d=\"M76.3,-370.29C80.95,-356.74 91.39,-326.29 95.88,-313.19\"/>\n</g>\n<!-- 4 -->\n<g id=\"node5\" class=\"node\">\n<title>4</title>\n<text text-anchor=\"middle\" x=\"75\" y=\"-230.3\" font-family=\"Times,serif\" font-size=\"14.00\">l</text>\n</g>\n<!-- 3&#45;&#45;4 -->\n<g id=\"edge4\" class=\"edge\">\n<title>3&#45;&#45;4</title>\n<path fill=\"none\" stroke=\"black\" d=\"M95.88,-298.54C91.47,-285.14 81.39,-254.46 77.05,-241.24\"/>\n</g>\n<!-- 11 -->\n<g id=\"node12\" class=\"node\">\n<title>11</title>\n</g>\n<!-- 3&#45;&#45;11 -->\n<g id=\"edge11\" class=\"edge\">\n<title>3&#45;&#45;11</title>\n<path fill=\"none\" stroke=\"lightgreen\" d=\"M100.05,-299.03C103.56,-288.78 110.87,-267.47 116.09,-252.25\"/>\n</g>\n<!-- 5 -->\n<g id=\"node6\" class=\"node\">\n<title>5</title>\n<text text-anchor=\"middle\" x=\"51\" y=\"-158.3\" font-family=\"Times,serif\" font-size=\"14.00\">s</text>\n</g>\n<!-- 4&#45;&#45;5 -->\n<g id=\"edge5\" class=\"edge\">\n<title>4&#45;&#45;5</title>\n<path fill=\"none\" stroke=\"black\" d=\"M72.95,-227.03C68.51,-214.07 58,-183.42 53.32,-169.77\"/>\n</g>\n<!-- 10 -->\n<g id=\"node11\" class=\"node\">\n<title>10</title>\n<text text-anchor=\"middle\" x=\"99\" y=\"-158.3\" font-family=\"Times,serif\" font-size=\"14.00\">*</text>\n</g>\n<!-- 4&#45;&#45;10 -->\n<g id=\"edge10\" class=\"edge\">\n<title>4&#45;&#45;10</title>\n<path fill=\"none\" stroke=\"lightgreen\" d=\"M77.05,-227.03C80.56,-216.78 87.87,-195.47 93.09,-180.25\"/>\n</g>\n<!-- 6 -->\n<g id=\"node7\" class=\"node\">\n<title>6</title>\n</g>\n<!-- 5&#45;&#45;6 -->\n<g id=\"edge6\" class=\"edge\">\n<title>5&#45;&#45;6</title>\n<path fill=\"none\" stroke=\"lightgreen\" d=\"M48.7,-154.29C45.09,-143.75 37.97,-122.99 32.87,-108.12\"/>\n</g>\n<!-- 7 -->\n<g id=\"node8\" class=\"node\">\n<title>7</title>\n<text text-anchor=\"middle\" x=\"76\" y=\"-86.3\" font-family=\"Times,serif\" font-size=\"14.00\">o</text>\n</g>\n<!-- 5&#45;&#45;7 -->\n<g id=\"edge7\" class=\"edge\">\n<title>5&#45;&#45;7</title>\n<path fill=\"none\" stroke=\"black\" d=\"M53.4,-154.29C58.19,-140.87 68.89,-110.9 73.65,-97.59\"/>\n</g>\n<!-- 8 -->\n<g id=\"node9\" class=\"node\">\n<title>8</title>\n</g>\n<!-- 7&#45;&#45;8 -->\n<g id=\"edge8\" class=\"edge\">\n<title>7&#45;&#45;8</title>\n<path fill=\"none\" stroke=\"lightgreen\" d=\"M72.55,-82.29C67.13,-71.75 56.45,-50.99 48.8,-36.12\"/>\n</g>\n<!-- 9 -->\n<g id=\"node10\" class=\"node\">\n<title>9</title>\n</g>\n<!-- 7&#45;&#45;9 -->\n<g id=\"edge9\" class=\"edge\">\n<title>7&#45;&#45;9</title>\n<path fill=\"none\" stroke=\"lightgreen\" d=\"M79.45,-82.29C84.87,-71.75 95.55,-50.99 103.2,-36.12\"/>\n</g>\n</g>\n</svg>\n</div></td><td style=\"border-top:hidden;border-bottom:hidden;\"><div align=\"center\" style=\"\"><?xml version=\"1.0\" encoding=\"UTF-8\" standalone=\"no\"?>\n<!DOCTYPE svg PUBLIC \"-//W3C//DTD SVG 1.1//EN\"\n \"http://www.w3.org/Graphics/SVG/1.1/DTD/svg11.dtd\">\n<!-- Generated by graphviz version 2.44.1 (20200629.0846)\n -->\n<!-- Pages: 1 -->\n<svg width=\"157pt\" height=\"288pt\"\n viewBox=\"0.00 0.00 157.43 288.00\" xmlns=\"http://www.w3.org/2000/svg\" xmlns:xlink=\"http://www.w3.org/1999/xlink\">\n<g id=\"graph0\" class=\"graph\" transform=\"scale(0.93 0.93) rotate(0) translate(4 307)\">\n<polygon fill=\"white\" stroke=\"transparent\" points=\"-4,4 -4,-307 166,-307 166,4 -4,4\"/>\n<!-- 0 -->\n<g id=\"node1\" class=\"node\">\n<title>0</title>\n<text text-anchor=\"middle\" x=\"75\" y=\"-291.8\" font-family=\"Times,serif\" font-size=\"14.00\">l</text>\n</g>\n<!-- 1 -->\n<g id=\"node2\" class=\"node\">\n<title>1</title>\n<text text-anchor=\"middle\" x=\"51\" y=\"-230.3\" font-family=\"Times,serif\" font-size=\"14.00\">s</text>\n</g>\n<!-- 0&#45;&#45;1 -->\n<g id=\"edge1\" class=\"edge\">\n<title>0&#45;&#45;1</title>\n<path fill=\"none\" stroke=\"black\" d=\"M72.95,-289.43C68.65,-278.75 58.64,-253.94 53.77,-241.86\"/>\n</g>\n<!-- 8 -->\n<g id=\"node9\" class=\"node\">\n<title>8</title>\n</g>\n<!-- 0&#45;&#45;8 -->\n<g id=\"edge8\" class=\"edge\">\n<title>0&#45;&#45;8</title>\n<path fill=\"none\" stroke=\"lightgreen\" d=\"M77.05,-289.43C80.33,-281.28 86.94,-264.9 92.05,-252.23\"/>\n</g>\n<!-- 2 -->\n<g id=\"node3\" class=\"node\">\n<title>2</title>\n</g>\n<!-- 1&#45;&#45;2 -->\n<g id=\"edge2\" class=\"edge\">\n<title>1&#45;&#45;2</title>\n<path fill=\"none\" stroke=\"lightgreen\" d=\"M48.7,-226.29C45.09,-215.75 37.97,-194.99 32.87,-180.12\"/>\n</g>\n<!-- 3 -->\n<g id=\"node4\" class=\"node\">\n<title>3</title>\n<text text-anchor=\"middle\" x=\"75\" y=\"-158.3\" font-family=\"Times,serif\" font-size=\"14.00\">s</text>\n</g>\n<!-- 1&#45;&#45;3 -->\n<g id=\"edge3\" class=\"edge\">\n<title>1&#45;&#45;3</title>\n<path fill=\"none\" stroke=\"black\" d=\"M53.3,-226.29C57.9,-212.87 68.18,-182.9 72.74,-169.59\"/>\n</g>\n<!-- 4 -->\n<g id=\"node5\" class=\"node\">\n<title>4</title>\n</g>\n<!-- 3&#45;&#45;4 -->\n<g id=\"edge4\" class=\"edge\">\n<title>3&#45;&#45;4</title>\n<path fill=\"none\" stroke=\"lightgreen\" d=\"M72.6,-154.29C68.84,-143.75 61.42,-122.99 56.11,-108.12\"/>\n</g>\n<!-- 5 -->\n<g id=\"node6\" class=\"node\">\n<title>5</title>\n<text text-anchor=\"middle\" x=\"99\" y=\"-86.3\" font-family=\"Times,serif\" font-size=\"14.00\">o</text>\n</g>\n<!-- 3&#45;&#45;5 -->\n<g id=\"edge5\" class=\"edge\">\n<title>3&#45;&#45;5</title>\n<path fill=\"none\" stroke=\"black\" d=\"M77.3,-154.29C81.9,-140.87 92.18,-110.9 96.74,-97.59\"/>\n</g>\n<!-- 6 -->\n<g id=\"node7\" class=\"node\">\n<title>6</title>\n</g>\n<!-- 5&#45;&#45;6 -->\n<g id=\"edge6\" class=\"edge\">\n<title>5&#45;&#45;6</title>\n<path fill=\"none\" stroke=\"lightgreen\" d=\"M95.55,-82.29C90.13,-71.75 79.45,-50.99 71.8,-36.12\"/>\n</g>\n<!-- 7 -->\n<g id=\"node8\" class=\"node\">\n<title>7</title>\n</g>\n<!-- 5&#45;&#45;7 -->\n<g id=\"edge7\" class=\"edge\">\n<title>5&#45;&#45;7</title>\n<path fill=\"none\" stroke=\"lightgreen\" d=\"M102.45,-82.29C107.87,-71.75 118.55,-50.99 126.2,-36.12\"/>\n</g>\n</g>\n</svg>\n</div></td></tr></table>"
     },
     "metadata": {},
     "output_type": "display_data"
    },
    {
     "data": {
      "text/plain": "<IPython.core.display.HTML object>",
      "text/html": "<table style=\"border-style: hidden; border-collapse: collapse;\" width=\"100%\"><tr><td style=\"border-top:hidden;border-bottom:hidden;\"><div align=\"center\" style=\"\"><?xml version=\"1.0\" encoding=\"UTF-8\" standalone=\"no\"?>\n<!DOCTYPE svg PUBLIC \"-//W3C//DTD SVG 1.1//EN\"\n \"http://www.w3.org/Graphics/SVG/1.1/DTD/svg11.dtd\">\n<!-- Generated by graphviz version 2.44.1 (20200629.0846)\n -->\n<!-- Pages: 1 -->\n<svg width=\"107pt\" height=\"288pt\"\n viewBox=\"0.00 0.00 106.97 288.00\" xmlns=\"http://www.w3.org/2000/svg\" xmlns:xlink=\"http://www.w3.org/1999/xlink\">\n<g id=\"graph0\" class=\"graph\" transform=\"scale(0.63 0.63) rotate(0) translate(4 451)\">\n<polygon fill=\"white\" stroke=\"transparent\" points=\"-4,4 -4,-451 165,-451 165,4 -4,4\"/>\n<!-- 0 -->\n<g id=\"node1\" class=\"node\">\n<title>0</title>\n<text text-anchor=\"middle\" x=\"87\" y=\"-435.8\" font-family=\"Times,serif\" font-size=\"14.00\">l</text>\n</g>\n<!-- 1 -->\n<g id=\"node2\" class=\"node\">\n<title>1</title>\n<text text-anchor=\"middle\" x=\"63\" y=\"-374.3\" font-family=\"Times,serif\" font-size=\"14.00\">s</text>\n</g>\n<!-- 0&#45;&#45;1 -->\n<g id=\"edge1\" class=\"edge\">\n<title>0&#45;&#45;1</title>\n<path fill=\"none\" stroke=\"black\" d=\"M84.95,-433.43C80.65,-422.75 70.64,-397.94 65.77,-385.86\"/>\n</g>\n<!-- 12 -->\n<g id=\"node13\" class=\"node\">\n<title>12</title>\n</g>\n<!-- 0&#45;&#45;12 -->\n<g id=\"edge12\" class=\"edge\">\n<title>0&#45;&#45;12</title>\n<path fill=\"none\" stroke=\"lightgreen\" d=\"M89.05,-433.43C92.33,-425.28 98.94,-408.9 104.05,-396.23\"/>\n</g>\n<!-- 2 -->\n<g id=\"node3\" class=\"node\">\n<title>2</title>\n</g>\n<!-- 1&#45;&#45;2 -->\n<g id=\"edge2\" class=\"edge\">\n<title>1&#45;&#45;2</title>\n<path fill=\"none\" stroke=\"lightgreen\" d=\"M60.7,-370.29C57.09,-359.75 49.97,-338.99 44.87,-324.12\"/>\n</g>\n<!-- 3 -->\n<g id=\"node4\" class=\"node\">\n<title>3</title>\n<text text-anchor=\"middle\" x=\"87\" y=\"-302.3\" font-family=\"Times,serif\" font-size=\"14.00\">s</text>\n</g>\n<!-- 1&#45;&#45;3 -->\n<g id=\"edge3\" class=\"edge\">\n<title>1&#45;&#45;3</title>\n<path fill=\"none\" stroke=\"black\" d=\"M65.3,-370.29C69.9,-356.87 80.18,-326.9 84.74,-313.59\"/>\n</g>\n<!-- 4 -->\n<g id=\"node5\" class=\"node\">\n<title>4</title>\n</g>\n<!-- 3&#45;&#45;4 -->\n<g id=\"edge4\" class=\"edge\">\n<title>3&#45;&#45;4</title>\n<path fill=\"none\" stroke=\"lightgreen\" d=\"M84.79,-298.29C81.33,-287.75 74.51,-266.99 69.62,-252.12\"/>\n</g>\n<!-- 5 -->\n<g id=\"node6\" class=\"node\">\n<title>5</title>\n<text text-anchor=\"middle\" x=\"111\" y=\"-230.3\" font-family=\"Times,serif\" font-size=\"14.00\">l</text>\n</g>\n<!-- 3&#45;&#45;5 -->\n<g id=\"edge5\" class=\"edge\">\n<title>3&#45;&#45;5</title>\n<path fill=\"none\" stroke=\"black\" d=\"M89.3,-298.29C93.95,-284.74 104.39,-254.29 108.88,-241.19\"/>\n</g>\n<!-- 6 -->\n<g id=\"node7\" class=\"node\">\n<title>6</title>\n<text text-anchor=\"middle\" x=\"87\" y=\"-158.3\" font-family=\"Times,serif\" font-size=\"14.00\">l</text>\n</g>\n<!-- 5&#45;&#45;6 -->\n<g id=\"edge6\" class=\"edge\">\n<title>5&#45;&#45;6</title>\n<path fill=\"none\" stroke=\"black\" d=\"M108.95,-227.03C104.42,-213.81 93.57,-182.16 89.04,-168.95\"/>\n</g>\n<!-- 11 -->\n<g id=\"node12\" class=\"node\">\n<title>11</title>\n</g>\n<!-- 5&#45;&#45;11 -->\n<g id=\"edge11\" class=\"edge\">\n<title>5&#45;&#45;11</title>\n<path fill=\"none\" stroke=\"lightgreen\" d=\"M113.12,-226.54C116.55,-216.12 123.41,-195.24 128.33,-180.26\"/>\n</g>\n<!-- 7 -->\n<g id=\"node8\" class=\"node\">\n<title>7</title>\n<text text-anchor=\"middle\" x=\"63\" y=\"-86.3\" font-family=\"Times,serif\" font-size=\"14.00\">o</text>\n</g>\n<!-- 6&#45;&#45;7 -->\n<g id=\"edge7\" class=\"edge\">\n<title>6&#45;&#45;7</title>\n<path fill=\"none\" stroke=\"black\" d=\"M84.95,-155.03C80.51,-142.07 70,-111.42 65.32,-97.77\"/>\n</g>\n<!-- 10 -->\n<g id=\"node11\" class=\"node\">\n<title>10</title>\n<text text-anchor=\"middle\" x=\"112\" y=\"-86.3\" font-family=\"Times,serif\" font-size=\"14.00\">*</text>\n</g>\n<!-- 6&#45;&#45;10 -->\n<g id=\"edge10\" class=\"edge\">\n<title>6&#45;&#45;10</title>\n<path fill=\"none\" stroke=\"lightgreen\" d=\"M89.13,-155.03C92.79,-144.78 100.4,-123.47 105.84,-108.25\"/>\n</g>\n<!-- 8 -->\n<g id=\"node9\" class=\"node\">\n<title>8</title>\n</g>\n<!-- 7&#45;&#45;8 -->\n<g id=\"edge8\" class=\"edge\">\n<title>7&#45;&#45;8</title>\n<path fill=\"none\" stroke=\"lightgreen\" d=\"M59.55,-82.29C54.13,-71.75 43.45,-50.99 35.8,-36.12\"/>\n</g>\n<!-- 9 -->\n<g id=\"node10\" class=\"node\">\n<title>9</title>\n</g>\n<!-- 7&#45;&#45;9 -->\n<g id=\"edge9\" class=\"edge\">\n<title>7&#45;&#45;9</title>\n<path fill=\"none\" stroke=\"lightgreen\" d=\"M66.45,-82.29C71.87,-71.75 82.55,-50.99 90.2,-36.12\"/>\n</g>\n</g>\n</svg>\n</div></td><td style=\"border-top:hidden;border-bottom:hidden;\"><div align=\"center\" style=\"\"><?xml version=\"1.0\" encoding=\"UTF-8\" standalone=\"no\"?>\n<!DOCTYPE svg PUBLIC \"-//W3C//DTD SVG 1.1//EN\"\n \"http://www.w3.org/Graphics/SVG/1.1/DTD/svg11.dtd\">\n<!-- Generated by graphviz version 2.44.1 (20200629.0846)\n -->\n<!-- Pages: 1 -->\n<svg width=\"157pt\" height=\"288pt\"\n viewBox=\"0.00 0.00 157.43 288.00\" xmlns=\"http://www.w3.org/2000/svg\" xmlns:xlink=\"http://www.w3.org/1999/xlink\">\n<g id=\"graph0\" class=\"graph\" transform=\"scale(0.93 0.93) rotate(0) translate(4 307)\">\n<polygon fill=\"white\" stroke=\"transparent\" points=\"-4,4 -4,-307 166,-307 166,4 -4,4\"/>\n<!-- 0 -->\n<g id=\"node1\" class=\"node\">\n<title>0</title>\n<text text-anchor=\"middle\" x=\"75\" y=\"-291.8\" font-family=\"Times,serif\" font-size=\"14.00\">l</text>\n</g>\n<!-- 1 -->\n<g id=\"node2\" class=\"node\">\n<title>1</title>\n<text text-anchor=\"middle\" x=\"51\" y=\"-230.3\" font-family=\"Times,serif\" font-size=\"14.00\">s</text>\n</g>\n<!-- 0&#45;&#45;1 -->\n<g id=\"edge1\" class=\"edge\">\n<title>0&#45;&#45;1</title>\n<path fill=\"none\" stroke=\"black\" d=\"M72.95,-289.43C68.65,-278.75 58.64,-253.94 53.77,-241.86\"/>\n</g>\n<!-- 8 -->\n<g id=\"node9\" class=\"node\">\n<title>8</title>\n</g>\n<!-- 0&#45;&#45;8 -->\n<g id=\"edge8\" class=\"edge\">\n<title>0&#45;&#45;8</title>\n<path fill=\"none\" stroke=\"lightgreen\" d=\"M77.05,-289.43C80.33,-281.28 86.94,-264.9 92.05,-252.23\"/>\n</g>\n<!-- 2 -->\n<g id=\"node3\" class=\"node\">\n<title>2</title>\n</g>\n<!-- 1&#45;&#45;2 -->\n<g id=\"edge2\" class=\"edge\">\n<title>1&#45;&#45;2</title>\n<path fill=\"none\" stroke=\"lightgreen\" d=\"M48.7,-226.29C45.09,-215.75 37.97,-194.99 32.87,-180.12\"/>\n</g>\n<!-- 3 -->\n<g id=\"node4\" class=\"node\">\n<title>3</title>\n<text text-anchor=\"middle\" x=\"75\" y=\"-158.3\" font-family=\"Times,serif\" font-size=\"14.00\">s</text>\n</g>\n<!-- 1&#45;&#45;3 -->\n<g id=\"edge3\" class=\"edge\">\n<title>1&#45;&#45;3</title>\n<path fill=\"none\" stroke=\"black\" d=\"M53.3,-226.29C57.9,-212.87 68.18,-182.9 72.74,-169.59\"/>\n</g>\n<!-- 4 -->\n<g id=\"node5\" class=\"node\">\n<title>4</title>\n</g>\n<!-- 3&#45;&#45;4 -->\n<g id=\"edge4\" class=\"edge\">\n<title>3&#45;&#45;4</title>\n<path fill=\"none\" stroke=\"lightgreen\" d=\"M72.6,-154.29C68.84,-143.75 61.42,-122.99 56.11,-108.12\"/>\n</g>\n<!-- 5 -->\n<g id=\"node6\" class=\"node\">\n<title>5</title>\n<text text-anchor=\"middle\" x=\"99\" y=\"-86.3\" font-family=\"Times,serif\" font-size=\"14.00\">o</text>\n</g>\n<!-- 3&#45;&#45;5 -->\n<g id=\"edge5\" class=\"edge\">\n<title>3&#45;&#45;5</title>\n<path fill=\"none\" stroke=\"black\" d=\"M77.3,-154.29C81.9,-140.87 92.18,-110.9 96.74,-97.59\"/>\n</g>\n<!-- 6 -->\n<g id=\"node7\" class=\"node\">\n<title>6</title>\n</g>\n<!-- 5&#45;&#45;6 -->\n<g id=\"edge6\" class=\"edge\">\n<title>5&#45;&#45;6</title>\n<path fill=\"none\" stroke=\"lightgreen\" d=\"M95.55,-82.29C90.13,-71.75 79.45,-50.99 71.8,-36.12\"/>\n</g>\n<!-- 7 -->\n<g id=\"node8\" class=\"node\">\n<title>7</title>\n</g>\n<!-- 5&#45;&#45;7 -->\n<g id=\"edge7\" class=\"edge\">\n<title>5&#45;&#45;7</title>\n<path fill=\"none\" stroke=\"lightgreen\" d=\"M102.45,-82.29C107.87,-71.75 118.55,-50.99 126.2,-36.12\"/>\n</g>\n</g>\n</svg>\n</div></td></tr></table>"
     },
     "metadata": {},
     "output_type": "display_data"
    },
    {
     "data": {
      "text/plain": "<IPython.core.display.HTML object>",
      "text/html": "<table style=\"border-style: hidden; border-collapse: collapse;\" width=\"100%\"><tr><td style=\"border-top:hidden;border-bottom:hidden;\"><div align=\"center\" style=\"\"><?xml version=\"1.0\" encoding=\"UTF-8\" standalone=\"no\"?>\n<!DOCTYPE svg PUBLIC \"-//W3C//DTD SVG 1.1//EN\"\n \"http://www.w3.org/Graphics/SVG/1.1/DTD/svg11.dtd\">\n<!-- Generated by graphviz version 2.44.1 (20200629.0846)\n -->\n<!-- Pages: 1 -->\n<svg width=\"108pt\" height=\"288pt\"\n viewBox=\"0.00 0.00 107.60 288.00\" xmlns=\"http://www.w3.org/2000/svg\" xmlns:xlink=\"http://www.w3.org/1999/xlink\">\n<g id=\"graph0\" class=\"graph\" transform=\"scale(0.63 0.63) rotate(0) translate(4 451)\">\n<polygon fill=\"white\" stroke=\"transparent\" points=\"-4,4 -4,-451 166,-451 166,4 -4,4\"/>\n<!-- 0 -->\n<g id=\"node1\" class=\"node\">\n<title>0</title>\n<text text-anchor=\"middle\" x=\"75\" y=\"-435.8\" font-family=\"Times,serif\" font-size=\"14.00\">s</text>\n</g>\n<!-- 1 -->\n<g id=\"node2\" class=\"node\">\n<title>1</title>\n</g>\n<!-- 0&#45;&#45;1 -->\n<g id=\"edge1\" class=\"edge\">\n<title>0&#45;&#45;1</title>\n<path fill=\"none\" stroke=\"lightgreen\" d=\"M72.36,-431.67C69.03,-423.07 63.2,-407.96 58.62,-396.13\"/>\n</g>\n<!-- 2 -->\n<g id=\"node3\" class=\"node\">\n<title>2</title>\n<text text-anchor=\"middle\" x=\"99\" y=\"-374.3\" font-family=\"Times,serif\" font-size=\"14.00\">l</text>\n</g>\n<!-- 0&#45;&#45;2 -->\n<g id=\"edge2\" class=\"edge\">\n<title>0&#45;&#45;2</title>\n<path fill=\"none\" stroke=\"black\" d=\"M77.75,-431.67C82.63,-419.59 92.67,-394.69 96.97,-384.02\"/>\n</g>\n<!-- 3 -->\n<g id=\"node4\" class=\"node\">\n<title>3</title>\n<text text-anchor=\"middle\" x=\"75\" y=\"-302.3\" font-family=\"Times,serif\" font-size=\"14.00\">l</text>\n</g>\n<!-- 2&#45;&#45;3 -->\n<g id=\"edge3\" class=\"edge\">\n<title>2&#45;&#45;3</title>\n<path fill=\"none\" stroke=\"black\" d=\"M96.95,-371.03C92.42,-357.81 81.57,-326.16 77.04,-312.95\"/>\n</g>\n<!-- 12 -->\n<g id=\"node13\" class=\"node\">\n<title>12</title>\n</g>\n<!-- 2&#45;&#45;12 -->\n<g id=\"edge12\" class=\"edge\">\n<title>2&#45;&#45;12</title>\n<path fill=\"none\" stroke=\"lightgreen\" d=\"M101.12,-370.54C104.55,-360.12 111.41,-339.24 116.33,-324.26\"/>\n</g>\n<!-- 4 -->\n<g id=\"node5\" class=\"node\">\n<title>4</title>\n<text text-anchor=\"middle\" x=\"51\" y=\"-230.3\" font-family=\"Times,serif\" font-size=\"14.00\">s</text>\n</g>\n<!-- 3&#45;&#45;4 -->\n<g id=\"edge4\" class=\"edge\">\n<title>3&#45;&#45;4</title>\n<path fill=\"none\" stroke=\"black\" d=\"M72.95,-299.03C68.51,-286.07 58,-255.42 53.32,-241.77\"/>\n</g>\n<!-- 11 -->\n<g id=\"node12\" class=\"node\">\n<title>11</title>\n<text text-anchor=\"middle\" x=\"99\" y=\"-230.3\" font-family=\"Times,serif\" font-size=\"14.00\">*</text>\n</g>\n<!-- 3&#45;&#45;11 -->\n<g id=\"edge11\" class=\"edge\">\n<title>3&#45;&#45;11</title>\n<path fill=\"none\" stroke=\"lightgreen\" d=\"M77.05,-299.03C80.56,-288.78 87.87,-267.47 93.09,-252.25\"/>\n</g>\n<!-- 5 -->\n<g id=\"node6\" class=\"node\">\n<title>5</title>\n</g>\n<!-- 4&#45;&#45;5 -->\n<g id=\"edge5\" class=\"edge\">\n<title>4&#45;&#45;5</title>\n<path fill=\"none\" stroke=\"lightgreen\" d=\"M48.7,-226.29C45.09,-215.75 37.97,-194.99 32.87,-180.12\"/>\n</g>\n<!-- 6 -->\n<g id=\"node7\" class=\"node\">\n<title>6</title>\n<text text-anchor=\"middle\" x=\"75\" y=\"-158.3\" font-family=\"Times,serif\" font-size=\"14.00\">s</text>\n</g>\n<!-- 4&#45;&#45;6 -->\n<g id=\"edge6\" class=\"edge\">\n<title>4&#45;&#45;6</title>\n<path fill=\"none\" stroke=\"black\" d=\"M53.3,-226.29C57.9,-212.87 68.18,-182.9 72.74,-169.59\"/>\n</g>\n<!-- 7 -->\n<g id=\"node8\" class=\"node\">\n<title>7</title>\n</g>\n<!-- 6&#45;&#45;7 -->\n<g id=\"edge7\" class=\"edge\">\n<title>6&#45;&#45;7</title>\n<path fill=\"none\" stroke=\"lightgreen\" d=\"M72.6,-154.29C68.84,-143.75 61.42,-122.99 56.11,-108.12\"/>\n</g>\n<!-- 8 -->\n<g id=\"node9\" class=\"node\">\n<title>8</title>\n<text text-anchor=\"middle\" x=\"99\" y=\"-86.3\" font-family=\"Times,serif\" font-size=\"14.00\">o</text>\n</g>\n<!-- 6&#45;&#45;8 -->\n<g id=\"edge8\" class=\"edge\">\n<title>6&#45;&#45;8</title>\n<path fill=\"none\" stroke=\"black\" d=\"M77.3,-154.29C81.9,-140.87 92.18,-110.9 96.74,-97.59\"/>\n</g>\n<!-- 9 -->\n<g id=\"node10\" class=\"node\">\n<title>9</title>\n</g>\n<!-- 8&#45;&#45;9 -->\n<g id=\"edge9\" class=\"edge\">\n<title>8&#45;&#45;9</title>\n<path fill=\"none\" stroke=\"lightgreen\" d=\"M95.55,-82.29C90.13,-71.75 79.45,-50.99 71.8,-36.12\"/>\n</g>\n<!-- 10 -->\n<g id=\"node11\" class=\"node\">\n<title>10</title>\n</g>\n<!-- 8&#45;&#45;10 -->\n<g id=\"edge10\" class=\"edge\">\n<title>8&#45;&#45;10</title>\n<path fill=\"none\" stroke=\"lightgreen\" d=\"M102.45,-82.29C107.87,-71.75 118.55,-50.99 126.2,-36.12\"/>\n</g>\n</g>\n</svg>\n</div></td><td style=\"border-top:hidden;border-bottom:hidden;\"><div align=\"center\" style=\"\"><?xml version=\"1.0\" encoding=\"UTF-8\" standalone=\"no\"?>\n<!DOCTYPE svg PUBLIC \"-//W3C//DTD SVG 1.1//EN\"\n \"http://www.w3.org/Graphics/SVG/1.1/DTD/svg11.dtd\">\n<!-- Generated by graphviz version 2.44.1 (20200629.0846)\n -->\n<!-- Pages: 1 -->\n<svg width=\"180pt\" height=\"288pt\"\n viewBox=\"0.00 0.00 179.65 288.00\" xmlns=\"http://www.w3.org/2000/svg\" xmlns:xlink=\"http://www.w3.org/1999/xlink\">\n<g id=\"graph0\" class=\"graph\" transform=\"scale(0.93 0.93) rotate(0) translate(4 307)\">\n<polygon fill=\"white\" stroke=\"transparent\" points=\"-4,4 -4,-307 190,-307 190,4 -4,4\"/>\n<!-- 0 -->\n<g id=\"node1\" class=\"node\">\n<title>0</title>\n<text text-anchor=\"middle\" x=\"51\" y=\"-291.8\" font-family=\"Times,serif\" font-size=\"14.00\">s</text>\n</g>\n<!-- 1 -->\n<g id=\"node2\" class=\"node\">\n<title>1</title>\n</g>\n<!-- 0&#45;&#45;1 -->\n<g id=\"edge1\" class=\"edge\">\n<title>0&#45;&#45;1</title>\n<path fill=\"none\" stroke=\"lightgreen\" d=\"M48.25,-287.67C44.77,-279.07 38.68,-263.96 33.91,-252.13\"/>\n</g>\n<!-- 2 -->\n<g id=\"node3\" class=\"node\">\n<title>2</title>\n<text text-anchor=\"middle\" x=\"75\" y=\"-230.3\" font-family=\"Times,serif\" font-size=\"14.00\">s</text>\n</g>\n<!-- 0&#45;&#45;2 -->\n<g id=\"edge2\" class=\"edge\">\n<title>0&#45;&#45;2</title>\n<path fill=\"none\" stroke=\"black\" d=\"M53.75,-287.67C58.38,-276.2 67.67,-253.17 72.28,-241.75\"/>\n</g>\n<!-- 3 -->\n<g id=\"node4\" class=\"node\">\n<title>3</title>\n</g>\n<!-- 2&#45;&#45;3 -->\n<g id=\"edge3\" class=\"edge\">\n<title>2&#45;&#45;3</title>\n<path fill=\"none\" stroke=\"lightgreen\" d=\"M72.7,-226.29C69.09,-215.75 61.97,-194.99 56.87,-180.12\"/>\n</g>\n<!-- 4 -->\n<g id=\"node5\" class=\"node\">\n<title>4</title>\n<text text-anchor=\"middle\" x=\"99\" y=\"-158.3\" font-family=\"Times,serif\" font-size=\"14.00\">s</text>\n</g>\n<!-- 2&#45;&#45;4 -->\n<g id=\"edge4\" class=\"edge\">\n<title>2&#45;&#45;4</title>\n<path fill=\"none\" stroke=\"black\" d=\"M77.3,-226.29C81.9,-212.87 92.18,-182.9 96.74,-169.59\"/>\n</g>\n<!-- 5 -->\n<g id=\"node6\" class=\"node\">\n<title>5</title>\n</g>\n<!-- 4&#45;&#45;5 -->\n<g id=\"edge5\" class=\"edge\">\n<title>4&#45;&#45;5</title>\n<path fill=\"none\" stroke=\"lightgreen\" d=\"M96.6,-154.29C92.84,-143.75 85.42,-122.99 80.11,-108.12\"/>\n</g>\n<!-- 6 -->\n<g id=\"node7\" class=\"node\">\n<title>6</title>\n<text text-anchor=\"middle\" x=\"123\" y=\"-86.3\" font-family=\"Times,serif\" font-size=\"14.00\">o</text>\n</g>\n<!-- 4&#45;&#45;6 -->\n<g id=\"edge6\" class=\"edge\">\n<title>4&#45;&#45;6</title>\n<path fill=\"none\" stroke=\"black\" d=\"M101.3,-154.29C105.9,-140.87 116.18,-110.9 120.74,-97.59\"/>\n</g>\n<!-- 7 -->\n<g id=\"node8\" class=\"node\">\n<title>7</title>\n</g>\n<!-- 6&#45;&#45;7 -->\n<g id=\"edge7\" class=\"edge\">\n<title>6&#45;&#45;7</title>\n<path fill=\"none\" stroke=\"lightgreen\" d=\"M119.55,-82.29C114.13,-71.75 103.45,-50.99 95.8,-36.12\"/>\n</g>\n<!-- 8 -->\n<g id=\"node9\" class=\"node\">\n<title>8</title>\n</g>\n<!-- 6&#45;&#45;8 -->\n<g id=\"edge8\" class=\"edge\">\n<title>6&#45;&#45;8</title>\n<path fill=\"none\" stroke=\"lightgreen\" d=\"M126.45,-82.29C131.87,-71.75 142.55,-50.99 150.2,-36.12\"/>\n</g>\n</g>\n</svg>\n</div></td></tr></table>"
     },
     "metadata": {},
     "output_type": "display_data"
    },
    {
     "data": {
      "text/plain": "<IPython.core.display.HTML object>",
      "text/html": "<table style=\"border-style: hidden; border-collapse: collapse;\" width=\"100%\"><tr><td style=\"border-top:hidden;border-bottom:hidden;\"><div align=\"center\" style=\"\"><?xml version=\"1.0\" encoding=\"UTF-8\" standalone=\"no\"?>\n<!DOCTYPE svg PUBLIC \"-//W3C//DTD SVG 1.1//EN\"\n \"http://www.w3.org/Graphics/SVG/1.1/DTD/svg11.dtd\">\n<!-- Generated by graphviz version 2.44.1 (20200629.0846)\n -->\n<!-- Pages: 1 -->\n<svg width=\"100pt\" height=\"288pt\"\n viewBox=\"0.00 0.00 100.01 288.00\" xmlns=\"http://www.w3.org/2000/svg\" xmlns:xlink=\"http://www.w3.org/1999/xlink\">\n<g id=\"graph0\" class=\"graph\" transform=\"scale(0.63 0.63) rotate(0) translate(4 451)\">\n<polygon fill=\"white\" stroke=\"transparent\" points=\"-4,4 -4,-451 154,-451 154,4 -4,4\"/>\n<!-- 0 -->\n<g id=\"node1\" class=\"node\">\n<title>0</title>\n<text text-anchor=\"middle\" x=\"51\" y=\"-435.8\" font-family=\"Times,serif\" font-size=\"14.00\">s</text>\n</g>\n<!-- 1 -->\n<g id=\"node2\" class=\"node\">\n<title>1</title>\n</g>\n<!-- 0&#45;&#45;1 -->\n<g id=\"edge1\" class=\"edge\">\n<title>0&#45;&#45;1</title>\n<path fill=\"none\" stroke=\"lightgreen\" d=\"M48.25,-431.67C44.77,-423.07 38.68,-407.96 33.91,-396.13\"/>\n</g>\n<!-- 2 -->\n<g id=\"node3\" class=\"node\">\n<title>2</title>\n<text text-anchor=\"middle\" x=\"75\" y=\"-374.3\" font-family=\"Times,serif\" font-size=\"14.00\">s</text>\n</g>\n<!-- 0&#45;&#45;2 -->\n<g id=\"edge2\" class=\"edge\">\n<title>0&#45;&#45;2</title>\n<path fill=\"none\" stroke=\"black\" d=\"M53.75,-431.67C58.38,-420.2 67.67,-397.17 72.28,-385.75\"/>\n</g>\n<!-- 3 -->\n<g id=\"node4\" class=\"node\">\n<title>3</title>\n</g>\n<!-- 2&#45;&#45;3 -->\n<g id=\"edge3\" class=\"edge\">\n<title>2&#45;&#45;3</title>\n<path fill=\"none\" stroke=\"lightgreen\" d=\"M72.79,-370.29C69.33,-359.75 62.51,-338.99 57.62,-324.12\"/>\n</g>\n<!-- 4 -->\n<g id=\"node5\" class=\"node\">\n<title>4</title>\n<text text-anchor=\"middle\" x=\"99\" y=\"-302.3\" font-family=\"Times,serif\" font-size=\"14.00\">l</text>\n</g>\n<!-- 2&#45;&#45;4 -->\n<g id=\"edge4\" class=\"edge\">\n<title>2&#45;&#45;4</title>\n<path fill=\"none\" stroke=\"black\" d=\"M77.3,-370.29C81.95,-356.74 92.39,-326.29 96.88,-313.19\"/>\n</g>\n<!-- 5 -->\n<g id=\"node6\" class=\"node\">\n<title>5</title>\n<text text-anchor=\"middle\" x=\"76\" y=\"-230.3\" font-family=\"Times,serif\" font-size=\"14.00\">l</text>\n</g>\n<!-- 4&#45;&#45;5 -->\n<g id=\"edge5\" class=\"edge\">\n<title>4&#45;&#45;5</title>\n<path fill=\"none\" stroke=\"black\" d=\"M96.88,-298.54C92.47,-285.14 82.39,-254.46 78.05,-241.24\"/>\n</g>\n<!-- 12 -->\n<g id=\"node13\" class=\"node\">\n<title>12</title>\n</g>\n<!-- 4&#45;&#45;12 -->\n<g id=\"edge12\" class=\"edge\">\n<title>4&#45;&#45;12</title>\n<path fill=\"none\" stroke=\"lightgreen\" d=\"M101.05,-299.03C104.56,-288.78 111.87,-267.47 117.09,-252.25\"/>\n</g>\n<!-- 6 -->\n<g id=\"node7\" class=\"node\">\n<title>6</title>\n<text text-anchor=\"middle\" x=\"52\" y=\"-158.3\" font-family=\"Times,serif\" font-size=\"14.00\">s</text>\n</g>\n<!-- 5&#45;&#45;6 -->\n<g id=\"edge6\" class=\"edge\">\n<title>5&#45;&#45;6</title>\n<path fill=\"none\" stroke=\"black\" d=\"M73.95,-227.03C69.51,-214.07 59,-183.42 54.32,-169.77\"/>\n</g>\n<!-- 11 -->\n<g id=\"node12\" class=\"node\">\n<title>11</title>\n<text text-anchor=\"middle\" x=\"100\" y=\"-158.3\" font-family=\"Times,serif\" font-size=\"14.00\">*</text>\n</g>\n<!-- 5&#45;&#45;11 -->\n<g id=\"edge11\" class=\"edge\">\n<title>5&#45;&#45;11</title>\n<path fill=\"none\" stroke=\"lightgreen\" d=\"M78.05,-227.03C81.56,-216.78 88.87,-195.47 94.09,-180.25\"/>\n</g>\n<!-- 7 -->\n<g id=\"node8\" class=\"node\">\n<title>7</title>\n</g>\n<!-- 6&#45;&#45;7 -->\n<g id=\"edge7\" class=\"edge\">\n<title>6&#45;&#45;7</title>\n<path fill=\"none\" stroke=\"lightgreen\" d=\"M49.7,-154.29C46.09,-143.75 38.97,-122.99 33.87,-108.12\"/>\n</g>\n<!-- 8 -->\n<g id=\"node9\" class=\"node\">\n<title>8</title>\n<text text-anchor=\"middle\" x=\"77\" y=\"-86.3\" font-family=\"Times,serif\" font-size=\"14.00\">o</text>\n</g>\n<!-- 6&#45;&#45;8 -->\n<g id=\"edge8\" class=\"edge\">\n<title>6&#45;&#45;8</title>\n<path fill=\"none\" stroke=\"black\" d=\"M54.4,-154.29C59.19,-140.87 69.89,-110.9 74.65,-97.59\"/>\n</g>\n<!-- 9 -->\n<g id=\"node10\" class=\"node\">\n<title>9</title>\n</g>\n<!-- 8&#45;&#45;9 -->\n<g id=\"edge9\" class=\"edge\">\n<title>8&#45;&#45;9</title>\n<path fill=\"none\" stroke=\"lightgreen\" d=\"M73.55,-82.29C68.13,-71.75 57.45,-50.99 49.8,-36.12\"/>\n</g>\n<!-- 10 -->\n<g id=\"node11\" class=\"node\">\n<title>10</title>\n</g>\n<!-- 8&#45;&#45;10 -->\n<g id=\"edge10\" class=\"edge\">\n<title>8&#45;&#45;10</title>\n<path fill=\"none\" stroke=\"lightgreen\" d=\"M80.45,-82.29C85.87,-71.75 96.55,-50.99 104.2,-36.12\"/>\n</g>\n</g>\n</svg>\n</div></td><td style=\"border-top:hidden;border-bottom:hidden;\"><div align=\"center\" style=\"\"><?xml version=\"1.0\" encoding=\"UTF-8\" standalone=\"no\"?>\n<!DOCTYPE svg PUBLIC \"-//W3C//DTD SVG 1.1//EN\"\n \"http://www.w3.org/Graphics/SVG/1.1/DTD/svg11.dtd\">\n<!-- Generated by graphviz version 2.44.1 (20200629.0846)\n -->\n<!-- Pages: 1 -->\n<svg width=\"180pt\" height=\"288pt\"\n viewBox=\"0.00 0.00 179.65 288.00\" xmlns=\"http://www.w3.org/2000/svg\" xmlns:xlink=\"http://www.w3.org/1999/xlink\">\n<g id=\"graph0\" class=\"graph\" transform=\"scale(0.93 0.93) rotate(0) translate(4 307)\">\n<polygon fill=\"white\" stroke=\"transparent\" points=\"-4,4 -4,-307 190,-307 190,4 -4,4\"/>\n<!-- 0 -->\n<g id=\"node1\" class=\"node\">\n<title>0</title>\n<text text-anchor=\"middle\" x=\"51\" y=\"-291.8\" font-family=\"Times,serif\" font-size=\"14.00\">s</text>\n</g>\n<!-- 1 -->\n<g id=\"node2\" class=\"node\">\n<title>1</title>\n</g>\n<!-- 0&#45;&#45;1 -->\n<g id=\"edge1\" class=\"edge\">\n<title>0&#45;&#45;1</title>\n<path fill=\"none\" stroke=\"lightgreen\" d=\"M48.25,-287.67C44.77,-279.07 38.68,-263.96 33.91,-252.13\"/>\n</g>\n<!-- 2 -->\n<g id=\"node3\" class=\"node\">\n<title>2</title>\n<text text-anchor=\"middle\" x=\"75\" y=\"-230.3\" font-family=\"Times,serif\" font-size=\"14.00\">s</text>\n</g>\n<!-- 0&#45;&#45;2 -->\n<g id=\"edge2\" class=\"edge\">\n<title>0&#45;&#45;2</title>\n<path fill=\"none\" stroke=\"black\" d=\"M53.75,-287.67C58.38,-276.2 67.67,-253.17 72.28,-241.75\"/>\n</g>\n<!-- 3 -->\n<g id=\"node4\" class=\"node\">\n<title>3</title>\n</g>\n<!-- 2&#45;&#45;3 -->\n<g id=\"edge3\" class=\"edge\">\n<title>2&#45;&#45;3</title>\n<path fill=\"none\" stroke=\"lightgreen\" d=\"M72.7,-226.29C69.09,-215.75 61.97,-194.99 56.87,-180.12\"/>\n</g>\n<!-- 4 -->\n<g id=\"node5\" class=\"node\">\n<title>4</title>\n<text text-anchor=\"middle\" x=\"99\" y=\"-158.3\" font-family=\"Times,serif\" font-size=\"14.00\">s</text>\n</g>\n<!-- 2&#45;&#45;4 -->\n<g id=\"edge4\" class=\"edge\">\n<title>2&#45;&#45;4</title>\n<path fill=\"none\" stroke=\"black\" d=\"M77.3,-226.29C81.9,-212.87 92.18,-182.9 96.74,-169.59\"/>\n</g>\n<!-- 5 -->\n<g id=\"node6\" class=\"node\">\n<title>5</title>\n</g>\n<!-- 4&#45;&#45;5 -->\n<g id=\"edge5\" class=\"edge\">\n<title>4&#45;&#45;5</title>\n<path fill=\"none\" stroke=\"lightgreen\" d=\"M96.6,-154.29C92.84,-143.75 85.42,-122.99 80.11,-108.12\"/>\n</g>\n<!-- 6 -->\n<g id=\"node7\" class=\"node\">\n<title>6</title>\n<text text-anchor=\"middle\" x=\"123\" y=\"-86.3\" font-family=\"Times,serif\" font-size=\"14.00\">o</text>\n</g>\n<!-- 4&#45;&#45;6 -->\n<g id=\"edge6\" class=\"edge\">\n<title>4&#45;&#45;6</title>\n<path fill=\"none\" stroke=\"black\" d=\"M101.3,-154.29C105.9,-140.87 116.18,-110.9 120.74,-97.59\"/>\n</g>\n<!-- 7 -->\n<g id=\"node8\" class=\"node\">\n<title>7</title>\n</g>\n<!-- 6&#45;&#45;7 -->\n<g id=\"edge7\" class=\"edge\">\n<title>6&#45;&#45;7</title>\n<path fill=\"none\" stroke=\"lightgreen\" d=\"M119.55,-82.29C114.13,-71.75 103.45,-50.99 95.8,-36.12\"/>\n</g>\n<!-- 8 -->\n<g id=\"node9\" class=\"node\">\n<title>8</title>\n</g>\n<!-- 6&#45;&#45;8 -->\n<g id=\"edge8\" class=\"edge\">\n<title>6&#45;&#45;8</title>\n<path fill=\"none\" stroke=\"lightgreen\" d=\"M126.45,-82.29C131.87,-71.75 142.55,-50.99 150.2,-36.12\"/>\n</g>\n</g>\n</svg>\n</div></td></tr></table>"
     },
     "metadata": {},
     "output_type": "display_data"
    },
    {
     "data": {
      "text/plain": "<IPython.core.display.HTML object>",
      "text/html": "<table style=\"border-style: hidden; border-collapse: collapse;\" width=\"100%\"><tr><td style=\"border-top:hidden;border-bottom:hidden;\"><div align=\"center\" style=\"\"><?xml version=\"1.0\" encoding=\"UTF-8\" standalone=\"no\"?>\n<!DOCTYPE svg PUBLIC \"-//W3C//DTD SVG 1.1//EN\"\n \"http://www.w3.org/Graphics/SVG/1.1/DTD/svg11.dtd\">\n<!-- Generated by graphviz version 2.44.1 (20200629.0846)\n -->\n<!-- Pages: 1 -->\n<svg width=\"114pt\" height=\"288pt\"\n viewBox=\"0.00 0.00 113.93 288.00\" xmlns=\"http://www.w3.org/2000/svg\" xmlns:xlink=\"http://www.w3.org/1999/xlink\">\n<g id=\"graph0\" class=\"graph\" transform=\"scale(0.63 0.63) rotate(0) translate(4 451)\">\n<polygon fill=\"white\" stroke=\"transparent\" points=\"-4,4 -4,-451 176,-451 176,4 -4,4\"/>\n<!-- 0 -->\n<g id=\"node1\" class=\"node\">\n<title>0</title>\n<text text-anchor=\"middle\" x=\"51\" y=\"-435.8\" font-family=\"Times,serif\" font-size=\"14.00\">s</text>\n</g>\n<!-- 1 -->\n<g id=\"node2\" class=\"node\">\n<title>1</title>\n</g>\n<!-- 0&#45;&#45;1 -->\n<g id=\"edge1\" class=\"edge\">\n<title>0&#45;&#45;1</title>\n<path fill=\"none\" stroke=\"lightgreen\" d=\"M48.25,-431.67C44.77,-423.07 38.68,-407.96 33.91,-396.13\"/>\n</g>\n<!-- 2 -->\n<g id=\"node3\" class=\"node\">\n<title>2</title>\n<text text-anchor=\"middle\" x=\"75\" y=\"-374.3\" font-family=\"Times,serif\" font-size=\"14.00\">s</text>\n</g>\n<!-- 0&#45;&#45;2 -->\n<g id=\"edge2\" class=\"edge\">\n<title>0&#45;&#45;2</title>\n<path fill=\"none\" stroke=\"black\" d=\"M53.75,-431.67C58.38,-420.2 67.67,-397.17 72.28,-385.75\"/>\n</g>\n<!-- 3 -->\n<g id=\"node4\" class=\"node\">\n<title>3</title>\n</g>\n<!-- 2&#45;&#45;3 -->\n<g id=\"edge3\" class=\"edge\">\n<title>2&#45;&#45;3</title>\n<path fill=\"none\" stroke=\"lightgreen\" d=\"M72.7,-370.29C69.09,-359.75 61.97,-338.99 56.87,-324.12\"/>\n</g>\n<!-- 4 -->\n<g id=\"node5\" class=\"node\">\n<title>4</title>\n<text text-anchor=\"middle\" x=\"99\" y=\"-302.3\" font-family=\"Times,serif\" font-size=\"14.00\">s</text>\n</g>\n<!-- 2&#45;&#45;4 -->\n<g id=\"edge4\" class=\"edge\">\n<title>2&#45;&#45;4</title>\n<path fill=\"none\" stroke=\"black\" d=\"M77.3,-370.29C81.9,-356.87 92.18,-326.9 96.74,-313.59\"/>\n</g>\n<!-- 5 -->\n<g id=\"node6\" class=\"node\">\n<title>5</title>\n</g>\n<!-- 4&#45;&#45;5 -->\n<g id=\"edge5\" class=\"edge\">\n<title>4&#45;&#45;5</title>\n<path fill=\"none\" stroke=\"lightgreen\" d=\"M96.7,-298.29C93.09,-287.75 85.97,-266.99 80.87,-252.12\"/>\n</g>\n<!-- 6 -->\n<g id=\"node7\" class=\"node\">\n<title>6</title>\n<text text-anchor=\"middle\" x=\"122\" y=\"-230.3\" font-family=\"Times,serif\" font-size=\"14.00\">l</text>\n</g>\n<!-- 4&#45;&#45;6 -->\n<g id=\"edge6\" class=\"edge\">\n<title>4&#45;&#45;6</title>\n<path fill=\"none\" stroke=\"black\" d=\"M101.21,-298.29C105.66,-284.74 115.66,-254.29 119.97,-241.19\"/>\n</g>\n<!-- 7 -->\n<g id=\"node8\" class=\"node\">\n<title>7</title>\n<text text-anchor=\"middle\" x=\"98\" y=\"-158.3\" font-family=\"Times,serif\" font-size=\"14.00\">l</text>\n</g>\n<!-- 6&#45;&#45;7 -->\n<g id=\"edge7\" class=\"edge\">\n<title>6&#45;&#45;7</title>\n<path fill=\"none\" stroke=\"black\" d=\"M119.95,-227.03C115.42,-213.81 104.57,-182.16 100.04,-168.95\"/>\n</g>\n<!-- 12 -->\n<g id=\"node13\" class=\"node\">\n<title>12</title>\n</g>\n<!-- 6&#45;&#45;12 -->\n<g id=\"edge12\" class=\"edge\">\n<title>6&#45;&#45;12</title>\n<path fill=\"none\" stroke=\"lightgreen\" d=\"M124.12,-226.54C127.55,-216.12 134.41,-195.24 139.33,-180.26\"/>\n</g>\n<!-- 8 -->\n<g id=\"node9\" class=\"node\">\n<title>8</title>\n<text text-anchor=\"middle\" x=\"74\" y=\"-86.3\" font-family=\"Times,serif\" font-size=\"14.00\">o</text>\n</g>\n<!-- 7&#45;&#45;8 -->\n<g id=\"edge8\" class=\"edge\">\n<title>7&#45;&#45;8</title>\n<path fill=\"none\" stroke=\"black\" d=\"M95.95,-155.03C91.51,-142.07 81,-111.42 76.32,-97.77\"/>\n</g>\n<!-- 11 -->\n<g id=\"node12\" class=\"node\">\n<title>11</title>\n<text text-anchor=\"middle\" x=\"123\" y=\"-86.3\" font-family=\"Times,serif\" font-size=\"14.00\">*</text>\n</g>\n<!-- 7&#45;&#45;11 -->\n<g id=\"edge11\" class=\"edge\">\n<title>7&#45;&#45;11</title>\n<path fill=\"none\" stroke=\"lightgreen\" d=\"M100.13,-155.03C103.79,-144.78 111.4,-123.47 116.84,-108.25\"/>\n</g>\n<!-- 9 -->\n<g id=\"node10\" class=\"node\">\n<title>9</title>\n</g>\n<!-- 8&#45;&#45;9 -->\n<g id=\"edge9\" class=\"edge\">\n<title>8&#45;&#45;9</title>\n<path fill=\"none\" stroke=\"lightgreen\" d=\"M70.55,-82.29C65.13,-71.75 54.45,-50.99 46.8,-36.12\"/>\n</g>\n<!-- 10 -->\n<g id=\"node11\" class=\"node\">\n<title>10</title>\n</g>\n<!-- 8&#45;&#45;10 -->\n<g id=\"edge10\" class=\"edge\">\n<title>8&#45;&#45;10</title>\n<path fill=\"none\" stroke=\"lightgreen\" d=\"M77.45,-82.29C82.87,-71.75 93.55,-50.99 101.2,-36.12\"/>\n</g>\n</g>\n</svg>\n</div></td><td style=\"border-top:hidden;border-bottom:hidden;\"><div align=\"center\" style=\"\"><?xml version=\"1.0\" encoding=\"UTF-8\" standalone=\"no\"?>\n<!DOCTYPE svg PUBLIC \"-//W3C//DTD SVG 1.1//EN\"\n \"http://www.w3.org/Graphics/SVG/1.1/DTD/svg11.dtd\">\n<!-- Generated by graphviz version 2.44.1 (20200629.0846)\n -->\n<!-- Pages: 1 -->\n<svg width=\"180pt\" height=\"288pt\"\n viewBox=\"0.00 0.00 179.65 288.00\" xmlns=\"http://www.w3.org/2000/svg\" xmlns:xlink=\"http://www.w3.org/1999/xlink\">\n<g id=\"graph0\" class=\"graph\" transform=\"scale(0.93 0.93) rotate(0) translate(4 307)\">\n<polygon fill=\"white\" stroke=\"transparent\" points=\"-4,4 -4,-307 190,-307 190,4 -4,4\"/>\n<!-- 0 -->\n<g id=\"node1\" class=\"node\">\n<title>0</title>\n<text text-anchor=\"middle\" x=\"51\" y=\"-291.8\" font-family=\"Times,serif\" font-size=\"14.00\">s</text>\n</g>\n<!-- 1 -->\n<g id=\"node2\" class=\"node\">\n<title>1</title>\n</g>\n<!-- 0&#45;&#45;1 -->\n<g id=\"edge1\" class=\"edge\">\n<title>0&#45;&#45;1</title>\n<path fill=\"none\" stroke=\"lightgreen\" d=\"M48.25,-287.67C44.77,-279.07 38.68,-263.96 33.91,-252.13\"/>\n</g>\n<!-- 2 -->\n<g id=\"node3\" class=\"node\">\n<title>2</title>\n<text text-anchor=\"middle\" x=\"75\" y=\"-230.3\" font-family=\"Times,serif\" font-size=\"14.00\">s</text>\n</g>\n<!-- 0&#45;&#45;2 -->\n<g id=\"edge2\" class=\"edge\">\n<title>0&#45;&#45;2</title>\n<path fill=\"none\" stroke=\"black\" d=\"M53.75,-287.67C58.38,-276.2 67.67,-253.17 72.28,-241.75\"/>\n</g>\n<!-- 3 -->\n<g id=\"node4\" class=\"node\">\n<title>3</title>\n</g>\n<!-- 2&#45;&#45;3 -->\n<g id=\"edge3\" class=\"edge\">\n<title>2&#45;&#45;3</title>\n<path fill=\"none\" stroke=\"lightgreen\" d=\"M72.7,-226.29C69.09,-215.75 61.97,-194.99 56.87,-180.12\"/>\n</g>\n<!-- 4 -->\n<g id=\"node5\" class=\"node\">\n<title>4</title>\n<text text-anchor=\"middle\" x=\"99\" y=\"-158.3\" font-family=\"Times,serif\" font-size=\"14.00\">s</text>\n</g>\n<!-- 2&#45;&#45;4 -->\n<g id=\"edge4\" class=\"edge\">\n<title>2&#45;&#45;4</title>\n<path fill=\"none\" stroke=\"black\" d=\"M77.3,-226.29C81.9,-212.87 92.18,-182.9 96.74,-169.59\"/>\n</g>\n<!-- 5 -->\n<g id=\"node6\" class=\"node\">\n<title>5</title>\n</g>\n<!-- 4&#45;&#45;5 -->\n<g id=\"edge5\" class=\"edge\">\n<title>4&#45;&#45;5</title>\n<path fill=\"none\" stroke=\"lightgreen\" d=\"M96.6,-154.29C92.84,-143.75 85.42,-122.99 80.11,-108.12\"/>\n</g>\n<!-- 6 -->\n<g id=\"node7\" class=\"node\">\n<title>6</title>\n<text text-anchor=\"middle\" x=\"123\" y=\"-86.3\" font-family=\"Times,serif\" font-size=\"14.00\">o</text>\n</g>\n<!-- 4&#45;&#45;6 -->\n<g id=\"edge6\" class=\"edge\">\n<title>4&#45;&#45;6</title>\n<path fill=\"none\" stroke=\"black\" d=\"M101.3,-154.29C105.9,-140.87 116.18,-110.9 120.74,-97.59\"/>\n</g>\n<!-- 7 -->\n<g id=\"node8\" class=\"node\">\n<title>7</title>\n</g>\n<!-- 6&#45;&#45;7 -->\n<g id=\"edge7\" class=\"edge\">\n<title>6&#45;&#45;7</title>\n<path fill=\"none\" stroke=\"lightgreen\" d=\"M119.55,-82.29C114.13,-71.75 103.45,-50.99 95.8,-36.12\"/>\n</g>\n<!-- 8 -->\n<g id=\"node9\" class=\"node\">\n<title>8</title>\n</g>\n<!-- 6&#45;&#45;8 -->\n<g id=\"edge8\" class=\"edge\">\n<title>6&#45;&#45;8</title>\n<path fill=\"none\" stroke=\"lightgreen\" d=\"M126.45,-82.29C131.87,-71.75 142.55,-50.99 150.2,-36.12\"/>\n</g>\n</g>\n</svg>\n</div></td></tr></table>"
     },
     "metadata": {},
     "output_type": "display_data"
    }
   ],
   "source": [
    "display_diff_class(2, 4)"
   ],
   "metadata": {
    "collapsed": false,
    "pycharm": {
     "name": "#%%\n"
    }
   }
  },
  {
   "cell_type": "code",
   "execution_count": 333,
   "outputs": [
    {
     "data": {
      "text/plain": "<IPython.core.display.HTML object>",
      "text/html": "<table style=\"border-style: hidden; border-collapse: collapse;\" width=\"100%\"><tr><td style=\"border-top:hidden;border-bottom:hidden;\"><div align=\"center\" style=\"\"><?xml version=\"1.0\" encoding=\"UTF-8\" standalone=\"no\"?>\n<!DOCTYPE svg PUBLIC \"-//W3C//DTD SVG 1.1//EN\"\n \"http://www.w3.org/Graphics/SVG/1.1/DTD/svg11.dtd\">\n<!-- Generated by graphviz version 2.44.1 (20200629.0846)\n -->\n<!-- Pages: 1 -->\n<svg width=\"122pt\" height=\"288pt\"\n viewBox=\"0.00 0.00 122.16 288.00\" xmlns=\"http://www.w3.org/2000/svg\" xmlns:xlink=\"http://www.w3.org/1999/xlink\">\n<g id=\"graph0\" class=\"graph\" transform=\"scale(0.63 0.63) rotate(0) translate(4 451)\">\n<polygon fill=\"white\" stroke=\"transparent\" points=\"-4,4 -4,-451 189,-451 189,4 -4,4\"/>\n<!-- 0 -->\n<g id=\"node1\" class=\"node\">\n<title>0</title>\n<text text-anchor=\"middle\" x=\"134\" y=\"-435.8\" font-family=\"Times,serif\" font-size=\"14.00\">l</text>\n</g>\n<!-- 1 -->\n<g id=\"node2\" class=\"node\">\n<title>1</title>\n<text text-anchor=\"middle\" x=\"110\" y=\"-374.3\" font-family=\"Times,serif\" font-size=\"14.00\">s</text>\n</g>\n<!-- 0&#45;&#45;1 -->\n<g id=\"edge1\" class=\"edge\">\n<title>0&#45;&#45;1</title>\n<path fill=\"none\" stroke=\"black\" d=\"M131.95,-433.43C127.65,-422.75 117.64,-397.94 112.77,-385.86\"/>\n</g>\n<!-- 12 -->\n<g id=\"node13\" class=\"node\">\n<title>12</title>\n</g>\n<!-- 0&#45;&#45;12 -->\n<g id=\"edge12\" class=\"edge\">\n<title>0&#45;&#45;12</title>\n<path fill=\"none\" stroke=\"lightgreen\" d=\"M136.05,-433.43C139.33,-425.28 145.94,-408.9 151.05,-396.23\"/>\n</g>\n<!-- 2 -->\n<g id=\"node3\" class=\"node\">\n<title>2</title>\n</g>\n<!-- 1&#45;&#45;2 -->\n<g id=\"edge2\" class=\"edge\">\n<title>1&#45;&#45;2</title>\n<path fill=\"none\" stroke=\"lightgreen\" d=\"M107.79,-370.29C104.33,-359.75 97.51,-338.99 92.62,-324.12\"/>\n</g>\n<!-- 3 -->\n<g id=\"node4\" class=\"node\">\n<title>3</title>\n<text text-anchor=\"middle\" x=\"134\" y=\"-302.3\" font-family=\"Times,serif\" font-size=\"14.00\">l</text>\n</g>\n<!-- 1&#45;&#45;3 -->\n<g id=\"edge3\" class=\"edge\">\n<title>1&#45;&#45;3</title>\n<path fill=\"none\" stroke=\"black\" d=\"M112.3,-370.29C116.95,-356.74 127.39,-326.29 131.88,-313.19\"/>\n</g>\n<!-- 4 -->\n<g id=\"node5\" class=\"node\">\n<title>4</title>\n<text text-anchor=\"middle\" x=\"110\" y=\"-230.3\" font-family=\"Times,serif\" font-size=\"14.00\">l</text>\n</g>\n<!-- 3&#45;&#45;4 -->\n<g id=\"edge4\" class=\"edge\">\n<title>3&#45;&#45;4</title>\n<path fill=\"none\" stroke=\"black\" d=\"M131.95,-299.03C127.42,-285.81 116.57,-254.16 112.04,-240.95\"/>\n</g>\n<!-- 11 -->\n<g id=\"node12\" class=\"node\">\n<title>11</title>\n</g>\n<!-- 3&#45;&#45;11 -->\n<g id=\"edge11\" class=\"edge\">\n<title>3&#45;&#45;11</title>\n<path fill=\"none\" stroke=\"lightgreen\" d=\"M136.12,-298.54C139.55,-288.12 146.41,-267.24 151.33,-252.26\"/>\n</g>\n<!-- 5 -->\n<g id=\"node6\" class=\"node\">\n<title>5</title>\n<text text-anchor=\"middle\" x=\"87\" y=\"-158.3\" font-family=\"Times,serif\" font-size=\"14.00\">l</text>\n</g>\n<!-- 4&#45;&#45;5 -->\n<g id=\"edge5\" class=\"edge\">\n<title>4&#45;&#45;5</title>\n<path fill=\"none\" stroke=\"black\" d=\"M107.88,-226.54C103.47,-213.14 93.39,-182.46 89.05,-169.24\"/>\n</g>\n<!-- 10 -->\n<g id=\"node11\" class=\"node\">\n<title>10</title>\n<text text-anchor=\"middle\" x=\"134\" y=\"-158.3\" font-family=\"Times,serif\" font-size=\"14.00\">*</text>\n</g>\n<!-- 4&#45;&#45;10 -->\n<g id=\"edge10\" class=\"edge\">\n<title>4&#45;&#45;10</title>\n<path fill=\"none\" stroke=\"lightgreen\" d=\"M112.05,-227.03C115.56,-216.78 122.87,-195.47 128.09,-180.25\"/>\n</g>\n<!-- 6 -->\n<g id=\"node7\" class=\"node\">\n<title>6</title>\n<text text-anchor=\"middle\" x=\"63\" y=\"-86.3\" font-family=\"Times,serif\" font-size=\"14.00\">o</text>\n</g>\n<!-- 5&#45;&#45;6 -->\n<g id=\"edge6\" class=\"edge\">\n<title>5&#45;&#45;6</title>\n<path fill=\"none\" stroke=\"black\" d=\"M84.95,-155.03C80.51,-142.07 70,-111.42 65.32,-97.77\"/>\n</g>\n<!-- 9 -->\n<g id=\"node10\" class=\"node\">\n<title>9</title>\n</g>\n<!-- 5&#45;&#45;9 -->\n<g id=\"edge9\" class=\"edge\">\n<title>5&#45;&#45;9</title>\n<path fill=\"none\" stroke=\"lightgreen\" d=\"M89.13,-155.03C92.79,-144.78 100.4,-123.47 105.84,-108.25\"/>\n</g>\n<!-- 7 -->\n<g id=\"node8\" class=\"node\">\n<title>7</title>\n</g>\n<!-- 6&#45;&#45;7 -->\n<g id=\"edge7\" class=\"edge\">\n<title>6&#45;&#45;7</title>\n<path fill=\"none\" stroke=\"lightgreen\" d=\"M59.55,-82.29C54.13,-71.75 43.45,-50.99 35.8,-36.12\"/>\n</g>\n<!-- 8 -->\n<g id=\"node9\" class=\"node\">\n<title>8</title>\n</g>\n<!-- 6&#45;&#45;8 -->\n<g id=\"edge8\" class=\"edge\">\n<title>6&#45;&#45;8</title>\n<path fill=\"none\" stroke=\"lightgreen\" d=\"M66.45,-82.29C71.87,-71.75 82.55,-50.99 90.2,-36.12\"/>\n</g>\n</g>\n</svg>\n</div></td><td style=\"border-top:hidden;border-bottom:hidden;\"><div align=\"center\" style=\"\"><?xml version=\"1.0\" encoding=\"UTF-8\" standalone=\"no\"?>\n<!DOCTYPE svg PUBLIC \"-//W3C//DTD SVG 1.1//EN\"\n \"http://www.w3.org/Graphics/SVG/1.1/DTD/svg11.dtd\">\n<!-- Generated by graphviz version 2.44.1 (20200629.0846)\n -->\n<!-- Pages: 1 -->\n<svg width=\"169pt\" height=\"239pt\"\n viewBox=\"0.00 0.00 169.00 239.00\" xmlns=\"http://www.w3.org/2000/svg\" xmlns:xlink=\"http://www.w3.org/1999/xlink\">\n<g id=\"graph0\" class=\"graph\" transform=\"scale(1 1) rotate(0) translate(4 235)\">\n<polygon fill=\"white\" stroke=\"transparent\" points=\"-4,4 -4,-235 165,-235 165,4 -4,4\"/>\n<!-- 0 -->\n<g id=\"node1\" class=\"node\">\n<title>0</title>\n<text text-anchor=\"middle\" x=\"110\" y=\"-219.8\" font-family=\"Times,serif\" font-size=\"14.00\">l</text>\n</g>\n<!-- 1 -->\n<g id=\"node2\" class=\"node\">\n<title>1</title>\n<text text-anchor=\"middle\" x=\"87\" y=\"-158.3\" font-family=\"Times,serif\" font-size=\"14.00\">l</text>\n</g>\n<!-- 0&#45;&#45;1 -->\n<g id=\"edge1\" class=\"edge\">\n<title>0&#45;&#45;1</title>\n<path fill=\"none\" stroke=\"black\" d=\"M107.88,-217.01C103.47,-205.62 93.39,-179.54 89.05,-168.31\"/>\n</g>\n<!-- 6 -->\n<g id=\"node7\" class=\"node\">\n<title>6</title>\n</g>\n<!-- 0&#45;&#45;6 -->\n<g id=\"edge6\" class=\"edge\">\n<title>0&#45;&#45;6</title>\n<path fill=\"none\" stroke=\"lightgreen\" d=\"M112.05,-217.43C115.33,-209.28 121.94,-192.9 127.05,-180.23\"/>\n</g>\n<!-- 2 -->\n<g id=\"node3\" class=\"node\">\n<title>2</title>\n<text text-anchor=\"middle\" x=\"63\" y=\"-86.3\" font-family=\"Times,serif\" font-size=\"14.00\">o</text>\n</g>\n<!-- 1&#45;&#45;2 -->\n<g id=\"edge2\" class=\"edge\">\n<title>1&#45;&#45;2</title>\n<path fill=\"none\" stroke=\"black\" d=\"M84.95,-155.03C80.51,-142.07 70,-111.42 65.32,-97.77\"/>\n</g>\n<!-- 5 -->\n<g id=\"node6\" class=\"node\">\n<title>5</title>\n</g>\n<!-- 1&#45;&#45;5 -->\n<g id=\"edge5\" class=\"edge\">\n<title>1&#45;&#45;5</title>\n<path fill=\"none\" stroke=\"lightgreen\" d=\"M89.13,-155.03C92.79,-144.78 100.4,-123.47 105.84,-108.25\"/>\n</g>\n<!-- 3 -->\n<g id=\"node4\" class=\"node\">\n<title>3</title>\n</g>\n<!-- 2&#45;&#45;3 -->\n<g id=\"edge3\" class=\"edge\">\n<title>2&#45;&#45;3</title>\n<path fill=\"none\" stroke=\"lightgreen\" d=\"M59.55,-82.29C54.13,-71.75 43.45,-50.99 35.8,-36.12\"/>\n</g>\n<!-- 4 -->\n<g id=\"node5\" class=\"node\">\n<title>4</title>\n</g>\n<!-- 2&#45;&#45;4 -->\n<g id=\"edge4\" class=\"edge\">\n<title>2&#45;&#45;4</title>\n<path fill=\"none\" stroke=\"lightgreen\" d=\"M66.45,-82.29C71.87,-71.75 82.55,-50.99 90.2,-36.12\"/>\n</g>\n</g>\n</svg>\n</div></td></tr></table>"
     },
     "metadata": {},
     "output_type": "display_data"
    },
    {
     "data": {
      "text/plain": "<IPython.core.display.HTML object>",
      "text/html": "<table style=\"border-style: hidden; border-collapse: collapse;\" width=\"100%\"><tr><td style=\"border-top:hidden;border-bottom:hidden;\"><div align=\"center\" style=\"\"><?xml version=\"1.0\" encoding=\"UTF-8\" standalone=\"no\"?>\n<!DOCTYPE svg PUBLIC \"-//W3C//DTD SVG 1.1//EN\"\n \"http://www.w3.org/Graphics/SVG/1.1/DTD/svg11.dtd\">\n<!-- Generated by graphviz version 2.44.1 (20200629.0846)\n -->\n<!-- Pages: 1 -->\n<svg width=\"221pt\" height=\"288pt\"\n viewBox=\"0.00 0.00 221.17 288.00\" xmlns=\"http://www.w3.org/2000/svg\" xmlns:xlink=\"http://www.w3.org/1999/xlink\">\n<g id=\"graph0\" class=\"graph\" transform=\"scale(0.8 0.8) rotate(0) translate(4 358)\">\n<polygon fill=\"white\" stroke=\"transparent\" points=\"-4,4 -4,-358 274,-358 274,4 -4,4\"/>\n<!-- 0 -->\n<g id=\"node1\" class=\"node\">\n<title>0</title>\n<text text-anchor=\"middle\" x=\"158\" y=\"-342.8\" font-family=\"Times,serif\" font-size=\"14.00\">s</text>\n</g>\n<!-- 1 -->\n<g id=\"node2\" class=\"node\">\n<title>1</title>\n</g>\n<!-- 0&#45;&#45;1 -->\n<g id=\"edge1\" class=\"edge\">\n<title>0&#45;&#45;1</title>\n<path fill=\"none\" stroke=\"lightgreen\" d=\"M155.36,-338.67C152.03,-330.07 146.2,-314.96 141.62,-303.13\"/>\n</g>\n<!-- 2 -->\n<g id=\"node3\" class=\"node\">\n<title>2</title>\n<text text-anchor=\"middle\" x=\"182\" y=\"-281.3\" font-family=\"Times,serif\" font-size=\"14.00\">l</text>\n</g>\n<!-- 0&#45;&#45;2 -->\n<g id=\"edge2\" class=\"edge\">\n<title>0&#45;&#45;2</title>\n<path fill=\"none\" stroke=\"black\" d=\"M160.75,-338.67C165.63,-326.59 175.67,-301.69 179.97,-291.02\"/>\n</g>\n<!-- 3 -->\n<g id=\"node4\" class=\"node\">\n<title>3</title>\n<text text-anchor=\"middle\" x=\"159\" y=\"-209.3\" font-family=\"Times,serif\" font-size=\"14.00\">l</text>\n</g>\n<!-- 2&#45;&#45;3 -->\n<g id=\"edge3\" class=\"edge\">\n<title>2&#45;&#45;3</title>\n<path fill=\"none\" stroke=\"black\" d=\"M179.88,-277.54C175.47,-264.14 165.39,-233.46 161.05,-220.24\"/>\n</g>\n<!-- 12 -->\n<g id=\"node13\" class=\"node\">\n<title>12</title>\n</g>\n<!-- 2&#45;&#45;12 -->\n<g id=\"edge12\" class=\"edge\">\n<title>2&#45;&#45;12</title>\n<path fill=\"none\" stroke=\"lightgreen\" d=\"M184.05,-278.03C187.56,-267.78 194.87,-246.47 200.09,-231.25\"/>\n</g>\n<!-- 4 -->\n<g id=\"node5\" class=\"node\">\n<title>4</title>\n<text text-anchor=\"middle\" x=\"135\" y=\"-137.3\" font-family=\"Times,serif\" font-size=\"14.00\">a</text>\n</g>\n<!-- 3&#45;&#45;4 -->\n<g id=\"edge4\" class=\"edge\">\n<title>3&#45;&#45;4</title>\n<path fill=\"none\" stroke=\"black\" d=\"M156.95,-206.03C152.51,-193.07 142,-162.42 137.32,-148.77\"/>\n</g>\n<!-- 11 -->\n<g id=\"node12\" class=\"node\">\n<title>11</title>\n<text text-anchor=\"middle\" x=\"184\" y=\"-137.3\" font-family=\"Times,serif\" font-size=\"14.00\">*</text>\n</g>\n<!-- 3&#45;&#45;11 -->\n<g id=\"edge11\" class=\"edge\">\n<title>3&#45;&#45;11</title>\n<path fill=\"none\" stroke=\"lightgreen\" d=\"M161.13,-206.03C164.79,-195.78 172.4,-174.47 177.84,-159.25\"/>\n</g>\n<!-- 5 -->\n<g id=\"node6\" class=\"node\">\n<title>5</title>\n<text text-anchor=\"middle\" x=\"99\" y=\"-75.8\" font-family=\"Times,serif\" font-size=\"14.00\">o</text>\n</g>\n<!-- 4&#45;&#45;5 -->\n<g id=\"edge5\" class=\"edge\">\n<title>4&#45;&#45;5</title>\n<path fill=\"none\" stroke=\"black\" d=\"M131.42,-134.08C124.52,-122.67 109.46,-97.78 102.57,-86.4\"/>\n</g>\n<!-- 8 -->\n<g id=\"node9\" class=\"node\">\n<title>8</title>\n<text text-anchor=\"middle\" x=\"171\" y=\"-75.8\" font-family=\"Times,serif\" font-size=\"14.00\">o</text>\n</g>\n<!-- 4&#45;&#45;8 -->\n<g id=\"edge8\" class=\"edge\">\n<title>4&#45;&#45;8</title>\n<path fill=\"none\" stroke=\"black\" d=\"M138.58,-134.08C145.48,-122.67 160.54,-97.78 167.43,-86.4\"/>\n</g>\n<!-- 6 -->\n<g id=\"node7\" class=\"node\">\n<title>6</title>\n</g>\n<!-- 5&#45;&#45;6 -->\n<g id=\"edge6\" class=\"edge\">\n<title>5&#45;&#45;6</title>\n<path fill=\"none\" stroke=\"lightgreen\" d=\"M95.13,-75.3C86.37,-68.06 64.48,-49.97 47.86,-36.24\"/>\n</g>\n<!-- 7 -->\n<g id=\"node8\" class=\"node\">\n<title>7</title>\n</g>\n<!-- 5&#45;&#45;7 -->\n<g id=\"edge7\" class=\"edge\">\n<title>5&#45;&#45;7</title>\n<path fill=\"none\" stroke=\"lightgreen\" d=\"M99,-71.67C99,-63.07 99,-47.96 99,-36.13\"/>\n</g>\n<!-- 9 -->\n<g id=\"node10\" class=\"node\">\n<title>9</title>\n</g>\n<!-- 8&#45;&#45;9 -->\n<g id=\"edge9\" class=\"edge\">\n<title>8&#45;&#45;9</title>\n<path fill=\"none\" stroke=\"lightgreen\" d=\"M171,-71.67C171,-63.07 171,-47.96 171,-36.13\"/>\n</g>\n<!-- 10 -->\n<g id=\"node11\" class=\"node\">\n<title>10</title>\n</g>\n<!-- 8&#45;&#45;10 -->\n<g id=\"edge10\" class=\"edge\">\n<title>8&#45;&#45;10</title>\n<path fill=\"none\" stroke=\"lightgreen\" d=\"M174.87,-75.3C183.63,-68.06 205.52,-49.97 222.14,-36.24\"/>\n</g>\n</g>\n</svg>\n</div></td><td style=\"border-top:hidden;border-bottom:hidden;\"><div align=\"center\" style=\"\"><?xml version=\"1.0\" encoding=\"UTF-8\" standalone=\"no\"?>\n<!DOCTYPE svg PUBLIC \"-//W3C//DTD SVG 1.1//EN\"\n \"http://www.w3.org/Graphics/SVG/1.1/DTD/svg11.dtd\">\n<!-- Generated by graphviz version 2.44.1 (20200629.0846)\n -->\n<!-- Pages: 1 -->\n<svg width=\"278pt\" height=\"146pt\"\n viewBox=\"0.00 0.00 278.00 146.00\" xmlns=\"http://www.w3.org/2000/svg\" xmlns:xlink=\"http://www.w3.org/1999/xlink\">\n<g id=\"graph0\" class=\"graph\" transform=\"scale(1 1) rotate(0) translate(4 142)\">\n<polygon fill=\"white\" stroke=\"transparent\" points=\"-4,4 -4,-142 274,-142 274,4 -4,4\"/>\n<!-- 0 -->\n<g id=\"node1\" class=\"node\">\n<title>0</title>\n<text text-anchor=\"middle\" x=\"135\" y=\"-126.8\" font-family=\"Times,serif\" font-size=\"14.00\">a</text>\n</g>\n<!-- 1 -->\n<g id=\"node2\" class=\"node\">\n<title>1</title>\n<text text-anchor=\"middle\" x=\"99\" y=\"-75.8\" font-family=\"Times,serif\" font-size=\"14.00\">o</text>\n</g>\n<!-- 0&#45;&#45;1 -->\n<g id=\"edge1\" class=\"edge\">\n<title>0&#45;&#45;1</title>\n<path fill=\"none\" stroke=\"black\" d=\"M131.42,-124.62C124.52,-115.23 109.46,-94.73 102.57,-85.36\"/>\n</g>\n<!-- 4 -->\n<g id=\"node5\" class=\"node\">\n<title>4</title>\n<text text-anchor=\"middle\" x=\"171\" y=\"-75.8\" font-family=\"Times,serif\" font-size=\"14.00\">o</text>\n</g>\n<!-- 0&#45;&#45;4 -->\n<g id=\"edge4\" class=\"edge\">\n<title>0&#45;&#45;4</title>\n<path fill=\"none\" stroke=\"black\" d=\"M138.58,-124.62C145.48,-115.23 160.54,-94.73 167.43,-85.36\"/>\n</g>\n<!-- 2 -->\n<g id=\"node3\" class=\"node\">\n<title>2</title>\n</g>\n<!-- 1&#45;&#45;2 -->\n<g id=\"edge2\" class=\"edge\">\n<title>1&#45;&#45;2</title>\n<path fill=\"none\" stroke=\"lightgreen\" d=\"M95.13,-75.3C86.37,-68.06 64.48,-49.97 47.86,-36.24\"/>\n</g>\n<!-- 3 -->\n<g id=\"node4\" class=\"node\">\n<title>3</title>\n</g>\n<!-- 1&#45;&#45;3 -->\n<g id=\"edge3\" class=\"edge\">\n<title>1&#45;&#45;3</title>\n<path fill=\"none\" stroke=\"lightgreen\" d=\"M99,-71.67C99,-63.07 99,-47.96 99,-36.13\"/>\n</g>\n<!-- 5 -->\n<g id=\"node6\" class=\"node\">\n<title>5</title>\n</g>\n<!-- 4&#45;&#45;5 -->\n<g id=\"edge5\" class=\"edge\">\n<title>4&#45;&#45;5</title>\n<path fill=\"none\" stroke=\"lightgreen\" d=\"M171,-71.67C171,-63.07 171,-47.96 171,-36.13\"/>\n</g>\n<!-- 6 -->\n<g id=\"node7\" class=\"node\">\n<title>6</title>\n</g>\n<!-- 4&#45;&#45;6 -->\n<g id=\"edge6\" class=\"edge\">\n<title>4&#45;&#45;6</title>\n<path fill=\"none\" stroke=\"lightgreen\" d=\"M174.87,-75.3C183.63,-68.06 205.52,-49.97 222.14,-36.24\"/>\n</g>\n</g>\n</svg>\n</div></td></tr></table>"
     },
     "metadata": {},
     "output_type": "display_data"
    },
    {
     "data": {
      "text/plain": "<IPython.core.display.HTML object>",
      "text/html": "<table style=\"border-style: hidden; border-collapse: collapse;\" width=\"100%\"><tr><td style=\"border-top:hidden;border-bottom:hidden;\"><div align=\"center\" style=\"\"><?xml version=\"1.0\" encoding=\"UTF-8\" standalone=\"no\"?>\n<!DOCTYPE svg PUBLIC \"-//W3C//DTD SVG 1.1//EN\"\n \"http://www.w3.org/Graphics/SVG/1.1/DTD/svg11.dtd\">\n<!-- Generated by graphviz version 2.44.1 (20200629.0846)\n -->\n<!-- Pages: 1 -->\n<svg width=\"136pt\" height=\"288pt\"\n viewBox=\"0.00 0.00 136.09 288.00\" xmlns=\"http://www.w3.org/2000/svg\" xmlns:xlink=\"http://www.w3.org/1999/xlink\">\n<g id=\"graph0\" class=\"graph\" transform=\"scale(0.63 0.63) rotate(0) translate(4 451)\">\n<polygon fill=\"white\" stroke=\"transparent\" points=\"-4,4 -4,-451 211,-451 211,4 -4,4\"/>\n<!-- 0 -->\n<g id=\"node1\" class=\"node\">\n<title>0</title>\n<text text-anchor=\"middle\" x=\"133\" y=\"-435.8\" font-family=\"Times,serif\" font-size=\"14.00\">s</text>\n</g>\n<!-- 1 -->\n<g id=\"node2\" class=\"node\">\n<title>1</title>\n</g>\n<!-- 0&#45;&#45;1 -->\n<g id=\"edge1\" class=\"edge\">\n<title>0&#45;&#45;1</title>\n<path fill=\"none\" stroke=\"lightgreen\" d=\"M130.36,-431.67C127.03,-423.07 121.2,-407.96 116.62,-396.13\"/>\n</g>\n<!-- 2 -->\n<g id=\"node3\" class=\"node\">\n<title>2</title>\n<text text-anchor=\"middle\" x=\"157\" y=\"-374.3\" font-family=\"Times,serif\" font-size=\"14.00\">l</text>\n</g>\n<!-- 0&#45;&#45;2 -->\n<g id=\"edge2\" class=\"edge\">\n<title>0&#45;&#45;2</title>\n<path fill=\"none\" stroke=\"black\" d=\"M135.75,-431.67C140.63,-419.59 150.67,-394.69 154.97,-384.02\"/>\n</g>\n<!-- 3 -->\n<g id=\"node4\" class=\"node\">\n<title>3</title>\n<text text-anchor=\"middle\" x=\"133\" y=\"-302.3\" font-family=\"Times,serif\" font-size=\"14.00\">l</text>\n</g>\n<!-- 2&#45;&#45;3 -->\n<g id=\"edge3\" class=\"edge\">\n<title>2&#45;&#45;3</title>\n<path fill=\"none\" stroke=\"black\" d=\"M154.95,-371.03C150.42,-357.81 139.57,-326.16 135.04,-312.95\"/>\n</g>\n<!-- 12 -->\n<g id=\"node13\" class=\"node\">\n<title>12</title>\n</g>\n<!-- 2&#45;&#45;12 -->\n<g id=\"edge12\" class=\"edge\">\n<title>2&#45;&#45;12</title>\n<path fill=\"none\" stroke=\"lightgreen\" d=\"M159.12,-370.54C162.55,-360.12 169.41,-339.24 174.33,-324.26\"/>\n</g>\n<!-- 4 -->\n<g id=\"node5\" class=\"node\">\n<title>4</title>\n<text text-anchor=\"middle\" x=\"110\" y=\"-230.3\" font-family=\"Times,serif\" font-size=\"14.00\">l</text>\n</g>\n<!-- 3&#45;&#45;4 -->\n<g id=\"edge4\" class=\"edge\">\n<title>3&#45;&#45;4</title>\n<path fill=\"none\" stroke=\"black\" d=\"M130.88,-298.54C126.47,-285.14 116.39,-254.46 112.05,-241.24\"/>\n</g>\n<!-- 11 -->\n<g id=\"node12\" class=\"node\">\n<title>11</title>\n<text text-anchor=\"middle\" x=\"157\" y=\"-230.3\" font-family=\"Times,serif\" font-size=\"14.00\">*</text>\n</g>\n<!-- 3&#45;&#45;11 -->\n<g id=\"edge11\" class=\"edge\">\n<title>3&#45;&#45;11</title>\n<path fill=\"none\" stroke=\"lightgreen\" d=\"M135.05,-299.03C138.56,-288.78 145.87,-267.47 151.09,-252.25\"/>\n</g>\n<!-- 5 -->\n<g id=\"node6\" class=\"node\">\n<title>5</title>\n<text text-anchor=\"middle\" x=\"87\" y=\"-158.3\" font-family=\"Times,serif\" font-size=\"14.00\">l</text>\n</g>\n<!-- 4&#45;&#45;5 -->\n<g id=\"edge5\" class=\"edge\">\n<title>4&#45;&#45;5</title>\n<path fill=\"none\" stroke=\"black\" d=\"M107.88,-226.54C103.47,-213.14 93.39,-182.46 89.05,-169.24\"/>\n</g>\n<!-- 10 -->\n<g id=\"node11\" class=\"node\">\n<title>10</title>\n</g>\n<!-- 4&#45;&#45;10 -->\n<g id=\"edge10\" class=\"edge\">\n<title>4&#45;&#45;10</title>\n<path fill=\"none\" stroke=\"lightgreen\" d=\"M112.05,-227.03C115.56,-216.78 122.87,-195.47 128.09,-180.25\"/>\n</g>\n<!-- 6 -->\n<g id=\"node7\" class=\"node\">\n<title>6</title>\n<text text-anchor=\"middle\" x=\"63\" y=\"-86.3\" font-family=\"Times,serif\" font-size=\"14.00\">o</text>\n</g>\n<!-- 5&#45;&#45;6 -->\n<g id=\"edge6\" class=\"edge\">\n<title>5&#45;&#45;6</title>\n<path fill=\"none\" stroke=\"black\" d=\"M84.95,-155.03C80.51,-142.07 70,-111.42 65.32,-97.77\"/>\n</g>\n<!-- 9 -->\n<g id=\"node10\" class=\"node\">\n<title>9</title>\n</g>\n<!-- 5&#45;&#45;9 -->\n<g id=\"edge9\" class=\"edge\">\n<title>5&#45;&#45;9</title>\n<path fill=\"none\" stroke=\"lightgreen\" d=\"M89.13,-155.03C92.79,-144.78 100.4,-123.47 105.84,-108.25\"/>\n</g>\n<!-- 7 -->\n<g id=\"node8\" class=\"node\">\n<title>7</title>\n</g>\n<!-- 6&#45;&#45;7 -->\n<g id=\"edge7\" class=\"edge\">\n<title>6&#45;&#45;7</title>\n<path fill=\"none\" stroke=\"lightgreen\" d=\"M59.55,-82.29C54.13,-71.75 43.45,-50.99 35.8,-36.12\"/>\n</g>\n<!-- 8 -->\n<g id=\"node9\" class=\"node\">\n<title>8</title>\n</g>\n<!-- 6&#45;&#45;8 -->\n<g id=\"edge8\" class=\"edge\">\n<title>6&#45;&#45;8</title>\n<path fill=\"none\" stroke=\"lightgreen\" d=\"M66.45,-82.29C71.87,-71.75 82.55,-50.99 90.2,-36.12\"/>\n</g>\n</g>\n</svg>\n</div></td><td style=\"border-top:hidden;border-bottom:hidden;\"><div align=\"center\" style=\"\"><?xml version=\"1.0\" encoding=\"UTF-8\" standalone=\"no\"?>\n<!DOCTYPE svg PUBLIC \"-//W3C//DTD SVG 1.1//EN\"\n \"http://www.w3.org/Graphics/SVG/1.1/DTD/svg11.dtd\">\n<!-- Generated by graphviz version 2.44.1 (20200629.0846)\n -->\n<!-- Pages: 1 -->\n<svg width=\"169pt\" height=\"239pt\"\n viewBox=\"0.00 0.00 169.00 239.00\" xmlns=\"http://www.w3.org/2000/svg\" xmlns:xlink=\"http://www.w3.org/1999/xlink\">\n<g id=\"graph0\" class=\"graph\" transform=\"scale(1 1) rotate(0) translate(4 235)\">\n<polygon fill=\"white\" stroke=\"transparent\" points=\"-4,4 -4,-235 165,-235 165,4 -4,4\"/>\n<!-- 0 -->\n<g id=\"node1\" class=\"node\">\n<title>0</title>\n<text text-anchor=\"middle\" x=\"110\" y=\"-219.8\" font-family=\"Times,serif\" font-size=\"14.00\">l</text>\n</g>\n<!-- 1 -->\n<g id=\"node2\" class=\"node\">\n<title>1</title>\n<text text-anchor=\"middle\" x=\"87\" y=\"-158.3\" font-family=\"Times,serif\" font-size=\"14.00\">l</text>\n</g>\n<!-- 0&#45;&#45;1 -->\n<g id=\"edge1\" class=\"edge\">\n<title>0&#45;&#45;1</title>\n<path fill=\"none\" stroke=\"black\" d=\"M107.88,-217.01C103.47,-205.62 93.39,-179.54 89.05,-168.31\"/>\n</g>\n<!-- 6 -->\n<g id=\"node7\" class=\"node\">\n<title>6</title>\n</g>\n<!-- 0&#45;&#45;6 -->\n<g id=\"edge6\" class=\"edge\">\n<title>0&#45;&#45;6</title>\n<path fill=\"none\" stroke=\"lightgreen\" d=\"M112.05,-217.43C115.33,-209.28 121.94,-192.9 127.05,-180.23\"/>\n</g>\n<!-- 2 -->\n<g id=\"node3\" class=\"node\">\n<title>2</title>\n<text text-anchor=\"middle\" x=\"63\" y=\"-86.3\" font-family=\"Times,serif\" font-size=\"14.00\">o</text>\n</g>\n<!-- 1&#45;&#45;2 -->\n<g id=\"edge2\" class=\"edge\">\n<title>1&#45;&#45;2</title>\n<path fill=\"none\" stroke=\"black\" d=\"M84.95,-155.03C80.51,-142.07 70,-111.42 65.32,-97.77\"/>\n</g>\n<!-- 5 -->\n<g id=\"node6\" class=\"node\">\n<title>5</title>\n</g>\n<!-- 1&#45;&#45;5 -->\n<g id=\"edge5\" class=\"edge\">\n<title>1&#45;&#45;5</title>\n<path fill=\"none\" stroke=\"lightgreen\" d=\"M89.13,-155.03C92.79,-144.78 100.4,-123.47 105.84,-108.25\"/>\n</g>\n<!-- 3 -->\n<g id=\"node4\" class=\"node\">\n<title>3</title>\n</g>\n<!-- 2&#45;&#45;3 -->\n<g id=\"edge3\" class=\"edge\">\n<title>2&#45;&#45;3</title>\n<path fill=\"none\" stroke=\"lightgreen\" d=\"M59.55,-82.29C54.13,-71.75 43.45,-50.99 35.8,-36.12\"/>\n</g>\n<!-- 4 -->\n<g id=\"node5\" class=\"node\">\n<title>4</title>\n</g>\n<!-- 2&#45;&#45;4 -->\n<g id=\"edge4\" class=\"edge\">\n<title>2&#45;&#45;4</title>\n<path fill=\"none\" stroke=\"lightgreen\" d=\"M66.45,-82.29C71.87,-71.75 82.55,-50.99 90.2,-36.12\"/>\n</g>\n</g>\n</svg>\n</div></td></tr></table>"
     },
     "metadata": {},
     "output_type": "display_data"
    },
    {
     "data": {
      "text/plain": "<IPython.core.display.HTML object>",
      "text/html": "<table style=\"border-style: hidden; border-collapse: collapse;\" width=\"100%\"><tr><td style=\"border-top:hidden;border-bottom:hidden;\"><div align=\"center\" style=\"\"><?xml version=\"1.0\" encoding=\"UTF-8\" standalone=\"no\"?>\n<!DOCTYPE svg PUBLIC \"-//W3C//DTD SVG 1.1//EN\"\n \"http://www.w3.org/Graphics/SVG/1.1/DTD/svg11.dtd\">\n<!-- Generated by graphviz version 2.44.1 (20200629.0846)\n -->\n<!-- Pages: 1 -->\n<svg width=\"114pt\" height=\"288pt\"\n viewBox=\"0.00 0.00 113.93 288.00\" xmlns=\"http://www.w3.org/2000/svg\" xmlns:xlink=\"http://www.w3.org/1999/xlink\">\n<g id=\"graph0\" class=\"graph\" transform=\"scale(0.63 0.63) rotate(0) translate(4 451)\">\n<polygon fill=\"white\" stroke=\"transparent\" points=\"-4,4 -4,-451 176,-451 176,4 -4,4\"/>\n<!-- 0 -->\n<g id=\"node1\" class=\"node\">\n<title>0</title>\n<text text-anchor=\"middle\" x=\"97\" y=\"-435.8\" font-family=\"Times,serif\" font-size=\"14.00\">s</text>\n</g>\n<!-- 1 -->\n<g id=\"node2\" class=\"node\">\n<title>1</title>\n</g>\n<!-- 0&#45;&#45;1 -->\n<g id=\"edge1\" class=\"edge\">\n<title>0&#45;&#45;1</title>\n<path fill=\"none\" stroke=\"lightgreen\" d=\"M94.36,-431.67C91.03,-423.07 85.2,-407.96 80.62,-396.13\"/>\n</g>\n<!-- 2 -->\n<g id=\"node3\" class=\"node\">\n<title>2</title>\n<text text-anchor=\"middle\" x=\"121\" y=\"-374.3\" font-family=\"Times,serif\" font-size=\"14.00\">l</text>\n</g>\n<!-- 0&#45;&#45;2 -->\n<g id=\"edge2\" class=\"edge\">\n<title>0&#45;&#45;2</title>\n<path fill=\"none\" stroke=\"black\" d=\"M99.75,-431.67C104.63,-419.59 114.67,-394.69 118.97,-384.02\"/>\n</g>\n<!-- 3 -->\n<g id=\"node4\" class=\"node\">\n<title>3</title>\n<text text-anchor=\"middle\" x=\"98\" y=\"-302.3\" font-family=\"Times,serif\" font-size=\"14.00\">l</text>\n</g>\n<!-- 2&#45;&#45;3 -->\n<g id=\"edge3\" class=\"edge\">\n<title>2&#45;&#45;3</title>\n<path fill=\"none\" stroke=\"black\" d=\"M118.88,-370.54C114.47,-357.14 104.39,-326.46 100.05,-313.24\"/>\n</g>\n<!-- 12 -->\n<g id=\"node13\" class=\"node\">\n<title>12</title>\n</g>\n<!-- 2&#45;&#45;12 -->\n<g id=\"edge12\" class=\"edge\">\n<title>2&#45;&#45;12</title>\n<path fill=\"none\" stroke=\"lightgreen\" d=\"M123.05,-371.03C126.56,-360.78 133.87,-339.47 139.09,-324.25\"/>\n</g>\n<!-- 4 -->\n<g id=\"node5\" class=\"node\">\n<title>4</title>\n<text text-anchor=\"middle\" x=\"75\" y=\"-230.3\" font-family=\"Times,serif\" font-size=\"14.00\">l</text>\n</g>\n<!-- 3&#45;&#45;4 -->\n<g id=\"edge4\" class=\"edge\">\n<title>3&#45;&#45;4</title>\n<path fill=\"none\" stroke=\"black\" d=\"M95.88,-298.54C91.47,-285.14 81.39,-254.46 77.05,-241.24\"/>\n</g>\n<!-- 11 -->\n<g id=\"node12\" class=\"node\">\n<title>11</title>\n<text text-anchor=\"middle\" x=\"122\" y=\"-230.3\" font-family=\"Times,serif\" font-size=\"14.00\">*</text>\n</g>\n<!-- 3&#45;&#45;11 -->\n<g id=\"edge11\" class=\"edge\">\n<title>3&#45;&#45;11</title>\n<path fill=\"none\" stroke=\"lightgreen\" d=\"M100.05,-299.03C103.56,-288.78 110.87,-267.47 116.09,-252.25\"/>\n</g>\n<!-- 5 -->\n<g id=\"node6\" class=\"node\">\n<title>5</title>\n<text text-anchor=\"middle\" x=\"51\" y=\"-158.3\" font-family=\"Times,serif\" font-size=\"14.00\">s</text>\n</g>\n<!-- 4&#45;&#45;5 -->\n<g id=\"edge5\" class=\"edge\">\n<title>4&#45;&#45;5</title>\n<path fill=\"none\" stroke=\"black\" d=\"M72.95,-227.03C68.51,-214.07 58,-183.42 53.32,-169.77\"/>\n</g>\n<!-- 10 -->\n<g id=\"node11\" class=\"node\">\n<title>10</title>\n</g>\n<!-- 4&#45;&#45;10 -->\n<g id=\"edge10\" class=\"edge\">\n<title>4&#45;&#45;10</title>\n<path fill=\"none\" stroke=\"lightgreen\" d=\"M77.05,-227.03C80.56,-216.78 87.87,-195.47 93.09,-180.25\"/>\n</g>\n<!-- 6 -->\n<g id=\"node7\" class=\"node\">\n<title>6</title>\n</g>\n<!-- 5&#45;&#45;6 -->\n<g id=\"edge6\" class=\"edge\">\n<title>5&#45;&#45;6</title>\n<path fill=\"none\" stroke=\"lightgreen\" d=\"M48.7,-154.29C45.09,-143.75 37.97,-122.99 32.87,-108.12\"/>\n</g>\n<!-- 7 -->\n<g id=\"node8\" class=\"node\">\n<title>7</title>\n<text text-anchor=\"middle\" x=\"76\" y=\"-86.3\" font-family=\"Times,serif\" font-size=\"14.00\">o</text>\n</g>\n<!-- 5&#45;&#45;7 -->\n<g id=\"edge7\" class=\"edge\">\n<title>5&#45;&#45;7</title>\n<path fill=\"none\" stroke=\"black\" d=\"M53.4,-154.29C58.19,-140.87 68.89,-110.9 73.65,-97.59\"/>\n</g>\n<!-- 8 -->\n<g id=\"node9\" class=\"node\">\n<title>8</title>\n</g>\n<!-- 7&#45;&#45;8 -->\n<g id=\"edge8\" class=\"edge\">\n<title>7&#45;&#45;8</title>\n<path fill=\"none\" stroke=\"lightgreen\" d=\"M72.55,-82.29C67.13,-71.75 56.45,-50.99 48.8,-36.12\"/>\n</g>\n<!-- 9 -->\n<g id=\"node10\" class=\"node\">\n<title>9</title>\n</g>\n<!-- 7&#45;&#45;9 -->\n<g id=\"edge9\" class=\"edge\">\n<title>7&#45;&#45;9</title>\n<path fill=\"none\" stroke=\"lightgreen\" d=\"M79.45,-82.29C84.87,-71.75 95.55,-50.99 103.2,-36.12\"/>\n</g>\n</g>\n</svg>\n</div></td><td style=\"border-top:hidden;border-bottom:hidden;\"><div align=\"center\" style=\"\"><?xml version=\"1.0\" encoding=\"UTF-8\" standalone=\"no\"?>\n<!DOCTYPE svg PUBLIC \"-//W3C//DTD SVG 1.1//EN\"\n \"http://www.w3.org/Graphics/SVG/1.1/DTD/svg11.dtd\">\n<!-- Generated by graphviz version 2.44.1 (20200629.0846)\n -->\n<!-- Pages: 1 -->\n<svg width=\"147pt\" height=\"239pt\"\n viewBox=\"0.00 0.00 147.00 239.00\" xmlns=\"http://www.w3.org/2000/svg\" xmlns:xlink=\"http://www.w3.org/1999/xlink\">\n<g id=\"graph0\" class=\"graph\" transform=\"scale(1 1) rotate(0) translate(4 235)\">\n<polygon fill=\"white\" stroke=\"transparent\" points=\"-4,4 -4,-235 143,-235 143,4 -4,4\"/>\n<!-- 0 -->\n<g id=\"node1\" class=\"node\">\n<title>0</title>\n<text text-anchor=\"middle\" x=\"75\" y=\"-219.8\" font-family=\"Times,serif\" font-size=\"14.00\">l</text>\n</g>\n<!-- 1 -->\n<g id=\"node2\" class=\"node\">\n<title>1</title>\n<text text-anchor=\"middle\" x=\"51\" y=\"-158.3\" font-family=\"Times,serif\" font-size=\"14.00\">s</text>\n</g>\n<!-- 0&#45;&#45;1 -->\n<g id=\"edge1\" class=\"edge\">\n<title>0&#45;&#45;1</title>\n<path fill=\"none\" stroke=\"black\" d=\"M72.95,-217.43C68.65,-206.75 58.64,-181.94 53.77,-169.86\"/>\n</g>\n<!-- 6 -->\n<g id=\"node7\" class=\"node\">\n<title>6</title>\n</g>\n<!-- 0&#45;&#45;6 -->\n<g id=\"edge6\" class=\"edge\">\n<title>0&#45;&#45;6</title>\n<path fill=\"none\" stroke=\"lightgreen\" d=\"M77.05,-217.43C80.33,-209.28 86.94,-192.9 92.05,-180.23\"/>\n</g>\n<!-- 2 -->\n<g id=\"node3\" class=\"node\">\n<title>2</title>\n</g>\n<!-- 1&#45;&#45;2 -->\n<g id=\"edge2\" class=\"edge\">\n<title>1&#45;&#45;2</title>\n<path fill=\"none\" stroke=\"lightgreen\" d=\"M48.7,-154.29C45.09,-143.75 37.97,-122.99 32.87,-108.12\"/>\n</g>\n<!-- 3 -->\n<g id=\"node4\" class=\"node\">\n<title>3</title>\n<text text-anchor=\"middle\" x=\"76\" y=\"-86.3\" font-family=\"Times,serif\" font-size=\"14.00\">o</text>\n</g>\n<!-- 1&#45;&#45;3 -->\n<g id=\"edge3\" class=\"edge\">\n<title>1&#45;&#45;3</title>\n<path fill=\"none\" stroke=\"black\" d=\"M53.4,-154.29C58.19,-140.87 68.89,-110.9 73.65,-97.59\"/>\n</g>\n<!-- 4 -->\n<g id=\"node5\" class=\"node\">\n<title>4</title>\n</g>\n<!-- 3&#45;&#45;4 -->\n<g id=\"edge4\" class=\"edge\">\n<title>3&#45;&#45;4</title>\n<path fill=\"none\" stroke=\"lightgreen\" d=\"M72.55,-82.29C67.13,-71.75 56.45,-50.99 48.8,-36.12\"/>\n</g>\n<!-- 5 -->\n<g id=\"node6\" class=\"node\">\n<title>5</title>\n</g>\n<!-- 3&#45;&#45;5 -->\n<g id=\"edge5\" class=\"edge\">\n<title>3&#45;&#45;5</title>\n<path fill=\"none\" stroke=\"lightgreen\" d=\"M79.45,-82.29C84.87,-71.75 95.55,-50.99 103.2,-36.12\"/>\n</g>\n</g>\n</svg>\n</div></td></tr></table>"
     },
     "metadata": {},
     "output_type": "display_data"
    }
   ],
   "source": [
    "display_diff_class(1, 2)"
   ],
   "metadata": {
    "collapsed": false,
    "pycharm": {
     "name": "#%%\n"
    }
   }
  },
  {
   "cell_type": "code",
   "execution_count": null,
   "outputs": [],
   "source": [
    "display_r_class(2, 6)"
   ],
   "metadata": {
    "collapsed": false,
    "pycharm": {
     "name": "#%%\n"
    }
   }
  },
  {
   "cell_type": "code",
   "execution_count": 41,
   "outputs": [
    {
     "name": "stdout",
     "output_type": "stream",
     "text": [
      "================================================================================\n",
      "total: 0\n",
      "expected: 0\n",
      "\n",
      "minus: 68\n",
      "plus: 55\n",
      "diff: 27\n",
      "(2, 0):\t-1\tof 4\n",
      "(2, 1):\t-1\tof 4\n",
      "(2, 2):\t-1\tof 4\n",
      "(2, 3):\t-1\tof 4\n",
      "(2, 4):\t+7\tof 10\n",
      "(3, 0):\t-3\tof 12\n",
      "(3, 1):\t-2\tof 8\n",
      "(3, 2):\t-5\tof 8\n",
      "(3, 3):\t-3\tof 8\n",
      "(3, 5):\t-3\tof 8\n"
     ]
    }
   ],
   "source": [
    "# n-4:\n",
    "# l^2*s^2*n*B(n)\n",
    "\n",
    "i = 0\n",
    "\n",
    "clear_r_class(i)\n",
    "\n",
    "# l^2*s^2*n\n",
    "\n",
    "_append_r_class_subtree_visitor(i, 1,\n",
    "        lambda kind, left, right:\n",
    "            None if kind[0] is None else\n",
    "            [\"l\", \"l\", \"s\", None, \"s\", None, kind] + left + right + [None, None]\n",
    ")\n",
    "\n",
    "print(\"=\" * 80)\n",
    "compute_r_class_stats(i)\n",
    "print()\n",
    "compute_minus_plus_diff()"
   ],
   "metadata": {
    "collapsed": false,
    "pycharm": {
     "name": "#%%\n"
    }
   }
  },
  {
   "cell_type": "code",
   "execution_count": 42,
   "outputs": [
    {
     "data": {
      "text/plain": "<IPython.core.display.HTML object>",
      "text/html": "<table style=\"border-style: hidden; border-collapse: collapse;\" width=\"100%\"><tr><td style=\"border-top:hidden;border-bottom:hidden;\"><div align=\"center\" style=\"\"><?xml version=\"1.0\" encoding=\"UTF-8\" standalone=\"no\"?>\n<!DOCTYPE svg PUBLIC \"-//W3C//DTD SVG 1.1//EN\"\n \"http://www.w3.org/Graphics/SVG/1.1/DTD/svg11.dtd\">\n<!-- Generated by graphviz version 2.44.1 (20200629.0846)\n -->\n<!-- Pages: 1 -->\n<svg width=\"157pt\" height=\"288pt\"\n viewBox=\"0.00 0.00 157.43 288.00\" xmlns=\"http://www.w3.org/2000/svg\" xmlns:xlink=\"http://www.w3.org/1999/xlink\">\n<g id=\"graph0\" class=\"graph\" transform=\"scale(0.93 0.93) rotate(0) translate(4 307)\">\n<polygon fill=\"white\" stroke=\"transparent\" points=\"-4,4 -4,-307 166,-307 166,4 -4,4\"/>\n<!-- 0 -->\n<g id=\"node1\" class=\"node\">\n<title>0</title>\n<text text-anchor=\"middle\" x=\"75\" y=\"-291.8\" font-family=\"Times,serif\" font-size=\"14.00\">l</text>\n</g>\n<!-- 1 -->\n<g id=\"node2\" class=\"node\">\n<title>1</title>\n<text text-anchor=\"middle\" x=\"51\" y=\"-230.3\" font-family=\"Times,serif\" font-size=\"14.00\">s</text>\n</g>\n<!-- 0&#45;&#45;1 -->\n<g id=\"edge1\" class=\"edge\">\n<title>0&#45;&#45;1</title>\n<path fill=\"none\" stroke=\"black\" d=\"M72.95,-289.43C68.65,-278.75 58.64,-253.94 53.77,-241.86\"/>\n</g>\n<!-- 8 -->\n<g id=\"node9\" class=\"node\">\n<title>8</title>\n</g>\n<!-- 0&#45;&#45;8 -->\n<g id=\"edge8\" class=\"edge\">\n<title>0&#45;&#45;8</title>\n<path fill=\"none\" stroke=\"lightgreen\" d=\"M77.05,-289.43C80.33,-281.28 86.94,-264.9 92.05,-252.23\"/>\n</g>\n<!-- 2 -->\n<g id=\"node3\" class=\"node\">\n<title>2</title>\n</g>\n<!-- 1&#45;&#45;2 -->\n<g id=\"edge2\" class=\"edge\">\n<title>1&#45;&#45;2</title>\n<path fill=\"none\" stroke=\"lightgreen\" d=\"M48.7,-226.29C45.09,-215.75 37.97,-194.99 32.87,-180.12\"/>\n</g>\n<!-- 3 -->\n<g id=\"node4\" class=\"node\">\n<title>3</title>\n<text text-anchor=\"middle\" x=\"75\" y=\"-158.3\" font-family=\"Times,serif\" font-size=\"14.00\">s</text>\n</g>\n<!-- 1&#45;&#45;3 -->\n<g id=\"edge3\" class=\"edge\">\n<title>1&#45;&#45;3</title>\n<path fill=\"none\" stroke=\"black\" d=\"M53.3,-226.29C57.9,-212.87 68.18,-182.9 72.74,-169.59\"/>\n</g>\n<!-- 4 -->\n<g id=\"node5\" class=\"node\">\n<title>4</title>\n<text text-anchor=\"middle\" x=\"50\" y=\"-86.3\" font-family=\"Times,serif\" font-size=\"14.00\">*</text>\n</g>\n<!-- 3&#45;&#45;4 -->\n<g id=\"edge4\" class=\"edge\">\n<title>3&#45;&#45;4</title>\n<path fill=\"none\" stroke=\"lightgreen\" d=\"M72.6,-154.29C68.84,-143.75 61.42,-122.99 56.11,-108.12\"/>\n</g>\n<!-- 5 -->\n<g id=\"node6\" class=\"node\">\n<title>5</title>\n<text text-anchor=\"middle\" x=\"99\" y=\"-86.3\" font-family=\"Times,serif\" font-size=\"14.00\">o</text>\n</g>\n<!-- 3&#45;&#45;5 -->\n<g id=\"edge5\" class=\"edge\">\n<title>3&#45;&#45;5</title>\n<path fill=\"none\" stroke=\"black\" d=\"M77.3,-154.29C81.9,-140.87 92.18,-110.9 96.74,-97.59\"/>\n</g>\n<!-- 6 -->\n<g id=\"node7\" class=\"node\">\n<title>6</title>\n</g>\n<!-- 5&#45;&#45;6 -->\n<g id=\"edge6\" class=\"edge\">\n<title>5&#45;&#45;6</title>\n<path fill=\"none\" stroke=\"lightgreen\" d=\"M95.55,-82.29C90.13,-71.75 79.45,-50.99 71.8,-36.12\"/>\n</g>\n<!-- 7 -->\n<g id=\"node8\" class=\"node\">\n<title>7</title>\n</g>\n<!-- 5&#45;&#45;7 -->\n<g id=\"edge7\" class=\"edge\">\n<title>5&#45;&#45;7</title>\n<path fill=\"none\" stroke=\"lightgreen\" d=\"M102.45,-82.29C107.87,-71.75 118.55,-50.99 126.2,-36.12\"/>\n</g>\n</g>\n</svg>\n</div></td><td style=\"border-top:hidden;border-bottom:hidden;\"><div align=\"center\" style=\"\"><?xml version=\"1.0\" encoding=\"UTF-8\" standalone=\"no\"?>\n<!DOCTYPE svg PUBLIC \"-//W3C//DTD SVG 1.1//EN\"\n \"http://www.w3.org/Graphics/SVG/1.1/DTD/svg11.dtd\">\n<!-- Generated by graphviz version 2.44.1 (20200629.0846)\n -->\n<!-- Pages: 1 -->\n<svg width=\"147pt\" height=\"239pt\"\n viewBox=\"0.00 0.00 147.00 239.00\" xmlns=\"http://www.w3.org/2000/svg\" xmlns:xlink=\"http://www.w3.org/1999/xlink\">\n<g id=\"graph0\" class=\"graph\" transform=\"scale(1 1) rotate(0) translate(4 235)\">\n<polygon fill=\"white\" stroke=\"transparent\" points=\"-4,4 -4,-235 143,-235 143,4 -4,4\"/>\n<!-- 0 -->\n<g id=\"node1\" class=\"node\">\n<title>0</title>\n<text text-anchor=\"middle\" x=\"75\" y=\"-219.8\" font-family=\"Times,serif\" font-size=\"14.00\">l</text>\n</g>\n<!-- 1 -->\n<g id=\"node2\" class=\"node\">\n<title>1</title>\n<text text-anchor=\"middle\" x=\"51\" y=\"-158.3\" font-family=\"Times,serif\" font-size=\"14.00\">s</text>\n</g>\n<!-- 0&#45;&#45;1 -->\n<g id=\"edge1\" class=\"edge\">\n<title>0&#45;&#45;1</title>\n<path fill=\"none\" stroke=\"black\" d=\"M72.95,-217.43C68.65,-206.75 58.64,-181.94 53.77,-169.86\"/>\n</g>\n<!-- 6 -->\n<g id=\"node7\" class=\"node\">\n<title>6</title>\n</g>\n<!-- 0&#45;&#45;6 -->\n<g id=\"edge6\" class=\"edge\">\n<title>0&#45;&#45;6</title>\n<path fill=\"none\" stroke=\"lightgreen\" d=\"M77.05,-217.43C80.33,-209.28 86.94,-192.9 92.05,-180.23\"/>\n</g>\n<!-- 2 -->\n<g id=\"node3\" class=\"node\">\n<title>2</title>\n</g>\n<!-- 1&#45;&#45;2 -->\n<g id=\"edge2\" class=\"edge\">\n<title>1&#45;&#45;2</title>\n<path fill=\"none\" stroke=\"lightgreen\" d=\"M48.7,-154.29C45.09,-143.75 37.97,-122.99 32.87,-108.12\"/>\n</g>\n<!-- 3 -->\n<g id=\"node4\" class=\"node\">\n<title>3</title>\n<text text-anchor=\"middle\" x=\"76\" y=\"-86.3\" font-family=\"Times,serif\" font-size=\"14.00\">o</text>\n</g>\n<!-- 1&#45;&#45;3 -->\n<g id=\"edge3\" class=\"edge\">\n<title>1&#45;&#45;3</title>\n<path fill=\"none\" stroke=\"black\" d=\"M53.4,-154.29C58.19,-140.87 68.89,-110.9 73.65,-97.59\"/>\n</g>\n<!-- 4 -->\n<g id=\"node5\" class=\"node\">\n<title>4</title>\n</g>\n<!-- 3&#45;&#45;4 -->\n<g id=\"edge4\" class=\"edge\">\n<title>3&#45;&#45;4</title>\n<path fill=\"none\" stroke=\"lightgreen\" d=\"M72.55,-82.29C67.13,-71.75 56.45,-50.99 48.8,-36.12\"/>\n</g>\n<!-- 5 -->\n<g id=\"node6\" class=\"node\">\n<title>5</title>\n</g>\n<!-- 3&#45;&#45;5 -->\n<g id=\"edge5\" class=\"edge\">\n<title>3&#45;&#45;5</title>\n<path fill=\"none\" stroke=\"lightgreen\" d=\"M79.45,-82.29C84.87,-71.75 95.55,-50.99 103.2,-36.12\"/>\n</g>\n</g>\n</svg>\n</div></td></tr></table>"
     },
     "metadata": {},
     "output_type": "display_data"
    },
    {
     "data": {
      "text/plain": "<IPython.core.display.HTML object>",
      "text/html": "<table style=\"border-style: hidden; border-collapse: collapse;\" width=\"100%\"><tr><td style=\"border-top:hidden;border-bottom:hidden;\"><div align=\"center\" style=\"\"><?xml version=\"1.0\" encoding=\"UTF-8\" standalone=\"no\"?>\n<!DOCTYPE svg PUBLIC \"-//W3C//DTD SVG 1.1//EN\"\n \"http://www.w3.org/Graphics/SVG/1.1/DTD/svg11.dtd\">\n<!-- Generated by graphviz version 2.44.1 (20200629.0846)\n -->\n<!-- Pages: 1 -->\n<svg width=\"180pt\" height=\"288pt\"\n viewBox=\"0.00 0.00 179.65 288.00\" xmlns=\"http://www.w3.org/2000/svg\" xmlns:xlink=\"http://www.w3.org/1999/xlink\">\n<g id=\"graph0\" class=\"graph\" transform=\"scale(0.93 0.93) rotate(0) translate(4 307)\">\n<polygon fill=\"white\" stroke=\"transparent\" points=\"-4,4 -4,-307 190,-307 190,4 -4,4\"/>\n<!-- 0 -->\n<g id=\"node1\" class=\"node\">\n<title>0</title>\n<text text-anchor=\"middle\" x=\"51\" y=\"-291.8\" font-family=\"Times,serif\" font-size=\"14.00\">s</text>\n</g>\n<!-- 1 -->\n<g id=\"node2\" class=\"node\">\n<title>1</title>\n</g>\n<!-- 0&#45;&#45;1 -->\n<g id=\"edge1\" class=\"edge\">\n<title>0&#45;&#45;1</title>\n<path fill=\"none\" stroke=\"lightgreen\" d=\"M48.25,-287.67C44.77,-279.07 38.68,-263.96 33.91,-252.13\"/>\n</g>\n<!-- 2 -->\n<g id=\"node3\" class=\"node\">\n<title>2</title>\n<text text-anchor=\"middle\" x=\"75\" y=\"-230.3\" font-family=\"Times,serif\" font-size=\"14.00\">s</text>\n</g>\n<!-- 0&#45;&#45;2 -->\n<g id=\"edge2\" class=\"edge\">\n<title>0&#45;&#45;2</title>\n<path fill=\"none\" stroke=\"black\" d=\"M53.75,-287.67C58.38,-276.2 67.67,-253.17 72.28,-241.75\"/>\n</g>\n<!-- 3 -->\n<g id=\"node4\" class=\"node\">\n<title>3</title>\n<text text-anchor=\"middle\" x=\"51\" y=\"-158.3\" font-family=\"Times,serif\" font-size=\"14.00\">*</text>\n</g>\n<!-- 2&#45;&#45;3 -->\n<g id=\"edge3\" class=\"edge\">\n<title>2&#45;&#45;3</title>\n<path fill=\"none\" stroke=\"lightgreen\" d=\"M72.7,-226.29C69.09,-215.75 61.97,-194.99 56.87,-180.12\"/>\n</g>\n<!-- 4 -->\n<g id=\"node5\" class=\"node\">\n<title>4</title>\n<text text-anchor=\"middle\" x=\"99\" y=\"-158.3\" font-family=\"Times,serif\" font-size=\"14.00\">s</text>\n</g>\n<!-- 2&#45;&#45;4 -->\n<g id=\"edge4\" class=\"edge\">\n<title>2&#45;&#45;4</title>\n<path fill=\"none\" stroke=\"black\" d=\"M77.3,-226.29C81.9,-212.87 92.18,-182.9 96.74,-169.59\"/>\n</g>\n<!-- 5 -->\n<g id=\"node6\" class=\"node\">\n<title>5</title>\n</g>\n<!-- 4&#45;&#45;5 -->\n<g id=\"edge5\" class=\"edge\">\n<title>4&#45;&#45;5</title>\n<path fill=\"none\" stroke=\"lightgreen\" d=\"M96.6,-154.29C92.84,-143.75 85.42,-122.99 80.11,-108.12\"/>\n</g>\n<!-- 6 -->\n<g id=\"node7\" class=\"node\">\n<title>6</title>\n<text text-anchor=\"middle\" x=\"123\" y=\"-86.3\" font-family=\"Times,serif\" font-size=\"14.00\">o</text>\n</g>\n<!-- 4&#45;&#45;6 -->\n<g id=\"edge6\" class=\"edge\">\n<title>4&#45;&#45;6</title>\n<path fill=\"none\" stroke=\"black\" d=\"M101.3,-154.29C105.9,-140.87 116.18,-110.9 120.74,-97.59\"/>\n</g>\n<!-- 7 -->\n<g id=\"node8\" class=\"node\">\n<title>7</title>\n</g>\n<!-- 6&#45;&#45;7 -->\n<g id=\"edge7\" class=\"edge\">\n<title>6&#45;&#45;7</title>\n<path fill=\"none\" stroke=\"lightgreen\" d=\"M119.55,-82.29C114.13,-71.75 103.45,-50.99 95.8,-36.12\"/>\n</g>\n<!-- 8 -->\n<g id=\"node9\" class=\"node\">\n<title>8</title>\n</g>\n<!-- 6&#45;&#45;8 -->\n<g id=\"edge8\" class=\"edge\">\n<title>6&#45;&#45;8</title>\n<path fill=\"none\" stroke=\"lightgreen\" d=\"M126.45,-82.29C131.87,-71.75 142.55,-50.99 150.2,-36.12\"/>\n</g>\n</g>\n</svg>\n</div></td><td style=\"border-top:hidden;border-bottom:hidden;\"><div align=\"center\" style=\"\"><?xml version=\"1.0\" encoding=\"UTF-8\" standalone=\"no\"?>\n<!DOCTYPE svg PUBLIC \"-//W3C//DTD SVG 1.1//EN\"\n \"http://www.w3.org/Graphics/SVG/1.1/DTD/svg11.dtd\">\n<!-- Generated by graphviz version 2.44.1 (20200629.0846)\n -->\n<!-- Pages: 1 -->\n<svg width=\"170pt\" height=\"239pt\"\n viewBox=\"0.00 0.00 170.00 239.00\" xmlns=\"http://www.w3.org/2000/svg\" xmlns:xlink=\"http://www.w3.org/1999/xlink\">\n<g id=\"graph0\" class=\"graph\" transform=\"scale(1 1) rotate(0) translate(4 235)\">\n<polygon fill=\"white\" stroke=\"transparent\" points=\"-4,4 -4,-235 166,-235 166,4 -4,4\"/>\n<!-- 0 -->\n<g id=\"node1\" class=\"node\">\n<title>0</title>\n<text text-anchor=\"middle\" x=\"51\" y=\"-219.8\" font-family=\"Times,serif\" font-size=\"14.00\">s</text>\n</g>\n<!-- 1 -->\n<g id=\"node2\" class=\"node\">\n<title>1</title>\n</g>\n<!-- 0&#45;&#45;1 -->\n<g id=\"edge1\" class=\"edge\">\n<title>0&#45;&#45;1</title>\n<path fill=\"none\" stroke=\"lightgreen\" d=\"M48.25,-215.67C44.77,-207.07 38.68,-191.96 33.91,-180.13\"/>\n</g>\n<!-- 2 -->\n<g id=\"node3\" class=\"node\">\n<title>2</title>\n<text text-anchor=\"middle\" x=\"75\" y=\"-158.3\" font-family=\"Times,serif\" font-size=\"14.00\">s</text>\n</g>\n<!-- 0&#45;&#45;2 -->\n<g id=\"edge2\" class=\"edge\">\n<title>0&#45;&#45;2</title>\n<path fill=\"none\" stroke=\"black\" d=\"M53.75,-215.67C58.38,-204.2 67.67,-181.17 72.28,-169.75\"/>\n</g>\n<!-- 3 -->\n<g id=\"node4\" class=\"node\">\n<title>3</title>\n</g>\n<!-- 2&#45;&#45;3 -->\n<g id=\"edge3\" class=\"edge\">\n<title>2&#45;&#45;3</title>\n<path fill=\"none\" stroke=\"lightgreen\" d=\"M72.6,-154.29C68.84,-143.75 61.42,-122.99 56.11,-108.12\"/>\n</g>\n<!-- 4 -->\n<g id=\"node5\" class=\"node\">\n<title>4</title>\n<text text-anchor=\"middle\" x=\"99\" y=\"-86.3\" font-family=\"Times,serif\" font-size=\"14.00\">o</text>\n</g>\n<!-- 2&#45;&#45;4 -->\n<g id=\"edge4\" class=\"edge\">\n<title>2&#45;&#45;4</title>\n<path fill=\"none\" stroke=\"black\" d=\"M77.3,-154.29C81.9,-140.87 92.18,-110.9 96.74,-97.59\"/>\n</g>\n<!-- 5 -->\n<g id=\"node6\" class=\"node\">\n<title>5</title>\n</g>\n<!-- 4&#45;&#45;5 -->\n<g id=\"edge5\" class=\"edge\">\n<title>4&#45;&#45;5</title>\n<path fill=\"none\" stroke=\"lightgreen\" d=\"M95.55,-82.29C90.13,-71.75 79.45,-50.99 71.8,-36.12\"/>\n</g>\n<!-- 6 -->\n<g id=\"node7\" class=\"node\">\n<title>6</title>\n</g>\n<!-- 4&#45;&#45;6 -->\n<g id=\"edge6\" class=\"edge\">\n<title>4&#45;&#45;6</title>\n<path fill=\"none\" stroke=\"lightgreen\" d=\"M102.45,-82.29C107.87,-71.75 118.55,-50.99 126.2,-36.12\"/>\n</g>\n</g>\n</svg>\n</div></td></tr></table>"
     },
     "metadata": {},
     "output_type": "display_data"
    },
    {
     "data": {
      "text/plain": "<IPython.core.display.HTML object>",
      "text/html": "<table style=\"border-style: hidden; border-collapse: collapse;\" width=\"100%\"><tr><td style=\"border-top:hidden;border-bottom:hidden;\"><div align=\"center\" style=\"\"><?xml version=\"1.0\" encoding=\"UTF-8\" standalone=\"no\"?>\n<!DOCTYPE svg PUBLIC \"-//W3C//DTD SVG 1.1//EN\"\n \"http://www.w3.org/Graphics/SVG/1.1/DTD/svg11.dtd\">\n<!-- Generated by graphviz version 2.44.1 (20200629.0846)\n -->\n<!-- Pages: 1 -->\n<svg width=\"180pt\" height=\"288pt\"\n viewBox=\"0.00 0.00 179.65 288.00\" xmlns=\"http://www.w3.org/2000/svg\" xmlns:xlink=\"http://www.w3.org/1999/xlink\">\n<g id=\"graph0\" class=\"graph\" transform=\"scale(0.93 0.93) rotate(0) translate(4 307)\">\n<polygon fill=\"white\" stroke=\"transparent\" points=\"-4,4 -4,-307 190,-307 190,4 -4,4\"/>\n<!-- 0 -->\n<g id=\"node1\" class=\"node\">\n<title>0</title>\n<text text-anchor=\"middle\" x=\"51\" y=\"-291.8\" font-family=\"Times,serif\" font-size=\"14.00\">s</text>\n</g>\n<!-- 1 -->\n<g id=\"node2\" class=\"node\">\n<title>1</title>\n</g>\n<!-- 0&#45;&#45;1 -->\n<g id=\"edge1\" class=\"edge\">\n<title>0&#45;&#45;1</title>\n<path fill=\"none\" stroke=\"lightgreen\" d=\"M48.25,-287.67C44.77,-279.07 38.68,-263.96 33.91,-252.13\"/>\n</g>\n<!-- 2 -->\n<g id=\"node3\" class=\"node\">\n<title>2</title>\n<text text-anchor=\"middle\" x=\"75\" y=\"-230.3\" font-family=\"Times,serif\" font-size=\"14.00\">s</text>\n</g>\n<!-- 0&#45;&#45;2 -->\n<g id=\"edge2\" class=\"edge\">\n<title>0&#45;&#45;2</title>\n<path fill=\"none\" stroke=\"black\" d=\"M53.75,-287.67C58.38,-276.2 67.67,-253.17 72.28,-241.75\"/>\n</g>\n<!-- 3 -->\n<g id=\"node4\" class=\"node\">\n<title>3</title>\n</g>\n<!-- 2&#45;&#45;3 -->\n<g id=\"edge3\" class=\"edge\">\n<title>2&#45;&#45;3</title>\n<path fill=\"none\" stroke=\"lightgreen\" d=\"M72.7,-226.29C69.09,-215.75 61.97,-194.99 56.87,-180.12\"/>\n</g>\n<!-- 4 -->\n<g id=\"node5\" class=\"node\">\n<title>4</title>\n<text text-anchor=\"middle\" x=\"99\" y=\"-158.3\" font-family=\"Times,serif\" font-size=\"14.00\">s</text>\n</g>\n<!-- 2&#45;&#45;4 -->\n<g id=\"edge4\" class=\"edge\">\n<title>2&#45;&#45;4</title>\n<path fill=\"none\" stroke=\"black\" d=\"M77.3,-226.29C81.9,-212.87 92.18,-182.9 96.74,-169.59\"/>\n</g>\n<!-- 5 -->\n<g id=\"node6\" class=\"node\">\n<title>5</title>\n<text text-anchor=\"middle\" x=\"74\" y=\"-86.3\" font-family=\"Times,serif\" font-size=\"14.00\">*</text>\n</g>\n<!-- 4&#45;&#45;5 -->\n<g id=\"edge5\" class=\"edge\">\n<title>4&#45;&#45;5</title>\n<path fill=\"none\" stroke=\"lightgreen\" d=\"M96.6,-154.29C92.84,-143.75 85.42,-122.99 80.11,-108.12\"/>\n</g>\n<!-- 6 -->\n<g id=\"node7\" class=\"node\">\n<title>6</title>\n<text text-anchor=\"middle\" x=\"123\" y=\"-86.3\" font-family=\"Times,serif\" font-size=\"14.00\">o</text>\n</g>\n<!-- 4&#45;&#45;6 -->\n<g id=\"edge6\" class=\"edge\">\n<title>4&#45;&#45;6</title>\n<path fill=\"none\" stroke=\"black\" d=\"M101.3,-154.29C105.9,-140.87 116.18,-110.9 120.74,-97.59\"/>\n</g>\n<!-- 7 -->\n<g id=\"node8\" class=\"node\">\n<title>7</title>\n</g>\n<!-- 6&#45;&#45;7 -->\n<g id=\"edge7\" class=\"edge\">\n<title>6&#45;&#45;7</title>\n<path fill=\"none\" stroke=\"lightgreen\" d=\"M119.55,-82.29C114.13,-71.75 103.45,-50.99 95.8,-36.12\"/>\n</g>\n<!-- 8 -->\n<g id=\"node9\" class=\"node\">\n<title>8</title>\n</g>\n<!-- 6&#45;&#45;8 -->\n<g id=\"edge8\" class=\"edge\">\n<title>6&#45;&#45;8</title>\n<path fill=\"none\" stroke=\"lightgreen\" d=\"M126.45,-82.29C131.87,-71.75 142.55,-50.99 150.2,-36.12\"/>\n</g>\n</g>\n</svg>\n</div></td><td style=\"border-top:hidden;border-bottom:hidden;\"><div align=\"center\" style=\"\"><?xml version=\"1.0\" encoding=\"UTF-8\" standalone=\"no\"?>\n<!DOCTYPE svg PUBLIC \"-//W3C//DTD SVG 1.1//EN\"\n \"http://www.w3.org/Graphics/SVG/1.1/DTD/svg11.dtd\">\n<!-- Generated by graphviz version 2.44.1 (20200629.0846)\n -->\n<!-- Pages: 1 -->\n<svg width=\"170pt\" height=\"239pt\"\n viewBox=\"0.00 0.00 170.00 239.00\" xmlns=\"http://www.w3.org/2000/svg\" xmlns:xlink=\"http://www.w3.org/1999/xlink\">\n<g id=\"graph0\" class=\"graph\" transform=\"scale(1 1) rotate(0) translate(4 235)\">\n<polygon fill=\"white\" stroke=\"transparent\" points=\"-4,4 -4,-235 166,-235 166,4 -4,4\"/>\n<!-- 0 -->\n<g id=\"node1\" class=\"node\">\n<title>0</title>\n<text text-anchor=\"middle\" x=\"51\" y=\"-219.8\" font-family=\"Times,serif\" font-size=\"14.00\">s</text>\n</g>\n<!-- 1 -->\n<g id=\"node2\" class=\"node\">\n<title>1</title>\n</g>\n<!-- 0&#45;&#45;1 -->\n<g id=\"edge1\" class=\"edge\">\n<title>0&#45;&#45;1</title>\n<path fill=\"none\" stroke=\"lightgreen\" d=\"M48.25,-215.67C44.77,-207.07 38.68,-191.96 33.91,-180.13\"/>\n</g>\n<!-- 2 -->\n<g id=\"node3\" class=\"node\">\n<title>2</title>\n<text text-anchor=\"middle\" x=\"75\" y=\"-158.3\" font-family=\"Times,serif\" font-size=\"14.00\">s</text>\n</g>\n<!-- 0&#45;&#45;2 -->\n<g id=\"edge2\" class=\"edge\">\n<title>0&#45;&#45;2</title>\n<path fill=\"none\" stroke=\"black\" d=\"M53.75,-215.67C58.38,-204.2 67.67,-181.17 72.28,-169.75\"/>\n</g>\n<!-- 3 -->\n<g id=\"node4\" class=\"node\">\n<title>3</title>\n</g>\n<!-- 2&#45;&#45;3 -->\n<g id=\"edge3\" class=\"edge\">\n<title>2&#45;&#45;3</title>\n<path fill=\"none\" stroke=\"lightgreen\" d=\"M72.6,-154.29C68.84,-143.75 61.42,-122.99 56.11,-108.12\"/>\n</g>\n<!-- 4 -->\n<g id=\"node5\" class=\"node\">\n<title>4</title>\n<text text-anchor=\"middle\" x=\"99\" y=\"-86.3\" font-family=\"Times,serif\" font-size=\"14.00\">o</text>\n</g>\n<!-- 2&#45;&#45;4 -->\n<g id=\"edge4\" class=\"edge\">\n<title>2&#45;&#45;4</title>\n<path fill=\"none\" stroke=\"black\" d=\"M77.3,-154.29C81.9,-140.87 92.18,-110.9 96.74,-97.59\"/>\n</g>\n<!-- 5 -->\n<g id=\"node6\" class=\"node\">\n<title>5</title>\n</g>\n<!-- 4&#45;&#45;5 -->\n<g id=\"edge5\" class=\"edge\">\n<title>4&#45;&#45;5</title>\n<path fill=\"none\" stroke=\"lightgreen\" d=\"M95.55,-82.29C90.13,-71.75 79.45,-50.99 71.8,-36.12\"/>\n</g>\n<!-- 6 -->\n<g id=\"node7\" class=\"node\">\n<title>6</title>\n</g>\n<!-- 4&#45;&#45;6 -->\n<g id=\"edge6\" class=\"edge\">\n<title>4&#45;&#45;6</title>\n<path fill=\"none\" stroke=\"lightgreen\" d=\"M102.45,-82.29C107.87,-71.75 118.55,-50.99 126.2,-36.12\"/>\n</g>\n</g>\n</svg>\n</div></td></tr></table>"
     },
     "metadata": {},
     "output_type": "display_data"
    }
   ],
   "source": [
    "display_diff_class(3, 5)"
   ],
   "metadata": {
    "collapsed": false,
    "pycharm": {
     "name": "#%%\n"
    }
   }
  },
  {
   "cell_type": "code",
   "execution_count": null,
   "outputs": [],
   "source": [
    "for i in filter(lambda x: x[1][:2] == (3, 3), diff):\n",
    "    display(i[1][2])"
   ],
   "metadata": {
    "collapsed": false,
    "pycharm": {
     "name": "#%%\n"
    }
   }
  },
  {
   "cell_type": "code",
   "execution_count": null,
   "outputs": [],
   "source": [
    "for i in filter(lambda x: x[1][:2] == (4, 0), diff):\n",
    "    display(i[1][2])"
   ],
   "metadata": {
    "collapsed": false,
    "pycharm": {
     "name": "#%%\n"
    }
   }
  },
  {
   "cell_type": "code",
   "execution_count": null,
   "outputs": [],
   "source": [
    "minus"
   ],
   "metadata": {
    "collapsed": false,
    "pycharm": {
     "name": "#%%\n"
    }
   }
  },
  {
   "cell_type": "code",
   "execution_count": null,
   "outputs": [],
   "source": [
    "plus"
   ],
   "metadata": {
    "collapsed": false,
    "pycharm": {
     "name": "#%%\n"
    }
   }
  },
  {
   "cell_type": "code",
   "execution_count": 25,
   "outputs": [],
   "source": [],
   "metadata": {
    "collapsed": false,
    "pycharm": {
     "name": "#%%\n"
    }
   }
  },
  {
   "cell_type": "code",
   "execution_count": 26,
   "outputs": [
    {
     "data": {
      "text/plain": "<l, l, l, o, , , *, , >",
      "text/html": "<?xml version=\"1.0\" encoding=\"UTF-8\" standalone=\"no\"?>\n<!DOCTYPE svg PUBLIC \"-//W3C//DTD SVG 1.1//EN\"\n \"http://www.w3.org/Graphics/SVG/1.1/DTD/svg11.dtd\">\n<!-- Generated by graphviz version 2.44.1 (20200629.0846)\n -->\n<!-- Pages: 1 -->\n<svg width=\"178pt\" height=\"288pt\"\n viewBox=\"0.00 0.00 177.80 288.00\" xmlns=\"http://www.w3.org/2000/svg\" xmlns:xlink=\"http://www.w3.org/1999/xlink\">\n<g id=\"graph0\" class=\"graph\" transform=\"scale(0.93 0.93) rotate(0) translate(4 307)\">\n<polygon fill=\"white\" stroke=\"transparent\" points=\"-4,4 -4,-307 188,-307 188,4 -4,4\"/>\n<!-- 0 -->\n<g id=\"node1\" class=\"node\">\n<title>0</title>\n<text text-anchor=\"middle\" x=\"133\" y=\"-291.8\" font-family=\"Times,serif\" font-size=\"14.00\">l</text>\n</g>\n<!-- 1 -->\n<g id=\"node2\" class=\"node\">\n<title>1</title>\n<text text-anchor=\"middle\" x=\"110\" y=\"-230.3\" font-family=\"Times,serif\" font-size=\"14.00\">l</text>\n</g>\n<!-- 0&#45;&#45;1 -->\n<g id=\"edge1\" class=\"edge\">\n<title>0&#45;&#45;1</title>\n<path fill=\"none\" stroke=\"black\" d=\"M130.88,-289.01C126.47,-277.62 116.39,-251.54 112.05,-240.31\"/>\n</g>\n<!-- 8 -->\n<g id=\"node9\" class=\"node\">\n<title>8</title>\n</g>\n<!-- 0&#45;&#45;8 -->\n<g id=\"edge8\" class=\"edge\">\n<title>0&#45;&#45;8</title>\n<path fill=\"none\" stroke=\"lightgreen\" d=\"M135.05,-289.43C138.33,-281.28 144.94,-264.9 150.05,-252.23\"/>\n</g>\n<!-- 2 -->\n<g id=\"node3\" class=\"node\">\n<title>2</title>\n<text text-anchor=\"middle\" x=\"87\" y=\"-158.3\" font-family=\"Times,serif\" font-size=\"14.00\">l</text>\n</g>\n<!-- 1&#45;&#45;2 -->\n<g id=\"edge2\" class=\"edge\">\n<title>1&#45;&#45;2</title>\n<path fill=\"none\" stroke=\"black\" d=\"M107.88,-226.54C103.47,-213.14 93.39,-182.46 89.05,-169.24\"/>\n</g>\n<!-- 7 -->\n<g id=\"node8\" class=\"node\">\n<title>7</title>\n</g>\n<!-- 1&#45;&#45;7 -->\n<g id=\"edge7\" class=\"edge\">\n<title>1&#45;&#45;7</title>\n<path fill=\"none\" stroke=\"lightgreen\" d=\"M112.05,-227.03C115.56,-216.78 122.87,-195.47 128.09,-180.25\"/>\n</g>\n<!-- 3 -->\n<g id=\"node4\" class=\"node\">\n<title>3</title>\n<text text-anchor=\"middle\" x=\"63\" y=\"-86.3\" font-family=\"Times,serif\" font-size=\"14.00\">o</text>\n</g>\n<!-- 2&#45;&#45;3 -->\n<g id=\"edge3\" class=\"edge\">\n<title>2&#45;&#45;3</title>\n<path fill=\"none\" stroke=\"black\" d=\"M84.95,-155.03C80.51,-142.07 70,-111.42 65.32,-97.77\"/>\n</g>\n<!-- 6 -->\n<g id=\"node7\" class=\"node\">\n<title>6</title>\n<text text-anchor=\"middle\" x=\"112\" y=\"-86.3\" font-family=\"Times,serif\" font-size=\"14.00\">*</text>\n</g>\n<!-- 2&#45;&#45;6 -->\n<g id=\"edge6\" class=\"edge\">\n<title>2&#45;&#45;6</title>\n<path fill=\"none\" stroke=\"lightgreen\" d=\"M89.13,-155.03C92.79,-144.78 100.4,-123.47 105.84,-108.25\"/>\n</g>\n<!-- 4 -->\n<g id=\"node5\" class=\"node\">\n<title>4</title>\n</g>\n<!-- 3&#45;&#45;4 -->\n<g id=\"edge4\" class=\"edge\">\n<title>3&#45;&#45;4</title>\n<path fill=\"none\" stroke=\"lightgreen\" d=\"M59.55,-82.29C54.13,-71.75 43.45,-50.99 35.8,-36.12\"/>\n</g>\n<!-- 5 -->\n<g id=\"node6\" class=\"node\">\n<title>5</title>\n</g>\n<!-- 3&#45;&#45;5 -->\n<g id=\"edge5\" class=\"edge\">\n<title>3&#45;&#45;5</title>\n<path fill=\"none\" stroke=\"lightgreen\" d=\"M66.45,-82.29C71.87,-71.75 82.55,-50.99 90.2,-36.12\"/>\n</g>\n</g>\n</svg>\n",
      "image/svg+xml": "<?xml version=\"1.0\" encoding=\"UTF-8\" standalone=\"no\"?>\n<!DOCTYPE svg PUBLIC \"-//W3C//DTD SVG 1.1//EN\"\n \"http://www.w3.org/Graphics/SVG/1.1/DTD/svg11.dtd\">\n<!-- Generated by graphviz version 2.44.1 (20200629.0846)\n -->\n<!-- Pages: 1 -->\n<svg width=\"178pt\" height=\"288pt\"\n viewBox=\"0.00 0.00 177.80 288.00\" xmlns=\"http://www.w3.org/2000/svg\" xmlns:xlink=\"http://www.w3.org/1999/xlink\">\n<g id=\"graph0\" class=\"graph\" transform=\"scale(0.93 0.93) rotate(0) translate(4 307)\">\n<polygon fill=\"white\" stroke=\"transparent\" points=\"-4,4 -4,-307 188,-307 188,4 -4,4\"/>\n<!-- 0 -->\n<g id=\"node1\" class=\"node\">\n<title>0</title>\n<text text-anchor=\"middle\" x=\"133\" y=\"-291.8\" font-family=\"Times,serif\" font-size=\"14.00\">l</text>\n</g>\n<!-- 1 -->\n<g id=\"node2\" class=\"node\">\n<title>1</title>\n<text text-anchor=\"middle\" x=\"110\" y=\"-230.3\" font-family=\"Times,serif\" font-size=\"14.00\">l</text>\n</g>\n<!-- 0&#45;&#45;1 -->\n<g id=\"edge1\" class=\"edge\">\n<title>0&#45;&#45;1</title>\n<path fill=\"none\" stroke=\"black\" d=\"M130.88,-289.01C126.47,-277.62 116.39,-251.54 112.05,-240.31\"/>\n</g>\n<!-- 8 -->\n<g id=\"node9\" class=\"node\">\n<title>8</title>\n</g>\n<!-- 0&#45;&#45;8 -->\n<g id=\"edge8\" class=\"edge\">\n<title>0&#45;&#45;8</title>\n<path fill=\"none\" stroke=\"lightgreen\" d=\"M135.05,-289.43C138.33,-281.28 144.94,-264.9 150.05,-252.23\"/>\n</g>\n<!-- 2 -->\n<g id=\"node3\" class=\"node\">\n<title>2</title>\n<text text-anchor=\"middle\" x=\"87\" y=\"-158.3\" font-family=\"Times,serif\" font-size=\"14.00\">l</text>\n</g>\n<!-- 1&#45;&#45;2 -->\n<g id=\"edge2\" class=\"edge\">\n<title>1&#45;&#45;2</title>\n<path fill=\"none\" stroke=\"black\" d=\"M107.88,-226.54C103.47,-213.14 93.39,-182.46 89.05,-169.24\"/>\n</g>\n<!-- 7 -->\n<g id=\"node8\" class=\"node\">\n<title>7</title>\n</g>\n<!-- 1&#45;&#45;7 -->\n<g id=\"edge7\" class=\"edge\">\n<title>1&#45;&#45;7</title>\n<path fill=\"none\" stroke=\"lightgreen\" d=\"M112.05,-227.03C115.56,-216.78 122.87,-195.47 128.09,-180.25\"/>\n</g>\n<!-- 3 -->\n<g id=\"node4\" class=\"node\">\n<title>3</title>\n<text text-anchor=\"middle\" x=\"63\" y=\"-86.3\" font-family=\"Times,serif\" font-size=\"14.00\">o</text>\n</g>\n<!-- 2&#45;&#45;3 -->\n<g id=\"edge3\" class=\"edge\">\n<title>2&#45;&#45;3</title>\n<path fill=\"none\" stroke=\"black\" d=\"M84.95,-155.03C80.51,-142.07 70,-111.42 65.32,-97.77\"/>\n</g>\n<!-- 6 -->\n<g id=\"node7\" class=\"node\">\n<title>6</title>\n<text text-anchor=\"middle\" x=\"112\" y=\"-86.3\" font-family=\"Times,serif\" font-size=\"14.00\">*</text>\n</g>\n<!-- 2&#45;&#45;6 -->\n<g id=\"edge6\" class=\"edge\">\n<title>2&#45;&#45;6</title>\n<path fill=\"none\" stroke=\"lightgreen\" d=\"M89.13,-155.03C92.79,-144.78 100.4,-123.47 105.84,-108.25\"/>\n</g>\n<!-- 4 -->\n<g id=\"node5\" class=\"node\">\n<title>4</title>\n</g>\n<!-- 3&#45;&#45;4 -->\n<g id=\"edge4\" class=\"edge\">\n<title>3&#45;&#45;4</title>\n<path fill=\"none\" stroke=\"lightgreen\" d=\"M59.55,-82.29C54.13,-71.75 43.45,-50.99 35.8,-36.12\"/>\n</g>\n<!-- 5 -->\n<g id=\"node6\" class=\"node\">\n<title>5</title>\n</g>\n<!-- 3&#45;&#45;5 -->\n<g id=\"edge5\" class=\"edge\">\n<title>3&#45;&#45;5</title>\n<path fill=\"none\" stroke=\"lightgreen\" d=\"M66.45,-82.29C71.87,-71.75 82.55,-50.99 90.2,-36.12\"/>\n</g>\n</g>\n</svg>\n"
     },
     "execution_count": 26,
     "metadata": {},
     "output_type": "execute_result"
    }
   ],
   "source": [
    "diff[0][1][2]"
   ],
   "metadata": {
    "collapsed": false,
    "pycharm": {
     "name": "#%%\n"
    }
   }
  },
  {
   "cell_type": "code",
   "execution_count": 328,
   "outputs": [
    {
     "data": {
      "text/plain": "<a, l, o, , , , o, , >",
      "text/html": "<?xml version=\"1.0\" encoding=\"UTF-8\" standalone=\"no\"?>\n<!DOCTYPE svg PUBLIC \"-//W3C//DTD SVG 1.1//EN\"\n \"http://www.w3.org/Graphics/SVG/1.1/DTD/svg11.dtd\">\n<!-- Generated by graphviz version 2.44.1 (20200629.0846)\n -->\n<!-- Pages: 1 -->\n<svg width=\"288pt\" height=\"216pt\"\n viewBox=\"0.00 0.00 288.00 215.75\" xmlns=\"http://www.w3.org/2000/svg\" xmlns:xlink=\"http://www.w3.org/1999/xlink\">\n<g id=\"graph0\" class=\"graph\" transform=\"scale(0.99 0.99) rotate(0) translate(4 214)\">\n<polygon fill=\"white\" stroke=\"transparent\" points=\"-4,4 -4,-214 287,-214 287,4 -4,4\"/>\n<!-- 0 -->\n<g id=\"node1\" class=\"node\">\n<title>0</title>\n<text text-anchor=\"middle\" x=\"148\" y=\"-198.8\" font-family=\"Times,serif\" font-size=\"14.00\">a</text>\n</g>\n<!-- 1 -->\n<g id=\"node2\" class=\"node\">\n<title>1</title>\n<text text-anchor=\"middle\" x=\"112\" y=\"-147.8\" font-family=\"Times,serif\" font-size=\"14.00\">l</text>\n</g>\n<!-- 0&#45;&#45;1 -->\n<g id=\"edge1\" class=\"edge\">\n<title>0&#45;&#45;1</title>\n<path fill=\"none\" stroke=\"black\" d=\"M144.42,-196.62C137.02,-186.55 120.24,-163.72 114.21,-155.51\"/>\n</g>\n<!-- 6 -->\n<g id=\"node7\" class=\"node\">\n<title>6</title>\n<text text-anchor=\"middle\" x=\"184\" y=\"-147.8\" font-family=\"Times,serif\" font-size=\"14.00\">o</text>\n</g>\n<!-- 0&#45;&#45;6 -->\n<g id=\"edge6\" class=\"edge\">\n<title>0&#45;&#45;6</title>\n<path fill=\"none\" stroke=\"black\" d=\"M151.58,-196.62C158.48,-187.23 173.54,-166.73 180.43,-157.36\"/>\n</g>\n<!-- 2 -->\n<g id=\"node3\" class=\"node\">\n<title>2</title>\n<text text-anchor=\"middle\" x=\"63\" y=\"-86.3\" font-family=\"Times,serif\" font-size=\"14.00\">o</text>\n</g>\n<!-- 1&#45;&#45;2 -->\n<g id=\"edge2\" class=\"edge\">\n<title>1&#45;&#45;2</title>\n<path fill=\"none\" stroke=\"black\" d=\"M109.68,-147.85C103.89,-141.23 88.37,-123.37 76,-108 72.74,-103.95 69.16,-99.24 66.58,-95.81\"/>\n</g>\n<!-- 5 -->\n<g id=\"node6\" class=\"node\">\n<title>5</title>\n</g>\n<!-- 1&#45;&#45;5 -->\n<g id=\"edge5\" class=\"edge\">\n<title>1&#45;&#45;5</title>\n<path fill=\"none\" stroke=\"lightgreen\" d=\"M112,-143.67C112,-135.07 112,-119.96 112,-108.13\"/>\n</g>\n<!-- 3 -->\n<g id=\"node4\" class=\"node\">\n<title>3</title>\n</g>\n<!-- 2&#45;&#45;3 -->\n<g id=\"edge3\" class=\"edge\">\n<title>2&#45;&#45;3</title>\n<path fill=\"none\" stroke=\"lightgreen\" d=\"M59.55,-82.29C54.13,-71.75 43.45,-50.99 35.8,-36.12\"/>\n</g>\n<!-- 4 -->\n<g id=\"node5\" class=\"node\">\n<title>4</title>\n</g>\n<!-- 2&#45;&#45;4 -->\n<g id=\"edge4\" class=\"edge\">\n<title>2&#45;&#45;4</title>\n<path fill=\"none\" stroke=\"lightgreen\" d=\"M66.45,-82.29C71.87,-71.75 82.55,-50.99 90.2,-36.12\"/>\n</g>\n<!-- 7 -->\n<g id=\"node8\" class=\"node\">\n<title>7</title>\n</g>\n<!-- 6&#45;&#45;7 -->\n<g id=\"edge7\" class=\"edge\">\n<title>6&#45;&#45;7</title>\n<path fill=\"none\" stroke=\"lightgreen\" d=\"M184,-143.67C184,-135.07 184,-119.96 184,-108.13\"/>\n</g>\n<!-- 8 -->\n<g id=\"node9\" class=\"node\">\n<title>8</title>\n</g>\n<!-- 6&#45;&#45;8 -->\n<g id=\"edge8\" class=\"edge\">\n<title>6&#45;&#45;8</title>\n<path fill=\"none\" stroke=\"lightgreen\" d=\"M187.87,-147.3C196.63,-140.06 218.52,-121.97 235.14,-108.24\"/>\n</g>\n</g>\n</svg>\n",
      "image/svg+xml": "<?xml version=\"1.0\" encoding=\"UTF-8\" standalone=\"no\"?>\n<!DOCTYPE svg PUBLIC \"-//W3C//DTD SVG 1.1//EN\"\n \"http://www.w3.org/Graphics/SVG/1.1/DTD/svg11.dtd\">\n<!-- Generated by graphviz version 2.44.1 (20200629.0846)\n -->\n<!-- Pages: 1 -->\n<svg width=\"288pt\" height=\"216pt\"\n viewBox=\"0.00 0.00 288.00 215.75\" xmlns=\"http://www.w3.org/2000/svg\" xmlns:xlink=\"http://www.w3.org/1999/xlink\">\n<g id=\"graph0\" class=\"graph\" transform=\"scale(0.99 0.99) rotate(0) translate(4 214)\">\n<polygon fill=\"white\" stroke=\"transparent\" points=\"-4,4 -4,-214 287,-214 287,4 -4,4\"/>\n<!-- 0 -->\n<g id=\"node1\" class=\"node\">\n<title>0</title>\n<text text-anchor=\"middle\" x=\"148\" y=\"-198.8\" font-family=\"Times,serif\" font-size=\"14.00\">a</text>\n</g>\n<!-- 1 -->\n<g id=\"node2\" class=\"node\">\n<title>1</title>\n<text text-anchor=\"middle\" x=\"112\" y=\"-147.8\" font-family=\"Times,serif\" font-size=\"14.00\">l</text>\n</g>\n<!-- 0&#45;&#45;1 -->\n<g id=\"edge1\" class=\"edge\">\n<title>0&#45;&#45;1</title>\n<path fill=\"none\" stroke=\"black\" d=\"M144.42,-196.62C137.02,-186.55 120.24,-163.72 114.21,-155.51\"/>\n</g>\n<!-- 6 -->\n<g id=\"node7\" class=\"node\">\n<title>6</title>\n<text text-anchor=\"middle\" x=\"184\" y=\"-147.8\" font-family=\"Times,serif\" font-size=\"14.00\">o</text>\n</g>\n<!-- 0&#45;&#45;6 -->\n<g id=\"edge6\" class=\"edge\">\n<title>0&#45;&#45;6</title>\n<path fill=\"none\" stroke=\"black\" d=\"M151.58,-196.62C158.48,-187.23 173.54,-166.73 180.43,-157.36\"/>\n</g>\n<!-- 2 -->\n<g id=\"node3\" class=\"node\">\n<title>2</title>\n<text text-anchor=\"middle\" x=\"63\" y=\"-86.3\" font-family=\"Times,serif\" font-size=\"14.00\">o</text>\n</g>\n<!-- 1&#45;&#45;2 -->\n<g id=\"edge2\" class=\"edge\">\n<title>1&#45;&#45;2</title>\n<path fill=\"none\" stroke=\"black\" d=\"M109.68,-147.85C103.89,-141.23 88.37,-123.37 76,-108 72.74,-103.95 69.16,-99.24 66.58,-95.81\"/>\n</g>\n<!-- 5 -->\n<g id=\"node6\" class=\"node\">\n<title>5</title>\n</g>\n<!-- 1&#45;&#45;5 -->\n<g id=\"edge5\" class=\"edge\">\n<title>1&#45;&#45;5</title>\n<path fill=\"none\" stroke=\"lightgreen\" d=\"M112,-143.67C112,-135.07 112,-119.96 112,-108.13\"/>\n</g>\n<!-- 3 -->\n<g id=\"node4\" class=\"node\">\n<title>3</title>\n</g>\n<!-- 2&#45;&#45;3 -->\n<g id=\"edge3\" class=\"edge\">\n<title>2&#45;&#45;3</title>\n<path fill=\"none\" stroke=\"lightgreen\" d=\"M59.55,-82.29C54.13,-71.75 43.45,-50.99 35.8,-36.12\"/>\n</g>\n<!-- 4 -->\n<g id=\"node5\" class=\"node\">\n<title>4</title>\n</g>\n<!-- 2&#45;&#45;4 -->\n<g id=\"edge4\" class=\"edge\">\n<title>2&#45;&#45;4</title>\n<path fill=\"none\" stroke=\"lightgreen\" d=\"M66.45,-82.29C71.87,-71.75 82.55,-50.99 90.2,-36.12\"/>\n</g>\n<!-- 7 -->\n<g id=\"node8\" class=\"node\">\n<title>7</title>\n</g>\n<!-- 6&#45;&#45;7 -->\n<g id=\"edge7\" class=\"edge\">\n<title>6&#45;&#45;7</title>\n<path fill=\"none\" stroke=\"lightgreen\" d=\"M184,-143.67C184,-135.07 184,-119.96 184,-108.13\"/>\n</g>\n<!-- 8 -->\n<g id=\"node9\" class=\"node\">\n<title>8</title>\n</g>\n<!-- 6&#45;&#45;8 -->\n<g id=\"edge8\" class=\"edge\">\n<title>6&#45;&#45;8</title>\n<path fill=\"none\" stroke=\"lightgreen\" d=\"M187.87,-147.3C196.63,-140.06 218.52,-121.97 235.14,-108.24\"/>\n</g>\n</g>\n</svg>\n"
     },
     "execution_count": 328,
     "metadata": {},
     "output_type": "execute_result"
    }
   ],
   "source": [
    "diff[1][1][2]"
   ],
   "metadata": {
    "collapsed": false,
    "pycharm": {
     "name": "#%%\n"
    }
   }
  },
  {
   "cell_type": "code",
   "execution_count": 308,
   "outputs": [
    {
     "data": {
      "text/plain": "110"
     },
     "execution_count": 308,
     "metadata": {},
     "output_type": "execute_result"
    }
   ],
   "source": [
    "len(diff)"
   ],
   "metadata": {
    "collapsed": false,
    "pycharm": {
     "name": "#%%\n"
    }
   }
  },
  {
   "cell_type": "code",
   "execution_count": 122,
   "outputs": [],
   "source": [
    "diff = diff_sorted(minus, plus, key=lambda x: str(x[2]), first_label=\"+\", second_label=\"-\")"
   ],
   "metadata": {
    "collapsed": false,
    "pycharm": {
     "name": "#%%\n"
    }
   }
  },
  {
   "cell_type": "code",
   "execution_count": 130,
   "outputs": [
    {
     "name": "stdout",
     "output_type": "stream",
     "text": [
      "('+', (3, 2, <a, a, o, , , o, , , o, , s, *, >))\n"
     ]
    }
   ],
   "source": [
    "print(next(diff))"
   ],
   "metadata": {
    "collapsed": false,
    "pycharm": {
     "name": "#%%\n"
    }
   }
  },
  {
   "cell_type": "code",
   "execution_count": 131,
   "outputs": [],
   "source": [
    "diff = list(diff_sorted(minus, plus, key=lambda x: str(x[2]), first_label=\"+\", second_label=\"-\"))"
   ],
   "metadata": {
    "collapsed": false,
    "pycharm": {
     "name": "#%%\n"
    }
   }
  },
  {
   "cell_type": "code",
   "execution_count": 132,
   "outputs": [
    {
     "data": {
      "text/plain": "962"
     },
     "execution_count": 132,
     "metadata": {},
     "output_type": "execute_result"
    }
   ],
   "source": [
    "len(diff)"
   ],
   "metadata": {
    "collapsed": false,
    "pycharm": {
     "name": "#%%\n"
    }
   }
  },
  {
   "cell_type": "code",
   "execution_count": 65,
   "outputs": [
    {
     "name": "stdout",
     "output_type": "stream",
     "text": [
      "[('-', (4, 0, <a, a, l, o, *, , , o, , , o, , >)), ('-', (4, 0, <a, a, l, o, , *, , o, , , o, , >)), ('-', (4, 0, <a, a, o, , , l, o, *, , , o, , >)), ('-', (4, 0, <a, a, o, , , l, o, , *, , o, , >)), ('-', (4, 0, <a, a, o, , , o, , , l, o, *, , >)), ('-', (4, 0, <a, a, o, , , o, , , l, o, , *, >)), ('+', (3, 0, <a, a, o, , , o, , , o, , l, , *>)), ('+', (3, 2, <a, a, o, , , o, , , o, , s, *, >)), ('+', (3, 1, <a, a, o, , , o, , , o, , s, , *>)), ('+', (3, 0, <a, a, o, , , o, , , o, l, , *, >))]\n"
     ]
    }
   ],
   "source": [
    "print(diff[:10])"
   ],
   "metadata": {
    "collapsed": false,
    "pycharm": {
     "name": "#%%\n"
    }
   }
  },
  {
   "cell_type": "code",
   "execution_count": 66,
   "outputs": [
    {
     "data": {
      "text/plain": "961"
     },
     "execution_count": 66,
     "metadata": {},
     "output_type": "execute_result"
    }
   ],
   "source": [
    "len(diff)"
   ],
   "metadata": {
    "collapsed": false,
    "pycharm": {
     "name": "#%%\n"
    }
   }
  },
  {
   "cell_type": "code",
   "execution_count": 54,
   "outputs": [
    {
     "data": {
      "text/plain": "<a, a, l, o, , , *, o, , , o, , >",
      "text/html": "<?xml version=\"1.0\" encoding=\"UTF-8\" standalone=\"no\"?>\n<!DOCTYPE svg PUBLIC \"-//W3C//DTD SVG 1.1//EN\"\n \"http://www.w3.org/Graphics/SVG/1.1/DTD/svg11.dtd\">\n<!-- Generated by graphviz version 2.44.1 (20200629.0846)\n -->\n<!-- Pages: 1 -->\n<svg width=\"288pt\" height=\"246pt\"\n viewBox=\"0.00 0.00 288.00 245.65\" xmlns=\"http://www.w3.org/2000/svg\" xmlns:xlink=\"http://www.w3.org/1999/xlink\">\n<g id=\"graph0\" class=\"graph\" transform=\"scale(0.85 0.85) rotate(0) translate(4 286)\">\n<polygon fill=\"white\" stroke=\"transparent\" points=\"-4,4 -4,-286 336,-286 336,4 -4,4\"/>\n<!-- 0 -->\n<g id=\"node1\" class=\"node\">\n<title>0</title>\n<text text-anchor=\"middle\" x=\"208\" y=\"-270.8\" font-family=\"Times,serif\" font-size=\"14.00\">a</text>\n</g>\n<!-- 1 -->\n<g id=\"node2\" class=\"node\">\n<title>1</title>\n<text text-anchor=\"middle\" x=\"184\" y=\"-219.8\" font-family=\"Times,serif\" font-size=\"14.00\">a</text>\n</g>\n<!-- 0&#45;&#45;1 -->\n<g id=\"edge1\" class=\"edge\">\n<title>0&#45;&#45;1</title>\n<path fill=\"none\" stroke=\"black\" d=\"M204.66,-266.69C200.08,-257.33 191.88,-240.59 187.31,-231.26\"/>\n</g>\n<!-- 10 -->\n<g id=\"node11\" class=\"node\">\n<title>10</title>\n<text text-anchor=\"middle\" x=\"233\" y=\"-219.8\" font-family=\"Times,serif\" font-size=\"14.00\">o</text>\n</g>\n<!-- 0&#45;&#45;10 -->\n<g id=\"edge10\" class=\"edge\">\n<title>0&#45;&#45;10</title>\n<path fill=\"none\" stroke=\"black\" d=\"M211.48,-266.69C216.25,-257.33 224.79,-240.59 229.55,-231.26\"/>\n</g>\n<!-- 2 -->\n<g id=\"node3\" class=\"node\">\n<title>2</title>\n<text text-anchor=\"middle\" x=\"112\" y=\"-158.3\" font-family=\"Times,serif\" font-size=\"14.00\">l</text>\n</g>\n<!-- 1&#45;&#45;2 -->\n<g id=\"edge2\" class=\"edge\">\n<title>1&#45;&#45;2</title>\n<path fill=\"none\" stroke=\"black\" d=\"M180.13,-219.3C167.04,-208.49 124.7,-173.49 114.31,-164.91\"/>\n</g>\n<!-- 7 -->\n<g id=\"node8\" class=\"node\">\n<title>7</title>\n<text text-anchor=\"middle\" x=\"184\" y=\"-158.3\" font-family=\"Times,serif\" font-size=\"14.00\">o</text>\n</g>\n<!-- 1&#45;&#45;7 -->\n<g id=\"edge7\" class=\"edge\">\n<title>1&#45;&#45;7</title>\n<path fill=\"none\" stroke=\"black\" d=\"M184,-215.67C184,-204.2 184,-181.17 184,-169.75\"/>\n</g>\n<!-- 3 -->\n<g id=\"node4\" class=\"node\">\n<title>3</title>\n<text text-anchor=\"middle\" x=\"63\" y=\"-86.3\" font-family=\"Times,serif\" font-size=\"14.00\">o</text>\n</g>\n<!-- 2&#45;&#45;3 -->\n<g id=\"edge3\" class=\"edge\">\n<title>2&#45;&#45;3</title>\n<path fill=\"none\" stroke=\"black\" d=\"M109.89,-157.99C102.27,-147.11 76.08,-109.68 66.52,-96.03\"/>\n</g>\n<!-- 6 -->\n<g id=\"node7\" class=\"node\">\n<title>6</title>\n<text text-anchor=\"middle\" x=\"112\" y=\"-86.3\" font-family=\"Times,serif\" font-size=\"14.00\">*</text>\n</g>\n<!-- 2&#45;&#45;6 -->\n<g id=\"edge6\" class=\"edge\">\n<title>2&#45;&#45;6</title>\n<path fill=\"none\" stroke=\"lightgreen\" d=\"M112,-154.29C112,-143.75 112,-122.99 112,-108.12\"/>\n</g>\n<!-- 4 -->\n<g id=\"node5\" class=\"node\">\n<title>4</title>\n</g>\n<!-- 3&#45;&#45;4 -->\n<g id=\"edge4\" class=\"edge\">\n<title>3&#45;&#45;4</title>\n<path fill=\"none\" stroke=\"lightgreen\" d=\"M59.55,-82.29C54.13,-71.75 43.45,-50.99 35.8,-36.12\"/>\n</g>\n<!-- 5 -->\n<g id=\"node6\" class=\"node\">\n<title>5</title>\n</g>\n<!-- 3&#45;&#45;5 -->\n<g id=\"edge5\" class=\"edge\">\n<title>3&#45;&#45;5</title>\n<path fill=\"none\" stroke=\"lightgreen\" d=\"M66.45,-82.29C71.87,-71.75 82.55,-50.99 90.2,-36.12\"/>\n</g>\n<!-- 8 -->\n<g id=\"node9\" class=\"node\">\n<title>8</title>\n</g>\n<!-- 7&#45;&#45;8 -->\n<g id=\"edge8\" class=\"edge\">\n<title>7&#45;&#45;8</title>\n<path fill=\"none\" stroke=\"lightgreen\" d=\"M184,-154.29C184,-143.75 184,-122.99 184,-108.12\"/>\n</g>\n<!-- 9 -->\n<g id=\"node10\" class=\"node\">\n<title>9</title>\n</g>\n<!-- 7&#45;&#45;9 -->\n<g id=\"edge9\" class=\"edge\">\n<title>7&#45;&#45;9</title>\n<path fill=\"none\" stroke=\"lightgreen\" d=\"M187.63,-155.74C190.12,-152.28 193.57,-147.71 197,-144 208.87,-131.16 223.48,-118.01 235.19,-108.03\"/>\n</g>\n<!-- 11 -->\n<g id=\"node12\" class=\"node\">\n<title>11</title>\n</g>\n<!-- 10&#45;&#45;11 -->\n<g id=\"edge11\" class=\"edge\">\n<title>10&#45;&#45;11</title>\n<path fill=\"none\" stroke=\"lightgreen\" d=\"M233,-215.67C233,-207.07 233,-191.96 233,-180.13\"/>\n</g>\n<!-- 12 -->\n<g id=\"node13\" class=\"node\">\n<title>12</title>\n</g>\n<!-- 10&#45;&#45;12 -->\n<g id=\"edge12\" class=\"edge\">\n<title>10&#45;&#45;12</title>\n<path fill=\"none\" stroke=\"lightgreen\" d=\"M236.87,-219.3C245.63,-212.06 267.52,-193.97 284.14,-180.24\"/>\n</g>\n</g>\n</svg>\n",
      "image/svg+xml": "<?xml version=\"1.0\" encoding=\"UTF-8\" standalone=\"no\"?>\n<!DOCTYPE svg PUBLIC \"-//W3C//DTD SVG 1.1//EN\"\n \"http://www.w3.org/Graphics/SVG/1.1/DTD/svg11.dtd\">\n<!-- Generated by graphviz version 2.44.1 (20200629.0846)\n -->\n<!-- Pages: 1 -->\n<svg width=\"288pt\" height=\"246pt\"\n viewBox=\"0.00 0.00 288.00 245.65\" xmlns=\"http://www.w3.org/2000/svg\" xmlns:xlink=\"http://www.w3.org/1999/xlink\">\n<g id=\"graph0\" class=\"graph\" transform=\"scale(0.85 0.85) rotate(0) translate(4 286)\">\n<polygon fill=\"white\" stroke=\"transparent\" points=\"-4,4 -4,-286 336,-286 336,4 -4,4\"/>\n<!-- 0 -->\n<g id=\"node1\" class=\"node\">\n<title>0</title>\n<text text-anchor=\"middle\" x=\"208\" y=\"-270.8\" font-family=\"Times,serif\" font-size=\"14.00\">a</text>\n</g>\n<!-- 1 -->\n<g id=\"node2\" class=\"node\">\n<title>1</title>\n<text text-anchor=\"middle\" x=\"184\" y=\"-219.8\" font-family=\"Times,serif\" font-size=\"14.00\">a</text>\n</g>\n<!-- 0&#45;&#45;1 -->\n<g id=\"edge1\" class=\"edge\">\n<title>0&#45;&#45;1</title>\n<path fill=\"none\" stroke=\"black\" d=\"M204.66,-266.69C200.08,-257.33 191.88,-240.59 187.31,-231.26\"/>\n</g>\n<!-- 10 -->\n<g id=\"node11\" class=\"node\">\n<title>10</title>\n<text text-anchor=\"middle\" x=\"233\" y=\"-219.8\" font-family=\"Times,serif\" font-size=\"14.00\">o</text>\n</g>\n<!-- 0&#45;&#45;10 -->\n<g id=\"edge10\" class=\"edge\">\n<title>0&#45;&#45;10</title>\n<path fill=\"none\" stroke=\"black\" d=\"M211.48,-266.69C216.25,-257.33 224.79,-240.59 229.55,-231.26\"/>\n</g>\n<!-- 2 -->\n<g id=\"node3\" class=\"node\">\n<title>2</title>\n<text text-anchor=\"middle\" x=\"112\" y=\"-158.3\" font-family=\"Times,serif\" font-size=\"14.00\">l</text>\n</g>\n<!-- 1&#45;&#45;2 -->\n<g id=\"edge2\" class=\"edge\">\n<title>1&#45;&#45;2</title>\n<path fill=\"none\" stroke=\"black\" d=\"M180.13,-219.3C167.04,-208.49 124.7,-173.49 114.31,-164.91\"/>\n</g>\n<!-- 7 -->\n<g id=\"node8\" class=\"node\">\n<title>7</title>\n<text text-anchor=\"middle\" x=\"184\" y=\"-158.3\" font-family=\"Times,serif\" font-size=\"14.00\">o</text>\n</g>\n<!-- 1&#45;&#45;7 -->\n<g id=\"edge7\" class=\"edge\">\n<title>1&#45;&#45;7</title>\n<path fill=\"none\" stroke=\"black\" d=\"M184,-215.67C184,-204.2 184,-181.17 184,-169.75\"/>\n</g>\n<!-- 3 -->\n<g id=\"node4\" class=\"node\">\n<title>3</title>\n<text text-anchor=\"middle\" x=\"63\" y=\"-86.3\" font-family=\"Times,serif\" font-size=\"14.00\">o</text>\n</g>\n<!-- 2&#45;&#45;3 -->\n<g id=\"edge3\" class=\"edge\">\n<title>2&#45;&#45;3</title>\n<path fill=\"none\" stroke=\"black\" d=\"M109.89,-157.99C102.27,-147.11 76.08,-109.68 66.52,-96.03\"/>\n</g>\n<!-- 6 -->\n<g id=\"node7\" class=\"node\">\n<title>6</title>\n<text text-anchor=\"middle\" x=\"112\" y=\"-86.3\" font-family=\"Times,serif\" font-size=\"14.00\">*</text>\n</g>\n<!-- 2&#45;&#45;6 -->\n<g id=\"edge6\" class=\"edge\">\n<title>2&#45;&#45;6</title>\n<path fill=\"none\" stroke=\"lightgreen\" d=\"M112,-154.29C112,-143.75 112,-122.99 112,-108.12\"/>\n</g>\n<!-- 4 -->\n<g id=\"node5\" class=\"node\">\n<title>4</title>\n</g>\n<!-- 3&#45;&#45;4 -->\n<g id=\"edge4\" class=\"edge\">\n<title>3&#45;&#45;4</title>\n<path fill=\"none\" stroke=\"lightgreen\" d=\"M59.55,-82.29C54.13,-71.75 43.45,-50.99 35.8,-36.12\"/>\n</g>\n<!-- 5 -->\n<g id=\"node6\" class=\"node\">\n<title>5</title>\n</g>\n<!-- 3&#45;&#45;5 -->\n<g id=\"edge5\" class=\"edge\">\n<title>3&#45;&#45;5</title>\n<path fill=\"none\" stroke=\"lightgreen\" d=\"M66.45,-82.29C71.87,-71.75 82.55,-50.99 90.2,-36.12\"/>\n</g>\n<!-- 8 -->\n<g id=\"node9\" class=\"node\">\n<title>8</title>\n</g>\n<!-- 7&#45;&#45;8 -->\n<g id=\"edge8\" class=\"edge\">\n<title>7&#45;&#45;8</title>\n<path fill=\"none\" stroke=\"lightgreen\" d=\"M184,-154.29C184,-143.75 184,-122.99 184,-108.12\"/>\n</g>\n<!-- 9 -->\n<g id=\"node10\" class=\"node\">\n<title>9</title>\n</g>\n<!-- 7&#45;&#45;9 -->\n<g id=\"edge9\" class=\"edge\">\n<title>7&#45;&#45;9</title>\n<path fill=\"none\" stroke=\"lightgreen\" d=\"M187.63,-155.74C190.12,-152.28 193.57,-147.71 197,-144 208.87,-131.16 223.48,-118.01 235.19,-108.03\"/>\n</g>\n<!-- 11 -->\n<g id=\"node12\" class=\"node\">\n<title>11</title>\n</g>\n<!-- 10&#45;&#45;11 -->\n<g id=\"edge11\" class=\"edge\">\n<title>10&#45;&#45;11</title>\n<path fill=\"none\" stroke=\"lightgreen\" d=\"M233,-215.67C233,-207.07 233,-191.96 233,-180.13\"/>\n</g>\n<!-- 12 -->\n<g id=\"node13\" class=\"node\">\n<title>12</title>\n</g>\n<!-- 10&#45;&#45;12 -->\n<g id=\"edge12\" class=\"edge\">\n<title>10&#45;&#45;12</title>\n<path fill=\"none\" stroke=\"lightgreen\" d=\"M236.87,-219.3C245.63,-212.06 267.52,-193.97 284.14,-180.24\"/>\n</g>\n</g>\n</svg>\n"
     },
     "execution_count": 54,
     "metadata": {},
     "output_type": "execute_result"
    }
   ],
   "source": [
    "minus[0][2]\n"
   ],
   "metadata": {
    "collapsed": false,
    "pycharm": {
     "name": "#%%\n"
    }
   }
  }
 ],
 "metadata": {
  "kernelspec": {
   "display_name": "Python 3",
   "language": "python",
   "name": "python3"
  },
  "language_info": {
   "codemirror_mode": {
    "name": "ipython",
    "version": 2
   },
   "file_extension": ".py",
   "mimetype": "text/x-python",
   "name": "python",
   "nbconvert_exporter": "python",
   "pygments_lexer": "ipython2",
   "version": "2.7.6"
  }
 },
 "nbformat": 4,
 "nbformat_minor": 0
}